{
 "cells": [
  {
   "cell_type": "markdown",
   "id": "8e44768a",
   "metadata": {},
   "source": [
    "# Loan Approval/Eligibility Problem\n",
    "\n",
    "## 1. Problem Definition\n",
    "In a statement,\n",
    "> we will build an automated machine learning model to predict the repaying capacity of applicants.\n",
    "\n",
    "\n",
    "## 2. Evaluation\n",
    "> To achieve a passing grade, the accuracy of the model has to be at least 70%\n",
    "\n",
    "## 3. Features\n",
    "Here, we get to see different information about each of the features in the data.\n",
    "\n",
    "**Create data dictionary**\n",
    "\n",
    "1. Loan ID: A unique identifier for the loan information.\n",
    "2. Customer ID: A unique identifier for the loan customer.\n",
    "3. Loan Status: A categorical variable indicating if the loan was given to the customer.\n",
    "4. Current Loan Amount: This is the loan amount that was either completely paid off, or the amount that was defaulted. This data is for previous loan.\n",
    "5. Term: A categorical variable indicating if it is a short term or long term loan.\n",
    "6. Credit Score: A value between 0 and 800 indicating the riskiness of the borrower's credit history.\n",
    "7. Years in current job: A categorical variable indicating how many years the customer has been in current job.\n",
    "8. Home Ownership: Categorical variable indicating howme ownership. Values are \"Rent\", \"Home Mortgage\", and \"Own\". If the value is OWN, then the customer is a home owner with no mortgage.\n",
    "9. Annual Income: The customer's annual invome.\n",
    "10. Purpose: A description of the purpose of the loan.\n",
    "11. Monthly Debt: The customer's monthly payment for their existing loans\n",
    "12. Years of Credit History: The years since the first entry in the customer's credit history.\n",
    "13. Months since last delinquent: Months since the last loan deliquent payment.\n",
    "14. Number of open accounts: The total number of open credit cards\n",
    "15. Number of Credit Problems: The number of credit problems in the customer records.\n",
    "16. Current Credit Balance: The current total debt for the customer.\n",
    "17. Maximum Open Credit: The maximum credit limit for all credit sources.\n",
    "18. Bankruptcies: The number of bankrupt\n",
    "19. Tax Liens: The number of tax liens."
   ]
  },
  {
   "cell_type": "code",
   "execution_count": 1,
   "id": "1bfa6ca0",
   "metadata": {},
   "outputs": [],
   "source": [
    "import pandas as pd\n",
    "import numpy as np\n",
    "%matplotlib inline\n",
    "import seaborn as sns\n",
    "from scipy.stats import boxcox\n",
    "import matplotlib.pyplot as plt\n",
    "import statistics"
   ]
  },
  {
   "cell_type": "code",
   "execution_count": 2,
   "id": "797fb085",
   "metadata": {},
   "outputs": [],
   "source": [
    "# pip install fancyimpute"
   ]
  },
  {
   "cell_type": "code",
   "execution_count": 3,
   "id": "5b09eedf",
   "metadata": {},
   "outputs": [
    {
     "data": {
      "text/html": [
       "<div>\n",
       "<style scoped>\n",
       "    .dataframe tbody tr th:only-of-type {\n",
       "        vertical-align: middle;\n",
       "    }\n",
       "\n",
       "    .dataframe tbody tr th {\n",
       "        vertical-align: top;\n",
       "    }\n",
       "\n",
       "    .dataframe thead th {\n",
       "        text-align: right;\n",
       "    }\n",
       "</style>\n",
       "<table border=\"1\" class=\"dataframe\">\n",
       "  <thead>\n",
       "    <tr style=\"text-align: right;\">\n",
       "      <th></th>\n",
       "      <th>Loan ID</th>\n",
       "      <th>Customer ID</th>\n",
       "      <th>Loan Status</th>\n",
       "      <th>Current Loan Amount</th>\n",
       "      <th>Term</th>\n",
       "      <th>Credit Score</th>\n",
       "      <th>Years in current job</th>\n",
       "      <th>Home Ownership</th>\n",
       "      <th>Annual Income</th>\n",
       "      <th>Purpose</th>\n",
       "      <th>Monthly Debt</th>\n",
       "      <th>Years of Credit History</th>\n",
       "      <th>Months since last delinquent</th>\n",
       "      <th>Number of Open Accounts</th>\n",
       "      <th>Number of Credit Problems</th>\n",
       "      <th>Current Credit Balance</th>\n",
       "      <th>Maximum Open Credit</th>\n",
       "      <th>Bankruptcies</th>\n",
       "      <th>Tax Liens</th>\n",
       "    </tr>\n",
       "  </thead>\n",
       "  <tbody>\n",
       "    <tr>\n",
       "      <th>0</th>\n",
       "      <td>6cf51492-02a2-423e-b93d-676f05b9ad53</td>\n",
       "      <td>7c202b37-2add-44e8-9aea-d5b119aea935</td>\n",
       "      <td>Loan Refused</td>\n",
       "      <td>12232</td>\n",
       "      <td>Short Term</td>\n",
       "      <td>7280.0</td>\n",
       "      <td>&lt; 1 year</td>\n",
       "      <td>Rent</td>\n",
       "      <td>46643.0</td>\n",
       "      <td>Debt Consolidation</td>\n",
       "      <td>777.39</td>\n",
       "      <td>18.0</td>\n",
       "      <td>10.0</td>\n",
       "      <td>12</td>\n",
       "      <td>0</td>\n",
       "      <td>6762</td>\n",
       "      <td>7946</td>\n",
       "      <td>0.0</td>\n",
       "      <td>0.0</td>\n",
       "    </tr>\n",
       "    <tr>\n",
       "      <th>1</th>\n",
       "      <td>552e7ade-4292-4354-9ff9-c48031697d72</td>\n",
       "      <td>e7217b0a-07ac-47dd-b379-577b5a35b7c6</td>\n",
       "      <td>Loan Refused</td>\n",
       "      <td>25014</td>\n",
       "      <td>Long Term</td>\n",
       "      <td>7330.0</td>\n",
       "      <td>10+ years</td>\n",
       "      <td>Home Mortgage</td>\n",
       "      <td>81099.0</td>\n",
       "      <td>Debt Consolidation</td>\n",
       "      <td>892.09</td>\n",
       "      <td>26.7</td>\n",
       "      <td>NaN</td>\n",
       "      <td>14</td>\n",
       "      <td>0</td>\n",
       "      <td>35706</td>\n",
       "      <td>77961</td>\n",
       "      <td>0.0</td>\n",
       "      <td>0.0</td>\n",
       "    </tr>\n",
       "    <tr>\n",
       "      <th>2</th>\n",
       "      <td>9b5e32b3-8d76-4801-afc8-d729d5a2e6b9</td>\n",
       "      <td>0a62fc41-16c8-40b5-92ff-9e4b763ce714</td>\n",
       "      <td>Loan Refused</td>\n",
       "      <td>16117</td>\n",
       "      <td>Short Term</td>\n",
       "      <td>7240.0</td>\n",
       "      <td>9 years</td>\n",
       "      <td>Home Mortgage</td>\n",
       "      <td>60438.0</td>\n",
       "      <td>Home Improvements</td>\n",
       "      <td>1244.02</td>\n",
       "      <td>16.7</td>\n",
       "      <td>32.0</td>\n",
       "      <td>11</td>\n",
       "      <td>1</td>\n",
       "      <td>11275</td>\n",
       "      <td>14815</td>\n",
       "      <td>1.0</td>\n",
       "      <td>0.0</td>\n",
       "    </tr>\n",
       "    <tr>\n",
       "      <th>3</th>\n",
       "      <td>5419b7c7-ac11-4be2-a8a7-b131fb6d6dbe</td>\n",
       "      <td>30f36c59-5182-4482-8bbb-5b736849ae43</td>\n",
       "      <td>Loan Refused</td>\n",
       "      <td>11716</td>\n",
       "      <td>Short Term</td>\n",
       "      <td>7400.0</td>\n",
       "      <td>3 years</td>\n",
       "      <td>Rent</td>\n",
       "      <td>34171.0</td>\n",
       "      <td>Debt Consolidation</td>\n",
       "      <td>990.94</td>\n",
       "      <td>10.0</td>\n",
       "      <td>NaN</td>\n",
       "      <td>21</td>\n",
       "      <td>0</td>\n",
       "      <td>7009</td>\n",
       "      <td>43533</td>\n",
       "      <td>0.0</td>\n",
       "      <td>0.0</td>\n",
       "    </tr>\n",
       "    <tr>\n",
       "      <th>4</th>\n",
       "      <td>1450910f-9495-4fc9-afaf-9bdf4b9821df</td>\n",
       "      <td>70c26012-bba5-42c0-8dcb-75295ada31bb</td>\n",
       "      <td>Loan Refused</td>\n",
       "      <td>9789</td>\n",
       "      <td>Long Term</td>\n",
       "      <td>6860.0</td>\n",
       "      <td>10+ years</td>\n",
       "      <td>Home Mortgage</td>\n",
       "      <td>47003.0</td>\n",
       "      <td>Home Improvements</td>\n",
       "      <td>503.71</td>\n",
       "      <td>16.7</td>\n",
       "      <td>25.0</td>\n",
       "      <td>13</td>\n",
       "      <td>1</td>\n",
       "      <td>16913</td>\n",
       "      <td>19553</td>\n",
       "      <td>1.0</td>\n",
       "      <td>0.0</td>\n",
       "    </tr>\n",
       "  </tbody>\n",
       "</table>\n",
       "</div>"
      ],
      "text/plain": [
       "                                Loan ID                           Customer ID  \\\n",
       "0  6cf51492-02a2-423e-b93d-676f05b9ad53  7c202b37-2add-44e8-9aea-d5b119aea935   \n",
       "1  552e7ade-4292-4354-9ff9-c48031697d72  e7217b0a-07ac-47dd-b379-577b5a35b7c6   \n",
       "2  9b5e32b3-8d76-4801-afc8-d729d5a2e6b9  0a62fc41-16c8-40b5-92ff-9e4b763ce714   \n",
       "3  5419b7c7-ac11-4be2-a8a7-b131fb6d6dbe  30f36c59-5182-4482-8bbb-5b736849ae43   \n",
       "4  1450910f-9495-4fc9-afaf-9bdf4b9821df  70c26012-bba5-42c0-8dcb-75295ada31bb   \n",
       "\n",
       "    Loan Status  Current Loan Amount        Term  Credit Score  \\\n",
       "0  Loan Refused                12232  Short Term        7280.0   \n",
       "1  Loan Refused                25014   Long Term        7330.0   \n",
       "2  Loan Refused                16117  Short Term        7240.0   \n",
       "3  Loan Refused                11716  Short Term        7400.0   \n",
       "4  Loan Refused                 9789   Long Term        6860.0   \n",
       "\n",
       "  Years in current job Home Ownership  Annual Income             Purpose  \\\n",
       "0             < 1 year           Rent        46643.0  Debt Consolidation   \n",
       "1            10+ years  Home Mortgage        81099.0  Debt Consolidation   \n",
       "2              9 years  Home Mortgage        60438.0   Home Improvements   \n",
       "3              3 years           Rent        34171.0  Debt Consolidation   \n",
       "4            10+ years  Home Mortgage        47003.0   Home Improvements   \n",
       "\n",
       "  Monthly Debt  Years of Credit History  Months since last delinquent  \\\n",
       "0       777.39                     18.0                          10.0   \n",
       "1       892.09                     26.7                           NaN   \n",
       "2      1244.02                     16.7                          32.0   \n",
       "3       990.94                     10.0                           NaN   \n",
       "4       503.71                     16.7                          25.0   \n",
       "\n",
       "   Number of Open Accounts  Number of Credit Problems  Current Credit Balance  \\\n",
       "0                       12                          0                    6762   \n",
       "1                       14                          0                   35706   \n",
       "2                       11                          1                   11275   \n",
       "3                       21                          0                    7009   \n",
       "4                       13                          1                   16913   \n",
       "\n",
       "  Maximum Open Credit  Bankruptcies  Tax Liens  \n",
       "0                7946           0.0        0.0  \n",
       "1               77961           0.0        0.0  \n",
       "2               14815           1.0        0.0  \n",
       "3               43533           0.0        0.0  \n",
       "4               19553           1.0        0.0  "
      ]
     },
     "execution_count": 3,
     "metadata": {},
     "output_type": "execute_result"
    }
   ],
   "source": [
    "df = pd.read_csv(\"LoansTrainingSetV2.csv\", low_memory=False)\n",
    "df.head()"
   ]
  },
  {
   "cell_type": "code",
   "execution_count": 4,
   "id": "270e236f",
   "metadata": {},
   "outputs": [
    {
     "data": {
      "text/html": [
       "<div>\n",
       "<style scoped>\n",
       "    .dataframe tbody tr th:only-of-type {\n",
       "        vertical-align: middle;\n",
       "    }\n",
       "\n",
       "    .dataframe tbody tr th {\n",
       "        vertical-align: top;\n",
       "    }\n",
       "\n",
       "    .dataframe thead th {\n",
       "        text-align: right;\n",
       "    }\n",
       "</style>\n",
       "<table border=\"1\" class=\"dataframe\">\n",
       "  <thead>\n",
       "    <tr style=\"text-align: right;\">\n",
       "      <th></th>\n",
       "      <th>0</th>\n",
       "      <th>1</th>\n",
       "      <th>2</th>\n",
       "      <th>3</th>\n",
       "      <th>4</th>\n",
       "    </tr>\n",
       "  </thead>\n",
       "  <tbody>\n",
       "    <tr>\n",
       "      <th>Loan ID</th>\n",
       "      <td>6cf51492-02a2-423e-b93d-676f05b9ad53</td>\n",
       "      <td>552e7ade-4292-4354-9ff9-c48031697d72</td>\n",
       "      <td>9b5e32b3-8d76-4801-afc8-d729d5a2e6b9</td>\n",
       "      <td>5419b7c7-ac11-4be2-a8a7-b131fb6d6dbe</td>\n",
       "      <td>1450910f-9495-4fc9-afaf-9bdf4b9821df</td>\n",
       "    </tr>\n",
       "    <tr>\n",
       "      <th>Customer ID</th>\n",
       "      <td>7c202b37-2add-44e8-9aea-d5b119aea935</td>\n",
       "      <td>e7217b0a-07ac-47dd-b379-577b5a35b7c6</td>\n",
       "      <td>0a62fc41-16c8-40b5-92ff-9e4b763ce714</td>\n",
       "      <td>30f36c59-5182-4482-8bbb-5b736849ae43</td>\n",
       "      <td>70c26012-bba5-42c0-8dcb-75295ada31bb</td>\n",
       "    </tr>\n",
       "    <tr>\n",
       "      <th>Loan Status</th>\n",
       "      <td>Loan Refused</td>\n",
       "      <td>Loan Refused</td>\n",
       "      <td>Loan Refused</td>\n",
       "      <td>Loan Refused</td>\n",
       "      <td>Loan Refused</td>\n",
       "    </tr>\n",
       "    <tr>\n",
       "      <th>Current Loan Amount</th>\n",
       "      <td>12232</td>\n",
       "      <td>25014</td>\n",
       "      <td>16117</td>\n",
       "      <td>11716</td>\n",
       "      <td>9789</td>\n",
       "    </tr>\n",
       "    <tr>\n",
       "      <th>Term</th>\n",
       "      <td>Short Term</td>\n",
       "      <td>Long Term</td>\n",
       "      <td>Short Term</td>\n",
       "      <td>Short Term</td>\n",
       "      <td>Long Term</td>\n",
       "    </tr>\n",
       "    <tr>\n",
       "      <th>Credit Score</th>\n",
       "      <td>7280.0</td>\n",
       "      <td>7330.0</td>\n",
       "      <td>7240.0</td>\n",
       "      <td>7400.0</td>\n",
       "      <td>6860.0</td>\n",
       "    </tr>\n",
       "    <tr>\n",
       "      <th>Years in current job</th>\n",
       "      <td>&lt; 1 year</td>\n",
       "      <td>10+ years</td>\n",
       "      <td>9 years</td>\n",
       "      <td>3 years</td>\n",
       "      <td>10+ years</td>\n",
       "    </tr>\n",
       "    <tr>\n",
       "      <th>Home Ownership</th>\n",
       "      <td>Rent</td>\n",
       "      <td>Home Mortgage</td>\n",
       "      <td>Home Mortgage</td>\n",
       "      <td>Rent</td>\n",
       "      <td>Home Mortgage</td>\n",
       "    </tr>\n",
       "    <tr>\n",
       "      <th>Annual Income</th>\n",
       "      <td>46643.0</td>\n",
       "      <td>81099.0</td>\n",
       "      <td>60438.0</td>\n",
       "      <td>34171.0</td>\n",
       "      <td>47003.0</td>\n",
       "    </tr>\n",
       "    <tr>\n",
       "      <th>Purpose</th>\n",
       "      <td>Debt Consolidation</td>\n",
       "      <td>Debt Consolidation</td>\n",
       "      <td>Home Improvements</td>\n",
       "      <td>Debt Consolidation</td>\n",
       "      <td>Home Improvements</td>\n",
       "    </tr>\n",
       "    <tr>\n",
       "      <th>Monthly Debt</th>\n",
       "      <td>777.39</td>\n",
       "      <td>892.09</td>\n",
       "      <td>1244.02</td>\n",
       "      <td>990.94</td>\n",
       "      <td>503.71</td>\n",
       "    </tr>\n",
       "    <tr>\n",
       "      <th>Years of Credit History</th>\n",
       "      <td>18.0</td>\n",
       "      <td>26.7</td>\n",
       "      <td>16.7</td>\n",
       "      <td>10.0</td>\n",
       "      <td>16.7</td>\n",
       "    </tr>\n",
       "    <tr>\n",
       "      <th>Months since last delinquent</th>\n",
       "      <td>10.0</td>\n",
       "      <td>NaN</td>\n",
       "      <td>32.0</td>\n",
       "      <td>NaN</td>\n",
       "      <td>25.0</td>\n",
       "    </tr>\n",
       "    <tr>\n",
       "      <th>Number of Open Accounts</th>\n",
       "      <td>12</td>\n",
       "      <td>14</td>\n",
       "      <td>11</td>\n",
       "      <td>21</td>\n",
       "      <td>13</td>\n",
       "    </tr>\n",
       "    <tr>\n",
       "      <th>Number of Credit Problems</th>\n",
       "      <td>0</td>\n",
       "      <td>0</td>\n",
       "      <td>1</td>\n",
       "      <td>0</td>\n",
       "      <td>1</td>\n",
       "    </tr>\n",
       "    <tr>\n",
       "      <th>Current Credit Balance</th>\n",
       "      <td>6762</td>\n",
       "      <td>35706</td>\n",
       "      <td>11275</td>\n",
       "      <td>7009</td>\n",
       "      <td>16913</td>\n",
       "    </tr>\n",
       "    <tr>\n",
       "      <th>Maximum Open Credit</th>\n",
       "      <td>7946</td>\n",
       "      <td>77961</td>\n",
       "      <td>14815</td>\n",
       "      <td>43533</td>\n",
       "      <td>19553</td>\n",
       "    </tr>\n",
       "    <tr>\n",
       "      <th>Bankruptcies</th>\n",
       "      <td>0.0</td>\n",
       "      <td>0.0</td>\n",
       "      <td>1.0</td>\n",
       "      <td>0.0</td>\n",
       "      <td>1.0</td>\n",
       "    </tr>\n",
       "    <tr>\n",
       "      <th>Tax Liens</th>\n",
       "      <td>0.0</td>\n",
       "      <td>0.0</td>\n",
       "      <td>0.0</td>\n",
       "      <td>0.0</td>\n",
       "      <td>0.0</td>\n",
       "    </tr>\n",
       "  </tbody>\n",
       "</table>\n",
       "</div>"
      ],
      "text/plain": [
       "                                                                 0  \\\n",
       "Loan ID                       6cf51492-02a2-423e-b93d-676f05b9ad53   \n",
       "Customer ID                   7c202b37-2add-44e8-9aea-d5b119aea935   \n",
       "Loan Status                                           Loan Refused   \n",
       "Current Loan Amount                                          12232   \n",
       "Term                                                    Short Term   \n",
       "Credit Score                                                7280.0   \n",
       "Years in current job                                      < 1 year   \n",
       "Home Ownership                                                Rent   \n",
       "Annual Income                                              46643.0   \n",
       "Purpose                                         Debt Consolidation   \n",
       "Monthly Debt                                                777.39   \n",
       "Years of Credit History                                       18.0   \n",
       "Months since last delinquent                                  10.0   \n",
       "Number of Open Accounts                                         12   \n",
       "Number of Credit Problems                                        0   \n",
       "Current Credit Balance                                        6762   \n",
       "Maximum Open Credit                                           7946   \n",
       "Bankruptcies                                                   0.0   \n",
       "Tax Liens                                                      0.0   \n",
       "\n",
       "                                                                 1  \\\n",
       "Loan ID                       552e7ade-4292-4354-9ff9-c48031697d72   \n",
       "Customer ID                   e7217b0a-07ac-47dd-b379-577b5a35b7c6   \n",
       "Loan Status                                           Loan Refused   \n",
       "Current Loan Amount                                          25014   \n",
       "Term                                                     Long Term   \n",
       "Credit Score                                                7330.0   \n",
       "Years in current job                                     10+ years   \n",
       "Home Ownership                                       Home Mortgage   \n",
       "Annual Income                                              81099.0   \n",
       "Purpose                                         Debt Consolidation   \n",
       "Monthly Debt                                                892.09   \n",
       "Years of Credit History                                       26.7   \n",
       "Months since last delinquent                                   NaN   \n",
       "Number of Open Accounts                                         14   \n",
       "Number of Credit Problems                                        0   \n",
       "Current Credit Balance                                       35706   \n",
       "Maximum Open Credit                                          77961   \n",
       "Bankruptcies                                                   0.0   \n",
       "Tax Liens                                                      0.0   \n",
       "\n",
       "                                                                 2  \\\n",
       "Loan ID                       9b5e32b3-8d76-4801-afc8-d729d5a2e6b9   \n",
       "Customer ID                   0a62fc41-16c8-40b5-92ff-9e4b763ce714   \n",
       "Loan Status                                           Loan Refused   \n",
       "Current Loan Amount                                          16117   \n",
       "Term                                                    Short Term   \n",
       "Credit Score                                                7240.0   \n",
       "Years in current job                                       9 years   \n",
       "Home Ownership                                       Home Mortgage   \n",
       "Annual Income                                              60438.0   \n",
       "Purpose                                          Home Improvements   \n",
       "Monthly Debt                                               1244.02   \n",
       "Years of Credit History                                       16.7   \n",
       "Months since last delinquent                                  32.0   \n",
       "Number of Open Accounts                                         11   \n",
       "Number of Credit Problems                                        1   \n",
       "Current Credit Balance                                       11275   \n",
       "Maximum Open Credit                                          14815   \n",
       "Bankruptcies                                                   1.0   \n",
       "Tax Liens                                                      0.0   \n",
       "\n",
       "                                                                 3  \\\n",
       "Loan ID                       5419b7c7-ac11-4be2-a8a7-b131fb6d6dbe   \n",
       "Customer ID                   30f36c59-5182-4482-8bbb-5b736849ae43   \n",
       "Loan Status                                           Loan Refused   \n",
       "Current Loan Amount                                          11716   \n",
       "Term                                                    Short Term   \n",
       "Credit Score                                                7400.0   \n",
       "Years in current job                                       3 years   \n",
       "Home Ownership                                                Rent   \n",
       "Annual Income                                              34171.0   \n",
       "Purpose                                         Debt Consolidation   \n",
       "Monthly Debt                                                990.94   \n",
       "Years of Credit History                                       10.0   \n",
       "Months since last delinquent                                   NaN   \n",
       "Number of Open Accounts                                         21   \n",
       "Number of Credit Problems                                        0   \n",
       "Current Credit Balance                                        7009   \n",
       "Maximum Open Credit                                          43533   \n",
       "Bankruptcies                                                   0.0   \n",
       "Tax Liens                                                      0.0   \n",
       "\n",
       "                                                                 4  \n",
       "Loan ID                       1450910f-9495-4fc9-afaf-9bdf4b9821df  \n",
       "Customer ID                   70c26012-bba5-42c0-8dcb-75295ada31bb  \n",
       "Loan Status                                           Loan Refused  \n",
       "Current Loan Amount                                           9789  \n",
       "Term                                                     Long Term  \n",
       "Credit Score                                                6860.0  \n",
       "Years in current job                                     10+ years  \n",
       "Home Ownership                                       Home Mortgage  \n",
       "Annual Income                                              47003.0  \n",
       "Purpose                                          Home Improvements  \n",
       "Monthly Debt                                                503.71  \n",
       "Years of Credit History                                       16.7  \n",
       "Months since last delinquent                                  25.0  \n",
       "Number of Open Accounts                                         13  \n",
       "Number of Credit Problems                                        1  \n",
       "Current Credit Balance                                       16913  \n",
       "Maximum Open Credit                                          19553  \n",
       "Bankruptcies                                                   1.0  \n",
       "Tax Liens                                                      0.0  "
      ]
     },
     "execution_count": 4,
     "metadata": {},
     "output_type": "execute_result"
    }
   ],
   "source": [
    "df.head().T"
   ]
  },
  {
   "cell_type": "code",
   "execution_count": 5,
   "id": "1a3cc0a6",
   "metadata": {},
   "outputs": [
    {
     "data": {
      "text/plain": [
       "(111107, 19)"
      ]
     },
     "execution_count": 5,
     "metadata": {},
     "output_type": "execute_result"
    }
   ],
   "source": [
    "df.shape"
   ]
  },
  {
   "cell_type": "code",
   "execution_count": 6,
   "id": "a7e70b5c",
   "metadata": {},
   "outputs": [
    {
     "data": {
      "text/plain": [
       "111107"
      ]
     },
     "execution_count": 6,
     "metadata": {},
     "output_type": "execute_result"
    }
   ],
   "source": [
    "len(df)"
   ]
  },
  {
   "cell_type": "markdown",
   "id": "5181e120",
   "metadata": {},
   "source": [
    "## Exploratory Data Analysis(EDA)"
   ]
  },
  {
   "cell_type": "code",
   "execution_count": 7,
   "id": "7cb55fa0",
   "metadata": {},
   "outputs": [
    {
     "data": {
      "text/plain": [
       "Loan ID                             0\n",
       "Customer ID                         0\n",
       "Loan Status                         0\n",
       "Current Loan Amount                 0\n",
       "Term                                0\n",
       "Credit Score                    21338\n",
       "Years in current job             4693\n",
       "Home Ownership                      0\n",
       "Annual Income                   21338\n",
       "Purpose                             0\n",
       "Monthly Debt                        0\n",
       "Years of Credit History             0\n",
       "Months since last delinquent    59003\n",
       "Number of Open Accounts             0\n",
       "Number of Credit Problems           0\n",
       "Current Credit Balance              0\n",
       "Maximum Open Credit                 0\n",
       "Bankruptcies                      228\n",
       "Tax Liens                          11\n",
       "dtype: int64"
      ]
     },
     "execution_count": 7,
     "metadata": {},
     "output_type": "execute_result"
    }
   ],
   "source": [
    "df.isna().sum()"
   ]
  },
  {
   "cell_type": "code",
   "execution_count": 8,
   "id": "134700d3",
   "metadata": {},
   "outputs": [
    {
     "data": {
      "text/plain": [
       "(88910, 19)"
      ]
     },
     "execution_count": 8,
     "metadata": {},
     "output_type": "execute_result"
    }
   ],
   "source": [
    "# Drop the duplicates with respect to LOAN ID\n",
    "df.drop_duplicates(subset=\"Loan ID\", keep=\"first\", inplace=True)\n",
    "df.shape"
   ]
  },
  {
   "cell_type": "code",
   "execution_count": 9,
   "id": "dac5a896",
   "metadata": {},
   "outputs": [],
   "source": [
    "status = df[\"Loan Status\"].value_counts()"
   ]
  },
  {
   "cell_type": "code",
   "execution_count": 10,
   "id": "e89c17d2",
   "metadata": {},
   "outputs": [
    {
     "name": "stderr",
     "output_type": "stream",
     "text": [
      "C:\\Users\\oabas\\anaconda3\\lib\\site-packages\\seaborn\\_decorators.py:36: FutureWarning: Pass the following variables as keyword args: x, y. From version 0.12, the only valid positional argument will be `data`, and passing other arguments without an explicit keyword will result in an error or misinterpretation.\n",
      "  warnings.warn(\n"
     ]
    },
    {
     "data": {
      "image/png": "[encoded data removed]",
      "text/plain": [
       "<Figure size 720x360 with 1 Axes>"
      ]
     },
     "metadata": {
      "needs_background": "light"
     },
     "output_type": "display_data"
    }
   ],
   "source": [
    "plt.figure(figsize=(10,5))\n",
    "sns.barplot(status.index, status.values, alpha=0.8)\n",
    "plt.title('Loan Status distribution')\n",
    "plt.ylabel('Number of Occurrences', fontsize=12)\n",
    "plt.xlabel('Loan Status', fontsize=12)\n",
    "plt.show()"
   ]
  },
  {
   "cell_type": "markdown",
   "id": "b6f22a5c",
   "metadata": {},
   "source": [
    "### Removing Outliers"
   ]
  },
  {
   "cell_type": "code",
   "execution_count": 11,
   "id": "7bd706a1",
   "metadata": {
    "scrolled": true
   },
   "outputs": [
    {
     "data": {
      "text/html": [
       "<div>\n",
       "<style scoped>\n",
       "    .dataframe tbody tr th:only-of-type {\n",
       "        vertical-align: middle;\n",
       "    }\n",
       "\n",
       "    .dataframe tbody tr th {\n",
       "        vertical-align: top;\n",
       "    }\n",
       "\n",
       "    .dataframe thead th {\n",
       "        text-align: right;\n",
       "    }\n",
       "</style>\n",
       "<table border=\"1\" class=\"dataframe\">\n",
       "  <thead>\n",
       "    <tr style=\"text-align: right;\">\n",
       "      <th></th>\n",
       "      <th>count</th>\n",
       "      <th>mean</th>\n",
       "      <th>std</th>\n",
       "      <th>min</th>\n",
       "      <th>25%</th>\n",
       "      <th>50%</th>\n",
       "      <th>75%</th>\n",
       "      <th>max</th>\n",
       "    </tr>\n",
       "  </thead>\n",
       "  <tbody>\n",
       "    <tr>\n",
       "      <th>Current Loan Amount</th>\n",
       "      <td>88910.0</td>\n",
       "      <td>1.433878e+07</td>\n",
       "      <td>3.502996e+07</td>\n",
       "      <td>491.0</td>\n",
       "      <td>8283.0</td>\n",
       "      <td>14355.0</td>\n",
       "      <td>24485.00</td>\n",
       "      <td>99999999.0</td>\n",
       "    </tr>\n",
       "    <tr>\n",
       "      <th>Credit Score</th>\n",
       "      <td>67572.0</td>\n",
       "      <td>1.199200e+03</td>\n",
       "      <td>1.680814e+03</td>\n",
       "      <td>585.0</td>\n",
       "      <td>714.0</td>\n",
       "      <td>733.0</td>\n",
       "      <td>744.00</td>\n",
       "      <td>7510.0</td>\n",
       "    </tr>\n",
       "    <tr>\n",
       "      <th>Annual Income</th>\n",
       "      <td>67572.0</td>\n",
       "      <td>7.234575e+04</td>\n",
       "      <td>5.836101e+04</td>\n",
       "      <td>4033.0</td>\n",
       "      <td>44586.0</td>\n",
       "      <td>61494.0</td>\n",
       "      <td>86750.25</td>\n",
       "      <td>8713547.0</td>\n",
       "    </tr>\n",
       "    <tr>\n",
       "      <th>Years of Credit History</th>\n",
       "      <td>88910.0</td>\n",
       "      <td>1.831531e+01</td>\n",
       "      <td>7.049175e+00</td>\n",
       "      <td>3.6</td>\n",
       "      <td>13.5</td>\n",
       "      <td>17.0</td>\n",
       "      <td>21.80</td>\n",
       "      <td>70.5</td>\n",
       "    </tr>\n",
       "    <tr>\n",
       "      <th>Months since last delinquent</th>\n",
       "      <td>40404.0</td>\n",
       "      <td>3.508029e+01</td>\n",
       "      <td>2.200858e+01</td>\n",
       "      <td>0.0</td>\n",
       "      <td>16.0</td>\n",
       "      <td>32.0</td>\n",
       "      <td>51.00</td>\n",
       "      <td>176.0</td>\n",
       "    </tr>\n",
       "    <tr>\n",
       "      <th>Number of Open Accounts</th>\n",
       "      <td>88910.0</td>\n",
       "      <td>1.111035e+01</td>\n",
       "      <td>4.978461e+00</td>\n",
       "      <td>0.0</td>\n",
       "      <td>8.0</td>\n",
       "      <td>10.0</td>\n",
       "      <td>14.00</td>\n",
       "      <td>76.0</td>\n",
       "    </tr>\n",
       "    <tr>\n",
       "      <th>Number of Credit Problems</th>\n",
       "      <td>88910.0</td>\n",
       "      <td>1.604769e-01</td>\n",
       "      <td>4.737460e-01</td>\n",
       "      <td>0.0</td>\n",
       "      <td>0.0</td>\n",
       "      <td>0.0</td>\n",
       "      <td>0.00</td>\n",
       "      <td>15.0</td>\n",
       "    </tr>\n",
       "    <tr>\n",
       "      <th>Current Credit Balance</th>\n",
       "      <td>88910.0</td>\n",
       "      <td>1.543593e+04</td>\n",
       "      <td>1.965873e+04</td>\n",
       "      <td>0.0</td>\n",
       "      <td>5949.0</td>\n",
       "      <td>11039.0</td>\n",
       "      <td>19301.00</td>\n",
       "      <td>1730472.0</td>\n",
       "    </tr>\n",
       "    <tr>\n",
       "      <th>Bankruptcies</th>\n",
       "      <td>88718.0</td>\n",
       "      <td>1.126716e-01</td>\n",
       "      <td>3.433000e-01</td>\n",
       "      <td>0.0</td>\n",
       "      <td>0.0</td>\n",
       "      <td>0.0</td>\n",
       "      <td>0.00</td>\n",
       "      <td>7.0</td>\n",
       "    </tr>\n",
       "    <tr>\n",
       "      <th>Tax Liens</th>\n",
       "      <td>88902.0</td>\n",
       "      <td>2.822209e-02</td>\n",
       "      <td>2.575327e-01</td>\n",
       "      <td>0.0</td>\n",
       "      <td>0.0</td>\n",
       "      <td>0.0</td>\n",
       "      <td>0.00</td>\n",
       "      <td>15.0</td>\n",
       "    </tr>\n",
       "  </tbody>\n",
       "</table>\n",
       "</div>"
      ],
      "text/plain": [
       "                                count          mean           std     min  \\\n",
       "Current Loan Amount           88910.0  1.433878e+07  3.502996e+07   491.0   \n",
       "Credit Score                  67572.0  1.199200e+03  1.680814e+03   585.0   \n",
       "Annual Income                 67572.0  7.234575e+04  5.836101e+04  4033.0   \n",
       "Years of Credit History       88910.0  1.831531e+01  7.049175e+00     3.6   \n",
       "Months since last delinquent  40404.0  3.508029e+01  2.200858e+01     0.0   \n",
       "Number of Open Accounts       88910.0  1.111035e+01  4.978461e+00     0.0   \n",
       "Number of Credit Problems     88910.0  1.604769e-01  4.737460e-01     0.0   \n",
       "Current Credit Balance        88910.0  1.543593e+04  1.965873e+04     0.0   \n",
       "Bankruptcies                  88718.0  1.126716e-01  3.433000e-01     0.0   \n",
       "Tax Liens                     88902.0  2.822209e-02  2.575327e-01     0.0   \n",
       "\n",
       "                                  25%      50%       75%         max  \n",
       "Current Loan Amount            8283.0  14355.0  24485.00  99999999.0  \n",
       "Credit Score                    714.0    733.0    744.00      7510.0  \n",
       "Annual Income                 44586.0  61494.0  86750.25   8713547.0  \n",
       "Years of Credit History          13.5     17.0     21.80        70.5  \n",
       "Months since last delinquent     16.0     32.0     51.00       176.0  \n",
       "Number of Open Accounts           8.0     10.0     14.00        76.0  \n",
       "Number of Credit Problems         0.0      0.0      0.00        15.0  \n",
       "Current Credit Balance         5949.0  11039.0  19301.00   1730472.0  \n",
       "Bankruptcies                      0.0      0.0      0.00         7.0  \n",
       "Tax Liens                         0.0      0.0      0.00        15.0  "
      ]
     },
     "execution_count": 11,
     "metadata": {},
     "output_type": "execute_result"
    }
   ],
   "source": [
    "df.describe().T"
   ]
  },
  {
   "cell_type": "markdown",
   "id": "bc707960",
   "metadata": {},
   "source": [
    "### Current Loan Amount"
   ]
  },
  {
   "cell_type": "code",
   "execution_count": 12,
   "id": "3391a68b",
   "metadata": {},
   "outputs": [
    {
     "data": {
      "text/plain": [
       "count    8.891000e+04\n",
       "mean     1.433878e+07\n",
       "std      3.502996e+07\n",
       "min      4.910000e+02\n",
       "25%      8.283000e+03\n",
       "50%      1.435500e+04\n",
       "75%      2.448500e+04\n",
       "max      1.000000e+08\n",
       "Name: Current Loan Amount, dtype: float64"
      ]
     },
     "execution_count": 12,
     "metadata": {},
     "output_type": "execute_result"
    }
   ],
   "source": [
    "df['Current Loan Amount'].describe().T"
   ]
  },
  {
   "cell_type": "markdown",
   "id": "eabba1fe",
   "metadata": {},
   "source": [
    "The percentile are quite high. 25%, 50%, 75% is raise to the power of 4 and the max is raised to the power of 8. So we need to remove the outliers."
   ]
  },
  {
   "cell_type": "code",
   "execution_count": 13,
   "id": "b7a50041",
   "metadata": {},
   "outputs": [
    {
     "data": {
      "image/png": "[encoded data removed]",
      "text/plain": [
       "<Figure size 432x288 with 1 Axes>"
      ]
     },
     "metadata": {
      "needs_background": "light"
     },
     "output_type": "display_data"
    }
   ],
   "source": [
    "df[\"Current Loan Amount\"].plot.hist(grid=True, bins=20, rwidth=0.9, color='#607c8e')\n",
    "plt.title('Commute Times for 1,000 Commuters')\n",
    "plt.xlabel('Counts')\n",
    "plt.ylabel('Commute Time')\n",
    "plt.grid(axis='y', alpha=0.75)"
   ]
  },
  {
   "cell_type": "code",
   "execution_count": 14,
   "id": "aea1fa4c",
   "metadata": {},
   "outputs": [],
   "source": [
    "Q1 = df[\"Current Loan Amount\"].quantile(0.25)\n",
    "Q3 = df[\"Current Loan Amount\"].quantile(0.75)\n",
    "IQR = Q3 - Q1"
   ]
  },
  {
   "cell_type": "code",
   "execution_count": 15,
   "id": "b637c949",
   "metadata": {},
   "outputs": [
    {
     "data": {
      "text/plain": [
       "5044     99999999\n",
       "5045     99999999\n",
       "5046     99999999\n",
       "5047     99999999\n",
       "5048     99999999\n",
       "           ...   \n",
       "17777    99999999\n",
       "17778    99999999\n",
       "17779    99999999\n",
       "17780    99999999\n",
       "17781    99999999\n",
       "Name: Current Loan Amount, Length: 12738, dtype: int64"
      ]
     },
     "execution_count": 15,
     "metadata": {},
     "output_type": "execute_result"
    }
   ],
   "source": [
    "df[\"Current Loan Amount\"][((df[\"Current Loan Amount\"] < (Q1 - 1.5 * IQR)) |(df[\"Current Loan Amount\"] > (Q3 + 1.5 * IQR)))]"
   ]
  },
  {
   "cell_type": "code",
   "execution_count": 16,
   "id": "e886d27f",
   "metadata": {},
   "outputs": [
    {
     "data": {
      "image/png": "[encoded data removed]",
      "text/plain": [
       "<Figure size 432x288 with 1 Axes>"
      ]
     },
     "metadata": {
      "needs_background": "light"
     },
     "output_type": "display_data"
    }
   ],
   "source": [
    "# Filling by a single value\n",
    "temp = np.array(df[\"Current Loan Amount\"].values.tolist())\n",
    "\n",
    "# Converted all of the outliers into NAN\n",
    "df[\"Current Loan Amount_temp\"] = np.where(temp > 9999998, 'NaN', temp).tolist()\n",
    "\n",
    "\n",
    "temp = df[\"Current Loan Amount_temp\"][df[\"Current Loan Amount_temp\"]!='NaN'].astype(str).astype(int)\n",
    "temp.plot.hist(grid=True, bins=20, rwidth=0.9, color='#607c8e');"
   ]
  },
  {
   "cell_type": "code",
   "execution_count": 17,
   "id": "ea2d63f0",
   "metadata": {},
   "outputs": [
    {
     "data": {
      "text/plain": [
       "count    76172.000000\n",
       "mean     13933.915756\n",
       "std       8235.921922\n",
       "min        491.000000\n",
       "25%       7810.000000\n",
       "50%      12038.000000\n",
       "75%      19351.000000\n",
       "max      35875.000000\n",
       "Name: Current Loan Amount_temp, dtype: float64"
      ]
     },
     "execution_count": 17,
     "metadata": {},
     "output_type": "execute_result"
    }
   ],
   "source": [
    "temp.describe()"
   ]
  },
  {
   "cell_type": "code",
   "execution_count": 18,
   "id": "cd0d00aa",
   "metadata": {},
   "outputs": [],
   "source": [
    "# Replacing the data with 50% percentile(12038) instead of NAN\n",
    "temp = np.array(df[\"Current Loan Amount\"].values.tolist())\n",
    "df[\"Current Loan Amount\"] = np.where(temp > 9999998, 12038, temp).tolist()\n",
    "\n",
    "# Dropping the NAN Column\n",
    "df = df.drop(['Current Loan Amount_temp'],axis=1)"
   ]
  },
  {
   "cell_type": "code",
   "execution_count": 19,
   "id": "0f5af88c",
   "metadata": {},
   "outputs": [
    {
     "data": {
      "text/plain": [
       "(88910, 19)"
      ]
     },
     "execution_count": 19,
     "metadata": {},
     "output_type": "execute_result"
    }
   ],
   "source": [
    "df.shape"
   ]
  },
  {
   "cell_type": "markdown",
   "id": "45304068",
   "metadata": {},
   "source": [
    "### Term Column"
   ]
  },
  {
   "cell_type": "code",
   "execution_count": 20,
   "id": "d6d7d247",
   "metadata": {},
   "outputs": [
    {
     "name": "stderr",
     "output_type": "stream",
     "text": [
      "C:\\Users\\oabas\\anaconda3\\lib\\site-packages\\seaborn\\_decorators.py:36: FutureWarning: Pass the following variables as keyword args: x, y. From version 0.12, the only valid positional argument will be `data`, and passing other arguments without an explicit keyword will result in an error or misinterpretation.\n",
      "  warnings.warn(\n"
     ]
    },
    {
     "data": {
      "image/png": "[encoded data removed]",
      "text/plain": [
       "<Figure size 720x360 with 1 Axes>"
      ]
     },
     "metadata": {
      "needs_background": "light"
     },
     "output_type": "display_data"
    }
   ],
   "source": [
    "status = df[\"Term\"].value_counts() \n",
    "\n",
    "plt.figure(figsize=(10,5))\n",
    "sns.barplot(status.index, status.values, alpha=0.8)\n",
    "plt.title('Loan Term distribution')\n",
    "plt.ylabel('Number of Occurrences', fontsize=12)\n",
    "plt.xlabel('Loan term', fontsize=12)\n",
    "plt.show()"
   ]
  },
  {
   "cell_type": "markdown",
   "id": "ea9d4280",
   "metadata": {},
   "source": [
    "The data doesn't have any issues like missing values or outliers so we do not need to work on it"
   ]
  },
  {
   "cell_type": "markdown",
   "id": "55c54a75",
   "metadata": {},
   "source": [
    "### Credit Score"
   ]
  },
  {
   "cell_type": "code",
   "execution_count": 21,
   "id": "7eea2bcd",
   "metadata": {},
   "outputs": [
    {
     "data": {
      "text/plain": [
       "count    67572.000000\n",
       "mean      1199.199580\n",
       "std       1680.813805\n",
       "min        585.000000\n",
       "25%        714.000000\n",
       "50%        733.000000\n",
       "75%        744.000000\n",
       "max       7510.000000\n",
       "Name: Credit Score, dtype: float64"
      ]
     },
     "execution_count": 21,
     "metadata": {},
     "output_type": "execute_result"
    }
   ],
   "source": [
    "df[\"Credit Score\"].describe()"
   ]
  },
  {
   "cell_type": "markdown",
   "id": "5720aff9",
   "metadata": {},
   "source": [
    "Max is 7510. The credit scores ranges from 0-800, so the max value shown is not possible"
   ]
  },
  {
   "cell_type": "code",
   "execution_count": 22,
   "id": "2db2b244",
   "metadata": {},
   "outputs": [
    {
     "data": {
      "text/plain": [
       "array([False,  True])"
      ]
     },
     "execution_count": 22,
     "metadata": {},
     "output_type": "execute_result"
    }
   ],
   "source": [
    "df[\"Credit Score\"].isnull().unique()"
   ]
  },
  {
   "cell_type": "code",
   "execution_count": 23,
   "id": "0e1138fa",
   "metadata": {},
   "outputs": [],
   "source": [
    "# Let us firstly divide the values greater than 800 by 10\n",
    "df[\"Credit Score\"] = np.where(df[\"Credit Score\"]>800, \n",
    "                              df[\"Credit Score\"]/10, \n",
    "                              df[\"Credit Score\"])"
   ]
  },
  {
   "cell_type": "code",
   "execution_count": 24,
   "id": "54e7481d",
   "metadata": {},
   "outputs": [],
   "source": [
    "# Now lets replace the missing values with median \n",
    "median_score = statistics.median(df[\"Credit Score\"])"
   ]
  },
  {
   "cell_type": "code",
   "execution_count": 25,
   "id": "f2f737f1",
   "metadata": {},
   "outputs": [
    {
     "name": "stderr",
     "output_type": "stream",
     "text": [
      "C:\\Users\\oabas\\anaconda3\\lib\\site-packages\\seaborn\\distributions.py:2557: FutureWarning: `distplot` is a deprecated function and will be removed in a future version. Please adapt your code to use either `displot` (a figure-level function with similar flexibility) or `histplot` (an axes-level function for histograms).\n",
      "  warnings.warn(msg, FutureWarning)\n"
     ]
    },
    {
     "data": {
      "image/png": "[encoded data removed]",
      "text/plain": [
       "<Figure size 432x288 with 1 Axes>"
      ]
     },
     "metadata": {
      "needs_background": "light"
     },
     "output_type": "display_data"
    }
   ],
   "source": [
    "df[\"Credit Score_1\"] = df[\"Credit Score\"]\n",
    "df[\"Credit Score_1\"].fillna(median_score, inplace = True) \n",
    "\n",
    "sns.distplot(df[\"Credit Score_1\"]);"
   ]
  },
  {
   "cell_type": "markdown",
   "id": "2a0866cf",
   "metadata": {},
   "source": [
    "As we can see this data is skewed so when we replace it with median it is giving us problems."
   ]
  },
  {
   "cell_type": "code",
   "execution_count": 26,
   "id": "c0bfb95b",
   "metadata": {},
   "outputs": [
    {
     "name": "stderr",
     "output_type": "stream",
     "text": [
      "C:\\Users\\oabas\\anaconda3\\lib\\site-packages\\seaborn\\distributions.py:2557: FutureWarning: `distplot` is a deprecated function and will be removed in a future version. Please adapt your code to use either `displot` (a figure-level function with similar flexibility) or `histplot` (an axes-level function for histograms).\n",
      "  warnings.warn(msg, FutureWarning)\n"
     ]
    },
    {
     "data": {
      "image/png": "[encoded data removed]",
      "text/plain": [
       "<Figure size 432x288 with 1 Axes>"
      ]
     },
     "metadata": {
      "needs_background": "light"
     },
     "output_type": "display_data"
    }
   ],
   "source": [
    "# Replacing with 75th percentile and taking log we get a better distribution\n",
    "df[\"Credit Score\"].fillna(741, inplace = True) \n",
    "\n",
    "sns.distplot(df[\"Credit Score\"]);"
   ]
  },
  {
   "cell_type": "code",
   "execution_count": 27,
   "id": "bec1b9e7",
   "metadata": {
    "scrolled": true
   },
   "outputs": [
    {
     "name": "stderr",
     "output_type": "stream",
     "text": [
      "C:\\Users\\oabas\\anaconda3\\lib\\site-packages\\seaborn\\distributions.py:2557: FutureWarning: `distplot` is a deprecated function and will be removed in a future version. Please adapt your code to use either `displot` (a figure-level function with similar flexibility) or `histplot` (an axes-level function for histograms).\n",
      "  warnings.warn(msg, FutureWarning)\n"
     ]
    },
    {
     "data": {
      "image/png": "[encoded data removed]",
      "text/plain": [
       "<Figure size 432x288 with 1 Axes>"
      ]
     },
     "metadata": {
      "needs_background": "light"
     },
     "output_type": "display_data"
    }
   ],
   "source": [
    "sns.distplot(np.log(df[\"Credit Score\"]));"
   ]
  },
  {
   "cell_type": "markdown",
   "id": "3db8ad21",
   "metadata": {},
   "source": [
    "### Home Ownership"
   ]
  },
  {
   "cell_type": "code",
   "execution_count": 28,
   "id": "8ac0ffdf",
   "metadata": {},
   "outputs": [
    {
     "data": {
      "text/plain": [
       "array(['Rent', 'Home Mortgage', 'Own Home', 'HaveMortgage'], dtype=object)"
      ]
     },
     "execution_count": 28,
     "metadata": {},
     "output_type": "execute_result"
    }
   ],
   "source": [
    "df['Home Ownership'].unique()"
   ]
  },
  {
   "cell_type": "markdown",
   "id": "beb75ea8",
   "metadata": {},
   "source": [
    "We have 4 unique values which makes no sense, cause we should only have 3 unique values 'Rent', 'HomeMortgage', 'Own Home'. As a result 'HaveMortgage' doesn't have any businees here, so we going to merge it with the 'HomeMortgage'"
   ]
  },
  {
   "cell_type": "code",
   "execution_count": 29,
   "id": "c03ecd84",
   "metadata": {},
   "outputs": [],
   "source": [
    "df['Home Ownership'] = df['Home Ownership'].str.replace('HaveMortgage', 'Home Mortgage', regex=True)"
   ]
  },
  {
   "cell_type": "code",
   "execution_count": 30,
   "id": "2b97ae6a",
   "metadata": {},
   "outputs": [
    {
     "data": {
      "text/plain": [
       "array(['Rent', 'Home Mortgage', 'Own Home'], dtype=object)"
      ]
     },
     "execution_count": 30,
     "metadata": {},
     "output_type": "execute_result"
    }
   ],
   "source": [
    "df['Home Ownership'].unique()"
   ]
  },
  {
   "cell_type": "markdown",
   "id": "fcbd26f9",
   "metadata": {},
   "source": [
    "### Annual Income"
   ]
  },
  {
   "cell_type": "code",
   "execution_count": 31,
   "id": "5926e517",
   "metadata": {},
   "outputs": [
    {
     "data": {
      "text/plain": [
       "count    6.757200e+04\n",
       "mean     7.234575e+04\n",
       "std      5.836101e+04\n",
       "min      4.033000e+03\n",
       "25%      4.458600e+04\n",
       "50%      6.149400e+04\n",
       "75%      8.675025e+04\n",
       "max      8.713547e+06\n",
       "Name: Annual Income, dtype: float64"
      ]
     },
     "execution_count": 31,
     "metadata": {},
     "output_type": "execute_result"
    }
   ],
   "source": [
    "df['Annual Income'].describe()"
   ]
  },
  {
   "cell_type": "markdown",
   "id": "621ceb6c",
   "metadata": {},
   "source": [
    "Max value seems pretty high"
   ]
  },
  {
   "cell_type": "code",
   "execution_count": 32,
   "id": "e2445158",
   "metadata": {},
   "outputs": [
    {
     "data": {
      "text/plain": [
       "0.200     40764.00\n",
       "0.750     86750.25\n",
       "0.900    119916.00\n",
       "0.950    147645.00\n",
       "0.990    239286.96\n",
       "0.999    491575.77\n",
       "Name: Annual Income, dtype: float64"
      ]
     },
     "execution_count": 32,
     "metadata": {},
     "output_type": "execute_result"
    }
   ],
   "source": [
    "df['Annual Income'].quantile([.2,0.75,0.90,.95,0.99,.999])"
   ]
  },
  {
   "cell_type": "markdown",
   "id": "71b4a624",
   "metadata": {},
   "source": [
    "As we can see the highest values was present in the 99th quantile of the data, which is an outlier. Lets replace them with the 95th percentile value which is 147645"
   ]
  },
  {
   "cell_type": "code",
   "execution_count": 33,
   "id": "1bee8950",
   "metadata": {},
   "outputs": [],
   "source": [
    "df.loc[df['Annual Income'] > 147645, 'Annual Income'] = 147645"
   ]
  },
  {
   "cell_type": "code",
   "execution_count": 34,
   "id": "c153e141",
   "metadata": {},
   "outputs": [
    {
     "data": {
      "text/plain": [
       "count     67572.000000\n",
       "mean      69063.213580\n",
       "std       32802.303778\n",
       "min        4033.000000\n",
       "25%       44586.000000\n",
       "50%       61494.000000\n",
       "75%       86750.250000\n",
       "max      147645.000000\n",
       "Name: Annual Income, dtype: float64"
      ]
     },
     "execution_count": 34,
     "metadata": {},
     "output_type": "execute_result"
    }
   ],
   "source": [
    "df['Annual Income'].describe()"
   ]
  },
  {
   "cell_type": "code",
   "execution_count": 35,
   "id": "1fa0f252",
   "metadata": {},
   "outputs": [
    {
     "data": {
      "text/plain": [
       "21338"
      ]
     },
     "execution_count": 35,
     "metadata": {},
     "output_type": "execute_result"
    }
   ],
   "source": [
    "df['Annual Income'].isna().sum()"
   ]
  },
  {
   "cell_type": "markdown",
   "id": "bb9d70bf",
   "metadata": {},
   "source": [
    "### Loan Purpose"
   ]
  },
  {
   "cell_type": "code",
   "execution_count": 36,
   "id": "41289edf",
   "metadata": {},
   "outputs": [
    {
     "data": {
      "text/plain": [
       "Debt Consolidation      70447\n",
       "Home Improvements        5206\n",
       "other                    4917\n",
       "Other                    2850\n",
       "Business Loan            1328\n",
       "Buy a Car                1196\n",
       "Medical Bills             955\n",
       "Buy House                 559\n",
       "Take a Trip               454\n",
       "major_purchase            344\n",
       "small_business            248\n",
       "moving                    124\n",
       "wedding                    99\n",
       "Educational Expenses       92\n",
       "vacation                   82\n",
       "renewable_energy            9\n",
       "Name: Purpose, dtype: int64"
      ]
     },
     "execution_count": 36,
     "metadata": {},
     "output_type": "execute_result"
    }
   ],
   "source": [
    "df['Purpose'].value_counts()"
   ]
  },
  {
   "cell_type": "markdown",
   "id": "999129cd",
   "metadata": {},
   "source": [
    "So other and Other mean the same thing. Lets make it the same"
   ]
  },
  {
   "cell_type": "code",
   "execution_count": 37,
   "id": "f29e94ca",
   "metadata": {},
   "outputs": [],
   "source": [
    "df['Purpose']=df['Purpose'].str.replace('Other', 'other', regex=True)"
   ]
  },
  {
   "cell_type": "code",
   "execution_count": 38,
   "id": "921b1d95",
   "metadata": {},
   "outputs": [
    {
     "data": {
      "text/plain": [
       "Debt Consolidation      70447\n",
       "other                    7767\n",
       "Home Improvements        5206\n",
       "Business Loan            1328\n",
       "Buy a Car                1196\n",
       "Medical Bills             955\n",
       "Buy House                 559\n",
       "Take a Trip               454\n",
       "major_purchase            344\n",
       "small_business            248\n",
       "moving                    124\n",
       "wedding                    99\n",
       "Educational Expenses       92\n",
       "vacation                   82\n",
       "renewable_energy            9\n",
       "Name: Purpose, dtype: int64"
      ]
     },
     "execution_count": 38,
     "metadata": {},
     "output_type": "execute_result"
    }
   ],
   "source": [
    "df['Purpose'].value_counts()"
   ]
  },
  {
   "cell_type": "markdown",
   "id": "20df2123",
   "metadata": {},
   "source": [
    "### Monthly Debt"
   ]
  },
  {
   "cell_type": "code",
   "execution_count": 39,
   "id": "40f979a9",
   "metadata": {},
   "outputs": [
    {
     "data": {
      "text/plain": [
       "count     88910\n",
       "unique    70066\n",
       "top           0\n",
       "freq         69\n",
       "Name: Monthly Debt, dtype: object"
      ]
     },
     "execution_count": 39,
     "metadata": {},
     "output_type": "execute_result"
    }
   ],
   "source": [
    "df['Monthly Debt'].describe()"
   ]
  },
  {
   "cell_type": "markdown",
   "id": "bd06389d",
   "metadata": {},
   "source": [
    "So this is not numeric column. Lets explore"
   ]
  },
  {
   "cell_type": "code",
   "execution_count": 40,
   "id": "fbb9d455",
   "metadata": {},
   "outputs": [
    {
     "data": {
      "text/plain": [
       "0         777.39\n",
       "1         892.09\n",
       "2        1244.02\n",
       "3         990.94\n",
       "4         503.71\n",
       "          ...   \n",
       "88905     567.62\n",
       "88906    2508.63\n",
       "88907      818.2\n",
       "88908     360.17\n",
       "88909     749.13\n",
       "Name: Monthly Debt, Length: 88910, dtype: object"
      ]
     },
     "execution_count": 40,
     "metadata": {},
     "output_type": "execute_result"
    }
   ],
   "source": [
    "df['Monthly Debt']"
   ]
  },
  {
   "cell_type": "code",
   "execution_count": 41,
   "id": "a9ade8b5",
   "metadata": {},
   "outputs": [],
   "source": [
    "# Converting to float\n",
    "# pd.to_numeric(df['Monthly Debt'])\n",
    "\n",
    "# Unable to parse string \"$1051.41\" at position 10"
   ]
  },
  {
   "cell_type": "markdown",
   "id": "87ad8ad7",
   "metadata": {},
   "source": [
    "As we can see there is a $ symbol present. Lets replace it"
   ]
  },
  {
   "cell_type": "code",
   "execution_count": 42,
   "id": "8f0190f0",
   "metadata": {},
   "outputs": [],
   "source": [
    "df['Monthly Debt'] = df['Monthly Debt'].str.replace('$', '', regex=True)"
   ]
  },
  {
   "cell_type": "code",
   "execution_count": 43,
   "id": "781b532e",
   "metadata": {},
   "outputs": [
    {
     "data": {
      "image/png": "[encoded data removed]",
      "text/plain": [
       "<Figure size 360x360 with 1 Axes>"
      ]
     },
     "metadata": {
      "needs_background": "light"
     },
     "output_type": "display_data"
    }
   ],
   "source": [
    "df['Monthly Debt'] = pd.to_numeric(df['Monthly Debt'])\n",
    "\n",
    "sns.displot(df['Monthly Debt']);"
   ]
  },
  {
   "cell_type": "markdown",
   "id": "c8d543c9",
   "metadata": {},
   "source": [
    "The graph is steep and d graph has stretched out to 20000"
   ]
  },
  {
   "cell_type": "code",
   "execution_count": 44,
   "id": "48fc4848",
   "metadata": {},
   "outputs": [
    {
     "data": {
      "text/plain": [
       "count    88910.000000\n",
       "mean       963.102059\n",
       "std        637.524064\n",
       "min          0.000000\n",
       "25%        532.220000\n",
       "50%        843.925000\n",
       "75%       1250.527500\n",
       "max      22939.120000\n",
       "Name: Monthly Debt, dtype: float64"
      ]
     },
     "execution_count": 44,
     "metadata": {},
     "output_type": "execute_result"
    }
   ],
   "source": [
    "df['Monthly Debt'].describe()"
   ]
  },
  {
   "cell_type": "markdown",
   "id": "acf60043",
   "metadata": {},
   "source": [
    "The max value is high, which is about 20 times of the 75%"
   ]
  },
  {
   "cell_type": "code",
   "execution_count": 45,
   "id": "797b2e88",
   "metadata": {},
   "outputs": [
    {
     "data": {
      "text/plain": [
       "0.200     463.75000\n",
       "0.750    1250.52750\n",
       "0.900    1743.08300\n",
       "0.950    2115.51100\n",
       "0.990    3087.11100\n",
       "0.999    4926.37475\n",
       "Name: Monthly Debt, dtype: float64"
      ]
     },
     "execution_count": 45,
     "metadata": {},
     "output_type": "execute_result"
    }
   ],
   "source": [
    "df['Monthly Debt'].quantile([0.2,0.75,0.90,0.95,0.99,0.999])"
   ]
  },
  {
   "cell_type": "markdown",
   "id": "7aa8bafd",
   "metadata": {},
   "source": [
    "At the 99th percentile, there seems to be no outliers so we need to investigate further"
   ]
  },
  {
   "cell_type": "code",
   "execution_count": 46,
   "id": "f27a7128",
   "metadata": {},
   "outputs": [
    {
     "data": {
      "text/plain": [
       "0.9995    5482.111455\n",
       "0.9999    7774.610660\n",
       "Name: Monthly Debt, dtype: float64"
      ]
     },
     "execution_count": 46,
     "metadata": {},
     "output_type": "execute_result"
    }
   ],
   "source": [
    "df['Monthly Debt'].quantile([0.9995, 0.9999])"
   ]
  },
  {
   "cell_type": "code",
   "execution_count": 47,
   "id": "8c395b2f",
   "metadata": {},
   "outputs": [
    {
     "data": {
      "text/plain": [
       "0.99970     5978.574911\n",
       "0.99999    13262.762330\n",
       "Name: Monthly Debt, dtype: float64"
      ]
     },
     "execution_count": 47,
     "metadata": {},
     "output_type": "execute_result"
    }
   ],
   "source": [
    "df['Monthly Debt'].quantile([0.9997, 0.99999])"
   ]
  },
  {
   "cell_type": "code",
   "execution_count": 48,
   "id": "ecd63321",
   "metadata": {},
   "outputs": [
    {
     "data": {
      "text/plain": [
       "0.999     4926.37475\n",
       "1.000    22939.12000\n",
       "Name: Monthly Debt, dtype: float64"
      ]
     },
     "execution_count": 48,
     "metadata": {},
     "output_type": "execute_result"
    }
   ],
   "source": [
    "df['Monthly Debt'].quantile([0.999, 1])"
   ]
  },
  {
   "cell_type": "code",
   "execution_count": 49,
   "id": "75dabee7",
   "metadata": {},
   "outputs": [],
   "source": [
    "df.loc[df['Monthly Debt'] > 4926, 'Monthly Debt'] = 4926"
   ]
  },
  {
   "cell_type": "code",
   "execution_count": 50,
   "id": "98126277",
   "metadata": {},
   "outputs": [
    {
     "data": {
      "image/png": "[encoded data removed]",
      "text/plain": [
       "<Figure size 360x360 with 1 Axes>"
      ]
     },
     "metadata": {
      "needs_background": "light"
     },
     "output_type": "display_data"
    }
   ],
   "source": [
    "sns.displot(df['Monthly Debt']);"
   ]
  },
  {
   "cell_type": "markdown",
   "id": "21019cb9",
   "metadata": {},
   "source": [
    "### Years of Credit History"
   ]
  },
  {
   "cell_type": "code",
   "execution_count": 51,
   "id": "b0587957",
   "metadata": {},
   "outputs": [
    {
     "data": {
      "text/plain": [
       "16.0    1234\n",
       "15.0    1159\n",
       "17.0    1091\n",
       "16.5    1045\n",
       "14.0    1031\n",
       "        ... \n",
       "59.7       1\n",
       "52.8       1\n",
       "59.9       1\n",
       "59.5       1\n",
       "50.2       1\n",
       "Name: Years of Credit History, Length: 508, dtype: int64"
      ]
     },
     "execution_count": 51,
     "metadata": {},
     "output_type": "execute_result"
    }
   ],
   "source": [
    "df['Years of Credit History'].value_counts()"
   ]
  },
  {
   "cell_type": "code",
   "execution_count": 52,
   "id": "0baf8f88",
   "metadata": {},
   "outputs": [
    {
     "name": "stderr",
     "output_type": "stream",
     "text": [
      "C:\\Users\\oabas\\anaconda3\\lib\\site-packages\\seaborn\\distributions.py:2557: FutureWarning: `distplot` is a deprecated function and will be removed in a future version. Please adapt your code to use either `displot` (a figure-level function with similar flexibility) or `histplot` (an axes-level function for histograms).\n",
      "  warnings.warn(msg, FutureWarning)\n"
     ]
    },
    {
     "data": {
      "image/png": "[encoded data removed]",
      "text/plain": [
       "<Figure size 432x288 with 1 Axes>"
      ]
     },
     "metadata": {
      "needs_background": "light"
     },
     "output_type": "display_data"
    }
   ],
   "source": [
    "sns.distplot(df[\"Years of Credit History\"]);"
   ]
  },
  {
   "cell_type": "markdown",
   "id": "a7b0b2c8",
   "metadata": {},
   "source": [
    "### Months since last delinquent"
   ]
  },
  {
   "cell_type": "code",
   "execution_count": 53,
   "id": "da12afe1",
   "metadata": {},
   "outputs": [
    {
     "data": {
      "text/plain": [
       "count    40404.000000\n",
       "mean        35.080289\n",
       "std         22.008583\n",
       "min          0.000000\n",
       "25%         16.000000\n",
       "50%         32.000000\n",
       "75%         51.000000\n",
       "max        176.000000\n",
       "Name: Months since last delinquent, dtype: float64"
      ]
     },
     "execution_count": 53,
     "metadata": {},
     "output_type": "execute_result"
    }
   ],
   "source": [
    "df['Months since last delinquent'].describe()"
   ]
  },
  {
   "cell_type": "code",
   "execution_count": 54,
   "id": "9eb368a8",
   "metadata": {},
   "outputs": [
    {
     "data": {
      "text/plain": [
       "48506"
      ]
     },
     "execution_count": 54,
     "metadata": {},
     "output_type": "execute_result"
    }
   ],
   "source": [
    "#Lets check if there are any NA's\n",
    "df['Months since last delinquent'].isna().sum()"
   ]
  },
  {
   "cell_type": "markdown",
   "id": "3915c882",
   "metadata": {},
   "source": [
    "### Number of Open Accounts"
   ]
  },
  {
   "cell_type": "code",
   "execution_count": 55,
   "id": "b70b31b7",
   "metadata": {},
   "outputs": [
    {
     "data": {
      "text/plain": [
       "count    88910.000000\n",
       "mean        11.110348\n",
       "std          4.978461\n",
       "min          0.000000\n",
       "25%          8.000000\n",
       "50%         10.000000\n",
       "75%         14.000000\n",
       "max         76.000000\n",
       "Name: Number of Open Accounts, dtype: float64"
      ]
     },
     "execution_count": 55,
     "metadata": {},
     "output_type": "execute_result"
    }
   ],
   "source": [
    "df['Number of Open Accounts'].describe()"
   ]
  },
  {
   "cell_type": "markdown",
   "id": "18c99702",
   "metadata": {},
   "source": [
    "The max value is too high for someone to open that much accounts"
   ]
  },
  {
   "cell_type": "code",
   "execution_count": 56,
   "id": "b3fbeeda",
   "metadata": {},
   "outputs": [
    {
     "name": "stderr",
     "output_type": "stream",
     "text": [
      "C:\\Users\\oabas\\anaconda3\\lib\\site-packages\\seaborn\\distributions.py:2557: FutureWarning: `distplot` is a deprecated function and will be removed in a future version. Please adapt your code to use either `displot` (a figure-level function with similar flexibility) or `histplot` (an axes-level function for histograms).\n",
      "  warnings.warn(msg, FutureWarning)\n"
     ]
    },
    {
     "data": {
      "image/png": "[encoded data removed]",
      "text/plain": [
       "<Figure size 432x288 with 1 Axes>"
      ]
     },
     "metadata": {
      "needs_background": "light"
     },
     "output_type": "display_data"
    }
   ],
   "source": [
    "sns.distplot(df['Number of Open Accounts']);"
   ]
  },
  {
   "cell_type": "code",
   "execution_count": 57,
   "id": "a3734435",
   "metadata": {},
   "outputs": [
    {
     "data": {
      "text/plain": [
       "0.750    14.0\n",
       "0.999    36.0\n",
       "1.000    76.0\n",
       "Name: Number of Open Accounts, dtype: float64"
      ]
     },
     "execution_count": 57,
     "metadata": {},
     "output_type": "execute_result"
    }
   ],
   "source": [
    "df['Number of Open Accounts'].quantile([0.75,0.999,1])"
   ]
  },
  {
   "cell_type": "markdown",
   "id": "f82a7a71",
   "metadata": {},
   "source": [
    "Ok so replacing anything greater than 99th percentile with 99th percentile values"
   ]
  },
  {
   "cell_type": "code",
   "execution_count": 58,
   "id": "7164c8b5",
   "metadata": {},
   "outputs": [],
   "source": [
    "df.loc[df['Number of Open Accounts'] > 36, 'Number of Open Accounts'] = 36"
   ]
  },
  {
   "cell_type": "code",
   "execution_count": 59,
   "id": "4fc656ae",
   "metadata": {},
   "outputs": [
    {
     "name": "stderr",
     "output_type": "stream",
     "text": [
      "C:\\Users\\oabas\\anaconda3\\lib\\site-packages\\seaborn\\distributions.py:2557: FutureWarning: `distplot` is a deprecated function and will be removed in a future version. Please adapt your code to use either `displot` (a figure-level function with similar flexibility) or `histplot` (an axes-level function for histograms).\n",
      "  warnings.warn(msg, FutureWarning)\n"
     ]
    },
    {
     "data": {
      "image/png": "[encoded data removed]",
      "text/plain": [
       "<Figure size 432x288 with 1 Axes>"
      ]
     },
     "metadata": {
      "needs_background": "light"
     },
     "output_type": "display_data"
    }
   ],
   "source": [
    "sns.distplot(df['Number of Open Accounts']);"
   ]
  },
  {
   "cell_type": "markdown",
   "id": "039801fe",
   "metadata": {},
   "source": [
    "### Number of Credit Problems"
   ]
  },
  {
   "cell_type": "code",
   "execution_count": 60,
   "id": "670ddd54",
   "metadata": {},
   "outputs": [
    {
     "data": {
      "text/plain": [
       "count    88910.000000\n",
       "mean         0.160477\n",
       "std          0.473746\n",
       "min          0.000000\n",
       "25%          0.000000\n",
       "50%          0.000000\n",
       "75%          0.000000\n",
       "max         15.000000\n",
       "Name: Number of Credit Problems, dtype: float64"
      ]
     },
     "execution_count": 60,
     "metadata": {},
     "output_type": "execute_result"
    }
   ],
   "source": [
    "df['Number of Credit Problems'].describe()"
   ]
  },
  {
   "cell_type": "markdown",
   "id": "69556134",
   "metadata": {},
   "source": [
    "Max looks a bit higher. Lets see"
   ]
  },
  {
   "cell_type": "code",
   "execution_count": 61,
   "id": "017f99de",
   "metadata": {},
   "outputs": [
    {
     "name": "stderr",
     "output_type": "stream",
     "text": [
      "C:\\Users\\oabas\\anaconda3\\lib\\site-packages\\seaborn\\distributions.py:2557: FutureWarning: `distplot` is a deprecated function and will be removed in a future version. Please adapt your code to use either `displot` (a figure-level function with similar flexibility) or `histplot` (an axes-level function for histograms).\n",
      "  warnings.warn(msg, FutureWarning)\n"
     ]
    },
    {
     "data": {
      "image/png": "[encoded data removed]",
      "text/plain": [
       "<Figure size 432x288 with 1 Axes>"
      ]
     },
     "metadata": {
      "needs_background": "light"
     },
     "output_type": "display_data"
    }
   ],
   "source": [
    "sns.distplot(df['Number of Credit Problems']);"
   ]
  },
  {
   "cell_type": "code",
   "execution_count": 62,
   "id": "8df585a7",
   "metadata": {},
   "outputs": [
    {
     "data": {
      "text/plain": [
       "0     77057\n",
       "1     10271\n",
       "2      1092\n",
       "3       311\n",
       "4       101\n",
       "5        46\n",
       "6        14\n",
       "7         6\n",
       "9         4\n",
       "10        3\n",
       "8         2\n",
       "11        1\n",
       "12        1\n",
       "15        1\n",
       "Name: Number of Credit Problems, dtype: int64"
      ]
     },
     "execution_count": 62,
     "metadata": {},
     "output_type": "execute_result"
    }
   ],
   "source": [
    "df['Number of Credit Problems'].value_counts()"
   ]
  },
  {
   "cell_type": "markdown",
   "id": "e12eaa56",
   "metadata": {},
   "source": [
    "### Current Credit Balance"
   ]
  },
  {
   "cell_type": "code",
   "execution_count": 63,
   "id": "132ee1a1",
   "metadata": {},
   "outputs": [
    {
     "data": {
      "text/plain": [
       "count    8.891000e+04\n",
       "mean     1.543593e+04\n",
       "std      1.965873e+04\n",
       "min      0.000000e+00\n",
       "25%      5.949000e+03\n",
       "50%      1.103900e+04\n",
       "75%      1.930100e+04\n",
       "max      1.730472e+06\n",
       "Name: Current Credit Balance, dtype: float64"
      ]
     },
     "execution_count": 63,
     "metadata": {},
     "output_type": "execute_result"
    }
   ],
   "source": [
    "df['Current Credit Balance'].describe()"
   ]
  },
  {
   "cell_type": "code",
   "execution_count": 64,
   "id": "2f77c4a3",
   "metadata": {},
   "outputs": [
    {
     "name": "stderr",
     "output_type": "stream",
     "text": [
      "C:\\Users\\oabas\\anaconda3\\lib\\site-packages\\seaborn\\distributions.py:2557: FutureWarning: `distplot` is a deprecated function and will be removed in a future version. Please adapt your code to use either `displot` (a figure-level function with similar flexibility) or `histplot` (an axes-level function for histograms).\n",
      "  warnings.warn(msg, FutureWarning)\n"
     ]
    },
    {
     "data": {
      "image/png": "[encoded data removed]",
      "text/plain": [
       "<Figure size 432x288 with 1 Axes>"
      ]
     },
     "metadata": {
      "needs_background": "light"
     },
     "output_type": "display_data"
    }
   ],
   "source": [
    "sns.distplot(df['Current Credit Balance']);"
   ]
  },
  {
   "cell_type": "markdown",
   "id": "fdc3c8d9",
   "metadata": {},
   "source": [
    "It seems there are outliers in this data. Lets investigate"
   ]
  },
  {
   "cell_type": "code",
   "execution_count": 65,
   "id": "3cd3937a",
   "metadata": {},
   "outputs": [
    {
     "data": {
      "text/plain": [
       "0.750      19301.000\n",
       "0.950      39933.300\n",
       "0.999     227670.033\n",
       "1.000    1730472.000\n",
       "Name: Current Credit Balance, dtype: float64"
      ]
     },
     "execution_count": 65,
     "metadata": {},
     "output_type": "execute_result"
    }
   ],
   "source": [
    "df['Current Credit Balance'].quantile([0.75,0.95,0.999,1])"
   ]
  },
  {
   "cell_type": "code",
   "execution_count": 66,
   "id": "a28d4a5a",
   "metadata": {},
   "outputs": [
    {
     "data": {
      "text/plain": [
       "0.95      39933.30\n",
       "0.96      43501.20\n",
       "0.97      48507.73\n",
       "0.98      57938.12\n",
       "0.99      81007.19\n",
       "1.00    1730472.00\n",
       "Name: Current Credit Balance, dtype: float64"
      ]
     },
     "execution_count": 66,
     "metadata": {},
     "output_type": "execute_result"
    }
   ],
   "source": [
    "df['Current Credit Balance'].quantile([0.95,0.96,0.97,0.98,0.99,1])"
   ]
  },
  {
   "cell_type": "code",
   "execution_count": 67,
   "id": "a47ba7c4",
   "metadata": {},
   "outputs": [
    {
     "data": {
      "text/plain": [
       "0.55      12295.00\n",
       "0.76      19805.84\n",
       "0.87      27525.66\n",
       "0.98      57938.12\n",
       "0.99      81007.19\n",
       "1.00    1730472.00\n",
       "Name: Current Credit Balance, dtype: float64"
      ]
     },
     "execution_count": 67,
     "metadata": {},
     "output_type": "execute_result"
    }
   ],
   "source": [
    "#So lets replace it with 95th percentile\n",
    "df['Current Credit Balance'].quantile([0.55,0.76,0.87,0.98,0.99,1])"
   ]
  },
  {
   "cell_type": "code",
   "execution_count": 68,
   "id": "126fad6b",
   "metadata": {},
   "outputs": [],
   "source": [
    "df.loc[df['Current Credit Balance'] > 57938, 'Current Credit Balance'] = 57948"
   ]
  },
  {
   "cell_type": "code",
   "execution_count": 69,
   "id": "706b9a71",
   "metadata": {},
   "outputs": [
    {
     "name": "stderr",
     "output_type": "stream",
     "text": [
      "C:\\Users\\oabas\\anaconda3\\lib\\site-packages\\seaborn\\distributions.py:2557: FutureWarning: `distplot` is a deprecated function and will be removed in a future version. Please adapt your code to use either `displot` (a figure-level function with similar flexibility) or `histplot` (an axes-level function for histograms).\n",
      "  warnings.warn(msg, FutureWarning)\n"
     ]
    },
    {
     "data": {
      "image/png": "[encoded data removed]",
      "text/plain": [
       "<Figure size 432x288 with 1 Axes>"
      ]
     },
     "metadata": {
      "needs_background": "light"
     },
     "output_type": "display_data"
    }
   ],
   "source": [
    "sns.distplot(df['Current Credit Balance']);"
   ]
  },
  {
   "cell_type": "markdown",
   "id": "a56529b8",
   "metadata": {},
   "source": [
    "The plot doesnt look good. We need to transform it"
   ]
  },
  {
   "cell_type": "code",
   "execution_count": 70,
   "id": "b70eb345",
   "metadata": {},
   "outputs": [
    {
     "name": "stderr",
     "output_type": "stream",
     "text": [
      "C:\\Users\\oabas\\anaconda3\\lib\\site-packages\\seaborn\\distributions.py:2557: FutureWarning: `distplot` is a deprecated function and will be removed in a future version. Please adapt your code to use either `displot` (a figure-level function with similar flexibility) or `histplot` (an axes-level function for histograms).\n",
      "  warnings.warn(msg, FutureWarning)\n"
     ]
    },
    {
     "data": {
      "image/png": "[encoded data removed]",
      "text/plain": [
       "<Figure size 432x288 with 1 Axes>"
      ]
     },
     "metadata": {
      "needs_background": "light"
     },
     "output_type": "display_data"
    }
   ],
   "source": [
    "sns.distplot(df['Current Credit Balance']**(1/2));"
   ]
  },
  {
   "cell_type": "code",
   "execution_count": 71,
   "id": "63cc3dc3",
   "metadata": {},
   "outputs": [],
   "source": [
    "df['Current Credit Balance'] = df['Current Credit Balance']**(1/2)"
   ]
  },
  {
   "cell_type": "markdown",
   "id": "d54edf6e",
   "metadata": {},
   "source": [
    "### Maximum Open Credit"
   ]
  },
  {
   "cell_type": "code",
   "execution_count": 72,
   "id": "add9dbbe",
   "metadata": {},
   "outputs": [
    {
     "data": {
      "text/plain": [
       "count     88910\n",
       "unique    46625\n",
       "top           0\n",
       "freq        610\n",
       "Name: Maximum Open Credit, dtype: object"
      ]
     },
     "execution_count": 72,
     "metadata": {},
     "output_type": "execute_result"
    }
   ],
   "source": [
    "df['Maximum Open Credit'].describe()"
   ]
  },
  {
   "cell_type": "code",
   "execution_count": 73,
   "id": "277498b2",
   "metadata": {},
   "outputs": [
    {
     "data": {
      "text/plain": [
       "0        610\n",
       "10782     10\n",
       "14382     10\n",
       "11044     10\n",
       "17464     10\n",
       "        ... \n",
       "22795      1\n",
       "2304       1\n",
       "9886       1\n",
       "54341      1\n",
       "33862      1\n",
       "Name: Maximum Open Credit, Length: 46625, dtype: int64"
      ]
     },
     "execution_count": 73,
     "metadata": {},
     "output_type": "execute_result"
    }
   ],
   "source": [
    "df['Maximum Open Credit'].value_counts()"
   ]
  },
  {
   "cell_type": "code",
   "execution_count": 74,
   "id": "d0f6d751",
   "metadata": {},
   "outputs": [],
   "source": [
    "# sns.distplot(df['Maximum Open Credit'])\n",
    "\n",
    "#  could not convert string to float: '#VALUE!'"
   ]
  },
  {
   "cell_type": "code",
   "execution_count": 75,
   "id": "eecb561d",
   "metadata": {},
   "outputs": [],
   "source": [
    "# So there are some str characters present in the data. Lets find them\n",
    "# pd.to_numeric(df['Maximum Open Credit'])\n",
    "\n",
    "\n",
    "# Unable to parse string \"#VALUE!\" at position 4930"
   ]
  },
  {
   "cell_type": "code",
   "execution_count": 76,
   "id": "c4930a6f",
   "metadata": {},
   "outputs": [],
   "source": [
    "# Lets replace #value with NAN\n",
    "df['Maximum Open Credit'] = df['Maximum Open Credit'].replace('#VALUE!', np.nan, regex=True)\n",
    "    \n",
    "df['Maximum Open Credit'] = pd.to_numeric(df['Maximum Open Credit'])"
   ]
  },
  {
   "cell_type": "code",
   "execution_count": 77,
   "id": "887590b1",
   "metadata": {},
   "outputs": [
    {
     "data": {
      "text/plain": [
       "2"
      ]
     },
     "execution_count": 77,
     "metadata": {},
     "output_type": "execute_result"
    }
   ],
   "source": [
    "df['Maximum Open Credit'].isnull().sum()"
   ]
  },
  {
   "cell_type": "code",
   "execution_count": 78,
   "id": "00472459",
   "metadata": {},
   "outputs": [],
   "source": [
    "#Now we have only 2 NAN in the data. Lets replace them with mean 35965  \n",
    "df['Maximum Open Credit'] = df['Maximum Open Credit'].fillna(35965)"
   ]
  },
  {
   "cell_type": "code",
   "execution_count": 79,
   "id": "f4cd3906",
   "metadata": {},
   "outputs": [
    {
     "data": {
      "text/plain": [
       "0.55       24037.95\n",
       "0.76       37259.84\n",
       "0.87       50736.66\n",
       "0.98      114682.56\n",
       "0.99      171423.91\n",
       "1.00    69988086.00\n",
       "Name: Maximum Open Credit, dtype: float64"
      ]
     },
     "execution_count": 79,
     "metadata": {},
     "output_type": "execute_result"
    }
   ],
   "source": [
    "df['Maximum Open Credit'].quantile([0.55,0.76,0.87,0.98,0.99,1])"
   ]
  },
  {
   "cell_type": "code",
   "execution_count": 80,
   "id": "89dcf4fb",
   "metadata": {},
   "outputs": [],
   "source": [
    "#Lets replace the outliers\n",
    "df.loc[df['Maximum Open Credit'] > 171423, 'Maximum Open Credit'] = 171423"
   ]
  },
  {
   "cell_type": "code",
   "execution_count": 81,
   "id": "db9e9733",
   "metadata": {},
   "outputs": [
    {
     "data": {
      "image/png": "[encoded data removed]",
      "text/plain": [
       "<Figure size 360x360 with 1 Axes>"
      ]
     },
     "metadata": {
      "needs_background": "light"
     },
     "output_type": "display_data"
    }
   ],
   "source": [
    "sns.displot(df['Maximum Open Credit']);"
   ]
  },
  {
   "cell_type": "markdown",
   "id": "d98ce27d",
   "metadata": {},
   "source": [
    "### Bankruptcies"
   ]
  },
  {
   "cell_type": "code",
   "execution_count": 82,
   "id": "0209d504",
   "metadata": {},
   "outputs": [
    {
     "data": {
      "text/plain": [
       "count    88718.000000\n",
       "mean         0.112672\n",
       "std          0.343300\n",
       "min          0.000000\n",
       "25%          0.000000\n",
       "50%          0.000000\n",
       "75%          0.000000\n",
       "max          7.000000\n",
       "Name: Bankruptcies, dtype: float64"
      ]
     },
     "execution_count": 82,
     "metadata": {},
     "output_type": "execute_result"
    }
   ],
   "source": [
    "df['Bankruptcies'].describe()"
   ]
  },
  {
   "cell_type": "code",
   "execution_count": 83,
   "id": "63776d29",
   "metadata": {},
   "outputs": [
    {
     "data": {
      "text/plain": [
       "0.0    79323\n",
       "1.0     8936\n",
       "2.0      353\n",
       "3.0       80\n",
       "4.0       19\n",
       "5.0        5\n",
       "7.0        1\n",
       "6.0        1\n",
       "Name: Bankruptcies, dtype: int64"
      ]
     },
     "execution_count": 83,
     "metadata": {},
     "output_type": "execute_result"
    }
   ],
   "source": [
    "df['Bankruptcies'].value_counts()"
   ]
  },
  {
   "cell_type": "code",
   "execution_count": 84,
   "id": "ff2c03a3",
   "metadata": {},
   "outputs": [
    {
     "data": {
      "text/plain": [
       "array([ 0.,  1., nan,  2.,  4.,  3.,  5.,  7.,  6.])"
      ]
     },
     "execution_count": 84,
     "metadata": {},
     "output_type": "execute_result"
    }
   ],
   "source": [
    "df['Bankruptcies'].unique()"
   ]
  },
  {
   "cell_type": "code",
   "execution_count": 85,
   "id": "1e97a72f",
   "metadata": {},
   "outputs": [],
   "source": [
    "#So we have Nan's. Lets fill them with median\n",
    "df['Bankruptcies'] = df['Bankruptcies'].fillna(3)"
   ]
  },
  {
   "cell_type": "markdown",
   "id": "74b8bf83",
   "metadata": {},
   "source": [
    "### Tax Liens"
   ]
  },
  {
   "cell_type": "code",
   "execution_count": 86,
   "id": "4ba4b866",
   "metadata": {},
   "outputs": [
    {
     "data": {
      "text/plain": [
       "count    88902.000000\n",
       "mean         0.028222\n",
       "std          0.257533\n",
       "min          0.000000\n",
       "25%          0.000000\n",
       "50%          0.000000\n",
       "75%          0.000000\n",
       "max         15.000000\n",
       "Name: Tax Liens, dtype: float64"
      ]
     },
     "execution_count": 86,
     "metadata": {},
     "output_type": "execute_result"
    }
   ],
   "source": [
    "df['Tax Liens'].describe()"
   ]
  },
  {
   "cell_type": "code",
   "execution_count": 87,
   "id": "2523addc",
   "metadata": {},
   "outputs": [
    {
     "data": {
      "text/plain": [
       "0.0     87274\n",
       "1.0      1132\n",
       "2.0       305\n",
       "3.0        99\n",
       "4.0        52\n",
       "5.0        17\n",
       "6.0         9\n",
       "7.0         5\n",
       "9.0         4\n",
       "8.0         2\n",
       "15.0        1\n",
       "11.0        1\n",
       "10.0        1\n",
       "Name: Tax Liens, dtype: int64"
      ]
     },
     "execution_count": 87,
     "metadata": {},
     "output_type": "execute_result"
    }
   ],
   "source": [
    "df['Tax Liens'].value_counts()"
   ]
  },
  {
   "cell_type": "code",
   "execution_count": 88,
   "id": "ad57c7cf",
   "metadata": {},
   "outputs": [
    {
     "data": {
      "text/plain": [
       "array([0., 1., 3., 2., 4., 5., 7., 6.])"
      ]
     },
     "execution_count": 88,
     "metadata": {},
     "output_type": "execute_result"
    }
   ],
   "source": [
    "df['Bankruptcies'].unique()"
   ]
  },
  {
   "cell_type": "code",
   "execution_count": 89,
   "id": "af9fb75c",
   "metadata": {},
   "outputs": [
    {
     "data": {
      "text/html": [
       "<div>\n",
       "<style scoped>\n",
       "    .dataframe tbody tr th:only-of-type {\n",
       "        vertical-align: middle;\n",
       "    }\n",
       "\n",
       "    .dataframe tbody tr th {\n",
       "        vertical-align: top;\n",
       "    }\n",
       "\n",
       "    .dataframe thead th {\n",
       "        text-align: right;\n",
       "    }\n",
       "</style>\n",
       "<table border=\"1\" class=\"dataframe\">\n",
       "  <thead>\n",
       "    <tr style=\"text-align: right;\">\n",
       "      <th></th>\n",
       "      <th>0</th>\n",
       "      <th>1</th>\n",
       "      <th>2</th>\n",
       "      <th>3</th>\n",
       "      <th>4</th>\n",
       "      <th>5</th>\n",
       "      <th>6</th>\n",
       "      <th>7</th>\n",
       "      <th>8</th>\n",
       "      <th>9</th>\n",
       "      <th>...</th>\n",
       "      <th>88900</th>\n",
       "      <th>88901</th>\n",
       "      <th>88902</th>\n",
       "      <th>88903</th>\n",
       "      <th>88904</th>\n",
       "      <th>88905</th>\n",
       "      <th>88906</th>\n",
       "      <th>88907</th>\n",
       "      <th>88908</th>\n",
       "      <th>88909</th>\n",
       "    </tr>\n",
       "  </thead>\n",
       "  <tbody>\n",
       "    <tr>\n",
       "      <th>Loan ID</th>\n",
       "      <td>6cf51492-02a2-423e-b93d-676f05b9ad53</td>\n",
       "      <td>552e7ade-4292-4354-9ff9-c48031697d72</td>\n",
       "      <td>9b5e32b3-8d76-4801-afc8-d729d5a2e6b9</td>\n",
       "      <td>5419b7c7-ac11-4be2-a8a7-b131fb6d6dbe</td>\n",
       "      <td>1450910f-9495-4fc9-afaf-9bdf4b9821df</td>\n",
       "      <td>7e9f6759-6a13-48ef-adfa-ef9fbcfcfcc8</td>\n",
       "      <td>c2b0aa3e-555b-441b-a4aa-e0e4a52c87d3</td>\n",
       "      <td>233e0119-6dfe-47c0-a212-b4cc00371c8d</td>\n",
       "      <td>fc9d109b-15c2-4fe3-b7d8-27610b89f80b</td>\n",
       "      <td>35ee60ed-df2d-4d3a-98ba-03d944d65c74</td>\n",
       "      <td>...</td>\n",
       "      <td>6e399ba2-583b-4024-b5c6-e4b978d34676</td>\n",
       "      <td>93ad8c12-6b00-4e45-9699-89611a56cfa0</td>\n",
       "      <td>4e515bf9-3d42-4008-9e7f-0f5b11473156</td>\n",
       "      <td>b6d1ebb2-b4bf-480f-8d2e-79eb0af568cb</td>\n",
       "      <td>ad86a81e-be56-4285-bbec-16c492589c03</td>\n",
       "      <td>77d7330a-dedb-415a-ac55-865338f27c3f</td>\n",
       "      <td>7934a353-b3c5-430e-b7fb-03ff163aac20</td>\n",
       "      <td>d43b4c9c-8cb9-4cff-b86c-84b4f2c6aa13</td>\n",
       "      <td>e3ffa0d5-5164-4815-9231-7ae5e0887dfd</td>\n",
       "      <td>26e3e4f3-7442-4b68-bc2b-a9c4567f67ce</td>\n",
       "    </tr>\n",
       "    <tr>\n",
       "      <th>Customer ID</th>\n",
       "      <td>7c202b37-2add-44e8-9aea-d5b119aea935</td>\n",
       "      <td>e7217b0a-07ac-47dd-b379-577b5a35b7c6</td>\n",
       "      <td>0a62fc41-16c8-40b5-92ff-9e4b763ce714</td>\n",
       "      <td>30f36c59-5182-4482-8bbb-5b736849ae43</td>\n",
       "      <td>70c26012-bba5-42c0-8dcb-75295ada31bb</td>\n",
       "      <td>05301ee5-29ec-48b6-b3e5-0813ea25d684</td>\n",
       "      <td>db3e74ec-2123-4608-be8d-a93e98cabfcf</td>\n",
       "      <td>def66e46-951e-4bff-bf96-87ae6e092e19</td>\n",
       "      <td>f54c53e4-acd7-4e29-8f55-d2a247a4b62a</td>\n",
       "      <td>93cbb4b9-4e88-4b93-8beb-a2a00d415cd5</td>\n",
       "      <td>...</td>\n",
       "      <td>29e367b4-e5b0-473d-8823-ad4e9ecdde05</td>\n",
       "      <td>486e1077-d85a-4f34-b2d4-2423eebdfba4</td>\n",
       "      <td>99d16352-3d12-43ed-bffa-91e9e07136a0</td>\n",
       "      <td>c8bd9e53-27f2-46ce-a554-f987b01fb60c</td>\n",
       "      <td>ad6308bc-3f74-4481-b783-79136011f17d</td>\n",
       "      <td>8ab2250d-4807-4ba2-964e-670e886abbcf</td>\n",
       "      <td>341809ba-0559-4c66-a0fb-9f52471cd664</td>\n",
       "      <td>5dc48d5a-36e9-4e52-9568-d81f218386b0</td>\n",
       "      <td>2bfeb5be-6441-4e2d-be6e-20a138127d93</td>\n",
       "      <td>5514bfcc-e996-4d9b-80d4-9ea66dfa1ac5</td>\n",
       "    </tr>\n",
       "    <tr>\n",
       "      <th>Loan Status</th>\n",
       "      <td>Loan Refused</td>\n",
       "      <td>Loan Refused</td>\n",
       "      <td>Loan Refused</td>\n",
       "      <td>Loan Refused</td>\n",
       "      <td>Loan Refused</td>\n",
       "      <td>Loan Refused</td>\n",
       "      <td>Loan Refused</td>\n",
       "      <td>Loan Refused</td>\n",
       "      <td>Loan Refused</td>\n",
       "      <td>Loan Refused</td>\n",
       "      <td>...</td>\n",
       "      <td>Loan Given</td>\n",
       "      <td>Loan Given</td>\n",
       "      <td>Loan Given</td>\n",
       "      <td>Loan Refused</td>\n",
       "      <td>Loan Given</td>\n",
       "      <td>Loan Given</td>\n",
       "      <td>Loan Given</td>\n",
       "      <td>Loan Given</td>\n",
       "      <td>Loan Refused</td>\n",
       "      <td>Loan Given</td>\n",
       "    </tr>\n",
       "    <tr>\n",
       "      <th>Current Loan Amount</th>\n",
       "      <td>12232</td>\n",
       "      <td>25014</td>\n",
       "      <td>16117</td>\n",
       "      <td>11716</td>\n",
       "      <td>9789</td>\n",
       "      <td>11911</td>\n",
       "      <td>28988</td>\n",
       "      <td>17705</td>\n",
       "      <td>16812</td>\n",
       "      <td>9796</td>\n",
       "      <td>...</td>\n",
       "      <td>14668</td>\n",
       "      <td>8150</td>\n",
       "      <td>13415</td>\n",
       "      <td>34902</td>\n",
       "      <td>14840</td>\n",
       "      <td>10136</td>\n",
       "      <td>29610</td>\n",
       "      <td>24394</td>\n",
       "      <td>5030</td>\n",
       "      <td>18446</td>\n",
       "    </tr>\n",
       "    <tr>\n",
       "      <th>Term</th>\n",
       "      <td>Short Term</td>\n",
       "      <td>Long Term</td>\n",
       "      <td>Short Term</td>\n",
       "      <td>Short Term</td>\n",
       "      <td>Long Term</td>\n",
       "      <td>Short Term</td>\n",
       "      <td>Short Term</td>\n",
       "      <td>Long Term</td>\n",
       "      <td>Short Term</td>\n",
       "      <td>Long Term</td>\n",
       "      <td>...</td>\n",
       "      <td>Short Term</td>\n",
       "      <td>Short Term</td>\n",
       "      <td>Long Term</td>\n",
       "      <td>Long Term</td>\n",
       "      <td>Short Term</td>\n",
       "      <td>Short Term</td>\n",
       "      <td>Short Term</td>\n",
       "      <td>Short Term</td>\n",
       "      <td>Short Term</td>\n",
       "      <td>Short Term</td>\n",
       "    </tr>\n",
       "    <tr>\n",
       "      <th>Credit Score</th>\n",
       "      <td>728.0</td>\n",
       "      <td>733.0</td>\n",
       "      <td>724.0</td>\n",
       "      <td>740.0</td>\n",
       "      <td>686.0</td>\n",
       "      <td>742.0</td>\n",
       "      <td>742.0</td>\n",
       "      <td>663.0</td>\n",
       "      <td>736.0</td>\n",
       "      <td>672.0</td>\n",
       "      <td>...</td>\n",
       "      <td>733.0</td>\n",
       "      <td>746.0</td>\n",
       "      <td>717.0</td>\n",
       "      <td>650.0</td>\n",
       "      <td>730.0</td>\n",
       "      <td>728.0</td>\n",
       "      <td>710.0</td>\n",
       "      <td>746.0</td>\n",
       "      <td>722.0</td>\n",
       "      <td>718.0</td>\n",
       "    </tr>\n",
       "    <tr>\n",
       "      <th>Years in current job</th>\n",
       "      <td>&lt; 1 year</td>\n",
       "      <td>10+ years</td>\n",
       "      <td>9 years</td>\n",
       "      <td>3 years</td>\n",
       "      <td>10+ years</td>\n",
       "      <td>2 years</td>\n",
       "      <td>3 years</td>\n",
       "      <td>3 years</td>\n",
       "      <td>7 years</td>\n",
       "      <td>&lt; 1 year</td>\n",
       "      <td>...</td>\n",
       "      <td>10+ years</td>\n",
       "      <td>5 years</td>\n",
       "      <td>3 years</td>\n",
       "      <td>4 years</td>\n",
       "      <td>&lt; 1 year</td>\n",
       "      <td>10+ years</td>\n",
       "      <td>10+ years</td>\n",
       "      <td>NaN</td>\n",
       "      <td>NaN</td>\n",
       "      <td>6 years</td>\n",
       "    </tr>\n",
       "    <tr>\n",
       "      <th>Home Ownership</th>\n",
       "      <td>Rent</td>\n",
       "      <td>Home Mortgage</td>\n",
       "      <td>Home Mortgage</td>\n",
       "      <td>Rent</td>\n",
       "      <td>Home Mortgage</td>\n",
       "      <td>Home Mortgage</td>\n",
       "      <td>Home Mortgage</td>\n",
       "      <td>Own Home</td>\n",
       "      <td>Rent</td>\n",
       "      <td>Rent</td>\n",
       "      <td>...</td>\n",
       "      <td>Home Mortgage</td>\n",
       "      <td>Rent</td>\n",
       "      <td>Home Mortgage</td>\n",
       "      <td>Home Mortgage</td>\n",
       "      <td>Rent</td>\n",
       "      <td>Rent</td>\n",
       "      <td>Home Mortgage</td>\n",
       "      <td>Home Mortgage</td>\n",
       "      <td>Rent</td>\n",
       "      <td>Rent</td>\n",
       "    </tr>\n",
       "    <tr>\n",
       "      <th>Annual Income</th>\n",
       "      <td>46643.0</td>\n",
       "      <td>81099.0</td>\n",
       "      <td>60438.0</td>\n",
       "      <td>34171.0</td>\n",
       "      <td>47003.0</td>\n",
       "      <td>70475.0</td>\n",
       "      <td>58074.0</td>\n",
       "      <td>49180.0</td>\n",
       "      <td>50945.0</td>\n",
       "      <td>58776.0</td>\n",
       "      <td>...</td>\n",
       "      <td>112046.0</td>\n",
       "      <td>35658.0</td>\n",
       "      <td>35571.0</td>\n",
       "      <td>147645.0</td>\n",
       "      <td>47652.0</td>\n",
       "      <td>35476.0</td>\n",
       "      <td>123375.0</td>\n",
       "      <td>71148.0</td>\n",
       "      <td>25424.0</td>\n",
       "      <td>44066.0</td>\n",
       "    </tr>\n",
       "    <tr>\n",
       "      <th>Purpose</th>\n",
       "      <td>Debt Consolidation</td>\n",
       "      <td>Debt Consolidation</td>\n",
       "      <td>Home Improvements</td>\n",
       "      <td>Debt Consolidation</td>\n",
       "      <td>Home Improvements</td>\n",
       "      <td>other</td>\n",
       "      <td>Debt Consolidation</td>\n",
       "      <td>Debt Consolidation</td>\n",
       "      <td>Debt Consolidation</td>\n",
       "      <td>Debt Consolidation</td>\n",
       "      <td>...</td>\n",
       "      <td>Debt Consolidation</td>\n",
       "      <td>other</td>\n",
       "      <td>Debt Consolidation</td>\n",
       "      <td>Debt Consolidation</td>\n",
       "      <td>Debt Consolidation</td>\n",
       "      <td>Debt Consolidation</td>\n",
       "      <td>Debt Consolidation</td>\n",
       "      <td>Debt Consolidation</td>\n",
       "      <td>Debt Consolidation</td>\n",
       "      <td>Debt Consolidation</td>\n",
       "    </tr>\n",
       "    <tr>\n",
       "      <th>Monthly Debt</th>\n",
       "      <td>777.39</td>\n",
       "      <td>892.09</td>\n",
       "      <td>1244.02</td>\n",
       "      <td>990.94</td>\n",
       "      <td>503.71</td>\n",
       "      <td>886.81</td>\n",
       "      <td>871.11</td>\n",
       "      <td>274.59</td>\n",
       "      <td>590.12</td>\n",
       "      <td>666.13</td>\n",
       "      <td>...</td>\n",
       "      <td>471.53</td>\n",
       "      <td>253.76</td>\n",
       "      <td>818.12</td>\n",
       "      <td>2767.23</td>\n",
       "      <td>1238.95</td>\n",
       "      <td>567.62</td>\n",
       "      <td>2508.63</td>\n",
       "      <td>818.2</td>\n",
       "      <td>360.17</td>\n",
       "      <td>749.13</td>\n",
       "    </tr>\n",
       "    <tr>\n",
       "      <th>Years of Credit History</th>\n",
       "      <td>18.0</td>\n",
       "      <td>26.7</td>\n",
       "      <td>16.7</td>\n",
       "      <td>10.0</td>\n",
       "      <td>16.7</td>\n",
       "      <td>17.7</td>\n",
       "      <td>22.8</td>\n",
       "      <td>30.2</td>\n",
       "      <td>14.6</td>\n",
       "      <td>9.4</td>\n",
       "      <td>...</td>\n",
       "      <td>11.6</td>\n",
       "      <td>12.0</td>\n",
       "      <td>15.6</td>\n",
       "      <td>39.1</td>\n",
       "      <td>23.2</td>\n",
       "      <td>21.2</td>\n",
       "      <td>15.0</td>\n",
       "      <td>36.4</td>\n",
       "      <td>19.0</td>\n",
       "      <td>10.7</td>\n",
       "    </tr>\n",
       "    <tr>\n",
       "      <th>Months since last delinquent</th>\n",
       "      <td>10.0</td>\n",
       "      <td>NaN</td>\n",
       "      <td>32.0</td>\n",
       "      <td>NaN</td>\n",
       "      <td>25.0</td>\n",
       "      <td>NaN</td>\n",
       "      <td>NaN</td>\n",
       "      <td>NaN</td>\n",
       "      <td>NaN</td>\n",
       "      <td>17.0</td>\n",
       "      <td>...</td>\n",
       "      <td>NaN</td>\n",
       "      <td>38.0</td>\n",
       "      <td>NaN</td>\n",
       "      <td>18.0</td>\n",
       "      <td>NaN</td>\n",
       "      <td>14.0</td>\n",
       "      <td>16.0</td>\n",
       "      <td>9.0</td>\n",
       "      <td>7.0</td>\n",
       "      <td>NaN</td>\n",
       "    </tr>\n",
       "    <tr>\n",
       "      <th>Number of Open Accounts</th>\n",
       "      <td>12</td>\n",
       "      <td>14</td>\n",
       "      <td>11</td>\n",
       "      <td>21</td>\n",
       "      <td>13</td>\n",
       "      <td>13</td>\n",
       "      <td>9</td>\n",
       "      <td>10</td>\n",
       "      <td>9</td>\n",
       "      <td>12</td>\n",
       "      <td>...</td>\n",
       "      <td>10</td>\n",
       "      <td>7</td>\n",
       "      <td>6</td>\n",
       "      <td>19</td>\n",
       "      <td>13</td>\n",
       "      <td>14</td>\n",
       "      <td>11</td>\n",
       "      <td>8</td>\n",
       "      <td>12</td>\n",
       "      <td>18</td>\n",
       "    </tr>\n",
       "    <tr>\n",
       "      <th>Number of Credit Problems</th>\n",
       "      <td>0</td>\n",
       "      <td>0</td>\n",
       "      <td>1</td>\n",
       "      <td>0</td>\n",
       "      <td>1</td>\n",
       "      <td>0</td>\n",
       "      <td>0</td>\n",
       "      <td>1</td>\n",
       "      <td>0</td>\n",
       "      <td>0</td>\n",
       "      <td>...</td>\n",
       "      <td>2</td>\n",
       "      <td>0</td>\n",
       "      <td>0</td>\n",
       "      <td>0</td>\n",
       "      <td>0</td>\n",
       "      <td>0</td>\n",
       "      <td>0</td>\n",
       "      <td>0</td>\n",
       "      <td>0</td>\n",
       "      <td>1</td>\n",
       "    </tr>\n",
       "    <tr>\n",
       "      <th>Current Credit Balance</th>\n",
       "      <td>82.231381</td>\n",
       "      <td>188.960313</td>\n",
       "      <td>106.183803</td>\n",
       "      <td>83.719771</td>\n",
       "      <td>130.04999</td>\n",
       "      <td>167.964282</td>\n",
       "      <td>120.095795</td>\n",
       "      <td>65.207362</td>\n",
       "      <td>113.591373</td>\n",
       "      <td>70.278019</td>\n",
       "      <td>...</td>\n",
       "      <td>101.183003</td>\n",
       "      <td>58.446557</td>\n",
       "      <td>111.919614</td>\n",
       "      <td>186.233724</td>\n",
       "      <td>169.502212</td>\n",
       "      <td>126.150704</td>\n",
       "      <td>133.142781</td>\n",
       "      <td>211.489952</td>\n",
       "      <td>79.837335</td>\n",
       "      <td>81.963406</td>\n",
       "    </tr>\n",
       "    <tr>\n",
       "      <th>Maximum Open Credit</th>\n",
       "      <td>7946.0</td>\n",
       "      <td>77961.0</td>\n",
       "      <td>14815.0</td>\n",
       "      <td>43533.0</td>\n",
       "      <td>19553.0</td>\n",
       "      <td>59897.0</td>\n",
       "      <td>54018.0</td>\n",
       "      <td>25012.0</td>\n",
       "      <td>15379.0</td>\n",
       "      <td>15198.0</td>\n",
       "      <td>...</td>\n",
       "      <td>19880.0</td>\n",
       "      <td>11619.0</td>\n",
       "      <td>18696.0</td>\n",
       "      <td>41989.0</td>\n",
       "      <td>42690.0</td>\n",
       "      <td>28265.0</td>\n",
       "      <td>32766.0</td>\n",
       "      <td>53374.0</td>\n",
       "      <td>18422.0</td>\n",
       "      <td>21124.0</td>\n",
       "    </tr>\n",
       "    <tr>\n",
       "      <th>Bankruptcies</th>\n",
       "      <td>0.0</td>\n",
       "      <td>0.0</td>\n",
       "      <td>1.0</td>\n",
       "      <td>0.0</td>\n",
       "      <td>1.0</td>\n",
       "      <td>0.0</td>\n",
       "      <td>0.0</td>\n",
       "      <td>1.0</td>\n",
       "      <td>0.0</td>\n",
       "      <td>0.0</td>\n",
       "      <td>...</td>\n",
       "      <td>0.0</td>\n",
       "      <td>0.0</td>\n",
       "      <td>0.0</td>\n",
       "      <td>0.0</td>\n",
       "      <td>0.0</td>\n",
       "      <td>0.0</td>\n",
       "      <td>0.0</td>\n",
       "      <td>0.0</td>\n",
       "      <td>0.0</td>\n",
       "      <td>0.0</td>\n",
       "    </tr>\n",
       "    <tr>\n",
       "      <th>Tax Liens</th>\n",
       "      <td>0.0</td>\n",
       "      <td>0.0</td>\n",
       "      <td>0.0</td>\n",
       "      <td>0.0</td>\n",
       "      <td>0.0</td>\n",
       "      <td>0.0</td>\n",
       "      <td>0.0</td>\n",
       "      <td>0.0</td>\n",
       "      <td>0.0</td>\n",
       "      <td>0.0</td>\n",
       "      <td>...</td>\n",
       "      <td>2.0</td>\n",
       "      <td>0.0</td>\n",
       "      <td>0.0</td>\n",
       "      <td>0.0</td>\n",
       "      <td>0.0</td>\n",
       "      <td>0.0</td>\n",
       "      <td>0.0</td>\n",
       "      <td>0.0</td>\n",
       "      <td>0.0</td>\n",
       "      <td>1.0</td>\n",
       "    </tr>\n",
       "    <tr>\n",
       "      <th>Credit Score_1</th>\n",
       "      <td>728.0</td>\n",
       "      <td>733.0</td>\n",
       "      <td>724.0</td>\n",
       "      <td>740.0</td>\n",
       "      <td>686.0</td>\n",
       "      <td>742.0</td>\n",
       "      <td>742.0</td>\n",
       "      <td>663.0</td>\n",
       "      <td>736.0</td>\n",
       "      <td>672.0</td>\n",
       "      <td>...</td>\n",
       "      <td>733.0</td>\n",
       "      <td>746.0</td>\n",
       "      <td>717.0</td>\n",
       "      <td>650.0</td>\n",
       "      <td>730.0</td>\n",
       "      <td>728.0</td>\n",
       "      <td>710.0</td>\n",
       "      <td>746.0</td>\n",
       "      <td>722.0</td>\n",
       "      <td>718.0</td>\n",
       "    </tr>\n",
       "  </tbody>\n",
       "</table>\n",
       "<p>20 rows × 88910 columns</p>\n",
       "</div>"
      ],
      "text/plain": [
       "                                                             0      \\\n",
       "Loan ID                       6cf51492-02a2-423e-b93d-676f05b9ad53   \n",
       "Customer ID                   7c202b37-2add-44e8-9aea-d5b119aea935   \n",
       "Loan Status                                           Loan Refused   \n",
       "Current Loan Amount                                          12232   \n",
       "Term                                                    Short Term   \n",
       "Credit Score                                                 728.0   \n",
       "Years in current job                                      < 1 year   \n",
       "Home Ownership                                                Rent   \n",
       "Annual Income                                              46643.0   \n",
       "Purpose                                         Debt Consolidation   \n",
       "Monthly Debt                                                777.39   \n",
       "Years of Credit History                                       18.0   \n",
       "Months since last delinquent                                  10.0   \n",
       "Number of Open Accounts                                         12   \n",
       "Number of Credit Problems                                        0   \n",
       "Current Credit Balance                                   82.231381   \n",
       "Maximum Open Credit                                         7946.0   \n",
       "Bankruptcies                                                   0.0   \n",
       "Tax Liens                                                      0.0   \n",
       "Credit Score_1                                               728.0   \n",
       "\n",
       "                                                             1      \\\n",
       "Loan ID                       552e7ade-4292-4354-9ff9-c48031697d72   \n",
       "Customer ID                   e7217b0a-07ac-47dd-b379-577b5a35b7c6   \n",
       "Loan Status                                           Loan Refused   \n",
       "Current Loan Amount                                          25014   \n",
       "Term                                                     Long Term   \n",
       "Credit Score                                                 733.0   \n",
       "Years in current job                                     10+ years   \n",
       "Home Ownership                                       Home Mortgage   \n",
       "Annual Income                                              81099.0   \n",
       "Purpose                                         Debt Consolidation   \n",
       "Monthly Debt                                                892.09   \n",
       "Years of Credit History                                       26.7   \n",
       "Months since last delinquent                                   NaN   \n",
       "Number of Open Accounts                                         14   \n",
       "Number of Credit Problems                                        0   \n",
       "Current Credit Balance                                  188.960313   \n",
       "Maximum Open Credit                                        77961.0   \n",
       "Bankruptcies                                                   0.0   \n",
       "Tax Liens                                                      0.0   \n",
       "Credit Score_1                                               733.0   \n",
       "\n",
       "                                                             2      \\\n",
       "Loan ID                       9b5e32b3-8d76-4801-afc8-d729d5a2e6b9   \n",
       "Customer ID                   0a62fc41-16c8-40b5-92ff-9e4b763ce714   \n",
       "Loan Status                                           Loan Refused   \n",
       "Current Loan Amount                                          16117   \n",
       "Term                                                    Short Term   \n",
       "Credit Score                                                 724.0   \n",
       "Years in current job                                       9 years   \n",
       "Home Ownership                                       Home Mortgage   \n",
       "Annual Income                                              60438.0   \n",
       "Purpose                                          Home Improvements   \n",
       "Monthly Debt                                               1244.02   \n",
       "Years of Credit History                                       16.7   \n",
       "Months since last delinquent                                  32.0   \n",
       "Number of Open Accounts                                         11   \n",
       "Number of Credit Problems                                        1   \n",
       "Current Credit Balance                                  106.183803   \n",
       "Maximum Open Credit                                        14815.0   \n",
       "Bankruptcies                                                   1.0   \n",
       "Tax Liens                                                      0.0   \n",
       "Credit Score_1                                               724.0   \n",
       "\n",
       "                                                             3      \\\n",
       "Loan ID                       5419b7c7-ac11-4be2-a8a7-b131fb6d6dbe   \n",
       "Customer ID                   30f36c59-5182-4482-8bbb-5b736849ae43   \n",
       "Loan Status                                           Loan Refused   \n",
       "Current Loan Amount                                          11716   \n",
       "Term                                                    Short Term   \n",
       "Credit Score                                                 740.0   \n",
       "Years in current job                                       3 years   \n",
       "Home Ownership                                                Rent   \n",
       "Annual Income                                              34171.0   \n",
       "Purpose                                         Debt Consolidation   \n",
       "Monthly Debt                                                990.94   \n",
       "Years of Credit History                                       10.0   \n",
       "Months since last delinquent                                   NaN   \n",
       "Number of Open Accounts                                         21   \n",
       "Number of Credit Problems                                        0   \n",
       "Current Credit Balance                                   83.719771   \n",
       "Maximum Open Credit                                        43533.0   \n",
       "Bankruptcies                                                   0.0   \n",
       "Tax Liens                                                      0.0   \n",
       "Credit Score_1                                               740.0   \n",
       "\n",
       "                                                             4      \\\n",
       "Loan ID                       1450910f-9495-4fc9-afaf-9bdf4b9821df   \n",
       "Customer ID                   70c26012-bba5-42c0-8dcb-75295ada31bb   \n",
       "Loan Status                                           Loan Refused   \n",
       "Current Loan Amount                                           9789   \n",
       "Term                                                     Long Term   \n",
       "Credit Score                                                 686.0   \n",
       "Years in current job                                     10+ years   \n",
       "Home Ownership                                       Home Mortgage   \n",
       "Annual Income                                              47003.0   \n",
       "Purpose                                          Home Improvements   \n",
       "Monthly Debt                                                503.71   \n",
       "Years of Credit History                                       16.7   \n",
       "Months since last delinquent                                  25.0   \n",
       "Number of Open Accounts                                         13   \n",
       "Number of Credit Problems                                        1   \n",
       "Current Credit Balance                                   130.04999   \n",
       "Maximum Open Credit                                        19553.0   \n",
       "Bankruptcies                                                   1.0   \n",
       "Tax Liens                                                      0.0   \n",
       "Credit Score_1                                               686.0   \n",
       "\n",
       "                                                             5      \\\n",
       "Loan ID                       7e9f6759-6a13-48ef-adfa-ef9fbcfcfcc8   \n",
       "Customer ID                   05301ee5-29ec-48b6-b3e5-0813ea25d684   \n",
       "Loan Status                                           Loan Refused   \n",
       "Current Loan Amount                                          11911   \n",
       "Term                                                    Short Term   \n",
       "Credit Score                                                 742.0   \n",
       "Years in current job                                       2 years   \n",
       "Home Ownership                                       Home Mortgage   \n",
       "Annual Income                                              70475.0   \n",
       "Purpose                                                      other   \n",
       "Monthly Debt                                                886.81   \n",
       "Years of Credit History                                       17.7   \n",
       "Months since last delinquent                                   NaN   \n",
       "Number of Open Accounts                                         13   \n",
       "Number of Credit Problems                                        0   \n",
       "Current Credit Balance                                  167.964282   \n",
       "Maximum Open Credit                                        59897.0   \n",
       "Bankruptcies                                                   0.0   \n",
       "Tax Liens                                                      0.0   \n",
       "Credit Score_1                                               742.0   \n",
       "\n",
       "                                                             6      \\\n",
       "Loan ID                       c2b0aa3e-555b-441b-a4aa-e0e4a52c87d3   \n",
       "Customer ID                   db3e74ec-2123-4608-be8d-a93e98cabfcf   \n",
       "Loan Status                                           Loan Refused   \n",
       "Current Loan Amount                                          28988   \n",
       "Term                                                    Short Term   \n",
       "Credit Score                                                 742.0   \n",
       "Years in current job                                       3 years   \n",
       "Home Ownership                                       Home Mortgage   \n",
       "Annual Income                                              58074.0   \n",
       "Purpose                                         Debt Consolidation   \n",
       "Monthly Debt                                                871.11   \n",
       "Years of Credit History                                       22.8   \n",
       "Months since last delinquent                                   NaN   \n",
       "Number of Open Accounts                                          9   \n",
       "Number of Credit Problems                                        0   \n",
       "Current Credit Balance                                  120.095795   \n",
       "Maximum Open Credit                                        54018.0   \n",
       "Bankruptcies                                                   0.0   \n",
       "Tax Liens                                                      0.0   \n",
       "Credit Score_1                                               742.0   \n",
       "\n",
       "                                                             7      \\\n",
       "Loan ID                       233e0119-6dfe-47c0-a212-b4cc00371c8d   \n",
       "Customer ID                   def66e46-951e-4bff-bf96-87ae6e092e19   \n",
       "Loan Status                                           Loan Refused   \n",
       "Current Loan Amount                                          17705   \n",
       "Term                                                     Long Term   \n",
       "Credit Score                                                 663.0   \n",
       "Years in current job                                       3 years   \n",
       "Home Ownership                                            Own Home   \n",
       "Annual Income                                              49180.0   \n",
       "Purpose                                         Debt Consolidation   \n",
       "Monthly Debt                                                274.59   \n",
       "Years of Credit History                                       30.2   \n",
       "Months since last delinquent                                   NaN   \n",
       "Number of Open Accounts                                         10   \n",
       "Number of Credit Problems                                        1   \n",
       "Current Credit Balance                                   65.207362   \n",
       "Maximum Open Credit                                        25012.0   \n",
       "Bankruptcies                                                   1.0   \n",
       "Tax Liens                                                      0.0   \n",
       "Credit Score_1                                               663.0   \n",
       "\n",
       "                                                             8      \\\n",
       "Loan ID                       fc9d109b-15c2-4fe3-b7d8-27610b89f80b   \n",
       "Customer ID                   f54c53e4-acd7-4e29-8f55-d2a247a4b62a   \n",
       "Loan Status                                           Loan Refused   \n",
       "Current Loan Amount                                          16812   \n",
       "Term                                                    Short Term   \n",
       "Credit Score                                                 736.0   \n",
       "Years in current job                                       7 years   \n",
       "Home Ownership                                                Rent   \n",
       "Annual Income                                              50945.0   \n",
       "Purpose                                         Debt Consolidation   \n",
       "Monthly Debt                                                590.12   \n",
       "Years of Credit History                                       14.6   \n",
       "Months since last delinquent                                   NaN   \n",
       "Number of Open Accounts                                          9   \n",
       "Number of Credit Problems                                        0   \n",
       "Current Credit Balance                                  113.591373   \n",
       "Maximum Open Credit                                        15379.0   \n",
       "Bankruptcies                                                   0.0   \n",
       "Tax Liens                                                      0.0   \n",
       "Credit Score_1                                               736.0   \n",
       "\n",
       "                                                             9      ...  \\\n",
       "Loan ID                       35ee60ed-df2d-4d3a-98ba-03d944d65c74  ...   \n",
       "Customer ID                   93cbb4b9-4e88-4b93-8beb-a2a00d415cd5  ...   \n",
       "Loan Status                                           Loan Refused  ...   \n",
       "Current Loan Amount                                           9796  ...   \n",
       "Term                                                     Long Term  ...   \n",
       "Credit Score                                                 672.0  ...   \n",
       "Years in current job                                      < 1 year  ...   \n",
       "Home Ownership                                                Rent  ...   \n",
       "Annual Income                                              58776.0  ...   \n",
       "Purpose                                         Debt Consolidation  ...   \n",
       "Monthly Debt                                                666.13  ...   \n",
       "Years of Credit History                                        9.4  ...   \n",
       "Months since last delinquent                                  17.0  ...   \n",
       "Number of Open Accounts                                         12  ...   \n",
       "Number of Credit Problems                                        0  ...   \n",
       "Current Credit Balance                                   70.278019  ...   \n",
       "Maximum Open Credit                                        15198.0  ...   \n",
       "Bankruptcies                                                   0.0  ...   \n",
       "Tax Liens                                                      0.0  ...   \n",
       "Credit Score_1                                               672.0  ...   \n",
       "\n",
       "                                                             88900  \\\n",
       "Loan ID                       6e399ba2-583b-4024-b5c6-e4b978d34676   \n",
       "Customer ID                   29e367b4-e5b0-473d-8823-ad4e9ecdde05   \n",
       "Loan Status                                             Loan Given   \n",
       "Current Loan Amount                                          14668   \n",
       "Term                                                    Short Term   \n",
       "Credit Score                                                 733.0   \n",
       "Years in current job                                     10+ years   \n",
       "Home Ownership                                       Home Mortgage   \n",
       "Annual Income                                             112046.0   \n",
       "Purpose                                         Debt Consolidation   \n",
       "Monthly Debt                                                471.53   \n",
       "Years of Credit History                                       11.6   \n",
       "Months since last delinquent                                   NaN   \n",
       "Number of Open Accounts                                         10   \n",
       "Number of Credit Problems                                        2   \n",
       "Current Credit Balance                                  101.183003   \n",
       "Maximum Open Credit                                        19880.0   \n",
       "Bankruptcies                                                   0.0   \n",
       "Tax Liens                                                      2.0   \n",
       "Credit Score_1                                               733.0   \n",
       "\n",
       "                                                             88901  \\\n",
       "Loan ID                       93ad8c12-6b00-4e45-9699-89611a56cfa0   \n",
       "Customer ID                   486e1077-d85a-4f34-b2d4-2423eebdfba4   \n",
       "Loan Status                                             Loan Given   \n",
       "Current Loan Amount                                           8150   \n",
       "Term                                                    Short Term   \n",
       "Credit Score                                                 746.0   \n",
       "Years in current job                                       5 years   \n",
       "Home Ownership                                                Rent   \n",
       "Annual Income                                              35658.0   \n",
       "Purpose                                                      other   \n",
       "Monthly Debt                                                253.76   \n",
       "Years of Credit History                                       12.0   \n",
       "Months since last delinquent                                  38.0   \n",
       "Number of Open Accounts                                          7   \n",
       "Number of Credit Problems                                        0   \n",
       "Current Credit Balance                                   58.446557   \n",
       "Maximum Open Credit                                        11619.0   \n",
       "Bankruptcies                                                   0.0   \n",
       "Tax Liens                                                      0.0   \n",
       "Credit Score_1                                               746.0   \n",
       "\n",
       "                                                             88902  \\\n",
       "Loan ID                       4e515bf9-3d42-4008-9e7f-0f5b11473156   \n",
       "Customer ID                   99d16352-3d12-43ed-bffa-91e9e07136a0   \n",
       "Loan Status                                             Loan Given   \n",
       "Current Loan Amount                                          13415   \n",
       "Term                                                     Long Term   \n",
       "Credit Score                                                 717.0   \n",
       "Years in current job                                       3 years   \n",
       "Home Ownership                                       Home Mortgage   \n",
       "Annual Income                                              35571.0   \n",
       "Purpose                                         Debt Consolidation   \n",
       "Monthly Debt                                                818.12   \n",
       "Years of Credit History                                       15.6   \n",
       "Months since last delinquent                                   NaN   \n",
       "Number of Open Accounts                                          6   \n",
       "Number of Credit Problems                                        0   \n",
       "Current Credit Balance                                  111.919614   \n",
       "Maximum Open Credit                                        18696.0   \n",
       "Bankruptcies                                                   0.0   \n",
       "Tax Liens                                                      0.0   \n",
       "Credit Score_1                                               717.0   \n",
       "\n",
       "                                                             88903  \\\n",
       "Loan ID                       b6d1ebb2-b4bf-480f-8d2e-79eb0af568cb   \n",
       "Customer ID                   c8bd9e53-27f2-46ce-a554-f987b01fb60c   \n",
       "Loan Status                                           Loan Refused   \n",
       "Current Loan Amount                                          34902   \n",
       "Term                                                     Long Term   \n",
       "Credit Score                                                 650.0   \n",
       "Years in current job                                       4 years   \n",
       "Home Ownership                                       Home Mortgage   \n",
       "Annual Income                                             147645.0   \n",
       "Purpose                                         Debt Consolidation   \n",
       "Monthly Debt                                               2767.23   \n",
       "Years of Credit History                                       39.1   \n",
       "Months since last delinquent                                  18.0   \n",
       "Number of Open Accounts                                         19   \n",
       "Number of Credit Problems                                        0   \n",
       "Current Credit Balance                                  186.233724   \n",
       "Maximum Open Credit                                        41989.0   \n",
       "Bankruptcies                                                   0.0   \n",
       "Tax Liens                                                      0.0   \n",
       "Credit Score_1                                               650.0   \n",
       "\n",
       "                                                             88904  \\\n",
       "Loan ID                       ad86a81e-be56-4285-bbec-16c492589c03   \n",
       "Customer ID                   ad6308bc-3f74-4481-b783-79136011f17d   \n",
       "Loan Status                                             Loan Given   \n",
       "Current Loan Amount                                          14840   \n",
       "Term                                                    Short Term   \n",
       "Credit Score                                                 730.0   \n",
       "Years in current job                                      < 1 year   \n",
       "Home Ownership                                                Rent   \n",
       "Annual Income                                              47652.0   \n",
       "Purpose                                         Debt Consolidation   \n",
       "Monthly Debt                                               1238.95   \n",
       "Years of Credit History                                       23.2   \n",
       "Months since last delinquent                                   NaN   \n",
       "Number of Open Accounts                                         13   \n",
       "Number of Credit Problems                                        0   \n",
       "Current Credit Balance                                  169.502212   \n",
       "Maximum Open Credit                                        42690.0   \n",
       "Bankruptcies                                                   0.0   \n",
       "Tax Liens                                                      0.0   \n",
       "Credit Score_1                                               730.0   \n",
       "\n",
       "                                                             88905  \\\n",
       "Loan ID                       77d7330a-dedb-415a-ac55-865338f27c3f   \n",
       "Customer ID                   8ab2250d-4807-4ba2-964e-670e886abbcf   \n",
       "Loan Status                                             Loan Given   \n",
       "Current Loan Amount                                          10136   \n",
       "Term                                                    Short Term   \n",
       "Credit Score                                                 728.0   \n",
       "Years in current job                                     10+ years   \n",
       "Home Ownership                                                Rent   \n",
       "Annual Income                                              35476.0   \n",
       "Purpose                                         Debt Consolidation   \n",
       "Monthly Debt                                                567.62   \n",
       "Years of Credit History                                       21.2   \n",
       "Months since last delinquent                                  14.0   \n",
       "Number of Open Accounts                                         14   \n",
       "Number of Credit Problems                                        0   \n",
       "Current Credit Balance                                  126.150704   \n",
       "Maximum Open Credit                                        28265.0   \n",
       "Bankruptcies                                                   0.0   \n",
       "Tax Liens                                                      0.0   \n",
       "Credit Score_1                                               728.0   \n",
       "\n",
       "                                                             88906  \\\n",
       "Loan ID                       7934a353-b3c5-430e-b7fb-03ff163aac20   \n",
       "Customer ID                   341809ba-0559-4c66-a0fb-9f52471cd664   \n",
       "Loan Status                                             Loan Given   \n",
       "Current Loan Amount                                          29610   \n",
       "Term                                                    Short Term   \n",
       "Credit Score                                                 710.0   \n",
       "Years in current job                                     10+ years   \n",
       "Home Ownership                                       Home Mortgage   \n",
       "Annual Income                                             123375.0   \n",
       "Purpose                                         Debt Consolidation   \n",
       "Monthly Debt                                               2508.63   \n",
       "Years of Credit History                                       15.0   \n",
       "Months since last delinquent                                  16.0   \n",
       "Number of Open Accounts                                         11   \n",
       "Number of Credit Problems                                        0   \n",
       "Current Credit Balance                                  133.142781   \n",
       "Maximum Open Credit                                        32766.0   \n",
       "Bankruptcies                                                   0.0   \n",
       "Tax Liens                                                      0.0   \n",
       "Credit Score_1                                               710.0   \n",
       "\n",
       "                                                             88907  \\\n",
       "Loan ID                       d43b4c9c-8cb9-4cff-b86c-84b4f2c6aa13   \n",
       "Customer ID                   5dc48d5a-36e9-4e52-9568-d81f218386b0   \n",
       "Loan Status                                             Loan Given   \n",
       "Current Loan Amount                                          24394   \n",
       "Term                                                    Short Term   \n",
       "Credit Score                                                 746.0   \n",
       "Years in current job                                           NaN   \n",
       "Home Ownership                                       Home Mortgage   \n",
       "Annual Income                                              71148.0   \n",
       "Purpose                                         Debt Consolidation   \n",
       "Monthly Debt                                                 818.2   \n",
       "Years of Credit History                                       36.4   \n",
       "Months since last delinquent                                   9.0   \n",
       "Number of Open Accounts                                          8   \n",
       "Number of Credit Problems                                        0   \n",
       "Current Credit Balance                                  211.489952   \n",
       "Maximum Open Credit                                        53374.0   \n",
       "Bankruptcies                                                   0.0   \n",
       "Tax Liens                                                      0.0   \n",
       "Credit Score_1                                               746.0   \n",
       "\n",
       "                                                             88908  \\\n",
       "Loan ID                       e3ffa0d5-5164-4815-9231-7ae5e0887dfd   \n",
       "Customer ID                   2bfeb5be-6441-4e2d-be6e-20a138127d93   \n",
       "Loan Status                                           Loan Refused   \n",
       "Current Loan Amount                                           5030   \n",
       "Term                                                    Short Term   \n",
       "Credit Score                                                 722.0   \n",
       "Years in current job                                           NaN   \n",
       "Home Ownership                                                Rent   \n",
       "Annual Income                                              25424.0   \n",
       "Purpose                                         Debt Consolidation   \n",
       "Monthly Debt                                                360.17   \n",
       "Years of Credit History                                       19.0   \n",
       "Months since last delinquent                                   7.0   \n",
       "Number of Open Accounts                                         12   \n",
       "Number of Credit Problems                                        0   \n",
       "Current Credit Balance                                   79.837335   \n",
       "Maximum Open Credit                                        18422.0   \n",
       "Bankruptcies                                                   0.0   \n",
       "Tax Liens                                                      0.0   \n",
       "Credit Score_1                                               722.0   \n",
       "\n",
       "                                                             88909  \n",
       "Loan ID                       26e3e4f3-7442-4b68-bc2b-a9c4567f67ce  \n",
       "Customer ID                   5514bfcc-e996-4d9b-80d4-9ea66dfa1ac5  \n",
       "Loan Status                                             Loan Given  \n",
       "Current Loan Amount                                          18446  \n",
       "Term                                                    Short Term  \n",
       "Credit Score                                                 718.0  \n",
       "Years in current job                                       6 years  \n",
       "Home Ownership                                                Rent  \n",
       "Annual Income                                              44066.0  \n",
       "Purpose                                         Debt Consolidation  \n",
       "Monthly Debt                                                749.13  \n",
       "Years of Credit History                                       10.7  \n",
       "Months since last delinquent                                   NaN  \n",
       "Number of Open Accounts                                         18  \n",
       "Number of Credit Problems                                        1  \n",
       "Current Credit Balance                                   81.963406  \n",
       "Maximum Open Credit                                        21124.0  \n",
       "Bankruptcies                                                   0.0  \n",
       "Tax Liens                                                      1.0  \n",
       "Credit Score_1                                               718.0  \n",
       "\n",
       "[20 rows x 88910 columns]"
      ]
     },
     "execution_count": 89,
     "metadata": {},
     "output_type": "execute_result"
    }
   ],
   "source": [
    "df.T"
   ]
  },
  {
   "cell_type": "markdown",
   "id": "4ff50070",
   "metadata": {},
   "source": [
    "### Missing Values"
   ]
  },
  {
   "cell_type": "code",
   "execution_count": 90,
   "id": "37572820",
   "metadata": {},
   "outputs": [
    {
     "name": "stdout",
     "output_type": "stream",
     "text": [
      "[SoftImpute] Max Singular Value of X_init = 22033008.921397\n",
      "[SoftImpute] Iter 1: observed MAE=252.662721 rank=3\n",
      "[SoftImpute] Iter 2: observed MAE=252.638938 rank=3\n",
      "[SoftImpute] Iter 3: observed MAE=252.664481 rank=3\n",
      "[SoftImpute] Iter 4: observed MAE=252.702156 rank=3\n",
      "[SoftImpute] Iter 5: observed MAE=252.742178 rank=3\n",
      "[SoftImpute] Iter 6: observed MAE=252.781822 rank=3\n",
      "[SoftImpute] Iter 7: observed MAE=252.820282 rank=3\n",
      "[SoftImpute] Iter 8: observed MAE=252.857189 rank=3\n",
      "[SoftImpute] Iter 9: observed MAE=252.892613 rank=3\n",
      "[SoftImpute] Iter 10: observed MAE=252.926282 rank=3\n",
      "[SoftImpute] Iter 11: observed MAE=252.958314 rank=3\n",
      "[SoftImpute] Iter 12: observed MAE=252.988789 rank=3\n",
      "[SoftImpute] Iter 13: observed MAE=253.017703 rank=3\n",
      "[SoftImpute] Iter 14: observed MAE=253.045116 rank=3\n",
      "[SoftImpute] Iter 15: observed MAE=253.071123 rank=3\n",
      "[SoftImpute] Iter 16: observed MAE=253.095754 rank=3\n",
      "[SoftImpute] Iter 17: observed MAE=253.118984 rank=3\n",
      "[SoftImpute] Iter 18: observed MAE=253.140987 rank=3\n",
      "[SoftImpute] Iter 19: observed MAE=253.161795 rank=3\n",
      "[SoftImpute] Iter 20: observed MAE=253.181313 rank=3\n",
      "[SoftImpute] Iter 21: observed MAE=253.199714 rank=3\n",
      "[SoftImpute] Iter 22: observed MAE=253.217011 rank=3\n",
      "[SoftImpute] Iter 23: observed MAE=253.233153 rank=3\n",
      "[SoftImpute] Iter 24: observed MAE=253.248140 rank=3\n",
      "[SoftImpute] Iter 25: observed MAE=253.262145 rank=3\n",
      "[SoftImpute] Iter 26: observed MAE=253.275104 rank=3\n",
      "[SoftImpute] Iter 27: observed MAE=253.287090 rank=3\n",
      "[SoftImpute] Iter 28: observed MAE=253.298208 rank=3\n",
      "[SoftImpute] Iter 29: observed MAE=253.308488 rank=3\n",
      "[SoftImpute] Iter 30: observed MAE=253.317993 rank=3\n",
      "[SoftImpute] Iter 31: observed MAE=253.326718 rank=3\n",
      "[SoftImpute] Iter 32: observed MAE=253.334619 rank=3\n",
      "[SoftImpute] Iter 33: observed MAE=253.341748 rank=3\n",
      "[SoftImpute] Iter 34: observed MAE=253.348116 rank=3\n",
      "[SoftImpute] Iter 35: observed MAE=253.353807 rank=3\n",
      "[SoftImpute] Iter 36: observed MAE=253.358885 rank=3\n",
      "[SoftImpute] Iter 37: observed MAE=253.363406 rank=3\n",
      "[SoftImpute] Iter 38: observed MAE=253.367392 rank=3\n",
      "[SoftImpute] Iter 39: observed MAE=253.370858 rank=3\n",
      "[SoftImpute] Iter 40: observed MAE=253.373857 rank=3\n",
      "[SoftImpute] Iter 41: observed MAE=253.376341 rank=3\n",
      "[SoftImpute] Iter 42: observed MAE=253.378373 rank=3\n",
      "[SoftImpute] Iter 43: observed MAE=253.379962 rank=3\n",
      "[SoftImpute] Iter 44: observed MAE=253.381184 rank=3\n",
      "[SoftImpute] Iter 45: observed MAE=253.382017 rank=3\n",
      "[SoftImpute] Iter 46: observed MAE=253.382515 rank=3\n",
      "[SoftImpute] Iter 47: observed MAE=253.382686 rank=3\n",
      "[SoftImpute] Iter 48: observed MAE=253.382533 rank=3\n",
      "[SoftImpute] Iter 49: observed MAE=253.382076 rank=3\n",
      "[SoftImpute] Iter 50: observed MAE=253.381330 rank=3\n",
      "[SoftImpute] Iter 51: observed MAE=253.380361 rank=3\n",
      "[SoftImpute] Iter 52: observed MAE=253.379188 rank=3\n",
      "[SoftImpute] Iter 53: observed MAE=253.377759 rank=3\n",
      "[SoftImpute] Iter 54: observed MAE=253.376117 rank=3\n",
      "[SoftImpute] Iter 55: observed MAE=253.374297 rank=3\n",
      "[SoftImpute] Iter 56: observed MAE=253.372354 rank=3\n",
      "[SoftImpute] Iter 57: observed MAE=253.370254 rank=3\n",
      "[SoftImpute] Iter 58: observed MAE=253.368018 rank=3\n",
      "[SoftImpute] Iter 59: observed MAE=253.365664 rank=3\n",
      "[SoftImpute] Iter 60: observed MAE=253.363162 rank=3\n",
      "[SoftImpute] Iter 61: observed MAE=253.360567 rank=3\n",
      "[SoftImpute] Iter 62: observed MAE=253.357908 rank=3\n",
      "[SoftImpute] Iter 63: observed MAE=253.355164 rank=3\n",
      "[SoftImpute] Iter 64: observed MAE=253.352343 rank=3\n",
      "[SoftImpute] Iter 65: observed MAE=253.349431 rank=3\n",
      "[SoftImpute] Iter 66: observed MAE=253.346445 rank=3\n",
      "[SoftImpute] Iter 67: observed MAE=253.343384 rank=3\n",
      "[SoftImpute] Iter 68: observed MAE=253.340293 rank=3\n",
      "[SoftImpute] Iter 69: observed MAE=253.337182 rank=3\n",
      "[SoftImpute] Iter 70: observed MAE=253.334050 rank=3\n",
      "[SoftImpute] Iter 71: observed MAE=253.330907 rank=3\n",
      "[SoftImpute] Iter 72: observed MAE=253.327739 rank=3\n",
      "[SoftImpute] Iter 73: observed MAE=253.324550 rank=3\n",
      "[SoftImpute] Iter 74: observed MAE=253.321339 rank=3\n",
      "[SoftImpute] Iter 75: observed MAE=253.318119 rank=3\n",
      "[SoftImpute] Iter 76: observed MAE=253.314896 rank=3\n",
      "[SoftImpute] Iter 77: observed MAE=253.311678 rank=3\n",
      "[SoftImpute] Iter 78: observed MAE=253.308467 rank=3\n",
      "[SoftImpute] Iter 79: observed MAE=253.305276 rank=3\n",
      "[SoftImpute] Iter 80: observed MAE=253.302095 rank=3\n",
      "[SoftImpute] Iter 81: observed MAE=253.298925 rank=3\n",
      "[SoftImpute] Iter 82: observed MAE=253.295763 rank=3\n",
      "[SoftImpute] Iter 83: observed MAE=253.292635 rank=3\n",
      "[SoftImpute] Iter 84: observed MAE=253.289532 rank=3\n",
      "[SoftImpute] Iter 85: observed MAE=253.286447 rank=3\n",
      "[SoftImpute] Iter 86: observed MAE=253.283382 rank=3\n",
      "[SoftImpute] Iter 87: observed MAE=253.280353 rank=3\n",
      "[SoftImpute] Iter 88: observed MAE=253.277351 rank=3\n",
      "[SoftImpute] Iter 89: observed MAE=253.274372 rank=3\n",
      "[SoftImpute] Iter 90: observed MAE=253.271418 rank=3\n",
      "[SoftImpute] Iter 91: observed MAE=253.268482 rank=3\n",
      "[SoftImpute] Iter 92: observed MAE=253.265580 rank=3\n",
      "[SoftImpute] Iter 93: observed MAE=253.262710 rank=3\n",
      "[SoftImpute] Iter 94: observed MAE=253.259868 rank=3\n",
      "[SoftImpute] Iter 95: observed MAE=253.257055 rank=3\n",
      "[SoftImpute] Iter 96: observed MAE=253.254272 rank=3\n",
      "[SoftImpute] Iter 97: observed MAE=253.251521 rank=3\n",
      "[SoftImpute] Iter 98: observed MAE=253.248811 rank=3\n",
      "[SoftImpute] Iter 99: observed MAE=253.246142 rank=3\n",
      "[SoftImpute] Iter 100: observed MAE=253.243505 rank=3\n",
      "[SoftImpute] Stopped after iteration 100 for lambda=440660.178428\n"
     ]
    }
   ],
   "source": [
    "from fancyimpute import SoftImpute\n",
    "\n",
    "#Converting all the categorical columns into numbers\n",
    "\n",
    "cat_cols = ['Term','Years in current job','Home Ownership','Purpose']\n",
    "\n",
    "for c in cat_cols:\n",
    "    df[c] = pd.factorize(df[c])[0]\n",
    "    \n",
    "# Imputing missing data with soft impute\n",
    "updated_df = pd.DataFrame(data = SoftImpute().fit_transform(df[df.columns[3:19]]), \n",
    "                          columns = df[df.columns[3:19]].columns, index=df.index)"
   ]
  },
  {
   "cell_type": "code",
   "execution_count": 91,
   "id": "0cc5e523",
   "metadata": {},
   "outputs": [],
   "source": [
    "# Getting the dataset ready pd.get_dummies function for dropping the dummy variables\n",
    "df_LC = pd.get_dummies(updated_df, drop_first=True)"
   ]
  },
  {
   "cell_type": "code",
   "execution_count": 92,
   "id": "738a72b1",
   "metadata": {},
   "outputs": [
    {
     "data": {
      "text/html": [
       "<div>\n",
       "<style scoped>\n",
       "    .dataframe tbody tr th:only-of-type {\n",
       "        vertical-align: middle;\n",
       "    }\n",
       "\n",
       "    .dataframe tbody tr th {\n",
       "        vertical-align: top;\n",
       "    }\n",
       "\n",
       "    .dataframe thead th {\n",
       "        text-align: right;\n",
       "    }\n",
       "</style>\n",
       "<table border=\"1\" class=\"dataframe\">\n",
       "  <thead>\n",
       "    <tr style=\"text-align: right;\">\n",
       "      <th></th>\n",
       "      <th>Current Loan Amount</th>\n",
       "      <th>Term</th>\n",
       "      <th>Credit Score</th>\n",
       "      <th>Years in current job</th>\n",
       "      <th>Home Ownership</th>\n",
       "      <th>Annual Income</th>\n",
       "      <th>Purpose</th>\n",
       "      <th>Monthly Debt</th>\n",
       "      <th>Years of Credit History</th>\n",
       "      <th>Months since last delinquent</th>\n",
       "      <th>Number of Open Accounts</th>\n",
       "      <th>Number of Credit Problems</th>\n",
       "      <th>Current Credit Balance</th>\n",
       "      <th>Maximum Open Credit</th>\n",
       "      <th>Bankruptcies</th>\n",
       "      <th>Tax Liens</th>\n",
       "    </tr>\n",
       "  </thead>\n",
       "  <tbody>\n",
       "    <tr>\n",
       "      <th>0</th>\n",
       "      <td>12232.0</td>\n",
       "      <td>0.0</td>\n",
       "      <td>728.0</td>\n",
       "      <td>0.0</td>\n",
       "      <td>0.0</td>\n",
       "      <td>46643.0</td>\n",
       "      <td>0.0</td>\n",
       "      <td>777.39</td>\n",
       "      <td>18.0</td>\n",
       "      <td>10.000000</td>\n",
       "      <td>12.0</td>\n",
       "      <td>0.0</td>\n",
       "      <td>82.231381</td>\n",
       "      <td>7946.0</td>\n",
       "      <td>0.0</td>\n",
       "      <td>0.0</td>\n",
       "    </tr>\n",
       "    <tr>\n",
       "      <th>1</th>\n",
       "      <td>25014.0</td>\n",
       "      <td>1.0</td>\n",
       "      <td>733.0</td>\n",
       "      <td>1.0</td>\n",
       "      <td>1.0</td>\n",
       "      <td>81099.0</td>\n",
       "      <td>0.0</td>\n",
       "      <td>892.09</td>\n",
       "      <td>26.7</td>\n",
       "      <td>45.061281</td>\n",
       "      <td>14.0</td>\n",
       "      <td>0.0</td>\n",
       "      <td>188.960313</td>\n",
       "      <td>77961.0</td>\n",
       "      <td>0.0</td>\n",
       "      <td>0.0</td>\n",
       "    </tr>\n",
       "    <tr>\n",
       "      <th>2</th>\n",
       "      <td>16117.0</td>\n",
       "      <td>0.0</td>\n",
       "      <td>724.0</td>\n",
       "      <td>2.0</td>\n",
       "      <td>1.0</td>\n",
       "      <td>60438.0</td>\n",
       "      <td>1.0</td>\n",
       "      <td>1244.02</td>\n",
       "      <td>16.7</td>\n",
       "      <td>32.000000</td>\n",
       "      <td>11.0</td>\n",
       "      <td>1.0</td>\n",
       "      <td>106.183803</td>\n",
       "      <td>14815.0</td>\n",
       "      <td>1.0</td>\n",
       "      <td>0.0</td>\n",
       "    </tr>\n",
       "    <tr>\n",
       "      <th>3</th>\n",
       "      <td>11716.0</td>\n",
       "      <td>0.0</td>\n",
       "      <td>740.0</td>\n",
       "      <td>3.0</td>\n",
       "      <td>0.0</td>\n",
       "      <td>34171.0</td>\n",
       "      <td>0.0</td>\n",
       "      <td>990.94</td>\n",
       "      <td>10.0</td>\n",
       "      <td>20.976913</td>\n",
       "      <td>21.0</td>\n",
       "      <td>0.0</td>\n",
       "      <td>83.719771</td>\n",
       "      <td>43533.0</td>\n",
       "      <td>0.0</td>\n",
       "      <td>0.0</td>\n",
       "    </tr>\n",
       "    <tr>\n",
       "      <th>4</th>\n",
       "      <td>9789.0</td>\n",
       "      <td>1.0</td>\n",
       "      <td>686.0</td>\n",
       "      <td>1.0</td>\n",
       "      <td>1.0</td>\n",
       "      <td>47003.0</td>\n",
       "      <td>1.0</td>\n",
       "      <td>503.71</td>\n",
       "      <td>16.7</td>\n",
       "      <td>25.000000</td>\n",
       "      <td>13.0</td>\n",
       "      <td>1.0</td>\n",
       "      <td>130.049990</td>\n",
       "      <td>19553.0</td>\n",
       "      <td>1.0</td>\n",
       "      <td>0.0</td>\n",
       "    </tr>\n",
       "  </tbody>\n",
       "</table>\n",
       "</div>"
      ],
      "text/plain": [
       "   Current Loan Amount  Term  Credit Score  Years in current job  \\\n",
       "0              12232.0   0.0         728.0                   0.0   \n",
       "1              25014.0   1.0         733.0                   1.0   \n",
       "2              16117.0   0.0         724.0                   2.0   \n",
       "3              11716.0   0.0         740.0                   3.0   \n",
       "4               9789.0   1.0         686.0                   1.0   \n",
       "\n",
       "   Home Ownership  Annual Income  Purpose  Monthly Debt  \\\n",
       "0             0.0        46643.0      0.0        777.39   \n",
       "1             1.0        81099.0      0.0        892.09   \n",
       "2             1.0        60438.0      1.0       1244.02   \n",
       "3             0.0        34171.0      0.0        990.94   \n",
       "4             1.0        47003.0      1.0        503.71   \n",
       "\n",
       "   Years of Credit History  Months since last delinquent  \\\n",
       "0                     18.0                     10.000000   \n",
       "1                     26.7                     45.061281   \n",
       "2                     16.7                     32.000000   \n",
       "3                     10.0                     20.976913   \n",
       "4                     16.7                     25.000000   \n",
       "\n",
       "   Number of Open Accounts  Number of Credit Problems  Current Credit Balance  \\\n",
       "0                     12.0                        0.0               82.231381   \n",
       "1                     14.0                        0.0              188.960313   \n",
       "2                     11.0                        1.0              106.183803   \n",
       "3                     21.0                        0.0               83.719771   \n",
       "4                     13.0                        1.0              130.049990   \n",
       "\n",
       "   Maximum Open Credit  Bankruptcies  Tax Liens  \n",
       "0               7946.0           0.0        0.0  \n",
       "1              77961.0           0.0        0.0  \n",
       "2              14815.0           1.0        0.0  \n",
       "3              43533.0           0.0        0.0  \n",
       "4              19553.0           1.0        0.0  "
      ]
     },
     "execution_count": 92,
     "metadata": {},
     "output_type": "execute_result"
    }
   ],
   "source": [
    "df_LC.head()"
   ]
  },
  {
   "cell_type": "code",
   "execution_count": 93,
   "id": "2db8f1a1",
   "metadata": {},
   "outputs": [],
   "source": [
    "from sklearn.preprocessing import LabelBinarizer,StandardScaler,OrdinalEncoder\n",
    "\n",
    "# LabelBinarizer is a function used for ....... the binary variables\n",
    "# Binarizing the Target variable\n",
    "lb_style = LabelBinarizer()\n",
    "lb_results = lb_style.fit_transform(df['Loan Status'])\n",
    "y = lb_results\n",
    "y = y.ravel()"
   ]
  },
  {
   "cell_type": "code",
   "execution_count": 94,
   "id": "0a6f861e",
   "metadata": {},
   "outputs": [
    {
     "name": "stdout",
     "output_type": "stream",
     "text": [
      "[[-0.1869176  -0.57302977  0.06886311 ... -0.79845518 -0.32295035\n",
      "  -0.10958444]\n",
      " [ 1.48349848  1.74511004  0.26644983 ...  1.83825771 -0.32295035\n",
      "  -0.10958444]\n",
      " [ 0.32079375 -0.57302977 -0.08920626 ... -0.53977375  2.39304617\n",
      "  -0.10958444]\n",
      " ...\n",
      " [ 1.40247376 -0.57302977  0.78017528 ...  0.91232955 -0.32295035\n",
      "  -0.10958444]\n",
      " [-1.1281112  -0.57302977 -0.16824094 ... -0.4039368  -0.32295035\n",
      "  -0.10958444]\n",
      " [ 0.62515919 -0.57302977 -0.32631031 ... -0.30218149 -0.32295035\n",
      "   3.77361184]]\n",
      "   \n",
      "(88910, 16)\n"
     ]
    }
   ],
   "source": [
    "from sklearn import preprocessing\n",
    "#Scaling the independent variables\n",
    "X_scaled = preprocessing.scale(df_LC)\n",
    "print(X_scaled)\n",
    "print('   ')\n",
    "print(X_scaled.shape)"
   ]
  },
  {
   "cell_type": "markdown",
   "id": "7ac647fe",
   "metadata": {},
   "source": [
    "## Modelling"
   ]
  },
  {
   "cell_type": "code",
   "execution_count": 95,
   "id": "9f8eba71",
   "metadata": {},
   "outputs": [],
   "source": [
    "from sklearn.model_selection import train_test_split, GridSearchCV, cross_val_score\n",
    "from sklearn.preprocessing import LabelBinarizer\n",
    "from sklearn.metrics import confusion_matrix, roc_auc_score, roc_curve\n",
    "from sklearn.linear_model import LogisticRegression\n",
    "from sklearn import metrics\n",
    "from sklearn.ensemble import RandomForestClassifier, GradientBoostingClassifier\n",
    "from sklearn.neighbors import KNeighborsClassifier\n",
    "from sklearn.tree import DecisionTreeClassifier\n",
    "from xgboost import XGBClassifier"
   ]
  },
  {
   "cell_type": "code",
   "execution_count": 96,
   "id": "a6f156bc",
   "metadata": {},
   "outputs": [],
   "source": [
    "# Split data into train & test set\n",
    "X_train, X_test, y_train, y_test = train_test_split(X_scaled, y, test_size=0.3, random_state=42)"
   ]
  },
  {
   "cell_type": "code",
   "execution_count": 97,
   "id": "faea5449",
   "metadata": {},
   "outputs": [],
   "source": [
    "models = {\"Logistic Regression\": LogisticRegression(),\n",
    "         \"KNN\": KNeighborsClassifier(),\n",
    "         \"Random Forest\": RandomForestClassifier(),\n",
    "          \"XGBoost\": XGBClassifier(),\n",
    "          \"Decision Tree\": DecisionTreeClassifier()\n",
    "         }\n",
    "\n",
    "# Creating a function to fit and score the models\n",
    "def fit_and_score(models, X_train, X_test, y_train, y_test):\n",
    "    model_scores = {}\n",
    "    for name, model in models.items():\n",
    "        model.fit(X_train, y_train)\n",
    "        model_scores[name] = model.score(X_test, y_test)\n",
    "    return model_scores"
   ]
  },
  {
   "cell_type": "code",
   "execution_count": 98,
   "id": "898ec733",
   "metadata": {},
   "outputs": [
    {
     "name": "stderr",
     "output_type": "stream",
     "text": [
      "C:\\Users\\oabas\\anaconda3\\lib\\site-packages\\xgboost\\sklearn.py:1224: UserWarning: The use of label encoder in XGBClassifier is deprecated and will be removed in a future release. To remove this warning, do the following: 1) Pass option use_label_encoder=False when constructing XGBClassifier object; and 2) Encode your labels (y) as integers starting with 0, i.e. 0, 1, 2, ..., [num_class - 1].\n",
      "  warnings.warn(label_encoder_deprecation_msg, UserWarning)\n"
     ]
    },
    {
     "name": "stdout",
     "output_type": "stream",
     "text": [
      "[14:26:59] WARNING: ..\\src\\learner.cc:1115: Starting in XGBoost 1.3.0, the default evaluation metric used with the objective 'binary:logistic' was changed from 'error' to 'logloss'. Explicitly set eval_metric if you'd like to restore the old behavior.\n"
     ]
    },
    {
     "data": {
      "text/plain": [
       "{'Logistic Regression': 0.7216661043002287,\n",
       " 'KNN': 0.6873242604881341,\n",
       " 'Random Forest': 0.7284894837476099,\n",
       " 'XGBoost': 0.7288643947062573,\n",
       " 'Decision Tree': 0.6557192666741649}"
      ]
     },
     "execution_count": 98,
     "metadata": {},
     "output_type": "execute_result"
    }
   ],
   "source": [
    "model_scores = fit_and_score(models=models,\n",
    "                            X_train=X_train,\n",
    "                            X_test=X_test,\n",
    "                            y_train=y_train,\n",
    "                            y_test=y_test)\n",
    "model_scores"
   ]
  },
  {
   "cell_type": "markdown",
   "id": "c795ac2c",
   "metadata": {},
   "source": [
    "Dropping KNN and Decision Tree"
   ]
  },
  {
   "cell_type": "code",
   "execution_count": 99,
   "id": "0f861540",
   "metadata": {},
   "outputs": [],
   "source": [
    "#Model to  predict the ROC curve for various models and finding the best one\n",
    "def run_models(X_train, y_train, X_test, y_test, model_type = 'Non-balanced'):\n",
    "    \n",
    "    clfs = {'GradientBoosting': GradientBoostingClassifier(max_depth= 6, n_estimators=100, max_features = 0.3),\n",
    "            'LogisticRegression' : LogisticRegression(),\n",
    "            'RandomForestClassifier': RandomForestClassifier(n_estimators=10),\n",
    "            'XGBClassifier': XGBClassifier()\n",
    "            }\n",
    "    cols = ['model','matthews_corrcoef', 'roc_auc_score', 'precision_score', 'recall_score','f1_score']\n",
    "    \n",
    "    # Creating a dataframe with the cols created and create a confusion matrix in the form of dictionary\n",
    "    models_report = pd.DataFrame(columns = cols)\n",
    "    conf_matrix = dict()\n",
    "\n",
    "    for clf, clf_name in zip(clfs.values(), clfs.keys()):\n",
    "\n",
    "        clf.fit(X_train, y_train)\n",
    "\n",
    "        y_pred = clf.predict(X_test)\n",
    "        y_score = clf.predict_proba(X_test)[:,1]\n",
    "\n",
    "        print('computing {} - {} '.format(clf_name, model_type))\n",
    "\n",
    "        tmp = pd.Series({'model_type': model_type,\n",
    "                         'model': clf_name,\n",
    "                         'roc_auc_score' : metrics.roc_auc_score(y_test, y_score),\n",
    "                         'matthews_corrcoef': metrics.matthews_corrcoef(y_test, y_pred),\n",
    "                         'precision_score': metrics.precision_score(y_test, y_pred),\n",
    "                         'recall_score': metrics.recall_score(y_test, y_pred),\n",
    "                         'f1_score': metrics.f1_score(y_test, y_pred)}\n",
    "                       )\n",
    "\n",
    "        models_report = models_report.append(tmp, ignore_index = True)\n",
    "        conf_matrix[clf_name] = pd.crosstab(y_test, y_pred, rownames=['True'], colnames= ['Predicted'], margins=False)\n",
    "        # False +ve rate(fpr), True +ve rate(tpr)\n",
    "        fpr, tpr, thresholds = metrics.roc_curve(y_test, y_score, drop_intermediate = False, pos_label = 1)\n",
    "\n",
    "        plt.figure(1, figsize=(6,6))\n",
    "        plt.xlabel('false positive rate')\n",
    "        plt.ylabel('true positive rate')\n",
    "        plt.title('ROC curve - {}'.format(model_type))\n",
    "        plt.plot(fpr, tpr, label = clf_name )\n",
    "        plt.legend(loc=2, prop={'size':11})\n",
    "    plt.plot([0,1],[0,1], color = 'black')\n",
    "    \n",
    "    return models_report, conf_matrix"
   ]
  },
  {
   "cell_type": "code",
   "execution_count": 100,
   "id": "834c7868",
   "metadata": {
    "scrolled": true
   },
   "outputs": [
    {
     "name": "stdout",
     "output_type": "stream",
     "text": [
      "computing GradientBoosting - Non-balanced \n",
      "computing LogisticRegression - Non-balanced \n",
      "computing RandomForestClassifier - Non-balanced \n",
      "[14:27:28] WARNING: ..\\src\\learner.cc:1115: Starting in XGBoost 1.3.0, the default evaluation metric used with the objective 'binary:logistic' was changed from 'error' to 'logloss'. Explicitly set eval_metric if you'd like to restore the old behavior.\n"
     ]
    },
    {
     "name": "stderr",
     "output_type": "stream",
     "text": [
      "C:\\Users\\oabas\\anaconda3\\lib\\site-packages\\xgboost\\sklearn.py:1224: UserWarning: The use of label encoder in XGBClassifier is deprecated and will be removed in a future release. To remove this warning, do the following: 1) Pass option use_label_encoder=False when constructing XGBClassifier object; and 2) Encode your labels (y) as integers starting with 0, i.e. 0, 1, 2, ..., [num_class - 1].\n",
      "  warnings.warn(label_encoder_deprecation_msg, UserWarning)\n"
     ]
    },
    {
     "name": "stdout",
     "output_type": "stream",
     "text": [
      "computing XGBClassifier - Non-balanced \n"
     ]
    },
    {
     "data": {
      "text/html": [
       "<div>\n",
       "<style scoped>\n",
       "    .dataframe tbody tr th:only-of-type {\n",
       "        vertical-align: middle;\n",
       "    }\n",
       "\n",
       "    .dataframe tbody tr th {\n",
       "        vertical-align: top;\n",
       "    }\n",
       "\n",
       "    .dataframe thead th {\n",
       "        text-align: right;\n",
       "    }\n",
       "</style>\n",
       "<table border=\"1\" class=\"dataframe\">\n",
       "  <thead>\n",
       "    <tr style=\"text-align: right;\">\n",
       "      <th></th>\n",
       "      <th>model</th>\n",
       "      <th>matthews_corrcoef</th>\n",
       "      <th>roc_auc_score</th>\n",
       "      <th>precision_score</th>\n",
       "      <th>recall_score</th>\n",
       "      <th>f1_score</th>\n",
       "      <th>model_type</th>\n",
       "    </tr>\n",
       "  </thead>\n",
       "  <tbody>\n",
       "    <tr>\n",
       "      <th>0</th>\n",
       "      <td>GradientBoosting</td>\n",
       "      <td>0.245243</td>\n",
       "      <td>0.752373</td>\n",
       "      <td>0.581995</td>\n",
       "      <td>0.251013</td>\n",
       "      <td>0.350749</td>\n",
       "      <td>Non-balanced</td>\n",
       "    </tr>\n",
       "    <tr>\n",
       "      <th>1</th>\n",
       "      <td>LogisticRegression</td>\n",
       "      <td>0.160263</td>\n",
       "      <td>0.676416</td>\n",
       "      <td>0.567487</td>\n",
       "      <td>0.123676</td>\n",
       "      <td>0.203091</td>\n",
       "      <td>Non-balanced</td>\n",
       "    </tr>\n",
       "    <tr>\n",
       "      <th>2</th>\n",
       "      <td>RandomForestClassifier</td>\n",
       "      <td>0.186988</td>\n",
       "      <td>0.693934</td>\n",
       "      <td>0.505628</td>\n",
       "      <td>0.229050</td>\n",
       "      <td>0.315278</td>\n",
       "      <td>Non-balanced</td>\n",
       "    </tr>\n",
       "    <tr>\n",
       "      <th>3</th>\n",
       "      <td>XGBClassifier</td>\n",
       "      <td>0.245891</td>\n",
       "      <td>0.741790</td>\n",
       "      <td>0.552426</td>\n",
       "      <td>0.287227</td>\n",
       "      <td>0.377946</td>\n",
       "      <td>Non-balanced</td>\n",
       "    </tr>\n",
       "  </tbody>\n",
       "</table>\n",
       "</div>"
      ],
      "text/plain": [
       "                    model  matthews_corrcoef  roc_auc_score  precision_score  \\\n",
       "0        GradientBoosting           0.245243       0.752373         0.581995   \n",
       "1      LogisticRegression           0.160263       0.676416         0.567487   \n",
       "2  RandomForestClassifier           0.186988       0.693934         0.505628   \n",
       "3           XGBClassifier           0.245891       0.741790         0.552426   \n",
       "\n",
       "   recall_score  f1_score    model_type  \n",
       "0      0.251013  0.350749  Non-balanced  \n",
       "1      0.123676  0.203091  Non-balanced  \n",
       "2      0.229050  0.315278  Non-balanced  \n",
       "3      0.287227  0.377946  Non-balanced  "
      ]
     },
     "execution_count": 100,
     "metadata": {},
     "output_type": "execute_result"
    },
    {
     "data": {
      "image/png": "[encoded data removed]",
      "text/plain": [
       "<Figure size 432x432 with 1 Axes>"
      ]
     },
     "metadata": {
      "needs_background": "light"
     },
     "output_type": "display_data"
    }
   ],
   "source": [
    "models_report, conf_matrix = run_models(X_train, y_train, X_test, y_test, model_type = 'Non-balanced')\n",
    "\n",
    "\n",
    "models_report"
   ]
  },
  {
   "cell_type": "markdown",
   "id": "bd08d8c6",
   "metadata": {},
   "source": [
    "From the model report, we could see that Gradient Boosting and XGBClassifier performs much better than the other models. But Gradient Boosting comes out on top for the ROC Curve"
   ]
  },
  {
   "cell_type": "code",
   "execution_count": 101,
   "id": "c11db9a8",
   "metadata": {
    "scrolled": true
   },
   "outputs": [
    {
     "data": {
      "text/plain": [
       "{'GradientBoosting': Predicted      0     1\n",
       " True                  \n",
       " 0          17645  1379\n",
       " 1           5729  1920,\n",
       " 'LogisticRegression': Predicted      0    1\n",
       " True                 \n",
       " 0          18303  721\n",
       " 1           6703  946,\n",
       " 'RandomForestClassifier': Predicted      0     1\n",
       " True                  \n",
       " 0          17311  1713\n",
       " 1           5897  1752,\n",
       " 'XGBClassifier': Predicted      0     1\n",
       " True                  \n",
       " 0          17244  1780\n",
       " 1           5452  2197}"
      ]
     },
     "execution_count": 101,
     "metadata": {},
     "output_type": "execute_result"
    }
   ],
   "source": [
    "conf_matrix"
   ]
  },
  {
   "cell_type": "markdown",
   "id": "1e2bdb8c",
   "metadata": {},
   "source": [
    "### Balancing the dataset"
   ]
  },
  {
   "cell_type": "code",
   "execution_count": 102,
   "id": "52016dd6",
   "metadata": {},
   "outputs": [],
   "source": [
    "from imblearn.over_sampling import SMOTE\n",
    "\n",
    "index_split = int(len(X_scaled)/2)\n",
    "oversample = SMOTE()\n",
    "X_train, y_train = oversample.fit_resample(X_scaled[0:index_split, :], y[0:index_split])\n",
    "X_test, y_test = X_scaled[index_split:], y[index_split:]"
   ]
  },
  {
   "cell_type": "code",
   "execution_count": 103,
   "id": "36557462",
   "metadata": {},
   "outputs": [
    {
     "name": "stdout",
     "output_type": "stream",
     "text": [
      "computing GradientBoosting - Balanced \n",
      "computing LogisticRegression - Balanced \n",
      "computing RandomForestClassifier - Balanced \n"
     ]
    },
    {
     "name": "stderr",
     "output_type": "stream",
     "text": [
      "C:\\Users\\oabas\\anaconda3\\lib\\site-packages\\xgboost\\sklearn.py:1224: UserWarning: The use of label encoder in XGBClassifier is deprecated and will be removed in a future release. To remove this warning, do the following: 1) Pass option use_label_encoder=False when constructing XGBClassifier object; and 2) Encode your labels (y) as integers starting with 0, i.e. 0, 1, 2, ..., [num_class - 1].\n",
      "  warnings.warn(label_encoder_deprecation_msg, UserWarning)\n"
     ]
    },
    {
     "name": "stdout",
     "output_type": "stream",
     "text": [
      "[14:28:01] WARNING: ..\\src\\learner.cc:1115: Starting in XGBoost 1.3.0, the default evaluation metric used with the objective 'binary:logistic' was changed from 'error' to 'logloss'. Explicitly set eval_metric if you'd like to restore the old behavior.\n",
      "computing XGBClassifier - Balanced \n"
     ]
    },
    {
     "data": {
      "image/png": "[encoded data removed]",
      "text/plain": [
       "<Figure size 432x432 with 1 Axes>"
      ]
     },
     "metadata": {
      "needs_background": "light"
     },
     "output_type": "display_data"
    }
   ],
   "source": [
    "models_report_bal, conf_matrix_bal = run_models(X_train, y_train, X_test, y_test, model_type = 'Balanced')"
   ]
  },
  {
   "cell_type": "code",
   "execution_count": 104,
   "id": "b2ea3b4f",
   "metadata": {},
   "outputs": [
    {
     "data": {
      "text/html": [
       "<div>\n",
       "<style scoped>\n",
       "    .dataframe tbody tr th:only-of-type {\n",
       "        vertical-align: middle;\n",
       "    }\n",
       "\n",
       "    .dataframe tbody tr th {\n",
       "        vertical-align: top;\n",
       "    }\n",
       "\n",
       "    .dataframe thead th {\n",
       "        text-align: right;\n",
       "    }\n",
       "</style>\n",
       "<table border=\"1\" class=\"dataframe\">\n",
       "  <thead>\n",
       "    <tr style=\"text-align: right;\">\n",
       "      <th></th>\n",
       "      <th>model</th>\n",
       "      <th>matthews_corrcoef</th>\n",
       "      <th>roc_auc_score</th>\n",
       "      <th>precision_score</th>\n",
       "      <th>recall_score</th>\n",
       "      <th>f1_score</th>\n",
       "      <th>model_type</th>\n",
       "    </tr>\n",
       "  </thead>\n",
       "  <tbody>\n",
       "    <tr>\n",
       "      <th>0</th>\n",
       "      <td>GradientBoosting</td>\n",
       "      <td>0.188230</td>\n",
       "      <td>0.673463</td>\n",
       "      <td>0.327231</td>\n",
       "      <td>0.905456</td>\n",
       "      <td>0.480727</td>\n",
       "      <td>Balanced</td>\n",
       "    </tr>\n",
       "    <tr>\n",
       "      <th>1</th>\n",
       "      <td>LogisticRegression</td>\n",
       "      <td>0.246989</td>\n",
       "      <td>0.683747</td>\n",
       "      <td>0.431558</td>\n",
       "      <td>0.545918</td>\n",
       "      <td>0.482048</td>\n",
       "      <td>Balanced</td>\n",
       "    </tr>\n",
       "    <tr>\n",
       "      <th>2</th>\n",
       "      <td>RandomForestClassifier</td>\n",
       "      <td>0.170965</td>\n",
       "      <td>0.628744</td>\n",
       "      <td>0.334725</td>\n",
       "      <td>0.810753</td>\n",
       "      <td>0.473828</td>\n",
       "      <td>Balanced</td>\n",
       "    </tr>\n",
       "    <tr>\n",
       "      <th>3</th>\n",
       "      <td>XGBClassifier</td>\n",
       "      <td>0.196875</td>\n",
       "      <td>0.668896</td>\n",
       "      <td>0.340620</td>\n",
       "      <td>0.842692</td>\n",
       "      <td>0.485143</td>\n",
       "      <td>Balanced</td>\n",
       "    </tr>\n",
       "  </tbody>\n",
       "</table>\n",
       "</div>"
      ],
      "text/plain": [
       "                    model  matthews_corrcoef  roc_auc_score  precision_score  \\\n",
       "0        GradientBoosting           0.188230       0.673463         0.327231   \n",
       "1      LogisticRegression           0.246989       0.683747         0.431558   \n",
       "2  RandomForestClassifier           0.170965       0.628744         0.334725   \n",
       "3           XGBClassifier           0.196875       0.668896         0.340620   \n",
       "\n",
       "   recall_score  f1_score model_type  \n",
       "0      0.905456  0.480727   Balanced  \n",
       "1      0.545918  0.482048   Balanced  \n",
       "2      0.810753  0.473828   Balanced  \n",
       "3      0.842692  0.485143   Balanced  "
      ]
     },
     "execution_count": 104,
     "metadata": {},
     "output_type": "execute_result"
    }
   ],
   "source": [
    "models_report_bal"
   ]
  },
  {
   "cell_type": "markdown",
   "id": "635c625e",
   "metadata": {},
   "source": [
    "We can't work with the Balanced dataset cause the ROC Score is prettey low compared to the Unbalanced Dataset"
   ]
  },
  {
   "cell_type": "code",
   "execution_count": 105,
   "id": "6f3872ad",
   "metadata": {},
   "outputs": [
    {
     "data": {
      "text/plain": [
       "GradientBoostingClassifier(max_depth=6, max_features=0.3)"
      ]
     },
     "execution_count": 105,
     "metadata": {},
     "output_type": "execute_result"
    }
   ],
   "source": [
    "# Now we  know that GBM model performed the best from the Unbalanced Dataset\n",
    "X_train, X_test, y_train, y_test = train_test_split(X_scaled, y, test_size=0.3, random_state=0)\n",
    "gbm = GradientBoostingClassifier(max_depth = 6, n_estimators = 100, max_features = 0.3)\n",
    "gbm.fit(X_scaled, y)"
   ]
  },
  {
   "cell_type": "code",
   "execution_count": 106,
   "id": "c5571ec7",
   "metadata": {},
   "outputs": [
    {
     "data": {
      "text/plain": [
       "['GBM_Model_version1.pkl']"
      ]
     },
     "execution_count": 106,
     "metadata": {},
     "output_type": "execute_result"
    }
   ],
   "source": [
    "import joblib\n",
    "joblib.dump(gbm, 'GBM_Model_version1.pkl')"
   ]
  },
  {
   "cell_type": "markdown",
   "id": "2ef3475b",
   "metadata": {},
   "source": [
    "## Predicting the model on a test dataset"
   ]
  },
  {
   "cell_type": "code",
   "execution_count": 107,
   "id": "70037c16",
   "metadata": {},
   "outputs": [],
   "source": [
    "test = pd.read_csv(\"test_data.csv\", low_memory=False)\n"
   ]
  },
  {
   "cell_type": "code",
   "execution_count": 108,
   "id": "48b4cf55",
   "metadata": {},
   "outputs": [
    {
     "data": {
      "text/plain": [
       "(9, 19)"
      ]
     },
     "execution_count": 108,
     "metadata": {},
     "output_type": "execute_result"
    }
   ],
   "source": [
    "test.shape"
   ]
  },
  {
   "cell_type": "markdown",
   "id": "d75ed822",
   "metadata": {},
   "source": [
    "We have to perform the same EDA we did on the train dataset to the test dataset"
   ]
  },
  {
   "cell_type": "code",
   "execution_count": 109,
   "id": "13613a8d",
   "metadata": {},
   "outputs": [
    {
     "name": "stdout",
     "output_type": "stream",
     "text": [
      "[SoftImpute] Max Singular Value of X_init = 220732.319189\n",
      "[SoftImpute] Iter 1: observed MAE=393.868714 rank=4\n",
      "[SoftImpute] Iter 2: observed MAE=393.835770 rank=4\n",
      "[SoftImpute] Iter 3: observed MAE=393.823069 rank=4\n",
      "[SoftImpute] Iter 4: observed MAE=393.816892 rank=4\n",
      "[SoftImpute] Iter 5: observed MAE=393.813120 rank=4\n",
      "[SoftImpute] Iter 6: observed MAE=393.810394 rank=4\n",
      "[SoftImpute] Iter 7: observed MAE=393.808205 rank=4\n",
      "[SoftImpute] Iter 8: observed MAE=393.806333 rank=4\n",
      "[SoftImpute] Iter 9: observed MAE=393.804668 rank=4\n",
      "[SoftImpute] Iter 10: observed MAE=393.803152 rank=4\n",
      "[SoftImpute] Iter 11: observed MAE=393.801748 rank=4\n",
      "[SoftImpute] Iter 12: observed MAE=393.800437 rank=4\n",
      "[SoftImpute] Iter 13: observed MAE=393.799203 rank=4\n",
      "[SoftImpute] Iter 14: observed MAE=393.798037 rank=4\n",
      "[SoftImpute] Iter 15: observed MAE=393.796931 rank=4\n",
      "[SoftImpute] Iter 16: observed MAE=393.795881 rank=4\n",
      "[SoftImpute] Iter 17: observed MAE=393.794882 rank=4\n",
      "[SoftImpute] Iter 18: observed MAE=393.793931 rank=4\n",
      "[SoftImpute] Iter 19: observed MAE=393.793024 rank=4\n",
      "[SoftImpute] Iter 20: observed MAE=393.792160 rank=4\n",
      "[SoftImpute] Iter 21: observed MAE=393.791335 rank=4\n",
      "[SoftImpute] Iter 22: observed MAE=393.790548 rank=4\n",
      "[SoftImpute] Iter 23: observed MAE=393.789797 rank=4\n",
      "[SoftImpute] Iter 24: observed MAE=393.789081 rank=4\n",
      "[SoftImpute] Iter 25: observed MAE=393.788397 rank=4\n",
      "[SoftImpute] Iter 26: observed MAE=393.787744 rank=4\n",
      "[SoftImpute] Iter 27: observed MAE=393.787120 rank=4\n",
      "[SoftImpute] Iter 28: observed MAE=393.786525 rank=4\n",
      "[SoftImpute] Iter 29: observed MAE=393.785956 rank=4\n",
      "[SoftImpute] Iter 30: observed MAE=393.785414 rank=4\n",
      "[SoftImpute] Iter 31: observed MAE=393.784895 rank=4\n",
      "[SoftImpute] Iter 32: observed MAE=393.784401 rank=4\n",
      "[SoftImpute] Iter 33: observed MAE=393.783928 rank=4\n",
      "[SoftImpute] Iter 34: observed MAE=393.783477 rank=4\n",
      "[SoftImpute] Iter 35: observed MAE=393.783046 rank=4\n",
      "[SoftImpute] Iter 36: observed MAE=393.782635 rank=4\n",
      "[SoftImpute] Iter 37: observed MAE=393.782242 rank=4\n",
      "[SoftImpute] Iter 38: observed MAE=393.781867 rank=4\n",
      "[SoftImpute] Iter 39: observed MAE=393.781509 rank=4\n",
      "[SoftImpute] Iter 40: observed MAE=393.781166 rank=4\n",
      "[SoftImpute] Iter 41: observed MAE=393.780840 rank=4\n",
      "[SoftImpute] Iter 42: observed MAE=393.780528 rank=4\n",
      "[SoftImpute] Iter 43: observed MAE=393.780230 rank=4\n",
      "[SoftImpute] Iter 44: observed MAE=393.779946 rank=4\n",
      "[SoftImpute] Iter 45: observed MAE=393.779674 rank=4\n",
      "[SoftImpute] Iter 46: observed MAE=393.779415 rank=4\n",
      "[SoftImpute] Iter 47: observed MAE=393.779167 rank=4\n",
      "[SoftImpute] Iter 48: observed MAE=393.778931 rank=4\n",
      "[SoftImpute] Iter 49: observed MAE=393.778705 rank=4\n",
      "[SoftImpute] Iter 50: observed MAE=393.778489 rank=4\n",
      "[SoftImpute] Iter 51: observed MAE=393.778284 rank=4\n",
      "[SoftImpute] Iter 52: observed MAE=393.778087 rank=4\n",
      "[SoftImpute] Iter 53: observed MAE=393.777899 rank=4\n",
      "[SoftImpute] Iter 54: observed MAE=393.777720 rank=4\n",
      "[SoftImpute] Iter 55: observed MAE=393.777549 rank=4\n",
      "[SoftImpute] Iter 56: observed MAE=393.777385 rank=4\n",
      "[SoftImpute] Iter 57: observed MAE=393.777229 rank=4\n",
      "[SoftImpute] Iter 58: observed MAE=393.777080 rank=4\n",
      "[SoftImpute] Iter 59: observed MAE=393.776938 rank=4\n",
      "[SoftImpute] Iter 60: observed MAE=393.776802 rank=4\n",
      "[SoftImpute] Iter 61: observed MAE=393.776672 rank=4\n",
      "[SoftImpute] Iter 62: observed MAE=393.776548 rank=4\n",
      "[SoftImpute] Iter 63: observed MAE=393.776430 rank=4\n",
      "[SoftImpute] Iter 64: observed MAE=393.776317 rank=4\n",
      "[SoftImpute] Iter 65: observed MAE=393.776209 rank=4\n",
      "[SoftImpute] Iter 66: observed MAE=393.776106 rank=4\n",
      "[SoftImpute] Iter 67: observed MAE=393.776008 rank=4\n",
      "[SoftImpute] Iter 68: observed MAE=393.775914 rank=4\n",
      "[SoftImpute] Iter 69: observed MAE=393.775824 rank=4\n",
      "[SoftImpute] Iter 70: observed MAE=393.775739 rank=4\n",
      "[SoftImpute] Iter 71: observed MAE=393.775657 rank=4\n",
      "[SoftImpute] Iter 72: observed MAE=393.775579 rank=4\n",
      "[SoftImpute] Iter 73: observed MAE=393.775504 rank=4\n",
      "[SoftImpute] Iter 74: observed MAE=393.775433 rank=4\n",
      "[SoftImpute] Iter 75: observed MAE=393.775365 rank=4\n",
      "[SoftImpute] Iter 76: observed MAE=393.775300 rank=4\n",
      "[SoftImpute] Iter 77: observed MAE=393.775238 rank=4\n",
      "[SoftImpute] Iter 78: observed MAE=393.775179 rank=4\n",
      "[SoftImpute] Iter 79: observed MAE=393.775122 rank=4\n",
      "[SoftImpute] Iter 80: observed MAE=393.775068 rank=4\n",
      "[SoftImpute] Iter 81: observed MAE=393.775017 rank=4\n",
      "[SoftImpute] Iter 82: observed MAE=393.774968 rank=4\n",
      "[SoftImpute] Iter 83: observed MAE=393.774921 rank=4\n",
      "[SoftImpute] Stopped after iteration 83 for lambda=4414.646384\n"
     ]
    }
   ],
   "source": [
    "cat_cols = ['Term','Years in current job','Home Ownership','Purpose']\n",
    "\n",
    "for c in cat_cols:\n",
    "    test[c] = pd.factorize(test[c])[0]\n",
    "\n",
    "# Imputing missing data with soft impute\n",
    "updated_test_data = pd.DataFrame(data=SoftImpute().fit_transform(test[test.columns[3:19]],), \n",
    "                               columns=test[test.columns[3:19]].columns, index=test.index)"
   ]
  },
  {
   "cell_type": "code",
   "execution_count": 110,
   "id": "0621dcc1",
   "metadata": {},
   "outputs": [],
   "source": [
    "# Getting the dataset ready pd.get dummies function for dropping the dummy variables\n",
    "test_data = pd.get_dummies(updated_test_data, drop_first=True)"
   ]
  },
  {
   "cell_type": "code",
   "execution_count": 111,
   "id": "ac6913df",
   "metadata": {},
   "outputs": [],
   "source": [
    "gbm_pickle = joblib.load('GBM_Model_version1.pkl')"
   ]
  },
  {
   "cell_type": "code",
   "execution_count": 112,
   "id": "c5a0a9bb",
   "metadata": {},
   "outputs": [
    {
     "name": "stderr",
     "output_type": "stream",
     "text": [
      "C:\\Users\\oabas\\anaconda3\\lib\\site-packages\\sklearn\\base.py:443: UserWarning: X has feature names, but GradientBoostingClassifier was fitted without feature names\n",
      "  warnings.warn(\n"
     ]
    },
    {
     "data": {
      "text/plain": [
       "array([0, 0, 0, 0, 0, 0, 0, 0, 0])"
      ]
     },
     "execution_count": 112,
     "metadata": {},
     "output_type": "execute_result"
    }
   ],
   "source": [
    "y_pred = gbm_pickle.predict(test_data)\n",
    "y_pred"
   ]
  },
  {
   "cell_type": "code",
   "execution_count": 113,
   "id": "e4c23f07",
   "metadata": {},
   "outputs": [
    {
     "name": "stderr",
     "output_type": "stream",
     "text": [
      "C:\\Users\\oabas\\anaconda3\\lib\\site-packages\\sklearn\\base.py:443: UserWarning: X has feature names, but GradientBoostingClassifier was fitted without feature names\n",
      "  warnings.warn(\n"
     ]
    },
    {
     "data": {
      "text/plain": [
       "array([[0.68070196, 0.31929804],\n",
       "       [0.52659422, 0.47340578],\n",
       "       [0.6279872 , 0.3720128 ],\n",
       "       [0.66902353, 0.33097647],\n",
       "       [0.50707664, 0.49292336],\n",
       "       [0.55545973, 0.44454027],\n",
       "       [0.66902353, 0.33097647],\n",
       "       [0.53506515, 0.46493485],\n",
       "       [0.66902353, 0.33097647]])"
      ]
     },
     "execution_count": 113,
     "metadata": {},
     "output_type": "execute_result"
    }
   ],
   "source": [
    "y_pred = gbm_pickle.predict_proba(test_data)\n",
    "y_pred"
   ]
  },
  {
   "cell_type": "code",
   "execution_count": 114,
   "id": "39f703cf",
   "metadata": {},
   "outputs": [],
   "source": [
    "y_pred_1 = np.where(y_pred == 1, 'Loan Rejected', 'Loan Approved')\n",
    "\n",
    "test['Loan Status'] = y_pred_1\n",
    "test.to_csv('Output_Test.csv',index=False)"
   ]
  },
  {
   "cell_type": "code",
   "execution_count": null,
   "id": "3878c891",
   "metadata": {},
   "outputs": [],
   "source": []
  }
 ],
 "metadata": {
  "kernelspec": {
   "display_name": "Python 3",
   "language": "python",
   "name": "python3"
  },
  "language_info": {
   "codemirror_mode": {
    "name": "ipython",
    "version": 3
   },
   "file_extension": ".py",
   "mimetype": "text/x-python",
   "name": "python",
   "nbconvert_exporter": "python",
   "pygments_lexer": "ipython3",
   "version": "3.8.8"
  }
 },
 "nbformat": 4,
 "nbformat_minor": 5
}
