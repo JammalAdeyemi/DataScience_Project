{
 "cells": [
  {
   "cell_type": "code",
   "execution_count": 1,
   "id": "3ceb1e26-aba1-4d34-be61-86fd41b31251",
   "metadata": {},
   "outputs": [],
   "source": [
    "import pandas as pd\n",
    "import numpy as np\n",
    "import matplotlib.pyplot as plt\n",
    "import random\n",
    "import scipy.stats as stats\n",
    "from numpy import random as rnd\n",
    "\n",
    "%matplotlib inline\n",
    "\n",
    "import warnings\n",
    "warnings.filterwarnings('ignore')"
   ]
  },
  {
   "cell_type": "code",
   "execution_count": 2,
   "id": "998811ad-e24b-49c6-b1be-536157d56753",
   "metadata": {},
   "outputs": [],
   "source": [
    "df = pd.read_csv('Data/updated_data.csv')"
   ]
  },
  {
   "cell_type": "markdown",
   "id": "061c3280-6d8d-46bb-811a-926a89ba48a4",
   "metadata": {},
   "source": [
    "## Binomial Experiments:\n",
    "\n",
    "1. Use a binomial experiment to simulate the number of times sales will be recorded in Branch A in Q2 daily. Repeat the simulation for branches B and C, and aggregate the results.\n",
    "2. Simulate the quantity of products that will be sold in each of the branches in Q2 daily. Note the difference between this and the above objective!"
   ]
  },
  {
   "cell_type": "code",
   "execution_count": 3,
   "id": "bc128bf2-bcec-4586-9353-308aa6e6f461",
   "metadata": {},
   "outputs": [
    {
     "data": {
      "text/html": [
       "<div>\n",
       "<style scoped>\n",
       "    .dataframe tbody tr th:only-of-type {\n",
       "        vertical-align: middle;\n",
       "    }\n",
       "\n",
       "    .dataframe tbody tr th {\n",
       "        vertical-align: top;\n",
       "    }\n",
       "\n",
       "    .dataframe thead th {\n",
       "        text-align: right;\n",
       "    }\n",
       "</style>\n",
       "<table border=\"1\" class=\"dataframe\">\n",
       "  <thead>\n",
       "    <tr style=\"text-align: right;\">\n",
       "      <th></th>\n",
       "      <th>Branch</th>\n",
       "      <th>Customer_type</th>\n",
       "      <th>Gender</th>\n",
       "      <th>Product_line</th>\n",
       "      <th>Unit_price</th>\n",
       "      <th>Quantity</th>\n",
       "      <th>Total</th>\n",
       "      <th>Date</th>\n",
       "      <th>Time</th>\n",
       "      <th>Payment</th>\n",
       "      <th>Rating</th>\n",
       "    </tr>\n",
       "  </thead>\n",
       "  <tbody>\n",
       "    <tr>\n",
       "      <th>0</th>\n",
       "      <td>A</td>\n",
       "      <td>Member</td>\n",
       "      <td>Female</td>\n",
       "      <td>Health and beauty</td>\n",
       "      <td>74.69</td>\n",
       "      <td>7</td>\n",
       "      <td>548.9715</td>\n",
       "      <td>2022-01-05</td>\n",
       "      <td>13:08</td>\n",
       "      <td>Ewallet</td>\n",
       "      <td>9.1</td>\n",
       "    </tr>\n",
       "    <tr>\n",
       "      <th>1</th>\n",
       "      <td>C</td>\n",
       "      <td>Normal</td>\n",
       "      <td>Female</td>\n",
       "      <td>Electronic accessories</td>\n",
       "      <td>15.28</td>\n",
       "      <td>5</td>\n",
       "      <td>80.2200</td>\n",
       "      <td>2022-03-08</td>\n",
       "      <td>10:29</td>\n",
       "      <td>Cash</td>\n",
       "      <td>9.6</td>\n",
       "    </tr>\n",
       "    <tr>\n",
       "      <th>2</th>\n",
       "      <td>A</td>\n",
       "      <td>Normal</td>\n",
       "      <td>Male</td>\n",
       "      <td>Home and lifestyle</td>\n",
       "      <td>46.33</td>\n",
       "      <td>7</td>\n",
       "      <td>340.5255</td>\n",
       "      <td>2022-03-03</td>\n",
       "      <td>13:23</td>\n",
       "      <td>Credit card</td>\n",
       "      <td>7.4</td>\n",
       "    </tr>\n",
       "    <tr>\n",
       "      <th>3</th>\n",
       "      <td>A</td>\n",
       "      <td>Member</td>\n",
       "      <td>Male</td>\n",
       "      <td>Health and beauty</td>\n",
       "      <td>58.22</td>\n",
       "      <td>8</td>\n",
       "      <td>489.0480</td>\n",
       "      <td>2022-01-27</td>\n",
       "      <td>20:33</td>\n",
       "      <td>Ewallet</td>\n",
       "      <td>8.4</td>\n",
       "    </tr>\n",
       "    <tr>\n",
       "      <th>4</th>\n",
       "      <td>A</td>\n",
       "      <td>Normal</td>\n",
       "      <td>Male</td>\n",
       "      <td>Sports and travel</td>\n",
       "      <td>86.31</td>\n",
       "      <td>7</td>\n",
       "      <td>634.3785</td>\n",
       "      <td>2022-02-08</td>\n",
       "      <td>10:37</td>\n",
       "      <td>Ewallet</td>\n",
       "      <td>5.3</td>\n",
       "    </tr>\n",
       "  </tbody>\n",
       "</table>\n",
       "</div>"
      ],
      "text/plain": [
       "  Branch Customer_type  Gender            Product_line  Unit_price  Quantity  \\\n",
       "0      A        Member  Female       Health and beauty       74.69         7   \n",
       "1      C        Normal  Female  Electronic accessories       15.28         5   \n",
       "2      A        Normal    Male      Home and lifestyle       46.33         7   \n",
       "3      A        Member    Male       Health and beauty       58.22         8   \n",
       "4      A        Normal    Male       Sports and travel       86.31         7   \n",
       "\n",
       "      Total        Date   Time      Payment  Rating  \n",
       "0  548.9715  2022-01-05  13:08      Ewallet     9.1  \n",
       "1   80.2200  2022-03-08  10:29         Cash     9.6  \n",
       "2  340.5255  2022-03-03  13:23  Credit card     7.4  \n",
       "3  489.0480  2022-01-27  20:33      Ewallet     8.4  \n",
       "4  634.3785  2022-02-08  10:37      Ewallet     5.3  "
      ]
     },
     "execution_count": 3,
     "metadata": {},
     "output_type": "execute_result"
    }
   ],
   "source": [
    "df.head()"
   ]
  },
  {
   "cell_type": "code",
   "execution_count": 4,
   "id": "746136b2-6184-46b4-b538-2db496436918",
   "metadata": {},
   "outputs": [
    {
     "name": "stdout",
     "output_type": "stream",
     "text": [
      "Branches that we have: 3\n",
      "Product line that we have: 6\n"
     ]
    }
   ],
   "source": [
    "print(f\"Branches that we have: {df['Branch'].nunique()}\")\n",
    "print(f\"Product line that we have: {df['Product_line'].nunique()}\")"
   ]
  },
  {
   "cell_type": "code",
   "execution_count": 5,
   "id": "603d9010-194d-4c09-9065-177f0d86a5d6",
   "metadata": {},
   "outputs": [
    {
     "data": {
      "text/plain": [
       "array([12, 11, 14, 14, 12,  9, 16,  9,  9, 10, 13, 16,  8, 20,  8, 13, 11,\n",
       "       12,  8, 17, 12, 13, 18, 10, 12, 17, 14,  9, 11, 11, 14, 12,  9, 14,\n",
       "       11, 16, 14,  9,  6, 10, 10, 12, 19, 11,  8, 10, 13,  9,  8,  7, 10,\n",
       "        8, 11, 17, 17,  8,  8, 13, 13, 10,  6, 10, 11, 12, 16, 10, 18,  7,\n",
       "        9,  8, 11, 12,  6, 11,  9,  8,  6,  8, 13,  7, 15,  6, 14,  8,  9,\n",
       "        6, 18, 11,  9])"
      ]
     },
     "execution_count": 5,
     "metadata": {},
     "output_type": "execute_result"
    }
   ],
   "source": [
    "# total number of times sales were made in a day\n",
    "time_sales = np.array([len(df[df['Date'] == i]) for i in df['Date'].unique()])\n",
    "time_sales"
   ]
  },
  {
   "cell_type": "markdown",
   "id": "588fe49f-0371-49a7-8b68-f7d843571fc8",
   "metadata": {},
   "source": [
    "### Question 1a"
   ]
  },
  {
   "cell_type": "markdown",
   "id": "f9cf8082-9039-4fd4-bdb3-c921d33c9f36",
   "metadata": {},
   "source": [
    "#### Branch A"
   ]
  },
  {
   "cell_type": "code",
   "execution_count": 6,
   "id": "25fd93c8-2e04-4405-a5e7-a8fc45236de9",
   "metadata": {},
   "outputs": [
    {
     "data": {
      "text/html": [
       "<div>\n",
       "<style scoped>\n",
       "    .dataframe tbody tr th:only-of-type {\n",
       "        vertical-align: middle;\n",
       "    }\n",
       "\n",
       "    .dataframe tbody tr th {\n",
       "        vertical-align: top;\n",
       "    }\n",
       "\n",
       "    .dataframe thead th {\n",
       "        text-align: right;\n",
       "    }\n",
       "</style>\n",
       "<table border=\"1\" class=\"dataframe\">\n",
       "  <thead>\n",
       "    <tr style=\"text-align: right;\">\n",
       "      <th></th>\n",
       "      <th>Branch</th>\n",
       "      <th>Customer_type</th>\n",
       "      <th>Gender</th>\n",
       "      <th>Product_line</th>\n",
       "      <th>Unit_price</th>\n",
       "      <th>Quantity</th>\n",
       "      <th>Total</th>\n",
       "      <th>Date</th>\n",
       "      <th>Time</th>\n",
       "      <th>Payment</th>\n",
       "      <th>Rating</th>\n",
       "    </tr>\n",
       "  </thead>\n",
       "  <tbody>\n",
       "    <tr>\n",
       "      <th>0</th>\n",
       "      <td>A</td>\n",
       "      <td>Member</td>\n",
       "      <td>Female</td>\n",
       "      <td>Health and beauty</td>\n",
       "      <td>74.69</td>\n",
       "      <td>7</td>\n",
       "      <td>548.9715</td>\n",
       "      <td>2022-01-05</td>\n",
       "      <td>13:08</td>\n",
       "      <td>Ewallet</td>\n",
       "      <td>9.1</td>\n",
       "    </tr>\n",
       "    <tr>\n",
       "      <th>2</th>\n",
       "      <td>A</td>\n",
       "      <td>Normal</td>\n",
       "      <td>Male</td>\n",
       "      <td>Home and lifestyle</td>\n",
       "      <td>46.33</td>\n",
       "      <td>7</td>\n",
       "      <td>340.5255</td>\n",
       "      <td>2022-03-03</td>\n",
       "      <td>13:23</td>\n",
       "      <td>Credit card</td>\n",
       "      <td>7.4</td>\n",
       "    </tr>\n",
       "    <tr>\n",
       "      <th>3</th>\n",
       "      <td>A</td>\n",
       "      <td>Member</td>\n",
       "      <td>Male</td>\n",
       "      <td>Health and beauty</td>\n",
       "      <td>58.22</td>\n",
       "      <td>8</td>\n",
       "      <td>489.0480</td>\n",
       "      <td>2022-01-27</td>\n",
       "      <td>20:33</td>\n",
       "      <td>Ewallet</td>\n",
       "      <td>8.4</td>\n",
       "    </tr>\n",
       "    <tr>\n",
       "      <th>4</th>\n",
       "      <td>A</td>\n",
       "      <td>Normal</td>\n",
       "      <td>Male</td>\n",
       "      <td>Sports and travel</td>\n",
       "      <td>86.31</td>\n",
       "      <td>7</td>\n",
       "      <td>634.3785</td>\n",
       "      <td>2022-02-08</td>\n",
       "      <td>10:37</td>\n",
       "      <td>Ewallet</td>\n",
       "      <td>5.3</td>\n",
       "    </tr>\n",
       "    <tr>\n",
       "      <th>6</th>\n",
       "      <td>A</td>\n",
       "      <td>Member</td>\n",
       "      <td>Female</td>\n",
       "      <td>Electronic accessories</td>\n",
       "      <td>68.84</td>\n",
       "      <td>6</td>\n",
       "      <td>433.6920</td>\n",
       "      <td>2022-02-25</td>\n",
       "      <td>14:36</td>\n",
       "      <td>Ewallet</td>\n",
       "      <td>5.8</td>\n",
       "    </tr>\n",
       "    <tr>\n",
       "      <th>...</th>\n",
       "      <td>...</td>\n",
       "      <td>...</td>\n",
       "      <td>...</td>\n",
       "      <td>...</td>\n",
       "      <td>...</td>\n",
       "      <td>...</td>\n",
       "      <td>...</td>\n",
       "      <td>...</td>\n",
       "      <td>...</td>\n",
       "      <td>...</td>\n",
       "      <td>...</td>\n",
       "    </tr>\n",
       "    <tr>\n",
       "      <th>990</th>\n",
       "      <td>A</td>\n",
       "      <td>Normal</td>\n",
       "      <td>Female</td>\n",
       "      <td>Food and beverages</td>\n",
       "      <td>56.56</td>\n",
       "      <td>5</td>\n",
       "      <td>296.9400</td>\n",
       "      <td>2022-03-22</td>\n",
       "      <td>19:06</td>\n",
       "      <td>Credit card</td>\n",
       "      <td>4.5</td>\n",
       "    </tr>\n",
       "    <tr>\n",
       "      <th>992</th>\n",
       "      <td>A</td>\n",
       "      <td>Normal</td>\n",
       "      <td>Male</td>\n",
       "      <td>Electronic accessories</td>\n",
       "      <td>58.03</td>\n",
       "      <td>2</td>\n",
       "      <td>121.8630</td>\n",
       "      <td>2022-03-10</td>\n",
       "      <td>20:46</td>\n",
       "      <td>Ewallet</td>\n",
       "      <td>8.8</td>\n",
       "    </tr>\n",
       "    <tr>\n",
       "      <th>997</th>\n",
       "      <td>A</td>\n",
       "      <td>Member</td>\n",
       "      <td>Male</td>\n",
       "      <td>Food and beverages</td>\n",
       "      <td>31.84</td>\n",
       "      <td>1</td>\n",
       "      <td>33.4320</td>\n",
       "      <td>2022-02-09</td>\n",
       "      <td>13:22</td>\n",
       "      <td>Cash</td>\n",
       "      <td>7.7</td>\n",
       "    </tr>\n",
       "    <tr>\n",
       "      <th>998</th>\n",
       "      <td>A</td>\n",
       "      <td>Normal</td>\n",
       "      <td>Male</td>\n",
       "      <td>Home and lifestyle</td>\n",
       "      <td>65.82</td>\n",
       "      <td>1</td>\n",
       "      <td>69.1110</td>\n",
       "      <td>2022-02-22</td>\n",
       "      <td>15:33</td>\n",
       "      <td>Cash</td>\n",
       "      <td>4.1</td>\n",
       "    </tr>\n",
       "    <tr>\n",
       "      <th>999</th>\n",
       "      <td>A</td>\n",
       "      <td>Member</td>\n",
       "      <td>Female</td>\n",
       "      <td>Fashion accessories</td>\n",
       "      <td>88.34</td>\n",
       "      <td>7</td>\n",
       "      <td>649.2990</td>\n",
       "      <td>2022-02-18</td>\n",
       "      <td>13:28</td>\n",
       "      <td>Cash</td>\n",
       "      <td>6.6</td>\n",
       "    </tr>\n",
       "  </tbody>\n",
       "</table>\n",
       "<p>340 rows × 11 columns</p>\n",
       "</div>"
      ],
      "text/plain": [
       "    Branch Customer_type  Gender            Product_line  Unit_price  \\\n",
       "0        A        Member  Female       Health and beauty       74.69   \n",
       "2        A        Normal    Male      Home and lifestyle       46.33   \n",
       "3        A        Member    Male       Health and beauty       58.22   \n",
       "4        A        Normal    Male       Sports and travel       86.31   \n",
       "6        A        Member  Female  Electronic accessories       68.84   \n",
       "..     ...           ...     ...                     ...         ...   \n",
       "990      A        Normal  Female      Food and beverages       56.56   \n",
       "992      A        Normal    Male  Electronic accessories       58.03   \n",
       "997      A        Member    Male      Food and beverages       31.84   \n",
       "998      A        Normal    Male      Home and lifestyle       65.82   \n",
       "999      A        Member  Female     Fashion accessories       88.34   \n",
       "\n",
       "     Quantity     Total        Date   Time      Payment  Rating  \n",
       "0           7  548.9715  2022-01-05  13:08      Ewallet     9.1  \n",
       "2           7  340.5255  2022-03-03  13:23  Credit card     7.4  \n",
       "3           8  489.0480  2022-01-27  20:33      Ewallet     8.4  \n",
       "4           7  634.3785  2022-02-08  10:37      Ewallet     5.3  \n",
       "6           6  433.6920  2022-02-25  14:36      Ewallet     5.8  \n",
       "..        ...       ...         ...    ...          ...     ...  \n",
       "990         5  296.9400  2022-03-22  19:06  Credit card     4.5  \n",
       "992         2  121.8630  2022-03-10  20:46      Ewallet     8.8  \n",
       "997         1   33.4320  2022-02-09  13:22         Cash     7.7  \n",
       "998         1   69.1110  2022-02-22  15:33         Cash     4.1  \n",
       "999         7  649.2990  2022-02-18  13:28         Cash     6.6  \n",
       "\n",
       "[340 rows x 11 columns]"
      ]
     },
     "execution_count": 6,
     "metadata": {},
     "output_type": "execute_result"
    }
   ],
   "source": [
    "BranchA_df = df.loc[(df.Branch == 'A')]\n",
    "BranchA_df"
   ]
  },
  {
   "cell_type": "code",
   "execution_count": 7,
   "id": "061002c6-1aff-40a2-989c-c5c2c96b5c39",
   "metadata": {},
   "outputs": [
    {
     "data": {
      "text/plain": [
       "array([5, 4, 5, 6, 3, 4, 6, 2, 3, 3, 2, 6, 3, 5, 2, 5, 5, 5, 5, 2, 3, 7,\n",
       "       3, 7, 6, 5, 2, 3, 6, 4, 4, 9, 3, 5, 4, 6, 5, 3, 2, 5, 4, 2, 5, 4,\n",
       "       3, 3, 5, 5, 2, 2, 4, 1, 3, 3, 7, 1, 2, 3, 6, 3, 3, 6, 2, 5, 8, 2,\n",
       "       4, 3, 4, 1, 3, 5, 2, 4, 1, 3, 4, 2, 2, 2, 6, 1, 3, 6, 2, 2, 4, 5,\n",
       "       4])"
      ]
     },
     "execution_count": 7,
     "metadata": {},
     "output_type": "execute_result"
    }
   ],
   "source": [
    "# total number of times sales that were made in branch A daily\n",
    "BranchA_sales = np.array([len(df[(df['Date'] == j) & (BranchA_df['Branch'] == 'A')]) for j in df['Date'].unique()])\n",
    "BranchA_sales "
   ]
  },
  {
   "cell_type": "code",
   "execution_count": 8,
   "id": "75231afa-1694-4533-9bdf-06aecf4106b9",
   "metadata": {},
   "outputs": [
    {
     "data": {
      "text/plain": [
       "array([ 3,  3,  6,  5,  3,  6,  7,  0,  3,  1,  4,  3,  5,  7,  3,  7,  5,\n",
       "        6,  2,  2,  1,  8,  3,  7,  2,  7,  3,  2,  4,  1,  5, 11,  3,  7,\n",
       "        5,  5,  8,  3,  2,  4,  6,  1,  7,  5,  6,  2,  5,  2,  1,  2,  3,\n",
       "        1,  3,  3,  7,  1,  4,  2, 10,  4,  3,  6,  1,  5,  6,  2,  4,  4,\n",
       "        2,  1,  5,  6,  1,  5,  0,  4,  2,  4,  0,  3,  6,  0,  4,  6,  2,\n",
       "        0,  4,  5,  2])"
      ]
     },
     "execution_count": 8,
     "metadata": {},
     "output_type": "execute_result"
    }
   ],
   "source": [
    "# daily probabilities of success for branch A\n",
    "Prob_A = [i/j for i, j in zip(BranchA_sales, time_sales)]\n",
    "\n",
    "# binomial simulation for Branch A\n",
    "rnd.binomial(time_sales, Prob_A)"
   ]
  },
  {
   "cell_type": "code",
   "execution_count": 9,
   "id": "b7e00258-6c65-42b8-b500-649ed2962cfc",
   "metadata": {},
   "outputs": [
    {
     "data": {
      "text/plain": [
       "array([4, 4, 5, 6, 2, 3, 6, 2, 3, 2, 1, 6, 3, 5, 2, 4, 5, 5, 4, 1, 3, 7,\n",
       "       2, 6, 5, 4, 1, 3, 6, 4, 4, 9, 3, 5, 3, 5, 5, 3, 2, 4, 4, 2, 5, 3,\n",
       "       2, 3, 4, 5, 1, 2, 3, 0, 2, 3, 6, 0, 1, 3, 6, 2, 2, 5, 1, 4, 8, 2,\n",
       "       4, 2, 3, 0, 3, 5, 1, 3, 0, 2, 4, 2, 1, 1, 5, 0, 2, 6, 2, 2, 3, 5,\n",
       "       3])"
      ]
     },
     "execution_count": 9,
     "metadata": {},
     "output_type": "execute_result"
    }
   ],
   "source": [
    "# binomial simulation for Branch A with expectation\n",
    "binomial = [(sum(rnd.binomial(a, b, 1000))/1000).astype(int) for a, b in zip (time_sales, Prob_A)]\n",
    "np.array(binomial)"
   ]
  },
  {
   "cell_type": "code",
   "execution_count": 10,
   "id": "5e5ea34e-cc6c-47aa-802b-753fc0ac7e65",
   "metadata": {},
   "outputs": [
    {
     "data": {
      "text/plain": [
       "0.34"
      ]
     },
     "execution_count": 10,
     "metadata": {},
     "output_type": "execute_result"
    }
   ],
   "source": [
    "# probability of success in Branch A wrt total events\n",
    "p_BranchA = len(BranchA_df)/len(df)\n",
    "p_BranchA"
   ]
  },
  {
   "cell_type": "code",
   "execution_count": 11,
   "id": "01f0e193-e6b3-4335-b4cb-a9259c51c0cf",
   "metadata": {},
   "outputs": [
    {
     "data": {
      "text/plain": [
       "array([ 5,  2,  4,  2,  2,  3,  6,  3,  4,  4,  0,  5,  3,  4,  1,  5,  6,\n",
       "        8,  6,  1,  4,  5,  2,  9,  5,  5,  2,  4,  5,  1,  1,  8,  0,  8,\n",
       "        6,  5,  7,  1,  1,  6,  4,  3,  4,  4,  1,  3,  4,  4,  0,  2,  3,\n",
       "        1,  2,  3,  8,  1,  2,  4,  8,  4,  3,  5,  4,  2,  9, -1,  6,  2,\n",
       "        4,  1,  2,  6,  1,  5,  1,  3,  5,  2,  2,  2,  2, -1,  2,  5,  1,\n",
       "        2,  2,  6,  3])"
      ]
     },
     "execution_count": 11,
     "metadata": {},
     "output_type": "execute_result"
    }
   ],
   "source": [
    "# possible daily outcomes for branch A in Q2\n",
    "binomial_Q2 = [((sum(rnd.binomial(1000, 0.34, 1000))/1000).astype(int) + rnd.binomial(a, b) - len(BranchA_df)) for a, b in zip (time_sales, Prob_A)]\n",
    "np.array(binomial_Q2)"
   ]
  },
  {
   "cell_type": "markdown",
   "id": "3f650a0a-8983-4047-8409-1fd95860dc59",
   "metadata": {},
   "source": [
    "#### Branch B"
   ]
  },
  {
   "cell_type": "code",
   "execution_count": 12,
   "id": "bc13b005-c70e-436a-83ce-dd6e23feee24",
   "metadata": {},
   "outputs": [
    {
     "data": {
      "text/html": [
       "<div>\n",
       "<style scoped>\n",
       "    .dataframe tbody tr th:only-of-type {\n",
       "        vertical-align: middle;\n",
       "    }\n",
       "\n",
       "    .dataframe tbody tr th {\n",
       "        vertical-align: top;\n",
       "    }\n",
       "\n",
       "    .dataframe thead th {\n",
       "        text-align: right;\n",
       "    }\n",
       "</style>\n",
       "<table border=\"1\" class=\"dataframe\">\n",
       "  <thead>\n",
       "    <tr style=\"text-align: right;\">\n",
       "      <th></th>\n",
       "      <th>Branch</th>\n",
       "      <th>Customer_type</th>\n",
       "      <th>Gender</th>\n",
       "      <th>Product_line</th>\n",
       "      <th>Unit_price</th>\n",
       "      <th>Quantity</th>\n",
       "      <th>Total</th>\n",
       "      <th>Date</th>\n",
       "      <th>Time</th>\n",
       "      <th>Payment</th>\n",
       "      <th>Rating</th>\n",
       "    </tr>\n",
       "  </thead>\n",
       "  <tbody>\n",
       "    <tr>\n",
       "      <th>9</th>\n",
       "      <td>B</td>\n",
       "      <td>Member</td>\n",
       "      <td>Female</td>\n",
       "      <td>Food and beverages</td>\n",
       "      <td>54.84</td>\n",
       "      <td>3</td>\n",
       "      <td>172.746</td>\n",
       "      <td>2022-02-20</td>\n",
       "      <td>13:27</td>\n",
       "      <td>Credit card</td>\n",
       "      <td>5.9</td>\n",
       "    </tr>\n",
       "    <tr>\n",
       "      <th>10</th>\n",
       "      <td>B</td>\n",
       "      <td>Member</td>\n",
       "      <td>Female</td>\n",
       "      <td>Fashion accessories</td>\n",
       "      <td>14.48</td>\n",
       "      <td>4</td>\n",
       "      <td>60.816</td>\n",
       "      <td>2022-02-06</td>\n",
       "      <td>18:07</td>\n",
       "      <td>Ewallet</td>\n",
       "      <td>4.5</td>\n",
       "    </tr>\n",
       "    <tr>\n",
       "      <th>11</th>\n",
       "      <td>B</td>\n",
       "      <td>Member</td>\n",
       "      <td>Male</td>\n",
       "      <td>Electronic accessories</td>\n",
       "      <td>25.51</td>\n",
       "      <td>4</td>\n",
       "      <td>107.142</td>\n",
       "      <td>2022-03-09</td>\n",
       "      <td>17:03</td>\n",
       "      <td>Cash</td>\n",
       "      <td>6.8</td>\n",
       "    </tr>\n",
       "    <tr>\n",
       "      <th>15</th>\n",
       "      <td>B</td>\n",
       "      <td>Member</td>\n",
       "      <td>Female</td>\n",
       "      <td>Sports and travel</td>\n",
       "      <td>93.72</td>\n",
       "      <td>6</td>\n",
       "      <td>590.436</td>\n",
       "      <td>2022-01-15</td>\n",
       "      <td>16:19</td>\n",
       "      <td>Cash</td>\n",
       "      <td>4.5</td>\n",
       "    </tr>\n",
       "    <tr>\n",
       "      <th>19</th>\n",
       "      <td>B</td>\n",
       "      <td>Normal</td>\n",
       "      <td>Female</td>\n",
       "      <td>Home and lifestyle</td>\n",
       "      <td>40.30</td>\n",
       "      <td>2</td>\n",
       "      <td>84.630</td>\n",
       "      <td>2022-03-11</td>\n",
       "      <td>15:30</td>\n",
       "      <td>Ewallet</td>\n",
       "      <td>4.4</td>\n",
       "    </tr>\n",
       "    <tr>\n",
       "      <th>...</th>\n",
       "      <td>...</td>\n",
       "      <td>...</td>\n",
       "      <td>...</td>\n",
       "      <td>...</td>\n",
       "      <td>...</td>\n",
       "      <td>...</td>\n",
       "      <td>...</td>\n",
       "      <td>...</td>\n",
       "      <td>...</td>\n",
       "      <td>...</td>\n",
       "      <td>...</td>\n",
       "    </tr>\n",
       "    <tr>\n",
       "      <th>987</th>\n",
       "      <td>B</td>\n",
       "      <td>Member</td>\n",
       "      <td>Male</td>\n",
       "      <td>Health and beauty</td>\n",
       "      <td>62.00</td>\n",
       "      <td>8</td>\n",
       "      <td>520.800</td>\n",
       "      <td>2022-01-03</td>\n",
       "      <td>19:08</td>\n",
       "      <td>Credit card</td>\n",
       "      <td>6.2</td>\n",
       "    </tr>\n",
       "    <tr>\n",
       "      <th>989</th>\n",
       "      <td>B</td>\n",
       "      <td>Member</td>\n",
       "      <td>Male</td>\n",
       "      <td>Health and beauty</td>\n",
       "      <td>75.37</td>\n",
       "      <td>8</td>\n",
       "      <td>633.108</td>\n",
       "      <td>2022-01-28</td>\n",
       "      <td>15:46</td>\n",
       "      <td>Credit card</td>\n",
       "      <td>8.4</td>\n",
       "    </tr>\n",
       "    <tr>\n",
       "      <th>991</th>\n",
       "      <td>B</td>\n",
       "      <td>Normal</td>\n",
       "      <td>Female</td>\n",
       "      <td>Sports and travel</td>\n",
       "      <td>76.60</td>\n",
       "      <td>10</td>\n",
       "      <td>804.300</td>\n",
       "      <td>2022-01-24</td>\n",
       "      <td>18:10</td>\n",
       "      <td>Ewallet</td>\n",
       "      <td>6.0</td>\n",
       "    </tr>\n",
       "    <tr>\n",
       "      <th>993</th>\n",
       "      <td>B</td>\n",
       "      <td>Normal</td>\n",
       "      <td>Male</td>\n",
       "      <td>Fashion accessories</td>\n",
       "      <td>17.49</td>\n",
       "      <td>10</td>\n",
       "      <td>183.645</td>\n",
       "      <td>2022-02-22</td>\n",
       "      <td>18:35</td>\n",
       "      <td>Ewallet</td>\n",
       "      <td>6.6</td>\n",
       "    </tr>\n",
       "    <tr>\n",
       "      <th>996</th>\n",
       "      <td>B</td>\n",
       "      <td>Normal</td>\n",
       "      <td>Female</td>\n",
       "      <td>Home and lifestyle</td>\n",
       "      <td>97.38</td>\n",
       "      <td>10</td>\n",
       "      <td>1022.490</td>\n",
       "      <td>2022-03-02</td>\n",
       "      <td>17:16</td>\n",
       "      <td>Ewallet</td>\n",
       "      <td>4.4</td>\n",
       "    </tr>\n",
       "  </tbody>\n",
       "</table>\n",
       "<p>332 rows × 11 columns</p>\n",
       "</div>"
      ],
      "text/plain": [
       "    Branch Customer_type  Gender            Product_line  Unit_price  \\\n",
       "9        B        Member  Female      Food and beverages       54.84   \n",
       "10       B        Member  Female     Fashion accessories       14.48   \n",
       "11       B        Member    Male  Electronic accessories       25.51   \n",
       "15       B        Member  Female       Sports and travel       93.72   \n",
       "19       B        Normal  Female      Home and lifestyle       40.30   \n",
       "..     ...           ...     ...                     ...         ...   \n",
       "987      B        Member    Male       Health and beauty       62.00   \n",
       "989      B        Member    Male       Health and beauty       75.37   \n",
       "991      B        Normal  Female       Sports and travel       76.60   \n",
       "993      B        Normal    Male     Fashion accessories       17.49   \n",
       "996      B        Normal  Female      Home and lifestyle       97.38   \n",
       "\n",
       "     Quantity     Total        Date   Time      Payment  Rating  \n",
       "9           3   172.746  2022-02-20  13:27  Credit card     5.9  \n",
       "10          4    60.816  2022-02-06  18:07      Ewallet     4.5  \n",
       "11          4   107.142  2022-03-09  17:03         Cash     6.8  \n",
       "15          6   590.436  2022-01-15  16:19         Cash     4.5  \n",
       "19          2    84.630  2022-03-11  15:30      Ewallet     4.4  \n",
       "..        ...       ...         ...    ...          ...     ...  \n",
       "987         8   520.800  2022-01-03  19:08  Credit card     6.2  \n",
       "989         8   633.108  2022-01-28  15:46  Credit card     8.4  \n",
       "991        10   804.300  2022-01-24  18:10      Ewallet     6.0  \n",
       "993        10   183.645  2022-02-22  18:35      Ewallet     6.6  \n",
       "996        10  1022.490  2022-03-02  17:16      Ewallet     4.4  \n",
       "\n",
       "[332 rows x 11 columns]"
      ]
     },
     "execution_count": 12,
     "metadata": {},
     "output_type": "execute_result"
    }
   ],
   "source": [
    "BranchB_df = df.loc[(df.Branch == 'B')]\n",
    "BranchB_df"
   ]
  },
  {
   "cell_type": "code",
   "execution_count": 13,
   "id": "f55a4c12-4f60-479a-bb6a-9e877142567d",
   "metadata": {},
   "outputs": [
    {
     "data": {
      "text/plain": [
       "array([ 3,  1,  3,  2,  6,  2,  8,  3,  3,  6,  5,  6,  3,  6,  4,  5,  3,\n",
       "        3,  1, 10,  8,  2,  9,  3,  3,  7,  6,  3,  1,  4,  4,  1,  3,  6,\n",
       "        4,  3,  5,  2,  2,  4,  2,  5,  7,  6,  2,  3,  6,  2,  3,  2,  3,\n",
       "        2,  6, 10,  0,  4,  4,  4,  3,  5,  0,  1,  4,  3,  3,  3,  6,  1,\n",
       "        2,  4,  5,  3,  3,  3,  2,  3,  1,  3,  5,  2,  6,  2,  7,  0,  6,\n",
       "        2,  5,  4,  1])"
      ]
     },
     "execution_count": 13,
     "metadata": {},
     "output_type": "execute_result"
    }
   ],
   "source": [
    "# total number of times sales that were made in branch B daily\n",
    "BranchB_sales = np.array([len(df[(df['Date'] == j) & (BranchB_df['Branch'] == 'B')]) for j in df['Date'].unique()])\n",
    "BranchB_sales "
   ]
  },
  {
   "cell_type": "code",
   "execution_count": 14,
   "id": "40d75f35-bb94-4ce0-9d6a-90339e63285e",
   "metadata": {},
   "outputs": [
    {
     "data": {
      "text/plain": [
       "array([ 1,  0,  2,  1,  4,  1,  5,  3,  3,  6,  3,  4,  3,  4,  3,  6,  4,\n",
       "        3,  0, 11,  9,  1, 12,  3,  2,  9,  9,  2,  3,  4,  6,  0,  5,  5,\n",
       "        4,  3,  3,  1,  3,  4,  2,  8,  7,  7,  3,  4,  6,  2,  3,  2,  3,\n",
       "        3,  5,  9,  0,  3,  5,  4,  3,  4,  0,  0,  2,  4,  6,  1,  9,  0,\n",
       "        3,  5,  4,  3,  4,  6,  1,  3,  1,  1,  3,  2,  6,  1,  3,  0,  4,\n",
       "        2,  3,  3,  2])"
      ]
     },
     "execution_count": 14,
     "metadata": {},
     "output_type": "execute_result"
    }
   ],
   "source": [
    "# daily probabilities of success for branch B\n",
    "Prob_B = [i/j for i, j in zip(BranchB_sales, time_sales)]\n",
    "\n",
    "# binomial simulation for Branch B\n",
    "rnd.binomial(time_sales, Prob_B)"
   ]
  },
  {
   "cell_type": "code",
   "execution_count": 15,
   "id": "fecc6ea3-ec5e-4585-bfac-be4e3b392376",
   "metadata": {},
   "outputs": [
    {
     "data": {
      "text/plain": [
       "array([ 3,  0,  2,  2,  5,  2,  7,  2,  3,  6,  5,  6,  2,  5,  4,  4,  2,\n",
       "        2,  0,  9,  8,  1,  9,  2,  2,  6,  5,  2,  0,  4,  4,  0,  3,  6,\n",
       "        3,  2,  5,  1,  2,  4,  2,  4,  7,  5,  2,  2,  5,  2,  3,  2,  2,\n",
       "        1,  5, 10,  0,  4,  4,  3,  3,  5,  0,  0,  4,  3,  3,  2,  5,  1,\n",
       "        2,  3,  5,  2,  3,  3,  1,  3,  0,  3,  5,  1,  6,  2,  7,  0,  6,\n",
       "        2,  5,  3,  1])"
      ]
     },
     "execution_count": 15,
     "metadata": {},
     "output_type": "execute_result"
    }
   ],
   "source": [
    "# binomial simulation for Branch B with expectation\n",
    "binomialB = [(sum(rnd.binomial(a, b, 1000))/1000).astype(int) for a, b in zip (time_sales, Prob_B)]\n",
    "np.array(binomialB)"
   ]
  },
  {
   "cell_type": "code",
   "execution_count": 16,
   "id": "ff751bcf-a2f6-4d0c-a8e5-3b1717625585",
   "metadata": {},
   "outputs": [
    {
     "data": {
      "text/plain": [
       "0.332"
      ]
     },
     "execution_count": 16,
     "metadata": {},
     "output_type": "execute_result"
    }
   ],
   "source": [
    "#probability of success in Branch B wrt total events\n",
    "p_BranchB = len(BranchB_df)/len(df)\n",
    "p_BranchB"
   ]
  },
  {
   "cell_type": "code",
   "execution_count": 17,
   "id": "ec6f130a-3024-4c9e-91d0-5e8ff39d06d1",
   "metadata": {},
   "outputs": [
    {
     "data": {
      "text/plain": [
       "array([ 5, -1,  1,  3,  4,  2,  8,  3,  4,  5,  3,  7,  4,  5,  3,  8,  3,\n",
       "        4, -1,  6, 10,  1, 10,  4,  1,  9,  7,  3,  1,  4,  4, -1,  0,  1,\n",
       "        5,  2,  2,  1,  3,  2,  4,  7,  7,  7,  3,  1,  8,  2,  4,  2,  2,\n",
       "        2,  6,  7,  0,  3,  6,  3,  1,  4,  0,  1,  8,  3,  4,  2,  8,  0,\n",
       "        1,  3,  5,  5,  2,  2,  2,  4,  0,  4,  4,  3,  5,  0,  6, -1,  2,\n",
       "        0,  4,  2,  0])"
      ]
     },
     "execution_count": 17,
     "metadata": {},
     "output_type": "execute_result"
    }
   ],
   "source": [
    "#possible daily outcomes for branch B in Q2\n",
    "binomialB_Q2 = [((sum(rnd.binomial(1000, 0.332, 1000))/1000).astype(int) + rnd.binomial(a, b) - len(BranchB_df)) for a, b in zip (time_sales, Prob_B)]\n",
    "np.array(binomialB_Q2)"
   ]
  },
  {
   "cell_type": "markdown",
   "id": "f600e727-197d-4c6d-8a95-a81aa3228fdd",
   "metadata": {},
   "source": [
    "#### Branch C"
   ]
  },
  {
   "cell_type": "code",
   "execution_count": 18,
   "id": "dd8885ae-fb44-4915-8242-c256015bcb8f",
   "metadata": {},
   "outputs": [
    {
     "data": {
      "text/html": [
       "<div>\n",
       "<style scoped>\n",
       "    .dataframe tbody tr th:only-of-type {\n",
       "        vertical-align: middle;\n",
       "    }\n",
       "\n",
       "    .dataframe tbody tr th {\n",
       "        vertical-align: top;\n",
       "    }\n",
       "\n",
       "    .dataframe thead th {\n",
       "        text-align: right;\n",
       "    }\n",
       "</style>\n",
       "<table border=\"1\" class=\"dataframe\">\n",
       "  <thead>\n",
       "    <tr style=\"text-align: right;\">\n",
       "      <th></th>\n",
       "      <th>Branch</th>\n",
       "      <th>Customer_type</th>\n",
       "      <th>Gender</th>\n",
       "      <th>Product_line</th>\n",
       "      <th>Unit_price</th>\n",
       "      <th>Quantity</th>\n",
       "      <th>Total</th>\n",
       "      <th>Date</th>\n",
       "      <th>Time</th>\n",
       "      <th>Payment</th>\n",
       "      <th>Rating</th>\n",
       "    </tr>\n",
       "  </thead>\n",
       "  <tbody>\n",
       "    <tr>\n",
       "      <th>1</th>\n",
       "      <td>C</td>\n",
       "      <td>Normal</td>\n",
       "      <td>Female</td>\n",
       "      <td>Electronic accessories</td>\n",
       "      <td>15.28</td>\n",
       "      <td>5</td>\n",
       "      <td>80.2200</td>\n",
       "      <td>2022-03-08</td>\n",
       "      <td>10:29</td>\n",
       "      <td>Cash</td>\n",
       "      <td>9.6</td>\n",
       "    </tr>\n",
       "    <tr>\n",
       "      <th>5</th>\n",
       "      <td>C</td>\n",
       "      <td>Normal</td>\n",
       "      <td>Male</td>\n",
       "      <td>Electronic accessories</td>\n",
       "      <td>85.39</td>\n",
       "      <td>7</td>\n",
       "      <td>627.6165</td>\n",
       "      <td>2022-03-25</td>\n",
       "      <td>18:30</td>\n",
       "      <td>Ewallet</td>\n",
       "      <td>4.1</td>\n",
       "    </tr>\n",
       "    <tr>\n",
       "      <th>7</th>\n",
       "      <td>C</td>\n",
       "      <td>Normal</td>\n",
       "      <td>Female</td>\n",
       "      <td>Home and lifestyle</td>\n",
       "      <td>73.56</td>\n",
       "      <td>10</td>\n",
       "      <td>772.3800</td>\n",
       "      <td>2022-02-24</td>\n",
       "      <td>11:38</td>\n",
       "      <td>Ewallet</td>\n",
       "      <td>8.0</td>\n",
       "    </tr>\n",
       "    <tr>\n",
       "      <th>20</th>\n",
       "      <td>C</td>\n",
       "      <td>Member</td>\n",
       "      <td>Male</td>\n",
       "      <td>Electronic accessories</td>\n",
       "      <td>86.04</td>\n",
       "      <td>5</td>\n",
       "      <td>451.7100</td>\n",
       "      <td>2022-02-25</td>\n",
       "      <td>11:24</td>\n",
       "      <td>Ewallet</td>\n",
       "      <td>4.8</td>\n",
       "    </tr>\n",
       "    <tr>\n",
       "      <th>34</th>\n",
       "      <td>C</td>\n",
       "      <td>Member</td>\n",
       "      <td>Female</td>\n",
       "      <td>Food and beverages</td>\n",
       "      <td>99.42</td>\n",
       "      <td>4</td>\n",
       "      <td>417.5640</td>\n",
       "      <td>2022-02-06</td>\n",
       "      <td>10:42</td>\n",
       "      <td>Ewallet</td>\n",
       "      <td>7.5</td>\n",
       "    </tr>\n",
       "    <tr>\n",
       "      <th>...</th>\n",
       "      <td>...</td>\n",
       "      <td>...</td>\n",
       "      <td>...</td>\n",
       "      <td>...</td>\n",
       "      <td>...</td>\n",
       "      <td>...</td>\n",
       "      <td>...</td>\n",
       "      <td>...</td>\n",
       "      <td>...</td>\n",
       "      <td>...</td>\n",
       "      <td>...</td>\n",
       "    </tr>\n",
       "    <tr>\n",
       "      <th>983</th>\n",
       "      <td>C</td>\n",
       "      <td>Normal</td>\n",
       "      <td>Male</td>\n",
       "      <td>Health and beauty</td>\n",
       "      <td>99.96</td>\n",
       "      <td>7</td>\n",
       "      <td>734.7060</td>\n",
       "      <td>2022-01-23</td>\n",
       "      <td>10:33</td>\n",
       "      <td>Cash</td>\n",
       "      <td>6.1</td>\n",
       "    </tr>\n",
       "    <tr>\n",
       "      <th>984</th>\n",
       "      <td>C</td>\n",
       "      <td>Normal</td>\n",
       "      <td>Male</td>\n",
       "      <td>Electronic accessories</td>\n",
       "      <td>96.37</td>\n",
       "      <td>7</td>\n",
       "      <td>708.3195</td>\n",
       "      <td>2022-01-09</td>\n",
       "      <td>11:40</td>\n",
       "      <td>Cash</td>\n",
       "      <td>6.0</td>\n",
       "    </tr>\n",
       "    <tr>\n",
       "      <th>988</th>\n",
       "      <td>C</td>\n",
       "      <td>Member</td>\n",
       "      <td>Male</td>\n",
       "      <td>Electronic accessories</td>\n",
       "      <td>82.34</td>\n",
       "      <td>10</td>\n",
       "      <td>864.5700</td>\n",
       "      <td>2022-03-29</td>\n",
       "      <td>19:12</td>\n",
       "      <td>Ewallet</td>\n",
       "      <td>4.3</td>\n",
       "    </tr>\n",
       "    <tr>\n",
       "      <th>994</th>\n",
       "      <td>C</td>\n",
       "      <td>Member</td>\n",
       "      <td>Female</td>\n",
       "      <td>Electronic accessories</td>\n",
       "      <td>60.95</td>\n",
       "      <td>1</td>\n",
       "      <td>63.9975</td>\n",
       "      <td>2022-02-18</td>\n",
       "      <td>11:40</td>\n",
       "      <td>Ewallet</td>\n",
       "      <td>5.9</td>\n",
       "    </tr>\n",
       "    <tr>\n",
       "      <th>995</th>\n",
       "      <td>C</td>\n",
       "      <td>Normal</td>\n",
       "      <td>Male</td>\n",
       "      <td>Health and beauty</td>\n",
       "      <td>40.35</td>\n",
       "      <td>1</td>\n",
       "      <td>42.3675</td>\n",
       "      <td>2022-01-29</td>\n",
       "      <td>13:46</td>\n",
       "      <td>Ewallet</td>\n",
       "      <td>6.2</td>\n",
       "    </tr>\n",
       "  </tbody>\n",
       "</table>\n",
       "<p>328 rows × 11 columns</p>\n",
       "</div>"
      ],
      "text/plain": [
       "    Branch Customer_type  Gender            Product_line  Unit_price  \\\n",
       "1        C        Normal  Female  Electronic accessories       15.28   \n",
       "5        C        Normal    Male  Electronic accessories       85.39   \n",
       "7        C        Normal  Female      Home and lifestyle       73.56   \n",
       "20       C        Member    Male  Electronic accessories       86.04   \n",
       "34       C        Member  Female      Food and beverages       99.42   \n",
       "..     ...           ...     ...                     ...         ...   \n",
       "983      C        Normal    Male       Health and beauty       99.96   \n",
       "984      C        Normal    Male  Electronic accessories       96.37   \n",
       "988      C        Member    Male  Electronic accessories       82.34   \n",
       "994      C        Member  Female  Electronic accessories       60.95   \n",
       "995      C        Normal    Male       Health and beauty       40.35   \n",
       "\n",
       "     Quantity     Total        Date   Time  Payment  Rating  \n",
       "1           5   80.2200  2022-03-08  10:29     Cash     9.6  \n",
       "5           7  627.6165  2022-03-25  18:30  Ewallet     4.1  \n",
       "7          10  772.3800  2022-02-24  11:38  Ewallet     8.0  \n",
       "20          5  451.7100  2022-02-25  11:24  Ewallet     4.8  \n",
       "34          4  417.5640  2022-02-06  10:42  Ewallet     7.5  \n",
       "..        ...       ...         ...    ...      ...     ...  \n",
       "983         7  734.7060  2022-01-23  10:33     Cash     6.1  \n",
       "984         7  708.3195  2022-01-09  11:40     Cash     6.0  \n",
       "988        10  864.5700  2022-03-29  19:12  Ewallet     4.3  \n",
       "994         1   63.9975  2022-02-18  11:40  Ewallet     5.9  \n",
       "995         1   42.3675  2022-01-29  13:46  Ewallet     6.2  \n",
       "\n",
       "[328 rows x 11 columns]"
      ]
     },
     "execution_count": 18,
     "metadata": {},
     "output_type": "execute_result"
    }
   ],
   "source": [
    "BranchC_df = df.loc[(df.Branch == 'C')]\n",
    "BranchC_df"
   ]
  },
  {
   "cell_type": "code",
   "execution_count": 19,
   "id": "89cab11e-d09d-436f-86d1-1722126b9ee1",
   "metadata": {},
   "outputs": [
    {
     "data": {
      "text/plain": [
       "array([ 4,  6,  6,  6,  3,  3,  2,  4,  3,  1,  6,  4,  2,  9,  2,  3,  3,\n",
       "        4,  2,  5,  1,  4,  6,  0,  3,  5,  6,  3,  4,  3,  6,  2,  3,  3,\n",
       "        3,  7,  4,  4,  2,  1,  4,  5,  7,  1,  3,  4,  2,  2,  3,  3,  3,\n",
       "        5,  2,  4, 10,  3,  2,  6,  4,  2,  3,  3,  5,  4,  5,  5,  8,  3,\n",
       "        3,  3,  3,  4,  1,  4,  6,  2,  1,  3,  6,  3,  3,  3,  4,  2,  1,\n",
       "        2,  9,  2,  4])"
      ]
     },
     "execution_count": 19,
     "metadata": {},
     "output_type": "execute_result"
    }
   ],
   "source": [
    "# total number of times sales that were made in branch C daily\n",
    "BranchC_sales = np.array([len(df[(df['Date'] == j) & (BranchC_df['Branch'] == 'C')]) for j in df['Date'].unique()])\n",
    "BranchC_sales "
   ]
  },
  {
   "cell_type": "code",
   "execution_count": 20,
   "id": "ba8140a2-8673-4dc8-af7e-bfd956030085",
   "metadata": {},
   "outputs": [
    {
     "data": {
      "text/plain": [
       "array([ 5,  7,  7,  4,  3,  2,  3,  6,  1,  0,  7,  8,  1,  6,  0,  3,  3,\n",
       "        1,  1,  2,  0,  5,  8,  0,  2,  8,  4,  3,  2,  2,  6,  1,  2,  2,\n",
       "        5,  6,  2,  5,  2,  1,  5,  3, 10,  1,  2,  3,  2,  0,  2,  5,  3,\n",
       "        5,  4,  7, 12,  2,  4,  9,  5,  2,  5,  4,  8,  4,  5,  5,  8,  2,\n",
       "        5,  2,  2,  3,  1,  4,  7,  1,  2,  1,  8,  4,  3,  4,  4,  1,  0,\n",
       "        5, 13,  1,  4])"
      ]
     },
     "execution_count": 20,
     "metadata": {},
     "output_type": "execute_result"
    }
   ],
   "source": [
    "# daily probabilities of success for branch C\n",
    "Prob_C = [i/j for i, j in zip(BranchC_sales, time_sales)]\n",
    "\n",
    "# binomial simulation for Branch C\n",
    "rnd.binomial(time_sales, Prob_C)"
   ]
  },
  {
   "cell_type": "code",
   "execution_count": 21,
   "id": "f747a7e3-cb6d-4184-a9d8-39a696264327",
   "metadata": {},
   "outputs": [
    {
     "data": {
      "text/plain": [
       "array([4, 6, 5, 6, 2, 2, 1, 3, 2, 0, 6, 3, 1, 9, 2, 2, 2, 4, 1, 4, 0, 4,\n",
       "       6, 0, 3, 5, 5, 2, 3, 3, 5, 2, 2, 3, 2, 7, 3, 3, 1, 0, 3, 4, 7, 0,\n",
       "       2, 4, 1, 2, 3, 3, 2, 5, 2, 3, 9, 2, 1, 5, 3, 1, 3, 3, 4, 4, 4, 5,\n",
       "       7, 3, 3, 3, 2, 3, 1, 3, 6, 2, 1, 3, 6, 3, 2, 3, 4, 2, 0, 2, 9, 2,\n",
       "       4])"
      ]
     },
     "execution_count": 21,
     "metadata": {},
     "output_type": "execute_result"
    }
   ],
   "source": [
    "# binomial simulation for Branch C with expectation\n",
    "binomialC = [(sum(rnd.binomial(a, b, 1000))/1000).astype(int) for a, b in zip (time_sales, Prob_C)]\n",
    "np.array(binomialC)"
   ]
  },
  {
   "cell_type": "code",
   "execution_count": 22,
   "id": "d9e9c267-bdf5-41ef-bd0e-ea53b61a744b",
   "metadata": {},
   "outputs": [
    {
     "data": {
      "text/plain": [
       "0.328"
      ]
     },
     "execution_count": 22,
     "metadata": {},
     "output_type": "execute_result"
    }
   ],
   "source": [
    "#probability of success in Branch C wrt total events\n",
    "p_BranchC = len(BranchC_df)/len(df)\n",
    "p_BranchC"
   ]
  },
  {
   "cell_type": "code",
   "execution_count": 23,
   "id": "700f0f63-7b46-4f16-885a-1d51e5641c9e",
   "metadata": {},
   "outputs": [
    {
     "data": {
      "text/plain": [
       "array([ 4,  3,  6,  6,  1,  2,  1,  5,  2, -1,  2, -1,  2,  9,  2,  3,  4,\n",
       "        4,  2,  4, -1,  5,  4, -1,  3,  4,  9,  3,  4,  7,  9,  1,  2,  1,\n",
       "        3,  7,  3,  2,  2,  0,  1,  4,  9, -1,  5,  2,  2,  4, -1,  3,  2,\n",
       "        5,  3,  3,  9,  1,  1,  6,  7,  1,  2,  2,  8,  1,  3,  3,  7,  1,\n",
       "        2,  6,  2,  4,  0,  6,  7,  0,  4,  1,  7,  3,  2,  0,  3,  4,  1,\n",
       "        0, 12,  2,  4])"
      ]
     },
     "execution_count": 23,
     "metadata": {},
     "output_type": "execute_result"
    }
   ],
   "source": [
    "#possible daily outcomes for branch C in Q2\n",
    "binomialC_Q2 = [((sum(rnd.binomial(1000, 0.328, 1000))/1000).astype(int) + rnd.binomial(a, b) - len(BranchC_df)) for a, b in zip (time_sales, Prob_C)]\n",
    "np.array(binomialC_Q2)"
   ]
  },
  {
   "cell_type": "markdown",
   "id": "d176db57-26bc-4336-9cce-c4ba82e0e7dc",
   "metadata": {},
   "source": [
    "#### Aggregating the Results"
   ]
  },
  {
   "cell_type": "code",
   "execution_count": 24,
   "id": "a144732b-b5f4-4fdf-b16b-c706e3528a51",
   "metadata": {},
   "outputs": [
    {
     "data": {
      "text/html": [
       "<div>\n",
       "<style scoped>\n",
       "    .dataframe tbody tr th:only-of-type {\n",
       "        vertical-align: middle;\n",
       "    }\n",
       "\n",
       "    .dataframe tbody tr th {\n",
       "        vertical-align: top;\n",
       "    }\n",
       "\n",
       "    .dataframe thead th {\n",
       "        text-align: right;\n",
       "    }\n",
       "</style>\n",
       "<table border=\"1\" class=\"dataframe\">\n",
       "  <thead>\n",
       "    <tr style=\"text-align: right;\">\n",
       "      <th></th>\n",
       "      <th>Date</th>\n",
       "      <th>Branch A</th>\n",
       "      <th>Branch B</th>\n",
       "      <th>Branch C</th>\n",
       "    </tr>\n",
       "  </thead>\n",
       "  <tbody>\n",
       "    <tr>\n",
       "      <th>0</th>\n",
       "      <td>2022-04-01</td>\n",
       "      <td>5</td>\n",
       "      <td>5</td>\n",
       "      <td>4</td>\n",
       "    </tr>\n",
       "    <tr>\n",
       "      <th>1</th>\n",
       "      <td>2022-04-02</td>\n",
       "      <td>2</td>\n",
       "      <td>-1</td>\n",
       "      <td>3</td>\n",
       "    </tr>\n",
       "    <tr>\n",
       "      <th>2</th>\n",
       "      <td>2022-04-03</td>\n",
       "      <td>4</td>\n",
       "      <td>1</td>\n",
       "      <td>6</td>\n",
       "    </tr>\n",
       "    <tr>\n",
       "      <th>3</th>\n",
       "      <td>2022-04-04</td>\n",
       "      <td>2</td>\n",
       "      <td>3</td>\n",
       "      <td>6</td>\n",
       "    </tr>\n",
       "    <tr>\n",
       "      <th>4</th>\n",
       "      <td>2022-04-05</td>\n",
       "      <td>2</td>\n",
       "      <td>4</td>\n",
       "      <td>1</td>\n",
       "    </tr>\n",
       "    <tr>\n",
       "      <th>...</th>\n",
       "      <td>...</td>\n",
       "      <td>...</td>\n",
       "      <td>...</td>\n",
       "      <td>...</td>\n",
       "    </tr>\n",
       "    <tr>\n",
       "      <th>84</th>\n",
       "      <td>2022-06-24</td>\n",
       "      <td>1</td>\n",
       "      <td>2</td>\n",
       "      <td>1</td>\n",
       "    </tr>\n",
       "    <tr>\n",
       "      <th>85</th>\n",
       "      <td>2022-06-25</td>\n",
       "      <td>2</td>\n",
       "      <td>0</td>\n",
       "      <td>0</td>\n",
       "    </tr>\n",
       "    <tr>\n",
       "      <th>86</th>\n",
       "      <td>2022-06-26</td>\n",
       "      <td>2</td>\n",
       "      <td>4</td>\n",
       "      <td>12</td>\n",
       "    </tr>\n",
       "    <tr>\n",
       "      <th>87</th>\n",
       "      <td>2022-06-27</td>\n",
       "      <td>6</td>\n",
       "      <td>2</td>\n",
       "      <td>2</td>\n",
       "    </tr>\n",
       "    <tr>\n",
       "      <th>88</th>\n",
       "      <td>2022-06-28</td>\n",
       "      <td>3</td>\n",
       "      <td>0</td>\n",
       "      <td>4</td>\n",
       "    </tr>\n",
       "  </tbody>\n",
       "</table>\n",
       "<p>89 rows × 4 columns</p>\n",
       "</div>"
      ],
      "text/plain": [
       "         Date  Branch A  Branch B  Branch C\n",
       "0  2022-04-01         5         5         4\n",
       "1  2022-04-02         2        -1         3\n",
       "2  2022-04-03         4         1         6\n",
       "3  2022-04-04         2         3         6\n",
       "4  2022-04-05         2         4         1\n",
       "..        ...       ...       ...       ...\n",
       "84 2022-06-24         1         2         1\n",
       "85 2022-06-25         2         0         0\n",
       "86 2022-06-26         2         4        12\n",
       "87 2022-06-27         6         2         2\n",
       "88 2022-06-28         3         0         4\n",
       "\n",
       "[89 rows x 4 columns]"
      ]
     },
     "execution_count": 24,
     "metadata": {},
     "output_type": "execute_result"
    }
   ],
   "source": [
    "#generate dates for Q2\n",
    "Date = []\n",
    "\n",
    "new_date = pd.date_range(start=\"2022-04-01\", periods=91).to_pydatetime().tolist()\n",
    "\n",
    "for date in new_date:\n",
    "    a = str(date)\n",
    "    Date.append(a.split(' ')[0])\n",
    "    \n",
    "agg = pd.DataFrame({'Date': pd.to_datetime(Date[:89]), \n",
    "                    'Branch A': binomial_Q2, \n",
    "                    'Branch B': binomialB_Q2, \n",
    "                    'Branch C': binomialC_Q2})\n",
    "\n",
    "agg"
   ]
  },
  {
   "cell_type": "markdown",
   "id": "d2cf3b28-b2bd-4167-8aa9-1f24b1d02990",
   "metadata": {},
   "source": [
    "### Question 1b\n",
    "\n",
    "Simulate the quantity of products that will be sold in each of the branches in Q2 daily. Note the difference between this and the above objective!"
   ]
  },
  {
   "cell_type": "code",
   "execution_count": 25,
   "id": "80594da8-67ff-4cd7-855e-d0f013a99a33",
   "metadata": {},
   "outputs": [
    {
     "data": {
      "text/plain": [
       "array([ 55,  60,  95,  87,  70,  42,  66,  59,  55,  53,  73,  99,  43,\n",
       "       128,  54,  88,  60,  81,  32, 103,  66,  79,  95,  52,  59,  80,\n",
       "        91,  53,  67,  47,  83,  75,  47,  97,  62,  87,  82,  37,  30,\n",
       "        45,  56,  60, 106,  63,  37,  57,  84,  52,  54,  34,  50,  58,\n",
       "        80,  77,  95,  40,  48,  69,  52,  45,  40,  48,  57,  54,  91,\n",
       "        61,  95,  24,  54,  49,  59,  67,  32,  67,  39,  37,  35,  31,\n",
       "        64,  27,  80,  18,  82,  40,  37,  40, 117,  50,  61], dtype=int64)"
      ]
     },
     "execution_count": 25,
     "metadata": {},
     "output_type": "execute_result"
    }
   ],
   "source": [
    "# total quantity of goods sold daily\n",
    "Quant_sold = [df.Quantity[df['Date'] == i].sum() for i in df['Date'].unique()]\n",
    "np.array(Quant_sold)"
   ]
  },
  {
   "cell_type": "markdown",
   "id": "97e0b5ce-a8e5-49dd-a8b3-cb2de0b94dea",
   "metadata": {},
   "source": [
    "#### Branch A"
   ]
  },
  {
   "cell_type": "code",
   "execution_count": 26,
   "id": "6b8f743b-3196-4dd2-b27b-abdddab9feda",
   "metadata": {},
   "outputs": [
    {
     "data": {
      "text/plain": [
       "array([27, 22, 24, 29, 18, 18, 22, 12, 15, 17, 11, 39, 13, 28, 13, 33, 26,\n",
       "       37, 24,  5, 21, 39,  9, 34, 26, 21, 15, 22, 34, 26, 29, 57, 17, 38,\n",
       "       23, 30, 37, 14,  9, 22, 24, 11, 23, 26, 12, 22, 39, 25,  7, 12, 25,\n",
       "        5, 29,  9, 36,  4,  7, 20, 25, 16, 16, 35,  6, 13, 56, 12, 14, 14,\n",
       "       23,  7, 21, 24, 15, 23,  3, 19, 25,  5, 15,  9, 37,  3, 13, 31,  3,\n",
       "       14, 21, 24, 25], dtype=int64)"
      ]
     },
     "execution_count": 26,
     "metadata": {},
     "output_type": "execute_result"
    }
   ],
   "source": [
    "# total quantity of goods sold in branch A daily \n",
    "Quant_soldA = [df.Quantity[(df['Date'] == i) & (BranchA_df['Branch'] == 'A')].sum() for i in df['Date'].unique()]\n",
    "np.array(Quant_soldA)"
   ]
  },
  {
   "cell_type": "code",
   "execution_count": 27,
   "id": "9223b324-55d2-46bf-8ecc-0d0358a5969e",
   "metadata": {},
   "outputs": [
    {
     "data": {
      "text/plain": [
       "array([27, 22, 23, 29, 17, 17, 21, 12, 15, 16, 10, 38, 13, 27, 13, 32, 26,\n",
       "       36, 23,  4, 21, 38,  8, 33, 25, 21, 14, 21, 33, 26, 29, 57, 16, 38,\n",
       "       22, 30, 37, 13,  9, 21, 23, 10, 22, 26, 11, 21, 39, 24,  6, 11, 24,\n",
       "        5, 28,  8, 35,  4,  6, 19, 24, 16, 16, 34,  5, 12, 55, 12, 13, 13,\n",
       "       22,  7, 20, 24, 15, 23,  3, 19, 25,  4, 14,  8, 36,  2, 12, 30,  3,\n",
       "       14, 21, 24, 24])"
      ]
     },
     "execution_count": 27,
     "metadata": {},
     "output_type": "execute_result"
    }
   ],
   "source": [
    "# daily probabilities of success for branch A\n",
    "Prob_A = [i/j for i, j in zip(Quant_soldA, Quant_sold)]\n",
    "\n",
    "# binomial simulation for Branch A\n",
    "binomial_A = [(sum(rnd.binomial(a, b, 1000))/1000).astype(int) for a, b in zip (Quant_sold, Prob_A)]\n",
    "np.array(binomial_A)"
   ]
  },
  {
   "cell_type": "code",
   "execution_count": 28,
   "id": "1ba54cef-6caa-4ba4-aee7-86bc5f043fbf",
   "metadata": {},
   "outputs": [
    {
     "data": {
      "text/plain": [
       "1859"
      ]
     },
     "execution_count": 28,
     "metadata": {},
     "output_type": "execute_result"
    }
   ],
   "source": [
    "# total quantity of goods sold in Branch A for Q1\n",
    "total_QuantA = BranchA_df['Quantity'].sum()\n",
    "total_QuantA"
   ]
  },
  {
   "cell_type": "code",
   "execution_count": 29,
   "id": "ba089177-a59f-4b9b-a0be-e30fab17114f",
   "metadata": {},
   "outputs": [
    {
     "data": {
      "text/plain": [
       "0.33738656987295823"
      ]
     },
     "execution_count": 29,
     "metadata": {},
     "output_type": "execute_result"
    }
   ],
   "source": [
    "# probability of total goods sold in Branch A wrt total goods sold\n",
    "p_QuantA = total_QuantA/df['Quantity'].sum()\n",
    "p_QuantA"
   ]
  },
  {
   "cell_type": "code",
   "execution_count": 30,
   "id": "fdaa5121-db88-44e2-bf50-5e50528d8468",
   "metadata": {},
   "outputs": [
    {
     "data": {
      "text/plain": [
       "array([21, 26, 20, 31, 23, 22, 21,  5, 17, 17, 15, 40, 15, 30, 13, 28, 21,\n",
       "       45, 23,  5, 24, 42,  7, 26, 25, 25, 14, 20, 28, 29, 30, 64, 22, 45,\n",
       "       34, 40, 37, 20, 10, 26, 15,  8, 34, 34, 12, 28, 36, 22,  8, 15, 22,\n",
       "        6, 30,  9, 34,  7, 11, 21, 26, 17, 13, 36, 10, 14, 49, 15, 16, 11,\n",
       "       28,  7, 18, 28, 13, 17,  2, 23, 29,  2, 13,  8, 38,  2, 19, 31,  0,\n",
       "       12, 28, 24, 26], dtype=int64)"
      ]
     },
     "execution_count": 30,
     "metadata": {},
     "output_type": "execute_result"
    }
   ],
   "source": [
    "# possible outcomes of sold goods for branch A in Q2\n",
    "binomial_AQ2 = [(rnd.binomial(5510, 0.3374, 50000).mean().astype(int) + rnd.binomial(a, b) - total_QuantA) for a, b in zip (Quant_sold, Prob_A)]\n",
    "np.array(binomial_AQ2)"
   ]
  },
  {
   "cell_type": "markdown",
   "id": "53e2b657-8b6b-45ca-83a5-90efe0a82867",
   "metadata": {},
   "source": [
    "#### Branch B"
   ]
  },
  {
   "cell_type": "code",
   "execution_count": 31,
   "id": "4761b669-9dcc-49f7-81bf-cfdbcdbb31f0",
   "metadata": {},
   "outputs": [
    {
     "data": {
      "text/plain": [
       "array([11,  5, 26, 14, 30,  6, 38, 16, 19, 35, 39, 39, 19, 48, 27, 33, 14,\n",
       "       24,  1, 59, 37, 14, 52, 18, 11, 28, 45, 17,  4, 12, 31,  9, 15, 43,\n",
       "       20, 19, 19,  7, 11, 14,  5, 24, 44, 36, 11, 16, 41, 13, 22, 11, 10,\n",
       "       11, 34, 49,  0, 24, 31, 16, 13, 16,  0,  3, 22, 20, 17, 12, 37,  2,\n",
       "       14, 24, 28, 20,  8, 19, 12, 15,  4, 15, 18,  6, 22,  7, 38,  0, 25,\n",
       "       15, 38, 16,  7], dtype=int64)"
      ]
     },
     "execution_count": 31,
     "metadata": {},
     "output_type": "execute_result"
    }
   ],
   "source": [
    "# total quantity of goods sold in branch B daily \n",
    "Quant_soldB = [df.Quantity[(df['Date'] == i) & (BranchB_df['Branch'] == 'B')].sum() for i in df['Date'].unique()]\n",
    "np.array(Quant_soldB)"
   ]
  },
  {
   "cell_type": "code",
   "execution_count": 32,
   "id": "8e439700-d131-4999-84ef-ac3ef6f3315f",
   "metadata": {},
   "outputs": [
    {
     "data": {
      "text/plain": [
       "array([11,  5, 25, 13, 30,  5, 38, 15, 19, 35, 39, 38, 18, 47, 26, 33, 14,\n",
       "       23,  1, 58, 36, 13, 51, 18, 11, 28, 45, 17,  4, 11, 31,  8, 14, 42,\n",
       "       19, 18, 19,  7, 11, 14,  4, 23, 44, 35, 11, 16, 40, 12, 22, 11, 10,\n",
       "       11, 34, 48,  0, 23, 31, 16, 12, 16,  0,  3, 21, 20, 16, 12, 37,  1,\n",
       "       13, 24, 27, 19,  7, 19, 11, 14,  3, 15, 17,  6, 22,  7, 38,  0, 24,\n",
       "       14, 37, 16,  7])"
      ]
     },
     "execution_count": 32,
     "metadata": {},
     "output_type": "execute_result"
    }
   ],
   "source": [
    "# daily probabilities of success for branch B\n",
    "Prob_B = [i/j for i, j in zip(Quant_soldB, Quant_sold)]\n",
    "\n",
    "# binomial simulation for Branch B\n",
    "binomial_B = [(sum(rnd.binomial(a, b, 1000))/1000).astype(int) for a, b in zip (Quant_sold, Prob_B)]\n",
    "np.array(binomial_B)"
   ]
  },
  {
   "cell_type": "code",
   "execution_count": 33,
   "id": "39ed17c8-8a16-461c-af1f-f6abc603911d",
   "metadata": {},
   "outputs": [
    {
     "data": {
      "text/plain": [
       "1820"
      ]
     },
     "execution_count": 33,
     "metadata": {},
     "output_type": "execute_result"
    }
   ],
   "source": [
    "# total quantity of goods sold in Branch B for Q1\n",
    "total_QuantB = BranchB_df['Quantity'].sum()\n",
    "total_QuantB"
   ]
  },
  {
   "cell_type": "code",
   "execution_count": 34,
   "id": "7ce02ed0-2fde-4c28-b0e9-6381e7ab360a",
   "metadata": {},
   "outputs": [
    {
     "data": {
      "text/plain": [
       "0.33030852994555354"
      ]
     },
     "execution_count": 34,
     "metadata": {},
     "output_type": "execute_result"
    }
   ],
   "source": [
    "# probability of total goods sold in Branch B wrt total goods sold\n",
    "p_QuantB = total_QuantB/df['Quantity'].sum()\n",
    "p_QuantB"
   ]
  },
  {
   "cell_type": "code",
   "execution_count": 35,
   "id": "5b300a39-720b-46bc-8d11-23a58c59130b",
   "metadata": {},
   "outputs": [
    {
     "data": {
      "text/plain": [
       "array([12,  3, 24, 14, 31,  8, 29, 11, 22, 33, 41, 34, 22, 50, 23, 33,  9,\n",
       "       26,  1, 60, 39, 15, 58, 16,  9, 20, 48, 13,  2, 15, 24,  8,  9, 37,\n",
       "       15, 19, 17,  5,  8, 16,  2, 24, 46, 34, 11, 11, 32, 18, 26, 13, 15,\n",
       "        8, 31, 40, -1, 24, 37, 12, 20, 16,  0,  2, 18, 13, 18,  6, 37,  3,\n",
       "       13, 21, 24, 22,  9, 23,  9, 14,  2, 20, 12,  8, 19,  5, 34, -1, 29,\n",
       "       18, 40, 13,  7], dtype=int64)"
      ]
     },
     "execution_count": 35,
     "metadata": {},
     "output_type": "execute_result"
    }
   ],
   "source": [
    "# possible outcomes of sold goods for branch B in Q2\n",
    "binomial_BQ2 = [(rnd.binomial(5510, 0.33030853, 100000).mean().astype(int) + rnd.binomial(a, b) - total_QuantB) for a, b in zip (Quant_sold, Prob_B)]\n",
    "np.array(binomial_BQ2)"
   ]
  },
  {
   "cell_type": "markdown",
   "id": "84bc2ba3-2615-443c-8a03-4adf09ffc05f",
   "metadata": {},
   "source": [
    "#### Branch C"
   ]
  },
  {
   "cell_type": "code",
   "execution_count": 36,
   "id": "75f8b434-a6f0-45fa-987b-22b9a7dcbc12",
   "metadata": {},
   "outputs": [
    {
     "data": {
      "text/plain": [
       "array([17, 33, 45, 44, 22, 18,  6, 31, 21,  1, 23, 21, 11, 52, 14, 22, 20,\n",
       "       20,  7, 39,  8, 26, 34,  0, 22, 31, 31, 14, 29,  9, 23,  9, 15, 16,\n",
       "       19, 38, 26, 16, 10,  9, 27, 25, 39,  1, 14, 19,  4, 14, 25, 11, 15,\n",
       "       42, 17, 19, 59, 12, 10, 33, 14, 13, 24, 10, 29, 21, 18, 37, 44,  8,\n",
       "       17, 18, 10, 23,  9, 25, 24,  3,  6, 11, 31, 12, 21,  8, 31,  9,  9,\n",
       "       11, 58, 10, 29], dtype=int64)"
      ]
     },
     "execution_count": 36,
     "metadata": {},
     "output_type": "execute_result"
    }
   ],
   "source": [
    "# total quantity of goods sold in branch C daily \n",
    "Quant_soldC = [df.Quantity[(df['Date'] == i) & (BranchC_df['Branch'] == 'C')].sum() for i in df['Date'].unique()]\n",
    "np.array(Quant_soldC)"
   ]
  },
  {
   "cell_type": "code",
   "execution_count": 37,
   "id": "f9be9267-af2f-4f6d-8846-6dbdb881b6e9",
   "metadata": {},
   "outputs": [
    {
     "data": {
      "text/plain": [
       "array([16, 33, 44, 44, 22, 17,  6, 31, 20,  1, 23, 21, 11, 52, 13, 21, 19,\n",
       "       20,  6, 39,  8, 25, 34,  0, 22, 31, 30, 14, 28,  9, 23,  8, 14, 15,\n",
       "       19, 37, 26, 16, 10,  8, 27, 24, 39,  1, 14, 18,  4, 13, 24, 10, 15,\n",
       "       42, 16, 18, 59, 12, 10, 33, 13, 13, 23, 10, 29, 21, 18, 36, 43,  8,\n",
       "       17, 18,  9, 23,  9, 24, 24,  2,  6, 10, 30, 11, 21,  8, 30,  9,  8,\n",
       "       10, 58,  9, 29])"
      ]
     },
     "execution_count": 37,
     "metadata": {},
     "output_type": "execute_result"
    }
   ],
   "source": [
    "# daily probabilities of success for branch C\n",
    "Prob_C = [i/j for i, j in zip(Quant_soldC, Quant_sold)]\n",
    "\n",
    "# binomial simulation for Branch C\n",
    "binomial_C = [(sum(rnd.binomial(a, b, 1000))/1000).astype(int) for a, b in zip (Quant_sold, Prob_C)]\n",
    "np.array(binomial_C)"
   ]
  },
  {
   "cell_type": "code",
   "execution_count": 38,
   "id": "3399a52f-558e-43e5-9f0f-a01f9f599656",
   "metadata": {},
   "outputs": [
    {
     "data": {
      "text/plain": [
       "1831"
      ]
     },
     "execution_count": 38,
     "metadata": {},
     "output_type": "execute_result"
    }
   ],
   "source": [
    "# total quantity of goods sold in Branch C for Q1\n",
    "total_QuantC = BranchC_df['Quantity'].sum()\n",
    "total_QuantC"
   ]
  },
  {
   "cell_type": "code",
   "execution_count": 39,
   "id": "a12fd7cf-9950-487b-8e47-05998a8a7e94",
   "metadata": {},
   "outputs": [
    {
     "data": {
      "text/plain": [
       "0.3323049001814882"
      ]
     },
     "execution_count": 39,
     "metadata": {},
     "output_type": "execute_result"
    }
   ],
   "source": [
    "# probability of total goods sold in Branch C wrt total goods sold\n",
    "p_QuantC = total_QuantC/df['Quantity'].sum()\n",
    "p_QuantC"
   ]
  },
  {
   "cell_type": "code",
   "execution_count": 40,
   "id": "dc938dfc-7782-472c-84c6-8b85e03bec7d",
   "metadata": {},
   "outputs": [
    {
     "data": {
      "text/plain": [
       "array([13, 32, 49, 48, 24, 16,  6, 31, 17,  1, 30, 20, 15, 57, 12, 20, 14,\n",
       "       19,  6, 42,  7, 29, 39, -1, 26, 32, 28, 14, 25,  6, 21,  8, 16, 25,\n",
       "       13, 38, 30, 13, 15,  7, 30, 20, 34,  2, 18, 17,  5, 15, 27, 10, 16,\n",
       "       41, 11, 17, 47, 15, 13, 31,  9, 13, 21,  8, 28, 16, 11, 33, 49,  6,\n",
       "       11, 14,  8, 21,  4, 23, 29,  5,  5, 11, 30, 13, 24,  7, 30, 10,  6,\n",
       "        9, 63, 16, 30], dtype=int64)"
      ]
     },
     "execution_count": 40,
     "metadata": {},
     "output_type": "execute_result"
    }
   ],
   "source": [
    "# possible outcomes of sold goods for branch C in Q2\n",
    "binomial_CQ2 = [(rnd.binomial(5510, 0.3323049, 50000).mean().astype(int) + rnd.binomial(a, b) - total_QuantC) for a, b in zip (Quant_sold, Prob_C)]\n",
    "np.array(binomial_CQ2)"
   ]
  },
  {
   "cell_type": "markdown",
   "id": "58589f88-751f-42e3-a704-273027d28720",
   "metadata": {},
   "source": [
    "#### Aggregating the Results"
   ]
  },
  {
   "cell_type": "code",
   "execution_count": 41,
   "id": "bc5e3d07-2640-4fea-809d-060632230665",
   "metadata": {},
   "outputs": [
    {
     "data": {
      "text/html": [
       "<div>\n",
       "<style scoped>\n",
       "    .dataframe tbody tr th:only-of-type {\n",
       "        vertical-align: middle;\n",
       "    }\n",
       "\n",
       "    .dataframe tbody tr th {\n",
       "        vertical-align: top;\n",
       "    }\n",
       "\n",
       "    .dataframe thead th {\n",
       "        text-align: right;\n",
       "    }\n",
       "</style>\n",
       "<table border=\"1\" class=\"dataframe\">\n",
       "  <thead>\n",
       "    <tr style=\"text-align: right;\">\n",
       "      <th></th>\n",
       "      <th>Date</th>\n",
       "      <th>Branch A</th>\n",
       "      <th>Branch B</th>\n",
       "      <th>Branch C</th>\n",
       "    </tr>\n",
       "  </thead>\n",
       "  <tbody>\n",
       "    <tr>\n",
       "      <th>0</th>\n",
       "      <td>2022-04-01</td>\n",
       "      <td>21</td>\n",
       "      <td>12</td>\n",
       "      <td>13</td>\n",
       "    </tr>\n",
       "    <tr>\n",
       "      <th>1</th>\n",
       "      <td>2022-04-02</td>\n",
       "      <td>26</td>\n",
       "      <td>3</td>\n",
       "      <td>32</td>\n",
       "    </tr>\n",
       "    <tr>\n",
       "      <th>2</th>\n",
       "      <td>2022-04-03</td>\n",
       "      <td>20</td>\n",
       "      <td>24</td>\n",
       "      <td>49</td>\n",
       "    </tr>\n",
       "    <tr>\n",
       "      <th>3</th>\n",
       "      <td>2022-04-04</td>\n",
       "      <td>31</td>\n",
       "      <td>14</td>\n",
       "      <td>48</td>\n",
       "    </tr>\n",
       "    <tr>\n",
       "      <th>4</th>\n",
       "      <td>2022-04-05</td>\n",
       "      <td>23</td>\n",
       "      <td>31</td>\n",
       "      <td>24</td>\n",
       "    </tr>\n",
       "  </tbody>\n",
       "</table>\n",
       "</div>"
      ],
      "text/plain": [
       "        Date  Branch A  Branch B  Branch C\n",
       "0 2022-04-01        21        12        13\n",
       "1 2022-04-02        26         3        32\n",
       "2 2022-04-03        20        24        49\n",
       "3 2022-04-04        31        14        48\n",
       "4 2022-04-05        23        31        24"
      ]
     },
     "execution_count": 41,
     "metadata": {},
     "output_type": "execute_result"
    }
   ],
   "source": [
    "agg = pd.DataFrame({'Date': pd.to_datetime(Date[:89]), \n",
    "                    'Branch A': binomial_AQ2, \n",
    "                    'Branch B': binomial_BQ2, \n",
    "                    'Branch C': binomial_CQ2})\n",
    "agg.head()"
   ]
  },
  {
   "cell_type": "code",
   "execution_count": 42,
   "id": "7ed117d4-16d3-45ee-9b76-4c359aa59225",
   "metadata": {},
   "outputs": [
    {
     "data": {
      "text/html": [
       "<div>\n",
       "<style scoped>\n",
       "    .dataframe tbody tr th:only-of-type {\n",
       "        vertical-align: middle;\n",
       "    }\n",
       "\n",
       "    .dataframe tbody tr th {\n",
       "        vertical-align: top;\n",
       "    }\n",
       "\n",
       "    .dataframe thead th {\n",
       "        text-align: right;\n",
       "    }\n",
       "</style>\n",
       "<table border=\"1\" class=\"dataframe\">\n",
       "  <thead>\n",
       "    <tr style=\"text-align: right;\">\n",
       "      <th></th>\n",
       "      <th>Date</th>\n",
       "      <th>Branch A</th>\n",
       "      <th>Branch B</th>\n",
       "      <th>Branch C</th>\n",
       "    </tr>\n",
       "  </thead>\n",
       "  <tbody>\n",
       "    <tr>\n",
       "      <th>0</th>\n",
       "      <td>2022-04-01</td>\n",
       "      <td>21</td>\n",
       "      <td>12</td>\n",
       "      <td>13</td>\n",
       "    </tr>\n",
       "    <tr>\n",
       "      <th>1</th>\n",
       "      <td>2022-04-02</td>\n",
       "      <td>26</td>\n",
       "      <td>3</td>\n",
       "      <td>32</td>\n",
       "    </tr>\n",
       "    <tr>\n",
       "      <th>2</th>\n",
       "      <td>2022-04-03</td>\n",
       "      <td>20</td>\n",
       "      <td>24</td>\n",
       "      <td>49</td>\n",
       "    </tr>\n",
       "    <tr>\n",
       "      <th>3</th>\n",
       "      <td>2022-04-04</td>\n",
       "      <td>31</td>\n",
       "      <td>14</td>\n",
       "      <td>48</td>\n",
       "    </tr>\n",
       "    <tr>\n",
       "      <th>4</th>\n",
       "      <td>2022-04-05</td>\n",
       "      <td>23</td>\n",
       "      <td>31</td>\n",
       "      <td>24</td>\n",
       "    </tr>\n",
       "    <tr>\n",
       "      <th>...</th>\n",
       "      <td>...</td>\n",
       "      <td>...</td>\n",
       "      <td>...</td>\n",
       "      <td>...</td>\n",
       "    </tr>\n",
       "    <tr>\n",
       "      <th>84</th>\n",
       "      <td>2022-06-24</td>\n",
       "      <td>0</td>\n",
       "      <td>29</td>\n",
       "      <td>6</td>\n",
       "    </tr>\n",
       "    <tr>\n",
       "      <th>85</th>\n",
       "      <td>2022-06-25</td>\n",
       "      <td>12</td>\n",
       "      <td>18</td>\n",
       "      <td>9</td>\n",
       "    </tr>\n",
       "    <tr>\n",
       "      <th>86</th>\n",
       "      <td>2022-06-26</td>\n",
       "      <td>28</td>\n",
       "      <td>40</td>\n",
       "      <td>63</td>\n",
       "    </tr>\n",
       "    <tr>\n",
       "      <th>87</th>\n",
       "      <td>2022-06-27</td>\n",
       "      <td>24</td>\n",
       "      <td>13</td>\n",
       "      <td>16</td>\n",
       "    </tr>\n",
       "    <tr>\n",
       "      <th>88</th>\n",
       "      <td>2022-06-28</td>\n",
       "      <td>26</td>\n",
       "      <td>7</td>\n",
       "      <td>30</td>\n",
       "    </tr>\n",
       "  </tbody>\n",
       "</table>\n",
       "<p>89 rows × 4 columns</p>\n",
       "</div>"
      ],
      "text/plain": [
       "         Date  Branch A  Branch B  Branch C\n",
       "0  2022-04-01        21        12        13\n",
       "1  2022-04-02        26         3        32\n",
       "2  2022-04-03        20        24        49\n",
       "3  2022-04-04        31        14        48\n",
       "4  2022-04-05        23        31        24\n",
       "..        ...       ...       ...       ...\n",
       "84 2022-06-24         0        29         6\n",
       "85 2022-06-25        12        18         9\n",
       "86 2022-06-26        28        40        63\n",
       "87 2022-06-27        24        13        16\n",
       "88 2022-06-28        26         7        30\n",
       "\n",
       "[89 rows x 4 columns]"
      ]
     },
     "execution_count": 42,
     "metadata": {},
     "output_type": "execute_result"
    }
   ],
   "source": [
    "agg"
   ]
  },
  {
   "cell_type": "markdown",
   "id": "d6d0371c-e340-4188-9a3b-bc7c6c2554ca",
   "metadata": {},
   "source": [
    "--------\n",
    "## Multinomial Simulation & Classification:\n",
    "\n",
    "* Run a simple multinomial simulation to predict quantity of sales aggregated by branch and classify the branch where the maximum sales would occur daily in Q2. Repeat the steps for predictions based on product line.\n",
    "* Set up & implement a multinomial Naive Bayes algorithm to predict the branch where each aggregated sale predicted by a binomial simulation will be made daily. Implement the algorithm to classify the product line for each sale batch daily."
   ]
  },
  {
   "cell_type": "markdown",
   "id": "38cdfa8a-7477-44cf-99bd-50f5dda2dd8b",
   "metadata": {},
   "source": [
    "### Question 2a\n",
    "\n",
    "Run a simple multinomial simulation to predict quantity of sales aggregated by branch and classify the branch where the maximum sales would occur daily in Q2. Repeat the steps for predictions based on product line."
   ]
  },
  {
   "cell_type": "code",
   "execution_count": 43,
   "id": "5933d830-734d-43ae-9372-799525866a16",
   "metadata": {},
   "outputs": [
    {
     "data": {
      "text/plain": [
       "5510"
      ]
     },
     "execution_count": 43,
     "metadata": {},
     "output_type": "execute_result"
    }
   ],
   "source": [
    "# Total quantity of products sold throughout entire sales history\n",
    "qty_e = df['Quantity'].sum()\n",
    "qty_e"
   ]
  },
  {
   "cell_type": "code",
   "execution_count": 44,
   "id": "12549f49-0e61-47a0-9a26-4e330f3c7fd1",
   "metadata": {},
   "outputs": [
    {
     "data": {
      "text/plain": [
       "array([1859, 1820, 1831], dtype=int64)"
      ]
     },
     "execution_count": 44,
     "metadata": {},
     "output_type": "execute_result"
    }
   ],
   "source": [
    "# Total quantities sold in each branch throughout history: qA, qB, qC\n",
    "\n",
    "total_QuantA = BranchA_df['Quantity'].sum()\n",
    "total_QuantB = BranchB_df['Quantity'].sum()\n",
    "total_QuantC = BranchC_df['Quantity'].sum()\n",
    "\n",
    "n_ABC = np.array([total_QuantA, total_QuantB, total_QuantC])\n",
    "n_ABC"
   ]
  },
  {
   "cell_type": "code",
   "execution_count": 45,
   "id": "80411768-9abc-4f62-ad03-12e30f4b2770",
   "metadata": {},
   "outputs": [
    {
     "data": {
      "text/plain": [
       "array([0.33738657, 0.33030853, 0.3323049 ])"
      ]
     },
     "execution_count": 45,
     "metadata": {},
     "output_type": "execute_result"
    }
   ],
   "source": [
    "# Probability of success for each branch throughout history: pA, pB, pC\n",
    "\n",
    "p_A = total_QuantA/df['Quantity'].sum()\n",
    "p_B = total_QuantB/df['Quantity'].sum()\n",
    "p_C = total_QuantC/df['Quantity'].sum()\n",
    "\n",
    "p_ABC = np.array([p_A, p_B, p_C])\n",
    "p_ABC"
   ]
  },
  {
   "cell_type": "code",
   "execution_count": 46,
   "id": "0961c420-34f8-4367-86fd-672b32040047",
   "metadata": {},
   "outputs": [
    {
     "data": {
      "text/plain": [
       "array([ 55,  60,  95,  87,  70,  42,  66,  59,  55,  53,  73,  99,  43,\n",
       "       128,  54,  88,  60,  81,  32, 103,  66,  79,  95,  52,  59,  80,\n",
       "        91,  53,  67,  47,  83,  75,  47,  97,  62,  87,  82,  37,  30,\n",
       "        45,  56,  60, 106,  63,  37,  57,  84,  52,  54,  34,  50,  58,\n",
       "        80,  77,  95,  40,  48,  69,  52,  45,  40,  48,  57,  54,  91,\n",
       "        61,  95,  24,  54,  49,  59,  67,  32,  67,  39,  37,  35,  31,\n",
       "        64,  27,  80,  18,  82,  40,  37,  40, 117,  50,  61], dtype=int64)"
      ]
     },
     "execution_count": 46,
     "metadata": {},
     "output_type": "execute_result"
    }
   ],
   "source": [
    "# Array of total quantities of products sold each day\n",
    "Quant_sold = [df.Quantity[df['Date'] == i].sum() for i in df['Date'].unique()]\n",
    "total_quant = np.array(Quant_sold)\n",
    "total_quant"
   ]
  },
  {
   "cell_type": "code",
   "execution_count": 47,
   "id": "6445e5b7-96bd-411d-965d-bd70edd4455e",
   "metadata": {},
   "outputs": [],
   "source": [
    "# Arrays of daily probabilities of success for each branch, A, B, C\n",
    "\n",
    "# for branch A\n",
    "Prob_A = [i/j for i, j in zip(Quant_soldA, Quant_sold)]\n",
    "arrayA = np.array(Prob_A)\n",
    "\n",
    "# for branch B\n",
    "Prob_B = [i/j for i, j in zip(Quant_soldB, Quant_sold)]\n",
    "arrayB = np.array(Prob_B)\n",
    "\n",
    "# for branch C\n",
    "Prob_C = [i/j for i, j in zip(Quant_soldC, Quant_sold)]\n",
    "arrayC = np.array(Prob_C)"
   ]
  },
  {
   "cell_type": "code",
   "execution_count": 48,
   "id": "69ea7b79-2967-4ca6-be4e-d16a9d53b7e5",
   "metadata": {},
   "outputs": [],
   "source": [
    "# P = PA × PB × PC\n",
    "res = list(zip(Prob_A, Prob_B, Prob_C))\n",
    "prob_ABC = np.array(res)"
   ]
  },
  {
   "cell_type": "code",
   "execution_count": 49,
   "id": "45f50f83-d7d0-4b99-a608-e49ee6c42da0",
   "metadata": {},
   "outputs": [
    {
     "name": "stdout",
     "output_type": "stream",
     "text": [
      "Shape of total_quant: (89,)\n",
      "Shape of p_ABC: (3,)\n"
     ]
    }
   ],
   "source": [
    "print(f\"Shape of total_quant: {total_quant.shape}\")\n",
    "print(f\"Shape of p_ABC: {p_ABC.shape}\")"
   ]
  },
  {
   "cell_type": "code",
   "execution_count": 50,
   "id": "9c1f26e7-d6b1-475b-bafc-290f0dee73b4",
   "metadata": {},
   "outputs": [],
   "source": [
    "# # multi_sims = [((sum(rnd.multinomial(5510, p_ABC, 6000))/6000) + rnd.multinomial(a, b).astype(int) - n_ABC) for a, b in zip (total_quant, zip(Prob_A, Prob_B, Prob_C))]\n",
    "# # multi_sims\n",
    "\n",
    "# multi_sim = [(rnd.multinomial(5510, p_ABC, 50000).mean(axis=0).round() + rnd.multinomial(a, b).astype(int) - n_ABC) for a, b in zip (total_quant, zip(Prob_A, Prob_B, Prob_C))]\n",
    "# multi_sim"
   ]
  },
  {
   "cell_type": "code",
   "execution_count": 51,
   "id": "1c078b7a-7850-4fed-86c0-2396e82e7898",
   "metadata": {},
   "outputs": [],
   "source": [
    "# for i in multi_sim:\n",
    "#     print(max(i))"
   ]
  },
  {
   "cell_type": "code",
   "execution_count": 52,
   "id": "93892ac2-b7bd-457a-baac-c789c14dfae7",
   "metadata": {},
   "outputs": [],
   "source": [
    "# branch = ['Branch A', 'Branch B', 'Branch C']\n",
    "# # max_branchindex = []\n",
    "# # for i in multi_sim:\n",
    "# #     a = branch[i.argmax(axis=0)]\n",
    "# #     max_branchindex.append(a)\n",
    "\n",
    "# max_branchindex = [branch[i.argmax(axis=0)] for i in multi_sim]\n",
    "# max_branchindex"
   ]
  },
  {
   "cell_type": "code",
   "execution_count": 53,
   "id": "762cf85c-f201-4592-af09-c69a5a29db6a",
   "metadata": {},
   "outputs": [],
   "source": [
    "# Define number of simulations\n",
    "num_simulations = 5000\n",
    "\n",
    "# Initialize empty arrays to store results\n",
    "branch_sales = np.zeros((num_simulations, 3))\n",
    "product_line_sales = np.zeros((num_simulations, 6))\n",
    "\n",
    "# Loop through each simulation\n",
    "for sim in range(num_simulations):\n",
    "    # Generate random daily sales by branch\n",
    "    daily_sales = []\n",
    "    for i in total_quant:\n",
    "        daily_sales.append(rnd.multinomial(i, p_ABC))\n",
    "\n",
    "    # Convert to a NumPy array\n",
    "    daily_sales = np.array(daily_sales)\n",
    "\n",
    "    # Store daily sales for each branch in the simulation\n",
    "    branch_sales[sim, :] = daily_sales.sum(axis=0)\n",
    "    \n",
    "    # Get unique product lines and corresponding probabilities\n",
    "    unique_product_lines = df['Product_line'].unique()\n",
    "    product_line_probs = df.groupby('Product_line')['Quantity'].sum() / df['Quantity'].sum()\n",
    "    \n",
    "    # Generate random daily sales by product line\n",
    "    daily_product_line_sales = []\n",
    "    for i in total_quant:\n",
    "        daily_product_line_sales.append(rnd.multinomial(i, product_line_probs))\n",
    "\n",
    "    # Convert to a NumPy array\n",
    "    daily_product_line_sales = np.array(daily_product_line_sales)\n",
    "\n",
    "    # Store daily sales for each product line in the simulation\n",
    "    product_line_sales[sim, :] = daily_product_line_sales.sum(axis=0)"
   ]
  },
  {
   "cell_type": "code",
   "execution_count": 54,
   "id": "4b953369-1341-4569-82b1-cd9f6d737ab3",
   "metadata": {},
   "outputs": [
    {
     "name": "stdout",
     "output_type": "stream",
     "text": [
      "Branch with maximum average daily sales in Q2: 0\n"
     ]
    }
   ],
   "source": [
    "# Calculate average daily sales by branch\n",
    "branch_avg_sales = np.mean(branch_sales, axis=0)\n",
    "\n",
    "# Get the branch with the maximum average daily sales\n",
    "max_branch = np.argmax(branch_avg_sales)\n",
    "\n",
    "# Print the results\n",
    "print(\"Branch with maximum average daily sales in Q2:\", max_branch)"
   ]
  },
  {
   "cell_type": "code",
   "execution_count": 55,
   "id": "6fe8fde8-f264-45af-84d6-f0124e1a42f7",
   "metadata": {},
   "outputs": [
    {
     "name": "stdout",
     "output_type": "stream",
     "text": [
      "Product line with maximum average daily sales in Q2: 0\n"
     ]
    }
   ],
   "source": [
    "# Calculate average daily sales by product line\n",
    "product_line_avg_sales = np.mean(product_line_sales, axis=0)\n",
    "\n",
    "# Get the product line with the maximum average daily sales\n",
    "max_product_line = np.argmax(product_line_avg_sales)\n",
    "\n",
    "# Print the results\n",
    "print(\"Product line with maximum average daily sales in Q2:\", max_product_line)"
   ]
  },
  {
   "cell_type": "code",
   "execution_count": 56,
   "id": "7a49920e-3d8a-4339-ae47-92290221e935",
   "metadata": {},
   "outputs": [],
   "source": [
    "# Define number of simulations\n",
    "num_simulations = 5000\n",
    "\n",
    "# Initialize empty arrays to store results\n",
    "branch_sales = np.zeros((num_simulations, 3))\n",
    "product_line_sales = np.zeros((num_simulations, 6))\n",
    "\n",
    "# Get the names of the branches and product lines\n",
    "branch_names = ['Branch A', 'Branch B', 'Branch C']\n",
    "product_line_names = df['Product_line'].unique()\n",
    "\n",
    "# Loop through each simulation\n",
    "for sim in range(num_simulations):\n",
    "    # Generate random daily sales by branch\n",
    "    daily_sales = []\n",
    "    for i in total_quant:\n",
    "        daily_sales.append(rnd.multinomial(i, p_ABC))\n",
    "\n",
    "    # Convert to a NumPy array\n",
    "    daily_sales = np.array(daily_sales)\n",
    "\n",
    "    # Store daily sales for each branch in the simulation\n",
    "    branch_sales[sim, :] = daily_sales.sum(axis=0)\n",
    "    \n",
    "    # Get unique product lines and corresponding probabilities\n",
    "    product_line_probs = df.groupby('Product_line')['Quantity'].sum() / df['Quantity'].sum()\n",
    "    \n",
    "    # Generate random daily sales by product line\n",
    "    daily_product_line_sales = []\n",
    "    for i in total_quant:\n",
    "        daily_product_line_sales.append(rnd.multinomial(i, product_line_probs))\n",
    "\n",
    "    # Convert to a NumPy array\n",
    "    daily_product_line_sales = np.array(daily_product_line_sales)\n",
    "\n",
    "    # Store daily sales for each product line in the simulation\n",
    "    product_line_sales[sim, :] = daily_product_line_sales.sum(axis=0)"
   ]
  },
  {
   "cell_type": "code",
   "execution_count": 57,
   "id": "a8841612-ca88-4227-b474-ed995a6c8b91",
   "metadata": {},
   "outputs": [
    {
     "name": "stdout",
     "output_type": "stream",
     "text": [
      "Branch with maximum average daily sales in Q2: Branch A\n"
     ]
    }
   ],
   "source": [
    "# Calculate average daily sales for each branch\n",
    "average_branch_sales = np.mean(branch_sales, axis=0)\n",
    "\n",
    "# Get the index of the branch with the maximum average daily sales\n",
    "max_branch_index = np.argmax(average_branch_sales)\n",
    "\n",
    "# Print the name of the branch with the maximum average daily sales\n",
    "print(\"Branch with maximum average daily sales in Q2:\", branch_names[max_branch_index])"
   ]
  },
  {
   "cell_type": "code",
   "execution_count": 58,
   "id": "63df3ca4-0398-4def-b5bb-0b071191c03c",
   "metadata": {},
   "outputs": [
    {
     "name": "stdout",
     "output_type": "stream",
     "text": [
      "Product line with maximum average daily sales in Q2: Health and beauty\n"
     ]
    }
   ],
   "source": [
    "# Calculate average daily sales for each product line\n",
    "average_product_line_sales = np.mean(product_line_sales, axis=0)\n",
    "\n",
    "# Get the index of the product line with the maximum average daily sales\n",
    "max_product_line_index = np.argmax(average_product_line_sales)\n",
    "\n",
    "# Print the name of the product line with the maximum average daily sales\n",
    "print(\"Product line with maximum average daily sales in Q2:\", product_line_names[max_product_line_index])"
   ]
  },
  {
   "cell_type": "markdown",
   "id": "342e26a3-3538-48b8-88d4-20dc4f5c61e5",
   "metadata": {},
   "source": [
    "### Question 2b\n",
    "Set up & implement a multinomial Naive Bayes algorithm to predict the branch where each aggregated sale predicted by a binomial simulation will be made daily. Implement the algorithm to classify the product line for each sale batch daily."
   ]
  },
  {
   "cell_type": "code",
   "execution_count": 59,
   "id": "50677fcb-f7fa-43e9-9edd-e91c9cbb565d",
   "metadata": {},
   "outputs": [
    {
     "data": {
      "text/html": [
       "<div>\n",
       "<style scoped>\n",
       "    .dataframe tbody tr th:only-of-type {\n",
       "        vertical-align: middle;\n",
       "    }\n",
       "\n",
       "    .dataframe tbody tr th {\n",
       "        vertical-align: top;\n",
       "    }\n",
       "\n",
       "    .dataframe thead th {\n",
       "        text-align: right;\n",
       "    }\n",
       "</style>\n",
       "<table border=\"1\" class=\"dataframe\">\n",
       "  <thead>\n",
       "    <tr style=\"text-align: right;\">\n",
       "      <th></th>\n",
       "      <th>Branch</th>\n",
       "      <th>Customer_type</th>\n",
       "      <th>Gender</th>\n",
       "      <th>Product_line</th>\n",
       "      <th>Unit_price</th>\n",
       "      <th>Quantity</th>\n",
       "      <th>Total</th>\n",
       "      <th>Date</th>\n",
       "      <th>Time</th>\n",
       "      <th>Payment</th>\n",
       "      <th>Rating</th>\n",
       "    </tr>\n",
       "  </thead>\n",
       "  <tbody>\n",
       "    <tr>\n",
       "      <th>0</th>\n",
       "      <td>A</td>\n",
       "      <td>Member</td>\n",
       "      <td>Female</td>\n",
       "      <td>Health and beauty</td>\n",
       "      <td>74.69</td>\n",
       "      <td>7</td>\n",
       "      <td>548.9715</td>\n",
       "      <td>2022-01-05</td>\n",
       "      <td>13:08</td>\n",
       "      <td>Ewallet</td>\n",
       "      <td>9.1</td>\n",
       "    </tr>\n",
       "    <tr>\n",
       "      <th>1</th>\n",
       "      <td>C</td>\n",
       "      <td>Normal</td>\n",
       "      <td>Female</td>\n",
       "      <td>Electronic accessories</td>\n",
       "      <td>15.28</td>\n",
       "      <td>5</td>\n",
       "      <td>80.2200</td>\n",
       "      <td>2022-03-08</td>\n",
       "      <td>10:29</td>\n",
       "      <td>Cash</td>\n",
       "      <td>9.6</td>\n",
       "    </tr>\n",
       "    <tr>\n",
       "      <th>2</th>\n",
       "      <td>A</td>\n",
       "      <td>Normal</td>\n",
       "      <td>Male</td>\n",
       "      <td>Home and lifestyle</td>\n",
       "      <td>46.33</td>\n",
       "      <td>7</td>\n",
       "      <td>340.5255</td>\n",
       "      <td>2022-03-03</td>\n",
       "      <td>13:23</td>\n",
       "      <td>Credit card</td>\n",
       "      <td>7.4</td>\n",
       "    </tr>\n",
       "    <tr>\n",
       "      <th>3</th>\n",
       "      <td>A</td>\n",
       "      <td>Member</td>\n",
       "      <td>Male</td>\n",
       "      <td>Health and beauty</td>\n",
       "      <td>58.22</td>\n",
       "      <td>8</td>\n",
       "      <td>489.0480</td>\n",
       "      <td>2022-01-27</td>\n",
       "      <td>20:33</td>\n",
       "      <td>Ewallet</td>\n",
       "      <td>8.4</td>\n",
       "    </tr>\n",
       "    <tr>\n",
       "      <th>4</th>\n",
       "      <td>A</td>\n",
       "      <td>Normal</td>\n",
       "      <td>Male</td>\n",
       "      <td>Sports and travel</td>\n",
       "      <td>86.31</td>\n",
       "      <td>7</td>\n",
       "      <td>634.3785</td>\n",
       "      <td>2022-02-08</td>\n",
       "      <td>10:37</td>\n",
       "      <td>Ewallet</td>\n",
       "      <td>5.3</td>\n",
       "    </tr>\n",
       "  </tbody>\n",
       "</table>\n",
       "</div>"
      ],
      "text/plain": [
       "  Branch Customer_type  Gender            Product_line  Unit_price  Quantity  \\\n",
       "0      A        Member  Female       Health and beauty       74.69         7   \n",
       "1      C        Normal  Female  Electronic accessories       15.28         5   \n",
       "2      A        Normal    Male      Home and lifestyle       46.33         7   \n",
       "3      A        Member    Male       Health and beauty       58.22         8   \n",
       "4      A        Normal    Male       Sports and travel       86.31         7   \n",
       "\n",
       "      Total        Date   Time      Payment  Rating  \n",
       "0  548.9715  2022-01-05  13:08      Ewallet     9.1  \n",
       "1   80.2200  2022-03-08  10:29         Cash     9.6  \n",
       "2  340.5255  2022-03-03  13:23  Credit card     7.4  \n",
       "3  489.0480  2022-01-27  20:33      Ewallet     8.4  \n",
       "4  634.3785  2022-02-08  10:37      Ewallet     5.3  "
      ]
     },
     "execution_count": 59,
     "metadata": {},
     "output_type": "execute_result"
    }
   ],
   "source": [
    "df.head()"
   ]
  },
  {
   "cell_type": "code",
   "execution_count": 60,
   "id": "9d869c46-d605-4bd2-a881-48dbeca67c07",
   "metadata": {},
   "outputs": [
    {
     "data": {
      "text/html": [
       "<div>\n",
       "<style scoped>\n",
       "    .dataframe tbody tr th:only-of-type {\n",
       "        vertical-align: middle;\n",
       "    }\n",
       "\n",
       "    .dataframe tbody tr th {\n",
       "        vertical-align: top;\n",
       "    }\n",
       "\n",
       "    .dataframe thead th {\n",
       "        text-align: right;\n",
       "    }\n",
       "</style>\n",
       "<table border=\"1\" class=\"dataframe\">\n",
       "  <thead>\n",
       "    <tr style=\"text-align: right;\">\n",
       "      <th></th>\n",
       "      <th>Branch</th>\n",
       "      <th>Customer_type</th>\n",
       "      <th>Gender</th>\n",
       "      <th>Product_line</th>\n",
       "      <th>Unit_price</th>\n",
       "      <th>Quantity</th>\n",
       "      <th>Total</th>\n",
       "      <th>Date</th>\n",
       "      <th>Time</th>\n",
       "      <th>Payment</th>\n",
       "      <th>Rating</th>\n",
       "    </tr>\n",
       "  </thead>\n",
       "  <tbody>\n",
       "    <tr>\n",
       "      <th>0</th>\n",
       "      <td>A</td>\n",
       "      <td>Member</td>\n",
       "      <td>Female</td>\n",
       "      <td>Health and beauty</td>\n",
       "      <td>74.69</td>\n",
       "      <td>7</td>\n",
       "      <td>548.9715</td>\n",
       "      <td>2022-01-05</td>\n",
       "      <td>13:08</td>\n",
       "      <td>Ewallet</td>\n",
       "      <td>9.1</td>\n",
       "    </tr>\n",
       "    <tr>\n",
       "      <th>1</th>\n",
       "      <td>C</td>\n",
       "      <td>Normal</td>\n",
       "      <td>Female</td>\n",
       "      <td>Electronic accessories</td>\n",
       "      <td>15.28</td>\n",
       "      <td>5</td>\n",
       "      <td>80.2200</td>\n",
       "      <td>2022-03-08</td>\n",
       "      <td>10:29</td>\n",
       "      <td>Cash</td>\n",
       "      <td>9.6</td>\n",
       "    </tr>\n",
       "    <tr>\n",
       "      <th>2</th>\n",
       "      <td>A</td>\n",
       "      <td>Normal</td>\n",
       "      <td>Male</td>\n",
       "      <td>Home and lifestyle</td>\n",
       "      <td>46.33</td>\n",
       "      <td>7</td>\n",
       "      <td>340.5255</td>\n",
       "      <td>2022-03-03</td>\n",
       "      <td>13:23</td>\n",
       "      <td>Credit card</td>\n",
       "      <td>7.4</td>\n",
       "    </tr>\n",
       "    <tr>\n",
       "      <th>3</th>\n",
       "      <td>A</td>\n",
       "      <td>Member</td>\n",
       "      <td>Male</td>\n",
       "      <td>Health and beauty</td>\n",
       "      <td>58.22</td>\n",
       "      <td>8</td>\n",
       "      <td>489.0480</td>\n",
       "      <td>2022-01-27</td>\n",
       "      <td>20:33</td>\n",
       "      <td>Ewallet</td>\n",
       "      <td>8.4</td>\n",
       "    </tr>\n",
       "    <tr>\n",
       "      <th>4</th>\n",
       "      <td>A</td>\n",
       "      <td>Normal</td>\n",
       "      <td>Male</td>\n",
       "      <td>Sports and travel</td>\n",
       "      <td>86.31</td>\n",
       "      <td>7</td>\n",
       "      <td>634.3785</td>\n",
       "      <td>2022-02-08</td>\n",
       "      <td>10:37</td>\n",
       "      <td>Ewallet</td>\n",
       "      <td>5.3</td>\n",
       "    </tr>\n",
       "  </tbody>\n",
       "</table>\n",
       "</div>"
      ],
      "text/plain": [
       "  Branch Customer_type  Gender            Product_line  Unit_price  Quantity  \\\n",
       "0      A        Member  Female       Health and beauty       74.69         7   \n",
       "1      C        Normal  Female  Electronic accessories       15.28         5   \n",
       "2      A        Normal    Male      Home and lifestyle       46.33         7   \n",
       "3      A        Member    Male       Health and beauty       58.22         8   \n",
       "4      A        Normal    Male       Sports and travel       86.31         7   \n",
       "\n",
       "      Total        Date   Time      Payment  Rating  \n",
       "0  548.9715  2022-01-05  13:08      Ewallet     9.1  \n",
       "1   80.2200  2022-03-08  10:29         Cash     9.6  \n",
       "2  340.5255  2022-03-03  13:23  Credit card     7.4  \n",
       "3  489.0480  2022-01-27  20:33      Ewallet     8.4  \n",
       "4  634.3785  2022-02-08  10:37      Ewallet     5.3  "
      ]
     },
     "execution_count": 60,
     "metadata": {},
     "output_type": "execute_result"
    }
   ],
   "source": [
    "data = df.copy()\n",
    "data.head()"
   ]
  },
  {
   "cell_type": "code",
   "execution_count": 61,
   "id": "1bf61c8e-1f7e-439f-9b4f-a683735b0aa4",
   "metadata": {},
   "outputs": [
    {
     "name": "stdout",
     "output_type": "stream",
     "text": [
      "<class 'pandas.core.frame.DataFrame'>\n",
      "RangeIndex: 1000 entries, 0 to 999\n",
      "Data columns (total 11 columns):\n",
      " #   Column         Non-Null Count  Dtype  \n",
      "---  ------         --------------  -----  \n",
      " 0   Branch         1000 non-null   object \n",
      " 1   Customer_type  1000 non-null   object \n",
      " 2   Gender         1000 non-null   object \n",
      " 3   Product_line   1000 non-null   object \n",
      " 4   Unit_price     1000 non-null   float64\n",
      " 5   Quantity       1000 non-null   int64  \n",
      " 6   Total          1000 non-null   float64\n",
      " 7   Date           1000 non-null   object \n",
      " 8   Time           1000 non-null   object \n",
      " 9   Payment        1000 non-null   object \n",
      " 10  Rating         1000 non-null   float64\n",
      "dtypes: float64(3), int64(1), object(7)\n",
      "memory usage: 86.1+ KB\n"
     ]
    }
   ],
   "source": [
    "data.info()"
   ]
  },
  {
   "cell_type": "code",
   "execution_count": 62,
   "id": "a6ea5777-7cd5-42d9-bd08-9142254145b1",
   "metadata": {},
   "outputs": [],
   "source": [
    "from sklearn.preprocessing import OneHotEncoder\n",
    "\n",
    "# Convert Date column to datetime\n",
    "data['Date'] = pd.to_datetime(data['Date'])"
   ]
  },
  {
   "cell_type": "code",
   "execution_count": 63,
   "id": "25234824-8e74-4312-b344-96f1861933cd",
   "metadata": {},
   "outputs": [],
   "source": [
    "# Extract year, month and day information from the Date column\n",
    "data['Year'] = data['Date'].dt.year\n",
    "data['Month'] = data['Date'].dt.month\n",
    "data['Day'] = data['Date'].dt.day\n",
    "\n",
    "# Drop the original Date column\n",
    "data.drop(columns=['Date'], inplace=True)"
   ]
  },
  {
   "cell_type": "code",
   "execution_count": 64,
   "id": "6b6c74ab-aed1-4926-8912-0138c1ba7b42",
   "metadata": {},
   "outputs": [
    {
     "data": {
      "text/html": [
       "<div>\n",
       "<style scoped>\n",
       "    .dataframe tbody tr th:only-of-type {\n",
       "        vertical-align: middle;\n",
       "    }\n",
       "\n",
       "    .dataframe tbody tr th {\n",
       "        vertical-align: top;\n",
       "    }\n",
       "\n",
       "    .dataframe thead th {\n",
       "        text-align: right;\n",
       "    }\n",
       "</style>\n",
       "<table border=\"1\" class=\"dataframe\">\n",
       "  <thead>\n",
       "    <tr style=\"text-align: right;\">\n",
       "      <th></th>\n",
       "      <th>Branch</th>\n",
       "      <th>Customer_type</th>\n",
       "      <th>Gender</th>\n",
       "      <th>Product_line</th>\n",
       "      <th>Unit_price</th>\n",
       "      <th>Quantity</th>\n",
       "      <th>Total</th>\n",
       "      <th>Time</th>\n",
       "      <th>Payment</th>\n",
       "      <th>Rating</th>\n",
       "      <th>Year</th>\n",
       "      <th>Month</th>\n",
       "      <th>Day</th>\n",
       "    </tr>\n",
       "  </thead>\n",
       "  <tbody>\n",
       "    <tr>\n",
       "      <th>0</th>\n",
       "      <td>0</td>\n",
       "      <td>Member</td>\n",
       "      <td>Female</td>\n",
       "      <td>3</td>\n",
       "      <td>74.69</td>\n",
       "      <td>7</td>\n",
       "      <td>548.9715</td>\n",
       "      <td>13:08</td>\n",
       "      <td>Ewallet</td>\n",
       "      <td>9.1</td>\n",
       "      <td>2022</td>\n",
       "      <td>1</td>\n",
       "      <td>5</td>\n",
       "    </tr>\n",
       "    <tr>\n",
       "      <th>1</th>\n",
       "      <td>2</td>\n",
       "      <td>Normal</td>\n",
       "      <td>Female</td>\n",
       "      <td>0</td>\n",
       "      <td>15.28</td>\n",
       "      <td>5</td>\n",
       "      <td>80.2200</td>\n",
       "      <td>10:29</td>\n",
       "      <td>Cash</td>\n",
       "      <td>9.6</td>\n",
       "      <td>2022</td>\n",
       "      <td>3</td>\n",
       "      <td>8</td>\n",
       "    </tr>\n",
       "    <tr>\n",
       "      <th>2</th>\n",
       "      <td>0</td>\n",
       "      <td>Normal</td>\n",
       "      <td>Male</td>\n",
       "      <td>4</td>\n",
       "      <td>46.33</td>\n",
       "      <td>7</td>\n",
       "      <td>340.5255</td>\n",
       "      <td>13:23</td>\n",
       "      <td>Credit card</td>\n",
       "      <td>7.4</td>\n",
       "      <td>2022</td>\n",
       "      <td>3</td>\n",
       "      <td>3</td>\n",
       "    </tr>\n",
       "    <tr>\n",
       "      <th>3</th>\n",
       "      <td>0</td>\n",
       "      <td>Member</td>\n",
       "      <td>Male</td>\n",
       "      <td>3</td>\n",
       "      <td>58.22</td>\n",
       "      <td>8</td>\n",
       "      <td>489.0480</td>\n",
       "      <td>20:33</td>\n",
       "      <td>Ewallet</td>\n",
       "      <td>8.4</td>\n",
       "      <td>2022</td>\n",
       "      <td>1</td>\n",
       "      <td>27</td>\n",
       "    </tr>\n",
       "    <tr>\n",
       "      <th>4</th>\n",
       "      <td>0</td>\n",
       "      <td>Normal</td>\n",
       "      <td>Male</td>\n",
       "      <td>5</td>\n",
       "      <td>86.31</td>\n",
       "      <td>7</td>\n",
       "      <td>634.3785</td>\n",
       "      <td>10:37</td>\n",
       "      <td>Ewallet</td>\n",
       "      <td>5.3</td>\n",
       "      <td>2022</td>\n",
       "      <td>2</td>\n",
       "      <td>8</td>\n",
       "    </tr>\n",
       "  </tbody>\n",
       "</table>\n",
       "</div>"
      ],
      "text/plain": [
       "   Branch Customer_type  Gender  Product_line  Unit_price  Quantity     Total  \\\n",
       "0       0        Member  Female             3       74.69         7  548.9715   \n",
       "1       2        Normal  Female             0       15.28         5   80.2200   \n",
       "2       0        Normal    Male             4       46.33         7  340.5255   \n",
       "3       0        Member    Male             3       58.22         8  489.0480   \n",
       "4       0        Normal    Male             5       86.31         7  634.3785   \n",
       "\n",
       "    Time      Payment  Rating  Year  Month  Day  \n",
       "0  13:08      Ewallet     9.1  2022      1    5  \n",
       "1  10:29         Cash     9.6  2022      3    8  \n",
       "2  13:23  Credit card     7.4  2022      3    3  \n",
       "3  20:33      Ewallet     8.4  2022      1   27  \n",
       "4  10:37      Ewallet     5.3  2022      2    8  "
      ]
     },
     "execution_count": 64,
     "metadata": {},
     "output_type": "execute_result"
    }
   ],
   "source": [
    "from sklearn.preprocessing import LabelEncoder\n",
    "\n",
    "# Initialize LabelEncoder\n",
    "le_branch = LabelEncoder()\n",
    "le_product_line = LabelEncoder()\n",
    "\n",
    "# Fit and transform the branch and product line columns\n",
    "data['Branch'] = le_branch.fit_transform(data['Branch'])\n",
    "data['Product_line'] = le_product_line.fit_transform(data['Product_line'])\n",
    "data.head()"
   ]
  },
  {
   "cell_type": "code",
   "execution_count": 65,
   "id": "8e63bf96-f529-4c1a-b6a3-5db913f9d829",
   "metadata": {},
   "outputs": [],
   "source": [
    "from sklearn.model_selection import train_test_split\n",
    "from sklearn.naive_bayes import MultinomialNB"
   ]
  },
  {
   "cell_type": "code",
   "execution_count": 66,
   "id": "a277b2b5-3275-4939-8f27-c3464a7f3509",
   "metadata": {},
   "outputs": [],
   "source": [
    "# Extract independent variables\n",
    "X = data[['Quantity', 'Year', 'Month', 'Day']]\n",
    "\n",
    "# Extract target variables\n",
    "y_branch = data['Branch']\n",
    "y_product_line = data['Product_line']\n",
    "\n",
    "# Split the data into train and test sets\n",
    "X_branch_train, X_branch_test, y_branch_train, y_branch_test = train_test_split(X, y_branch, test_size=0.3, random_state=42)\n",
    "X_product_line_train, X_product_line_test, y_product_line_train, y_product_line_test = train_test_split(X, y_product_line, test_size=0.3, random_state=42)"
   ]
  },
  {
   "cell_type": "code",
   "execution_count": 67,
   "id": "254eb18e-9c8c-477e-b922-c0baf9aaa494",
   "metadata": {},
   "outputs": [
    {
     "data": {
      "text/plain": [
       "MultinomialNB()"
      ]
     },
     "execution_count": 67,
     "metadata": {},
     "output_type": "execute_result"
    }
   ],
   "source": [
    "# Fit the Multinomial Naive Bayes model on the training data\n",
    "mnb_branch = MultinomialNB()\n",
    "mnb_branch.fit(X_branch_train, y_branch_train)\n",
    "\n",
    "mnb_product_line = MultinomialNB()\n",
    "mnb_product_line.fit(X_product_line_train, y_product_line_train)"
   ]
  },
  {
   "cell_type": "code",
   "execution_count": 69,
   "id": "5280446a-7a17-4a9c-a06c-788dc079d510",
   "metadata": {},
   "outputs": [
    {
     "name": "stdout",
     "output_type": "stream",
     "text": [
      "Accuracy score for branch prediction: 0.30666666666666664\n",
      "Classification report for branch prediction:\n",
      "               precision    recall  f1-score   support\n",
      "\n",
      "           0       0.32      0.25      0.28       102\n",
      "           1       0.28      0.38      0.32        92\n",
      "           2       0.33      0.30      0.32       106\n",
      "\n",
      "    accuracy                           0.31       300\n",
      "   macro avg       0.31      0.31      0.31       300\n",
      "weighted avg       0.31      0.31      0.30       300\n",
      "\n"
     ]
    }
   ],
   "source": [
    "# Predict the branch and product line for each sale batch\n",
    "y_branch_pred = mnb_branch.predict(X_branch_test)\n",
    "y_product_line_pred = mnb_product_line.predict(X_branch_test)\n",
    "\n",
    "# Evaluate the performance of the model\n",
    "from sklearn.metrics import accuracy_score, classification_report\n",
    "\n",
    "print(\"Accuracy score for branch prediction:\", accuracy_score(y_branch_test, y_branch_pred))\n",
    "print(\"Classification report for branch prediction:\\n\", classification_report(y_branch_test, y_branch_pred))"
   ]
  },
  {
   "cell_type": "code",
   "execution_count": 70,
   "id": "51f8a585-1586-4f7c-b3ba-629b4f9ca661",
   "metadata": {},
   "outputs": [
    {
     "name": "stdout",
     "output_type": "stream",
     "text": [
      "Accuracy score for product line prediction: 0.16666666666666666\n",
      "Classification report for product line prediction:\n",
      "               precision    recall  f1-score   support\n",
      "\n",
      "           0       0.24      0.20      0.22        56\n",
      "           1       0.15      0.32      0.21        53\n",
      "           2       0.13      0.07      0.09        44\n",
      "           3       0.00      0.00      0.00        49\n",
      "           4       0.16      0.40      0.23        47\n",
      "           5       0.00      0.00      0.00        51\n",
      "\n",
      "    accuracy                           0.17       300\n",
      "   macro avg       0.11      0.16      0.12       300\n",
      "weighted avg       0.12      0.17      0.13       300\n",
      "\n"
     ]
    }
   ],
   "source": [
    "print(\"Accuracy score for product line prediction:\", accuracy_score(y_product_line_test, y_product_line_pred))\n",
    "print(\"Classification report for product line prediction:\\n\", classification_report(y_product_line_test, y_product_line_pred))"
   ]
  },
  {
   "cell_type": "code",
   "execution_count": null,
   "id": "b06159ff-c864-4b0c-997a-b61e205bdc5b",
   "metadata": {},
   "outputs": [],
   "source": []
  },
  {
   "cell_type": "code",
   "execution_count": null,
   "id": "7fdcd65b-c0c0-42be-9354-6ffc16008f3d",
   "metadata": {},
   "outputs": [],
   "source": []
  },
  {
   "cell_type": "markdown",
   "id": "7f94ecd4-8598-41e1-a1b3-7fa0bf6a95cd",
   "metadata": {},
   "source": [
    "## Poisson Processes: \n",
    "\n",
    "Use the Poisson process to predict the quantity of products that will be sold each day across each of the branches in Q2. Run a different simulation to estimate the waiting times between each sale, from day to day."
   ]
  },
  {
   "cell_type": "code",
   "execution_count": null,
   "id": "8ed86e8f-abcc-43ff-af2d-67a80341a5b5",
   "metadata": {},
   "outputs": [],
   "source": []
  },
  {
   "cell_type": "code",
   "execution_count": null,
   "id": "b4e6be3c-3eef-4fbe-b19f-accf473b2bbc",
   "metadata": {},
   "outputs": [],
   "source": []
  },
  {
   "cell_type": "code",
   "execution_count": null,
   "id": "e0451f12-9891-45b9-bb4b-158875d29792",
   "metadata": {},
   "outputs": [],
   "source": []
  },
  {
   "cell_type": "markdown",
   "id": "7e5d3b49-9836-4259-adf9-589cf959a603",
   "metadata": {},
   "source": [
    "##  Robust Bayesian Inference:\n",
    "Combine the results from the multinomial and Poisson processes in the Q2\n",
    "simulation for all 3 branches, and use Bayesian inference to predict the product line for each sale that will be made in Q2 given the branches."
   ]
  },
  {
   "cell_type": "code",
   "execution_count": null,
   "id": "510acc72-85f8-47fc-b72b-eee55650639b",
   "metadata": {},
   "outputs": [],
   "source": []
  },
  {
   "cell_type": "code",
   "execution_count": null,
   "id": "a4150c5c-88f4-409f-a7da-2e2774144f0a",
   "metadata": {},
   "outputs": [],
   "source": []
  }
 ],
 "metadata": {
  "kernelspec": {
   "display_name": "Python 3 (ipykernel)",
   "language": "python",
   "name": "python3"
  },
  "language_info": {
   "codemirror_mode": {
    "name": "ipython",
    "version": 3
   },
   "file_extension": ".py",
   "mimetype": "text/x-python",
   "name": "python",
   "nbconvert_exporter": "python",
   "pygments_lexer": "ipython3",
   "version": "3.9.13"
  }
 },
 "nbformat": 4,
 "nbformat_minor": 5
}
