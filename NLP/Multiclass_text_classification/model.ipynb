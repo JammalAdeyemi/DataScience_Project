{
  "cells": [
    {
      "cell_type": "code",
      "execution_count": 1,
      "id": "657e6f4f-c6b1-46f0-a008-76a7396f8cd8",
      "metadata": {
        "id": "657e6f4f-c6b1-46f0-a008-76a7396f8cd8"
      },
      "outputs": [],
      "source": [
        "import pandas as pd\n",
        "import numpy as np\n",
        "import matplotlib.pyplot as plt\n",
        "import seaborn as sns\n",
        "import nltk\n",
        "import io\n",
        "import requests\n",
        "import zipfile\n",
        "\n",
        "%matplotlib inline\n",
        "\n",
        "from tqdm import tqdm\n",
        "from collections import Counter\n",
        "from nltk.corpus import stopwords\n",
        "from nltk.tokenize import word_tokenize, RegexpTokenizer\n",
        "from sklearn.naive_bayes import MultinomialNB\n",
        "from sklearn.linear_model import LogisticRegression\n",
        "from sklearn.ensemble import RandomForestClassifier\n",
        "from sklearn.neighbors import KNeighborsClassifier\n",
        "from sklearn.model_selection import train_test_split\n",
        "from sklearn.feature_extraction.text import CountVectorizer\n",
        "from sklearn.metrics import accuracy_score, confusion_matrix"
      ]
    },
    {
      "cell_type": "markdown",
      "id": "19d2ad83-b49e-4e6f-b400-df75f781d74a",
      "metadata": {
        "id": "19d2ad83-b49e-4e6f-b400-df75f781d74a"
      },
      "source": [
        "# Multiclass Text Classification \n",
        "\n",
        "## 1. Problem Definition\n",
        "The problem at hand is to develop a multiclass classification model using the Naive Bayes algorithm on processed text data. The goal is to enable machines to understand and gain insights from human language by categorizing text into more than two classes.\n",
        "\n",
        "## 2. Data\n",
        "The dataset contains more than two million customer complaints about consumer financial products. Amongst the various available columns, we have a column that contains the actual text of the complaint and one column containing the product for which the customer is raising the complaint\n",
        "The original data came from the USA data catalog.\n",
        "\n",
        "https://catalog.data.gov/dataset/consumer-complaint-database\n",
        "\n",
        "\n",
        "## 3. Evaluation\n"
      ]
    },
    {
      "cell_type": "markdown",
      "id": "c74a0c1c-2d8b-434e-baf5-5a1e40da8204",
      "metadata": {
        "id": "c74a0c1c-2d8b-434e-baf5-5a1e40da8204"
      },
      "source": [
        "## Data Exploration"
      ]
    },
    {
      "cell_type": "code",
      "source": [
        "from google.colab import drive\n",
        "drive.mount('/content/drive')"
      ],
      "metadata": {
        "colab": {
          "base_uri": "https://localhost:8080/"
        },
        "id": "g9ig_xY7j_kf",
        "outputId": "3ccc781f-17be-44e7-8a58-dffafee57411"
      },
      "id": "g9ig_xY7j_kf",
      "execution_count": 2,
      "outputs": [
        {
          "output_type": "stream",
          "name": "stdout",
          "text": [
            "Mounted at /content/drive\n"
          ]
        }
      ]
    },
    {
      "cell_type": "code",
      "source": [
        "!unzip \"/content/drive/MyDrive/Data_Science/Multiclass-text_classification data/complaints.csv.zip\""
      ],
      "metadata": {
        "colab": {
          "base_uri": "https://localhost:8080/"
        },
        "id": "rq3de4qskwxD",
        "outputId": "3266879a-72b9-4bdb-c1c1-fbafa1362779"
      },
      "id": "rq3de4qskwxD",
      "execution_count": 3,
      "outputs": [
        {
          "output_type": "stream",
          "name": "stdout",
          "text": [
            "Archive:  /content/drive/MyDrive/Data_Science/Multiclass-text_classification data/complaints.csv.zip\n",
            "  inflating: complaints.csv          \n"
          ]
        }
      ]
    },
    {
      "cell_type": "code",
      "source": [
        "df = pd.read_csv(\"/content/complaints.csv\")\n",
        "df.head()"
      ],
      "metadata": {
        "colab": {
          "base_uri": "https://localhost:8080/",
          "height": 757
        },
        "id": "YJT7gD76lLLL",
        "outputId": "3edf1b09-bc8e-483d-bd58-6eb91da57e84"
      },
      "id": "YJT7gD76lLLL",
      "execution_count": 4,
      "outputs": [
        {
          "output_type": "stream",
          "name": "stderr",
          "text": [
            "<ipython-input-4-3f78f3b87f30>:1: DtypeWarning: Columns (9) have mixed types. Specify dtype option on import or set low_memory=False.\n",
            "  df = pd.read_csv(\"/content/complaints.csv\")\n"
          ]
        },
        {
          "output_type": "execute_result",
          "data": {
            "text/plain": [
              "  Date received                                            Product  \\\n",
              "0    2022-01-26  Credit reporting, credit repair services, or o...   \n",
              "1    2022-03-10  Credit reporting, credit repair services, or o...   \n",
              "2    2022-03-10  Credit reporting, credit repair services, or o...   \n",
              "3    2022-03-10                        Checking or savings account   \n",
              "4    2021-11-12  Credit reporting, credit repair services, or o...   \n",
              "\n",
              "        Sub-product                                 Issue  \\\n",
              "0  Credit reporting  Incorrect information on your report   \n",
              "1  Credit reporting           Improper use of your report   \n",
              "2  Credit reporting  Incorrect information on your report   \n",
              "3  Checking account                    Closing an account   \n",
              "4  Credit reporting  Incorrect information on your report   \n",
              "\n",
              "                                       Sub-issue  \\\n",
              "0            Information belongs to someone else   \n",
              "1  Reporting company used your report improperly   \n",
              "2                       Account status incorrect   \n",
              "3                       Can't close your account   \n",
              "4                       Account status incorrect   \n",
              "\n",
              "                        Consumer complaint narrative  \\\n",
              "0                                                NaN   \n",
              "1                                                NaN   \n",
              "2                                                NaN   \n",
              "3                                                NaN   \n",
              "4  I am XXXX XXXX XXXX and I am submitting this c...   \n",
              "\n",
              "                             Company public response  \\\n",
              "0  Company has responded to the consumer and the ...   \n",
              "1  Company has responded to the consumer and the ...   \n",
              "2                                                NaN   \n",
              "3                                                NaN   \n",
              "4  Company has responded to the consumer and the ...   \n",
              "\n",
              "                                  Company State ZIP code Tags  \\\n",
              "0  TRANSUNION INTERMEDIATE HOLDINGS, INC.    VA  20166.0  NaN   \n",
              "1     Experian Information Solutions Inc.    CA  92394.0  NaN   \n",
              "2                           DISCOVER BANK    DE  19703.0  NaN   \n",
              "3       CAPITAL ONE FINANCIAL CORPORATION    TN  38135.0  NaN   \n",
              "4  TRANSUNION INTERMEDIATE HOLDINGS, INC.    FL  34236.0  NaN   \n",
              "\n",
              "  Consumer consent provided? Submitted via Date sent to company  \\\n",
              "0       Consent not provided           Web           2022-01-26   \n",
              "1                        NaN         Phone           2022-03-10   \n",
              "2                        NaN      Referral           2022-03-11   \n",
              "3                        NaN      Referral           2022-03-10   \n",
              "4           Consent provided           Web           2021-11-30   \n",
              "\n",
              "      Company response to consumer Timely response? Consumer disputed?  \\\n",
              "0          Closed with explanation              Yes                NaN   \n",
              "1          Closed with explanation              Yes                NaN   \n",
              "2      Closed with monetary relief              Yes                NaN   \n",
              "3          Closed with explanation              Yes                NaN   \n",
              "4  Closed with non-monetary relief              Yes                NaN   \n",
              "\n",
              "   Complaint ID  \n",
              "0       5152476  \n",
              "1       5308860  \n",
              "2       5318105  \n",
              "3       5308021  \n",
              "4       4906602  "
            ],
            "text/html": [
              "\n",
              "  <div id=\"df-ebd56a7b-59f3-4d78-b8d8-176a246c21a8\">\n",
              "    <div class=\"colab-df-container\">\n",
              "      <div>\n",
              "<style scoped>\n",
              "    .dataframe tbody tr th:only-of-type {\n",
              "        vertical-align: middle;\n",
              "    }\n",
              "\n",
              "    .dataframe tbody tr th {\n",
              "        vertical-align: top;\n",
              "    }\n",
              "\n",
              "    .dataframe thead th {\n",
              "        text-align: right;\n",
              "    }\n",
              "</style>\n",
              "<table border=\"1\" class=\"dataframe\">\n",
              "  <thead>\n",
              "    <tr style=\"text-align: right;\">\n",
              "      <th></th>\n",
              "      <th>Date received</th>\n",
              "      <th>Product</th>\n",
              "      <th>Sub-product</th>\n",
              "      <th>Issue</th>\n",
              "      <th>Sub-issue</th>\n",
              "      <th>Consumer complaint narrative</th>\n",
              "      <th>Company public response</th>\n",
              "      <th>Company</th>\n",
              "      <th>State</th>\n",
              "      <th>ZIP code</th>\n",
              "      <th>Tags</th>\n",
              "      <th>Consumer consent provided?</th>\n",
              "      <th>Submitted via</th>\n",
              "      <th>Date sent to company</th>\n",
              "      <th>Company response to consumer</th>\n",
              "      <th>Timely response?</th>\n",
              "      <th>Consumer disputed?</th>\n",
              "      <th>Complaint ID</th>\n",
              "    </tr>\n",
              "  </thead>\n",
              "  <tbody>\n",
              "    <tr>\n",
              "      <th>0</th>\n",
              "      <td>2022-01-26</td>\n",
              "      <td>Credit reporting, credit repair services, or o...</td>\n",
              "      <td>Credit reporting</td>\n",
              "      <td>Incorrect information on your report</td>\n",
              "      <td>Information belongs to someone else</td>\n",
              "      <td>NaN</td>\n",
              "      <td>Company has responded to the consumer and the ...</td>\n",
              "      <td>TRANSUNION INTERMEDIATE HOLDINGS, INC.</td>\n",
              "      <td>VA</td>\n",
              "      <td>20166.0</td>\n",
              "      <td>NaN</td>\n",
              "      <td>Consent not provided</td>\n",
              "      <td>Web</td>\n",
              "      <td>2022-01-26</td>\n",
              "      <td>Closed with explanation</td>\n",
              "      <td>Yes</td>\n",
              "      <td>NaN</td>\n",
              "      <td>5152476</td>\n",
              "    </tr>\n",
              "    <tr>\n",
              "      <th>1</th>\n",
              "      <td>2022-03-10</td>\n",
              "      <td>Credit reporting, credit repair services, or o...</td>\n",
              "      <td>Credit reporting</td>\n",
              "      <td>Improper use of your report</td>\n",
              "      <td>Reporting company used your report improperly</td>\n",
              "      <td>NaN</td>\n",
              "      <td>Company has responded to the consumer and the ...</td>\n",
              "      <td>Experian Information Solutions Inc.</td>\n",
              "      <td>CA</td>\n",
              "      <td>92394.0</td>\n",
              "      <td>NaN</td>\n",
              "      <td>NaN</td>\n",
              "      <td>Phone</td>\n",
              "      <td>2022-03-10</td>\n",
              "      <td>Closed with explanation</td>\n",
              "      <td>Yes</td>\n",
              "      <td>NaN</td>\n",
              "      <td>5308860</td>\n",
              "    </tr>\n",
              "    <tr>\n",
              "      <th>2</th>\n",
              "      <td>2022-03-10</td>\n",
              "      <td>Credit reporting, credit repair services, or o...</td>\n",
              "      <td>Credit reporting</td>\n",
              "      <td>Incorrect information on your report</td>\n",
              "      <td>Account status incorrect</td>\n",
              "      <td>NaN</td>\n",
              "      <td>NaN</td>\n",
              "      <td>DISCOVER BANK</td>\n",
              "      <td>DE</td>\n",
              "      <td>19703.0</td>\n",
              "      <td>NaN</td>\n",
              "      <td>NaN</td>\n",
              "      <td>Referral</td>\n",
              "      <td>2022-03-11</td>\n",
              "      <td>Closed with monetary relief</td>\n",
              "      <td>Yes</td>\n",
              "      <td>NaN</td>\n",
              "      <td>5318105</td>\n",
              "    </tr>\n",
              "    <tr>\n",
              "      <th>3</th>\n",
              "      <td>2022-03-10</td>\n",
              "      <td>Checking or savings account</td>\n",
              "      <td>Checking account</td>\n",
              "      <td>Closing an account</td>\n",
              "      <td>Can't close your account</td>\n",
              "      <td>NaN</td>\n",
              "      <td>NaN</td>\n",
              "      <td>CAPITAL ONE FINANCIAL CORPORATION</td>\n",
              "      <td>TN</td>\n",
              "      <td>38135.0</td>\n",
              "      <td>NaN</td>\n",
              "      <td>NaN</td>\n",
              "      <td>Referral</td>\n",
              "      <td>2022-03-10</td>\n",
              "      <td>Closed with explanation</td>\n",
              "      <td>Yes</td>\n",
              "      <td>NaN</td>\n",
              "      <td>5308021</td>\n",
              "    </tr>\n",
              "    <tr>\n",
              "      <th>4</th>\n",
              "      <td>2021-11-12</td>\n",
              "      <td>Credit reporting, credit repair services, or o...</td>\n",
              "      <td>Credit reporting</td>\n",
              "      <td>Incorrect information on your report</td>\n",
              "      <td>Account status incorrect</td>\n",
              "      <td>I am XXXX XXXX XXXX and I am submitting this c...</td>\n",
              "      <td>Company has responded to the consumer and the ...</td>\n",
              "      <td>TRANSUNION INTERMEDIATE HOLDINGS, INC.</td>\n",
              "      <td>FL</td>\n",
              "      <td>34236.0</td>\n",
              "      <td>NaN</td>\n",
              "      <td>Consent provided</td>\n",
              "      <td>Web</td>\n",
              "      <td>2021-11-30</td>\n",
              "      <td>Closed with non-monetary relief</td>\n",
              "      <td>Yes</td>\n",
              "      <td>NaN</td>\n",
              "      <td>4906602</td>\n",
              "    </tr>\n",
              "  </tbody>\n",
              "</table>\n",
              "</div>\n",
              "      <button class=\"colab-df-convert\" onclick=\"convertToInteractive('df-ebd56a7b-59f3-4d78-b8d8-176a246c21a8')\"\n",
              "              title=\"Convert this dataframe to an interactive table.\"\n",
              "              style=\"display:none;\">\n",
              "        \n",
              "  <svg xmlns=\"http://www.w3.org/2000/svg\" height=\"24px\"viewBox=\"0 0 24 24\"\n",
              "       width=\"24px\">\n",
              "    <path d=\"M0 0h24v24H0V0z\" fill=\"none\"/>\n",
              "    <path d=\"M18.56 5.44l.94 2.06.94-2.06 2.06-.94-2.06-.94-.94-2.06-.94 2.06-2.06.94zm-11 1L8.5 8.5l.94-2.06 2.06-.94-2.06-.94L8.5 2.5l-.94 2.06-2.06.94zm10 10l.94 2.06.94-2.06 2.06-.94-2.06-.94-.94-2.06-.94 2.06-2.06.94z\"/><path d=\"M17.41 7.96l-1.37-1.37c-.4-.4-.92-.59-1.43-.59-.52 0-1.04.2-1.43.59L10.3 9.45l-7.72 7.72c-.78.78-.78 2.05 0 2.83L4 21.41c.39.39.9.59 1.41.59.51 0 1.02-.2 1.41-.59l7.78-7.78 2.81-2.81c.8-.78.8-2.07 0-2.86zM5.41 20L4 18.59l7.72-7.72 1.47 1.35L5.41 20z\"/>\n",
              "  </svg>\n",
              "      </button>\n",
              "      \n",
              "  <style>\n",
              "    .colab-df-container {\n",
              "      display:flex;\n",
              "      flex-wrap:wrap;\n",
              "      gap: 12px;\n",
              "    }\n",
              "\n",
              "    .colab-df-convert {\n",
              "      background-color: #E8F0FE;\n",
              "      border: none;\n",
              "      border-radius: 50%;\n",
              "      cursor: pointer;\n",
              "      display: none;\n",
              "      fill: #1967D2;\n",
              "      height: 32px;\n",
              "      padding: 0 0 0 0;\n",
              "      width: 32px;\n",
              "    }\n",
              "\n",
              "    .colab-df-convert:hover {\n",
              "      background-color: #E2EBFA;\n",
              "      box-shadow: 0px 1px 2px rgba(60, 64, 67, 0.3), 0px 1px 3px 1px rgba(60, 64, 67, 0.15);\n",
              "      fill: #174EA6;\n",
              "    }\n",
              "\n",
              "    [theme=dark] .colab-df-convert {\n",
              "      background-color: #3B4455;\n",
              "      fill: #D2E3FC;\n",
              "    }\n",
              "\n",
              "    [theme=dark] .colab-df-convert:hover {\n",
              "      background-color: #434B5C;\n",
              "      box-shadow: 0px 1px 3px 1px rgba(0, 0, 0, 0.15);\n",
              "      filter: drop-shadow(0px 1px 2px rgba(0, 0, 0, 0.3));\n",
              "      fill: #FFFFFF;\n",
              "    }\n",
              "  </style>\n",
              "\n",
              "      <script>\n",
              "        const buttonEl =\n",
              "          document.querySelector('#df-ebd56a7b-59f3-4d78-b8d8-176a246c21a8 button.colab-df-convert');\n",
              "        buttonEl.style.display =\n",
              "          google.colab.kernel.accessAllowed ? 'block' : 'none';\n",
              "\n",
              "        async function convertToInteractive(key) {\n",
              "          const element = document.querySelector('#df-ebd56a7b-59f3-4d78-b8d8-176a246c21a8');\n",
              "          const dataTable =\n",
              "            await google.colab.kernel.invokeFunction('convertToInteractive',\n",
              "                                                     [key], {});\n",
              "          if (!dataTable) return;\n",
              "\n",
              "          const docLinkHtml = 'Like what you see? Visit the ' +\n",
              "            '<a target=\"_blank\" href=https://colab.research.google.com/notebooks/data_table.ipynb>data table notebook</a>'\n",
              "            + ' to learn more about interactive tables.';\n",
              "          element.innerHTML = '';\n",
              "          dataTable['output_type'] = 'display_data';\n",
              "          await google.colab.output.renderOutput(dataTable, element);\n",
              "          const docLink = document.createElement('div');\n",
              "          docLink.innerHTML = docLinkHtml;\n",
              "          element.appendChild(docLink);\n",
              "        }\n",
              "      </script>\n",
              "    </div>\n",
              "  </div>\n",
              "  "
            ]
          },
          "metadata": {},
          "execution_count": 4
        }
      ]
    },
    {
      "cell_type": "code",
      "execution_count": 5,
      "id": "34e6c69b-8f1b-49d6-89b0-fad04e45e232",
      "metadata": {
        "id": "34e6c69b-8f1b-49d6-89b0-fad04e45e232"
      },
      "outputs": [],
      "source": [
        "# url = \"https://files.consumerfinance.gov/ccdb/complaints.json.zip\"\n",
        "# response = requests.get(url)\n",
        "# zip_file = zipfile.ZipFile(io.BytesIO(response.content))\n",
        "# file_name = zip_file.namelist()[0]\n",
        "# data = pd.read_json(zip_file.open(file_name))\n",
        "\n",
        "# df = pd.DataFrame(data)\n",
        "# df.head()"
      ]
    },
    {
      "cell_type": "code",
      "execution_count": 6,
      "id": "e62f301f-52dd-4407-b0a5-0e617c9f816d",
      "metadata": {
        "colab": {
          "base_uri": "https://localhost:8080/"
        },
        "id": "e62f301f-52dd-4407-b0a5-0e617c9f816d",
        "outputId": "0622a580-8d9d-4714-8d35-0e45b5edc76a"
      },
      "outputs": [
        {
          "output_type": "execute_result",
          "data": {
            "text/plain": [
              "(3501441, 18)"
            ]
          },
          "metadata": {},
          "execution_count": 6
        }
      ],
      "source": [
        "df.shape"
      ]
    },
    {
      "cell_type": "code",
      "source": [
        "df.info()"
      ],
      "metadata": {
        "colab": {
          "base_uri": "https://localhost:8080/"
        },
        "id": "NyvqoGXElvjB",
        "outputId": "e5155472-ecee-43c7-e308-a3bdbbe29533"
      },
      "id": "NyvqoGXElvjB",
      "execution_count": 7,
      "outputs": [
        {
          "output_type": "stream",
          "name": "stdout",
          "text": [
            "<class 'pandas.core.frame.DataFrame'>\n",
            "RangeIndex: 3501441 entries, 0 to 3501440\n",
            "Data columns (total 18 columns):\n",
            " #   Column                        Dtype \n",
            "---  ------                        ----- \n",
            " 0   Date received                 object\n",
            " 1   Product                       object\n",
            " 2   Sub-product                   object\n",
            " 3   Issue                         object\n",
            " 4   Sub-issue                     object\n",
            " 5   Consumer complaint narrative  object\n",
            " 6   Company public response       object\n",
            " 7   Company                       object\n",
            " 8   State                         object\n",
            " 9   ZIP code                      object\n",
            " 10  Tags                          object\n",
            " 11  Consumer consent provided?    object\n",
            " 12  Submitted via                 object\n",
            " 13  Date sent to company          object\n",
            " 14  Company response to consumer  object\n",
            " 15  Timely response?              object\n",
            " 16  Consumer disputed?            object\n",
            " 17  Complaint ID                  int64 \n",
            "dtypes: int64(1), object(17)\n",
            "memory usage: 480.8+ MB\n"
          ]
        }
      ]
    },
    {
      "cell_type": "code",
      "execution_count": 8,
      "id": "1afabb7e-b121-41fc-a668-f508ea083738",
      "metadata": {
        "colab": {
          "base_uri": "https://localhost:8080/",
          "height": 89
        },
        "id": "1afabb7e-b121-41fc-a668-f508ea083738",
        "outputId": "7c61cc37-7c7c-40f5-929c-d3cd6b42898f"
      },
      "outputs": [
        {
          "output_type": "execute_result",
          "data": {
            "text/plain": [
              "'I WAS TAKEN ADVANTAGE OF DUE TO MALPRACTICE WHILE SEVERAL LAWS WERE BEING BROKEN BY YOUR COMPANY UNDER THE F.C.R.A, THIS HAS CAUSE ME FINANCIAL INJURY AND THIS IS DEFAMATION OF CHARACHTER. I HAVE BEEN DENIED JOBS BECAUSE OF WHATS ON MY CREDIT REPORT. I HAVE BEEN UNABLE TO LEVERAGE MY ASSETS DURING THE PANDEMIC BECAUSE OF WHATS ON MY CREDIT REPORT. I HAVE BEEN DENIED AN S.B.A. LOAN BECAUSE OF THE NEGATIVE, UNDULY AND ERRONEOUS ITEMS ON MY CREDIT REPORT.'"
            ],
            "application/vnd.google.colaboratory.intrinsic+json": {
              "type": "string"
            }
          },
          "metadata": {},
          "execution_count": 8
        }
      ],
      "source": [
        "df['Consumer complaint narrative'][3401]"
      ]
    },
    {
      "cell_type": "code",
      "execution_count": 9,
      "id": "297d3e9d-398e-40b9-b7f0-5962772f7232",
      "metadata": {
        "colab": {
          "base_uri": "https://localhost:8080/",
          "height": 35
        },
        "id": "297d3e9d-398e-40b9-b7f0-5962772f7232",
        "outputId": "0056d569-f48f-472a-ba55-4b3478883bee"
      },
      "outputs": [
        {
          "output_type": "execute_result",
          "data": {
            "text/plain": [
              "'Credit reporting, credit repair services, or other personal consumer reports'"
            ],
            "application/vnd.google.colaboratory.intrinsic+json": {
              "type": "string"
            }
          },
          "metadata": {},
          "execution_count": 9
        }
      ],
      "source": [
        "df['Product'][3401]"
      ]
    },
    {
      "cell_type": "code",
      "source": [
        "df['Sub-product'][3401]"
      ],
      "metadata": {
        "colab": {
          "base_uri": "https://localhost:8080/",
          "height": 35
        },
        "id": "T7Vfte3SllQ1",
        "outputId": "e66e21d3-9628-40ec-8805-5eb87f73cec8"
      },
      "id": "T7Vfte3SllQ1",
      "execution_count": 10,
      "outputs": [
        {
          "output_type": "execute_result",
          "data": {
            "text/plain": [
              "'Credit reporting'"
            ],
            "application/vnd.google.colaboratory.intrinsic+json": {
              "type": "string"
            }
          },
          "metadata": {},
          "execution_count": 10
        }
      ]
    },
    {
      "cell_type": "markdown",
      "id": "faf64c0a-3ba8-493f-a6d5-e97177590a1c",
      "metadata": {
        "id": "faf64c0a-3ba8-493f-a6d5-e97177590a1c"
      },
      "source": [
        "### Selecting only the important columns for this project"
      ]
    },
    {
      "cell_type": "code",
      "execution_count": 11,
      "id": "59cc6f55-8d52-4ee6-86f1-fa5b70bde70a",
      "metadata": {
        "colab": {
          "base_uri": "https://localhost:8080/",
          "height": 206
        },
        "id": "59cc6f55-8d52-4ee6-86f1-fa5b70bde70a",
        "outputId": "d1329935-0fee-40ce-834d-710b695a7a7f"
      },
      "outputs": [
        {
          "output_type": "execute_result",
          "data": {
            "text/plain": [
              "                                             Product       Sub-product  \\\n",
              "0  Credit reporting, credit repair services, or o...  Credit reporting   \n",
              "1  Credit reporting, credit repair services, or o...  Credit reporting   \n",
              "2  Credit reporting, credit repair services, or o...  Credit reporting   \n",
              "3                        Checking or savings account  Checking account   \n",
              "4  Credit reporting, credit repair services, or o...  Credit reporting   \n",
              "\n",
              "                        Consumer complaint narrative  \n",
              "0                                                NaN  \n",
              "1                                                NaN  \n",
              "2                                                NaN  \n",
              "3                                                NaN  \n",
              "4  I am XXXX XXXX XXXX and I am submitting this c...  "
            ],
            "text/html": [
              "\n",
              "  <div id=\"df-5cb02176-ac8d-4b0c-a866-c17fa0dbfb43\">\n",
              "    <div class=\"colab-df-container\">\n",
              "      <div>\n",
              "<style scoped>\n",
              "    .dataframe tbody tr th:only-of-type {\n",
              "        vertical-align: middle;\n",
              "    }\n",
              "\n",
              "    .dataframe tbody tr th {\n",
              "        vertical-align: top;\n",
              "    }\n",
              "\n",
              "    .dataframe thead th {\n",
              "        text-align: right;\n",
              "    }\n",
              "</style>\n",
              "<table border=\"1\" class=\"dataframe\">\n",
              "  <thead>\n",
              "    <tr style=\"text-align: right;\">\n",
              "      <th></th>\n",
              "      <th>Product</th>\n",
              "      <th>Sub-product</th>\n",
              "      <th>Consumer complaint narrative</th>\n",
              "    </tr>\n",
              "  </thead>\n",
              "  <tbody>\n",
              "    <tr>\n",
              "      <th>0</th>\n",
              "      <td>Credit reporting, credit repair services, or o...</td>\n",
              "      <td>Credit reporting</td>\n",
              "      <td>NaN</td>\n",
              "    </tr>\n",
              "    <tr>\n",
              "      <th>1</th>\n",
              "      <td>Credit reporting, credit repair services, or o...</td>\n",
              "      <td>Credit reporting</td>\n",
              "      <td>NaN</td>\n",
              "    </tr>\n",
              "    <tr>\n",
              "      <th>2</th>\n",
              "      <td>Credit reporting, credit repair services, or o...</td>\n",
              "      <td>Credit reporting</td>\n",
              "      <td>NaN</td>\n",
              "    </tr>\n",
              "    <tr>\n",
              "      <th>3</th>\n",
              "      <td>Checking or savings account</td>\n",
              "      <td>Checking account</td>\n",
              "      <td>NaN</td>\n",
              "    </tr>\n",
              "    <tr>\n",
              "      <th>4</th>\n",
              "      <td>Credit reporting, credit repair services, or o...</td>\n",
              "      <td>Credit reporting</td>\n",
              "      <td>I am XXXX XXXX XXXX and I am submitting this c...</td>\n",
              "    </tr>\n",
              "  </tbody>\n",
              "</table>\n",
              "</div>\n",
              "      <button class=\"colab-df-convert\" onclick=\"convertToInteractive('df-5cb02176-ac8d-4b0c-a866-c17fa0dbfb43')\"\n",
              "              title=\"Convert this dataframe to an interactive table.\"\n",
              "              style=\"display:none;\">\n",
              "        \n",
              "  <svg xmlns=\"http://www.w3.org/2000/svg\" height=\"24px\"viewBox=\"0 0 24 24\"\n",
              "       width=\"24px\">\n",
              "    <path d=\"M0 0h24v24H0V0z\" fill=\"none\"/>\n",
              "    <path d=\"M18.56 5.44l.94 2.06.94-2.06 2.06-.94-2.06-.94-.94-2.06-.94 2.06-2.06.94zm-11 1L8.5 8.5l.94-2.06 2.06-.94-2.06-.94L8.5 2.5l-.94 2.06-2.06.94zm10 10l.94 2.06.94-2.06 2.06-.94-2.06-.94-.94-2.06-.94 2.06-2.06.94z\"/><path d=\"M17.41 7.96l-1.37-1.37c-.4-.4-.92-.59-1.43-.59-.52 0-1.04.2-1.43.59L10.3 9.45l-7.72 7.72c-.78.78-.78 2.05 0 2.83L4 21.41c.39.39.9.59 1.41.59.51 0 1.02-.2 1.41-.59l7.78-7.78 2.81-2.81c.8-.78.8-2.07 0-2.86zM5.41 20L4 18.59l7.72-7.72 1.47 1.35L5.41 20z\"/>\n",
              "  </svg>\n",
              "      </button>\n",
              "      \n",
              "  <style>\n",
              "    .colab-df-container {\n",
              "      display:flex;\n",
              "      flex-wrap:wrap;\n",
              "      gap: 12px;\n",
              "    }\n",
              "\n",
              "    .colab-df-convert {\n",
              "      background-color: #E8F0FE;\n",
              "      border: none;\n",
              "      border-radius: 50%;\n",
              "      cursor: pointer;\n",
              "      display: none;\n",
              "      fill: #1967D2;\n",
              "      height: 32px;\n",
              "      padding: 0 0 0 0;\n",
              "      width: 32px;\n",
              "    }\n",
              "\n",
              "    .colab-df-convert:hover {\n",
              "      background-color: #E2EBFA;\n",
              "      box-shadow: 0px 1px 2px rgba(60, 64, 67, 0.3), 0px 1px 3px 1px rgba(60, 64, 67, 0.15);\n",
              "      fill: #174EA6;\n",
              "    }\n",
              "\n",
              "    [theme=dark] .colab-df-convert {\n",
              "      background-color: #3B4455;\n",
              "      fill: #D2E3FC;\n",
              "    }\n",
              "\n",
              "    [theme=dark] .colab-df-convert:hover {\n",
              "      background-color: #434B5C;\n",
              "      box-shadow: 0px 1px 3px 1px rgba(0, 0, 0, 0.15);\n",
              "      filter: drop-shadow(0px 1px 2px rgba(0, 0, 0, 0.3));\n",
              "      fill: #FFFFFF;\n",
              "    }\n",
              "  </style>\n",
              "\n",
              "      <script>\n",
              "        const buttonEl =\n",
              "          document.querySelector('#df-5cb02176-ac8d-4b0c-a866-c17fa0dbfb43 button.colab-df-convert');\n",
              "        buttonEl.style.display =\n",
              "          google.colab.kernel.accessAllowed ? 'block' : 'none';\n",
              "\n",
              "        async function convertToInteractive(key) {\n",
              "          const element = document.querySelector('#df-5cb02176-ac8d-4b0c-a866-c17fa0dbfb43');\n",
              "          const dataTable =\n",
              "            await google.colab.kernel.invokeFunction('convertToInteractive',\n",
              "                                                     [key], {});\n",
              "          if (!dataTable) return;\n",
              "\n",
              "          const docLinkHtml = 'Like what you see? Visit the ' +\n",
              "            '<a target=\"_blank\" href=https://colab.research.google.com/notebooks/data_table.ipynb>data table notebook</a>'\n",
              "            + ' to learn more about interactive tables.';\n",
              "          element.innerHTML = '';\n",
              "          dataTable['output_type'] = 'display_data';\n",
              "          await google.colab.output.renderOutput(dataTable, element);\n",
              "          const docLink = document.createElement('div');\n",
              "          docLink.innerHTML = docLinkHtml;\n",
              "          element.appendChild(docLink);\n",
              "        }\n",
              "      </script>\n",
              "    </div>\n",
              "  </div>\n",
              "  "
            ]
          },
          "metadata": {},
          "execution_count": 11
        }
      ],
      "source": [
        "data = df[['Product', 'Sub-product', 'Consumer complaint narrative']]\n",
        "data.head()"
      ]
    },
    {
      "cell_type": "code",
      "execution_count": 12,
      "id": "2ac38806-77ce-4184-8902-c7176ea5471b",
      "metadata": {
        "colab": {
          "base_uri": "https://localhost:8080/"
        },
        "id": "2ac38806-77ce-4184-8902-c7176ea5471b",
        "outputId": "9185f10d-21e7-4628-8ce2-c15a17ef866b"
      },
      "outputs": [
        {
          "output_type": "execute_result",
          "data": {
            "text/plain": [
              "Product                               0\n",
              "Sub-product                      235291\n",
              "Consumer complaint narrative    2239143\n",
              "dtype: int64"
            ]
          },
          "metadata": {},
          "execution_count": 12
        }
      ],
      "source": [
        "data.isna().sum()"
      ]
    },
    {
      "cell_type": "markdown",
      "id": "6173ea0d-9ff5-41dd-8609-2473c6660244",
      "metadata": {
        "id": "6173ea0d-9ff5-41dd-8609-2473c6660244"
      },
      "source": [
        "### Drop rows with missing `complaint`"
      ]
    },
    {
      "cell_type": "code",
      "execution_count": 13,
      "id": "c220825a-7e0a-4021-bb70-c72e881c2e39",
      "metadata": {
        "colab": {
          "base_uri": "https://localhost:8080/"
        },
        "id": "c220825a-7e0a-4021-bb70-c72e881c2e39",
        "outputId": "44233b50-b233-444e-ef23-c7e62f02f6c9"
      },
      "outputs": [
        {
          "output_type": "stream",
          "name": "stderr",
          "text": [
            "<ipython-input-13-f1116dacf2bb>:1: SettingWithCopyWarning: \n",
            "A value is trying to be set on a copy of a slice from a DataFrame\n",
            "\n",
            "See the caveats in the documentation: https://pandas.pydata.org/pandas-docs/stable/user_guide/indexing.html#returning-a-view-versus-a-copy\n",
            "  data.dropna(inplace=True)\n"
          ]
        }
      ],
      "source": [
        "data.dropna(inplace=True)"
      ]
    },
    {
      "cell_type": "code",
      "execution_count": 14,
      "id": "a443291d-a23a-4057-bd86-0a471a08a413",
      "metadata": {
        "colab": {
          "base_uri": "https://localhost:8080/"
        },
        "id": "a443291d-a23a-4057-bd86-0a471a08a413",
        "outputId": "dbf9f24e-86c5-4e69-ea81-c66fb89e6b99"
      },
      "outputs": [
        {
          "output_type": "execute_result",
          "data": {
            "text/plain": [
              "Product                         0\n",
              "Sub-product                     0\n",
              "Consumer complaint narrative    0\n",
              "dtype: int64"
            ]
          },
          "metadata": {},
          "execution_count": 14
        }
      ],
      "source": [
        "data.isna().sum()"
      ]
    },
    {
      "cell_type": "code",
      "source": [
        "data.shape"
      ],
      "metadata": {
        "colab": {
          "base_uri": "https://localhost:8080/"
        },
        "id": "GAzUhBiHmMbG",
        "outputId": "46bff29b-16d8-4c9a-c160-06ee0fcf9285"
      },
      "id": "GAzUhBiHmMbG",
      "execution_count": 15,
      "outputs": [
        {
          "output_type": "execute_result",
          "data": {
            "text/plain": [
              "(1210091, 3)"
            ]
          },
          "metadata": {},
          "execution_count": 15
        }
      ]
    },
    {
      "cell_type": "code",
      "source": [
        "data.rename({'Consumer complaint narrative': 'Complaint'}, axis =1, inplace=True)\n",
        "data.head()"
      ],
      "metadata": {
        "colab": {
          "base_uri": "https://localhost:8080/",
          "height": 295
        },
        "id": "ZK3lyi-smOaX",
        "outputId": "a0b629cb-a0fa-4fde-8240-9c9c1ff78c1c"
      },
      "id": "ZK3lyi-smOaX",
      "execution_count": 16,
      "outputs": [
        {
          "output_type": "stream",
          "name": "stderr",
          "text": [
            "<ipython-input-16-dbbb76a0ba69>:1: SettingWithCopyWarning: \n",
            "A value is trying to be set on a copy of a slice from a DataFrame\n",
            "\n",
            "See the caveats in the documentation: https://pandas.pydata.org/pandas-docs/stable/user_guide/indexing.html#returning-a-view-versus-a-copy\n",
            "  data.rename({'Consumer complaint narrative': 'Complaint'}, axis =1, inplace=True)\n"
          ]
        },
        {
          "output_type": "execute_result",
          "data": {
            "text/plain": [
              "                                              Product  \\\n",
              "4   Credit reporting, credit repair services, or o...   \n",
              "7   Credit reporting, credit repair services, or o...   \n",
              "11  Credit reporting, credit repair services, or o...   \n",
              "21  Credit reporting, credit repair services, or o...   \n",
              "23                                       Student loan   \n",
              "\n",
              "                       Sub-product  \\\n",
              "4                 Credit reporting   \n",
              "7                 Credit reporting   \n",
              "11                Credit reporting   \n",
              "21                Credit reporting   \n",
              "23  Federal student loan servicing   \n",
              "\n",
              "                                            Complaint  \n",
              "4   I am XXXX XXXX XXXX and I am submitting this c...  \n",
              "7   in accordance with the Fair Credit Reporting a...  \n",
              "11  Unauthorized inquiries were discovered on my m...  \n",
              "21  I am very concerned about the items that are b...  \n",
              "23  I applied to refinance my student loans with C...  "
            ],
            "text/html": [
              "\n",
              "  <div id=\"df-8e595b2f-7cb8-45ae-bd52-4a6c94a6cde5\">\n",
              "    <div class=\"colab-df-container\">\n",
              "      <div>\n",
              "<style scoped>\n",
              "    .dataframe tbody tr th:only-of-type {\n",
              "        vertical-align: middle;\n",
              "    }\n",
              "\n",
              "    .dataframe tbody tr th {\n",
              "        vertical-align: top;\n",
              "    }\n",
              "\n",
              "    .dataframe thead th {\n",
              "        text-align: right;\n",
              "    }\n",
              "</style>\n",
              "<table border=\"1\" class=\"dataframe\">\n",
              "  <thead>\n",
              "    <tr style=\"text-align: right;\">\n",
              "      <th></th>\n",
              "      <th>Product</th>\n",
              "      <th>Sub-product</th>\n",
              "      <th>Complaint</th>\n",
              "    </tr>\n",
              "  </thead>\n",
              "  <tbody>\n",
              "    <tr>\n",
              "      <th>4</th>\n",
              "      <td>Credit reporting, credit repair services, or o...</td>\n",
              "      <td>Credit reporting</td>\n",
              "      <td>I am XXXX XXXX XXXX and I am submitting this c...</td>\n",
              "    </tr>\n",
              "    <tr>\n",
              "      <th>7</th>\n",
              "      <td>Credit reporting, credit repair services, or o...</td>\n",
              "      <td>Credit reporting</td>\n",
              "      <td>in accordance with the Fair Credit Reporting a...</td>\n",
              "    </tr>\n",
              "    <tr>\n",
              "      <th>11</th>\n",
              "      <td>Credit reporting, credit repair services, or o...</td>\n",
              "      <td>Credit reporting</td>\n",
              "      <td>Unauthorized inquiries were discovered on my m...</td>\n",
              "    </tr>\n",
              "    <tr>\n",
              "      <th>21</th>\n",
              "      <td>Credit reporting, credit repair services, or o...</td>\n",
              "      <td>Credit reporting</td>\n",
              "      <td>I am very concerned about the items that are b...</td>\n",
              "    </tr>\n",
              "    <tr>\n",
              "      <th>23</th>\n",
              "      <td>Student loan</td>\n",
              "      <td>Federal student loan servicing</td>\n",
              "      <td>I applied to refinance my student loans with C...</td>\n",
              "    </tr>\n",
              "  </tbody>\n",
              "</table>\n",
              "</div>\n",
              "      <button class=\"colab-df-convert\" onclick=\"convertToInteractive('df-8e595b2f-7cb8-45ae-bd52-4a6c94a6cde5')\"\n",
              "              title=\"Convert this dataframe to an interactive table.\"\n",
              "              style=\"display:none;\">\n",
              "        \n",
              "  <svg xmlns=\"http://www.w3.org/2000/svg\" height=\"24px\"viewBox=\"0 0 24 24\"\n",
              "       width=\"24px\">\n",
              "    <path d=\"M0 0h24v24H0V0z\" fill=\"none\"/>\n",
              "    <path d=\"M18.56 5.44l.94 2.06.94-2.06 2.06-.94-2.06-.94-.94-2.06-.94 2.06-2.06.94zm-11 1L8.5 8.5l.94-2.06 2.06-.94-2.06-.94L8.5 2.5l-.94 2.06-2.06.94zm10 10l.94 2.06.94-2.06 2.06-.94-2.06-.94-.94-2.06-.94 2.06-2.06.94z\"/><path d=\"M17.41 7.96l-1.37-1.37c-.4-.4-.92-.59-1.43-.59-.52 0-1.04.2-1.43.59L10.3 9.45l-7.72 7.72c-.78.78-.78 2.05 0 2.83L4 21.41c.39.39.9.59 1.41.59.51 0 1.02-.2 1.41-.59l7.78-7.78 2.81-2.81c.8-.78.8-2.07 0-2.86zM5.41 20L4 18.59l7.72-7.72 1.47 1.35L5.41 20z\"/>\n",
              "  </svg>\n",
              "      </button>\n",
              "      \n",
              "  <style>\n",
              "    .colab-df-container {\n",
              "      display:flex;\n",
              "      flex-wrap:wrap;\n",
              "      gap: 12px;\n",
              "    }\n",
              "\n",
              "    .colab-df-convert {\n",
              "      background-color: #E8F0FE;\n",
              "      border: none;\n",
              "      border-radius: 50%;\n",
              "      cursor: pointer;\n",
              "      display: none;\n",
              "      fill: #1967D2;\n",
              "      height: 32px;\n",
              "      padding: 0 0 0 0;\n",
              "      width: 32px;\n",
              "    }\n",
              "\n",
              "    .colab-df-convert:hover {\n",
              "      background-color: #E2EBFA;\n",
              "      box-shadow: 0px 1px 2px rgba(60, 64, 67, 0.3), 0px 1px 3px 1px rgba(60, 64, 67, 0.15);\n",
              "      fill: #174EA6;\n",
              "    }\n",
              "\n",
              "    [theme=dark] .colab-df-convert {\n",
              "      background-color: #3B4455;\n",
              "      fill: #D2E3FC;\n",
              "    }\n",
              "\n",
              "    [theme=dark] .colab-df-convert:hover {\n",
              "      background-color: #434B5C;\n",
              "      box-shadow: 0px 1px 3px 1px rgba(0, 0, 0, 0.15);\n",
              "      filter: drop-shadow(0px 1px 2px rgba(0, 0, 0, 0.3));\n",
              "      fill: #FFFFFF;\n",
              "    }\n",
              "  </style>\n",
              "\n",
              "      <script>\n",
              "        const buttonEl =\n",
              "          document.querySelector('#df-8e595b2f-7cb8-45ae-bd52-4a6c94a6cde5 button.colab-df-convert');\n",
              "        buttonEl.style.display =\n",
              "          google.colab.kernel.accessAllowed ? 'block' : 'none';\n",
              "\n",
              "        async function convertToInteractive(key) {\n",
              "          const element = document.querySelector('#df-8e595b2f-7cb8-45ae-bd52-4a6c94a6cde5');\n",
              "          const dataTable =\n",
              "            await google.colab.kernel.invokeFunction('convertToInteractive',\n",
              "                                                     [key], {});\n",
              "          if (!dataTable) return;\n",
              "\n",
              "          const docLinkHtml = 'Like what you see? Visit the ' +\n",
              "            '<a target=\"_blank\" href=https://colab.research.google.com/notebooks/data_table.ipynb>data table notebook</a>'\n",
              "            + ' to learn more about interactive tables.';\n",
              "          element.innerHTML = '';\n",
              "          dataTable['output_type'] = 'display_data';\n",
              "          await google.colab.output.renderOutput(dataTable, element);\n",
              "          const docLink = document.createElement('div');\n",
              "          docLink.innerHTML = docLinkHtml;\n",
              "          element.appendChild(docLink);\n",
              "        }\n",
              "      </script>\n",
              "    </div>\n",
              "  </div>\n",
              "  "
            ]
          },
          "metadata": {},
          "execution_count": 16
        }
      ]
    },
    {
      "cell_type": "code",
      "source": [
        "data['Sub-product'].value_counts()"
      ],
      "metadata": {
        "colab": {
          "base_uri": "https://localhost:8080/"
        },
        "id": "ImhHSahrmnQZ",
        "outputId": "fc40d550-c8fd-4d2a-fcc1-f7dde2397469"
      },
      "id": "ImhHSahrmnQZ",
      "execution_count": 17,
      "outputs": [
        {
          "output_type": "execute_result",
          "data": {
            "text/plain": [
              "Credit reporting                              610145\n",
              "General-purpose credit card or charge card     69018\n",
              "Checking account                               63419\n",
              "Other debt                                     45416\n",
              "Conventional home mortgage                     42923\n",
              "                                               ...  \n",
              "Credit repair                                     39\n",
              "Traveler’s/Cashier’s checks                       22\n",
              "Transit card                                      19\n",
              "Student prepaid card                              17\n",
              "Electronic Benefit Transfer / EBT card             3\n",
              "Name: Sub-product, Length: 75, dtype: int64"
            ]
          },
          "metadata": {},
          "execution_count": 17
        }
      ]
    },
    {
      "cell_type": "code",
      "source": [
        "data['Product'].value_counts()"
      ],
      "metadata": {
        "colab": {
          "base_uri": "https://localhost:8080/"
        },
        "id": "fym4fH1xmezf",
        "outputId": "656b42e2-db1e-40cc-cfcd-dcdd3606953e"
      },
      "id": "fym4fH1xmezf",
      "execution_count": 18,
      "outputs": [
        {
          "output_type": "execute_result",
          "data": {
            "text/plain": [
              "Credit reporting, credit repair services, or other personal consumer reports    619494\n",
              "Debt collection                                                                 202957\n",
              "Mortgage                                                                        102905\n",
              "Credit card or prepaid card                                                      91203\n",
              "Checking or savings account                                                      64316\n",
              "Student loan                                                                     34494\n",
              "Money transfer, virtual currency, or money service                               29638\n",
              "Vehicle loan or lease                                                            22567\n",
              "Payday loan, title loan, or personal loan                                        14915\n",
              "Bank account or service                                                          14885\n",
              "Consumer Loan                                                                     9462\n",
              "Money transfers                                                                   1497\n",
              "Prepaid card                                                                      1450\n",
              "Other financial service                                                            292\n",
              "Virtual currency                                                                    16\n",
              "Name: Product, dtype: int64"
            ]
          },
          "metadata": {},
          "execution_count": 18
        }
      ]
    },
    {
      "cell_type": "markdown",
      "source": [
        "### Create Unique Values for `Product`"
      ],
      "metadata": {
        "id": "q5If9npMnY4Q"
      },
      "id": "q5If9npMnY4Q"
    },
    {
      "cell_type": "code",
      "source": [
        "product_map = {'Vehicle loan or lease': 'vehicle_loan',\n",
        "              'Credit reporting, credit repair services, or other personal consumer reports':'credit_report',\n",
        "              'Credit card or prepaid card': 'card',\n",
        "              'Money transfer, virtual currency, or money service': 'money_transfer',\n",
        "              'virtual currency': 'money_transfer',\n",
        "              'Mortgage': 'mortgage',\n",
        "               'Payday loan, title loan, or personal loan': 'loan',\n",
        "               'Debt collection': 'debt_collection',\n",
        "               'Checking or savings account': 'savings_account',\n",
        "               #'Credit card': 'card',\n",
        "               'Bank account or service': 'savings_account',\n",
        "               #'Credit reporting': 'credit_report',\n",
        "               'Prepaid card': 'card',\n",
        "               #'Payday loan': 'loan',\n",
        "               'Other financial service': 'others',\n",
        "               'Virtual currency': 'money_transfer',\n",
        "               'Student loan': 'loan',\n",
        "               'Consumer Loan': 'loan',\n",
        "               'Money transfers': 'money_transfer'\n",
        "              }"
      ],
      "metadata": {
        "id": "x-vBsTFhmxQe"
      },
      "id": "x-vBsTFhmxQe",
      "execution_count": 19,
      "outputs": []
    },
    {
      "cell_type": "code",
      "source": [
        "# Replace the values in the 'product' column using the product_map dictionary\n",
        "data['Product'] = data['Product'].replace(product_map)\n",
        "\n",
        "data['Product'].value_counts()"
      ],
      "metadata": {
        "colab": {
          "base_uri": "https://localhost:8080/"
        },
        "id": "hQe9Xj2ApxmC",
        "outputId": "644ba14f-8bb5-47cf-b34f-b3385700a626"
      },
      "id": "hQe9Xj2ApxmC",
      "execution_count": 20,
      "outputs": [
        {
          "output_type": "stream",
          "name": "stderr",
          "text": [
            "<ipython-input-20-8fe4e23f9c36>:2: SettingWithCopyWarning: \n",
            "A value is trying to be set on a copy of a slice from a DataFrame.\n",
            "Try using .loc[row_indexer,col_indexer] = value instead\n",
            "\n",
            "See the caveats in the documentation: https://pandas.pydata.org/pandas-docs/stable/user_guide/indexing.html#returning-a-view-versus-a-copy\n",
            "  data['Product'] = data['Product'].replace(product_map)\n"
          ]
        },
        {
          "output_type": "execute_result",
          "data": {
            "text/plain": [
              "credit_report      619494\n",
              "debt_collection    202957\n",
              "mortgage           102905\n",
              "card                92653\n",
              "savings_account     79201\n",
              "loan                58871\n",
              "money_transfer      31151\n",
              "vehicle_loan        22567\n",
              "others                292\n",
              "Name: Product, dtype: int64"
            ]
          },
          "metadata": {},
          "execution_count": 20
        }
      ]
    },
    {
      "cell_type": "code",
      "source": [
        "sns.countplot(x=\"Product\", data=data)\n",
        "plt.xticks(rotation=90)\n",
        "plt.show()"
      ],
      "metadata": {
        "colab": {
          "base_uri": "https://localhost:8080/",
          "height": 550
        },
        "id": "YgLPLj3QpxfQ",
        "outputId": "357b9e88-20ce-4555-93d7-51cf54f33258"
      },
      "id": "YgLPLj3QpxfQ",
      "execution_count": 21,
      "outputs": [
        {
          "output_type": "display_data",
          "data": {
            "text/plain": [
              "<Figure size 640x480 with 1 Axes>"
            ],
            "image/png": "[encoded data removed]"
          },
          "metadata": {}
        }
      ]
    },
    {
      "cell_type": "markdown",
      "source": [
        "## Complaints"
      ],
      "metadata": {
        "id": "SwsyJQucq5pH"
      },
      "id": "SwsyJQucq5pH"
    },
    {
      "cell_type": "code",
      "source": [
        "complaints = list(data['Complaint'])\n",
        "len(complaints)"
      ],
      "metadata": {
        "colab": {
          "base_uri": "https://localhost:8080/"
        },
        "id": "FSYvubNnpxVw",
        "outputId": "bb05e9d1-874b-4dcd-e8c6-633665f5187e"
      },
      "id": "FSYvubNnpxVw",
      "execution_count": 22,
      "outputs": [
        {
          "output_type": "execute_result",
          "data": {
            "text/plain": [
              "1210091"
            ]
          },
          "metadata": {},
          "execution_count": 22
        }
      ]
    },
    {
      "cell_type": "markdown",
      "source": [
        "### Convert complaint data to lower case"
      ],
      "metadata": {
        "id": "A1fpEt5irIZM"
      },
      "id": "A1fpEt5irIZM"
    },
    {
      "cell_type": "code",
      "source": [
        "complaints = [c.lower() for c in tqdm(complaints)]"
      ],
      "metadata": {
        "colab": {
          "base_uri": "https://localhost:8080/"
        },
        "id": "daoSlfZFrG3d",
        "outputId": "31603af1-b5ff-4dba-c742-1a6291d1ff17"
      },
      "id": "daoSlfZFrG3d",
      "execution_count": 23,
      "outputs": [
        {
          "output_type": "stream",
          "name": "stderr",
          "text": [
            "100%|██████████| 1210091/1210091 [00:01<00:00, 733232.38it/s]\n"
          ]
        }
      ]
    },
    {
      "cell_type": "markdown",
      "source": [
        "Here, I am using a list comprehension to convert all the elements of the `complaints` list to lowercase letters. The `tqdm` function is used to add a progress bar to the loop, which can be helpful when dealing with large datasets. "
      ],
      "metadata": {
        "id": "SRsO1D2ZuB6r"
      },
      "id": "SRsO1D2ZuB6r"
    },
    {
      "cell_type": "code",
      "source": [
        "complaints[13]"
      ],
      "metadata": {
        "colab": {
          "base_uri": "https://localhost:8080/",
          "height": 53
        },
        "id": "JypC2bf9tsJe",
        "outputId": "c06ca74f-a846-4c4d-f7d3-626ba30252ae"
      },
      "id": "JypC2bf9tsJe",
      "execution_count": 24,
      "outputs": [
        {
          "output_type": "execute_result",
          "data": {
            "text/plain": [
              "'i am very concerned about the items that are being shown on my credit report. not only are they inaccurate, they are also unjust, because they should not be reporting on my credit report! i ask that you delete these accounts, or i will be filing a legal complaint against you!'"
            ],
            "application/vnd.google.colaboratory.intrinsic+json": {
              "type": "string"
            }
          },
          "metadata": {},
          "execution_count": 24
        }
      ]
    },
    {
      "cell_type": "code",
      "source": [
        "complaints[3401]"
      ],
      "metadata": {
        "colab": {
          "base_uri": "https://localhost:8080/",
          "height": 53
        },
        "id": "ZYsdGlpsuf_G",
        "outputId": "6e008d07-08b3-4a8e-9086-fecb7c579dc9"
      },
      "id": "ZYsdGlpsuf_G",
      "execution_count": 25,
      "outputs": [
        {
          "output_type": "execute_result",
          "data": {
            "text/plain": [
              "'my credit reports are inaccurate. these inaccuracies are causing creditors to deny me credit. you have the duty to report accurate information about consumers. please investigate these accounts and inquires and update these accounts accordingly to avoid future litigation.'"
            ],
            "application/vnd.google.colaboratory.intrinsic+json": {
              "type": "string"
            }
          },
          "metadata": {},
          "execution_count": 25
        }
      ]
    },
    {
      "cell_type": "markdown",
      "source": [
        "### Tokenize the text"
      ],
      "metadata": {
        "id": "J_gdsXpZucB3"
      },
      "id": "J_gdsXpZucB3"
    },
    {
      "cell_type": "code",
      "source": [
        "nltk.download('punkt')"
      ],
      "metadata": {
        "colab": {
          "base_uri": "https://localhost:8080/"
        },
        "id": "bDJ2MC8ZvVIw",
        "outputId": "11212606-e613-4837-be11-ddfcbb622361"
      },
      "id": "bDJ2MC8ZvVIw",
      "execution_count": 26,
      "outputs": [
        {
          "output_type": "stream",
          "name": "stderr",
          "text": [
            "[nltk_data] Downloading package punkt to /root/nltk_data...\n",
            "[nltk_data]   Unzipping tokenizers/punkt.zip.\n"
          ]
        },
        {
          "output_type": "execute_result",
          "data": {
            "text/plain": [
              "True"
            ]
          },
          "metadata": {},
          "execution_count": 26
        }
      ]
    },
    {
      "cell_type": "code",
      "source": [
        "nltk.download('wordnet')"
      ],
      "metadata": {
        "colab": {
          "base_uri": "https://localhost:8080/"
        },
        "id": "a5_hGM4bvc_H",
        "outputId": "4ca7ee0c-9088-493a-aed7-818701b3f52a"
      },
      "id": "a5_hGM4bvc_H",
      "execution_count": 27,
      "outputs": [
        {
          "output_type": "stream",
          "name": "stderr",
          "text": [
            "[nltk_data] Downloading package wordnet to /root/nltk_data...\n"
          ]
        },
        {
          "output_type": "execute_result",
          "data": {
            "text/plain": [
              "True"
            ]
          },
          "metadata": {},
          "execution_count": 27
        }
      ]
    },
    {
      "cell_type": "code",
      "source": [
        "nltk.download('stopwords')"
      ],
      "metadata": {
        "colab": {
          "base_uri": "https://localhost:8080/"
        },
        "id": "dWxCbX8kviLL",
        "outputId": "d0b10fe7-49a7-4834-9fa9-650fe7fd413a"
      },
      "id": "dWxCbX8kviLL",
      "execution_count": 28,
      "outputs": [
        {
          "output_type": "stream",
          "name": "stderr",
          "text": [
            "[nltk_data] Downloading package stopwords to /root/nltk_data...\n",
            "[nltk_data]   Unzipping corpora/stopwords.zip.\n"
          ]
        },
        {
          "output_type": "execute_result",
          "data": {
            "text/plain": [
              "True"
            ]
          },
          "metadata": {},
          "execution_count": 28
        }
      ]
    },
    {
      "cell_type": "code",
      "source": [
        "tokens = [word_tokenize(c) for c in tqdm(complaints)]"
      ],
      "metadata": {
        "colab": {
          "base_uri": "https://localhost:8080/"
        },
        "id": "IOENVyPIuVK5",
        "outputId": "bce90cd0-75df-4b70-cea5-80e97a16483e"
      },
      "id": "IOENVyPIuVK5",
      "execution_count": 29,
      "outputs": [
        {
          "output_type": "stream",
          "name": "stderr",
          "text": [
            "100%|██████████| 1210091/1210091 [25:40<00:00, 785.63it/s]\n"
          ]
        }
      ]
    },
    {
      "cell_type": "markdown",
      "source": [
        "Here, the function will take all the `complaints` and break them into tokenize and then give a list of `tokens`"
      ],
      "metadata": {
        "id": "0V-uC6-0uySW"
      },
      "id": "0V-uC6-0uySW"
    },
    {
      "cell_type": "code",
      "source": [
        "tokens[13]"
      ],
      "metadata": {
        "colab": {
          "base_uri": "https://localhost:8080/"
        },
        "id": "sn48xVQm2wn5",
        "outputId": "1ae3378c-c5e2-43db-cf78-660a24c02ae5"
      },
      "id": "sn48xVQm2wn5",
      "execution_count": 30,
      "outputs": [
        {
          "output_type": "execute_result",
          "data": {
            "text/plain": [
              "['i',\n",
              " 'am',\n",
              " 'very',\n",
              " 'concerned',\n",
              " 'about',\n",
              " 'the',\n",
              " 'items',\n",
              " 'that',\n",
              " 'are',\n",
              " 'being',\n",
              " 'shown',\n",
              " 'on',\n",
              " 'my',\n",
              " 'credit',\n",
              " 'report',\n",
              " '.',\n",
              " 'not',\n",
              " 'only',\n",
              " 'are',\n",
              " 'they',\n",
              " 'inaccurate',\n",
              " ',',\n",
              " 'they',\n",
              " 'are',\n",
              " 'also',\n",
              " 'unjust',\n",
              " ',',\n",
              " 'because',\n",
              " 'they',\n",
              " 'should',\n",
              " 'not',\n",
              " 'be',\n",
              " 'reporting',\n",
              " 'on',\n",
              " 'my',\n",
              " 'credit',\n",
              " 'report',\n",
              " '!',\n",
              " 'i',\n",
              " 'ask',\n",
              " 'that',\n",
              " 'you',\n",
              " 'delete',\n",
              " 'these',\n",
              " 'accounts',\n",
              " ',',\n",
              " 'or',\n",
              " 'i',\n",
              " 'will',\n",
              " 'be',\n",
              " 'filing',\n",
              " 'a',\n",
              " 'legal',\n",
              " 'complaint',\n",
              " 'against',\n",
              " 'you',\n",
              " '!']"
            ]
          },
          "metadata": {},
          "execution_count": 30
        }
      ]
    },
    {
      "cell_type": "markdown",
      "source": [
        "### Remove Stop-words"
      ],
      "metadata": {
        "id": "xV_vtcyiLfcZ"
      },
      "id": "xV_vtcyiLfcZ"
    },
    {
      "cell_type": "code",
      "source": [
        "sw = stopwords.words(\"english\")"
      ],
      "metadata": {
        "id": "lPRRKj6V2wic"
      },
      "id": "lPRRKj6V2wic",
      "execution_count": 31,
      "outputs": []
    },
    {
      "cell_type": "code",
      "source": [
        "sw[:10]"
      ],
      "metadata": {
        "colab": {
          "base_uri": "https://localhost:8080/"
        },
        "id": "8CuTnEpELqZN",
        "outputId": "ce04f62c-28a2-4548-9870-7168bac8b656"
      },
      "id": "8CuTnEpELqZN",
      "execution_count": 32,
      "outputs": [
        {
          "output_type": "execute_result",
          "data": {
            "text/plain": [
              "['i', 'me', 'my', 'myself', 'we', 'our', 'ours', 'ourselves', 'you', \"you're\"]"
            ]
          },
          "metadata": {},
          "execution_count": 32
        }
      ]
    },
    {
      "cell_type": "code",
      "source": [
        "tokens = [[word for word in t if word not in sw]\n",
        "          for t in tqdm(tokens)]"
      ],
      "metadata": {
        "colab": {
          "base_uri": "https://localhost:8080/"
        },
        "id": "1NopSkRzLsv7",
        "outputId": "1036c5e3-e5bf-4060-dca7-05e037ab7f4c"
      },
      "id": "1NopSkRzLsv7",
      "execution_count": 33,
      "outputs": [
        {
          "output_type": "stream",
          "name": "stderr",
          "text": [
            "100%|██████████| 1210091/1210091 [06:00<00:00, 3360.93it/s]\n"
          ]
        }
      ]
    },
    {
      "cell_type": "markdown",
      "source": [
        "### Remove Punctuation marks"
      ],
      "metadata": {
        "id": "stOTVVUjN9nf"
      },
      "id": "stOTVVUjN9nf"
    },
    {
      "cell_type": "code",
      "source": [
        "tokenizer = RegexpTokenizer(r'\\w+')"
      ],
      "metadata": {
        "id": "Adl1cvBXN4EA"
      },
      "id": "Adl1cvBXN4EA",
      "execution_count": 34,
      "outputs": []
    },
    {
      "cell_type": "code",
      "source": [
        "tokens = [[\"\".join(tokenizer.tokenize(word)) for word in t\n",
        "           if len(tokenizer.tokenize(word)) > 0] for t in tqdm(tokens)]"
      ],
      "metadata": {
        "colab": {
          "base_uri": "https://localhost:8080/"
        },
        "id": "MautiYhxN4DF",
        "outputId": "8260f458-3c31-43b5-fc4b-42632e2fe04b"
      },
      "id": "MautiYhxN4DF",
      "execution_count": 35,
      "outputs": [
        {
          "output_type": "stream",
          "name": "stderr",
          "text": [
            "100%|██████████| 1210091/1210091 [03:38<00:00, 5531.59it/s]\n"
          ]
        }
      ]
    },
    {
      "cell_type": "code",
      "source": [
        "tokens[13]"
      ],
      "metadata": {
        "colab": {
          "base_uri": "https://localhost:8080/"
        },
        "id": "yf0D_yqqN3sL",
        "outputId": "43989b35-d80d-40c9-cdc9-28e055268981"
      },
      "id": "yf0D_yqqN3sL",
      "execution_count": 36,
      "outputs": [
        {
          "output_type": "execute_result",
          "data": {
            "text/plain": [
              "['concerned',\n",
              " 'items',\n",
              " 'shown',\n",
              " 'credit',\n",
              " 'report',\n",
              " 'inaccurate',\n",
              " 'also',\n",
              " 'unjust',\n",
              " 'reporting',\n",
              " 'credit',\n",
              " 'report',\n",
              " 'ask',\n",
              " 'delete',\n",
              " 'accounts',\n",
              " 'filing',\n",
              " 'legal',\n",
              " 'complaint']"
            ]
          },
          "metadata": {},
          "execution_count": 36
        }
      ]
    },
    {
      "cell_type": "code",
      "source": [
        "tokens[0]"
      ],
      "metadata": {
        "colab": {
          "base_uri": "https://localhost:8080/"
        },
        "id": "wzkFkPWJN3eW",
        "outputId": "b423da30-8f9a-408e-d8c6-80a912637341"
      },
      "id": "wzkFkPWJN3eW",
      "execution_count": 37,
      "outputs": [
        {
          "output_type": "execute_result",
          "data": {
            "text/plain": [
              "['xxxx',\n",
              " 'xxxx',\n",
              " 'xxxx',\n",
              " 'submitting',\n",
              " 'complaint',\n",
              " 'third',\n",
              " 'party',\n",
              " 'involved',\n",
              " 'upon',\n",
              " 'reviewing',\n",
              " 'updates',\n",
              " 'incorrect',\n",
              " 'information',\n",
              " 'found',\n",
              " 'still',\n",
              " 'reports',\n",
              " 'transunion',\n",
              " 'xxxx',\n",
              " 'xxxx',\n",
              " 'complied',\n",
              " 'fair',\n",
              " 'credit',\n",
              " 'reporting',\n",
              " 'act',\n",
              " '15',\n",
              " 'usc',\n",
              " 'sections',\n",
              " '1681i',\n",
              " 'continued',\n",
              " 'reporting',\n",
              " 'unverified',\n",
              " 'information',\n",
              " 'without',\n",
              " 'proof',\n",
              " 'provided',\n",
              " 'within',\n",
              " 'time',\n",
              " 'allowed',\n",
              " 'law',\n",
              " 'authorized',\n",
              " 'inquiries',\n",
              " 'still',\n",
              " 'reporting',\n",
              " 'credit',\n",
              " 'reports',\n",
              " 'need',\n",
              " 'delete',\n",
              " 'completely',\n",
              " 'credit',\n",
              " 'report',\n",
              " 'xxxx',\n",
              " 'xxxxxxxx',\n",
              " 'xxxx',\n",
              " 'xxxxxxxx',\n",
              " 'xxxx',\n",
              " 'xxxxxxxx',\n",
              " 'xxxx',\n",
              " 'xxxx',\n",
              " 'xxxxxxxx',\n",
              " 'xxxx',\n",
              " 'xxxxxxxx',\n",
              " 'xxxx',\n",
              " 'xxxx',\n",
              " 'xxxxxxxx',\n",
              " 'xxxx',\n",
              " 'xxxxxxxx',\n",
              " 'xxxx',\n",
              " 'xxxx',\n",
              " 'xxxxxxxx',\n",
              " 'xxxx',\n",
              " 'xxxxxxxx']"
            ]
          },
          "metadata": {},
          "execution_count": 37
        }
      ]
    },
    {
      "cell_type": "markdown",
      "source": [
        "### Remove the `xxxx` and `0000`"
      ],
      "metadata": {
        "id": "ryjyajFAQJhu"
      },
      "id": "ryjyajFAQJhu"
    },
    {
      "cell_type": "code",
      "source": [
        "tokens = [[t for t in token if t not in ['xxxx','xxxxxxxx', '000']] for token in tqdm(tokens)]"
      ],
      "metadata": {
        "colab": {
          "base_uri": "https://localhost:8080/"
        },
        "id": "N5aQVZCIP3Rt",
        "outputId": "ab5be60c-ff82-4270-b6bb-e88042b4487c"
      },
      "id": "N5aQVZCIP3Rt",
      "execution_count": 38,
      "outputs": [
        {
          "output_type": "stream",
          "name": "stderr",
          "text": [
            "100%|██████████| 1210091/1210091 [00:28<00:00, 41734.18it/s]\n"
          ]
        }
      ]
    },
    {
      "cell_type": "code",
      "source": [
        "tokens[0]"
      ],
      "metadata": {
        "colab": {
          "base_uri": "https://localhost:8080/"
        },
        "id": "Fn3_r0WAP3G9",
        "outputId": "b7c8bbb6-76cd-4969-e2c9-4f66ebfbd52c"
      },
      "id": "Fn3_r0WAP3G9",
      "execution_count": 39,
      "outputs": [
        {
          "output_type": "execute_result",
          "data": {
            "text/plain": [
              "['submitting',\n",
              " 'complaint',\n",
              " 'third',\n",
              " 'party',\n",
              " 'involved',\n",
              " 'upon',\n",
              " 'reviewing',\n",
              " 'updates',\n",
              " 'incorrect',\n",
              " 'information',\n",
              " 'found',\n",
              " 'still',\n",
              " 'reports',\n",
              " 'transunion',\n",
              " 'complied',\n",
              " 'fair',\n",
              " 'credit',\n",
              " 'reporting',\n",
              " 'act',\n",
              " '15',\n",
              " 'usc',\n",
              " 'sections',\n",
              " '1681i',\n",
              " 'continued',\n",
              " 'reporting',\n",
              " 'unverified',\n",
              " 'information',\n",
              " 'without',\n",
              " 'proof',\n",
              " 'provided',\n",
              " 'within',\n",
              " 'time',\n",
              " 'allowed',\n",
              " 'law',\n",
              " 'authorized',\n",
              " 'inquiries',\n",
              " 'still',\n",
              " 'reporting',\n",
              " 'credit',\n",
              " 'reports',\n",
              " 'need',\n",
              " 'delete',\n",
              " 'completely',\n",
              " 'credit',\n",
              " 'report']"
            ]
          },
          "metadata": {},
          "execution_count": 39
        }
      ]
    },
    {
      "cell_type": "markdown",
      "source": [
        "## Data"
      ],
      "metadata": {
        "id": "65fWig4kRMLn"
      },
      "id": "65fWig4kRMLn"
    },
    {
      "cell_type": "code",
      "source": [
        "data[\"clean_complaints\"] = tokens"
      ],
      "metadata": {
        "colab": {
          "base_uri": "https://localhost:8080/"
        },
        "id": "Z49Q5uGkP2tR",
        "outputId": "d5cf3333-ace4-4a4a-c87a-445168cf37b6"
      },
      "id": "Z49Q5uGkP2tR",
      "execution_count": 40,
      "outputs": [
        {
          "output_type": "stream",
          "name": "stderr",
          "text": [
            "<ipython-input-40-9ba6f2e602ec>:1: SettingWithCopyWarning: \n",
            "A value is trying to be set on a copy of a slice from a DataFrame.\n",
            "Try using .loc[row_indexer,col_indexer] = value instead\n",
            "\n",
            "See the caveats in the documentation: https://pandas.pydata.org/pandas-docs/stable/user_guide/indexing.html#returning-a-view-versus-a-copy\n",
            "  data[\"clean_complaints\"] = tokens\n"
          ]
        }
      ]
    },
    {
      "cell_type": "code",
      "source": [
        "data.head()"
      ],
      "metadata": {
        "colab": {
          "base_uri": "https://localhost:8080/",
          "height": 206
        },
        "id": "Hh589IySRUWd",
        "outputId": "dbd3a72b-da94-4913-eae5-1b96f0c1935f"
      },
      "id": "Hh589IySRUWd",
      "execution_count": 41,
      "outputs": [
        {
          "output_type": "execute_result",
          "data": {
            "text/plain": [
              "          Product                     Sub-product  \\\n",
              "4   credit_report                Credit reporting   \n",
              "7   credit_report                Credit reporting   \n",
              "11  credit_report                Credit reporting   \n",
              "21  credit_report                Credit reporting   \n",
              "23           loan  Federal student loan servicing   \n",
              "\n",
              "                                            Complaint  \\\n",
              "4   I am XXXX XXXX XXXX and I am submitting this c...   \n",
              "7   in accordance with the Fair Credit Reporting a...   \n",
              "11  Unauthorized inquiries were discovered on my m...   \n",
              "21  I am very concerned about the items that are b...   \n",
              "23  I applied to refinance my student loans with C...   \n",
              "\n",
              "                                     clean_complaints  \n",
              "4   [submitting, complaint, third, party, involved...  \n",
              "7   [accordance, fair, credit, reporting, act, acc...  \n",
              "11  [unauthorized, inquiries, discovered, recent, ...  \n",
              "21  [concerned, items, shown, credit, report, inac...  \n",
              "23  [applied, refinance, student, loans, citizens,...  "
            ],
            "text/html": [
              "\n",
              "  <div id=\"df-47bf9a35-6467-4d64-a6c0-a2d67579e6a5\">\n",
              "    <div class=\"colab-df-container\">\n",
              "      <div>\n",
              "<style scoped>\n",
              "    .dataframe tbody tr th:only-of-type {\n",
              "        vertical-align: middle;\n",
              "    }\n",
              "\n",
              "    .dataframe tbody tr th {\n",
              "        vertical-align: top;\n",
              "    }\n",
              "\n",
              "    .dataframe thead th {\n",
              "        text-align: right;\n",
              "    }\n",
              "</style>\n",
              "<table border=\"1\" class=\"dataframe\">\n",
              "  <thead>\n",
              "    <tr style=\"text-align: right;\">\n",
              "      <th></th>\n",
              "      <th>Product</th>\n",
              "      <th>Sub-product</th>\n",
              "      <th>Complaint</th>\n",
              "      <th>clean_complaints</th>\n",
              "    </tr>\n",
              "  </thead>\n",
              "  <tbody>\n",
              "    <tr>\n",
              "      <th>4</th>\n",
              "      <td>credit_report</td>\n",
              "      <td>Credit reporting</td>\n",
              "      <td>I am XXXX XXXX XXXX and I am submitting this c...</td>\n",
              "      <td>[submitting, complaint, third, party, involved...</td>\n",
              "    </tr>\n",
              "    <tr>\n",
              "      <th>7</th>\n",
              "      <td>credit_report</td>\n",
              "      <td>Credit reporting</td>\n",
              "      <td>in accordance with the Fair Credit Reporting a...</td>\n",
              "      <td>[accordance, fair, credit, reporting, act, acc...</td>\n",
              "    </tr>\n",
              "    <tr>\n",
              "      <th>11</th>\n",
              "      <td>credit_report</td>\n",
              "      <td>Credit reporting</td>\n",
              "      <td>Unauthorized inquiries were discovered on my m...</td>\n",
              "      <td>[unauthorized, inquiries, discovered, recent, ...</td>\n",
              "    </tr>\n",
              "    <tr>\n",
              "      <th>21</th>\n",
              "      <td>credit_report</td>\n",
              "      <td>Credit reporting</td>\n",
              "      <td>I am very concerned about the items that are b...</td>\n",
              "      <td>[concerned, items, shown, credit, report, inac...</td>\n",
              "    </tr>\n",
              "    <tr>\n",
              "      <th>23</th>\n",
              "      <td>loan</td>\n",
              "      <td>Federal student loan servicing</td>\n",
              "      <td>I applied to refinance my student loans with C...</td>\n",
              "      <td>[applied, refinance, student, loans, citizens,...</td>\n",
              "    </tr>\n",
              "  </tbody>\n",
              "</table>\n",
              "</div>\n",
              "      <button class=\"colab-df-convert\" onclick=\"convertToInteractive('df-47bf9a35-6467-4d64-a6c0-a2d67579e6a5')\"\n",
              "              title=\"Convert this dataframe to an interactive table.\"\n",
              "              style=\"display:none;\">\n",
              "        \n",
              "  <svg xmlns=\"http://www.w3.org/2000/svg\" height=\"24px\"viewBox=\"0 0 24 24\"\n",
              "       width=\"24px\">\n",
              "    <path d=\"M0 0h24v24H0V0z\" fill=\"none\"/>\n",
              "    <path d=\"M18.56 5.44l.94 2.06.94-2.06 2.06-.94-2.06-.94-.94-2.06-.94 2.06-2.06.94zm-11 1L8.5 8.5l.94-2.06 2.06-.94-2.06-.94L8.5 2.5l-.94 2.06-2.06.94zm10 10l.94 2.06.94-2.06 2.06-.94-2.06-.94-.94-2.06-.94 2.06-2.06.94z\"/><path d=\"M17.41 7.96l-1.37-1.37c-.4-.4-.92-.59-1.43-.59-.52 0-1.04.2-1.43.59L10.3 9.45l-7.72 7.72c-.78.78-.78 2.05 0 2.83L4 21.41c.39.39.9.59 1.41.59.51 0 1.02-.2 1.41-.59l7.78-7.78 2.81-2.81c.8-.78.8-2.07 0-2.86zM5.41 20L4 18.59l7.72-7.72 1.47 1.35L5.41 20z\"/>\n",
              "  </svg>\n",
              "      </button>\n",
              "      \n",
              "  <style>\n",
              "    .colab-df-container {\n",
              "      display:flex;\n",
              "      flex-wrap:wrap;\n",
              "      gap: 12px;\n",
              "    }\n",
              "\n",
              "    .colab-df-convert {\n",
              "      background-color: #E8F0FE;\n",
              "      border: none;\n",
              "      border-radius: 50%;\n",
              "      cursor: pointer;\n",
              "      display: none;\n",
              "      fill: #1967D2;\n",
              "      height: 32px;\n",
              "      padding: 0 0 0 0;\n",
              "      width: 32px;\n",
              "    }\n",
              "\n",
              "    .colab-df-convert:hover {\n",
              "      background-color: #E2EBFA;\n",
              "      box-shadow: 0px 1px 2px rgba(60, 64, 67, 0.3), 0px 1px 3px 1px rgba(60, 64, 67, 0.15);\n",
              "      fill: #174EA6;\n",
              "    }\n",
              "\n",
              "    [theme=dark] .colab-df-convert {\n",
              "      background-color: #3B4455;\n",
              "      fill: #D2E3FC;\n",
              "    }\n",
              "\n",
              "    [theme=dark] .colab-df-convert:hover {\n",
              "      background-color: #434B5C;\n",
              "      box-shadow: 0px 1px 3px 1px rgba(0, 0, 0, 0.15);\n",
              "      filter: drop-shadow(0px 1px 2px rgba(0, 0, 0, 0.3));\n",
              "      fill: #FFFFFF;\n",
              "    }\n",
              "  </style>\n",
              "\n",
              "      <script>\n",
              "        const buttonEl =\n",
              "          document.querySelector('#df-47bf9a35-6467-4d64-a6c0-a2d67579e6a5 button.colab-df-convert');\n",
              "        buttonEl.style.display =\n",
              "          google.colab.kernel.accessAllowed ? 'block' : 'none';\n",
              "\n",
              "        async function convertToInteractive(key) {\n",
              "          const element = document.querySelector('#df-47bf9a35-6467-4d64-a6c0-a2d67579e6a5');\n",
              "          const dataTable =\n",
              "            await google.colab.kernel.invokeFunction('convertToInteractive',\n",
              "                                                     [key], {});\n",
              "          if (!dataTable) return;\n",
              "\n",
              "          const docLinkHtml = 'Like what you see? Visit the ' +\n",
              "            '<a target=\"_blank\" href=https://colab.research.google.com/notebooks/data_table.ipynb>data table notebook</a>'\n",
              "            + ' to learn more about interactive tables.';\n",
              "          element.innerHTML = '';\n",
              "          dataTable['output_type'] = 'display_data';\n",
              "          await google.colab.output.renderOutput(dataTable, element);\n",
              "          const docLink = document.createElement('div');\n",
              "          docLink.innerHTML = docLinkHtml;\n",
              "          element.appendChild(docLink);\n",
              "        }\n",
              "      </script>\n",
              "    </div>\n",
              "  </div>\n",
              "  "
            ]
          },
          "metadata": {},
          "execution_count": 41
        }
      ]
    },
    {
      "cell_type": "markdown",
      "source": [
        "**Let's pick one product type, and check them out**"
      ],
      "metadata": {
        "id": "gpokdwC5Ukec"
      },
      "id": "gpokdwC5Ukec"
    },
    {
      "cell_type": "code",
      "source": [
        "# Drop the 'Sub-product' column\n",
        "data = data.drop('Sub-product', axis=1)\n",
        "data.head()"
      ],
      "metadata": {
        "colab": {
          "base_uri": "https://localhost:8080/",
          "height": 206
        },
        "id": "ESZtJGGoVBgg",
        "outputId": "632a3676-33b9-407d-cab9-87e7e353bb29"
      },
      "id": "ESZtJGGoVBgg",
      "execution_count": 42,
      "outputs": [
        {
          "output_type": "execute_result",
          "data": {
            "text/plain": [
              "          Product                                          Complaint  \\\n",
              "4   credit_report  I am XXXX XXXX XXXX and I am submitting this c...   \n",
              "7   credit_report  in accordance with the Fair Credit Reporting a...   \n",
              "11  credit_report  Unauthorized inquiries were discovered on my m...   \n",
              "21  credit_report  I am very concerned about the items that are b...   \n",
              "23           loan  I applied to refinance my student loans with C...   \n",
              "\n",
              "                                     clean_complaints  \n",
              "4   [submitting, complaint, third, party, involved...  \n",
              "7   [accordance, fair, credit, reporting, act, acc...  \n",
              "11  [unauthorized, inquiries, discovered, recent, ...  \n",
              "21  [concerned, items, shown, credit, report, inac...  \n",
              "23  [applied, refinance, student, loans, citizens,...  "
            ],
            "text/html": [
              "\n",
              "  <div id=\"df-47146ae7-523a-4b64-a796-cbc017b2aade\">\n",
              "    <div class=\"colab-df-container\">\n",
              "      <div>\n",
              "<style scoped>\n",
              "    .dataframe tbody tr th:only-of-type {\n",
              "        vertical-align: middle;\n",
              "    }\n",
              "\n",
              "    .dataframe tbody tr th {\n",
              "        vertical-align: top;\n",
              "    }\n",
              "\n",
              "    .dataframe thead th {\n",
              "        text-align: right;\n",
              "    }\n",
              "</style>\n",
              "<table border=\"1\" class=\"dataframe\">\n",
              "  <thead>\n",
              "    <tr style=\"text-align: right;\">\n",
              "      <th></th>\n",
              "      <th>Product</th>\n",
              "      <th>Complaint</th>\n",
              "      <th>clean_complaints</th>\n",
              "    </tr>\n",
              "  </thead>\n",
              "  <tbody>\n",
              "    <tr>\n",
              "      <th>4</th>\n",
              "      <td>credit_report</td>\n",
              "      <td>I am XXXX XXXX XXXX and I am submitting this c...</td>\n",
              "      <td>[submitting, complaint, third, party, involved...</td>\n",
              "    </tr>\n",
              "    <tr>\n",
              "      <th>7</th>\n",
              "      <td>credit_report</td>\n",
              "      <td>in accordance with the Fair Credit Reporting a...</td>\n",
              "      <td>[accordance, fair, credit, reporting, act, acc...</td>\n",
              "    </tr>\n",
              "    <tr>\n",
              "      <th>11</th>\n",
              "      <td>credit_report</td>\n",
              "      <td>Unauthorized inquiries were discovered on my m...</td>\n",
              "      <td>[unauthorized, inquiries, discovered, recent, ...</td>\n",
              "    </tr>\n",
              "    <tr>\n",
              "      <th>21</th>\n",
              "      <td>credit_report</td>\n",
              "      <td>I am very concerned about the items that are b...</td>\n",
              "      <td>[concerned, items, shown, credit, report, inac...</td>\n",
              "    </tr>\n",
              "    <tr>\n",
              "      <th>23</th>\n",
              "      <td>loan</td>\n",
              "      <td>I applied to refinance my student loans with C...</td>\n",
              "      <td>[applied, refinance, student, loans, citizens,...</td>\n",
              "    </tr>\n",
              "  </tbody>\n",
              "</table>\n",
              "</div>\n",
              "      <button class=\"colab-df-convert\" onclick=\"convertToInteractive('df-47146ae7-523a-4b64-a796-cbc017b2aade')\"\n",
              "              title=\"Convert this dataframe to an interactive table.\"\n",
              "              style=\"display:none;\">\n",
              "        \n",
              "  <svg xmlns=\"http://www.w3.org/2000/svg\" height=\"24px\"viewBox=\"0 0 24 24\"\n",
              "       width=\"24px\">\n",
              "    <path d=\"M0 0h24v24H0V0z\" fill=\"none\"/>\n",
              "    <path d=\"M18.56 5.44l.94 2.06.94-2.06 2.06-.94-2.06-.94-.94-2.06-.94 2.06-2.06.94zm-11 1L8.5 8.5l.94-2.06 2.06-.94-2.06-.94L8.5 2.5l-.94 2.06-2.06.94zm10 10l.94 2.06.94-2.06 2.06-.94-2.06-.94-.94-2.06-.94 2.06-2.06.94z\"/><path d=\"M17.41 7.96l-1.37-1.37c-.4-.4-.92-.59-1.43-.59-.52 0-1.04.2-1.43.59L10.3 9.45l-7.72 7.72c-.78.78-.78 2.05 0 2.83L4 21.41c.39.39.9.59 1.41.59.51 0 1.02-.2 1.41-.59l7.78-7.78 2.81-2.81c.8-.78.8-2.07 0-2.86zM5.41 20L4 18.59l7.72-7.72 1.47 1.35L5.41 20z\"/>\n",
              "  </svg>\n",
              "      </button>\n",
              "      \n",
              "  <style>\n",
              "    .colab-df-container {\n",
              "      display:flex;\n",
              "      flex-wrap:wrap;\n",
              "      gap: 12px;\n",
              "    }\n",
              "\n",
              "    .colab-df-convert {\n",
              "      background-color: #E8F0FE;\n",
              "      border: none;\n",
              "      border-radius: 50%;\n",
              "      cursor: pointer;\n",
              "      display: none;\n",
              "      fill: #1967D2;\n",
              "      height: 32px;\n",
              "      padding: 0 0 0 0;\n",
              "      width: 32px;\n",
              "    }\n",
              "\n",
              "    .colab-df-convert:hover {\n",
              "      background-color: #E2EBFA;\n",
              "      box-shadow: 0px 1px 2px rgba(60, 64, 67, 0.3), 0px 1px 3px 1px rgba(60, 64, 67, 0.15);\n",
              "      fill: #174EA6;\n",
              "    }\n",
              "\n",
              "    [theme=dark] .colab-df-convert {\n",
              "      background-color: #3B4455;\n",
              "      fill: #D2E3FC;\n",
              "    }\n",
              "\n",
              "    [theme=dark] .colab-df-convert:hover {\n",
              "      background-color: #434B5C;\n",
              "      box-shadow: 0px 1px 3px 1px rgba(0, 0, 0, 0.15);\n",
              "      filter: drop-shadow(0px 1px 2px rgba(0, 0, 0, 0.3));\n",
              "      fill: #FFFFFF;\n",
              "    }\n",
              "  </style>\n",
              "\n",
              "      <script>\n",
              "        const buttonEl =\n",
              "          document.querySelector('#df-47146ae7-523a-4b64-a796-cbc017b2aade button.colab-df-convert');\n",
              "        buttonEl.style.display =\n",
              "          google.colab.kernel.accessAllowed ? 'block' : 'none';\n",
              "\n",
              "        async function convertToInteractive(key) {\n",
              "          const element = document.querySelector('#df-47146ae7-523a-4b64-a796-cbc017b2aade');\n",
              "          const dataTable =\n",
              "            await google.colab.kernel.invokeFunction('convertToInteractive',\n",
              "                                                     [key], {});\n",
              "          if (!dataTable) return;\n",
              "\n",
              "          const docLinkHtml = 'Like what you see? Visit the ' +\n",
              "            '<a target=\"_blank\" href=https://colab.research.google.com/notebooks/data_table.ipynb>data table notebook</a>'\n",
              "            + ' to learn more about interactive tables.';\n",
              "          element.innerHTML = '';\n",
              "          dataTable['output_type'] = 'display_data';\n",
              "          await google.colab.output.renderOutput(dataTable, element);\n",
              "          const docLink = document.createElement('div');\n",
              "          docLink.innerHTML = docLinkHtml;\n",
              "          element.appendChild(docLink);\n",
              "        }\n",
              "      </script>\n",
              "    </div>\n",
              "  </div>\n",
              "  "
            ]
          },
          "metadata": {},
          "execution_count": 42
        }
      ]
    },
    {
      "cell_type": "markdown",
      "source": [
        "### Loan"
      ],
      "metadata": {
        "id": "zjOWHF4qV4CU"
      },
      "id": "zjOWHF4qV4CU"
    },
    {
      "cell_type": "code",
      "source": [
        "loan_complaints = list(data[data[\"Product\"] == \"loan\"][\"clean_complaints\"])"
      ],
      "metadata": {
        "id": "Wb0XbA-YRdW9"
      },
      "id": "Wb0XbA-YRdW9",
      "execution_count": 43,
      "outputs": []
    },
    {
      "cell_type": "code",
      "source": [
        "loan_complaints = [token for complaint in tqdm(loan_complaints) for token in complaint]"
      ],
      "metadata": {
        "colab": {
          "base_uri": "https://localhost:8080/"
        },
        "id": "ctt1W9XqVXXj",
        "outputId": "7c498e71-bd29-465f-8745-e90a633ddbc6"
      },
      "id": "ctt1W9XqVXXj",
      "execution_count": 44,
      "outputs": [
        {
          "output_type": "stream",
          "name": "stderr",
          "text": [
            "100%|██████████| 58871/58871 [00:00<00:00, 157269.80it/s]\n"
          ]
        }
      ]
    },
    {
      "cell_type": "code",
      "source": [
        "counter = Counter(loan_complaints)\n",
        "counter.most_common(10)"
      ],
      "metadata": {
        "colab": {
          "base_uri": "https://localhost:8080/"
        },
        "id": "ViuBwzBgVXPx",
        "outputId": "92f0152c-b7e3-43f9-fd9a-8d5a3c9e3dc2"
      },
      "id": "ViuBwzBgVXPx",
      "execution_count": 45,
      "outputs": [
        {
          "output_type": "execute_result",
          "data": {
            "text/plain": [
              "[('loan', 126090),\n",
              " ('payment', 79067),\n",
              " ('payments', 64019),\n",
              " ('would', 59282),\n",
              " ('loans', 58179),\n",
              " ('account', 52973),\n",
              " ('credit', 48875),\n",
              " ('told', 44001),\n",
              " ('pay', 40136),\n",
              " ('interest', 39265)]"
            ]
          },
          "metadata": {},
          "execution_count": 45
        }
      ]
    },
    {
      "cell_type": "markdown",
      "source": [
        "### Card"
      ],
      "metadata": {
        "id": "gEhNk6wxV8fK"
      },
      "id": "gEhNk6wxV8fK"
    },
    {
      "cell_type": "code",
      "source": [
        "card_complaints = list(data[data[\"Product\"] == \"card\"][\"clean_complaints\"])"
      ],
      "metadata": {
        "id": "7zgKq7F3Vr3G"
      },
      "id": "7zgKq7F3Vr3G",
      "execution_count": 46,
      "outputs": []
    },
    {
      "cell_type": "code",
      "source": [
        "# Flatten the list\n",
        "card_complaints = [token for complaint in tqdm(card_complaints) for token in complaint]"
      ],
      "metadata": {
        "colab": {
          "base_uri": "https://localhost:8080/"
        },
        "id": "xzJ6HbnKWFUb",
        "outputId": "f2290a10-bf41-4d3f-80a6-595c6fb13ab2"
      },
      "id": "xzJ6HbnKWFUb",
      "execution_count": 47,
      "outputs": [
        {
          "output_type": "stream",
          "name": "stderr",
          "text": [
            "100%|██████████| 92653/92653 [00:00<00:00, 162231.63it/s]\n"
          ]
        }
      ]
    },
    {
      "cell_type": "code",
      "source": [
        "counter = Counter(card_complaints)\n",
        "counter.most_common(10)"
      ],
      "metadata": {
        "colab": {
          "base_uri": "https://localhost:8080/"
        },
        "id": "eAbISj7mWPIO",
        "outputId": "a5f1075c-b11d-475e-bbc4-c073788edea0"
      },
      "id": "eAbISj7mWPIO",
      "execution_count": 48,
      "outputs": [
        {
          "output_type": "execute_result",
          "data": {
            "text/plain": [
              "[('card', 216829),\n",
              " ('credit', 201068),\n",
              " ('account', 162933),\n",
              " ('would', 81136),\n",
              " ('bank', 80129),\n",
              " ('payment', 74800),\n",
              " ('told', 64709),\n",
              " ('one', 64096),\n",
              " ('called', 62398),\n",
              " ('received', 61132)]"
            ]
          },
          "metadata": {},
          "execution_count": 48
        }
      ]
    },
    {
      "cell_type": "markdown",
      "source": [
        "### Checking for unique tokens in the whole dataset"
      ],
      "metadata": {
        "id": "AAxP5aeoW_s3"
      },
      "id": "AAxP5aeoW_s3"
    },
    {
      "cell_type": "code",
      "source": [
        "counter = Counter([t for complaint in tqdm(tokens) for t in complaint])"
      ],
      "metadata": {
        "colab": {
          "base_uri": "https://localhost:8080/"
        },
        "id": "2Fi06GVWWO5Q",
        "outputId": "8f588853-5d90-4a87-9d26-aec472a62a2c"
      },
      "id": "2Fi06GVWWO5Q",
      "execution_count": 49,
      "outputs": [
        {
          "output_type": "stream",
          "name": "stderr",
          "text": [
            "100%|██████████| 1210091/1210091 [00:04<00:00, 261872.29it/s]\n"
          ]
        }
      ]
    },
    {
      "cell_type": "code",
      "source": [
        "counter.most_common(10)"
      ],
      "metadata": {
        "colab": {
          "base_uri": "https://localhost:8080/"
        },
        "id": "uSrL3tf5XQO1",
        "outputId": "b6b6e927-e299-4708-9d07-3bb1027bada3"
      },
      "id": "uSrL3tf5XQO1",
      "execution_count": 50,
      "outputs": [
        {
          "output_type": "execute_result",
          "data": {
            "text/plain": [
              "[('credit', 2120311),\n",
              " ('account', 1766995),\n",
              " ('report', 1073095),\n",
              " ('information', 1055408),\n",
              " ('reporting', 788274),\n",
              " ('consumer', 654333),\n",
              " ('payment', 622153),\n",
              " ('would', 599043),\n",
              " ('debt', 568983),\n",
              " ('loan', 522564)]"
            ]
          },
          "metadata": {},
          "execution_count": 50
        }
      ]
    },
    {
      "cell_type": "code",
      "source": [
        "print(f\"We have {len(counter.keys())} unique tokens in the dataset\")"
      ],
      "metadata": {
        "colab": {
          "base_uri": "https://localhost:8080/"
        },
        "id": "8IjoAzSvXS3K",
        "outputId": "dd9636f5-61e0-4daf-e399-c4b40686b31a"
      },
      "id": "8IjoAzSvXS3K",
      "execution_count": 51,
      "outputs": [
        {
          "output_type": "stream",
          "name": "stdout",
          "text": [
            "We have 281791 unique tokens in the dataset\n"
          ]
        }
      ]
    },
    {
      "cell_type": "code",
      "source": [
        "clean_complaints = [\" \".join(complaint) for complaint in tqdm(tokens)]"
      ],
      "metadata": {
        "colab": {
          "base_uri": "https://localhost:8080/"
        },
        "id": "1ApjuQx9XvZJ",
        "outputId": "ad1a4883-8ef1-4855-e6f0-862382350245"
      },
      "id": "1ApjuQx9XvZJ",
      "execution_count": 52,
      "outputs": [
        {
          "output_type": "stream",
          "name": "stderr",
          "text": [
            "100%|██████████| 1210091/1210091 [00:03<00:00, 339595.46it/s]\n"
          ]
        }
      ]
    },
    {
      "cell_type": "code",
      "source": [
        "clean_complaints[13]"
      ],
      "metadata": {
        "colab": {
          "base_uri": "https://localhost:8080/",
          "height": 35
        },
        "id": "aGPKHuCEXvWf",
        "outputId": "4402dbee-ea08-4f73-918b-72b98235daa8"
      },
      "id": "aGPKHuCEXvWf",
      "execution_count": 53,
      "outputs": [
        {
          "output_type": "execute_result",
          "data": {
            "text/plain": [
              "'concerned items shown credit report inaccurate also unjust reporting credit report ask delete accounts filing legal complaint'"
            ],
            "application/vnd.google.colaboratory.intrinsic+json": {
              "type": "string"
            }
          },
          "metadata": {},
          "execution_count": 53
        }
      ]
    },
    {
      "cell_type": "code",
      "source": [
        "clean_complaints[0]"
      ],
      "metadata": {
        "colab": {
          "base_uri": "https://localhost:8080/",
          "height": 71
        },
        "id": "xisdDOa1XvTy",
        "outputId": "0fe78af4-d749-4eb4-b56b-35ac60312c6c"
      },
      "id": "xisdDOa1XvTy",
      "execution_count": 54,
      "outputs": [
        {
          "output_type": "execute_result",
          "data": {
            "text/plain": [
              "'submitting complaint third party involved upon reviewing updates incorrect information found still reports transunion complied fair credit reporting act 15 usc sections 1681i continued reporting unverified information without proof provided within time allowed law authorized inquiries still reporting credit reports need delete completely credit report'"
            ],
            "application/vnd.google.colaboratory.intrinsic+json": {
              "type": "string"
            }
          },
          "metadata": {},
          "execution_count": 54
        }
      ]
    },
    {
      "cell_type": "code",
      "source": [
        "clean_complaints[3401]"
      ],
      "metadata": {
        "colab": {
          "base_uri": "https://localhost:8080/",
          "height": 53
        },
        "id": "-xr9YEZxXvQ9",
        "outputId": "68678357-a540-4793-cbbb-7a9d2278524c"
      },
      "id": "-xr9YEZxXvQ9",
      "execution_count": 55,
      "outputs": [
        {
          "output_type": "execute_result",
          "data": {
            "text/plain": [
              "'credit reports inaccurate inaccuracies causing creditors deny credit duty report accurate information consumers please investigate accounts inquires update accounts accordingly avoid future litigation'"
            ],
            "application/vnd.google.colaboratory.intrinsic+json": {
              "type": "string"
            }
          },
          "metadata": {},
          "execution_count": 55
        }
      ]
    },
    {
      "cell_type": "markdown",
      "source": [
        "## Vectorize the Data"
      ],
      "metadata": {
        "id": "2GgvNCsrYuq7"
      },
      "id": "2GgvNCsrYuq7"
    },
    {
      "cell_type": "code",
      "source": [
        "vect = CountVectorizer(min_df=200)"
      ],
      "metadata": {
        "id": "E4fRyh01XvHC"
      },
      "id": "E4fRyh01XvHC",
      "execution_count": 56,
      "outputs": []
    },
    {
      "cell_type": "markdown",
      "source": [
        "**The `min_df=200` parameter sets the minimum document frequency for the CountVectorizer. This means that only terms that appear in at least `200` documents will be included in the vocabulary. Terms that appear in fewer than `200` documents will be ignored.**\n",
        "\n",
        "\n"
      ],
      "metadata": {
        "id": "uw69gwC3Y9Up"
      },
      "id": "uw69gwC3Y9Up"
    },
    {
      "cell_type": "code",
      "source": [
        "X = vect.fit_transform(clean_complaints)"
      ],
      "metadata": {
        "id": "OJ3EUA64Xu_k"
      },
      "id": "OJ3EUA64Xu_k",
      "execution_count": 57,
      "outputs": []
    },
    {
      "cell_type": "code",
      "source": [
        "X.shape"
      ],
      "metadata": {
        "colab": {
          "base_uri": "https://localhost:8080/"
        },
        "id": "KHBQI_mBXu5F",
        "outputId": "8aa09276-f780-4196-ff40-6b718a45f82b"
      },
      "id": "KHBQI_mBXu5F",
      "execution_count": 58,
      "outputs": [
        {
          "output_type": "execute_result",
          "data": {
            "text/plain": [
              "(1210091, 9677)"
            ]
          },
          "metadata": {},
          "execution_count": 58
        }
      ]
    },
    {
      "cell_type": "code",
      "source": [
        "y = data[\"Product\"]"
      ],
      "metadata": {
        "id": "0WutL7WGXu1V"
      },
      "id": "0WutL7WGXu1V",
      "execution_count": 59,
      "outputs": []
    },
    {
      "cell_type": "markdown",
      "source": [
        "## Model Building"
      ],
      "metadata": {
        "id": "zV1BN1UuaQL9"
      },
      "id": "zV1BN1UuaQL9"
    },
    {
      "cell_type": "markdown",
      "source": [
        "### Train | Test Split"
      ],
      "metadata": {
        "id": "1DWWUYlebQhp"
      },
      "id": "1DWWUYlebQhp"
    },
    {
      "cell_type": "code",
      "source": [
        "X_train, X_test, y_train, y_test = train_test_split(X, y, test_size=0.2, stratify=y, random_state=42)\n",
        "\n",
        "print(f\"X_train: {X_train.shape}\")\n",
        "print(f\"X_test: {X_test.shape}\")\n",
        "print(f\"y_train: {y_train.shape}\")\n",
        "print(f\"y_test: {y_test.shape}\")"
      ],
      "metadata": {
        "colab": {
          "base_uri": "https://localhost:8080/"
        },
        "id": "lu4iaeuwXuqV",
        "outputId": "fc10e4b3-f21f-4cec-be69-f1f91124e22e"
      },
      "id": "lu4iaeuwXuqV",
      "execution_count": 60,
      "outputs": [
        {
          "output_type": "stream",
          "name": "stdout",
          "text": [
            "X_train: (968072, 9677)\n",
            "X_test: (242019, 9677)\n",
            "y_train: (968072,)\n",
            "y_test: (242019,)\n"
          ]
        }
      ]
    },
    {
      "cell_type": "markdown",
      "source": [
        "**The `stratify=y` parameter ensures that the proportion of classes in the training and test sets is the same as in the original data.**"
      ],
      "metadata": {
        "id": "zhWzav6dbLp9"
      },
      "id": "zhWzav6dbLp9"
    },
    {
      "cell_type": "markdown",
      "source": [
        "### Model Training"
      ],
      "metadata": {
        "id": "isrgCMvUbW16"
      },
      "id": "isrgCMvUbW16"
    },
    {
      "cell_type": "code",
      "source": [
        "# MultiNomial Naive Bayes\n",
        "model = MultinomialNB()\n",
        "model.fit(X_train, y_train)\n",
        "\n",
        "# Predict on the test data\n",
        "test_pred = model.predict(X_test)\n",
        "\n",
        "accuracy_score(y_test, test_pred)"
      ],
      "metadata": {
        "colab": {
          "base_uri": "https://localhost:8080/"
        },
        "id": "YyfUHHNjXun2",
        "outputId": "7a709585-ca8b-4ae6-c1f4-30c3618f703e"
      },
      "id": "YyfUHHNjXun2",
      "execution_count": 61,
      "outputs": [
        {
          "output_type": "execute_result",
          "data": {
            "text/plain": [
              "0.7947351241018267"
            ]
          },
          "metadata": {},
          "execution_count": 61
        }
      ]
    },
    {
      "cell_type": "code",
      "source": [
        "# MultiNomial Naive Bayes\n",
        "logreg_model = LogisticRegression()\n",
        "logreg_model.fit(X_train, y_train)\n",
        "\n",
        "# Predict on the test data\n",
        "test_pred = logreg_model.predict(X_test)\n",
        "\n",
        "accuracy_score(y_test, test_pred)"
      ],
      "metadata": {
        "colab": {
          "base_uri": "https://localhost:8080/"
        },
        "id": "-ShZS4t0gztF",
        "outputId": "053f49d1-e0d6-49aa-d40f-f56614f44212"
      },
      "id": "-ShZS4t0gztF",
      "execution_count": 62,
      "outputs": [
        {
          "output_type": "stream",
          "name": "stderr",
          "text": [
            "/usr/local/lib/python3.9/dist-packages/sklearn/linear_model/_logistic.py:458: ConvergenceWarning: lbfgs failed to converge (status=1):\n",
            "STOP: TOTAL NO. of ITERATIONS REACHED LIMIT.\n",
            "\n",
            "Increase the number of iterations (max_iter) or scale the data as shown in:\n",
            "    https://scikit-learn.org/stable/modules/preprocessing.html\n",
            "Please also refer to the documentation for alternative solver options:\n",
            "    https://scikit-learn.org/stable/modules/linear_model.html#logistic-regression\n",
            "  n_iter_i = _check_optimize_result(\n"
          ]
        },
        {
          "output_type": "execute_result",
          "data": {
            "text/plain": [
              "0.8432478441775233"
            ]
          },
          "metadata": {},
          "execution_count": 62
        }
      ]
    },
    {
      "cell_type": "code",
      "source": [
        "# Correlation Matrix\n",
        "conf_mat = confusion_matrix(y_test, test_pred)\n",
        "corr = pd.DataFrame(conf_mat, columns = logreg_model.classes_, index = logreg_model.classes_)\n",
        "\n",
        "sns.heatmap(corr)\n",
        "plt.show()"
      ],
      "metadata": {
        "colab": {
          "base_uri": "https://localhost:8080/",
          "height": 531
        },
        "id": "VdTRMEbzf46b",
        "outputId": "aa9c86b1-c887-4b1f-c3ca-d1461ba90d65"
      },
      "id": "VdTRMEbzf46b",
      "execution_count": 65,
      "outputs": [
        {
          "output_type": "display_data",
          "data": {
            "text/plain": [
              "<Figure size 640x480 with 2 Axes>"
            ],
            "image/png": "[encoded data removed]"
          },
          "metadata": {}
        }
      ]
    },
    {
      "cell_type": "code",
      "source": [
        "corr"
      ],
      "metadata": {
        "colab": {
          "base_uri": "https://localhost:8080/",
          "height": 332
        },
        "id": "dXSNYwkdvdlV",
        "outputId": "8512a7bc-0ef8-473d-ef0c-4fe19045f72e"
      },
      "id": "dXSNYwkdvdlV",
      "execution_count": 67,
      "outputs": [
        {
          "output_type": "execute_result",
          "data": {
            "text/plain": [
              "                  card  credit_report  debt_collection  loan  money_transfer  \\\n",
              "card             13357           2885              731   110             230   \n",
              "credit_report     1264         116647             4102   538              29   \n",
              "debt_collection    522           8502            30044   606              53   \n",
              "loan               273           2012             1190  7307              34   \n",
              "money_transfer     311            254              131    41            4090   \n",
              "mortgage           100           1557              485   185              25   \n",
              "others               1              8               10     7               9   \n",
              "savings_account   1001            898              310    82             663   \n",
              "vehicle_loan       135           1374              315   645              10   \n",
              "\n",
              "                 mortgage  others  savings_account  vehicle_loan  \n",
              "card                   60       0             1133            25  \n",
              "credit_report         669       2              276           372  \n",
              "debt_collection       449       3              218           195  \n",
              "loan                  272       3              191           492  \n",
              "money_transfer         42       1             1356             4  \n",
              "mortgage            18019       0              180            30  \n",
              "others                  7       2               14             0  \n",
              "savings_account       171       0            12700            15  \n",
              "vehicle_loan           65       0               54          1916  "
            ],
            "text/html": [
              "\n",
              "  <div id=\"df-ac38662c-f3eb-403f-b4a2-36f269fdefc4\">\n",
              "    <div class=\"colab-df-container\">\n",
              "      <div>\n",
              "<style scoped>\n",
              "    .dataframe tbody tr th:only-of-type {\n",
              "        vertical-align: middle;\n",
              "    }\n",
              "\n",
              "    .dataframe tbody tr th {\n",
              "        vertical-align: top;\n",
              "    }\n",
              "\n",
              "    .dataframe thead th {\n",
              "        text-align: right;\n",
              "    }\n",
              "</style>\n",
              "<table border=\"1\" class=\"dataframe\">\n",
              "  <thead>\n",
              "    <tr style=\"text-align: right;\">\n",
              "      <th></th>\n",
              "      <th>card</th>\n",
              "      <th>credit_report</th>\n",
              "      <th>debt_collection</th>\n",
              "      <th>loan</th>\n",
              "      <th>money_transfer</th>\n",
              "      <th>mortgage</th>\n",
              "      <th>others</th>\n",
              "      <th>savings_account</th>\n",
              "      <th>vehicle_loan</th>\n",
              "    </tr>\n",
              "  </thead>\n",
              "  <tbody>\n",
              "    <tr>\n",
              "      <th>card</th>\n",
              "      <td>13357</td>\n",
              "      <td>2885</td>\n",
              "      <td>731</td>\n",
              "      <td>110</td>\n",
              "      <td>230</td>\n",
              "      <td>60</td>\n",
              "      <td>0</td>\n",
              "      <td>1133</td>\n",
              "      <td>25</td>\n",
              "    </tr>\n",
              "    <tr>\n",
              "      <th>credit_report</th>\n",
              "      <td>1264</td>\n",
              "      <td>116647</td>\n",
              "      <td>4102</td>\n",
              "      <td>538</td>\n",
              "      <td>29</td>\n",
              "      <td>669</td>\n",
              "      <td>2</td>\n",
              "      <td>276</td>\n",
              "      <td>372</td>\n",
              "    </tr>\n",
              "    <tr>\n",
              "      <th>debt_collection</th>\n",
              "      <td>522</td>\n",
              "      <td>8502</td>\n",
              "      <td>30044</td>\n",
              "      <td>606</td>\n",
              "      <td>53</td>\n",
              "      <td>449</td>\n",
              "      <td>3</td>\n",
              "      <td>218</td>\n",
              "      <td>195</td>\n",
              "    </tr>\n",
              "    <tr>\n",
              "      <th>loan</th>\n",
              "      <td>273</td>\n",
              "      <td>2012</td>\n",
              "      <td>1190</td>\n",
              "      <td>7307</td>\n",
              "      <td>34</td>\n",
              "      <td>272</td>\n",
              "      <td>3</td>\n",
              "      <td>191</td>\n",
              "      <td>492</td>\n",
              "    </tr>\n",
              "    <tr>\n",
              "      <th>money_transfer</th>\n",
              "      <td>311</td>\n",
              "      <td>254</td>\n",
              "      <td>131</td>\n",
              "      <td>41</td>\n",
              "      <td>4090</td>\n",
              "      <td>42</td>\n",
              "      <td>1</td>\n",
              "      <td>1356</td>\n",
              "      <td>4</td>\n",
              "    </tr>\n",
              "    <tr>\n",
              "      <th>mortgage</th>\n",
              "      <td>100</td>\n",
              "      <td>1557</td>\n",
              "      <td>485</td>\n",
              "      <td>185</td>\n",
              "      <td>25</td>\n",
              "      <td>18019</td>\n",
              "      <td>0</td>\n",
              "      <td>180</td>\n",
              "      <td>30</td>\n",
              "    </tr>\n",
              "    <tr>\n",
              "      <th>others</th>\n",
              "      <td>1</td>\n",
              "      <td>8</td>\n",
              "      <td>10</td>\n",
              "      <td>7</td>\n",
              "      <td>9</td>\n",
              "      <td>7</td>\n",
              "      <td>2</td>\n",
              "      <td>14</td>\n",
              "      <td>0</td>\n",
              "    </tr>\n",
              "    <tr>\n",
              "      <th>savings_account</th>\n",
              "      <td>1001</td>\n",
              "      <td>898</td>\n",
              "      <td>310</td>\n",
              "      <td>82</td>\n",
              "      <td>663</td>\n",
              "      <td>171</td>\n",
              "      <td>0</td>\n",
              "      <td>12700</td>\n",
              "      <td>15</td>\n",
              "    </tr>\n",
              "    <tr>\n",
              "      <th>vehicle_loan</th>\n",
              "      <td>135</td>\n",
              "      <td>1374</td>\n",
              "      <td>315</td>\n",
              "      <td>645</td>\n",
              "      <td>10</td>\n",
              "      <td>65</td>\n",
              "      <td>0</td>\n",
              "      <td>54</td>\n",
              "      <td>1916</td>\n",
              "    </tr>\n",
              "  </tbody>\n",
              "</table>\n",
              "</div>\n",
              "      <button class=\"colab-df-convert\" onclick=\"convertToInteractive('df-ac38662c-f3eb-403f-b4a2-36f269fdefc4')\"\n",
              "              title=\"Convert this dataframe to an interactive table.\"\n",
              "              style=\"display:none;\">\n",
              "        \n",
              "  <svg xmlns=\"http://www.w3.org/2000/svg\" height=\"24px\"viewBox=\"0 0 24 24\"\n",
              "       width=\"24px\">\n",
              "    <path d=\"M0 0h24v24H0V0z\" fill=\"none\"/>\n",
              "    <path d=\"M18.56 5.44l.94 2.06.94-2.06 2.06-.94-2.06-.94-.94-2.06-.94 2.06-2.06.94zm-11 1L8.5 8.5l.94-2.06 2.06-.94-2.06-.94L8.5 2.5l-.94 2.06-2.06.94zm10 10l.94 2.06.94-2.06 2.06-.94-2.06-.94-.94-2.06-.94 2.06-2.06.94z\"/><path d=\"M17.41 7.96l-1.37-1.37c-.4-.4-.92-.59-1.43-.59-.52 0-1.04.2-1.43.59L10.3 9.45l-7.72 7.72c-.78.78-.78 2.05 0 2.83L4 21.41c.39.39.9.59 1.41.59.51 0 1.02-.2 1.41-.59l7.78-7.78 2.81-2.81c.8-.78.8-2.07 0-2.86zM5.41 20L4 18.59l7.72-7.72 1.47 1.35L5.41 20z\"/>\n",
              "  </svg>\n",
              "      </button>\n",
              "      \n",
              "  <style>\n",
              "    .colab-df-container {\n",
              "      display:flex;\n",
              "      flex-wrap:wrap;\n",
              "      gap: 12px;\n",
              "    }\n",
              "\n",
              "    .colab-df-convert {\n",
              "      background-color: #E8F0FE;\n",
              "      border: none;\n",
              "      border-radius: 50%;\n",
              "      cursor: pointer;\n",
              "      display: none;\n",
              "      fill: #1967D2;\n",
              "      height: 32px;\n",
              "      padding: 0 0 0 0;\n",
              "      width: 32px;\n",
              "    }\n",
              "\n",
              "    .colab-df-convert:hover {\n",
              "      background-color: #E2EBFA;\n",
              "      box-shadow: 0px 1px 2px rgba(60, 64, 67, 0.3), 0px 1px 3px 1px rgba(60, 64, 67, 0.15);\n",
              "      fill: #174EA6;\n",
              "    }\n",
              "\n",
              "    [theme=dark] .colab-df-convert {\n",
              "      background-color: #3B4455;\n",
              "      fill: #D2E3FC;\n",
              "    }\n",
              "\n",
              "    [theme=dark] .colab-df-convert:hover {\n",
              "      background-color: #434B5C;\n",
              "      box-shadow: 0px 1px 3px 1px rgba(0, 0, 0, 0.15);\n",
              "      filter: drop-shadow(0px 1px 2px rgba(0, 0, 0, 0.3));\n",
              "      fill: #FFFFFF;\n",
              "    }\n",
              "  </style>\n",
              "\n",
              "      <script>\n",
              "        const buttonEl =\n",
              "          document.querySelector('#df-ac38662c-f3eb-403f-b4a2-36f269fdefc4 button.colab-df-convert');\n",
              "        buttonEl.style.display =\n",
              "          google.colab.kernel.accessAllowed ? 'block' : 'none';\n",
              "\n",
              "        async function convertToInteractive(key) {\n",
              "          const element = document.querySelector('#df-ac38662c-f3eb-403f-b4a2-36f269fdefc4');\n",
              "          const dataTable =\n",
              "            await google.colab.kernel.invokeFunction('convertToInteractive',\n",
              "                                                     [key], {});\n",
              "          if (!dataTable) return;\n",
              "\n",
              "          const docLinkHtml = 'Like what you see? Visit the ' +\n",
              "            '<a target=\"_blank\" href=https://colab.research.google.com/notebooks/data_table.ipynb>data table notebook</a>'\n",
              "            + ' to learn more about interactive tables.';\n",
              "          element.innerHTML = '';\n",
              "          dataTable['output_type'] = 'display_data';\n",
              "          await google.colab.output.renderOutput(dataTable, element);\n",
              "          const docLink = document.createElement('div');\n",
              "          docLink.innerHTML = docLinkHtml;\n",
              "          element.appendChild(docLink);\n",
              "        }\n",
              "      </script>\n",
              "    </div>\n",
              "  </div>\n",
              "  "
            ]
          },
          "metadata": {},
          "execution_count": 67
        }
      ]
    },
    {
      "cell_type": "markdown",
      "source": [
        "### Save the vectorizer and model object"
      ],
      "metadata": {
        "id": "b7FjEFx3vU7J"
      },
      "id": "b7FjEFx3vU7J"
    },
    {
      "cell_type": "code",
      "source": [
        "import pickle\n",
        "\n",
        "with open(\"count_vect.pkl\", \"wb\") as f:\n",
        "  pickle.dump(vect, f)\n",
        "\n",
        "with open(\"log_model.pkl\", \"wb\") as f:\n",
        "  pickle.dump(logreg_model, f)"
      ],
      "metadata": {
        "id": "sCpLS9e2vRGt"
      },
      "id": "sCpLS9e2vRGt",
      "execution_count": 68,
      "outputs": []
    },
    {
      "cell_type": "markdown",
      "source": [
        "## Prediction\n",
        "\n",
        "Since I don't have a test dataset would just have to make do with generating something"
      ],
      "metadata": {
        "id": "7VYHfOVMwQfM"
      },
      "id": "7VYHfOVMwQfM"
    },
    {
      "cell_type": "code",
      "source": [
        "data[\"Complaint\"][1545]"
      ],
      "metadata": {
        "colab": {
          "base_uri": "https://localhost:8080/",
          "height": 71
        },
        "id": "iko9qZfhvRBS",
        "outputId": "7952feb3-b0ff-43c0-de7a-d55efed8b149"
      },
      "id": "iko9qZfhvRBS",
      "execution_count": 70,
      "outputs": [
        {
          "output_type": "execute_result",
          "data": {
            "text/plain": [
              "'In accordance with the Fair Credit Reporting act XXXX XXXX  Account # XXXX, has violated my rights. \\n\\n15 U.S.C 1681 section 602 A. States I have the right to privacy.\\n\\n15 U.S.C 1681 Section 604 A Section 2 : It also states a consumer reporting agency can not furnish a account without my written instructions'"
            ],
            "application/vnd.google.colaboratory.intrinsic+json": {
              "type": "string"
            }
          },
          "metadata": {},
          "execution_count": 70
        }
      ]
    },
    {
      "cell_type": "code",
      "source": [
        "data[\"Product\"][1545]"
      ],
      "metadata": {
        "colab": {
          "base_uri": "https://localhost:8080/",
          "height": 35
        },
        "id": "7DZIQkcFvQ4B",
        "outputId": "bded555f-4177-41c5-a29a-25639086b87e"
      },
      "id": "7DZIQkcFvQ4B",
      "execution_count": 71,
      "outputs": [
        {
          "output_type": "execute_result",
          "data": {
            "text/plain": [
              "'credit_report'"
            ],
            "application/vnd.google.colaboratory.intrinsic+json": {
              "type": "string"
            }
          },
          "metadata": {},
          "execution_count": 71
        }
      ]
    },
    {
      "cell_type": "code",
      "source": [
        "data[\"Complaint\"][5001]"
      ],
      "metadata": {
        "colab": {
          "base_uri": "https://localhost:8080/",
          "height": 53
        },
        "id": "7iQDJFJpwsXg",
        "outputId": "19c24236-639b-4426-aa5a-e9905f433824"
      },
      "id": "7iQDJFJpwsXg",
      "execution_count": 72,
      "outputs": [
        {
          "output_type": "execute_result",
          "data": {
            "text/plain": [
              "'Yet again a case of the credit companys not following the rules and listing accounts on my credit profile when the account was remove and then placed back on my file without proof that it is even my account this needs to stop.'"
            ],
            "application/vnd.google.colaboratory.intrinsic+json": {
              "type": "string"
            }
          },
          "metadata": {},
          "execution_count": 72
        }
      ]
    },
    {
      "cell_type": "code",
      "source": [
        "data[\"Product\"][5001]"
      ],
      "metadata": {
        "colab": {
          "base_uri": "https://localhost:8080/",
          "height": 35
        },
        "id": "wkY5mikAwxxN",
        "outputId": "fb96ce5b-287a-4739-8ac5-0fed8c92b267"
      },
      "id": "wkY5mikAwxxN",
      "execution_count": 73,
      "outputs": [
        {
          "output_type": "execute_result",
          "data": {
            "text/plain": [
              "'credit_report'"
            ],
            "application/vnd.google.colaboratory.intrinsic+json": {
              "type": "string"
            }
          },
          "metadata": {},
          "execution_count": 73
        }
      ]
    },
    {
      "cell_type": "code",
      "source": [
        "data[\"Complaint\"][1200]"
      ],
      "metadata": {
        "colab": {
          "base_uri": "https://localhost:8080/",
          "height": 143
        },
        "id": "mCkOf-tAw1Ra",
        "outputId": "5169fa95-e463-4714-d1ab-722409693e69"
      },
      "id": "mCkOf-tAw1Ra",
      "execution_count": 76,
      "outputs": [
        {
          "output_type": "execute_result",
          "data": {
            "text/plain": [
              "'I received a credit card that I have not applied or requested for from Capital One. It came by mail on XX/XX/XXXX. \\n\\nI called Capital One the following day ( XX/XX/XXXX ) and talked to three different representatives who were all very helpful, and I requested that my account be deleted. The last person I talked to, identified herself as an account manager, assured me that my account has by then been deleted and that there will be an investigation as to how a request for a credit card came to be. She also informed me, after I asked, that the processing of the new card was initiated on XX/XX/XXXX. She gave me a timeline of 60 to 90 days for them to figure out what happened.\\n\\nHowever what bothered me was that they had all my personal information. As the call progressed, I was asked to verify my identity by giving my name, social security number ( last 4 digits ), my date of birth and of course my address. \\n\\nI am very sure I did not apply for this card. I don\\'t remember If I ever had any account with Capital One. Identity theft is a possibility, but as of this point I have not encountered any other issue with my finances other than this. I also as a precaution review and restrict information sharing ( as much as I can ) with other financial entities I deal with.\\n\\nI obtained two credit reports from the two of the three biggest credit reporting agencies which showed \" soft inquiry \\'\\' from Capital One on XX/XX/XXXX.'"
            ],
            "application/vnd.google.colaboratory.intrinsic+json": {
              "type": "string"
            }
          },
          "metadata": {},
          "execution_count": 76
        }
      ]
    },
    {
      "cell_type": "code",
      "source": [
        "data[\"Product\"][1200]"
      ],
      "metadata": {
        "colab": {
          "base_uri": "https://localhost:8080/",
          "height": 35
        },
        "id": "fJj3lfDVw9tL",
        "outputId": "ebecb938-f276-4393-a0cc-46a1cda82e13"
      },
      "id": "fJj3lfDVw9tL",
      "execution_count": 77,
      "outputs": [
        {
          "output_type": "execute_result",
          "data": {
            "text/plain": [
              "'card'"
            ],
            "application/vnd.google.colaboratory.intrinsic+json": {
              "type": "string"
            }
          },
          "metadata": {},
          "execution_count": 77
        }
      ]
    },
    {
      "cell_type": "code",
      "source": [
        "test_complaint_1 = data[\"Complaint\"][1545]\n",
        "test_complaint_2 = data[\"Complaint\"][1200]\n",
        "\n",
        "test_complaint = [test_complaint_1, test_complaint_2]"
      ],
      "metadata": {
        "id": "Iw8nxR5OxFc7"
      },
      "id": "Iw8nxR5OxFc7",
      "execution_count": 78,
      "outputs": []
    },
    {
      "cell_type": "code",
      "source": [
        "# Load the vectorizer and model\n",
        "\n",
        "vect = pickle.load(open(\"count_vect.pkl\", \"rb\"))\n",
        "model = pickle.load(open(\"log_model.pkl\", \"rb\"))"
      ],
      "metadata": {
        "id": "s8uQOymKxZRH"
      },
      "id": "s8uQOymKxZRH",
      "execution_count": 79,
      "outputs": []
    },
    {
      "cell_type": "code",
      "source": [
        "# Process test data\n",
        "test_complaint = [r.lower() for r in test_complaint]\n",
        "test_complaint"
      ],
      "metadata": {
        "colab": {
          "base_uri": "https://localhost:8080/"
        },
        "id": "nMra7bhHxxOb",
        "outputId": "0c70aadc-0708-48e0-d131-4de7c34a7642"
      },
      "id": "nMra7bhHxxOb",
      "execution_count": 80,
      "outputs": [
        {
          "output_type": "execute_result",
          "data": {
            "text/plain": [
              "['in accordance with the fair credit reporting act xxxx xxxx  account # xxxx, has violated my rights. \\n\\n15 u.s.c 1681 section 602 a. states i have the right to privacy.\\n\\n15 u.s.c 1681 section 604 a section 2 : it also states a consumer reporting agency can not furnish a account without my written instructions',\n",
              " 'i received a credit card that i have not applied or requested for from capital one. it came by mail on xx/xx/xxxx. \\n\\ni called capital one the following day ( xx/xx/xxxx ) and talked to three different representatives who were all very helpful, and i requested that my account be deleted. the last person i talked to, identified herself as an account manager, assured me that my account has by then been deleted and that there will be an investigation as to how a request for a credit card came to be. she also informed me, after i asked, that the processing of the new card was initiated on xx/xx/xxxx. she gave me a timeline of 60 to 90 days for them to figure out what happened.\\n\\nhowever what bothered me was that they had all my personal information. as the call progressed, i was asked to verify my identity by giving my name, social security number ( last 4 digits ), my date of birth and of course my address. \\n\\ni am very sure i did not apply for this card. i don\\'t remember if i ever had any account with capital one. identity theft is a possibility, but as of this point i have not encountered any other issue with my finances other than this. i also as a precaution review and restrict information sharing ( as much as i can ) with other financial entities i deal with.\\n\\ni obtained two credit reports from the two of the three biggest credit reporting agencies which showed \" soft inquiry \\'\\' from capital one on xx/xx/xxxx.']"
            ]
          },
          "metadata": {},
          "execution_count": 80
        }
      ]
    },
    {
      "cell_type": "code",
      "source": [
        "test_tokens = [word_tokenize(r) for r in test_complaint]"
      ],
      "metadata": {
        "id": "yuxJguzOxxHU"
      },
      "id": "yuxJguzOxxHU",
      "execution_count": 82,
      "outputs": []
    },
    {
      "cell_type": "code",
      "source": [
        "test_tokens = [[word for word in t if word not in sw] for t in test_tokens]\n",
        "\n",
        "test_tokens = [[\"\".join(tokenizer.tokenize(word)) for word in t\n",
        "                if len(tokenizer.tokenize(word)) > 0] for t in test_tokens]\n",
        "\n",
        "test_tokens = [[t for t in token if t not in [\"xxxx\", \"xx\"]] for token in test_tokens]"
      ],
      "metadata": {
        "id": "eOO0IuIiyEWf"
      },
      "id": "eOO0IuIiyEWf",
      "execution_count": 83,
      "outputs": []
    },
    {
      "cell_type": "code",
      "source": [
        "clean_test_complaints = [\" \".join(complaint) for complaint in test_tokens]"
      ],
      "metadata": {
        "id": "t-oSxAOUy_sj"
      },
      "id": "t-oSxAOUy_sj",
      "execution_count": 84,
      "outputs": []
    },
    {
      "cell_type": "code",
      "source": [
        "# Vectorize the test data\n",
        "X_test = vect.transform(clean_test_complaints)"
      ],
      "metadata": {
        "id": "xu-N0uYSzMZp"
      },
      "id": "xu-N0uYSzMZp",
      "execution_count": 85,
      "outputs": []
    },
    {
      "cell_type": "code",
      "source": [
        "# Make Predictions\n",
        "model.predict(X_test)"
      ],
      "metadata": {
        "colab": {
          "base_uri": "https://localhost:8080/"
        },
        "id": "DV49pOtpz9ZW",
        "outputId": "dfc23a9e-da36-4f1c-bad5-b0fed3c17972"
      },
      "id": "DV49pOtpz9ZW",
      "execution_count": 86,
      "outputs": [
        {
          "output_type": "execute_result",
          "data": {
            "text/plain": [
              "array(['credit_report', 'card'], dtype=object)"
            ]
          },
          "metadata": {},
          "execution_count": 86
        }
      ]
    },
    {
      "cell_type": "markdown",
      "source": [
        "**Author:** `Jammal Adeyemi`"
      ],
      "metadata": {
        "id": "vq_mnUwf0YtF"
      },
      "id": "vq_mnUwf0YtF"
    }
  ],
  "metadata": {
    "kernelspec": {
      "display_name": "Python 3 (ipykernel)",
      "language": "python",
      "name": "python3"
    },
    "language_info": {
      "codemirror_mode": {
        "name": "ipython",
        "version": 3
      },
      "file_extension": ".py",
      "mimetype": "text/x-python",
      "name": "python",
      "nbconvert_exporter": "python",
      "pygments_lexer": "ipython3",
      "version": "3.9.16"
    },
    "colab": {
      "provenance": [],
      "machine_shape": "hm"
    },
    "gpuClass": "standard",
    "accelerator": "TPU"
  },
  "nbformat": 4,
  "nbformat_minor": 5
}