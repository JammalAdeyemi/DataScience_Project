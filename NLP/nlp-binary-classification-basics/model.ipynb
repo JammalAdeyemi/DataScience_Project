{
 "cells": [
  {
   "cell_type": "code",
   "execution_count": 1,
   "id": "7821c439-9111-44b7-9cc8-061321da49a4",
   "metadata": {},
   "outputs": [],
   "source": [
    "import pandas as pd\n",
    "import numpy as np\n",
    "import matplotlib.pyplot as plt\n",
    "import pickle\n",
    "from collections import Counter\n",
    "\n",
    "%matplotlib inline\n",
    "\n",
    "import nltk\n",
    "from nltk.corpus import stopwords\n",
    "from nltk.stem import PorterStemmer, LancasterStemmer\n",
    "from nltk.tokenize import sent_tokenize, word_tokenize, RegexpTokenizer\n",
    "\n",
    "from sklearn.metrics import accuracy_score\n",
    "from sklearn.linear_model import LogisticRegression, LogisticRegressionCV\n",
    "from sklearn.model_selection import train_test_split\n",
    "from sklearn.feature_extraction.text import CountVectorizer, TfidfVectorizer"
   ]
  },
  {
   "cell_type": "code",
   "execution_count": 2,
   "id": "aab85c91-fe14-4c6d-8190-de904a535b44",
   "metadata": {},
   "outputs": [
    {
     "data": {
      "text/html": [
       "<div>\n",
       "<style scoped>\n",
       "    .dataframe tbody tr th:only-of-type {\n",
       "        vertical-align: middle;\n",
       "    }\n",
       "\n",
       "    .dataframe tbody tr th {\n",
       "        vertical-align: top;\n",
       "    }\n",
       "\n",
       "    .dataframe thead th {\n",
       "        text-align: right;\n",
       "    }\n",
       "</style>\n",
       "<table border=\"1\" class=\"dataframe\">\n",
       "  <thead>\n",
       "    <tr style=\"text-align: right;\">\n",
       "      <th></th>\n",
       "      <th>reviewId</th>\n",
       "      <th>userName</th>\n",
       "      <th>userImage</th>\n",
       "      <th>review</th>\n",
       "      <th>score</th>\n",
       "      <th>thumbsUpCount</th>\n",
       "      <th>reviewCreatedVersion</th>\n",
       "      <th>at</th>\n",
       "      <th>replyContent</th>\n",
       "      <th>repliedAt</th>\n",
       "      <th>Sentiment</th>\n",
       "      <th>Sub Category</th>\n",
       "      <th>Sub Category_test</th>\n",
       "    </tr>\n",
       "  </thead>\n",
       "  <tbody>\n",
       "    <tr>\n",
       "      <th>0</th>\n",
       "      <td>gp:AOqpTOFxf3fttcT5DSvFIn9KPp5FErgH9yC533Fmoxv...</td>\n",
       "      <td>Donna Caritero</td>\n",
       "      <td>https://play-lh.googleusercontent.com/a-/AOh14...</td>\n",
       "      <td>Overall it's really an amazing app. I've been ...</td>\n",
       "      <td>4</td>\n",
       "      <td>528</td>\n",
       "      <td>2.116.0</td>\n",
       "      <td>2021-06-17 07:18:54</td>\n",
       "      <td>Hi Donna. We are sorry that your text or desig...</td>\n",
       "      <td>2021-06-19 21:24:32</td>\n",
       "      <td>Negative</td>\n",
       "      <td>NaN</td>\n",
       "      <td>bug_picture_quality</td>\n",
       "    </tr>\n",
       "    <tr>\n",
       "      <th>1</th>\n",
       "      <td>gp:AOqpTOEq6rNIWLnPV4KFTctWvm0mpGEQljtD6mvy1H-...</td>\n",
       "      <td>Soumi Mukhopadhyay</td>\n",
       "      <td>https://play-lh.googleusercontent.com/a-/AOh14...</td>\n",
       "      <td>Hey! Yes I gave a 5 star rating... coz I belie...</td>\n",
       "      <td>5</td>\n",
       "      <td>351</td>\n",
       "      <td>2.116.0</td>\n",
       "      <td>2021-06-17 19:18:28</td>\n",
       "      <td>NaN</td>\n",
       "      <td>NaT</td>\n",
       "      <td>Positive</td>\n",
       "      <td>extremely_happy</td>\n",
       "      <td>NaN</td>\n",
       "    </tr>\n",
       "    <tr>\n",
       "      <th>2</th>\n",
       "      <td>gp:AOqpTOE86hSyPRHZgYt28Uk5zGe4FZGb1hkmtFDiYJ2...</td>\n",
       "      <td>Theknown _unknown</td>\n",
       "      <td>https://play-lh.googleusercontent.com/a-/AOh14...</td>\n",
       "      <td>Canva used to be a good app! But recently I've...</td>\n",
       "      <td>1</td>\n",
       "      <td>160</td>\n",
       "      <td>2.116.0</td>\n",
       "      <td>2021-06-23 19:13:28</td>\n",
       "      <td>Hi there. We're sorry to hear that you are hav...</td>\n",
       "      <td>2021-06-26 20:20:56</td>\n",
       "      <td>Negative</td>\n",
       "      <td>saving_downloading_issue</td>\n",
       "      <td>bug_saving_files</td>\n",
       "    </tr>\n",
       "    <tr>\n",
       "      <th>3</th>\n",
       "      <td>gp:AOqpTOHSuKkVTcM3QgCCKysHQlxEnk2ocOKsUMiMIJy...</td>\n",
       "      <td>Anthony Dean</td>\n",
       "      <td>https://play-lh.googleusercontent.com/a/AATXAJ...</td>\n",
       "      <td>It's a brilliant app, but I have just one prob...</td>\n",
       "      <td>5</td>\n",
       "      <td>145</td>\n",
       "      <td>2.116.0</td>\n",
       "      <td>2021-06-19 23:36:07</td>\n",
       "      <td>NaN</td>\n",
       "      <td>NaT</td>\n",
       "      <td>Negative</td>\n",
       "      <td>others</td>\n",
       "      <td>bug_app_crash</td>\n",
       "    </tr>\n",
       "    <tr>\n",
       "      <th>4</th>\n",
       "      <td>gp:AOqpTOEOrZt5H6jXPiplJyffCd5ZBnVXACTWgwNsF1R...</td>\n",
       "      <td>Neha Diana Wesley</td>\n",
       "      <td>https://play-lh.googleusercontent.com/a-/AOh14...</td>\n",
       "      <td>This was such a great app. I used to make BTS ...</td>\n",
       "      <td>4</td>\n",
       "      <td>142</td>\n",
       "      <td>2.116.0</td>\n",
       "      <td>2021-06-21 00:29:27</td>\n",
       "      <td>Hi Neha. Sorry to hear that you are unable to ...</td>\n",
       "      <td>2021-06-24 20:46:28</td>\n",
       "      <td>Negative</td>\n",
       "      <td>others</td>\n",
       "      <td>bug_other</td>\n",
       "    </tr>\n",
       "  </tbody>\n",
       "</table>\n",
       "</div>"
      ],
      "text/plain": [
       "                                            reviewId            userName  \\\n",
       "0  gp:AOqpTOFxf3fttcT5DSvFIn9KPp5FErgH9yC533Fmoxv...      Donna Caritero   \n",
       "1  gp:AOqpTOEq6rNIWLnPV4KFTctWvm0mpGEQljtD6mvy1H-...  Soumi Mukhopadhyay   \n",
       "2  gp:AOqpTOE86hSyPRHZgYt28Uk5zGe4FZGb1hkmtFDiYJ2...   Theknown _unknown   \n",
       "3  gp:AOqpTOHSuKkVTcM3QgCCKysHQlxEnk2ocOKsUMiMIJy...        Anthony Dean   \n",
       "4  gp:AOqpTOEOrZt5H6jXPiplJyffCd5ZBnVXACTWgwNsF1R...   Neha Diana Wesley   \n",
       "\n",
       "                                           userImage  \\\n",
       "0  https://play-lh.googleusercontent.com/a-/AOh14...   \n",
       "1  https://play-lh.googleusercontent.com/a-/AOh14...   \n",
       "2  https://play-lh.googleusercontent.com/a-/AOh14...   \n",
       "3  https://play-lh.googleusercontent.com/a/AATXAJ...   \n",
       "4  https://play-lh.googleusercontent.com/a-/AOh14...   \n",
       "\n",
       "                                              review  score  thumbsUpCount  \\\n",
       "0  Overall it's really an amazing app. I've been ...      4            528   \n",
       "1  Hey! Yes I gave a 5 star rating... coz I belie...      5            351   \n",
       "2  Canva used to be a good app! But recently I've...      1            160   \n",
       "3  It's a brilliant app, but I have just one prob...      5            145   \n",
       "4  This was such a great app. I used to make BTS ...      4            142   \n",
       "\n",
       "  reviewCreatedVersion                  at  \\\n",
       "0              2.116.0 2021-06-17 07:18:54   \n",
       "1              2.116.0 2021-06-17 19:18:28   \n",
       "2              2.116.0 2021-06-23 19:13:28   \n",
       "3              2.116.0 2021-06-19 23:36:07   \n",
       "4              2.116.0 2021-06-21 00:29:27   \n",
       "\n",
       "                                        replyContent           repliedAt  \\\n",
       "0  Hi Donna. We are sorry that your text or desig... 2021-06-19 21:24:32   \n",
       "1                                                NaN                 NaT   \n",
       "2  Hi there. We're sorry to hear that you are hav... 2021-06-26 20:20:56   \n",
       "3                                                NaN                 NaT   \n",
       "4  Hi Neha. Sorry to hear that you are unable to ... 2021-06-24 20:46:28   \n",
       "\n",
       "  Sentiment              Sub Category    Sub Category_test  \n",
       "0  Negative                       NaN  bug_picture_quality  \n",
       "1  Positive           extremely_happy                  NaN  \n",
       "2  Negative  saving_downloading_issue     bug_saving_files  \n",
       "3  Negative                    others        bug_app_crash  \n",
       "4  Negative                    others            bug_other  "
      ]
     },
     "execution_count": 2,
     "metadata": {},
     "output_type": "execute_result"
    }
   ],
   "source": [
    "df = pd.read_excel('data/Canva_reviews.xlsx')\n",
    "df.head()"
   ]
  },
  {
   "cell_type": "code",
   "execution_count": 3,
   "id": "1eab07a2-c6d2-43a4-9c84-bb6c30f27411",
   "metadata": {},
   "outputs": [
    {
     "data": {
      "text/plain": [
       "(1500, 13)"
      ]
     },
     "execution_count": 3,
     "metadata": {},
     "output_type": "execute_result"
    }
   ],
   "source": [
    "df.shape"
   ]
  },
  {
   "cell_type": "code",
   "execution_count": 4,
   "id": "f2699f7f-ba61-439a-b03b-7b6822d6a35e",
   "metadata": {},
   "outputs": [
    {
     "name": "stdout",
     "output_type": "stream",
     "text": [
      "<class 'pandas.core.frame.DataFrame'>\n",
      "RangeIndex: 1500 entries, 0 to 1499\n",
      "Data columns (total 13 columns):\n",
      " #   Column                Non-Null Count  Dtype         \n",
      "---  ------                --------------  -----         \n",
      " 0   reviewId              1500 non-null   object        \n",
      " 1   userName              1500 non-null   object        \n",
      " 2   userImage             1500 non-null   object        \n",
      " 3   review                1500 non-null   object        \n",
      " 4   score                 1500 non-null   int64         \n",
      " 5   thumbsUpCount         1500 non-null   int64         \n",
      " 6   reviewCreatedVersion  1500 non-null   object        \n",
      " 7   at                    1500 non-null   datetime64[ns]\n",
      " 8   replyContent          523 non-null    object        \n",
      " 9   repliedAt             523 non-null    datetime64[ns]\n",
      " 10  Sentiment             1500 non-null   object        \n",
      " 11  Sub Category          1499 non-null   object        \n",
      " 12  Sub Category_test     23 non-null     object        \n",
      "dtypes: datetime64[ns](2), int64(2), object(9)\n",
      "memory usage: 152.5+ KB\n"
     ]
    }
   ],
   "source": [
    "df.info()"
   ]
  },
  {
   "cell_type": "code",
   "execution_count": 5,
   "id": "e5e1bb99-4c89-48e2-a415-a4c04ad405e3",
   "metadata": {},
   "outputs": [
    {
     "data": {
      "text/plain": [
       "reviewId                1500\n",
       "userName                1500\n",
       "userImage               1500\n",
       "review                  1500\n",
       "score                      5\n",
       "thumbsUpCount             26\n",
       "reviewCreatedVersion      23\n",
       "at                      1500\n",
       "replyContent             457\n",
       "repliedAt                523\n",
       "Sentiment                  2\n",
       "Sub Category               5\n",
       "Sub Category_test          4\n",
       "dtype: int64"
      ]
     },
     "execution_count": 5,
     "metadata": {},
     "output_type": "execute_result"
    }
   ],
   "source": [
    "df.nunique()"
   ]
  },
  {
   "cell_type": "markdown",
   "id": "f3376c38-5368-4642-90ce-de8f227deae1",
   "metadata": {},
   "source": [
    "## Data Analysis"
   ]
  },
  {
   "cell_type": "code",
   "execution_count": 6,
   "id": "fc9cb987-f271-46db-a16c-2616937963a4",
   "metadata": {},
   "outputs": [
    {
     "data": {
      "text/plain": [
       "'Unable to save my work. Nothing works :('"
      ]
     },
     "execution_count": 6,
     "metadata": {},
     "output_type": "execute_result"
    }
   ],
   "source": [
    "df.loc[13, \"review\"]"
   ]
  },
  {
   "cell_type": "code",
   "execution_count": 7,
   "id": "43525229-d7e5-4312-9671-2ab4132013ef",
   "metadata": {},
   "outputs": [
    {
     "data": {
      "text/plain": [
       "'Negative'"
      ]
     },
     "execution_count": 7,
     "metadata": {},
     "output_type": "execute_result"
    }
   ],
   "source": [
    "df.loc[13, \"Sentiment\"]"
   ]
  },
  {
   "cell_type": "code",
   "execution_count": 8,
   "id": "3abf6e7a-a500-45f1-a305-837f43066044",
   "metadata": {},
   "outputs": [
    {
     "data": {
      "text/plain": [
       "'Absolutely amazing and a lifesaver for teachers.'"
      ]
     },
     "execution_count": 8,
     "metadata": {},
     "output_type": "execute_result"
    }
   ],
   "source": [
    "df.loc[1495, \"review\"]"
   ]
  },
  {
   "cell_type": "code",
   "execution_count": 9,
   "id": "79f7af25-6965-455c-b323-dc449c3e7c61",
   "metadata": {},
   "outputs": [
    {
     "data": {
      "text/plain": [
       "'Positive'"
      ]
     },
     "execution_count": 9,
     "metadata": {},
     "output_type": "execute_result"
    }
   ],
   "source": [
    "df.loc[1495, \"Sentiment\"]"
   ]
  },
  {
   "cell_type": "markdown",
   "id": "c311bc2c-4c8e-40ca-85cb-408b267f3495",
   "metadata": {},
   "source": [
    "### Sentiment"
   ]
  },
  {
   "cell_type": "code",
   "execution_count": 10,
   "id": "b7104188-d9a1-4bae-bc46-52101759d9f3",
   "metadata": {},
   "outputs": [
    {
     "data": {
      "text/plain": [
       "Positive    1032\n",
       "Negative     468\n",
       "Name: Sentiment, dtype: int64"
      ]
     },
     "execution_count": 10,
     "metadata": {},
     "output_type": "execute_result"
    }
   ],
   "source": [
    "df['Sentiment'].value_counts()"
   ]
  },
  {
   "cell_type": "code",
   "execution_count": 11,
   "id": "dd2da8fd-3bc3-4370-ac3a-82751e00db01",
   "metadata": {},
   "outputs": [
    {
     "data": {
      "image/png": "[encoded data removed]",
      "text/plain": [
       "<Figure size 640x480 with 1 Axes>"
      ]
     },
     "metadata": {},
     "output_type": "display_data"
    }
   ],
   "source": [
    "import seaborn as sns\n",
    "\n",
    "sns.countplot(x='Sentiment', data=df)\n",
    "plt.show()"
   ]
  },
  {
   "cell_type": "markdown",
   "id": "9c0b26c8-88bd-48e2-8d85-90a155de060a",
   "metadata": {},
   "source": [
    "### Score"
   ]
  },
  {
   "cell_type": "code",
   "execution_count": 12,
   "id": "021a9abf-145f-4d8c-9e66-0aa438c43cf8",
   "metadata": {},
   "outputs": [
    {
     "data": {
      "text/plain": [
       "5    952\n",
       "4    227\n",
       "1    170\n",
       "3     91\n",
       "2     60\n",
       "Name: score, dtype: int64"
      ]
     },
     "execution_count": 12,
     "metadata": {},
     "output_type": "execute_result"
    }
   ],
   "source": [
    "df['score'].value_counts()"
   ]
  },
  {
   "cell_type": "code",
   "execution_count": 13,
   "id": "ca31d693-4670-48fb-a278-2d838da8d04c",
   "metadata": {},
   "outputs": [
    {
     "data": {
      "image/png": "[encoded data removed]",
      "text/plain": [
       "<Figure size 640x480 with 1 Axes>"
      ]
     },
     "metadata": {},
     "output_type": "display_data"
    }
   ],
   "source": [
    "sns.countplot(x='score', data=df)\n",
    "plt.show()"
   ]
  },
  {
   "cell_type": "markdown",
   "id": "9c138066-c58d-42e2-9adc-50239e233e90",
   "metadata": {},
   "source": [
    "### Checking the relationship between `Score` and `Sentiment` "
   ]
  },
  {
   "cell_type": "code",
   "execution_count": 14,
   "id": "31a25570-75aa-4da4-b568-b9ee5380fd99",
   "metadata": {},
   "outputs": [
    {
     "data": {
      "image/png": "[encoded data removed]",
      "text/plain": [
       "<Figure size 640x480 with 1 Axes>"
      ]
     },
     "metadata": {},
     "output_type": "display_data"
    }
   ],
   "source": [
    "sns.countplot(x='score', data=df, hue='Sentiment')\n",
    "plt.show()"
   ]
  },
  {
   "cell_type": "markdown",
   "id": "c1530086-a448-4c68-a556-4f2bfcdd4edc",
   "metadata": {},
   "source": [
    "### Review"
   ]
  },
  {
   "cell_type": "code",
   "execution_count": 15,
   "id": "088763b6-0775-478e-8204-365753ef5b88",
   "metadata": {},
   "outputs": [],
   "source": [
    "df['review_len'] = df['review'].apply(len)"
   ]
  },
  {
   "cell_type": "code",
   "execution_count": 16,
   "id": "612e08ac-a482-4e74-a3ab-a0941e3e81a9",
   "metadata": {},
   "outputs": [
    {
     "data": {
      "text/plain": [
       "count    1500.000000\n",
       "mean       86.468667\n",
       "std        55.681355\n",
       "min        20.000000\n",
       "25%        54.000000\n",
       "50%        75.000000\n",
       "75%       102.000000\n",
       "max       498.000000\n",
       "Name: review_len, dtype: float64"
      ]
     },
     "execution_count": 16,
     "metadata": {},
     "output_type": "execute_result"
    }
   ],
   "source": [
    "df['review_len'].describe()"
   ]
  },
  {
   "cell_type": "markdown",
   "id": "749353e4-f446-4561-9d0b-23bd2b302bb1",
   "metadata": {},
   "source": [
    "## Tokenization"
   ]
  },
  {
   "cell_type": "code",
   "execution_count": 17,
   "id": "edf4f7d5-b7c3-4c60-b874-4a7d4c51b516",
   "metadata": {},
   "outputs": [
    {
     "name": "stderr",
     "output_type": "stream",
     "text": [
      "[nltk_data] Downloading package punkt to /Users/oabas/nltk_data...\n",
      "[nltk_data]   Package punkt is already up-to-date!\n"
     ]
    },
    {
     "data": {
      "text/plain": [
       "True"
      ]
     },
     "execution_count": 17,
     "metadata": {},
     "output_type": "execute_result"
    }
   ],
   "source": [
    "nltk.download('punkt')"
   ]
  },
  {
   "cell_type": "code",
   "execution_count": 18,
   "id": "36ecc3be-a54f-40ea-ac93-b3878d389cbb",
   "metadata": {},
   "outputs": [
    {
     "name": "stderr",
     "output_type": "stream",
     "text": [
      "[nltk_data] Downloading package wordnet to /Users/oabas/nltk_data...\n",
      "[nltk_data]   Package wordnet is already up-to-date!\n"
     ]
    },
    {
     "data": {
      "text/plain": [
       "True"
      ]
     },
     "execution_count": 18,
     "metadata": {},
     "output_type": "execute_result"
    }
   ],
   "source": [
    "nltk.download('wordnet')"
   ]
  },
  {
   "cell_type": "code",
   "execution_count": 19,
   "id": "6b287d84-f41e-40cb-81cb-c36a641a7da8",
   "metadata": {},
   "outputs": [
    {
     "name": "stderr",
     "output_type": "stream",
     "text": [
      "[nltk_data] Downloading package stopwords to /Users/oabas/nltk_data...\n",
      "[nltk_data]   Package stopwords is already up-to-date!\n"
     ]
    },
    {
     "data": {
      "text/plain": [
       "True"
      ]
     },
     "execution_count": 19,
     "metadata": {},
     "output_type": "execute_result"
    }
   ],
   "source": [
    "nltk.download('stopwords')"
   ]
  },
  {
   "cell_type": "code",
   "execution_count": 20,
   "id": "5dcd3acf-943b-4744-9dfe-7d273f40ef26",
   "metadata": {},
   "outputs": [
    {
     "data": {
      "text/html": [
       "<div>\n",
       "<style scoped>\n",
       "    .dataframe tbody tr th:only-of-type {\n",
       "        vertical-align: middle;\n",
       "    }\n",
       "\n",
       "    .dataframe tbody tr th {\n",
       "        vertical-align: top;\n",
       "    }\n",
       "\n",
       "    .dataframe thead th {\n",
       "        text-align: right;\n",
       "    }\n",
       "</style>\n",
       "<table border=\"1\" class=\"dataframe\">\n",
       "  <thead>\n",
       "    <tr style=\"text-align: right;\">\n",
       "      <th></th>\n",
       "      <th>reviewId</th>\n",
       "      <th>userName</th>\n",
       "      <th>userImage</th>\n",
       "      <th>review</th>\n",
       "      <th>score</th>\n",
       "      <th>thumbsUpCount</th>\n",
       "      <th>reviewCreatedVersion</th>\n",
       "      <th>at</th>\n",
       "      <th>replyContent</th>\n",
       "      <th>repliedAt</th>\n",
       "      <th>Sentiment</th>\n",
       "      <th>Sub Category</th>\n",
       "      <th>Sub Category_test</th>\n",
       "      <th>review_len</th>\n",
       "    </tr>\n",
       "  </thead>\n",
       "  <tbody>\n",
       "    <tr>\n",
       "      <th>0</th>\n",
       "      <td>gp:AOqpTOFxf3fttcT5DSvFIn9KPp5FErgH9yC533Fmoxv...</td>\n",
       "      <td>Donna Caritero</td>\n",
       "      <td>https://play-lh.googleusercontent.com/a-/AOh14...</td>\n",
       "      <td>Overall it's really an amazing app. I've been ...</td>\n",
       "      <td>4</td>\n",
       "      <td>528</td>\n",
       "      <td>2.116.0</td>\n",
       "      <td>2021-06-17 07:18:54</td>\n",
       "      <td>Hi Donna. We are sorry that your text or desig...</td>\n",
       "      <td>2021-06-19 21:24:32</td>\n",
       "      <td>Negative</td>\n",
       "      <td>NaN</td>\n",
       "      <td>bug_picture_quality</td>\n",
       "      <td>481</td>\n",
       "    </tr>\n",
       "    <tr>\n",
       "      <th>1</th>\n",
       "      <td>gp:AOqpTOEq6rNIWLnPV4KFTctWvm0mpGEQljtD6mvy1H-...</td>\n",
       "      <td>Soumi Mukhopadhyay</td>\n",
       "      <td>https://play-lh.googleusercontent.com/a-/AOh14...</td>\n",
       "      <td>Hey! Yes I gave a 5 star rating... coz I belie...</td>\n",
       "      <td>5</td>\n",
       "      <td>351</td>\n",
       "      <td>2.116.0</td>\n",
       "      <td>2021-06-17 19:18:28</td>\n",
       "      <td>NaN</td>\n",
       "      <td>NaT</td>\n",
       "      <td>Positive</td>\n",
       "      <td>extremely_happy</td>\n",
       "      <td>NaN</td>\n",
       "      <td>438</td>\n",
       "    </tr>\n",
       "  </tbody>\n",
       "</table>\n",
       "</div>"
      ],
      "text/plain": [
       "                                            reviewId            userName  \\\n",
       "0  gp:AOqpTOFxf3fttcT5DSvFIn9KPp5FErgH9yC533Fmoxv...      Donna Caritero   \n",
       "1  gp:AOqpTOEq6rNIWLnPV4KFTctWvm0mpGEQljtD6mvy1H-...  Soumi Mukhopadhyay   \n",
       "\n",
       "                                           userImage  \\\n",
       "0  https://play-lh.googleusercontent.com/a-/AOh14...   \n",
       "1  https://play-lh.googleusercontent.com/a-/AOh14...   \n",
       "\n",
       "                                              review  score  thumbsUpCount  \\\n",
       "0  Overall it's really an amazing app. I've been ...      4            528   \n",
       "1  Hey! Yes I gave a 5 star rating... coz I belie...      5            351   \n",
       "\n",
       "  reviewCreatedVersion                  at  \\\n",
       "0              2.116.0 2021-06-17 07:18:54   \n",
       "1              2.116.0 2021-06-17 19:18:28   \n",
       "\n",
       "                                        replyContent           repliedAt  \\\n",
       "0  Hi Donna. We are sorry that your text or desig... 2021-06-19 21:24:32   \n",
       "1                                                NaN                 NaT   \n",
       "\n",
       "  Sentiment     Sub Category    Sub Category_test  review_len  \n",
       "0  Negative              NaN  bug_picture_quality         481  \n",
       "1  Positive  extremely_happy                  NaN         438  "
      ]
     },
     "execution_count": 20,
     "metadata": {},
     "output_type": "execute_result"
    }
   ],
   "source": [
    "df.head(2)"
   ]
  },
  {
   "cell_type": "code",
   "execution_count": 21,
   "id": "f1310be5-44c2-4ed3-9383-a82a1af9b417",
   "metadata": {},
   "outputs": [
    {
     "data": {
      "text/html": [
       "<div>\n",
       "<style scoped>\n",
       "    .dataframe tbody tr th:only-of-type {\n",
       "        vertical-align: middle;\n",
       "    }\n",
       "\n",
       "    .dataframe tbody tr th {\n",
       "        vertical-align: top;\n",
       "    }\n",
       "\n",
       "    .dataframe thead th {\n",
       "        text-align: right;\n",
       "    }\n",
       "</style>\n",
       "<table border=\"1\" class=\"dataframe\">\n",
       "  <thead>\n",
       "    <tr style=\"text-align: right;\">\n",
       "      <th></th>\n",
       "      <th>review</th>\n",
       "      <th>Sentiment</th>\n",
       "    </tr>\n",
       "  </thead>\n",
       "  <tbody>\n",
       "    <tr>\n",
       "      <th>0</th>\n",
       "      <td>Overall it's really an amazing app. I've been ...</td>\n",
       "      <td>Negative</td>\n",
       "    </tr>\n",
       "    <tr>\n",
       "      <th>1</th>\n",
       "      <td>Hey! Yes I gave a 5 star rating... coz I belie...</td>\n",
       "      <td>Positive</td>\n",
       "    </tr>\n",
       "  </tbody>\n",
       "</table>\n",
       "</div>"
      ],
      "text/plain": [
       "                                              review Sentiment\n",
       "0  Overall it's really an amazing app. I've been ...  Negative\n",
       "1  Hey! Yes I gave a 5 star rating... coz I belie...  Positive"
      ]
     },
     "execution_count": 21,
     "metadata": {},
     "output_type": "execute_result"
    }
   ],
   "source": [
    "data = df[['review', 'Sentiment']]\n",
    "data.head(2)"
   ]
  },
  {
   "cell_type": "markdown",
   "id": "5dacf66c-2f39-460e-bdc2-19a8c7197ecf",
   "metadata": {},
   "source": [
    "### Convert the `reviews` to lowercase"
   ]
  },
  {
   "cell_type": "code",
   "execution_count": 22,
   "id": "8d15a7fd-4192-4f3b-a1c9-ab02f98e09cc",
   "metadata": {},
   "outputs": [
    {
     "data": {
      "text/plain": [
       "'Unable to save my work. Nothing works :('"
      ]
     },
     "execution_count": 22,
     "metadata": {},
     "output_type": "execute_result"
    }
   ],
   "source": [
    "reviews = list(data['review'])\n",
    "reviews[13]"
   ]
  },
  {
   "cell_type": "code",
   "execution_count": 23,
   "id": "47703bac-0cfa-49c2-8b09-a93b80057f11",
   "metadata": {},
   "outputs": [
    {
     "data": {
      "text/plain": [
       "1500"
      ]
     },
     "execution_count": 23,
     "metadata": {},
     "output_type": "execute_result"
    }
   ],
   "source": [
    "len(reviews)"
   ]
  },
  {
   "cell_type": "code",
   "execution_count": 24,
   "id": "32e4e623-afcc-4c24-9a55-b4c98617a768",
   "metadata": {},
   "outputs": [
    {
     "data": {
      "text/plain": [
       "'unable to save my work. nothing works :('"
      ]
     },
     "execution_count": 24,
     "metadata": {},
     "output_type": "execute_result"
    }
   ],
   "source": [
    "reviews_lower = [r.lower() for r in reviews]\n",
    "reviews_lower[13]"
   ]
  },
  {
   "cell_type": "markdown",
   "id": "3cdd210e-65ac-4641-95ba-d2df46927078",
   "metadata": {},
   "source": [
    "-----"
   ]
  },
  {
   "cell_type": "code",
   "execution_count": 25,
   "id": "85e5f28c-e91b-426b-b6bc-8f7143645aa2",
   "metadata": {},
   "outputs": [],
   "source": [
    "tokens = [word_tokenize(r) for r in reviews_lower]"
   ]
  },
  {
   "cell_type": "code",
   "execution_count": 26,
   "id": "028f1394-86cb-49c1-96df-55fdcecc1eee",
   "metadata": {},
   "outputs": [
    {
     "data": {
      "text/plain": [
       "['unable', 'to', 'save', 'my', 'work', '.', 'nothing', 'works', ':', '(']"
      ]
     },
     "execution_count": 26,
     "metadata": {},
     "output_type": "execute_result"
    }
   ],
   "source": [
    "tokens[13]"
   ]
  },
  {
   "cell_type": "markdown",
   "id": "080f0de1-14a1-42f7-b462-f3108d4b2b07",
   "metadata": {},
   "source": [
    "## Stopwords Removal"
   ]
  },
  {
   "cell_type": "code",
   "execution_count": 27,
   "id": "5514fb0c-383b-426b-bf6f-142bdf197fe4",
   "metadata": {},
   "outputs": [
    {
     "data": {
      "text/plain": [
       "['i', 'me', 'my', 'myself', 'we', 'our', 'ours', 'ourselves', 'you', \"you're\"]"
      ]
     },
     "execution_count": 27,
     "metadata": {},
     "output_type": "execute_result"
    }
   ],
   "source": [
    "sw = stopwords.words(\"english\")\n",
    "sw[:10]"
   ]
  },
  {
   "cell_type": "code",
   "execution_count": 28,
   "id": "c1b7feaa-4a09-443d-8c64-9106b7d2051b",
   "metadata": {},
   "outputs": [],
   "source": [
    "# tokens = []\n",
    "# for t in tokens:\n",
    "#     new_t = []\n",
    "#     for word in t:\n",
    "#         if word not in sw:\n",
    "#             new_t.append(word)\n",
    "#     tokens.append(new_t)\n",
    "\n",
    "tokens = [[word for word in t if word not in sw] for t in tokens]"
   ]
  },
  {
   "cell_type": "code",
   "execution_count": 29,
   "id": "6cd703ee-ab1e-468d-8088-ff4f1207f721",
   "metadata": {},
   "outputs": [
    {
     "data": {
      "text/plain": [
       "['unable', 'save', 'work', '.', 'nothing', 'works', ':', '(']"
      ]
     },
     "execution_count": 29,
     "metadata": {},
     "output_type": "execute_result"
    }
   ],
   "source": [
    "tokens[13]"
   ]
  },
  {
   "cell_type": "code",
   "execution_count": 30,
   "id": "7e93e906-2146-4618-ac67-9a368ae331ce",
   "metadata": {},
   "outputs": [
    {
     "data": {
      "text/plain": [
       "['absolutely', 'amazing', 'lifesaver', 'teachers', '.']"
      ]
     },
     "execution_count": 30,
     "metadata": {},
     "output_type": "execute_result"
    }
   ],
   "source": [
    "tokens[1495]"
   ]
  },
  {
   "cell_type": "markdown",
   "id": "c1f80ee1-9ee4-4d7b-b162-346fe3673357",
   "metadata": {},
   "source": [
    "### Removing Punctuations"
   ]
  },
  {
   "cell_type": "code",
   "execution_count": 31,
   "id": "826d3366-d891-48d6-a45d-c91e3fa29eaf",
   "metadata": {},
   "outputs": [
    {
     "data": {
      "text/plain": [
       "['wasn', 't']"
      ]
     },
     "execution_count": 31,
     "metadata": {},
     "output_type": "execute_result"
    }
   ],
   "source": [
    "tokenizer = RegexpTokenizer(r'\\w+')\n",
    "\n",
    "tokenizer.tokenize(\"wasn't\")"
   ]
  },
  {
   "cell_type": "code",
   "execution_count": 32,
   "id": "ced8182a-926c-43f1-bd6b-e23e37bda79e",
   "metadata": {},
   "outputs": [],
   "source": [
    "t = tokenizer.tokenize(\"wasn't\")"
   ]
  },
  {
   "cell_type": "code",
   "execution_count": 33,
   "id": "f7a72bef-e915-4e05-8992-5ffd2e5ff4b7",
   "metadata": {},
   "outputs": [
    {
     "data": {
      "text/plain": [
       "'wasnt'"
      ]
     },
     "execution_count": 33,
     "metadata": {},
     "output_type": "execute_result"
    }
   ],
   "source": [
    "\"\".join(t)"
   ]
  },
  {
   "cell_type": "code",
   "execution_count": 34,
   "id": "84bec34b-c635-44b0-8b6d-d30798980c81",
   "metadata": {},
   "outputs": [
    {
     "data": {
      "text/plain": [
       "[]"
      ]
     },
     "execution_count": 34,
     "metadata": {},
     "output_type": "execute_result"
    }
   ],
   "source": [
    "tokenizer.tokenize(\":\")"
   ]
  },
  {
   "cell_type": "code",
   "execution_count": 35,
   "id": "93cc1bd0-df9c-461f-9f2c-c9d6abffb556",
   "metadata": {},
   "outputs": [],
   "source": [
    "tokens = [[\"\".join(tokenizer.tokenize(word)) for word in t\n",
    "          if len(tokenizer.tokenize(word))>0] for t in tokens]\n",
    "\n",
    "# new_tokens = []\n",
    "# for t in tokens:\n",
    "#     new_t = []\n",
    "#     for word in t:\n",
    "#         tokenized_word = tokenizer.tokenize(word)\n",
    "#         if len(tokenized_word) > 0:\n",
    "#             new_word = \"\".join(tokenized_word)\n",
    "#             new_t.append(new_word)\n",
    "#     new_tokens.append(new_t)"
   ]
  },
  {
   "cell_type": "code",
   "execution_count": 36,
   "id": "f4568a65-118b-4829-8750-64ef9663612c",
   "metadata": {},
   "outputs": [
    {
     "data": {
      "text/plain": [
       "['unable', 'save', 'work', 'nothing', 'works']"
      ]
     },
     "execution_count": 36,
     "metadata": {},
     "output_type": "execute_result"
    }
   ],
   "source": [
    "tokens[13]"
   ]
  },
  {
   "cell_type": "code",
   "execution_count": 37,
   "id": "7f5e8c39-7b52-46ac-937b-160a38018e5e",
   "metadata": {},
   "outputs": [
    {
     "data": {
      "text/plain": [
       "['absolutely', 'amazing', 'lifesaver', 'teachers']"
      ]
     },
     "execution_count": 37,
     "metadata": {},
     "output_type": "execute_result"
    }
   ],
   "source": [
    "tokens[1495]"
   ]
  },
  {
   "cell_type": "markdown",
   "id": "e7eaf9cb-5baf-4053-b3ab-3d9274353aff",
   "metadata": {},
   "source": [
    "## Stemming\n",
    "\n",
    "`Stemming` is a process in NLP that involves reducing words to their root or base form, which is called the \"stem\". The `stem` is a normalized version of the word that can help to improve text analysis by reducing the number of unique words that need to be considered. Stemming is often used as a preprocessing step before text analysis tasks such as sentiment analysis or topic modeling."
   ]
  },
  {
   "cell_type": "code",
   "execution_count": 38,
   "id": "835ae984-d6de-4e3f-bcd2-16f75f03b485",
   "metadata": {},
   "outputs": [],
   "source": [
    "porter = PorterStemmer()\n",
    "lancaster = LancasterStemmer()"
   ]
  },
  {
   "cell_type": "code",
   "execution_count": 39,
   "id": "b4a2377b-70e1-4079-9630-bcf9cd9c4464",
   "metadata": {},
   "outputs": [
    {
     "data": {
      "text/plain": [
       "'teacher'"
      ]
     },
     "execution_count": 39,
     "metadata": {},
     "output_type": "execute_result"
    }
   ],
   "source": [
    "porter.stem(\"teachers\")"
   ]
  },
  {
   "cell_type": "code",
   "execution_count": 40,
   "id": "f5a94694-04fc-453c-92a2-dd84142bc83f",
   "metadata": {},
   "outputs": [
    {
     "data": {
      "text/plain": [
       "'teach'"
      ]
     },
     "execution_count": 40,
     "metadata": {},
     "output_type": "execute_result"
    }
   ],
   "source": [
    "lancaster.stem('teachers')"
   ]
  },
  {
   "cell_type": "code",
   "execution_count": 41,
   "id": "276301cb-cdc8-4509-a9fb-c1b78fcaf42b",
   "metadata": {},
   "outputs": [
    {
     "data": {
      "text/plain": [
       "['unabl', 'save', 'work', 'noth', 'work']"
      ]
     },
     "execution_count": 41,
     "metadata": {},
     "output_type": "execute_result"
    }
   ],
   "source": [
    "tokens = [[porter.stem(word) for word in t] for t in tokens]\n",
    "tokens[13]"
   ]
  },
  {
   "cell_type": "code",
   "execution_count": 42,
   "id": "dafa0c84-1183-4be9-a9f4-94d457e19831",
   "metadata": {},
   "outputs": [
    {
     "data": {
      "text/plain": [
       "'Unable to save my work. Nothing works :('"
      ]
     },
     "execution_count": 42,
     "metadata": {},
     "output_type": "execute_result"
    }
   ],
   "source": [
    "reviews[13]"
   ]
  },
  {
   "cell_type": "markdown",
   "id": "6dd8b799-e6ae-446b-9e12-2e826ffe9a22",
   "metadata": {},
   "source": [
    "## Word count distribution"
   ]
  },
  {
   "cell_type": "code",
   "execution_count": 43,
   "id": "1171db8d-79c6-4a2a-8d24-ee1a78e3b3f9",
   "metadata": {},
   "outputs": [],
   "source": [
    "# flat_tokens = [word for t in tokens for word in t]\n",
    "flat_tokens = []\n",
    "for t in tokens:\n",
    "    for word in t:\n",
    "        flat_tokens.append(word)"
   ]
  },
  {
   "cell_type": "code",
   "execution_count": 44,
   "id": "1709d6aa-64dc-4cbb-a798-d67883e17325",
   "metadata": {},
   "outputs": [
    {
     "data": {
      "text/plain": [
       "13782"
      ]
     },
     "execution_count": 44,
     "metadata": {},
     "output_type": "execute_result"
    }
   ],
   "source": [
    "len(flat_tokens)"
   ]
  },
  {
   "cell_type": "code",
   "execution_count": 45,
   "id": "bd2192e0-abc7-4849-b14f-78778d4aebe3",
   "metadata": {},
   "outputs": [
    {
     "data": {
      "text/plain": [
       "1720"
      ]
     },
     "execution_count": 45,
     "metadata": {},
     "output_type": "execute_result"
    }
   ],
   "source": [
    "# unique tokens\n",
    "counts = Counter(flat_tokens)\n",
    "len(counts)"
   ]
  },
  {
   "cell_type": "code",
   "execution_count": 46,
   "id": "99aecbfb-a2a4-4753-bfa9-400b5143761d",
   "metadata": {},
   "outputs": [
    {
     "data": {
      "text/plain": [
       "[('app', 932),\n",
       " ('use', 474),\n",
       " ('design', 349),\n",
       " ('easi', 293),\n",
       " ('s', 240),\n",
       " ('love', 220),\n",
       " ('good', 219),\n",
       " ('edit', 191),\n",
       " ('make', 190),\n",
       " ('great', 184)]"
      ]
     },
     "execution_count": 46,
     "metadata": {},
     "output_type": "execute_result"
    }
   ],
   "source": [
    "# most common tokes\n",
    "counts.most_common(10)"
   ]
  },
  {
   "cell_type": "markdown",
   "id": "2fdaa18e-5301-46ff-af7a-21c43633f56c",
   "metadata": {},
   "source": [
    "## Bag of Words (BoW)\n",
    "\n",
    "`BoW` is a method for representing text data as a collection of words, disregarding their order, grammar, or structure, and focusing only on their frequency of occurrence in a text corpus."
   ]
  },
  {
   "cell_type": "code",
   "execution_count": 47,
   "id": "9b6ad5cb-acfb-4336-b4ee-02070d0a5cfc",
   "metadata": {},
   "outputs": [
    {
     "data": {
      "text/plain": [
       "['unabl', 'save', 'work', 'noth', 'work']"
      ]
     },
     "execution_count": 47,
     "metadata": {},
     "output_type": "execute_result"
    }
   ],
   "source": [
    "tokens[13]"
   ]
  },
  {
   "cell_type": "code",
   "execution_count": 48,
   "id": "acadcb14-8416-40e1-b127-8608b7efc6d0",
   "metadata": {},
   "outputs": [
    {
     "data": {
      "text/plain": [
       "'unabl save work noth work'"
      ]
     },
     "execution_count": 48,
     "metadata": {},
     "output_type": "execute_result"
    }
   ],
   "source": [
    "# Combine the tokens\n",
    "\" \".join(tokens[13])"
   ]
  },
  {
   "cell_type": "code",
   "execution_count": 49,
   "id": "d59f8c52-1415-4cfd-b3e8-cbac5f92c3a9",
   "metadata": {},
   "outputs": [],
   "source": [
    "# we choosing 5 as the threshold as we don't have much datasets. \n",
    "clean_reviews = [\" \".join(t) for t in tokens]\n",
    "vect = CountVectorizer(binary=True, min_df=5)\n",
    "\n",
    "X = vect.fit_transform(clean_reviews)"
   ]
  },
  {
   "cell_type": "code",
   "execution_count": 50,
   "id": "27391979-8b2c-45a5-a8ec-6c7aa584d52a",
   "metadata": {},
   "outputs": [
    {
     "data": {
      "text/plain": [
       "(1500, 413)"
      ]
     },
     "execution_count": 50,
     "metadata": {},
     "output_type": "execute_result"
    }
   ],
   "source": [
    "X.shape"
   ]
  },
  {
   "cell_type": "code",
   "execution_count": 51,
   "id": "d2e91479-f241-40b1-9e7a-e88c76ddfe08",
   "metadata": {},
   "outputs": [
    {
     "data": {
      "text/plain": [
       "413"
      ]
     },
     "execution_count": 51,
     "metadata": {},
     "output_type": "execute_result"
    }
   ],
   "source": [
    "# Unique words in the vocabulary\n",
    "len(vect.vocabulary_)"
   ]
  },
  {
   "cell_type": "markdown",
   "id": "29c68c0d-eaff-4aa5-b31f-f531830d7395",
   "metadata": {},
   "source": [
    "### Convert the sparse matrix to array"
   ]
  },
  {
   "cell_type": "code",
   "execution_count": 52,
   "id": "67c839a5-51bd-46b5-8988-c6153c0b73c3",
   "metadata": {},
   "outputs": [
    {
     "data": {
      "text/plain": [
       "scipy.sparse._csr.csr_matrix"
      ]
     },
     "execution_count": 52,
     "metadata": {},
     "output_type": "execute_result"
    }
   ],
   "source": [
    "type(X)"
   ]
  },
  {
   "cell_type": "code",
   "execution_count": 53,
   "id": "092dcf9b-be6e-4f4a-bf4c-5f75c0ce381e",
   "metadata": {},
   "outputs": [
    {
     "data": {
      "text/plain": [
       "(1500, 413)"
      ]
     },
     "execution_count": 53,
     "metadata": {},
     "output_type": "execute_result"
    }
   ],
   "source": [
    "X_a = X.toarray()\n",
    "X_a.shape"
   ]
  },
  {
   "cell_type": "code",
   "execution_count": 54,
   "id": "37c01259-f48f-4dbf-b3b0-1c133f5693c0",
   "metadata": {},
   "outputs": [
    {
     "data": {
      "text/plain": [
       "array([0, 0, 0, 0, 0, 0, 0, 0, 0, 0, 0, 0, 0, 0, 0, 0, 0, 0, 0, 0, 0, 0,\n",
       "       0, 0, 0, 0, 0, 0, 0, 0, 0, 0, 0, 0, 0, 0, 0, 0, 0, 0, 0, 0, 0, 0,\n",
       "       0, 0, 0, 0, 0, 0, 0, 0, 0, 0, 0, 0, 0, 0, 0, 0, 0, 0, 0, 0, 0, 0,\n",
       "       0, 0, 0, 0, 0, 0, 0, 0, 0, 0, 0, 0, 0, 0, 0, 0, 0, 0, 0, 0, 0, 0,\n",
       "       0, 0, 0, 0, 0, 0, 0, 0, 0, 0, 0, 0, 0, 0, 0, 0, 0, 0, 0, 0, 0, 0,\n",
       "       0, 0, 0, 0, 0, 0, 0, 0, 0, 0, 0, 0, 0, 0, 0, 0, 0, 0, 0, 0, 0, 0,\n",
       "       0, 0, 0, 0, 0, 0, 0, 0, 0, 0, 0, 0, 0, 0, 0, 0, 0, 0, 0, 0, 0, 0,\n",
       "       0, 0, 0, 0, 0, 0, 0, 0, 0, 0, 0, 0, 0, 0, 0, 0, 0, 0, 0, 0, 0, 0,\n",
       "       0, 0, 0, 0, 0, 0, 0, 0, 0, 0, 0, 0, 0, 0, 0, 0, 0, 0, 0, 0, 0, 0,\n",
       "       0, 0, 0, 0, 0, 0, 0, 0, 0, 0, 0, 0, 0, 0, 0, 0, 0, 0, 0, 0, 0, 0,\n",
       "       0, 0, 0, 0, 0, 0, 0, 0, 0, 0, 0, 0, 0, 1, 0, 0, 0, 0, 0, 0, 0, 0,\n",
       "       0, 0, 0, 0, 0, 0, 0, 0, 0, 0, 0, 0, 0, 0, 0, 0, 0, 0, 0, 0, 0, 0,\n",
       "       0, 0, 0, 0, 0, 0, 0, 0, 0, 0, 0, 0, 0, 0, 0, 0, 0, 0, 0, 0, 0, 0,\n",
       "       0, 0, 0, 0, 0, 0, 0, 0, 0, 0, 0, 0, 0, 0, 0, 0, 1, 0, 0, 0, 0, 0,\n",
       "       0, 0, 0, 0, 0, 0, 0, 0, 0, 0, 0, 0, 0, 0, 0, 0, 0, 0, 0, 0, 0, 0,\n",
       "       0, 0, 0, 0, 0, 0, 0, 0, 0, 0, 0, 0, 0, 0, 0, 0, 0, 0, 0, 0, 0, 0,\n",
       "       0, 0, 0, 0, 0, 0, 0, 0, 0, 0, 0, 0, 0, 0, 0, 0, 0, 0, 1, 0, 0, 0,\n",
       "       0, 0, 0, 0, 0, 0, 0, 0, 0, 0, 0, 0, 0, 0, 0, 0, 0, 0, 0, 0, 0, 0,\n",
       "       0, 0, 0, 0, 0, 1, 0, 0, 0, 0, 0, 0, 0, 0, 0, 0, 0])"
      ]
     },
     "execution_count": 54,
     "metadata": {},
     "output_type": "execute_result"
    }
   ],
   "source": [
    "X_a[13,:]"
   ]
  },
  {
   "cell_type": "code",
   "execution_count": 55,
   "id": "626f4b58-29bb-4169-b68a-cbc92569407c",
   "metadata": {},
   "outputs": [
    {
     "data": {
      "text/plain": [
       "4"
      ]
     },
     "execution_count": 55,
     "metadata": {},
     "output_type": "execute_result"
    }
   ],
   "source": [
    "X_a[13,:].sum()"
   ]
  },
  {
   "cell_type": "code",
   "execution_count": 56,
   "id": "4c8cf5a9-dd13-498d-bf03-db0171e75c6f",
   "metadata": {},
   "outputs": [
    {
     "data": {
      "text/plain": [
       "'unabl save work noth work'"
      ]
     },
     "execution_count": 56,
     "metadata": {},
     "output_type": "execute_result"
    }
   ],
   "source": [
    "clean_reviews[13]"
   ]
  },
  {
   "cell_type": "code",
   "execution_count": 59,
   "id": "d7de5e55-9d0a-4bb7-a865-a130983ff937",
   "metadata": {},
   "outputs": [
    {
     "name": "stderr",
     "output_type": "stream",
     "text": [
      "/var/folders/0c/_mtbsk_x4238bbw22x165tlm0000gn/T/ipykernel_42202/215404360.py:1: SettingWithCopyWarning: \n",
      "A value is trying to be set on a copy of a slice from a DataFrame.\n",
      "Try using .loc[row_indexer,col_indexer] = value instead\n",
      "\n",
      "See the caveats in the documentation: https://pandas.pydata.org/pandas-docs/stable/user_guide/indexing.html#returning-a-view-versus-a-copy\n",
      "  data['Sentiment'] = data['Sentiment'].apply(lambda x: 1 if x==\"Positive\" else 0)\n"
     ]
    }
   ],
   "source": [
    "data['Sentiment'] = data['Sentiment'].apply(lambda x: 1 if x==\"Positive\" else 0)\n",
    "y = data['Sentiment']"
   ]
  },
  {
   "cell_type": "code",
   "execution_count": 61,
   "id": "8e2e86c0-c628-4976-8f3c-fb7ab8c7dbef",
   "metadata": {},
   "outputs": [],
   "source": [
    "# Split the dataset into train and test\n",
    "X_train, X_test, y_train, y_test = train_test_split(X, y, test_size=0.2, stratify=y, random_state=42)"
   ]
  },
  {
   "cell_type": "markdown",
   "id": "4f2af82b-0d38-4a1a-96a1-f94b3eab6c65",
   "metadata": {},
   "source": [
    "### Build a Logistic Regression model"
   ]
  },
  {
   "cell_type": "code",
   "execution_count": 62,
   "id": "1c452cb8-aa7e-4699-ae92-6f82147d7086",
   "metadata": {},
   "outputs": [],
   "source": [
    "model = LogisticRegression()\n",
    "model.fit(X_train, y_train)\n",
    "\n",
    "train_pred = model.predict(X_train)"
   ]
  },
  {
   "cell_type": "code",
   "execution_count": 63,
   "id": "0781c66f-75e3-4135-a3dc-b39958128832",
   "metadata": {},
   "outputs": [
    {
     "data": {
      "text/plain": [
       "0.9608333333333333"
      ]
     },
     "execution_count": 63,
     "metadata": {},
     "output_type": "execute_result"
    }
   ],
   "source": [
    "accuracy_score(y_train, train_pred)"
   ]
  },
  {
   "cell_type": "code",
   "execution_count": 64,
   "id": "f8b36651-6f7b-46a1-b062-3a8abe170e17",
   "metadata": {},
   "outputs": [
    {
     "data": {
      "text/plain": [
       "0.89"
      ]
     },
     "execution_count": 64,
     "metadata": {},
     "output_type": "execute_result"
    }
   ],
   "source": [
    "test_pred = model.predict(X_test)\n",
    "accuracy_score(y_test, test_pred)"
   ]
  },
  {
   "cell_type": "code",
   "execution_count": 66,
   "id": "6cc0e089-4b94-4afc-a0ae-612362cb5c3b",
   "metadata": {},
   "outputs": [],
   "source": [
    "# Save both the vectorizer and the model\n",
    "\n",
    "with open(\"Output/binary_count_vect.pkl\", \"wb\") as f:\n",
    "    pickle.dump(vect, f)\n",
    "\n",
    "with open(\"Output/binary_count_vect_lr.pkl\", \"wb\") as f:\n",
    "    pickle.dump(model, f)"
   ]
  },
  {
   "cell_type": "markdown",
   "id": "3a4a135c-fe2e-4dc8-bb4f-7e7cafda7a8a",
   "metadata": {},
   "source": [
    "### Bag of words without binary"
   ]
  },
  {
   "cell_type": "code",
   "execution_count": 67,
   "id": "3e947071-4957-458e-a811-1bbe701f4cf4",
   "metadata": {},
   "outputs": [],
   "source": [
    "vect = CountVectorizer(min_df=5)\n",
    "\n",
    "X = vect.fit_transform(clean_reviews)\n",
    "X_a = X.toarray()"
   ]
  },
  {
   "cell_type": "code",
   "execution_count": 68,
   "id": "d333e9f8-d95c-4bea-8af9-a8773402866b",
   "metadata": {},
   "outputs": [
    {
     "data": {
      "text/plain": [
       "array([0, 0, 0, 0, 0, 0, 0, 0, 0, 0, 0, 0, 0, 0, 0, 0, 0, 0, 0, 0, 0, 0,\n",
       "       0, 0, 0, 0, 0, 0, 0, 0, 0, 0, 0, 0, 0, 0, 0, 0, 0, 0, 0, 0, 0, 0,\n",
       "       0, 0, 0, 0, 0, 0, 0, 0, 0, 0, 0, 0, 0, 0, 0, 0, 0, 0, 0, 0, 0, 0,\n",
       "       0, 0, 0, 0, 0, 0, 0, 0, 0, 0, 0, 0, 0, 0, 0, 0, 0, 0, 0, 0, 0, 0,\n",
       "       0, 0, 0, 0, 0, 0, 0, 0, 0, 0, 0, 0, 0, 0, 0, 0, 0, 0, 0, 0, 0, 0,\n",
       "       0, 0, 0, 0, 0, 0, 0, 0, 0, 0, 0, 0, 0, 0, 0, 0, 0, 0, 0, 0, 0, 0,\n",
       "       0, 0, 0, 0, 0, 0, 0, 0, 0, 0, 0, 0, 0, 0, 0, 0, 0, 0, 0, 0, 0, 0,\n",
       "       0, 0, 0, 0, 0, 0, 0, 0, 0, 0, 0, 0, 0, 0, 0, 0, 0, 0, 0, 0, 0, 0,\n",
       "       0, 0, 0, 0, 0, 0, 0, 0, 0, 0, 0, 0, 0, 0, 0, 0, 0, 0, 0, 0, 0, 0,\n",
       "       0, 0, 0, 0, 0, 0, 0, 0, 0, 0, 0, 0, 0, 0, 0, 0, 0, 0, 0, 0, 0, 0,\n",
       "       0, 0, 0, 0, 0, 0, 0, 0, 0, 0, 0, 0, 0, 1, 0, 0, 0, 0, 0, 0, 0, 0,\n",
       "       0, 0, 0, 0, 0, 0, 0, 0, 0, 0, 0, 0, 0, 0, 0, 0, 0, 0, 0, 0, 0, 0,\n",
       "       0, 0, 0, 0, 0, 0, 0, 0, 0, 0, 0, 0, 0, 0, 0, 0, 0, 0, 0, 0, 0, 0,\n",
       "       0, 0, 0, 0, 0, 0, 0, 0, 0, 0, 0, 0, 0, 0, 0, 0, 1, 0, 0, 0, 0, 0,\n",
       "       0, 0, 0, 0, 0, 0, 0, 0, 0, 0, 0, 0, 0, 0, 0, 0, 0, 0, 0, 0, 0, 0,\n",
       "       0, 0, 0, 0, 0, 0, 0, 0, 0, 0, 0, 0, 0, 0, 0, 0, 0, 0, 0, 0, 0, 0,\n",
       "       0, 0, 0, 0, 0, 0, 0, 0, 0, 0, 0, 0, 0, 0, 0, 0, 0, 0, 1, 0, 0, 0,\n",
       "       0, 0, 0, 0, 0, 0, 0, 0, 0, 0, 0, 0, 0, 0, 0, 0, 0, 0, 0, 0, 0, 0,\n",
       "       0, 0, 0, 0, 0, 2, 0, 0, 0, 0, 0, 0, 0, 0, 0, 0, 0])"
      ]
     },
     "execution_count": 68,
     "metadata": {},
     "output_type": "execute_result"
    }
   ],
   "source": [
    "X_a[13,:]"
   ]
  },
  {
   "cell_type": "code",
   "execution_count": 69,
   "id": "3ee7d962-6bda-4ed2-9acf-0b1a9931bbaf",
   "metadata": {},
   "outputs": [
    {
     "data": {
      "text/plain": [
       "2"
      ]
     },
     "execution_count": 69,
     "metadata": {},
     "output_type": "execute_result"
    }
   ],
   "source": [
    "X_a[13,401]"
   ]
  },
  {
   "cell_type": "code",
   "execution_count": 70,
   "id": "ea3f4136-f05d-47a6-9344-4ac5a4a446f9",
   "metadata": {},
   "outputs": [
    {
     "data": {
      "text/plain": [
       "5"
      ]
     },
     "execution_count": 70,
     "metadata": {},
     "output_type": "execute_result"
    }
   ],
   "source": [
    "X_a[13,:].sum()"
   ]
  },
  {
   "cell_type": "code",
   "execution_count": 71,
   "id": "2de5be46-09d3-42e8-8622-48eb41ddd20b",
   "metadata": {},
   "outputs": [],
   "source": [
    "# Split the dataset into train and test\n",
    "X_train, X_test, y_train, y_test = train_test_split(X, y, test_size=0.2, stratify=y, random_state=42)"
   ]
  },
  {
   "cell_type": "code",
   "execution_count": 72,
   "id": "67000489-3c52-4c1b-9f2d-5f4b64217eb5",
   "metadata": {},
   "outputs": [
    {
     "data": {
      "text/plain": [
       "0.9566666666666667"
      ]
     },
     "execution_count": 72,
     "metadata": {},
     "output_type": "execute_result"
    }
   ],
   "source": [
    "model = LogisticRegression()\n",
    "model.fit(X_train, y_train)\n",
    "\n",
    "train_pred = model.predict(X_train)\n",
    "accuracy_score(y_train, train_pred)"
   ]
  },
  {
   "cell_type": "code",
   "execution_count": 73,
   "id": "2c05a319-8ac0-4514-80c4-bb5e8af54420",
   "metadata": {},
   "outputs": [
    {
     "data": {
      "text/plain": [
       "0.8833333333333333"
      ]
     },
     "execution_count": 73,
     "metadata": {},
     "output_type": "execute_result"
    }
   ],
   "source": [
    "test_pred = model.predict(X_test)\n",
    "accuracy_score(y_test, test_pred)"
   ]
  },
  {
   "cell_type": "markdown",
   "id": "05993f88-cb22-4d43-a95d-0908a240e3c0",
   "metadata": {},
   "source": [
    "## N-Grams\n",
    "\n",
    "`n-grams` are contiguous sequences of n items from a given text, where the items can be characters, words, or other linguistic units.\n",
    "\n",
    "For example, a 2-gram (also called a bigram) of the sentence `The quick brown fox jumps over the lazy dog` would be a sequence of two consecutive words at a time, resulting in the following bigrams: `The quick`, `quick brown`, `brown fox`, `fox jumps`, `jumps over`, `over the`, `the lazy`, and `lazy dog`. Similarly, a 3-gram (also called a trigram) would generate sequences of three consecutive words at a time."
   ]
  },
  {
   "cell_type": "code",
   "execution_count": 74,
   "id": "e50317c2-6634-4693-94d9-94c47422faba",
   "metadata": {},
   "outputs": [],
   "source": [
    "vect = CountVectorizer(min_df=5, ngram_range=(1,3))\n",
    "\n",
    "X = vect.fit_transform(clean_reviews)\n",
    "X_a = X.toarray()"
   ]
  },
  {
   "cell_type": "code",
   "execution_count": 75,
   "id": "382cfe29-7e9f-4888-802e-0171844d0e5c",
   "metadata": {},
   "outputs": [
    {
     "data": {
      "text/plain": [
       "(1500, 666)"
      ]
     },
     "execution_count": 75,
     "metadata": {},
     "output_type": "execute_result"
    }
   ],
   "source": [
    "X.shape"
   ]
  },
  {
   "cell_type": "code",
   "execution_count": 76,
   "id": "ff02e1f6-b7dd-41ee-9050-58c2c9bdf69d",
   "metadata": {},
   "outputs": [],
   "source": [
    "# Split the dataset into train and test\n",
    "X_train, X_test, y_train, y_test = train_test_split(X, y, test_size=0.2, stratify=y, random_state=42)"
   ]
  },
  {
   "cell_type": "code",
   "execution_count": 77,
   "id": "81d58fb2-0e7f-415d-ac5e-a7324e341d92",
   "metadata": {},
   "outputs": [
    {
     "data": {
      "text/plain": [
       "0.9716666666666667"
      ]
     },
     "execution_count": 77,
     "metadata": {},
     "output_type": "execute_result"
    }
   ],
   "source": [
    "model = LogisticRegression()\n",
    "model.fit(X_train, y_train)\n",
    "\n",
    "train_pred = model.predict(X_train)\n",
    "accuracy_score(y_train, train_pred)"
   ]
  },
  {
   "cell_type": "code",
   "execution_count": 78,
   "id": "a4ba91d2-8b3f-4025-abc6-741737b1c672",
   "metadata": {},
   "outputs": [
    {
     "data": {
      "text/plain": [
       "0.8933333333333333"
      ]
     },
     "execution_count": 78,
     "metadata": {},
     "output_type": "execute_result"
    }
   ],
   "source": [
    "test_pred = model.predict(X_test)\n",
    "accuracy_score(y_test, test_pred)"
   ]
  },
  {
   "cell_type": "code",
   "execution_count": 79,
   "id": "42ac4be2-7d7d-4513-b587-202d1bc2d7ab",
   "metadata": {},
   "outputs": [],
   "source": [
    "# Save both the vectorizer and the model\n",
    "\n",
    "with open(\"Output/n_gram.pkl\", \"wb\") as f:\n",
    "    pickle.dump(vect, f)\n",
    "\n",
    "with open(\"Output/n_gram_lr.pkl\", \"wb\") as f:\n",
    "    pickle.dump(model, f)"
   ]
  },
  {
   "cell_type": "markdown",
   "id": "1b06964c-460c-46e4-8a27-7c730b37306f",
   "metadata": {},
   "source": [
    "## TF-IDF"
   ]
  },
  {
   "cell_type": "code",
   "execution_count": 80,
   "id": "8db5341c-1ac9-4d68-bb50-addb7be69f19",
   "metadata": {},
   "outputs": [
    {
     "data": {
      "text/plain": [
       "(1500, 413)"
      ]
     },
     "execution_count": 80,
     "metadata": {},
     "output_type": "execute_result"
    }
   ],
   "source": [
    "vect = TfidfVectorizer(min_df=5)\n",
    "\n",
    "X = vect.fit_transform(clean_reviews)\n",
    "X.shape"
   ]
  },
  {
   "cell_type": "code",
   "execution_count": 81,
   "id": "8c7ecd22-caef-42a5-bf51-8fac89804005",
   "metadata": {},
   "outputs": [
    {
     "data": {
      "text/plain": [
       "0.935"
      ]
     },
     "execution_count": 81,
     "metadata": {},
     "output_type": "execute_result"
    }
   ],
   "source": [
    "# Split the dataset into train and test\n",
    "X_train, X_test, y_train, y_test = train_test_split(X, y, test_size=0.2, stratify=y, random_state=42)\n",
    "\n",
    "model = LogisticRegression()\n",
    "model.fit(X_train, y_train)\n",
    "\n",
    "train_pred = model.predict(X_train)\n",
    "accuracy_score(y_train, train_pred)"
   ]
  },
  {
   "cell_type": "code",
   "execution_count": 82,
   "id": "60192420-9e96-4ebf-83e9-47da8ec5d145",
   "metadata": {},
   "outputs": [
    {
     "data": {
      "text/plain": [
       "0.8766666666666667"
      ]
     },
     "execution_count": 82,
     "metadata": {},
     "output_type": "execute_result"
    }
   ],
   "source": [
    "test_pred = model.predict(X_test)\n",
    "accuracy_score(y_test, test_pred)"
   ]
  },
  {
   "cell_type": "markdown",
   "id": "3a1e7820-82d9-41cd-8be2-bbf6e2813707",
   "metadata": {},
   "source": [
    "`N-grams` gave the best accuracy, so we would be loading a new data and see how it performs."
   ]
  },
  {
   "cell_type": "markdown",
   "id": "a280d55a-bf65-4650-aaa2-94ab898cf399",
   "metadata": {},
   "source": [
    "## Predictions"
   ]
  },
  {
   "cell_type": "code",
   "execution_count": 83,
   "id": "4ed61ef6-1796-4398-859e-a10fd88f9185",
   "metadata": {},
   "outputs": [],
   "source": [
    "# Sample test reviews\n",
    "test_review_1 = '''this is a truly amazing app , best for those who have content but don't know how to \n",
    "express it in a good and shareable manner. Thanks Team Canva for such a great app.'''\n",
    "\n",
    "test_review_2 = '''Its the worst app ever I save my design lts not save'''"
   ]
  },
  {
   "cell_type": "code",
   "execution_count": 84,
   "id": "9a8bc1e4-e274-4ae7-ac35-730f72871fe5",
   "metadata": {},
   "outputs": [],
   "source": [
    "# Load the `n-gram` model and it's vectorizer\n",
    "vect = pickle.load(open(\"Output/n_gram.pkl\", \"rb\"))\n",
    "model = pickle.load(open(\"Output/n_gram_lr.pkl\", \"rb\"))"
   ]
  },
  {
   "cell_type": "code",
   "execution_count": 85,
   "id": "23fb99fb-506b-4802-b3ee-1c17b4a000f1",
   "metadata": {},
   "outputs": [],
   "source": [
    "# Convert the reviews to a batch of one record\n",
    "test_review_1 = [test_review_1]\n",
    "test_review_2 = [test_review_2]"
   ]
  },
  {
   "cell_type": "code",
   "execution_count": 86,
   "id": "dfc5597d-b39f-465d-9be4-ba937b7ad93d",
   "metadata": {},
   "outputs": [],
   "source": [
    "# Convert the text to lower case\n",
    "test_review_1 = [r.lower() for r in test_review_1]\n",
    "test_review_2 = [r.lower() for r in test_review_2]"
   ]
  },
  {
   "cell_type": "code",
   "execution_count": 87,
   "id": "9ddc3821-ac05-4031-adee-eda1820008f9",
   "metadata": {},
   "outputs": [],
   "source": [
    "# Tokenize the text\n",
    "tokens_1 = [word_tokenize(r) for r in test_review_1]\n",
    "tokens_2 = [word_tokenize(r) for r in test_review_2]"
   ]
  },
  {
   "cell_type": "code",
   "execution_count": 88,
   "id": "d39a6800-99f5-400e-9246-26455698c02d",
   "metadata": {},
   "outputs": [],
   "source": [
    "# Remove Stopwords\n",
    "tokens_1 = [[word for word in t if word not in sw] for t in tokens_1]\n",
    "tokens_2 = [[word for word in t if word not in sw] for t in tokens_2]"
   ]
  },
  {
   "cell_type": "code",
   "execution_count": 89,
   "id": "ff0acaf1-65d6-4b6f-a249-87ccf2fe9175",
   "metadata": {},
   "outputs": [],
   "source": [
    "# Remove Punctuations\n",
    "tokens_1 = [[\"\".join(tokenizer.tokenize(word)) for word in t\n",
    "            if len(tokenizer.tokenize(word))>0] for t in tokens_1]\n",
    "\n",
    "tokens_2 = [[\"\".join(tokenizer.tokenize(word)) for word in t\n",
    "            if len(tokenizer.tokenize(word))>0] for t in tokens_2]"
   ]
  },
  {
   "cell_type": "code",
   "execution_count": 90,
   "id": "a9b81738-84cc-493b-b271-081a0386ba09",
   "metadata": {},
   "outputs": [],
   "source": [
    "# Stemming\n",
    "tokens_1 = [[porter.stem(word) for word in t] for t in tokens_1]\n",
    "tokens_2 = [[porter.stem(word) for word in t] for t in tokens_2]"
   ]
  },
  {
   "cell_type": "code",
   "execution_count": 91,
   "id": "260cb01f-610d-4729-b20c-1776a1603366",
   "metadata": {},
   "outputs": [
    {
     "data": {
      "text/plain": [
       "[['truli',\n",
       "  'amaz',\n",
       "  'app',\n",
       "  'best',\n",
       "  'content',\n",
       "  'nt',\n",
       "  'know',\n",
       "  'express',\n",
       "  'good',\n",
       "  'shareabl',\n",
       "  'manner',\n",
       "  'thank',\n",
       "  'team',\n",
       "  'canva',\n",
       "  'great',\n",
       "  'app']]"
      ]
     },
     "execution_count": 91,
     "metadata": {},
     "output_type": "execute_result"
    }
   ],
   "source": [
    "tokens_1"
   ]
  },
  {
   "cell_type": "code",
   "execution_count": 92,
   "id": "613b678b-cd5f-427e-8b31-49c94dd67e12",
   "metadata": {},
   "outputs": [
    {
     "data": {
      "text/plain": [
       "[\"this is a truly amazing app , best for those who have content but don't know how to \\nexpress it in a good and shareable manner. thanks team canva for such a great app.\"]"
      ]
     },
     "execution_count": 92,
     "metadata": {},
     "output_type": "execute_result"
    }
   ],
   "source": [
    "test_review_1"
   ]
  },
  {
   "cell_type": "code",
   "execution_count": 93,
   "id": "94f3fa39-dbd2-4255-b94c-bc2c193d3092",
   "metadata": {},
   "outputs": [
    {
     "data": {
      "text/plain": [
       "[['worst', 'app', 'ever', 'save', 'design', 'lt', 'save']]"
      ]
     },
     "execution_count": 93,
     "metadata": {},
     "output_type": "execute_result"
    }
   ],
   "source": [
    "tokens_2"
   ]
  },
  {
   "cell_type": "code",
   "execution_count": 94,
   "id": "02893214-653e-47ac-8727-d3e4d758593c",
   "metadata": {},
   "outputs": [
    {
     "data": {
      "text/plain": [
       "['its the worst app ever i save my design lts not save']"
      ]
     },
     "execution_count": 94,
     "metadata": {},
     "output_type": "execute_result"
    }
   ],
   "source": [
    "test_review_2"
   ]
  },
  {
   "cell_type": "code",
   "execution_count": 95,
   "id": "bea1cbe7-d58a-4ae7-bc0a-a42cc2591204",
   "metadata": {},
   "outputs": [],
   "source": [
    "# Join the tokens to form a sentence\n",
    "clean_review_1 = [\" \".join(review) for review in tokens_1]\n",
    "clean_review_2 = [\" \".join(review) for review in tokens_2]"
   ]
  },
  {
   "cell_type": "code",
   "execution_count": 96,
   "id": "d1ba5be1-a9aa-4670-8f67-8c5cb2e35ba3",
   "metadata": {},
   "outputs": [
    {
     "data": {
      "text/plain": [
       "(1, 666)"
      ]
     },
     "execution_count": 96,
     "metadata": {},
     "output_type": "execute_result"
    }
   ],
   "source": [
    "# Transform the text using vectorizer and make predictions\n",
    "# review 1\n",
    "X_test = vect.transform(clean_review_1)\n",
    "X_test.shape"
   ]
  },
  {
   "cell_type": "code",
   "execution_count": 97,
   "id": "92e5feb1-dc12-4046-8a09-a7a6b28dc489",
   "metadata": {},
   "outputs": [
    {
     "data": {
      "text/plain": [
       "array([[0.00441452, 0.99558548]])"
      ]
     },
     "execution_count": 97,
     "metadata": {},
     "output_type": "execute_result"
    }
   ],
   "source": [
    "model.predict_proba(X_test)"
   ]
  },
  {
   "cell_type": "code",
   "execution_count": 98,
   "id": "e6abe2c9-3420-4fe4-a7e6-48c0b840c24c",
   "metadata": {},
   "outputs": [
    {
     "data": {
      "text/plain": [
       "array([1])"
      ]
     },
     "execution_count": 98,
     "metadata": {},
     "output_type": "execute_result"
    }
   ],
   "source": [
    "model.predict(X_test)"
   ]
  },
  {
   "cell_type": "markdown",
   "id": "57d7f5ef-54a7-4d02-a1d4-8eba567ff74c",
   "metadata": {},
   "source": [
    "It predicted a `positive review` which is correct"
   ]
  },
  {
   "cell_type": "code",
   "execution_count": 99,
   "id": "273d58a8-7517-466f-8184-87e96d37504a",
   "metadata": {},
   "outputs": [
    {
     "data": {
      "text/plain": [
       "(1, 666)"
      ]
     },
     "execution_count": 99,
     "metadata": {},
     "output_type": "execute_result"
    }
   ],
   "source": [
    "# review 2\n",
    "X_test = vect.transform(clean_review_2)\n",
    "X_test.shape"
   ]
  },
  {
   "cell_type": "code",
   "execution_count": 100,
   "id": "eb071aea-6bab-4d6c-bb36-29f60f7fba93",
   "metadata": {},
   "outputs": [
    {
     "data": {
      "text/plain": [
       "array([[0.87775701, 0.12224299]])"
      ]
     },
     "execution_count": 100,
     "metadata": {},
     "output_type": "execute_result"
    }
   ],
   "source": [
    "model.predict_proba(X_test)"
   ]
  },
  {
   "cell_type": "code",
   "execution_count": 101,
   "id": "3abf5f92-d9bb-415f-a894-53e8041ff3c6",
   "metadata": {},
   "outputs": [
    {
     "data": {
      "text/plain": [
       "array([0])"
      ]
     },
     "execution_count": 101,
     "metadata": {},
     "output_type": "execute_result"
    }
   ],
   "source": [
    "model.predict(X_test)"
   ]
  },
  {
   "cell_type": "markdown",
   "id": "64cdaea3-2ee9-4a33-a8b9-69f43b9a063b",
   "metadata": {},
   "source": [
    "It predicted a `negative review` which is correct"
   ]
  }
 ],
 "metadata": {
  "kernelspec": {
   "display_name": "Python 3 (ipykernel)",
   "language": "python",
   "name": "python3"
  },
  "language_info": {
   "codemirror_mode": {
    "name": "ipython",
    "version": 3
   },
   "file_extension": ".py",
   "mimetype": "text/x-python",
   "name": "python",
   "nbconvert_exporter": "python",
   "pygments_lexer": "ipython3",
   "version": "3.9.16"
  }
 },
 "nbformat": 4,
 "nbformat_minor": 5
}
