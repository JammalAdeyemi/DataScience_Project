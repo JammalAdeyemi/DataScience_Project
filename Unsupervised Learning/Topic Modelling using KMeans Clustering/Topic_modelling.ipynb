{
 "cells": [
  {
   "cell_type": "code",
   "execution_count": 1,
   "id": "a60b0a62-5961-40d7-b2ff-7d274145af19",
   "metadata": {},
   "outputs": [],
   "source": [
    "import pandas as pd\n",
    "import numpy as np\n",
    "import seaborn as sns\n",
    "import matplotlib.pyplot as plt\n",
    "import re\n",
    "import nltk\n",
    "\n",
    "%matplotlib inline\n",
    "\n",
    "# Get multiple outputs in the same cell\n",
    "from IPython.core.interactiveshell import InteractiveShell\n",
    "InteractiveShell.ast_node_interactivity = 'all'\n",
    "\n",
    "# Ignore all warnings\n",
    "import warnings\n",
    "warnings.filterwarnings('ignore')\n",
    "warnings.filterwarnings(action='ignore', category=DeprecationWarning)\n",
    "\n",
    "# Display all rows and columns of a dataframe instead of a truncated version\n",
    "from IPython.display import display\n",
    "pd.set_option('display.max_columns', None)\n",
    "pd.set_option('display.max_rows', None)"
   ]
  },
  {
   "cell_type": "code",
   "execution_count": 2,
   "id": "2363db9a-8756-4676-9f95-ddadfeb8d127",
   "metadata": {},
   "outputs": [
    {
     "data": {
      "text/html": [
       "<div>\n",
       "<style scoped>\n",
       "    .dataframe tbody tr th:only-of-type {\n",
       "        vertical-align: middle;\n",
       "    }\n",
       "\n",
       "    .dataframe tbody tr th {\n",
       "        vertical-align: top;\n",
       "    }\n",
       "\n",
       "    .dataframe thead th {\n",
       "        text-align: right;\n",
       "    }\n",
       "</style>\n",
       "<table border=\"1\" class=\"dataframe\">\n",
       "  <thead>\n",
       "    <tr style=\"text-align: right;\">\n",
       "      <th></th>\n",
       "      <th>username</th>\n",
       "      <th>date</th>\n",
       "      <th>tweet</th>\n",
       "      <th>mentions</th>\n",
       "    </tr>\n",
       "  </thead>\n",
       "  <tbody>\n",
       "    <tr>\n",
       "      <th>0</th>\n",
       "      <td>shivaji_takey</td>\n",
       "      <td>10-06-2020</td>\n",
       "      <td>Please check what happens to this no 940417705...</td>\n",
       "      <td>['vodafonein']</td>\n",
       "    </tr>\n",
       "    <tr>\n",
       "      <th>1</th>\n",
       "      <td>sarasberiwala</td>\n",
       "      <td>10-06-2020</td>\n",
       "      <td>Network fluctuations and 4G Speed is pathetic....</td>\n",
       "      <td>['vodafonein']</td>\n",
       "    </tr>\n",
       "    <tr>\n",
       "      <th>2</th>\n",
       "      <td>chitreamod</td>\n",
       "      <td>10-06-2020</td>\n",
       "      <td>This has been going on since 3rd... this absol...</td>\n",
       "      <td>['vodafonein']</td>\n",
       "    </tr>\n",
       "    <tr>\n",
       "      <th>3</th>\n",
       "      <td>sanjan_suman</td>\n",
       "      <td>10-06-2020</td>\n",
       "      <td>@VodafoneIN  I have done my recharge of 555 on...</td>\n",
       "      <td>['vodafonein']</td>\n",
       "    </tr>\n",
       "    <tr>\n",
       "      <th>4</th>\n",
       "      <td>t_nihsit</td>\n",
       "      <td>10-06-2020</td>\n",
       "      <td>But when???Still I am not received any call fr...</td>\n",
       "      <td>['vodafonein']</td>\n",
       "    </tr>\n",
       "  </tbody>\n",
       "</table>\n",
       "</div>"
      ],
      "text/plain": [
       "        username        date  \\\n",
       "0  shivaji_takey  10-06-2020   \n",
       "1  sarasberiwala  10-06-2020   \n",
       "2     chitreamod  10-06-2020   \n",
       "3   sanjan_suman  10-06-2020   \n",
       "4       t_nihsit  10-06-2020   \n",
       "\n",
       "                                               tweet        mentions  \n",
       "0  Please check what happens to this no 940417705...  ['vodafonein']  \n",
       "1  Network fluctuations and 4G Speed is pathetic....  ['vodafonein']  \n",
       "2  This has been going on since 3rd... this absol...  ['vodafonein']  \n",
       "3  @VodafoneIN  I have done my recharge of 555 on...  ['vodafonein']  \n",
       "4  But when???Still I am not received any call fr...  ['vodafonein']  "
      ]
     },
     "execution_count": 2,
     "metadata": {},
     "output_type": "execute_result"
    }
   ],
   "source": [
    "raw_data = pd.read_csv('tweets.csv', encoding='ISO-8859-1')\n",
    "raw_data.head()"
   ]
  },
  {
   "cell_type": "code",
   "execution_count": 3,
   "id": "2eff6667-2bee-4da5-8c83-4b5e9cd4cc5a",
   "metadata": {},
   "outputs": [
    {
     "data": {
      "text/html": [
       "<div>\n",
       "<style scoped>\n",
       "    .dataframe tbody tr th:only-of-type {\n",
       "        vertical-align: middle;\n",
       "    }\n",
       "\n",
       "    .dataframe tbody tr th {\n",
       "        vertical-align: top;\n",
       "    }\n",
       "\n",
       "    .dataframe thead th {\n",
       "        text-align: right;\n",
       "    }\n",
       "</style>\n",
       "<table border=\"1\" class=\"dataframe\">\n",
       "  <thead>\n",
       "    <tr style=\"text-align: right;\">\n",
       "      <th></th>\n",
       "      <th>username</th>\n",
       "      <th>date</th>\n",
       "      <th>tweet</th>\n",
       "      <th>mentions</th>\n",
       "    </tr>\n",
       "  </thead>\n",
       "  <tbody>\n",
       "    <tr>\n",
       "      <th>21042</th>\n",
       "      <td>mvjdobhal</td>\n",
       "      <td>31-05-2020</td>\n",
       "      <td>I sent u my contact no. But still did not get ...</td>\n",
       "      <td>['vodafonein']</td>\n",
       "    </tr>\n",
       "    <tr>\n",
       "      <th>21043</th>\n",
       "      <td>valleyofpeace2</td>\n",
       "      <td>31-05-2020</td>\n",
       "      <td>dear @VodafoneIN  i have bn facing ur network ...</td>\n",
       "      <td>['vodafonein']</td>\n",
       "    </tr>\n",
       "    <tr>\n",
       "      <th>21044</th>\n",
       "      <td>mushtabaarshad</td>\n",
       "      <td>31-05-2020</td>\n",
       "      <td>rubbish i made many time @VodafoneIN  you didn...</td>\n",
       "      <td>['vodafonein']</td>\n",
       "    </tr>\n",
       "    <tr>\n",
       "      <th>21045</th>\n",
       "      <td>gouravgv</td>\n",
       "      <td>31-05-2020</td>\n",
       "      <td>Why the caller tunes sound so horrible? if a s...</td>\n",
       "      <td>['airtelindia', 'idea', 'vodafonein', 'bsnlcor...</td>\n",
       "    </tr>\n",
       "    <tr>\n",
       "      <th>21046</th>\n",
       "      <td>v_manoj19</td>\n",
       "      <td>31-05-2020</td>\n",
       "      <td>@VodafoneIN @idea_cares what nonsense are u gu...</td>\n",
       "      <td>['vodafonein', 'idea_cares']</td>\n",
       "    </tr>\n",
       "  </tbody>\n",
       "</table>\n",
       "</div>"
      ],
      "text/plain": [
       "             username        date  \\\n",
       "21042       mvjdobhal  31-05-2020   \n",
       "21043  valleyofpeace2  31-05-2020   \n",
       "21044  mushtabaarshad  31-05-2020   \n",
       "21045        gouravgv  31-05-2020   \n",
       "21046       v_manoj19  31-05-2020   \n",
       "\n",
       "                                                   tweet  \\\n",
       "21042  I sent u my contact no. But still did not get ...   \n",
       "21043  dear @VodafoneIN  i have bn facing ur network ...   \n",
       "21044  rubbish i made many time @VodafoneIN  you didn...   \n",
       "21045  Why the caller tunes sound so horrible? if a s...   \n",
       "21046  @VodafoneIN @idea_cares what nonsense are u gu...   \n",
       "\n",
       "                                                mentions  \n",
       "21042                                     ['vodafonein']  \n",
       "21043                                     ['vodafonein']  \n",
       "21044                                     ['vodafonein']  \n",
       "21045  ['airtelindia', 'idea', 'vodafonein', 'bsnlcor...  \n",
       "21046                       ['vodafonein', 'idea_cares']  "
      ]
     },
     "execution_count": 3,
     "metadata": {},
     "output_type": "execute_result"
    }
   ],
   "source": [
    "data = raw_data.copy()\n",
    "data.tail()"
   ]
  },
  {
   "cell_type": "code",
   "execution_count": 4,
   "id": "016d6918-d02b-4420-99f7-d265d3133afb",
   "metadata": {},
   "outputs": [
    {
     "data": {
      "text/plain": [
       "(21047, 4)"
      ]
     },
     "execution_count": 4,
     "metadata": {},
     "output_type": "execute_result"
    }
   ],
   "source": [
    "data.shape"
   ]
  },
  {
   "cell_type": "code",
   "execution_count": 5,
   "id": "c441b94b-97ad-4e8f-932c-72734d683859",
   "metadata": {},
   "outputs": [
    {
     "data": {
      "text/plain": [
       "'Please check what happens to this no 9404177052 not in woking since lockdown. Maharashtra.'"
      ]
     },
     "execution_count": 5,
     "metadata": {},
     "output_type": "execute_result"
    }
   ],
   "source": [
    "data['tweet'][0]"
   ]
  },
  {
   "cell_type": "code",
   "execution_count": 6,
   "id": "82bff9ff-6daa-40dc-9c8d-33137d1d09d9",
   "metadata": {},
   "outputs": [
    {
     "data": {
      "text/plain": [
       "username    10724\n",
       "date           11\n",
       "tweet       21047\n",
       "mentions     4704\n",
       "dtype: int64"
      ]
     },
     "execution_count": 6,
     "metadata": {},
     "output_type": "execute_result"
    }
   ],
   "source": [
    "data.nunique()"
   ]
  },
  {
   "cell_type": "markdown",
   "id": "99ddbb79-e8ba-4aaa-8b3a-ea7c5288ffde",
   "metadata": {},
   "source": [
    "## Data Cleaning"
   ]
  },
  {
   "cell_type": "code",
   "execution_count": 7,
   "id": "a2236958-f141-454c-8421-94d81dade047",
   "metadata": {},
   "outputs": [],
   "source": [
    "def remove_pattern(input_txt, pattern):\n",
    "    r = re.findall(pattern, input_txt) \n",
    "    for i in r:\n",
    "        input_txt = re.sub(i, '', input_txt)\n",
    "    return input_txt"
   ]
  },
  {
   "cell_type": "markdown",
   "id": "47de85b5-04d7-4434-b37d-b5f44aecdb3a",
   "metadata": {},
   "source": [
    "### Remove any @ mentions"
   ]
  },
  {
   "cell_type": "code",
   "execution_count": 8,
   "id": "7a449aaf-1576-4cae-8eb3-42f31a796b79",
   "metadata": {},
   "outputs": [
    {
     "data": {
      "text/plain": [
       "0    Please check what happens to this no 940417705...\n",
       "1    Network fluctuations and 4G Speed is pathetic....\n",
       "2    This has been going on since 3rd... this absol...\n",
       "3      I have done my recharge of 555 on 9709333370...\n",
       "4    But when???Still I am not received any call fr...\n",
       "5     mere area me vodafone ka network nai aa raha ...\n",
       "6    Thanks, but I have visited the website, called...\n",
       "7     \\nHi,\\n Today my Vodafone cim is deactivated ...\n",
       "8    Dear Vodafone, I have already responded to you...\n",
       "9     SIR OUR MARKET AREA ME BILKUL NETWORK NAHI AA...\n",
       "Name: Clean_text, dtype: object"
      ]
     },
     "execution_count": 8,
     "metadata": {},
     "output_type": "execute_result"
    }
   ],
   "source": [
    "data['Clean_text'] = np.vectorize(remove_pattern)(data['tweet'], \"@[\\w]*\")\n",
    "data['Clean_text'].head(10)"
   ]
  },
  {
   "cell_type": "markdown",
   "id": "903194d5-8ac3-4ba4-a629-9fdec1fb3d02",
   "metadata": {},
   "source": [
    "`np.vectorize` is another way of writing a `for_loop`. It will loop through all the tweets data in the dataframe."
   ]
  },
  {
   "cell_type": "code",
   "execution_count": 9,
   "id": "b6a805c5-08fb-4d94-a665-a99e8d339a81",
   "metadata": {},
   "outputs": [
    {
     "data": {
      "text/plain": [
       "0    Please check what happens to this no          ...\n",
       "1    Network fluctuations and  G Speed is pathetic ...\n",
       "2    This has been going on since  rd    this absol...\n",
       "3      I have done my recharge of     on           ...\n",
       "4    But when   Still I am not received any call fr...\n",
       "5     mere area me vodafone ka network nai aa raha ...\n",
       "6    Thanks  but I have visited the website  called...\n",
       "7      Hi   Today my Vodafone cim is deactivated wi...\n",
       "8    Dear Vodafone  I have already responded to you...\n",
       "9     SIR OUR MARKET AREA ME BILKUL NETWORK NAHI AA...\n",
       "Name: Clean_text, dtype: object"
      ]
     },
     "execution_count": 9,
     "metadata": {},
     "output_type": "execute_result"
    }
   ],
   "source": [
    "data['Clean_text'] = data['Clean_text'].str.replace(\"[^a-zA-Z#]\", \" \") \n",
    "data['Clean_text'].head(10)"
   ]
  },
  {
   "cell_type": "code",
   "execution_count": 10,
   "id": "38fc0ab2-8ddf-43e1-9d49-e5a2fe19d5a3",
   "metadata": {},
   "outputs": [
    {
     "data": {
      "text/plain": [
       "0    please check what happens to this no          ...\n",
       "1    network fluctuations and  g speed is pathetic ...\n",
       "2    this has been going on since  rd    this absol...\n",
       "3      i have done my recharge of     on           ...\n",
       "4    but when   still i am not received any call fr...\n",
       "5     mere area me vodafone ka network nai aa raha ...\n",
       "6    thanks  but i have visited the website  called...\n",
       "7      hi   today my vodafone cim is deactivated wi...\n",
       "8    dear vodafone  i have already responded to you...\n",
       "9     sir our market area me bilkul network nahi aa...\n",
       "Name: Clean_text, dtype: object"
      ]
     },
     "execution_count": 10,
     "metadata": {},
     "output_type": "execute_result"
    }
   ],
   "source": [
    "data['Clean_text'] = data['Clean_text'].str.lower()\n",
    "data['Clean_text'].head(10)"
   ]
  },
  {
   "cell_type": "code",
   "execution_count": 11,
   "id": "51ab635a-59fd-400a-b250-b29c639e8ee8",
   "metadata": {},
   "outputs": [
    {
     "data": {
      "text/html": [
       "<div>\n",
       "<style scoped>\n",
       "    .dataframe tbody tr th:only-of-type {\n",
       "        vertical-align: middle;\n",
       "    }\n",
       "\n",
       "    .dataframe tbody tr th {\n",
       "        vertical-align: top;\n",
       "    }\n",
       "\n",
       "    .dataframe thead th {\n",
       "        text-align: right;\n",
       "    }\n",
       "</style>\n",
       "<table border=\"1\" class=\"dataframe\">\n",
       "  <thead>\n",
       "    <tr style=\"text-align: right;\">\n",
       "      <th></th>\n",
       "      <th>username</th>\n",
       "      <th>date</th>\n",
       "      <th>tweet</th>\n",
       "      <th>mentions</th>\n",
       "      <th>Clean_text</th>\n",
       "    </tr>\n",
       "  </thead>\n",
       "  <tbody>\n",
       "    <tr>\n",
       "      <th>0</th>\n",
       "      <td>shivaji_takey</td>\n",
       "      <td>10-06-2020</td>\n",
       "      <td>Please check what happens to this no 940417705...</td>\n",
       "      <td>['vodafonein']</td>\n",
       "      <td>please check what happens this not woking sinc...</td>\n",
       "    </tr>\n",
       "    <tr>\n",
       "      <th>1</th>\n",
       "      <td>sarasberiwala</td>\n",
       "      <td>10-06-2020</td>\n",
       "      <td>Network fluctuations and 4G Speed is pathetic....</td>\n",
       "      <td>['vodafonein']</td>\n",
       "      <td>network fluctuations and speed pathetic need j...</td>\n",
       "    </tr>\n",
       "    <tr>\n",
       "      <th>2</th>\n",
       "      <td>chitreamod</td>\n",
       "      <td>10-06-2020</td>\n",
       "      <td>This has been going on since 3rd... this absol...</td>\n",
       "      <td>['vodafonein']</td>\n",
       "      <td>this has been going since this absolutely unpr...</td>\n",
       "    </tr>\n",
       "    <tr>\n",
       "      <th>3</th>\n",
       "      <td>sanjan_suman</td>\n",
       "      <td>10-06-2020</td>\n",
       "      <td>@VodafoneIN  I have done my recharge of 555 on...</td>\n",
       "      <td>['vodafonein']</td>\n",
       "      <td>have done recharge but haven got perday with u...</td>\n",
       "    </tr>\n",
       "    <tr>\n",
       "      <th>4</th>\n",
       "      <td>t_nihsit</td>\n",
       "      <td>10-06-2020</td>\n",
       "      <td>But when???Still I am not received any call fr...</td>\n",
       "      <td>['vodafonein']</td>\n",
       "      <td>but when still not received any call from cust...</td>\n",
       "    </tr>\n",
       "  </tbody>\n",
       "</table>\n",
       "</div>"
      ],
      "text/plain": [
       "        username        date  \\\n",
       "0  shivaji_takey  10-06-2020   \n",
       "1  sarasberiwala  10-06-2020   \n",
       "2     chitreamod  10-06-2020   \n",
       "3   sanjan_suman  10-06-2020   \n",
       "4       t_nihsit  10-06-2020   \n",
       "\n",
       "                                               tweet        mentions  \\\n",
       "0  Please check what happens to this no 940417705...  ['vodafonein']   \n",
       "1  Network fluctuations and 4G Speed is pathetic....  ['vodafonein']   \n",
       "2  This has been going on since 3rd... this absol...  ['vodafonein']   \n",
       "3  @VodafoneIN  I have done my recharge of 555 on...  ['vodafonein']   \n",
       "4  But when???Still I am not received any call fr...  ['vodafonein']   \n",
       "\n",
       "                                          Clean_text  \n",
       "0  please check what happens this not woking sinc...  \n",
       "1  network fluctuations and speed pathetic need j...  \n",
       "2  this has been going since this absolutely unpr...  \n",
       "3  have done recharge but haven got perday with u...  \n",
       "4  but when still not received any call from cust...  "
      ]
     },
     "execution_count": 11,
     "metadata": {},
     "output_type": "execute_result"
    }
   ],
   "source": [
    "data['Clean_text'] = data['Clean_text'].apply(lambda x: ' '.join([w for w in x.split() if len(w) > 2]))\n",
    "data.head()"
   ]
  },
  {
   "cell_type": "markdown",
   "id": "bb4448cb-1e3d-4aa2-885d-ad107a6fd7f9",
   "metadata": {},
   "source": [
    "The `lambda` function splits the text into words and then joins all words that have more than 2 characters with a space in between."
   ]
  },
  {
   "cell_type": "markdown",
   "id": "9bfa9071-a843-4ee9-b84a-4a9e8d93f9cd",
   "metadata": {},
   "source": [
    "## Tokenization of the dataset"
   ]
  },
  {
   "cell_type": "code",
   "execution_count": 12,
   "id": "7e565814-364b-4e79-939a-64759a7aa1ed",
   "metadata": {},
   "outputs": [
    {
     "data": {
      "text/plain": [
       "21037                         [airtel, better, than, voda]\n",
       "21038    [unfortunately, this, not, going, line, with, ...\n",
       "21039    [haven, got, any, surprise, moreover, haven, g...\n",
       "21040    [please, check, have, sent, the, numbers, plea...\n",
       "21041    [sorry, say, but, you, was, kidding, last, hou...\n",
       "21042    [sent, contact, but, still, did, not, get, res...\n",
       "21043    [dear, have, facing, network, problem, for, fe...\n",
       "21044    [rubbish, made, many, time, you, didn, resolve...\n",
       "21045    [why, the, caller, tunes, sound, horrible, son...\n",
       "21046    [what, nonsense, are, guys, saying, getting, a...\n",
       "Name: Clean_text, dtype: object"
      ]
     },
     "execution_count": 12,
     "metadata": {},
     "output_type": "execute_result"
    }
   ],
   "source": [
    "tokenized_tweet = data['Clean_text'].apply(lambda x: x.split())\n",
    "tokenized_tweet.tail(10)"
   ]
  },
  {
   "cell_type": "code",
   "execution_count": 13,
   "id": "03258256-9bb5-4c92-bdf7-18cd9c4ab83e",
   "metadata": {},
   "outputs": [
    {
     "data": {
      "text/plain": [
       "0    [please, check, what, happens, this, not, woki...\n",
       "1    [network, fluctuations, and, speed, pathetic, ...\n",
       "2    [this, has, been, going, since, this, absolute...\n",
       "3    [have, done, recharge, but, haven, got, perday...\n",
       "4    [but, when, still, not, received, any, call, f...\n",
       "Name: Clean_text, dtype: object"
      ]
     },
     "execution_count": 13,
     "metadata": {},
     "output_type": "execute_result"
    }
   ],
   "source": [
    "tokenized_tweet.head()"
   ]
  },
  {
   "cell_type": "code",
   "execution_count": 14,
   "id": "bc9952b0-d3e9-4585-8884-8be1b93974b7",
   "metadata": {},
   "outputs": [
    {
     "data": {
      "text/html": [
       "<div>\n",
       "<style scoped>\n",
       "    .dataframe tbody tr th:only-of-type {\n",
       "        vertical-align: middle;\n",
       "    }\n",
       "\n",
       "    .dataframe tbody tr th {\n",
       "        vertical-align: top;\n",
       "    }\n",
       "\n",
       "    .dataframe thead th {\n",
       "        text-align: right;\n",
       "    }\n",
       "</style>\n",
       "<table border=\"1\" class=\"dataframe\">\n",
       "  <thead>\n",
       "    <tr style=\"text-align: right;\">\n",
       "      <th></th>\n",
       "      <th>username</th>\n",
       "      <th>date</th>\n",
       "      <th>tweet</th>\n",
       "      <th>mentions</th>\n",
       "      <th>Clean_text</th>\n",
       "    </tr>\n",
       "  </thead>\n",
       "  <tbody>\n",
       "    <tr>\n",
       "      <th>0</th>\n",
       "      <td>shivaji_takey</td>\n",
       "      <td>10-06-2020</td>\n",
       "      <td>Please check what happens to this no 940417705...</td>\n",
       "      <td>['vodafonein']</td>\n",
       "      <td>please check what happens this not woking sinc...</td>\n",
       "    </tr>\n",
       "    <tr>\n",
       "      <th>1</th>\n",
       "      <td>sarasberiwala</td>\n",
       "      <td>10-06-2020</td>\n",
       "      <td>Network fluctuations and 4G Speed is pathetic....</td>\n",
       "      <td>['vodafonein']</td>\n",
       "      <td>network fluctuations and speed pathetic need j...</td>\n",
       "    </tr>\n",
       "    <tr>\n",
       "      <th>2</th>\n",
       "      <td>chitreamod</td>\n",
       "      <td>10-06-2020</td>\n",
       "      <td>This has been going on since 3rd... this absol...</td>\n",
       "      <td>['vodafonein']</td>\n",
       "      <td>this has been going since this absolutely unpr...</td>\n",
       "    </tr>\n",
       "    <tr>\n",
       "      <th>3</th>\n",
       "      <td>sanjan_suman</td>\n",
       "      <td>10-06-2020</td>\n",
       "      <td>@VodafoneIN  I have done my recharge of 555 on...</td>\n",
       "      <td>['vodafonein']</td>\n",
       "      <td>have done recharge but haven got perday with u...</td>\n",
       "    </tr>\n",
       "    <tr>\n",
       "      <th>4</th>\n",
       "      <td>t_nihsit</td>\n",
       "      <td>10-06-2020</td>\n",
       "      <td>But when???Still I am not received any call fr...</td>\n",
       "      <td>['vodafonein']</td>\n",
       "      <td>but when still not received any call from cust...</td>\n",
       "    </tr>\n",
       "    <tr>\n",
       "      <th>5</th>\n",
       "      <td>tanzeelu3</td>\n",
       "      <td>10-06-2020</td>\n",
       "      <td>@VodafoneIN mere area me vodafone ka network n...</td>\n",
       "      <td>['vodafonein']</td>\n",
       "      <td>mere area vodafone network nai raha hai bhitol...</td>\n",
       "    </tr>\n",
       "    <tr>\n",
       "      <th>6</th>\n",
       "      <td>chitreamod</td>\n",
       "      <td>10-06-2020</td>\n",
       "      <td>Thanks, but I have visited the website, called...</td>\n",
       "      <td>['vodafonein']</td>\n",
       "      <td>thanks but have visited the website called you...</td>\n",
       "    </tr>\n",
       "    <tr>\n",
       "      <th>7</th>\n",
       "      <td>mayankpatel7293</td>\n",
       "      <td>10-06-2020</td>\n",
       "      <td>@VodafoneIN @VodafoneGroup\\nHi,\\n Today my Vod...</td>\n",
       "      <td>['vodafonein', 'vodafonegroup', 'trai', 'trai_...</td>\n",
       "      <td>today vodafone cim deactivated without any inf...</td>\n",
       "    </tr>\n",
       "    <tr>\n",
       "      <th>8</th>\n",
       "      <td>deeranjith</td>\n",
       "      <td>10-06-2020</td>\n",
       "      <td>Dear Vodafone, I have already responded to you...</td>\n",
       "      <td>['vodafonein']</td>\n",
       "      <td>dear vodafone have already responded your repl...</td>\n",
       "    </tr>\n",
       "    <tr>\n",
       "      <th>9</th>\n",
       "      <td>govindrathi799</td>\n",
       "      <td>10-06-2020</td>\n",
       "      <td>@VodafoneIN SIR OUR MARKET AREA ME BILKUL NETW...</td>\n",
       "      <td>['vodafonein']</td>\n",
       "      <td>sir our market area bilkul network nahi raha c...</td>\n",
       "    </tr>\n",
       "  </tbody>\n",
       "</table>\n",
       "</div>"
      ],
      "text/plain": [
       "          username        date  \\\n",
       "0    shivaji_takey  10-06-2020   \n",
       "1    sarasberiwala  10-06-2020   \n",
       "2       chitreamod  10-06-2020   \n",
       "3     sanjan_suman  10-06-2020   \n",
       "4         t_nihsit  10-06-2020   \n",
       "5        tanzeelu3  10-06-2020   \n",
       "6       chitreamod  10-06-2020   \n",
       "7  mayankpatel7293  10-06-2020   \n",
       "8       deeranjith  10-06-2020   \n",
       "9   govindrathi799  10-06-2020   \n",
       "\n",
       "                                               tweet  \\\n",
       "0  Please check what happens to this no 940417705...   \n",
       "1  Network fluctuations and 4G Speed is pathetic....   \n",
       "2  This has been going on since 3rd... this absol...   \n",
       "3  @VodafoneIN  I have done my recharge of 555 on...   \n",
       "4  But when???Still I am not received any call fr...   \n",
       "5  @VodafoneIN mere area me vodafone ka network n...   \n",
       "6  Thanks, but I have visited the website, called...   \n",
       "7  @VodafoneIN @VodafoneGroup\\nHi,\\n Today my Vod...   \n",
       "8  Dear Vodafone, I have already responded to you...   \n",
       "9  @VodafoneIN SIR OUR MARKET AREA ME BILKUL NETW...   \n",
       "\n",
       "                                            mentions  \\\n",
       "0                                     ['vodafonein']   \n",
       "1                                     ['vodafonein']   \n",
       "2                                     ['vodafonein']   \n",
       "3                                     ['vodafonein']   \n",
       "4                                     ['vodafonein']   \n",
       "5                                     ['vodafonein']   \n",
       "6                                     ['vodafonein']   \n",
       "7  ['vodafonein', 'vodafonegroup', 'trai', 'trai_...   \n",
       "8                                     ['vodafonein']   \n",
       "9                                     ['vodafonein']   \n",
       "\n",
       "                                          Clean_text  \n",
       "0  please check what happens this not woking sinc...  \n",
       "1  network fluctuations and speed pathetic need j...  \n",
       "2  this has been going since this absolutely unpr...  \n",
       "3  have done recharge but haven got perday with u...  \n",
       "4  but when still not received any call from cust...  \n",
       "5  mere area vodafone network nai raha hai bhitol...  \n",
       "6  thanks but have visited the website called you...  \n",
       "7  today vodafone cim deactivated without any inf...  \n",
       "8  dear vodafone have already responded your repl...  \n",
       "9  sir our market area bilkul network nahi raha c...  "
      ]
     },
     "execution_count": 14,
     "metadata": {},
     "output_type": "execute_result"
    }
   ],
   "source": [
    "for i in range(len(tokenized_tweet)):\n",
    "    tokenized_tweet[i] = ' '.join(tokenized_tweet[i])\n",
    "    \n",
    "data['Clean_text'] = tokenized_tweet\n",
    "data.head(10)"
   ]
  },
  {
   "cell_type": "code",
   "execution_count": 15,
   "id": "72d57d13-85bc-48a7-888e-4c54c40dbfc6",
   "metadata": {},
   "outputs": [
    {
     "data": {
      "text/plain": [
       "0    please check what happens this not woking sinc...\n",
       "1    network fluctuations and speed pathetic need j...\n",
       "2    this has been going since this absolutely unpr...\n",
       "3    have done recharge but haven got perday with u...\n",
       "4    but when still not received any call from cust...\n",
       "Name: Clean_text, dtype: object"
      ]
     },
     "execution_count": 15,
     "metadata": {},
     "output_type": "execute_result"
    }
   ],
   "source": [
    "data.loc[:, ('Clean_text')].head()"
   ]
  },
  {
   "cell_type": "code",
   "execution_count": 16,
   "id": "2cf743aa-5492-4797-bc2f-dae1bffaec71",
   "metadata": {},
   "outputs": [
    {
     "data": {
      "text/html": [
       "<div>\n",
       "<style scoped>\n",
       "    .dataframe tbody tr th:only-of-type {\n",
       "        vertical-align: middle;\n",
       "    }\n",
       "\n",
       "    .dataframe tbody tr th {\n",
       "        vertical-align: top;\n",
       "    }\n",
       "\n",
       "    .dataframe thead th {\n",
       "        text-align: right;\n",
       "    }\n",
       "</style>\n",
       "<table border=\"1\" class=\"dataframe\">\n",
       "  <thead>\n",
       "    <tr style=\"text-align: right;\">\n",
       "      <th></th>\n",
       "      <th>username</th>\n",
       "      <th>date</th>\n",
       "      <th>tweet</th>\n",
       "      <th>mentions</th>\n",
       "      <th>Clean_text</th>\n",
       "    </tr>\n",
       "  </thead>\n",
       "  <tbody>\n",
       "    <tr>\n",
       "      <th>0</th>\n",
       "      <td>shivaji_takey</td>\n",
       "      <td>10-06-2020</td>\n",
       "      <td>Please check what happens to this no 940417705...</td>\n",
       "      <td>['vodafonein']</td>\n",
       "      <td>please check what happens this not woking sinc...</td>\n",
       "    </tr>\n",
       "    <tr>\n",
       "      <th>1</th>\n",
       "      <td>sarasberiwala</td>\n",
       "      <td>10-06-2020</td>\n",
       "      <td>Network fluctuations and 4G Speed is pathetic....</td>\n",
       "      <td>['vodafonein']</td>\n",
       "      <td>network fluctuations and speed pathetic need j...</td>\n",
       "    </tr>\n",
       "    <tr>\n",
       "      <th>2</th>\n",
       "      <td>chitreamod</td>\n",
       "      <td>10-06-2020</td>\n",
       "      <td>This has been going on since 3rd... this absol...</td>\n",
       "      <td>['vodafonein']</td>\n",
       "      <td>this has been going since this absolutely unpr...</td>\n",
       "    </tr>\n",
       "    <tr>\n",
       "      <th>3</th>\n",
       "      <td>sanjan_suman</td>\n",
       "      <td>10-06-2020</td>\n",
       "      <td>@VodafoneIN  I have done my recharge of 555 on...</td>\n",
       "      <td>['vodafonein']</td>\n",
       "      <td>have done recharge but haven got perday with u...</td>\n",
       "    </tr>\n",
       "    <tr>\n",
       "      <th>4</th>\n",
       "      <td>t_nihsit</td>\n",
       "      <td>10-06-2020</td>\n",
       "      <td>But when???Still I am not received any call fr...</td>\n",
       "      <td>['vodafonein']</td>\n",
       "      <td>but when still not received any call from cust...</td>\n",
       "    </tr>\n",
       "  </tbody>\n",
       "</table>\n",
       "</div>"
      ],
      "text/plain": [
       "        username        date  \\\n",
       "0  shivaji_takey  10-06-2020   \n",
       "1  sarasberiwala  10-06-2020   \n",
       "2     chitreamod  10-06-2020   \n",
       "3   sanjan_suman  10-06-2020   \n",
       "4       t_nihsit  10-06-2020   \n",
       "\n",
       "                                               tweet        mentions  \\\n",
       "0  Please check what happens to this no 940417705...  ['vodafonein']   \n",
       "1  Network fluctuations and 4G Speed is pathetic....  ['vodafonein']   \n",
       "2  This has been going on since 3rd... this absol...  ['vodafonein']   \n",
       "3  @VodafoneIN  I have done my recharge of 555 on...  ['vodafonein']   \n",
       "4  But when???Still I am not received any call fr...  ['vodafonein']   \n",
       "\n",
       "                                          Clean_text  \n",
       "0  please check what happens this not woking sinc...  \n",
       "1  network fluctuations and speed pathetic need j...  \n",
       "2  this has been going since this absolutely unpr...  \n",
       "3  have done recharge but haven got perday with u...  \n",
       "4  but when still not received any call from cust...  "
      ]
     },
     "execution_count": 16,
     "metadata": {},
     "output_type": "execute_result"
    }
   ],
   "source": [
    "data.drop_duplicates(subset=['Clean_text'], keep='first', inplace=True)\n",
    "\n",
    "data.reset_index(drop=True, inplace=True)\n",
    "data.head()"
   ]
  },
  {
   "cell_type": "code",
   "execution_count": 17,
   "id": "41ebdb4d-7ec3-4674-90b8-2e4cfa5a065d",
   "metadata": {},
   "outputs": [
    {
     "data": {
      "text/html": [
       "<div>\n",
       "<style scoped>\n",
       "    .dataframe tbody tr th:only-of-type {\n",
       "        vertical-align: middle;\n",
       "    }\n",
       "\n",
       "    .dataframe tbody tr th {\n",
       "        vertical-align: top;\n",
       "    }\n",
       "\n",
       "    .dataframe thead th {\n",
       "        text-align: right;\n",
       "    }\n",
       "</style>\n",
       "<table border=\"1\" class=\"dataframe\">\n",
       "  <thead>\n",
       "    <tr style=\"text-align: right;\">\n",
       "      <th></th>\n",
       "      <th>username</th>\n",
       "      <th>date</th>\n",
       "      <th>tweet</th>\n",
       "      <th>mentions</th>\n",
       "      <th>Clean_text</th>\n",
       "      <th>Clean_text_length</th>\n",
       "    </tr>\n",
       "  </thead>\n",
       "  <tbody>\n",
       "    <tr>\n",
       "      <th>0</th>\n",
       "      <td>shivaji_takey</td>\n",
       "      <td>10-06-2020</td>\n",
       "      <td>Please check what happens to this no 940417705...</td>\n",
       "      <td>['vodafonein']</td>\n",
       "      <td>please check what happens this not woking sinc...</td>\n",
       "      <td>68</td>\n",
       "    </tr>\n",
       "    <tr>\n",
       "      <th>1</th>\n",
       "      <td>sarasberiwala</td>\n",
       "      <td>10-06-2020</td>\n",
       "      <td>Network fluctuations and 4G Speed is pathetic....</td>\n",
       "      <td>['vodafonein']</td>\n",
       "      <td>network fluctuations and speed pathetic need j...</td>\n",
       "      <td>78</td>\n",
       "    </tr>\n",
       "    <tr>\n",
       "      <th>2</th>\n",
       "      <td>chitreamod</td>\n",
       "      <td>10-06-2020</td>\n",
       "      <td>This has been going on since 3rd... this absol...</td>\n",
       "      <td>['vodafonein']</td>\n",
       "      <td>this has been going since this absolutely unpr...</td>\n",
       "      <td>56</td>\n",
       "    </tr>\n",
       "    <tr>\n",
       "      <th>3</th>\n",
       "      <td>sanjan_suman</td>\n",
       "      <td>10-06-2020</td>\n",
       "      <td>@VodafoneIN  I have done my recharge of 555 on...</td>\n",
       "      <td>['vodafonein']</td>\n",
       "      <td>have done recharge but haven got perday with u...</td>\n",
       "      <td>178</td>\n",
       "    </tr>\n",
       "    <tr>\n",
       "      <th>4</th>\n",
       "      <td>t_nihsit</td>\n",
       "      <td>10-06-2020</td>\n",
       "      <td>But when???Still I am not received any call fr...</td>\n",
       "      <td>['vodafonein']</td>\n",
       "      <td>but when still not received any call from cust...</td>\n",
       "      <td>74</td>\n",
       "    </tr>\n",
       "  </tbody>\n",
       "</table>\n",
       "</div>"
      ],
      "text/plain": [
       "        username        date  \\\n",
       "0  shivaji_takey  10-06-2020   \n",
       "1  sarasberiwala  10-06-2020   \n",
       "2     chitreamod  10-06-2020   \n",
       "3   sanjan_suman  10-06-2020   \n",
       "4       t_nihsit  10-06-2020   \n",
       "\n",
       "                                               tweet        mentions  \\\n",
       "0  Please check what happens to this no 940417705...  ['vodafonein']   \n",
       "1  Network fluctuations and 4G Speed is pathetic....  ['vodafonein']   \n",
       "2  This has been going on since 3rd... this absol...  ['vodafonein']   \n",
       "3  @VodafoneIN  I have done my recharge of 555 on...  ['vodafonein']   \n",
       "4  But when???Still I am not received any call fr...  ['vodafonein']   \n",
       "\n",
       "                                          Clean_text  Clean_text_length  \n",
       "0  please check what happens this not woking sinc...                 68  \n",
       "1  network fluctuations and speed pathetic need j...                 78  \n",
       "2  this has been going since this absolutely unpr...                 56  \n",
       "3  have done recharge but haven got perday with u...                178  \n",
       "4  but when still not received any call from cust...                 74  "
      ]
     },
     "execution_count": 17,
     "metadata": {},
     "output_type": "execute_result"
    }
   ],
   "source": [
    "data['Clean_text_length'] = data['Clean_text'].apply(len)\n",
    "data.head()"
   ]
  },
  {
   "cell_type": "code",
   "execution_count": 18,
   "id": "6a7ad12b-605d-4cfc-bb81-d7ab708589fc",
   "metadata": {},
   "outputs": [
    {
     "data": {
      "text/html": [
       "<div>\n",
       "<style scoped>\n",
       "    .dataframe tbody tr th:only-of-type {\n",
       "        vertical-align: middle;\n",
       "    }\n",
       "\n",
       "    .dataframe tbody tr th {\n",
       "        vertical-align: top;\n",
       "    }\n",
       "\n",
       "    .dataframe thead th {\n",
       "        text-align: right;\n",
       "    }\n",
       "</style>\n",
       "<table border=\"1\" class=\"dataframe\">\n",
       "  <thead>\n",
       "    <tr style=\"text-align: right;\">\n",
       "      <th></th>\n",
       "      <th>username</th>\n",
       "      <th>date</th>\n",
       "      <th>tweet</th>\n",
       "      <th>mentions</th>\n",
       "      <th>Clean_text</th>\n",
       "      <th>Clean_text_length</th>\n",
       "    </tr>\n",
       "  </thead>\n",
       "  <tbody>\n",
       "    <tr>\n",
       "      <th>20</th>\n",
       "      <td>omanmessi</td>\n",
       "      <td>10-06-2020</td>\n",
       "      <td>@VodafoneIN</td>\n",
       "      <td>['ooredoooman', 'vodafonein']</td>\n",
       "      <td></td>\n",
       "      <td>0</td>\n",
       "    </tr>\n",
       "  </tbody>\n",
       "</table>\n",
       "</div>"
      ],
      "text/plain": [
       "     username        date        tweet                       mentions  \\\n",
       "20  omanmessi  10-06-2020  @VodafoneIN  ['ooredoooman', 'vodafonein']   \n",
       "\n",
       "   Clean_text  Clean_text_length  \n",
       "20                             0  "
      ]
     },
     "execution_count": 18,
     "metadata": {},
     "output_type": "execute_result"
    }
   ],
   "source": [
    "data[data['Clean_text_length'] == 0]"
   ]
  },
  {
   "cell_type": "code",
   "execution_count": 19,
   "id": "de2affab-37fe-4e41-a7b7-8e2b20ff4f72",
   "metadata": {},
   "outputs": [
    {
     "data": {
      "text/html": [
       "<div>\n",
       "<style scoped>\n",
       "    .dataframe tbody tr th:only-of-type {\n",
       "        vertical-align: middle;\n",
       "    }\n",
       "\n",
       "    .dataframe tbody tr th {\n",
       "        vertical-align: top;\n",
       "    }\n",
       "\n",
       "    .dataframe thead th {\n",
       "        text-align: right;\n",
       "    }\n",
       "</style>\n",
       "<table border=\"1\" class=\"dataframe\">\n",
       "  <thead>\n",
       "    <tr style=\"text-align: right;\">\n",
       "      <th></th>\n",
       "      <th>username</th>\n",
       "      <th>date</th>\n",
       "      <th>tweet</th>\n",
       "      <th>mentions</th>\n",
       "    </tr>\n",
       "  </thead>\n",
       "  <tbody>\n",
       "    <tr>\n",
       "      <th>20</th>\n",
       "      <td>omanmessi</td>\n",
       "      <td>10-06-2020</td>\n",
       "      <td>@VodafoneIN</td>\n",
       "      <td>['ooredoooman', 'vodafonein']</td>\n",
       "    </tr>\n",
       "  </tbody>\n",
       "</table>\n",
       "</div>"
      ],
      "text/plain": [
       "     username        date        tweet                       mentions\n",
       "20  omanmessi  10-06-2020  @VodafoneIN  ['ooredoooman', 'vodafonein']"
      ]
     },
     "execution_count": 19,
     "metadata": {},
     "output_type": "execute_result"
    }
   ],
   "source": [
    "raw_data[raw_data['username']== 'omanmessi']"
   ]
  },
  {
   "cell_type": "code",
   "execution_count": 20,
   "id": "da62007c-817a-46b6-b706-c31d46b3bbe1",
   "metadata": {},
   "outputs": [
    {
     "data": {
      "text/plain": [
       "20    \n",
       "Name: Clean_text, dtype: object"
      ]
     },
     "execution_count": 20,
     "metadata": {},
     "output_type": "execute_result"
    },
    {
     "data": {
      "text/plain": [
       "Int64Index([20], dtype='int64')"
      ]
     },
     "execution_count": 20,
     "metadata": {},
     "output_type": "execute_result"
    }
   ],
   "source": [
    "# this was just a tweets with hashtags\n",
    "data[data['Clean_text_length'] == 0]['Clean_text'] \n",
    "# we can just drop it\n",
    "indexes = data[data['Clean_text_length']==0].index\n",
    "indexes"
   ]
  },
  {
   "cell_type": "code",
   "execution_count": 21,
   "id": "147b3e5e-2c41-476a-b5ba-f9df322eae72",
   "metadata": {},
   "outputs": [
    {
     "name": "stdout",
     "output_type": "stream",
     "text": [
      "<class 'pandas.core.frame.DataFrame'>\n",
      "Int64Index: 19761 entries, 0 to 19761\n",
      "Data columns (total 6 columns):\n",
      " #   Column             Non-Null Count  Dtype \n",
      "---  ------             --------------  ----- \n",
      " 0   username           19761 non-null  object\n",
      " 1   date               19761 non-null  object\n",
      " 2   tweet              19761 non-null  object\n",
      " 3   mentions           19761 non-null  object\n",
      " 4   Clean_text         19761 non-null  object\n",
      " 5   Clean_text_length  19761 non-null  int64 \n",
      "dtypes: int64(1), object(5)\n",
      "memory usage: 1.1+ MB\n"
     ]
    }
   ],
   "source": [
    "data.drop(index = indexes, inplace=True)\n",
    "data.info()"
   ]
  },
  {
   "cell_type": "code",
   "execution_count": 22,
   "id": "5243da10-8f4d-4502-8cb8-69329d20b1ed",
   "metadata": {},
   "outputs": [
    {
     "name": "stdout",
     "output_type": "stream",
     "text": [
      "<class 'pandas.core.frame.DataFrame'>\n",
      "RangeIndex: 19761 entries, 0 to 19760\n",
      "Data columns (total 6 columns):\n",
      " #   Column             Non-Null Count  Dtype \n",
      "---  ------             --------------  ----- \n",
      " 0   username           19761 non-null  object\n",
      " 1   date               19761 non-null  object\n",
      " 2   tweet              19761 non-null  object\n",
      " 3   mentions           19761 non-null  object\n",
      " 4   Clean_text         19761 non-null  object\n",
      " 5   Clean_text_length  19761 non-null  int64 \n",
      "dtypes: int64(1), object(5)\n",
      "memory usage: 926.4+ KB\n"
     ]
    }
   ],
   "source": [
    "data.reset_index(drop=True, inplace=True)\n",
    "data.info()"
   ]
  },
  {
   "cell_type": "code",
   "execution_count": 23,
   "id": "ab0ecb52-8b6e-4ce9-afc6-954cacf5721e",
   "metadata": {},
   "outputs": [
    {
     "data": {
      "text/plain": [
       "0    please check what happens this not woking sinc...\n",
       "1    network fluctuations and speed pathetic need j...\n",
       "2    this has been going since this absolutely unpr...\n",
       "3    have done recharge but haven got perday with u...\n",
       "4    but when still not received any call from cust...\n",
       "Name: Clean_text, dtype: object"
      ]
     },
     "execution_count": 23,
     "metadata": {},
     "output_type": "execute_result"
    }
   ],
   "source": [
    "data['Clean_text'].head()"
   ]
  },
  {
   "cell_type": "markdown",
   "id": "3022cb68-552b-4386-a8c2-c9086e8d732a",
   "metadata": {},
   "source": [
    "## Vectorizer\n",
    "\n",
    "`Vectorization` is the process of converting text data to numerical vectors. It is also known as Word embeddings. It is used to map words or phrases from vocabulary to a corresponding vector of real numbers which is used to find word predictions, similarities etc. Word embeddings help in finding word predictions, word similarities or semantics. "
   ]
  },
  {
   "cell_type": "markdown",
   "id": "e36afa24-7243-43e0-8200-2580d3ba2b79",
   "metadata": {},
   "source": [
    "* `TfidVectorizer`: It is a text vectorization algorithm that transforms text into a sparse matrix of n-gram counts. It performs the TF-IDF transformation from a provided matrix of counts. The `TfidfVectorizer` will tokenize documents, learn the vocabulary and inverse document frequency weightings, and allow you to encode new documents. It is used to calculate tf-idf values in NLP.\n",
    "\n",
    "* `CountVectorizer`: It is a text vectorization algorithm that transforms text into a sparse matrix of n-gram counts. It is used to convert a collection of text documents to a vector of term/token counts. The `CountVectorizer` will tokenize documents, learn the vocabulary and inverse document frequency weightings, and allow you to encode new documents."
   ]
  },
  {
   "cell_type": "code",
   "execution_count": 24,
   "id": "a9bd4ca3-864e-4a8d-8a6f-571ae15e0e0e",
   "metadata": {},
   "outputs": [],
   "source": [
    "corpus = [\n",
    "    'This is the first document.',\n",
    "    'This document is the second document.',\n",
    "    'And this is the third one.',\n",
    "    'Is this the first document?',\n",
    "]"
   ]
  },
  {
   "cell_type": "markdown",
   "id": "75b98374-8b8d-4295-8abf-9ce52a2fa351",
   "metadata": {},
   "source": [
    "### CountVectorizer"
   ]
  },
  {
   "cell_type": "code",
   "execution_count": 28,
   "id": "b938f8ee-6662-4d63-bd02-99edb52799a2",
   "metadata": {},
   "outputs": [
    {
     "name": "stdout",
     "output_type": "stream",
     "text": [
      "['and' 'document' 'first' 'is' 'one' 'second' 'the' 'third' 'this']\n",
      "[[0 1 1 1 0 0 1 0 1]\n",
      " [0 2 0 1 0 1 1 0 1]\n",
      " [1 0 0 1 1 0 1 1 1]\n",
      " [0 1 1 1 0 0 1 0 1]]\n"
     ]
    }
   ],
   "source": [
    "from sklearn.feature_extraction.text import CountVectorizer\n",
    "\n",
    "vectorizer = CountVectorizer()\n",
    "X = vectorizer.fit_transform(corpus)\n",
    "features = vectorizer.get_feature_names_out()\n",
    "print(features)\n",
    "print(X.toarray())"
   ]
  },
  {
   "cell_type": "markdown",
   "id": "6b956c37-4cc8-421a-b231-6059b3ecc33c",
   "metadata": {},
   "source": [
    "In `CountVectorizer`, we can see that each row represents a document and each column represents a word in the corpus vocabulary and the values in the matrix represent the frequency of occurrence of each word in each document."
   ]
  },
  {
   "cell_type": "markdown",
   "id": "98ddb6df-ec19-493a-ad60-9e566549f78b",
   "metadata": {},
   "source": [
    "### TfidfVectorizer"
   ]
  },
  {
   "cell_type": "code",
   "execution_count": 29,
   "id": "0ca1b202-765c-4e54-ab23-e125e7e79723",
   "metadata": {},
   "outputs": [
    {
     "name": "stdout",
     "output_type": "stream",
     "text": [
      "['and' 'document' 'first' 'is' 'one' 'second' 'the' 'third' 'this']\n",
      "[[0.         0.46979139 0.58028582 0.38408524 0.         0.\n",
      "  0.38408524 0.         0.38408524]\n",
      " [0.         0.6876236  0.         0.28108867 0.         0.53864762\n",
      "  0.28108867 0.         0.28108867]\n",
      " [0.51184851 0.         0.         0.26710379 0.51184851 0.\n",
      "  0.26710379 0.51184851 0.26710379]\n",
      " [0.         0.46979139 0.58028582 0.38408524 0.         0.\n",
      "  0.38408524 0.         0.38408524]]\n"
     ]
    }
   ],
   "source": [
    "from sklearn.feature_extraction.text import TfidfVectorizer\n",
    "\n",
    "vectorizer = TfidfVectorizer()\n",
    "X = vectorizer.fit_transform(corpus)\n",
    "features = vectorizer.get_feature_names_out()\n",
    "print(features)\n",
    "print(X.toarray())"
   ]
  },
  {
   "cell_type": "markdown",
   "id": "fc9ebb00-058c-4345-81e3-a72de2b7a588",
   "metadata": {},
   "source": [
    "In `TfidfVectorizer`, we can see that each row represents a document and each column represents a word in the corpus vocabulary and the values in the matrix represent the **importance** of each word in each document.\n",
    "\n",
    "----"
   ]
  },
  {
   "cell_type": "code",
   "execution_count": null,
   "id": "211e9dbe-673a-401d-a652-fce9db64857f",
   "metadata": {},
   "outputs": [],
   "source": [
    "count_vect = CountVectorizer(analyzer='word', ngram_range=(1,1), stop_words='english', min_data=0.0001, max_data=0.7)\n",
    "count_vect.fit(data['Clean_text'])\n",
    "\n",
    "desc_matrix = count_vect.transform(data['Clean_text'])\n",
    "desc_matrix.head(10)"
   ]
  }
 ],
 "metadata": {
  "kernelspec": {
   "display_name": "Python 3 (ipykernel)",
   "language": "python",
   "name": "python3"
  },
  "language_info": {
   "codemirror_mode": {
    "name": "ipython",
    "version": 3
   },
   "file_extension": ".py",
   "mimetype": "text/x-python",
   "name": "python",
   "nbconvert_exporter": "python",
   "pygments_lexer": "ipython3",
   "version": "3.10.9"
  }
 },
 "nbformat": 4,
 "nbformat_minor": 5
}
