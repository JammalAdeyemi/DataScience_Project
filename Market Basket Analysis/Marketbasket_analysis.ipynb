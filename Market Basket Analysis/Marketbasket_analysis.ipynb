{
 "cells": [
  {
   "cell_type": "markdown",
   "id": "e6c4db3b-fd9e-4f18-941f-874ff72ba0ab",
   "metadata": {},
   "source": [
    "**Association analysis** - It's iused to discover interesting relationships in large amount of data.\n",
    "- Important teminology\n",
    "    1. Frequent itemsets/ association rules: {Diapers} --> {Beer}\n",
    "- Issues need to be addressed before using association rules to market basket data\n",
    "    1. Discovery patterns from a large transaction data can be computationally expensive\n",
    "    2. Some of the discovery patterns may happen by chance\n",
    "- Markek basking data can be represented in binary format where each row corresponds to a transactions and each column corresponds to an item"
   ]
  },
  {
   "cell_type": "markdown",
   "id": "1a49c8fa-61d7-4a7c-bbde-71f60281cd4f",
   "metadata": {},
   "source": [
    "**Apriori Algorithm** - Is an array based algorithm. \n",
    "1. Does a Breadth first search\n",
    "2. Candidate key generation\n",
    "3. Bcos of (2) Apriori has a high memory consumption"
   ]
  },
  {
   "cell_type": "markdown",
   "id": "884f9f33-173f-4d1e-863b-10165e927f14",
   "metadata": {},
   "source": [
    "**Fpgrowth** - Is a tree based algorithn\n",
    "1. Does a Depth first search\n",
    "2. No candidate key generation\n",
    "3. Low memory consumption"
   ]
  },
  {
   "cell_type": "code",
   "execution_count": null,
   "id": "479a0dd4-105e-4564-ae77-f9e36be248c1",
   "metadata": {},
   "outputs": [],
   "source": []
  }
 ],
 "metadata": {
  "kernelspec": {
   "display_name": "Python 3 (ipykernel)",
   "language": "python",
   "name": "python3"
  },
  "language_info": {
   "codemirror_mode": {
    "name": "ipython",
    "version": 3
   },
   "file_extension": ".py",
   "mimetype": "text/x-python",
   "name": "python",
   "nbconvert_exporter": "python",
   "pygments_lexer": "ipython3",
   "version": "3.8.8"
  }
 },
 "nbformat": 4,
 "nbformat_minor": 5
}
