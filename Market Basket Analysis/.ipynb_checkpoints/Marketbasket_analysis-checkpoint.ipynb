{
 "cells": [
  {
   "cell_type": "markdown",
   "id": "e6c4db3b-fd9e-4f18-941f-874ff72ba0ab",
   "metadata": {},
   "source": [
    "**Association analysis** - It's iused to discover interesting relationships in large amount of data.\n",
    "- Important teminology\n",
    "    1. Frequent itemsets/ association rules: {Diapers} --> {Beer}\n",
    "- Issues need to be addressed before using association rules to market basket data\n",
    "    1. Discovery patterns from a large transaction data can be computationally expensive\n",
    "    2. Some of the discovery patterns may happen by chance\n",
    "- Markek basking data can be represented in binary format where each row corresponds to a transactions and each column corresponds to an item"
   ]
  },
  {
   "cell_type": "code",
   "execution_count": null,
   "id": "082431a6-8ce0-4e9c-9c71-b6ece7319c1b",
   "metadata": {},
   "outputs": [],
   "source": []
  }
 ],
 "metadata": {
  "kernelspec": {
   "display_name": "Python 3 (ipykernel)",
   "language": "python",
   "name": "python3"
  },
  "language_info": {
   "codemirror_mode": {
    "name": "ipython",
    "version": 3
   },
   "file_extension": ".py",
   "mimetype": "text/x-python",
   "name": "python",
   "nbconvert_exporter": "python",
   "pygments_lexer": "ipython3",
   "version": "3.8.8"
  }
 },
 "nbformat": 4,
 "nbformat_minor": 5
}
