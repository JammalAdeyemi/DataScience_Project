{
 "cells": [
  {
   "cell_type": "markdown",
   "id": "3e68f971-4bb1-4917-b133-c1c4292e1604",
   "metadata": {
    "tags": []
   },
   "source": [
    "## 1. Probability Distribution: Investment Returns Case Study\n",
    "An investor is concerned with the market return for the coming year, where the market return is defined as the percentage gain (or loss, if negative) over the year. The investor believes there are five possible scenarios for the national economy in the coming year: - Rapid expansion - Moderate Expansion - No Growth - Moderate Contraction - Serious Contraction.\n",
    "\n",
    "Furthermore, she has used all of the information available to her to estimate that the market returns for these scenarios are, respectively, 23%, 18%, 15%, 9%, and 3%. That is, the possible returns vary from a high of 23% to a low of 3%. Also, she has assessed that the probabilities of these outcomes are 0.12, 0.40, 0.25, 0.15, and 0.08. Use this information to describe the probability distribution of the market return.\n",
    "\n",
    "**Objective:** Compute the mean, variance, and standard deviation of the probability distribution of the market return for the coming year."
   ]
  },
  {
   "cell_type": "markdown",
   "id": "137c2e2e-e867-4c32-8aad-9e5cbad7d75d",
   "metadata": {},
   "source": [
    "### a. Expectation"
   ]
  },
  {
   "cell_type": "code",
   "execution_count": 1,
   "id": "1ffc4690-6652-4fc4-97a4-dc9b075b6729",
   "metadata": {},
   "outputs": [],
   "source": [
    "import numpy as np\n",
    "import pandas as pd"
   ]
  },
  {
   "cell_type": "code",
   "execution_count": 2,
   "id": "cb076c45-0ca9-4434-b4d2-25534058ef2e",
   "metadata": {},
   "outputs": [],
   "source": [
    "returns = np.array([23, 18, 15, 9, 3])\n",
    "probabilities = np.array([0.12, 0.4, 0.25, 0.15, 0.08])"
   ]
  },
  {
   "cell_type": "code",
   "execution_count": 3,
   "id": "cfd28d96-ab16-480b-b561-be23a8e0615d",
   "metadata": {},
   "outputs": [
    {
     "data": {
      "text/plain": [
       "1.0"
      ]
     },
     "execution_count": 3,
     "metadata": {},
     "output_type": "execute_result"
    }
   ],
   "source": [
    "sum(probabilities)"
   ]
  },
  {
   "cell_type": "code",
   "execution_count": 4,
   "id": "393c7385-174b-43c0-ab59-a928dd12f486",
   "metadata": {},
   "outputs": [
    {
     "data": {
      "text/plain": [
       "[2.76, 7.2, 3.75, 1.3499999999999999, 0.24]"
      ]
     },
     "execution_count": 4,
     "metadata": {},
     "output_type": "execute_result"
    }
   ],
   "source": [
    "# prod = returns * probabilities; element-wise multiplication wrks with numpy arrays\n",
    "prod = [outcome * prob for outcome,prob in zip(returns,probabilities)] \n",
    "\n",
    "# Elaborate method in case the data are not numpy arrays\n",
    "prod"
   ]
  },
  {
   "cell_type": "code",
   "execution_count": 5,
   "id": "f9143f31-7a47-4b22-87f2-81bce1027799",
   "metadata": {},
   "outputs": [
    {
     "data": {
      "text/plain": [
       "15.3"
      ]
     },
     "execution_count": 5,
     "metadata": {},
     "output_type": "execute_result"
    }
   ],
   "source": [
    "expected_return = sum(prod)\n",
    "expected_return"
   ]
  },
  {
   "cell_type": "code",
   "execution_count": 6,
   "id": "8db0ca83-7289-4a88-943f-4258c829f77a",
   "metadata": {},
   "outputs": [],
   "source": [
    "# Writing a custom function to compute expectation\n",
    "def expectation(outcomes, probs):\n",
    "    prod = [outcome * prob for outcome,prob in zip(outcomes, probs)]\n",
    "    mean = sum(prod)\n",
    "    return mean"
   ]
  },
  {
   "cell_type": "code",
   "execution_count": 7,
   "id": "ce971e89-3b1b-4e53-a6a2-9bbdb16ea093",
   "metadata": {},
   "outputs": [
    {
     "data": {
      "text/plain": [
       "15.3"
      ]
     },
     "execution_count": 7,
     "metadata": {},
     "output_type": "execute_result"
    }
   ],
   "source": [
    "expectation(returns, probabilities)"
   ]
  },
  {
   "cell_type": "markdown",
   "id": "c72e628c-b1a1-47e4-878a-dd62ab842bbd",
   "metadata": {},
   "source": [
    "### b. Variance"
   ]
  },
  {
   "cell_type": "code",
   "execution_count": 8,
   "id": "cedbbfd4-ef0a-495b-935f-1aee3aed2168",
   "metadata": {},
   "outputs": [],
   "source": [
    "def prob_var(outcomes, probs):\n",
    "    # Expectation\n",
    "    expected = expectation(outcomes, probs)\n",
    "    \n",
    "    # Get a list of the deviations of each outcome from expectation\n",
    "    expectation_dev = [ outcome - expected for outcome in outcomes]\n",
    "    \n",
    "    #  Square the deviations in above list and multiply each by corresponding probability\n",
    "    weighted_dev = [ expected_dev**2 * prob for expected_dev, prob in zip(expectation_dev,probs)]\n",
    "    \n",
    "    # Sum above list to obtain variance\n",
    "    variance = sum(weighted_dev)\n",
    "    \n",
    "    return variance"
   ]
  },
  {
   "cell_type": "code",
   "execution_count": 9,
   "id": "6ca628b1-9103-47c0-9bc5-54b868262606",
   "metadata": {},
   "outputs": [
    {
     "data": {
      "text/plain": [
       "28.11"
      ]
     },
     "execution_count": 9,
     "metadata": {},
     "output_type": "execute_result"
    }
   ],
   "source": [
    "prob_var(returns, probabilities)"
   ]
  },
  {
   "cell_type": "markdown",
   "id": "828f400b-bdd7-43ee-8c61-13488e356366",
   "metadata": {},
   "source": [
    "### c. Standard Deviation"
   ]
  },
  {
   "cell_type": "code",
   "execution_count": 10,
   "id": "80a75dd2-898e-4e42-ad5d-cd035977b7d0",
   "metadata": {},
   "outputs": [
    {
     "data": {
      "text/plain": [
       "5.301886456724625"
      ]
     },
     "execution_count": 10,
     "metadata": {},
     "output_type": "execute_result"
    }
   ],
   "source": [
    "prob_var(returns, probabilities) ** 0.5"
   ]
  },
  {
   "cell_type": "markdown",
   "id": "204de4bf-8e9f-4052-96e8-734d8fc0a720",
   "metadata": {},
   "source": [
    "## 2. Calculating Probabilities: Roulette Wheel Case Study\n",
    "\n",
    "**Colour Code**:\n",
    "* White - Green pocket\n",
    "* Black - Black Pocket\n",
    "* Grey - Red pocket"
   ]
  },
  {
   "cell_type": "code",
   "execution_count": 11,
   "id": "ae873433-7310-4b12-b1de-c98304dcb5f9",
   "metadata": {},
   "outputs": [],
   "source": [
    "# Possible outcomes in each event\n",
    "eventGreen = [0, '00']\n",
    "eventBlack = [22, 15, 24, 13, 10, 29, 8, 31, 6, 33, 4, 35, 2, 28, 26, 11, 20, 17]\n",
    "eventRed = [5, 34, 3, 36, 1, 27, 25, 12, 19, 18, 21, 16, 23, 14, 9, 30, 7, 32]\n",
    "\n",
    "eventEven = [22,34,24,36,10,12,8,18,6,16,4,14,2,0,28,26,30,20,32] # Possible outcomes in even events\n",
    "eventOdd = [5,15,3,13,1,27,25,29,19,31,21,33,23,35,9,11,7,17] # Possible outcomes in odd events"
   ]
  },
  {
   "cell_type": "code",
   "execution_count": 12,
   "id": "7bfe1f50-81f3-4aa9-ac23-62c2be37fbaf",
   "metadata": {},
   "outputs": [
    {
     "data": {
      "text/plain": [
       "18"
      ]
     },
     "execution_count": 12,
     "metadata": {},
     "output_type": "execute_result"
    }
   ],
   "source": [
    "len(eventRed)"
   ]
  },
  {
   "cell_type": "code",
   "execution_count": 13,
   "id": "866c4595-da51-43db-a9ad-0b375dedecdd",
   "metadata": {},
   "outputs": [
    {
     "data": {
      "text/plain": [
       "18"
      ]
     },
     "execution_count": 13,
     "metadata": {},
     "output_type": "execute_result"
    }
   ],
   "source": [
    "len(eventOdd)"
   ]
  },
  {
   "cell_type": "code",
   "execution_count": 14,
   "id": "4f867121-ac86-4df8-a285-8dfc0f34e31f",
   "metadata": {},
   "outputs": [
    {
     "data": {
      "text/plain": [
       "19"
      ]
     },
     "execution_count": 14,
     "metadata": {},
     "output_type": "execute_result"
    }
   ],
   "source": [
    "len(eventEven)"
   ]
  },
  {
   "cell_type": "markdown",
   "id": "a2cd7cbd-8b8b-4b7a-9f72-7e424e776213",
   "metadata": {},
   "source": [
    "**This AND That: Using Intersection with Probability** Set intersection is used in calculating probability when two events occur together. The probability of **this** AND **that** is the probability of an intersection.\n",
    "\n",
    "                                        P(A and B) = P(A ∩ B)                                        \n",
    "For mutually exclusive events, \n",
    "\n",
    "                                        P(A ∩ B) = 0."
   ]
  },
  {
   "cell_type": "code",
   "execution_count": 15,
   "id": "3746a39a-821e-4434-9fec-c1029ac6b8c5",
   "metadata": {},
   "outputs": [],
   "source": [
    "def intersect(A, B):\n",
    "    intersection = [element for element in A if element in B]\n",
    "    return intersection"
   ]
  },
  {
   "cell_type": "code",
   "execution_count": 18,
   "id": "36cbf6e7-8aad-4429-acb3-ae4cfc5c7364",
   "metadata": {},
   "outputs": [
    {
     "data": {
      "text/plain": [
       "[]"
      ]
     },
     "execution_count": 18,
     "metadata": {},
     "output_type": "execute_result"
    }
   ],
   "source": [
    "intersect(eventBlack, eventRed)"
   ]
  },
  {
   "cell_type": "code",
   "execution_count": 19,
   "id": "ec0f4ff2-f642-4ec1-b1ee-6bd9e2aa635a",
   "metadata": {},
   "outputs": [
    {
     "data": {
      "text/plain": [
       "[15, 13, 29, 31, 33, 35, 11, 17]"
      ]
     },
     "execution_count": 19,
     "metadata": {},
     "output_type": "execute_result"
    }
   ],
   "source": [
    "intersect(eventBlack, eventOdd)"
   ]
  },
  {
   "cell_type": "code",
   "execution_count": 20,
   "id": "f09f305d-4dc1-4b55-8444-98c7b13830ee",
   "metadata": {},
   "outputs": [
    {
     "data": {
      "text/plain": [
       "[22, 24, 10, 8, 6, 4, 2, 28, 26, 20]"
      ]
     },
     "execution_count": 20,
     "metadata": {},
     "output_type": "execute_result"
    }
   ],
   "source": [
    "intersect(eventBlack, eventEven)"
   ]
  },
  {
   "cell_type": "markdown",
   "id": "9bb0147f-932a-4632-bf57-cb9eb9f67817",
   "metadata": {},
   "source": [
    "**This OR That: Using Union with Probability** Set union is used in calculating probability of EITHER of two events, whether or not they occur together. The probability of **this** OR **that** is the probability of a union.\n",
    "\n",
    "                    P(A or B) = P(A ∪ B) = P(A) + P(B) − P(A ∩ B)\n",
    "P(A ∩ B) is subtracted because it’s a duplicate of what already exists in P(A) + P(B). But for mutually exclusive events, P(A ∩ B) = 0, so no duplicate to remove:\n",
    "\n",
    "                    P(A ∪ B) = P(A) + P(B)"
   ]
  },
  {
   "cell_type": "code",
   "execution_count": 21,
   "id": "d31bcb5f-61b1-47b9-a389-e688f83f0579",
   "metadata": {},
   "outputs": [],
   "source": [
    " # Custom function for union between any two events\n",
    "def union(A,B):\n",
    "    C = A.copy() # we copy A in order not to have the result from the extend operation replace A\n",
    "    C.extend(B)\n",
    "    set_union = []\n",
    "    for i in C:\n",
    "        if i not in set_union:\n",
    "            set_union.append(i)\n",
    "    return set_union"
   ]
  },
  {
   "cell_type": "code",
   "execution_count": 23,
   "id": "d0ab60e4-996d-4851-b670-829bdd66ce06",
   "metadata": {},
   "outputs": [
    {
     "name": "stdout",
     "output_type": "stream",
     "text": [
      "[22, 15, 24, 13, 10, 29, 8, 31, 6, 33, 4, 35, 2, 28, 26, 11, 20, 17, 5, 34, 3, 36, 1, 27, 25, 12, 19, 18, 21, 16, 23, 14, 9, 30, 7, 32]\n"
     ]
    }
   ],
   "source": [
    "print(union(eventBlack, eventRed)) "
   ]
  },
  {
   "cell_type": "code",
   "execution_count": 24,
   "id": "b89df1f1-e0c5-40e7-950d-e5c00d3d7177",
   "metadata": {},
   "outputs": [
    {
     "name": "stdout",
     "output_type": "stream",
     "text": [
      "[22, 15, 24, 13, 10, 29, 8, 31, 6, 33, 4, 35, 2, 28, 26, 11, 20, 17, 5, 3, 1, 27, 25, 19, 21, 23, 9, 7]\n"
     ]
    }
   ],
   "source": [
    "print(union(eventBlack, eventOdd))"
   ]
  },
  {
   "cell_type": "code",
   "execution_count": 25,
   "id": "175ea58c-6ecf-4219-8be3-036391686def",
   "metadata": {},
   "outputs": [
    {
     "name": "stdout",
     "output_type": "stream",
     "text": [
      "[22, 15, 24, 13, 10, 29, 8, 31, 6, 33, 4, 35, 2, 28, 26, 11, 20, 17, 34, 36, 12, 18, 16, 14, 0, 30, 32]\n"
     ]
    }
   ],
   "source": [
    "print(union(eventBlack, eventEven))"
   ]
  },
  {
   "cell_type": "code",
   "execution_count": null,
   "id": "62ed2d29-ae70-49a5-8638-cf135f732f2e",
   "metadata": {},
   "outputs": [],
   "source": []
  }
 ],
 "metadata": {
  "kernelspec": {
   "display_name": "Python 3 (ipykernel)",
   "language": "python",
   "name": "python3"
  },
  "language_info": {
   "codemirror_mode": {
    "name": "ipython",
    "version": 3
   },
   "file_extension": ".py",
   "mimetype": "text/x-python",
   "name": "python",
   "nbconvert_exporter": "python",
   "pygments_lexer": "ipython3",
   "version": "3.8.8"
  }
 },
 "nbformat": 4,
 "nbformat_minor": 5
}
