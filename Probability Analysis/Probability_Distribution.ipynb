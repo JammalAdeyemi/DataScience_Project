{
 "cells": [
  {
   "cell_type": "markdown",
   "id": "3e68f971-4bb1-4917-b133-c1c4292e1604",
   "metadata": {
    "tags": []
   },
   "source": [
    "## Probability Distribution: Investment Returns Case Study\n",
    "An investor is concerned with the market return for the coming year, where the market return is defined as the percentage gain (or loss, if negative) over the year. The investor believes there are five possible scenarios for the national economy in the coming year: - Rapid expansion - Moderate Expansion - No Growth - Moderate Contraction - Serious Contraction.\n",
    "\n",
    "Furthermore, she has used all of the information available to her to estimate that the market returns for these scenarios are, respectively, 23%, 18%, 15%, 9%, and 3%. That is, the possible returns vary from a high of 23% to a low of 3%. Also, she has assessed that the probabilities of these outcomes are 0.12, 0.40, 0.25, 0.15, and 0.08. Use this information to describe the probability distribution of the market return.\n",
    "\n",
    "**Objective:** Compute the mean, variance, and standard deviation of the probability distribution of the market return for the coming year."
   ]
  },
  {
   "cell_type": "markdown",
   "id": "137c2e2e-e867-4c32-8aad-9e5cbad7d75d",
   "metadata": {},
   "source": [
    "### a. Expectation"
   ]
  },
  {
   "cell_type": "code",
   "execution_count": 1,
   "id": "1ffc4690-6652-4fc4-97a4-dc9b075b6729",
   "metadata": {},
   "outputs": [],
   "source": [
    "import numpy as np\n",
    "import pandas as pd"
   ]
  },
  {
   "cell_type": "code",
   "execution_count": 2,
   "id": "cb076c45-0ca9-4434-b4d2-25534058ef2e",
   "metadata": {},
   "outputs": [],
   "source": [
    "returns = np.array([23, 18, 15, 9, 3])\n",
    "probabilities = np.array([0.12, 0.4, 0.25, 0.15, 0.08])"
   ]
  },
  {
   "cell_type": "code",
   "execution_count": 6,
   "id": "cfd28d96-ab16-480b-b561-be23a8e0615d",
   "metadata": {},
   "outputs": [
    {
     "data": {
      "text/plain": [
       "1.0"
      ]
     },
     "execution_count": 6,
     "metadata": {},
     "output_type": "execute_result"
    }
   ],
   "source": [
    "sum(probabilities)"
   ]
  },
  {
   "cell_type": "code",
   "execution_count": 3,
   "id": "393c7385-174b-43c0-ab59-a928dd12f486",
   "metadata": {},
   "outputs": [
    {
     "data": {
      "text/plain": [
       "[2.76, 7.2, 3.75, 1.3499999999999999, 0.24]"
      ]
     },
     "execution_count": 3,
     "metadata": {},
     "output_type": "execute_result"
    }
   ],
   "source": [
    "# prod = returns * probabilities; element-wise multiplication wrks with numpy arrays\n",
    "prod = [outcome * prob for outcome,prob in zip(returns,probabilities)] \n",
    "\n",
    "# Elaborate method in case the data are not numpy arrays\n",
    "prod"
   ]
  },
  {
   "cell_type": "code",
   "execution_count": 4,
   "id": "f9143f31-7a47-4b22-87f2-81bce1027799",
   "metadata": {},
   "outputs": [
    {
     "data": {
      "text/plain": [
       "15.3"
      ]
     },
     "execution_count": 4,
     "metadata": {},
     "output_type": "execute_result"
    }
   ],
   "source": [
    "expected_return = sum(prod)\n",
    "expected_return"
   ]
  },
  {
   "cell_type": "code",
   "execution_count": 7,
   "id": "8db0ca83-7289-4a88-943f-4258c829f77a",
   "metadata": {},
   "outputs": [],
   "source": [
    "# Writing a custom function to compute expectation\n",
    "def expectation(outcomes, probs):\n",
    "    prod = [outcome * prob for outcome,prob in zip(outcomes, probs)]\n",
    "    mean = sum(prod)\n",
    "    return mean"
   ]
  },
  {
   "cell_type": "code",
   "execution_count": 8,
   "id": "ce971e89-3b1b-4e53-a6a2-9bbdb16ea093",
   "metadata": {},
   "outputs": [
    {
     "data": {
      "text/plain": [
       "15.3"
      ]
     },
     "execution_count": 8,
     "metadata": {},
     "output_type": "execute_result"
    }
   ],
   "source": [
    "expectation(returns, probabilities)"
   ]
  },
  {
   "cell_type": "markdown",
   "id": "c72e628c-b1a1-47e4-878a-dd62ab842bbd",
   "metadata": {},
   "source": [
    "### b. Variance"
   ]
  },
  {
   "cell_type": "code",
   "execution_count": 9,
   "id": "cedbbfd4-ef0a-495b-935f-1aee3aed2168",
   "metadata": {},
   "outputs": [],
   "source": [
    "def prob_var(outcomes, probs):\n",
    "    # Expectation\n",
    "    expected = expectation(outcomes, probs)\n",
    "    \n",
    "    # Get a list of the deviations of each outcome from expectation\n",
    "    expectation_dev = [ outcome - expected for outcome in outcomes]\n",
    "    \n",
    "    #  Square the deviations in above list and multiply each by corresponding probability\n",
    "    weighted_dev = [ expected_dev**2 * prob for expected_dev, prob in zip(expectation_dev,probs)]\n",
    "    \n",
    "    # Sum above list to obtain variance\n",
    "    variance = sum(weighted_dev)\n",
    "    \n",
    "    return variance"
   ]
  },
  {
   "cell_type": "code",
   "execution_count": 10,
   "id": "6ca628b1-9103-47c0-9bc5-54b868262606",
   "metadata": {},
   "outputs": [
    {
     "data": {
      "text/plain": [
       "28.11"
      ]
     },
     "execution_count": 10,
     "metadata": {},
     "output_type": "execute_result"
    }
   ],
   "source": [
    "prob_var(returns, probabilities)"
   ]
  },
  {
   "cell_type": "markdown",
   "id": "828f400b-bdd7-43ee-8c61-13488e356366",
   "metadata": {},
   "source": [
    "### c. Standard Deviation"
   ]
  },
  {
   "cell_type": "code",
   "execution_count": 11,
   "id": "80a75dd2-898e-4e42-ad5d-cd035977b7d0",
   "metadata": {},
   "outputs": [
    {
     "data": {
      "text/plain": [
       "5.301886456724625"
      ]
     },
     "execution_count": 11,
     "metadata": {},
     "output_type": "execute_result"
    }
   ],
   "source": [
    "prob_var(returns, probabilities) ** 0.5"
   ]
  },
  {
   "cell_type": "code",
   "execution_count": null,
   "id": "9155c767-bd01-47ed-b0a4-33617244f854",
   "metadata": {},
   "outputs": [],
   "source": []
  }
 ],
 "metadata": {
  "kernelspec": {
   "display_name": "Python 3 (ipykernel)",
   "language": "python",
   "name": "python3"
  },
  "language_info": {
   "codemirror_mode": {
    "name": "ipython",
    "version": 3
   },
   "file_extension": ".py",
   "mimetype": "text/x-python",
   "name": "python",
   "nbconvert_exporter": "python",
   "pygments_lexer": "ipython3",
   "version": "3.8.8"
  }
 },
 "nbformat": 4,
 "nbformat_minor": 5
}
