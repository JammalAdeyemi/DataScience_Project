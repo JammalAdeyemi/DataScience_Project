{
 "cells": [
  {
   "cell_type": "code",
   "execution_count": 1,
   "metadata": {
    "id": "i6jpAakeGrdm"
   },
   "outputs": [],
   "source": [
    "import pandas as pd\n",
    "import numpy as np\n",
    "import seaborn as sns\n",
    "import matplotlib.pyplot as plt\n",
    "import scipy.stats as stats\n",
    "from numpy import random as rnd\n",
    "import plotly.express as px\n",
    "import io\n",
    "import requests\n",
    "\n",
    "%matplotlib inline\n",
    "\n",
    "import warnings\n",
    "warnings.filterwarnings('ignore')"
   ]
  },
  {
   "cell_type": "code",
   "execution_count": 2,
   "metadata": {
    "colab": {
     "base_uri": "https://localhost:8080/",
     "height": 391
    },
    "id": "Y_Cl5z4PgAuo",
    "outputId": "88590e8c-b113-449b-faec-0602426a5f08"
   },
   "outputs": [
    {
     "data": {
      "text/html": [
       "<div>\n",
       "<style scoped>\n",
       "    .dataframe tbody tr th:only-of-type {\n",
       "        vertical-align: middle;\n",
       "    }\n",
       "\n",
       "    .dataframe tbody tr th {\n",
       "        vertical-align: top;\n",
       "    }\n",
       "\n",
       "    .dataframe thead th {\n",
       "        text-align: right;\n",
       "    }\n",
       "</style>\n",
       "<table border=\"1\" class=\"dataframe\">\n",
       "  <thead>\n",
       "    <tr style=\"text-align: right;\">\n",
       "      <th></th>\n",
       "      <th>Invoice ID</th>\n",
       "      <th>Branch</th>\n",
       "      <th>City</th>\n",
       "      <th>Customer type</th>\n",
       "      <th>Gender</th>\n",
       "      <th>Product line</th>\n",
       "      <th>Unit price</th>\n",
       "      <th>Quantity</th>\n",
       "      <th>Tax 5%</th>\n",
       "      <th>Total</th>\n",
       "      <th>Date</th>\n",
       "      <th>Time</th>\n",
       "      <th>Payment</th>\n",
       "      <th>cogs</th>\n",
       "      <th>gross margin percentage</th>\n",
       "      <th>gross income</th>\n",
       "      <th>Rating</th>\n",
       "    </tr>\n",
       "  </thead>\n",
       "  <tbody>\n",
       "    <tr>\n",
       "      <th>0</th>\n",
       "      <td>750-67-8428</td>\n",
       "      <td>A</td>\n",
       "      <td>Yangon</td>\n",
       "      <td>Member</td>\n",
       "      <td>Female</td>\n",
       "      <td>Health and beauty</td>\n",
       "      <td>74.69</td>\n",
       "      <td>7</td>\n",
       "      <td>26.1415</td>\n",
       "      <td>548.9715</td>\n",
       "      <td>1/5/2019</td>\n",
       "      <td>13:08</td>\n",
       "      <td>Ewallet</td>\n",
       "      <td>522.83</td>\n",
       "      <td>4.761905</td>\n",
       "      <td>26.1415</td>\n",
       "      <td>9.1</td>\n",
       "    </tr>\n",
       "    <tr>\n",
       "      <th>1</th>\n",
       "      <td>226-31-3081</td>\n",
       "      <td>C</td>\n",
       "      <td>Naypyitaw</td>\n",
       "      <td>Normal</td>\n",
       "      <td>Female</td>\n",
       "      <td>Electronic accessories</td>\n",
       "      <td>15.28</td>\n",
       "      <td>5</td>\n",
       "      <td>3.8200</td>\n",
       "      <td>80.2200</td>\n",
       "      <td>3/8/2019</td>\n",
       "      <td>10:29</td>\n",
       "      <td>Cash</td>\n",
       "      <td>76.40</td>\n",
       "      <td>4.761905</td>\n",
       "      <td>3.8200</td>\n",
       "      <td>9.6</td>\n",
       "    </tr>\n",
       "    <tr>\n",
       "      <th>2</th>\n",
       "      <td>631-41-3108</td>\n",
       "      <td>A</td>\n",
       "      <td>Yangon</td>\n",
       "      <td>Normal</td>\n",
       "      <td>Male</td>\n",
       "      <td>Home and lifestyle</td>\n",
       "      <td>46.33</td>\n",
       "      <td>7</td>\n",
       "      <td>16.2155</td>\n",
       "      <td>340.5255</td>\n",
       "      <td>3/3/2019</td>\n",
       "      <td>13:23</td>\n",
       "      <td>Credit card</td>\n",
       "      <td>324.31</td>\n",
       "      <td>4.761905</td>\n",
       "      <td>16.2155</td>\n",
       "      <td>7.4</td>\n",
       "    </tr>\n",
       "    <tr>\n",
       "      <th>3</th>\n",
       "      <td>123-19-1176</td>\n",
       "      <td>A</td>\n",
       "      <td>Yangon</td>\n",
       "      <td>Member</td>\n",
       "      <td>Male</td>\n",
       "      <td>Health and beauty</td>\n",
       "      <td>58.22</td>\n",
       "      <td>8</td>\n",
       "      <td>23.2880</td>\n",
       "      <td>489.0480</td>\n",
       "      <td>1/27/2019</td>\n",
       "      <td>20:33</td>\n",
       "      <td>Ewallet</td>\n",
       "      <td>465.76</td>\n",
       "      <td>4.761905</td>\n",
       "      <td>23.2880</td>\n",
       "      <td>8.4</td>\n",
       "    </tr>\n",
       "    <tr>\n",
       "      <th>4</th>\n",
       "      <td>373-73-7910</td>\n",
       "      <td>A</td>\n",
       "      <td>Yangon</td>\n",
       "      <td>Normal</td>\n",
       "      <td>Male</td>\n",
       "      <td>Sports and travel</td>\n",
       "      <td>86.31</td>\n",
       "      <td>7</td>\n",
       "      <td>30.2085</td>\n",
       "      <td>634.3785</td>\n",
       "      <td>2/8/2019</td>\n",
       "      <td>10:37</td>\n",
       "      <td>Ewallet</td>\n",
       "      <td>604.17</td>\n",
       "      <td>4.761905</td>\n",
       "      <td>30.2085</td>\n",
       "      <td>5.3</td>\n",
       "    </tr>\n",
       "  </tbody>\n",
       "</table>\n",
       "</div>"
      ],
      "text/plain": [
       "    Invoice ID Branch       City Customer type  Gender  \\\n",
       "0  750-67-8428      A     Yangon        Member  Female   \n",
       "1  226-31-3081      C  Naypyitaw        Normal  Female   \n",
       "2  631-41-3108      A     Yangon        Normal    Male   \n",
       "3  123-19-1176      A     Yangon        Member    Male   \n",
       "4  373-73-7910      A     Yangon        Normal    Male   \n",
       "\n",
       "             Product line  Unit price  Quantity   Tax 5%     Total       Date  \\\n",
       "0       Health and beauty       74.69         7  26.1415  548.9715   1/5/2019   \n",
       "1  Electronic accessories       15.28         5   3.8200   80.2200   3/8/2019   \n",
       "2      Home and lifestyle       46.33         7  16.2155  340.5255   3/3/2019   \n",
       "3       Health and beauty       58.22         8  23.2880  489.0480  1/27/2019   \n",
       "4       Sports and travel       86.31         7  30.2085  634.3785   2/8/2019   \n",
       "\n",
       "    Time      Payment    cogs  gross margin percentage  gross income  Rating  \n",
       "0  13:08      Ewallet  522.83                 4.761905       26.1415     9.1  \n",
       "1  10:29         Cash   76.40                 4.761905        3.8200     9.6  \n",
       "2  13:23  Credit card  324.31                 4.761905       16.2155     7.4  \n",
       "3  20:33      Ewallet  465.76                 4.761905       23.2880     8.4  \n",
       "4  10:37      Ewallet  604.17                 4.761905       30.2085     5.3  "
      ]
     },
     "execution_count": 2,
     "metadata": {},
     "output_type": "execute_result"
    }
   ],
   "source": [
    "url =\"https://raw.githubusercontent.com/Jammal7/DataScience_Project/main/CGA%20Portfolio%20Project/Probabilistic%20Sales%20Forecasting/Data/supermarket_sales_data\"\n",
    "s = requests.get(url).content\n",
    "df = pd.read_csv(io.StringIO(s.decode('utf-8')))\n",
    "df.head()"
   ]
  },
  {
   "cell_type": "markdown",
   "metadata": {
    "id": "9qo3P_BAmOwP"
   },
   "source": [
    "## Basic Data Checkup"
   ]
  },
  {
   "cell_type": "code",
   "execution_count": 3,
   "metadata": {
    "colab": {
     "base_uri": "https://localhost:8080/"
    },
    "id": "YNcYpnaGlOZU",
    "outputId": "9ac8e5ea-ce9d-4926-c26c-f5565e915836"
   },
   "outputs": [
    {
     "data": {
      "text/plain": [
       "Invoice ID                 0\n",
       "Total                      0\n",
       "gross income               0\n",
       "gross margin percentage    0\n",
       "cogs                       0\n",
       "Payment                    0\n",
       "Time                       0\n",
       "Date                       0\n",
       "Tax 5%                     0\n",
       "Branch                     0\n",
       "Quantity                   0\n",
       "Unit price                 0\n",
       "Product line               0\n",
       "Gender                     0\n",
       "Customer type              0\n",
       "City                       0\n",
       "Rating                     0\n",
       "dtype: int64"
      ]
     },
     "execution_count": 3,
     "metadata": {},
     "output_type": "execute_result"
    }
   ],
   "source": [
    "# Checking for nulls\n",
    "df.isnull().sum().sort_values(ascending=False)"
   ]
  },
  {
   "cell_type": "code",
   "execution_count": 4,
   "metadata": {
    "colab": {
     "base_uri": "https://localhost:8080/"
    },
    "id": "R7fsn3AimaoP",
    "outputId": "f2387757-9420-433d-91aa-12c1dfb54dde"
   },
   "outputs": [
    {
     "data": {
      "text/plain": [
       "(1000, 17)"
      ]
     },
     "execution_count": 4,
     "metadata": {},
     "output_type": "execute_result"
    }
   ],
   "source": [
    "df.shape"
   ]
  },
  {
   "cell_type": "code",
   "execution_count": 5,
   "metadata": {
    "colab": {
     "base_uri": "https://localhost:8080/"
    },
    "id": "-rmSYlSDmedn",
    "outputId": "7a821751-71b6-4a28-f250-fc4be276ee3e"
   },
   "outputs": [
    {
     "name": "stdout",
     "output_type": "stream",
     "text": [
      "<class 'pandas.core.frame.DataFrame'>\n",
      "RangeIndex: 1000 entries, 0 to 999\n",
      "Data columns (total 17 columns):\n",
      " #   Column                   Non-Null Count  Dtype  \n",
      "---  ------                   --------------  -----  \n",
      " 0   Invoice ID               1000 non-null   object \n",
      " 1   Branch                   1000 non-null   object \n",
      " 2   City                     1000 non-null   object \n",
      " 3   Customer type            1000 non-null   object \n",
      " 4   Gender                   1000 non-null   object \n",
      " 5   Product line             1000 non-null   object \n",
      " 6   Unit price               1000 non-null   float64\n",
      " 7   Quantity                 1000 non-null   int64  \n",
      " 8   Tax 5%                   1000 non-null   float64\n",
      " 9   Total                    1000 non-null   float64\n",
      " 10  Date                     1000 non-null   object \n",
      " 11  Time                     1000 non-null   object \n",
      " 12  Payment                  1000 non-null   object \n",
      " 13  cogs                     1000 non-null   float64\n",
      " 14  gross margin percentage  1000 non-null   float64\n",
      " 15  gross income             1000 non-null   float64\n",
      " 16  Rating                   1000 non-null   float64\n",
      "dtypes: float64(7), int64(1), object(9)\n",
      "memory usage: 132.9+ KB\n"
     ]
    }
   ],
   "source": [
    "df.info()"
   ]
  },
  {
   "cell_type": "code",
   "execution_count": 6,
   "metadata": {
    "colab": {
     "base_uri": "https://localhost:8080/"
    },
    "id": "hWcfHbgFmmBJ",
    "outputId": "da1f5d0b-1bdb-478e-b1d5-2776964449a3"
   },
   "outputs": [
    {
     "name": "stdout",
     "output_type": "stream",
     "text": [
      "Invoice ID: 1000\n",
      "Branch: 3\n",
      "City: 3\n",
      "Customer type: 2\n",
      "Gender: 2\n",
      "Product line: 6\n",
      "Unit price: 943\n",
      "Quantity: 10\n",
      "Tax 5%: 990\n",
      "Total: 990\n",
      "Date: 89\n",
      "Time: 506\n",
      "Payment: 3\n",
      "cogs: 990\n",
      "gross margin percentage: 1\n",
      "gross income: 990\n",
      "Rating: 61\n"
     ]
    }
   ],
   "source": [
    "# Unique Values\n",
    "obj_col = df.columns\n",
    "for col in obj_col:\n",
    "    print(\"{}: {}\".format(col,len(df[col].unique())))"
   ]
  },
  {
   "cell_type": "markdown",
   "metadata": {
    "id": "TndPo1pPonmX"
   },
   "source": [
    "The data appears to be fairly clean, based on my observations. Something to look into:\n",
    "\n",
    "* Data have 1000 samples without missing any information\n",
    "* We may need to convert the date and time later on- Peace has updated the dataset to 2022\n",
    "* The `Invoice ID` need to be excluded as not to cause overfitting\n",
    "* The `gross margin percentage` has only 1 value, which does not given us any meaning\n",
    "\n",
    "So we drop `Invoice ID` and `gross margin percentage` attributes first"
   ]
  },
  {
   "cell_type": "code",
   "execution_count": 7,
   "metadata": {
    "colab": {
     "base_uri": "https://localhost:8080/",
     "height": 354
    },
    "id": "ahiNke6yoejj",
    "outputId": "8b2179eb-7eca-43a3-fd67-b012885193b2"
   },
   "outputs": [
    {
     "data": {
      "text/html": [
       "<div>\n",
       "<style scoped>\n",
       "    .dataframe tbody tr th:only-of-type {\n",
       "        vertical-align: middle;\n",
       "    }\n",
       "\n",
       "    .dataframe tbody tr th {\n",
       "        vertical-align: top;\n",
       "    }\n",
       "\n",
       "    .dataframe thead th {\n",
       "        text-align: right;\n",
       "    }\n",
       "</style>\n",
       "<table border=\"1\" class=\"dataframe\">\n",
       "  <thead>\n",
       "    <tr style=\"text-align: right;\">\n",
       "      <th></th>\n",
       "      <th>Branch</th>\n",
       "      <th>City</th>\n",
       "      <th>Customer type</th>\n",
       "      <th>Gender</th>\n",
       "      <th>Product line</th>\n",
       "      <th>Unit price</th>\n",
       "      <th>Quantity</th>\n",
       "      <th>Tax 5%</th>\n",
       "      <th>Total</th>\n",
       "      <th>Date</th>\n",
       "      <th>Time</th>\n",
       "      <th>Payment</th>\n",
       "      <th>cogs</th>\n",
       "      <th>gross income</th>\n",
       "      <th>Rating</th>\n",
       "    </tr>\n",
       "  </thead>\n",
       "  <tbody>\n",
       "    <tr>\n",
       "      <th>0</th>\n",
       "      <td>A</td>\n",
       "      <td>Yangon</td>\n",
       "      <td>Member</td>\n",
       "      <td>Female</td>\n",
       "      <td>Health and beauty</td>\n",
       "      <td>74.69</td>\n",
       "      <td>7</td>\n",
       "      <td>26.1415</td>\n",
       "      <td>548.9715</td>\n",
       "      <td>1/5/2019</td>\n",
       "      <td>13:08</td>\n",
       "      <td>Ewallet</td>\n",
       "      <td>522.83</td>\n",
       "      <td>26.1415</td>\n",
       "      <td>9.1</td>\n",
       "    </tr>\n",
       "    <tr>\n",
       "      <th>1</th>\n",
       "      <td>C</td>\n",
       "      <td>Naypyitaw</td>\n",
       "      <td>Normal</td>\n",
       "      <td>Female</td>\n",
       "      <td>Electronic accessories</td>\n",
       "      <td>15.28</td>\n",
       "      <td>5</td>\n",
       "      <td>3.8200</td>\n",
       "      <td>80.2200</td>\n",
       "      <td>3/8/2019</td>\n",
       "      <td>10:29</td>\n",
       "      <td>Cash</td>\n",
       "      <td>76.40</td>\n",
       "      <td>3.8200</td>\n",
       "      <td>9.6</td>\n",
       "    </tr>\n",
       "    <tr>\n",
       "      <th>2</th>\n",
       "      <td>A</td>\n",
       "      <td>Yangon</td>\n",
       "      <td>Normal</td>\n",
       "      <td>Male</td>\n",
       "      <td>Home and lifestyle</td>\n",
       "      <td>46.33</td>\n",
       "      <td>7</td>\n",
       "      <td>16.2155</td>\n",
       "      <td>340.5255</td>\n",
       "      <td>3/3/2019</td>\n",
       "      <td>13:23</td>\n",
       "      <td>Credit card</td>\n",
       "      <td>324.31</td>\n",
       "      <td>16.2155</td>\n",
       "      <td>7.4</td>\n",
       "    </tr>\n",
       "    <tr>\n",
       "      <th>3</th>\n",
       "      <td>A</td>\n",
       "      <td>Yangon</td>\n",
       "      <td>Member</td>\n",
       "      <td>Male</td>\n",
       "      <td>Health and beauty</td>\n",
       "      <td>58.22</td>\n",
       "      <td>8</td>\n",
       "      <td>23.2880</td>\n",
       "      <td>489.0480</td>\n",
       "      <td>1/27/2019</td>\n",
       "      <td>20:33</td>\n",
       "      <td>Ewallet</td>\n",
       "      <td>465.76</td>\n",
       "      <td>23.2880</td>\n",
       "      <td>8.4</td>\n",
       "    </tr>\n",
       "    <tr>\n",
       "      <th>4</th>\n",
       "      <td>A</td>\n",
       "      <td>Yangon</td>\n",
       "      <td>Normal</td>\n",
       "      <td>Male</td>\n",
       "      <td>Sports and travel</td>\n",
       "      <td>86.31</td>\n",
       "      <td>7</td>\n",
       "      <td>30.2085</td>\n",
       "      <td>634.3785</td>\n",
       "      <td>2/8/2019</td>\n",
       "      <td>10:37</td>\n",
       "      <td>Ewallet</td>\n",
       "      <td>604.17</td>\n",
       "      <td>30.2085</td>\n",
       "      <td>5.3</td>\n",
       "    </tr>\n",
       "  </tbody>\n",
       "</table>\n",
       "</div>"
      ],
      "text/plain": [
       "  Branch       City Customer type  Gender            Product line  Unit price  \\\n",
       "0      A     Yangon        Member  Female       Health and beauty       74.69   \n",
       "1      C  Naypyitaw        Normal  Female  Electronic accessories       15.28   \n",
       "2      A     Yangon        Normal    Male      Home and lifestyle       46.33   \n",
       "3      A     Yangon        Member    Male       Health and beauty       58.22   \n",
       "4      A     Yangon        Normal    Male       Sports and travel       86.31   \n",
       "\n",
       "   Quantity   Tax 5%     Total       Date   Time      Payment    cogs  \\\n",
       "0         7  26.1415  548.9715   1/5/2019  13:08      Ewallet  522.83   \n",
       "1         5   3.8200   80.2200   3/8/2019  10:29         Cash   76.40   \n",
       "2         7  16.2155  340.5255   3/3/2019  13:23  Credit card  324.31   \n",
       "3         8  23.2880  489.0480  1/27/2019  20:33      Ewallet  465.76   \n",
       "4         7  30.2085  634.3785   2/8/2019  10:37      Ewallet  604.17   \n",
       "\n",
       "   gross income  Rating  \n",
       "0       26.1415     9.1  \n",
       "1        3.8200     9.6  \n",
       "2       16.2155     7.4  \n",
       "3       23.2880     8.4  \n",
       "4       30.2085     5.3  "
      ]
     },
     "execution_count": 7,
     "metadata": {},
     "output_type": "execute_result"
    }
   ],
   "source": [
    "df = df.drop(columns=['Invoice ID', 'gross margin percentage'])\n",
    "df.head()"
   ]
  },
  {
   "cell_type": "markdown",
   "metadata": {
    "id": "zWgJcrUBqppH"
   },
   "source": [
    "## Exploratory Data Analysis(EDA)"
   ]
  },
  {
   "cell_type": "code",
   "execution_count": 8,
   "metadata": {
    "id": "6lSLHu5cc9Up"
   },
   "outputs": [],
   "source": [
    "#removing blank spaces from column names\n",
    "df.columns = df.columns.str.replace(' ','_')\n",
    "df['Date'] = pd.to_datetime(df['Date'])\n",
    "\n",
    "df[\"Date\"]=df[\"Date\"]+pd.offsets.DateOffset(year=2022)"
   ]
  },
  {
   "cell_type": "code",
   "execution_count": 9,
   "metadata": {
    "colab": {
     "base_uri": "https://localhost:8080/",
     "height": 357
    },
    "id": "oIOpZSLwdBQF",
    "outputId": "80af2f31-f379-477c-968a-fdbd58fdffa8"
   },
   "outputs": [
    {
     "data": {
      "text/html": [
       "<div>\n",
       "<style scoped>\n",
       "    .dataframe tbody tr th:only-of-type {\n",
       "        vertical-align: middle;\n",
       "    }\n",
       "\n",
       "    .dataframe tbody tr th {\n",
       "        vertical-align: top;\n",
       "    }\n",
       "\n",
       "    .dataframe thead th {\n",
       "        text-align: right;\n",
       "    }\n",
       "</style>\n",
       "<table border=\"1\" class=\"dataframe\">\n",
       "  <thead>\n",
       "    <tr style=\"text-align: right;\">\n",
       "      <th></th>\n",
       "      <th>Branch</th>\n",
       "      <th>City</th>\n",
       "      <th>Customer_type</th>\n",
       "      <th>Gender</th>\n",
       "      <th>Product_line</th>\n",
       "      <th>Unit_price</th>\n",
       "      <th>Quantity</th>\n",
       "      <th>Tax_5%</th>\n",
       "      <th>Total</th>\n",
       "      <th>Date</th>\n",
       "      <th>Time</th>\n",
       "      <th>Payment</th>\n",
       "      <th>cogs</th>\n",
       "      <th>gross_income</th>\n",
       "      <th>Rating</th>\n",
       "    </tr>\n",
       "  </thead>\n",
       "  <tbody>\n",
       "    <tr>\n",
       "      <th>0</th>\n",
       "      <td>A</td>\n",
       "      <td>Yangon</td>\n",
       "      <td>Member</td>\n",
       "      <td>Female</td>\n",
       "      <td>Health and beauty</td>\n",
       "      <td>74.69</td>\n",
       "      <td>7</td>\n",
       "      <td>26.1415</td>\n",
       "      <td>548.9715</td>\n",
       "      <td>2022-01-05</td>\n",
       "      <td>13:08</td>\n",
       "      <td>Ewallet</td>\n",
       "      <td>522.83</td>\n",
       "      <td>26.1415</td>\n",
       "      <td>9.1</td>\n",
       "    </tr>\n",
       "    <tr>\n",
       "      <th>1</th>\n",
       "      <td>C</td>\n",
       "      <td>Naypyitaw</td>\n",
       "      <td>Normal</td>\n",
       "      <td>Female</td>\n",
       "      <td>Electronic accessories</td>\n",
       "      <td>15.28</td>\n",
       "      <td>5</td>\n",
       "      <td>3.8200</td>\n",
       "      <td>80.2200</td>\n",
       "      <td>2022-03-08</td>\n",
       "      <td>10:29</td>\n",
       "      <td>Cash</td>\n",
       "      <td>76.40</td>\n",
       "      <td>3.8200</td>\n",
       "      <td>9.6</td>\n",
       "    </tr>\n",
       "    <tr>\n",
       "      <th>2</th>\n",
       "      <td>A</td>\n",
       "      <td>Yangon</td>\n",
       "      <td>Normal</td>\n",
       "      <td>Male</td>\n",
       "      <td>Home and lifestyle</td>\n",
       "      <td>46.33</td>\n",
       "      <td>7</td>\n",
       "      <td>16.2155</td>\n",
       "      <td>340.5255</td>\n",
       "      <td>2022-03-03</td>\n",
       "      <td>13:23</td>\n",
       "      <td>Credit card</td>\n",
       "      <td>324.31</td>\n",
       "      <td>16.2155</td>\n",
       "      <td>7.4</td>\n",
       "    </tr>\n",
       "    <tr>\n",
       "      <th>3</th>\n",
       "      <td>A</td>\n",
       "      <td>Yangon</td>\n",
       "      <td>Member</td>\n",
       "      <td>Male</td>\n",
       "      <td>Health and beauty</td>\n",
       "      <td>58.22</td>\n",
       "      <td>8</td>\n",
       "      <td>23.2880</td>\n",
       "      <td>489.0480</td>\n",
       "      <td>2022-01-27</td>\n",
       "      <td>20:33</td>\n",
       "      <td>Ewallet</td>\n",
       "      <td>465.76</td>\n",
       "      <td>23.2880</td>\n",
       "      <td>8.4</td>\n",
       "    </tr>\n",
       "    <tr>\n",
       "      <th>4</th>\n",
       "      <td>A</td>\n",
       "      <td>Yangon</td>\n",
       "      <td>Normal</td>\n",
       "      <td>Male</td>\n",
       "      <td>Sports and travel</td>\n",
       "      <td>86.31</td>\n",
       "      <td>7</td>\n",
       "      <td>30.2085</td>\n",
       "      <td>634.3785</td>\n",
       "      <td>2022-02-08</td>\n",
       "      <td>10:37</td>\n",
       "      <td>Ewallet</td>\n",
       "      <td>604.17</td>\n",
       "      <td>30.2085</td>\n",
       "      <td>5.3</td>\n",
       "    </tr>\n",
       "  </tbody>\n",
       "</table>\n",
       "</div>"
      ],
      "text/plain": [
       "  Branch       City Customer_type  Gender            Product_line  Unit_price  \\\n",
       "0      A     Yangon        Member  Female       Health and beauty       74.69   \n",
       "1      C  Naypyitaw        Normal  Female  Electronic accessories       15.28   \n",
       "2      A     Yangon        Normal    Male      Home and lifestyle       46.33   \n",
       "3      A     Yangon        Member    Male       Health and beauty       58.22   \n",
       "4      A     Yangon        Normal    Male       Sports and travel       86.31   \n",
       "\n",
       "   Quantity   Tax_5%     Total       Date   Time      Payment    cogs  \\\n",
       "0         7  26.1415  548.9715 2022-01-05  13:08      Ewallet  522.83   \n",
       "1         5   3.8200   80.2200 2022-03-08  10:29         Cash   76.40   \n",
       "2         7  16.2155  340.5255 2022-03-03  13:23  Credit card  324.31   \n",
       "3         8  23.2880  489.0480 2022-01-27  20:33      Ewallet  465.76   \n",
       "4         7  30.2085  634.3785 2022-02-08  10:37      Ewallet  604.17   \n",
       "\n",
       "   gross_income  Rating  \n",
       "0       26.1415     9.1  \n",
       "1        3.8200     9.6  \n",
       "2       16.2155     7.4  \n",
       "3       23.2880     8.4  \n",
       "4       30.2085     5.3  "
      ]
     },
     "execution_count": 9,
     "metadata": {},
     "output_type": "execute_result"
    }
   ],
   "source": [
    "df.head()"
   ]
  },
  {
   "cell_type": "code",
   "execution_count": 10,
   "metadata": {
    "colab": {
     "base_uri": "https://localhost:8080/"
    },
    "id": "c06NtsswzgAN",
    "outputId": "23ff02be-6cd8-4b75-d008-7e1e8601ecba"
   },
   "outputs": [
    {
     "data": {
      "text/plain": [
       "(1000, 15)"
      ]
     },
     "execution_count": 10,
     "metadata": {},
     "output_type": "execute_result"
    }
   ],
   "source": [
    "df.shape"
   ]
  },
  {
   "cell_type": "markdown",
   "metadata": {
    "id": "CDgDJqqmZuj4"
   },
   "source": [
    "### Branch "
   ]
  },
  {
   "cell_type": "code",
   "execution_count": 11,
   "metadata": {
    "colab": {
     "base_uri": "https://localhost:8080/"
    },
    "id": "sfLtBCd7ZqZI",
    "outputId": "0dd461d1-502f-43b0-87d5-824e36bce2e4"
   },
   "outputs": [
    {
     "data": {
      "text/plain": [
       "A    340\n",
       "B    332\n",
       "C    328\n",
       "Name: Branch, dtype: int64"
      ]
     },
     "execution_count": 11,
     "metadata": {},
     "output_type": "execute_result"
    }
   ],
   "source": [
    "df['Branch'].value_counts()"
   ]
  },
  {
   "cell_type": "code",
   "execution_count": 12,
   "metadata": {
    "colab": {
     "base_uri": "https://localhost:8080/",
     "height": 513
    },
    "id": "SSPtjNWfzlfu",
    "outputId": "f515ebd0-573c-4082-a156-76e51929c612"
   },
   "outputs": [
    {
     "data": {
      "image/png": "[encoded data removed]",
      "text/plain": [
       "<Figure size 1440x576 with 2 Axes>"
      ]
     },
     "metadata": {
      "needs_background": "light"
     },
     "output_type": "display_data"
    }
   ],
   "source": [
    "branch_count = df['Branch'].value_counts()\n",
    "\n",
    "colors = sns.color_palette('pastel')\n",
    "fig, ax = plt.subplots(1,2,figsize=(20,8))\n",
    "\n",
    "ax[0].pie(branch_count.values,labels=branch_count.index,autopct='%0.f%%',labeldistance=None,colors=colors)\n",
    "ax[0].legend(title='Branch')\n",
    "ax[0].set_title(\"Percentage of branches\")\n",
    "\n",
    "ax[1].bar(x=branch_count.index,height=branch_count,color=colors)\n",
    "ax[1].set_ylabel(\"Number of transactions\")\n",
    "ax[1].set_xlabel(\"Branches\")\n",
    "ax[1].set_title(\"Number of transactions over branches\")\n",
    "\n",
    "plt.show()"
   ]
  },
  {
   "cell_type": "code",
   "execution_count": 13,
   "metadata": {
    "colab": {
     "base_uri": "https://localhost:8080/",
     "height": 334
    },
    "id": "WlgLnf5JbgNT",
    "outputId": "e2688345-8194-4a38-b94d-ca64ac9b3a7c"
   },
   "outputs": [
    {
     "data": {
      "text/plain": [
       "<AxesSubplot:xlabel='Branch', ylabel='count'>"
      ]
     },
     "execution_count": 13,
     "metadata": {},
     "output_type": "execute_result"
    },
    {
     "data": {
      "image/png": "[encoded data removed]",
      "text/plain": [
       "<Figure size 1080x360 with 1 Axes>"
      ]
     },
     "metadata": {
      "needs_background": "light"
     },
     "output_type": "display_data"
    }
   ],
   "source": [
    "plt.figure(figsize=(15,5))\n",
    "sns.countplot(data=df, x=\"Branch\", hue=\"Gender\");"
   ]
  },
  {
   "cell_type": "markdown",
   "metadata": {
    "id": "MCMVIiUWbpQB"
   },
   "source": [
    "Branch A has the highest sales compared to other branches followed by branch B then branch C. When you compared the customer Gender in we see that most males are in branch A with the highest followed by branch B ,branch C has females as the most customers."
   ]
  },
  {
   "cell_type": "code",
   "execution_count": 14,
   "metadata": {
    "colab": {
     "base_uri": "https://localhost:8080/"
    },
    "id": "a9P9wFgdY973",
    "outputId": "d8163edd-9877-4d91-ac36-17a858f7b545"
   },
   "outputs": [
    {
     "data": {
      "text/plain": [
       "Branch\n",
       "C    110568.7065\n",
       "A    106200.3705\n",
       "B    106197.6720\n",
       "Name: Total, dtype: float64"
      ]
     },
     "execution_count": 14,
     "metadata": {},
     "output_type": "execute_result"
    }
   ],
   "source": [
    "# Let's find which branch was most successful in terms of Total (revenue?) and Ratings\n",
    "df.groupby('Branch')['Total'].sum().sort_values(ascending=False)"
   ]
  },
  {
   "cell_type": "code",
   "execution_count": 15,
   "metadata": {
    "colab": {
     "base_uri": "https://localhost:8080/"
    },
    "id": "_LlUok7eaVZP",
    "outputId": "a526cf40-2b47-4b84-d731-9cea6a7aa77f"
   },
   "outputs": [
    {
     "data": {
      "text/plain": [
       "Branch\n",
       "C    7.072866\n",
       "A    7.027059\n",
       "B    6.818072\n",
       "Name: Rating, dtype: float64"
      ]
     },
     "execution_count": 15,
     "metadata": {},
     "output_type": "execute_result"
    }
   ],
   "source": [
    "df.groupby('Branch')['Rating'].mean().sort_values(ascending=False)"
   ]
  },
  {
   "cell_type": "code",
   "execution_count": 16,
   "metadata": {
    "colab": {
     "base_uri": "https://localhost:8080/"
    },
    "id": "UsPvBncrccG1",
    "outputId": "913baba2-0e0c-4dc4-8fcb-a9aeaf4c4d45"
   },
   "outputs": [
    {
     "data": {
      "text/plain": [
       "Branch\n",
       "C    7.048521\n",
       "A    6.998802\n",
       "B    6.770303\n",
       "Name: Rating, dtype: float64"
      ]
     },
     "execution_count": 16,
     "metadata": {},
     "output_type": "execute_result"
    }
   ],
   "source": [
    "# Which Branch gets the higher ratings from the Members\n",
    "member_rating = df[df.Customer_type == 'Member']\n",
    "member_rating.groupby('Branch')['Rating'].mean().sort_values(ascending=False)"
   ]
  },
  {
   "cell_type": "code",
   "execution_count": 17,
   "metadata": {
    "colab": {
     "base_uri": "https://localhost:8080/",
     "height": 279
    },
    "id": "i7VCFJpDcoCN",
    "outputId": "014043c7-8ed6-483f-880d-23735acdde61"
   },
   "outputs": [
    {
     "data": {
      "text/plain": [
       "<AxesSubplot:xlabel='Branch', ylabel='Total'>"
      ]
     },
     "execution_count": 17,
     "metadata": {},
     "output_type": "execute_result"
    },
    {
     "data": {
      "image/png": "[encoded data removed]",
      "text/plain": [
       "<Figure size 432x288 with 1 Axes>"
      ]
     },
     "metadata": {
      "needs_background": "light"
     },
     "output_type": "display_data"
    }
   ],
   "source": [
    "# average spend on each branch\n",
    "sns.barplot(x = 'Branch', y = 'Total', data = df);"
   ]
  },
  {
   "cell_type": "markdown",
   "metadata": {
    "id": "KGpzwbQkeVRh"
   },
   "source": [
    "From this graph, we can see that `Branch C` generate more average spend than `Branch A` and `Branch B`"
   ]
  },
  {
   "cell_type": "markdown",
   "metadata": {
    "id": "RzeTN0ZOI0sA"
   },
   "source": [
    "### City"
   ]
  },
  {
   "cell_type": "code",
   "execution_count": 18,
   "metadata": {
    "colab": {
     "base_uri": "https://localhost:8080/"
    },
    "id": "k2MAAZCrIFHL",
    "outputId": "5ad66bf3-e335-40c8-d4ea-9945840ec1b0"
   },
   "outputs": [
    {
     "data": {
      "text/plain": [
       "Yangon       340\n",
       "Mandalay     332\n",
       "Naypyitaw    328\n",
       "Name: City, dtype: int64"
      ]
     },
     "execution_count": 18,
     "metadata": {},
     "output_type": "execute_result"
    }
   ],
   "source": [
    "df['City'].value_counts()"
   ]
  },
  {
   "cell_type": "code",
   "execution_count": 105,
   "metadata": {
    "colab": {
     "base_uri": "https://localhost:8080/",
     "height": 542
    },
    "id": "S24R7dUaIppg",
    "outputId": "71e890fc-ab54-4340-f1c0-309b7e2c2baa"
   },
   "outputs": [
    {
     "data": {
      "application/vnd.plotly.v1+json": {
       "config": {
        "plotlyServerURL": "https://plot.ly"
       },
       "data": [
        {
         "alignmentgroup": "True",
         "hovertemplate": "City=%{x}<br>Count=%{y}<extra></extra>",
         "legendgroup": "",
         "marker": {
          "color": "#636efa"
         },
         "name": "",
         "offsetgroup": "",
         "orientation": "v",
         "showlegend": false,
         "textposition": "auto",
         "type": "bar",
         "x": [
          "Mandalay",
          "Naypyitaw",
          "Yangon"
         ],
         "xaxis": "x",
         "y": [
          332,
          328,
          340
         ],
         "yaxis": "y"
        }
       ],
       "layout": {
        "barmode": "relative",
        "legend": {
         "tracegroupgap": 0
        },
        "template": {
         "data": {
          "bar": [
           {
            "error_x": {
             "color": "#2a3f5f"
            },
            "error_y": {
             "color": "#2a3f5f"
            },
            "marker": {
             "line": {
              "color": "#E5ECF6",
              "width": 0.5
             }
            },
            "type": "bar"
           }
          ],
          "barpolar": [
           {
            "marker": {
             "line": {
              "color": "#E5ECF6",
              "width": 0.5
             }
            },
            "type": "barpolar"
           }
          ],
          "carpet": [
           {
            "aaxis": {
             "endlinecolor": "#2a3f5f",
             "gridcolor": "white",
             "linecolor": "white",
             "minorgridcolor": "white",
             "startlinecolor": "#2a3f5f"
            },
            "baxis": {
             "endlinecolor": "#2a3f5f",
             "gridcolor": "white",
             "linecolor": "white",
             "minorgridcolor": "white",
             "startlinecolor": "#2a3f5f"
            },
            "type": "carpet"
           }
          ],
          "choropleth": [
           {
            "colorbar": {
             "outlinewidth": 0,
             "ticks": ""
            },
            "type": "choropleth"
           }
          ],
          "contour": [
           {
            "colorbar": {
             "outlinewidth": 0,
             "ticks": ""
            },
            "colorscale": [
             [
              0,
              "#0d0887"
             ],
             [
              0.1111111111111111,
              "#46039f"
             ],
             [
              0.2222222222222222,
              "#7201a8"
             ],
             [
              0.3333333333333333,
              "#9c179e"
             ],
             [
              0.4444444444444444,
              "#bd3786"
             ],
             [
              0.5555555555555556,
              "#d8576b"
             ],
             [
              0.6666666666666666,
              "#ed7953"
             ],
             [
              0.7777777777777778,
              "#fb9f3a"
             ],
             [
              0.8888888888888888,
              "#fdca26"
             ],
             [
              1,
              "#f0f921"
             ]
            ],
            "type": "contour"
           }
          ],
          "contourcarpet": [
           {
            "colorbar": {
             "outlinewidth": 0,
             "ticks": ""
            },
            "type": "contourcarpet"
           }
          ],
          "heatmap": [
           {
            "colorbar": {
             "outlinewidth": 0,
             "ticks": ""
            },
            "colorscale": [
             [
              0,
              "#0d0887"
             ],
             [
              0.1111111111111111,
              "#46039f"
             ],
             [
              0.2222222222222222,
              "#7201a8"
             ],
             [
              0.3333333333333333,
              "#9c179e"
             ],
             [
              0.4444444444444444,
              "#bd3786"
             ],
             [
              0.5555555555555556,
              "#d8576b"
             ],
             [
              0.6666666666666666,
              "#ed7953"
             ],
             [
              0.7777777777777778,
              "#fb9f3a"
             ],
             [
              0.8888888888888888,
              "#fdca26"
             ],
             [
              1,
              "#f0f921"
             ]
            ],
            "type": "heatmap"
           }
          ],
          "heatmapgl": [
           {
            "colorbar": {
             "outlinewidth": 0,
             "ticks": ""
            },
            "colorscale": [
             [
              0,
              "#0d0887"
             ],
             [
              0.1111111111111111,
              "#46039f"
             ],
             [
              0.2222222222222222,
              "#7201a8"
             ],
             [
              0.3333333333333333,
              "#9c179e"
             ],
             [
              0.4444444444444444,
              "#bd3786"
             ],
             [
              0.5555555555555556,
              "#d8576b"
             ],
             [
              0.6666666666666666,
              "#ed7953"
             ],
             [
              0.7777777777777778,
              "#fb9f3a"
             ],
             [
              0.8888888888888888,
              "#fdca26"
             ],
             [
              1,
              "#f0f921"
             ]
            ],
            "type": "heatmapgl"
           }
          ],
          "histogram": [
           {
            "marker": {
             "colorbar": {
              "outlinewidth": 0,
              "ticks": ""
             }
            },
            "type": "histogram"
           }
          ],
          "histogram2d": [
           {
            "colorbar": {
             "outlinewidth": 0,
             "ticks": ""
            },
            "colorscale": [
             [
              0,
              "#0d0887"
             ],
             [
              0.1111111111111111,
              "#46039f"
             ],
             [
              0.2222222222222222,
              "#7201a8"
             ],
             [
              0.3333333333333333,
              "#9c179e"
             ],
             [
              0.4444444444444444,
              "#bd3786"
             ],
             [
              0.5555555555555556,
              "#d8576b"
             ],
             [
              0.6666666666666666,
              "#ed7953"
             ],
             [
              0.7777777777777778,
              "#fb9f3a"
             ],
             [
              0.8888888888888888,
              "#fdca26"
             ],
             [
              1,
              "#f0f921"
             ]
            ],
            "type": "histogram2d"
           }
          ],
          "histogram2dcontour": [
           {
            "colorbar": {
             "outlinewidth": 0,
             "ticks": ""
            },
            "colorscale": [
             [
              0,
              "#0d0887"
             ],
             [
              0.1111111111111111,
              "#46039f"
             ],
             [
              0.2222222222222222,
              "#7201a8"
             ],
             [
              0.3333333333333333,
              "#9c179e"
             ],
             [
              0.4444444444444444,
              "#bd3786"
             ],
             [
              0.5555555555555556,
              "#d8576b"
             ],
             [
              0.6666666666666666,
              "#ed7953"
             ],
             [
              0.7777777777777778,
              "#fb9f3a"
             ],
             [
              0.8888888888888888,
              "#fdca26"
             ],
             [
              1,
              "#f0f921"
             ]
            ],
            "type": "histogram2dcontour"
           }
          ],
          "mesh3d": [
           {
            "colorbar": {
             "outlinewidth": 0,
             "ticks": ""
            },
            "type": "mesh3d"
           }
          ],
          "parcoords": [
           {
            "line": {
             "colorbar": {
              "outlinewidth": 0,
              "ticks": ""
             }
            },
            "type": "parcoords"
           }
          ],
          "pie": [
           {
            "automargin": true,
            "type": "pie"
           }
          ],
          "scatter": [
           {
            "marker": {
             "colorbar": {
              "outlinewidth": 0,
              "ticks": ""
             }
            },
            "type": "scatter"
           }
          ],
          "scatter3d": [
           {
            "line": {
             "colorbar": {
              "outlinewidth": 0,
              "ticks": ""
             }
            },
            "marker": {
             "colorbar": {
              "outlinewidth": 0,
              "ticks": ""
             }
            },
            "type": "scatter3d"
           }
          ],
          "scattercarpet": [
           {
            "marker": {
             "colorbar": {
              "outlinewidth": 0,
              "ticks": ""
             }
            },
            "type": "scattercarpet"
           }
          ],
          "scattergeo": [
           {
            "marker": {
             "colorbar": {
              "outlinewidth": 0,
              "ticks": ""
             }
            },
            "type": "scattergeo"
           }
          ],
          "scattergl": [
           {
            "marker": {
             "colorbar": {
              "outlinewidth": 0,
              "ticks": ""
             }
            },
            "type": "scattergl"
           }
          ],
          "scattermapbox": [
           {
            "marker": {
             "colorbar": {
              "outlinewidth": 0,
              "ticks": ""
             }
            },
            "type": "scattermapbox"
           }
          ],
          "scatterpolar": [
           {
            "marker": {
             "colorbar": {
              "outlinewidth": 0,
              "ticks": ""
             }
            },
            "type": "scatterpolar"
           }
          ],
          "scatterpolargl": [
           {
            "marker": {
             "colorbar": {
              "outlinewidth": 0,
              "ticks": ""
             }
            },
            "type": "scatterpolargl"
           }
          ],
          "scatterternary": [
           {
            "marker": {
             "colorbar": {
              "outlinewidth": 0,
              "ticks": ""
             }
            },
            "type": "scatterternary"
           }
          ],
          "surface": [
           {
            "colorbar": {
             "outlinewidth": 0,
             "ticks": ""
            },
            "colorscale": [
             [
              0,
              "#0d0887"
             ],
             [
              0.1111111111111111,
              "#46039f"
             ],
             [
              0.2222222222222222,
              "#7201a8"
             ],
             [
              0.3333333333333333,
              "#9c179e"
             ],
             [
              0.4444444444444444,
              "#bd3786"
             ],
             [
              0.5555555555555556,
              "#d8576b"
             ],
             [
              0.6666666666666666,
              "#ed7953"
             ],
             [
              0.7777777777777778,
              "#fb9f3a"
             ],
             [
              0.8888888888888888,
              "#fdca26"
             ],
             [
              1,
              "#f0f921"
             ]
            ],
            "type": "surface"
           }
          ],
          "table": [
           {
            "cells": {
             "fill": {
              "color": "#EBF0F8"
             },
             "line": {
              "color": "white"
             }
            },
            "header": {
             "fill": {
              "color": "#C8D4E3"
             },
             "line": {
              "color": "white"
             }
            },
            "type": "table"
           }
          ]
         },
         "layout": {
          "annotationdefaults": {
           "arrowcolor": "#2a3f5f",
           "arrowhead": 0,
           "arrowwidth": 1
          },
          "coloraxis": {
           "colorbar": {
            "outlinewidth": 0,
            "ticks": ""
           }
          },
          "colorscale": {
           "diverging": [
            [
             0,
             "#8e0152"
            ],
            [
             0.1,
             "#c51b7d"
            ],
            [
             0.2,
             "#de77ae"
            ],
            [
             0.3,
             "#f1b6da"
            ],
            [
             0.4,
             "#fde0ef"
            ],
            [
             0.5,
             "#f7f7f7"
            ],
            [
             0.6,
             "#e6f5d0"
            ],
            [
             0.7,
             "#b8e186"
            ],
            [
             0.8,
             "#7fbc41"
            ],
            [
             0.9,
             "#4d9221"
            ],
            [
             1,
             "#276419"
            ]
           ],
           "sequential": [
            [
             0,
             "#0d0887"
            ],
            [
             0.1111111111111111,
             "#46039f"
            ],
            [
             0.2222222222222222,
             "#7201a8"
            ],
            [
             0.3333333333333333,
             "#9c179e"
            ],
            [
             0.4444444444444444,
             "#bd3786"
            ],
            [
             0.5555555555555556,
             "#d8576b"
            ],
            [
             0.6666666666666666,
             "#ed7953"
            ],
            [
             0.7777777777777778,
             "#fb9f3a"
            ],
            [
             0.8888888888888888,
             "#fdca26"
            ],
            [
             1,
             "#f0f921"
            ]
           ],
           "sequentialminus": [
            [
             0,
             "#0d0887"
            ],
            [
             0.1111111111111111,
             "#46039f"
            ],
            [
             0.2222222222222222,
             "#7201a8"
            ],
            [
             0.3333333333333333,
             "#9c179e"
            ],
            [
             0.4444444444444444,
             "#bd3786"
            ],
            [
             0.5555555555555556,
             "#d8576b"
            ],
            [
             0.6666666666666666,
             "#ed7953"
            ],
            [
             0.7777777777777778,
             "#fb9f3a"
            ],
            [
             0.8888888888888888,
             "#fdca26"
            ],
            [
             1,
             "#f0f921"
            ]
           ]
          },
          "colorway": [
           "#636efa",
           "#EF553B",
           "#00cc96",
           "#ab63fa",
           "#FFA15A",
           "#19d3f3",
           "#FF6692",
           "#B6E880",
           "#FF97FF",
           "#FECB52"
          ],
          "font": {
           "color": "#2a3f5f"
          },
          "geo": {
           "bgcolor": "white",
           "lakecolor": "white",
           "landcolor": "#E5ECF6",
           "showlakes": true,
           "showland": true,
           "subunitcolor": "white"
          },
          "hoverlabel": {
           "align": "left"
          },
          "hovermode": "closest",
          "mapbox": {
           "style": "light"
          },
          "paper_bgcolor": "white",
          "plot_bgcolor": "#E5ECF6",
          "polar": {
           "angularaxis": {
            "gridcolor": "white",
            "linecolor": "white",
            "ticks": ""
           },
           "bgcolor": "#E5ECF6",
           "radialaxis": {
            "gridcolor": "white",
            "linecolor": "white",
            "ticks": ""
           }
          },
          "scene": {
           "xaxis": {
            "backgroundcolor": "#E5ECF6",
            "gridcolor": "white",
            "gridwidth": 2,
            "linecolor": "white",
            "showbackground": true,
            "ticks": "",
            "zerolinecolor": "white"
           },
           "yaxis": {
            "backgroundcolor": "#E5ECF6",
            "gridcolor": "white",
            "gridwidth": 2,
            "linecolor": "white",
            "showbackground": true,
            "ticks": "",
            "zerolinecolor": "white"
           },
           "zaxis": {
            "backgroundcolor": "#E5ECF6",
            "gridcolor": "white",
            "gridwidth": 2,
            "linecolor": "white",
            "showbackground": true,
            "ticks": "",
            "zerolinecolor": "white"
           }
          },
          "shapedefaults": {
           "line": {
            "color": "#2a3f5f"
           }
          },
          "ternary": {
           "aaxis": {
            "gridcolor": "white",
            "linecolor": "white",
            "ticks": ""
           },
           "baxis": {
            "gridcolor": "white",
            "linecolor": "white",
            "ticks": ""
           },
           "bgcolor": "#E5ECF6",
           "caxis": {
            "gridcolor": "white",
            "linecolor": "white",
            "ticks": ""
           }
          },
          "title": {
           "x": 0.05
          },
          "xaxis": {
           "automargin": true,
           "gridcolor": "white",
           "linecolor": "white",
           "ticks": "",
           "title": {
            "standoff": 15
           },
           "zerolinecolor": "white",
           "zerolinewidth": 2
          },
          "yaxis": {
           "automargin": true,
           "gridcolor": "white",
           "linecolor": "white",
           "ticks": "",
           "title": {
            "standoff": 15
           },
           "zerolinecolor": "white",
           "zerolinewidth": 2
          }
         }
        },
        "title": {
         "text": " Sales per City"
        },
        "xaxis": {
         "anchor": "y",
         "domain": [
          0,
          1
         ],
         "title": {
          "text": "City"
         }
        },
        "yaxis": {
         "anchor": "x",
         "domain": [
          0,
          1
         ],
         "title": {
          "text": "Count"
         }
        }
       }
      },
      "text/html": [
       "<div>\n",
       "        \n",
       "        \n",
       "            <div id=\"fec7defc-0429-4bcd-9d3f-fffb599a3487\" class=\"plotly-graph-div\" style=\"height:525px; width:100%;\"></div>\n",
       "            <script type=\"text/javascript\">\n",
       "                require([\"plotly\"], function(Plotly) {\n",
       "                    window.PLOTLYENV=window.PLOTLYENV || {};\n",
       "                    \n",
       "                if (document.getElementById(\"fec7defc-0429-4bcd-9d3f-fffb599a3487\")) {\n",
       "                    Plotly.newPlot(\n",
       "                        'fec7defc-0429-4bcd-9d3f-fffb599a3487',\n",
       "                        [{\"alignmentgroup\": \"True\", \"hovertemplate\": \"City=%{x}<br>Count=%{y}<extra></extra>\", \"legendgroup\": \"\", \"marker\": {\"color\": \"#636efa\"}, \"name\": \"\", \"offsetgroup\": \"\", \"orientation\": \"v\", \"showlegend\": false, \"textposition\": \"auto\", \"type\": \"bar\", \"x\": [\"Mandalay\", \"Naypyitaw\", \"Yangon\"], \"xaxis\": \"x\", \"y\": [332, 328, 340], \"yaxis\": \"y\"}],\n",
       "                        {\"barmode\": \"relative\", \"legend\": {\"tracegroupgap\": 0}, \"template\": {\"data\": {\"bar\": [{\"error_x\": {\"color\": \"#2a3f5f\"}, \"error_y\": {\"color\": \"#2a3f5f\"}, \"marker\": {\"line\": {\"color\": \"#E5ECF6\", \"width\": 0.5}}, \"type\": \"bar\"}], \"barpolar\": [{\"marker\": {\"line\": {\"color\": \"#E5ECF6\", \"width\": 0.5}}, \"type\": \"barpolar\"}], \"carpet\": [{\"aaxis\": {\"endlinecolor\": \"#2a3f5f\", \"gridcolor\": \"white\", \"linecolor\": \"white\", \"minorgridcolor\": \"white\", \"startlinecolor\": \"#2a3f5f\"}, \"baxis\": {\"endlinecolor\": \"#2a3f5f\", \"gridcolor\": \"white\", \"linecolor\": \"white\", \"minorgridcolor\": \"white\", \"startlinecolor\": \"#2a3f5f\"}, \"type\": \"carpet\"}], \"choropleth\": [{\"colorbar\": {\"outlinewidth\": 0, \"ticks\": \"\"}, \"type\": \"choropleth\"}], \"contour\": [{\"colorbar\": {\"outlinewidth\": 0, \"ticks\": \"\"}, \"colorscale\": [[0.0, \"#0d0887\"], [0.1111111111111111, \"#46039f\"], [0.2222222222222222, \"#7201a8\"], [0.3333333333333333, \"#9c179e\"], [0.4444444444444444, \"#bd3786\"], [0.5555555555555556, \"#d8576b\"], [0.6666666666666666, \"#ed7953\"], [0.7777777777777778, \"#fb9f3a\"], [0.8888888888888888, \"#fdca26\"], [1.0, \"#f0f921\"]], \"type\": \"contour\"}], \"contourcarpet\": [{\"colorbar\": {\"outlinewidth\": 0, \"ticks\": \"\"}, \"type\": \"contourcarpet\"}], \"heatmap\": [{\"colorbar\": {\"outlinewidth\": 0, \"ticks\": \"\"}, \"colorscale\": [[0.0, \"#0d0887\"], [0.1111111111111111, \"#46039f\"], [0.2222222222222222, \"#7201a8\"], [0.3333333333333333, \"#9c179e\"], [0.4444444444444444, \"#bd3786\"], [0.5555555555555556, \"#d8576b\"], [0.6666666666666666, \"#ed7953\"], [0.7777777777777778, \"#fb9f3a\"], [0.8888888888888888, \"#fdca26\"], [1.0, \"#f0f921\"]], \"type\": \"heatmap\"}], \"heatmapgl\": [{\"colorbar\": {\"outlinewidth\": 0, \"ticks\": \"\"}, \"colorscale\": [[0.0, \"#0d0887\"], [0.1111111111111111, \"#46039f\"], [0.2222222222222222, \"#7201a8\"], [0.3333333333333333, \"#9c179e\"], [0.4444444444444444, \"#bd3786\"], [0.5555555555555556, \"#d8576b\"], [0.6666666666666666, \"#ed7953\"], [0.7777777777777778, \"#fb9f3a\"], [0.8888888888888888, \"#fdca26\"], [1.0, \"#f0f921\"]], \"type\": \"heatmapgl\"}], \"histogram\": [{\"marker\": {\"colorbar\": {\"outlinewidth\": 0, \"ticks\": \"\"}}, \"type\": \"histogram\"}], \"histogram2d\": [{\"colorbar\": {\"outlinewidth\": 0, \"ticks\": \"\"}, \"colorscale\": [[0.0, \"#0d0887\"], [0.1111111111111111, \"#46039f\"], [0.2222222222222222, \"#7201a8\"], [0.3333333333333333, \"#9c179e\"], [0.4444444444444444, \"#bd3786\"], [0.5555555555555556, \"#d8576b\"], [0.6666666666666666, \"#ed7953\"], [0.7777777777777778, \"#fb9f3a\"], [0.8888888888888888, \"#fdca26\"], [1.0, \"#f0f921\"]], \"type\": \"histogram2d\"}], \"histogram2dcontour\": [{\"colorbar\": {\"outlinewidth\": 0, \"ticks\": \"\"}, \"colorscale\": [[0.0, \"#0d0887\"], [0.1111111111111111, \"#46039f\"], [0.2222222222222222, \"#7201a8\"], [0.3333333333333333, \"#9c179e\"], [0.4444444444444444, \"#bd3786\"], [0.5555555555555556, \"#d8576b\"], [0.6666666666666666, \"#ed7953\"], [0.7777777777777778, \"#fb9f3a\"], [0.8888888888888888, \"#fdca26\"], [1.0, \"#f0f921\"]], \"type\": \"histogram2dcontour\"}], \"mesh3d\": [{\"colorbar\": {\"outlinewidth\": 0, \"ticks\": \"\"}, \"type\": \"mesh3d\"}], \"parcoords\": [{\"line\": {\"colorbar\": {\"outlinewidth\": 0, \"ticks\": \"\"}}, \"type\": \"parcoords\"}], \"pie\": [{\"automargin\": true, \"type\": \"pie\"}], \"scatter\": [{\"marker\": {\"colorbar\": {\"outlinewidth\": 0, \"ticks\": \"\"}}, \"type\": \"scatter\"}], \"scatter3d\": [{\"line\": {\"colorbar\": {\"outlinewidth\": 0, \"ticks\": \"\"}}, \"marker\": {\"colorbar\": {\"outlinewidth\": 0, \"ticks\": \"\"}}, \"type\": \"scatter3d\"}], \"scattercarpet\": [{\"marker\": {\"colorbar\": {\"outlinewidth\": 0, \"ticks\": \"\"}}, \"type\": \"scattercarpet\"}], \"scattergeo\": [{\"marker\": {\"colorbar\": {\"outlinewidth\": 0, \"ticks\": \"\"}}, \"type\": \"scattergeo\"}], \"scattergl\": [{\"marker\": {\"colorbar\": {\"outlinewidth\": 0, \"ticks\": \"\"}}, \"type\": \"scattergl\"}], \"scattermapbox\": [{\"marker\": {\"colorbar\": {\"outlinewidth\": 0, \"ticks\": \"\"}}, \"type\": \"scattermapbox\"}], \"scatterpolar\": [{\"marker\": {\"colorbar\": {\"outlinewidth\": 0, \"ticks\": \"\"}}, \"type\": \"scatterpolar\"}], \"scatterpolargl\": [{\"marker\": {\"colorbar\": {\"outlinewidth\": 0, \"ticks\": \"\"}}, \"type\": \"scatterpolargl\"}], \"scatterternary\": [{\"marker\": {\"colorbar\": {\"outlinewidth\": 0, \"ticks\": \"\"}}, \"type\": \"scatterternary\"}], \"surface\": [{\"colorbar\": {\"outlinewidth\": 0, \"ticks\": \"\"}, \"colorscale\": [[0.0, \"#0d0887\"], [0.1111111111111111, \"#46039f\"], [0.2222222222222222, \"#7201a8\"], [0.3333333333333333, \"#9c179e\"], [0.4444444444444444, \"#bd3786\"], [0.5555555555555556, \"#d8576b\"], [0.6666666666666666, \"#ed7953\"], [0.7777777777777778, \"#fb9f3a\"], [0.8888888888888888, \"#fdca26\"], [1.0, \"#f0f921\"]], \"type\": \"surface\"}], \"table\": [{\"cells\": {\"fill\": {\"color\": \"#EBF0F8\"}, \"line\": {\"color\": \"white\"}}, \"header\": {\"fill\": {\"color\": \"#C8D4E3\"}, \"line\": {\"color\": \"white\"}}, \"type\": \"table\"}]}, \"layout\": {\"annotationdefaults\": {\"arrowcolor\": \"#2a3f5f\", \"arrowhead\": 0, \"arrowwidth\": 1}, \"coloraxis\": {\"colorbar\": {\"outlinewidth\": 0, \"ticks\": \"\"}}, \"colorscale\": {\"diverging\": [[0, \"#8e0152\"], [0.1, \"#c51b7d\"], [0.2, \"#de77ae\"], [0.3, \"#f1b6da\"], [0.4, \"#fde0ef\"], [0.5, \"#f7f7f7\"], [0.6, \"#e6f5d0\"], [0.7, \"#b8e186\"], [0.8, \"#7fbc41\"], [0.9, \"#4d9221\"], [1, \"#276419\"]], \"sequential\": [[0.0, \"#0d0887\"], [0.1111111111111111, \"#46039f\"], [0.2222222222222222, \"#7201a8\"], [0.3333333333333333, \"#9c179e\"], [0.4444444444444444, \"#bd3786\"], [0.5555555555555556, \"#d8576b\"], [0.6666666666666666, \"#ed7953\"], [0.7777777777777778, \"#fb9f3a\"], [0.8888888888888888, \"#fdca26\"], [1.0, \"#f0f921\"]], \"sequentialminus\": [[0.0, \"#0d0887\"], [0.1111111111111111, \"#46039f\"], [0.2222222222222222, \"#7201a8\"], [0.3333333333333333, \"#9c179e\"], [0.4444444444444444, \"#bd3786\"], [0.5555555555555556, \"#d8576b\"], [0.6666666666666666, \"#ed7953\"], [0.7777777777777778, \"#fb9f3a\"], [0.8888888888888888, \"#fdca26\"], [1.0, \"#f0f921\"]]}, \"colorway\": [\"#636efa\", \"#EF553B\", \"#00cc96\", \"#ab63fa\", \"#FFA15A\", \"#19d3f3\", \"#FF6692\", \"#B6E880\", \"#FF97FF\", \"#FECB52\"], \"font\": {\"color\": \"#2a3f5f\"}, \"geo\": {\"bgcolor\": \"white\", \"lakecolor\": \"white\", \"landcolor\": \"#E5ECF6\", \"showlakes\": true, \"showland\": true, \"subunitcolor\": \"white\"}, \"hoverlabel\": {\"align\": \"left\"}, \"hovermode\": \"closest\", \"mapbox\": {\"style\": \"light\"}, \"paper_bgcolor\": \"white\", \"plot_bgcolor\": \"#E5ECF6\", \"polar\": {\"angularaxis\": {\"gridcolor\": \"white\", \"linecolor\": \"white\", \"ticks\": \"\"}, \"bgcolor\": \"#E5ECF6\", \"radialaxis\": {\"gridcolor\": \"white\", \"linecolor\": \"white\", \"ticks\": \"\"}}, \"scene\": {\"xaxis\": {\"backgroundcolor\": \"#E5ECF6\", \"gridcolor\": \"white\", \"gridwidth\": 2, \"linecolor\": \"white\", \"showbackground\": true, \"ticks\": \"\", \"zerolinecolor\": \"white\"}, \"yaxis\": {\"backgroundcolor\": \"#E5ECF6\", \"gridcolor\": \"white\", \"gridwidth\": 2, \"linecolor\": \"white\", \"showbackground\": true, \"ticks\": \"\", \"zerolinecolor\": \"white\"}, \"zaxis\": {\"backgroundcolor\": \"#E5ECF6\", \"gridcolor\": \"white\", \"gridwidth\": 2, \"linecolor\": \"white\", \"showbackground\": true, \"ticks\": \"\", \"zerolinecolor\": \"white\"}}, \"shapedefaults\": {\"line\": {\"color\": \"#2a3f5f\"}}, \"ternary\": {\"aaxis\": {\"gridcolor\": \"white\", \"linecolor\": \"white\", \"ticks\": \"\"}, \"baxis\": {\"gridcolor\": \"white\", \"linecolor\": \"white\", \"ticks\": \"\"}, \"bgcolor\": \"#E5ECF6\", \"caxis\": {\"gridcolor\": \"white\", \"linecolor\": \"white\", \"ticks\": \"\"}}, \"title\": {\"x\": 0.05}, \"xaxis\": {\"automargin\": true, \"gridcolor\": \"white\", \"linecolor\": \"white\", \"ticks\": \"\", \"title\": {\"standoff\": 15}, \"zerolinecolor\": \"white\", \"zerolinewidth\": 2}, \"yaxis\": {\"automargin\": true, \"gridcolor\": \"white\", \"linecolor\": \"white\", \"ticks\": \"\", \"title\": {\"standoff\": 15}, \"zerolinecolor\": \"white\", \"zerolinewidth\": 2}}}, \"title\": {\"text\": \" Sales per City\"}, \"xaxis\": {\"anchor\": \"y\", \"domain\": [0.0, 1.0], \"title\": {\"text\": \"City\"}}, \"yaxis\": {\"anchor\": \"x\", \"domain\": [0.0, 1.0], \"title\": {\"text\": \"Count\"}}},\n",
       "                        {\"responsive\": true}\n",
       "                    ).then(function(){\n",
       "                            \n",
       "var gd = document.getElementById('fec7defc-0429-4bcd-9d3f-fffb599a3487');\n",
       "var x = new MutationObserver(function (mutations, observer) {{\n",
       "        var display = window.getComputedStyle(gd).display;\n",
       "        if (!display || display === 'none') {{\n",
       "            console.log([gd, 'removed!']);\n",
       "            Plotly.purge(gd);\n",
       "            observer.disconnect();\n",
       "        }}\n",
       "}});\n",
       "\n",
       "// Listen for the removal of the full notebook cells\n",
       "var notebookContainer = gd.closest('#notebook-container');\n",
       "if (notebookContainer) {{\n",
       "    x.observe(notebookContainer, {childList: true});\n",
       "}}\n",
       "\n",
       "// Listen for the clearing of the current output cell\n",
       "var outputEl = gd.closest('.output');\n",
       "if (outputEl) {{\n",
       "    x.observe(outputEl, {childList: true});\n",
       "}}\n",
       "\n",
       "                        })\n",
       "                };\n",
       "                });\n",
       "            </script>\n",
       "        </div>"
      ]
     },
     "metadata": {},
     "output_type": "display_data"
    },
    {
     "data": {
      "text/plain": [
       "<Figure size 432x288 with 0 Axes>"
      ]
     },
     "metadata": {},
     "output_type": "display_data"
    }
   ],
   "source": [
    "# Calculating the supermarket gross income based on the city it's in\n",
    "avgyearlysales = df.groupby('City')['gross_income'].count().to_dict()\n",
    "df_yearsales = pd.DataFrame(list(avgyearlysales.items()), \n",
    "                            columns = ['City','Count'])\n",
    "\n",
    "fig = px.bar(df_yearsales, \n",
    "             x ='City', \n",
    "             y ='Count', \n",
    "             title =' Sales per City')\n",
    "plt.savefig('citygrossincome.jpg')\n",
    "fig.show();"
   ]
  },
  {
   "cell_type": "markdown",
   "metadata": {
    "id": "fm1p6GuhJfFp"
   },
   "source": [
    "The supermarket in Yangon city had the highest gross income followed by the one in Mandalay city and Naypytaw city respectively."
   ]
  },
  {
   "cell_type": "code",
   "execution_count": 20,
   "metadata": {
    "colab": {
     "base_uri": "https://localhost:8080/"
    },
    "id": "JdPu4DMFV-57",
    "outputId": "74808ac8-0aef-465c-cc0e-3d3d811c9796"
   },
   "outputs": [
    {
     "data": {
      "text/plain": [
       "City       Payment    \n",
       "Naypyitaw  Credit card     98\n",
       "Yangon     Credit card    104\n",
       "Naypyitaw  Ewallet        106\n",
       "Mandalay   Credit card    109\n",
       "           Cash           110\n",
       "Yangon     Cash           110\n",
       "Mandalay   Ewallet        113\n",
       "Naypyitaw  Cash           124\n",
       "Yangon     Ewallet        126\n",
       "dtype: int64"
      ]
     },
     "execution_count": 20,
     "metadata": {},
     "output_type": "execute_result"
    }
   ],
   "source": [
    "df[['City', 'Payment']].value_counts(ascending=True)"
   ]
  },
  {
   "cell_type": "code",
   "execution_count": 106,
   "metadata": {
    "colab": {
     "base_uri": "https://localhost:8080/",
     "height": 334
    },
    "id": "NKCVnlEXWP9l",
    "outputId": "8e9f97be-1d83-4d74-9eec-8e43eaa48fa6"
   },
   "outputs": [
    {
     "data": {
      "image/png": "[encoded data removed]",
      "text/plain": [
       "<Figure size 576x360 with 1 Axes>"
      ]
     },
     "metadata": {
      "needs_background": "light"
     },
     "output_type": "display_data"
    }
   ],
   "source": [
    "plt.figure(figsize = (8,5))\n",
    "sns.countplot(data= df, x=\"City\", hue=\"Payment\", saturation=True);"
   ]
  },
  {
   "cell_type": "markdown",
   "metadata": {
    "id": "JWLel4FbWguS"
   },
   "source": [
    "When it comes to prefered method of payment across the 3 supermarket branches ,the branch in the largest city being Yangon as well as the second largest Mandalay city, we noticed that Ewallet is the most prefered payment time while cash is the most prefered payment time in the the less populated city of Napyitaw.\n",
    "\n",
    "Credit card use is mostly used in Mandalay compared to the other braches but comes in third after Ewallet and Cash respectively."
   ]
  },
  {
   "cell_type": "markdown",
   "metadata": {
    "id": "aiHzo-lDJ2pg"
   },
   "source": [
    "### Customer Type"
   ]
  },
  {
   "cell_type": "code",
   "execution_count": 22,
   "metadata": {
    "colab": {
     "base_uri": "https://localhost:8080/"
    },
    "id": "ZJVoFWCeJPPT",
    "outputId": "a8b85a90-297a-4ff4-b14b-20fb005d2f83"
   },
   "outputs": [
    {
     "data": {
      "text/plain": [
       "Member    501\n",
       "Normal    499\n",
       "Name: Customer_type, dtype: int64"
      ]
     },
     "execution_count": 22,
     "metadata": {},
     "output_type": "execute_result"
    }
   ],
   "source": [
    "df['Customer_type'].value_counts()"
   ]
  },
  {
   "cell_type": "code",
   "execution_count": 109,
   "metadata": {
    "colab": {
     "base_uri": "https://localhost:8080/",
     "height": 369
    },
    "id": "dBAh4VOOJlpo",
    "outputId": "041dad5b-9d0e-4935-ed82-8ddb3d2690e8"
   },
   "outputs": [
    {
     "data": {
      "image/png": "[encoded data removed]",
      "text/plain": [
       "<Figure size 1080x360 with 3 Axes>"
      ]
     },
     "metadata": {
      "needs_background": "light"
     },
     "output_type": "display_data"
    }
   ],
   "source": [
    "# Distribution of payment preference on Customer type\n",
    "sns.catplot(x='Customer_type', y='gross_income', col='Payment', data = df)\n",
    "plt.show()"
   ]
  },
  {
   "cell_type": "code",
   "execution_count": 24,
   "metadata": {
    "colab": {
     "base_uri": "https://localhost:8080/"
    },
    "id": "EnuJcg5fKamQ",
    "outputId": "9899f394-ff36-418f-d3c3-241070b6b85a"
   },
   "outputs": [
    {
     "data": {
      "text/plain": [
       "Gender  Customer_type\n",
       "Female  Member           261\n",
       "        Normal           240\n",
       "Male    Normal           259\n",
       "        Member           240\n",
       "Name: Customer_type, dtype: int64"
      ]
     },
     "execution_count": 24,
     "metadata": {},
     "output_type": "execute_result"
    }
   ],
   "source": [
    "#Comparing the supermarket customer type based on their gender \n",
    "df.groupby('Gender')['Customer_type'].value_counts()"
   ]
  },
  {
   "cell_type": "code",
   "execution_count": 25,
   "metadata": {
    "colab": {
     "base_uri": "https://localhost:8080/",
     "height": 369
    },
    "id": "QNlVNSZ4SS8q",
    "outputId": "868e53eb-bab7-48f2-fa16-ee3fd3050e33"
   },
   "outputs": [
    {
     "data": {
      "image/png": "[encoded data removed]",
      "text/plain": [
       "<Figure size 443.375x360 with 1 Axes>"
      ]
     },
     "metadata": {
      "needs_background": "light"
     },
     "output_type": "display_data"
    }
   ],
   "source": [
    "sns.catplot(data=df, x='Gender', kind='count', hue='Customer_type');"
   ]
  },
  {
   "cell_type": "markdown",
   "metadata": {
    "id": "cnpXpTbzSpMw"
   },
   "source": [
    "Most of the female customers are members at 261 compared to male customers at 240,while most of the males are of normal customer type 259 with female normal customers at 240."
   ]
  },
  {
   "cell_type": "code",
   "execution_count": 26,
   "metadata": {
    "colab": {
     "base_uri": "https://localhost:8080/"
    },
    "id": "QO23trsFSku5",
    "outputId": "ac1a17e5-a99e-4476-8fc2-6aa4585e08c4"
   },
   "outputs": [
    {
     "data": {
      "text/plain": [
       "Branch  Customer_type\n",
       "A       Normal           173\n",
       "        Member           167\n",
       "B       Normal           167\n",
       "        Member           165\n",
       "C       Member           169\n",
       "        Normal           159\n",
       "Name: Customer_type, dtype: int64"
      ]
     },
     "execution_count": 26,
     "metadata": {},
     "output_type": "execute_result"
    }
   ],
   "source": [
    "df.groupby('Branch')['Customer_type'].value_counts()"
   ]
  },
  {
   "cell_type": "markdown",
   "metadata": {
    "id": "SBAOHGFDT1pD"
   },
   "source": [
    "When comparing the customer type with their branch we find out that supermarkets in branch A and B have the highest customer number who are normal while branch C has the highest in member customer type.\n",
    "\n",
    "From our catplot above we found out that a majority of male customers were of normal customer type while the female were of member this plays out here where in branches A and B have the most male customers which relates to the overal customer type count."
   ]
  },
  {
   "cell_type": "markdown",
   "metadata": {
    "id": "B6JfX-wbetUP"
   },
   "source": [
    "### Gender"
   ]
  },
  {
   "cell_type": "code",
   "execution_count": 27,
   "metadata": {
    "colab": {
     "base_uri": "https://localhost:8080/"
    },
    "id": "Jz9mh6aadkfL",
    "outputId": "4f8b5e8a-d83e-4eba-9820-3f4d4faad65f"
   },
   "outputs": [
    {
     "data": {
      "text/plain": [
       "Female    501\n",
       "Male      499\n",
       "Name: Gender, dtype: int64"
      ]
     },
     "execution_count": 27,
     "metadata": {},
     "output_type": "execute_result"
    }
   ],
   "source": [
    "df['Gender'].value_counts()"
   ]
  },
  {
   "cell_type": "markdown",
   "metadata": {
    "id": "UHDS5jnEErVY"
   },
   "source": [
    "Evenly distributed"
   ]
  },
  {
   "cell_type": "code",
   "execution_count": 28,
   "metadata": {
    "colab": {
     "base_uri": "https://localhost:8080/"
    },
    "id": "yHnUUyeVT74I",
    "outputId": "665d715a-0e23-4d84-c2f7-c53f091abdcf"
   },
   "outputs": [
    {
     "data": {
      "text/plain": [
       "Branch  Gender\n",
       "A       Male      179\n",
       "        Female    161\n",
       "B       Male      170\n",
       "        Female    162\n",
       "C       Female    178\n",
       "        Male      150\n",
       "Name: Gender, dtype: int64"
      ]
     },
     "execution_count": 28,
     "metadata": {},
     "output_type": "execute_result"
    }
   ],
   "source": [
    "df.groupby('Branch')['Gender'].value_counts()"
   ]
  },
  {
   "cell_type": "code",
   "execution_count": 29,
   "metadata": {
    "colab": {
     "base_uri": "https://localhost:8080/",
     "height": 334
    },
    "id": "KxPJYspKUOQc",
    "outputId": "f7c12916-04fd-4dba-cb0d-fae092382c2d"
   },
   "outputs": [
    {
     "data": {
      "image/png": "[encoded data removed]",
      "text/plain": [
       "<Figure size 576x360 with 1 Axes>"
      ]
     },
     "metadata": {
      "needs_background": "light"
     },
     "output_type": "display_data"
    }
   ],
   "source": [
    "plt.figure(figsize=(8,5))\n",
    "sns.countplot(data=df, x=\"Gender\", hue=\"Branch\", saturation=True);"
   ]
  },
  {
   "cell_type": "markdown",
   "metadata": {
    "id": "so7KSDPrUffp"
   },
   "source": [
    "The number of female customers are mostly found in branch C while for the male customers a majority of them are found in branch A followed by brach B then branch C."
   ]
  },
  {
   "cell_type": "code",
   "execution_count": 30,
   "metadata": {
    "colab": {
     "base_uri": "https://localhost:8080/"
    },
    "id": "_uXIKi0GW-vh",
    "outputId": "0fbff049-8e92-467b-87ed-aa35c8147c16"
   },
   "outputs": [
    {
     "data": {
      "text/plain": [
       "Gender  Product_line          \n",
       "Female  Fashion accessories       96\n",
       "        Food and beverages        90\n",
       "        Sports and travel         88\n",
       "        Electronic accessories    84\n",
       "        Home and lifestyle        79\n",
       "        Health and beauty         64\n",
       "Male    Health and beauty         88\n",
       "        Electronic accessories    86\n",
       "        Food and beverages        84\n",
       "        Fashion accessories       82\n",
       "        Home and lifestyle        81\n",
       "        Sports and travel         78\n",
       "Name: Product_line, dtype: int64"
      ]
     },
     "execution_count": 30,
     "metadata": {},
     "output_type": "execute_result"
    }
   ],
   "source": [
    "df.groupby('Gender')['Product_line'].value_counts()"
   ]
  },
  {
   "cell_type": "markdown",
   "metadata": {
    "id": "w5KdXbc8XQRA"
   },
   "source": [
    "We find out that female customers have the most purchases in product lines of (Fashion accessories,Food and beverage,sports and travel). While the male customers have most purchases in Health and beauty, Electronic accessories with slight purchase difference in Home and lifestyle,electronic accessories."
   ]
  },
  {
   "cell_type": "markdown",
   "metadata": {
    "id": "GFefmeSAGrAv"
   },
   "source": [
    "### Product line"
   ]
  },
  {
   "cell_type": "code",
   "execution_count": 31,
   "metadata": {
    "colab": {
     "base_uri": "https://localhost:8080/"
    },
    "id": "3hPrd1_YGJsj",
    "outputId": "a0bcb5d7-c529-4391-a0e1-7e9a03dd95c5"
   },
   "outputs": [
    {
     "data": {
      "text/plain": [
       "Fashion accessories       178\n",
       "Food and beverages        174\n",
       "Electronic accessories    170\n",
       "Sports and travel         166\n",
       "Home and lifestyle        160\n",
       "Health and beauty         152\n",
       "Name: Product_line, dtype: int64"
      ]
     },
     "execution_count": 31,
     "metadata": {},
     "output_type": "execute_result"
    }
   ],
   "source": [
    "df['Product_line'].value_counts()"
   ]
  },
  {
   "cell_type": "code",
   "execution_count": 115,
   "metadata": {
    "colab": {
     "base_uri": "https://localhost:8080/",
     "height": 542
    },
    "id": "88_qY2xbG0T2",
    "outputId": "ef1d7587-4d59-4615-e797-60ffcfb81b30"
   },
   "outputs": [
    {
     "data": {
      "application/vnd.plotly.v1+json": {
       "config": {
        "plotlyServerURL": "https://plot.ly"
       },
       "data": [
        {
         "alignmentgroup": "True",
         "hovertemplate": "Product_line=%{x}<br>Count=%{y}<extra></extra>",
         "legendgroup": "",
         "marker": {
          "color": "#636efa"
         },
         "name": "",
         "offsetgroup": "",
         "orientation": "v",
         "showlegend": false,
         "textposition": "auto",
         "type": "bar",
         "x": [
          "Electronic accessories",
          "Fashion accessories",
          "Food and beverages",
          "Health and beauty",
          "Home and lifestyle",
          "Sports and travel"
         ],
         "xaxis": "x",
         "y": [
          170,
          178,
          174,
          152,
          160,
          166
         ],
         "yaxis": "y"
        }
       ],
       "layout": {
        "barmode": "relative",
        "legend": {
         "tracegroupgap": 0
        },
        "template": {
         "data": {
          "bar": [
           {
            "error_x": {
             "color": "#2a3f5f"
            },
            "error_y": {
             "color": "#2a3f5f"
            },
            "marker": {
             "line": {
              "color": "#E5ECF6",
              "width": 0.5
             }
            },
            "type": "bar"
           }
          ],
          "barpolar": [
           {
            "marker": {
             "line": {
              "color": "#E5ECF6",
              "width": 0.5
             }
            },
            "type": "barpolar"
           }
          ],
          "carpet": [
           {
            "aaxis": {
             "endlinecolor": "#2a3f5f",
             "gridcolor": "white",
             "linecolor": "white",
             "minorgridcolor": "white",
             "startlinecolor": "#2a3f5f"
            },
            "baxis": {
             "endlinecolor": "#2a3f5f",
             "gridcolor": "white",
             "linecolor": "white",
             "minorgridcolor": "white",
             "startlinecolor": "#2a3f5f"
            },
            "type": "carpet"
           }
          ],
          "choropleth": [
           {
            "colorbar": {
             "outlinewidth": 0,
             "ticks": ""
            },
            "type": "choropleth"
           }
          ],
          "contour": [
           {
            "colorbar": {
             "outlinewidth": 0,
             "ticks": ""
            },
            "colorscale": [
             [
              0,
              "#0d0887"
             ],
             [
              0.1111111111111111,
              "#46039f"
             ],
             [
              0.2222222222222222,
              "#7201a8"
             ],
             [
              0.3333333333333333,
              "#9c179e"
             ],
             [
              0.4444444444444444,
              "#bd3786"
             ],
             [
              0.5555555555555556,
              "#d8576b"
             ],
             [
              0.6666666666666666,
              "#ed7953"
             ],
             [
              0.7777777777777778,
              "#fb9f3a"
             ],
             [
              0.8888888888888888,
              "#fdca26"
             ],
             [
              1,
              "#f0f921"
             ]
            ],
            "type": "contour"
           }
          ],
          "contourcarpet": [
           {
            "colorbar": {
             "outlinewidth": 0,
             "ticks": ""
            },
            "type": "contourcarpet"
           }
          ],
          "heatmap": [
           {
            "colorbar": {
             "outlinewidth": 0,
             "ticks": ""
            },
            "colorscale": [
             [
              0,
              "#0d0887"
             ],
             [
              0.1111111111111111,
              "#46039f"
             ],
             [
              0.2222222222222222,
              "#7201a8"
             ],
             [
              0.3333333333333333,
              "#9c179e"
             ],
             [
              0.4444444444444444,
              "#bd3786"
             ],
             [
              0.5555555555555556,
              "#d8576b"
             ],
             [
              0.6666666666666666,
              "#ed7953"
             ],
             [
              0.7777777777777778,
              "#fb9f3a"
             ],
             [
              0.8888888888888888,
              "#fdca26"
             ],
             [
              1,
              "#f0f921"
             ]
            ],
            "type": "heatmap"
           }
          ],
          "heatmapgl": [
           {
            "colorbar": {
             "outlinewidth": 0,
             "ticks": ""
            },
            "colorscale": [
             [
              0,
              "#0d0887"
             ],
             [
              0.1111111111111111,
              "#46039f"
             ],
             [
              0.2222222222222222,
              "#7201a8"
             ],
             [
              0.3333333333333333,
              "#9c179e"
             ],
             [
              0.4444444444444444,
              "#bd3786"
             ],
             [
              0.5555555555555556,
              "#d8576b"
             ],
             [
              0.6666666666666666,
              "#ed7953"
             ],
             [
              0.7777777777777778,
              "#fb9f3a"
             ],
             [
              0.8888888888888888,
              "#fdca26"
             ],
             [
              1,
              "#f0f921"
             ]
            ],
            "type": "heatmapgl"
           }
          ],
          "histogram": [
           {
            "marker": {
             "colorbar": {
              "outlinewidth": 0,
              "ticks": ""
             }
            },
            "type": "histogram"
           }
          ],
          "histogram2d": [
           {
            "colorbar": {
             "outlinewidth": 0,
             "ticks": ""
            },
            "colorscale": [
             [
              0,
              "#0d0887"
             ],
             [
              0.1111111111111111,
              "#46039f"
             ],
             [
              0.2222222222222222,
              "#7201a8"
             ],
             [
              0.3333333333333333,
              "#9c179e"
             ],
             [
              0.4444444444444444,
              "#bd3786"
             ],
             [
              0.5555555555555556,
              "#d8576b"
             ],
             [
              0.6666666666666666,
              "#ed7953"
             ],
             [
              0.7777777777777778,
              "#fb9f3a"
             ],
             [
              0.8888888888888888,
              "#fdca26"
             ],
             [
              1,
              "#f0f921"
             ]
            ],
            "type": "histogram2d"
           }
          ],
          "histogram2dcontour": [
           {
            "colorbar": {
             "outlinewidth": 0,
             "ticks": ""
            },
            "colorscale": [
             [
              0,
              "#0d0887"
             ],
             [
              0.1111111111111111,
              "#46039f"
             ],
             [
              0.2222222222222222,
              "#7201a8"
             ],
             [
              0.3333333333333333,
              "#9c179e"
             ],
             [
              0.4444444444444444,
              "#bd3786"
             ],
             [
              0.5555555555555556,
              "#d8576b"
             ],
             [
              0.6666666666666666,
              "#ed7953"
             ],
             [
              0.7777777777777778,
              "#fb9f3a"
             ],
             [
              0.8888888888888888,
              "#fdca26"
             ],
             [
              1,
              "#f0f921"
             ]
            ],
            "type": "histogram2dcontour"
           }
          ],
          "mesh3d": [
           {
            "colorbar": {
             "outlinewidth": 0,
             "ticks": ""
            },
            "type": "mesh3d"
           }
          ],
          "parcoords": [
           {
            "line": {
             "colorbar": {
              "outlinewidth": 0,
              "ticks": ""
             }
            },
            "type": "parcoords"
           }
          ],
          "pie": [
           {
            "automargin": true,
            "type": "pie"
           }
          ],
          "scatter": [
           {
            "marker": {
             "colorbar": {
              "outlinewidth": 0,
              "ticks": ""
             }
            },
            "type": "scatter"
           }
          ],
          "scatter3d": [
           {
            "line": {
             "colorbar": {
              "outlinewidth": 0,
              "ticks": ""
             }
            },
            "marker": {
             "colorbar": {
              "outlinewidth": 0,
              "ticks": ""
             }
            },
            "type": "scatter3d"
           }
          ],
          "scattercarpet": [
           {
            "marker": {
             "colorbar": {
              "outlinewidth": 0,
              "ticks": ""
             }
            },
            "type": "scattercarpet"
           }
          ],
          "scattergeo": [
           {
            "marker": {
             "colorbar": {
              "outlinewidth": 0,
              "ticks": ""
             }
            },
            "type": "scattergeo"
           }
          ],
          "scattergl": [
           {
            "marker": {
             "colorbar": {
              "outlinewidth": 0,
              "ticks": ""
             }
            },
            "type": "scattergl"
           }
          ],
          "scattermapbox": [
           {
            "marker": {
             "colorbar": {
              "outlinewidth": 0,
              "ticks": ""
             }
            },
            "type": "scattermapbox"
           }
          ],
          "scatterpolar": [
           {
            "marker": {
             "colorbar": {
              "outlinewidth": 0,
              "ticks": ""
             }
            },
            "type": "scatterpolar"
           }
          ],
          "scatterpolargl": [
           {
            "marker": {
             "colorbar": {
              "outlinewidth": 0,
              "ticks": ""
             }
            },
            "type": "scatterpolargl"
           }
          ],
          "scatterternary": [
           {
            "marker": {
             "colorbar": {
              "outlinewidth": 0,
              "ticks": ""
             }
            },
            "type": "scatterternary"
           }
          ],
          "surface": [
           {
            "colorbar": {
             "outlinewidth": 0,
             "ticks": ""
            },
            "colorscale": [
             [
              0,
              "#0d0887"
             ],
             [
              0.1111111111111111,
              "#46039f"
             ],
             [
              0.2222222222222222,
              "#7201a8"
             ],
             [
              0.3333333333333333,
              "#9c179e"
             ],
             [
              0.4444444444444444,
              "#bd3786"
             ],
             [
              0.5555555555555556,
              "#d8576b"
             ],
             [
              0.6666666666666666,
              "#ed7953"
             ],
             [
              0.7777777777777778,
              "#fb9f3a"
             ],
             [
              0.8888888888888888,
              "#fdca26"
             ],
             [
              1,
              "#f0f921"
             ]
            ],
            "type": "surface"
           }
          ],
          "table": [
           {
            "cells": {
             "fill": {
              "color": "#EBF0F8"
             },
             "line": {
              "color": "white"
             }
            },
            "header": {
             "fill": {
              "color": "#C8D4E3"
             },
             "line": {
              "color": "white"
             }
            },
            "type": "table"
           }
          ]
         },
         "layout": {
          "annotationdefaults": {
           "arrowcolor": "#2a3f5f",
           "arrowhead": 0,
           "arrowwidth": 1
          },
          "coloraxis": {
           "colorbar": {
            "outlinewidth": 0,
            "ticks": ""
           }
          },
          "colorscale": {
           "diverging": [
            [
             0,
             "#8e0152"
            ],
            [
             0.1,
             "#c51b7d"
            ],
            [
             0.2,
             "#de77ae"
            ],
            [
             0.3,
             "#f1b6da"
            ],
            [
             0.4,
             "#fde0ef"
            ],
            [
             0.5,
             "#f7f7f7"
            ],
            [
             0.6,
             "#e6f5d0"
            ],
            [
             0.7,
             "#b8e186"
            ],
            [
             0.8,
             "#7fbc41"
            ],
            [
             0.9,
             "#4d9221"
            ],
            [
             1,
             "#276419"
            ]
           ],
           "sequential": [
            [
             0,
             "#0d0887"
            ],
            [
             0.1111111111111111,
             "#46039f"
            ],
            [
             0.2222222222222222,
             "#7201a8"
            ],
            [
             0.3333333333333333,
             "#9c179e"
            ],
            [
             0.4444444444444444,
             "#bd3786"
            ],
            [
             0.5555555555555556,
             "#d8576b"
            ],
            [
             0.6666666666666666,
             "#ed7953"
            ],
            [
             0.7777777777777778,
             "#fb9f3a"
            ],
            [
             0.8888888888888888,
             "#fdca26"
            ],
            [
             1,
             "#f0f921"
            ]
           ],
           "sequentialminus": [
            [
             0,
             "#0d0887"
            ],
            [
             0.1111111111111111,
             "#46039f"
            ],
            [
             0.2222222222222222,
             "#7201a8"
            ],
            [
             0.3333333333333333,
             "#9c179e"
            ],
            [
             0.4444444444444444,
             "#bd3786"
            ],
            [
             0.5555555555555556,
             "#d8576b"
            ],
            [
             0.6666666666666666,
             "#ed7953"
            ],
            [
             0.7777777777777778,
             "#fb9f3a"
            ],
            [
             0.8888888888888888,
             "#fdca26"
            ],
            [
             1,
             "#f0f921"
            ]
           ]
          },
          "colorway": [
           "#636efa",
           "#EF553B",
           "#00cc96",
           "#ab63fa",
           "#FFA15A",
           "#19d3f3",
           "#FF6692",
           "#B6E880",
           "#FF97FF",
           "#FECB52"
          ],
          "font": {
           "color": "#2a3f5f"
          },
          "geo": {
           "bgcolor": "white",
           "lakecolor": "white",
           "landcolor": "#E5ECF6",
           "showlakes": true,
           "showland": true,
           "subunitcolor": "white"
          },
          "hoverlabel": {
           "align": "left"
          },
          "hovermode": "closest",
          "mapbox": {
           "style": "light"
          },
          "paper_bgcolor": "white",
          "plot_bgcolor": "#E5ECF6",
          "polar": {
           "angularaxis": {
            "gridcolor": "white",
            "linecolor": "white",
            "ticks": ""
           },
           "bgcolor": "#E5ECF6",
           "radialaxis": {
            "gridcolor": "white",
            "linecolor": "white",
            "ticks": ""
           }
          },
          "scene": {
           "xaxis": {
            "backgroundcolor": "#E5ECF6",
            "gridcolor": "white",
            "gridwidth": 2,
            "linecolor": "white",
            "showbackground": true,
            "ticks": "",
            "zerolinecolor": "white"
           },
           "yaxis": {
            "backgroundcolor": "#E5ECF6",
            "gridcolor": "white",
            "gridwidth": 2,
            "linecolor": "white",
            "showbackground": true,
            "ticks": "",
            "zerolinecolor": "white"
           },
           "zaxis": {
            "backgroundcolor": "#E5ECF6",
            "gridcolor": "white",
            "gridwidth": 2,
            "linecolor": "white",
            "showbackground": true,
            "ticks": "",
            "zerolinecolor": "white"
           }
          },
          "shapedefaults": {
           "line": {
            "color": "#2a3f5f"
           }
          },
          "ternary": {
           "aaxis": {
            "gridcolor": "white",
            "linecolor": "white",
            "ticks": ""
           },
           "baxis": {
            "gridcolor": "white",
            "linecolor": "white",
            "ticks": ""
           },
           "bgcolor": "#E5ECF6",
           "caxis": {
            "gridcolor": "white",
            "linecolor": "white",
            "ticks": ""
           }
          },
          "title": {
           "x": 0.05
          },
          "xaxis": {
           "automargin": true,
           "gridcolor": "white",
           "linecolor": "white",
           "ticks": "",
           "title": {
            "standoff": 15
           },
           "zerolinecolor": "white",
           "zerolinewidth": 2
          },
          "yaxis": {
           "automargin": true,
           "gridcolor": "white",
           "linecolor": "white",
           "ticks": "",
           "title": {
            "standoff": 15
           },
           "zerolinecolor": "white",
           "zerolinewidth": 2
          }
         }
        },
        "title": {
         "text": "Sales per Product"
        },
        "xaxis": {
         "anchor": "y",
         "domain": [
          0,
          1
         ],
         "title": {
          "text": "Product_line"
         }
        },
        "yaxis": {
         "anchor": "x",
         "domain": [
          0,
          1
         ],
         "title": {
          "text": "Count"
         }
        }
       }
      },
      "text/html": [
       "<div>\n",
       "        \n",
       "        \n",
       "            <div id=\"3046963d-2bfc-4f96-a9c1-6929f2c0b30b\" class=\"plotly-graph-div\" style=\"height:525px; width:100%;\"></div>\n",
       "            <script type=\"text/javascript\">\n",
       "                require([\"plotly\"], function(Plotly) {\n",
       "                    window.PLOTLYENV=window.PLOTLYENV || {};\n",
       "                    \n",
       "                if (document.getElementById(\"3046963d-2bfc-4f96-a9c1-6929f2c0b30b\")) {\n",
       "                    Plotly.newPlot(\n",
       "                        '3046963d-2bfc-4f96-a9c1-6929f2c0b30b',\n",
       "                        [{\"alignmentgroup\": \"True\", \"hovertemplate\": \"Product_line=%{x}<br>Count=%{y}<extra></extra>\", \"legendgroup\": \"\", \"marker\": {\"color\": \"#636efa\"}, \"name\": \"\", \"offsetgroup\": \"\", \"orientation\": \"v\", \"showlegend\": false, \"textposition\": \"auto\", \"type\": \"bar\", \"x\": [\"Electronic accessories\", \"Fashion accessories\", \"Food and beverages\", \"Health and beauty\", \"Home and lifestyle\", \"Sports and travel\"], \"xaxis\": \"x\", \"y\": [170, 178, 174, 152, 160, 166], \"yaxis\": \"y\"}],\n",
       "                        {\"barmode\": \"relative\", \"legend\": {\"tracegroupgap\": 0}, \"template\": {\"data\": {\"bar\": [{\"error_x\": {\"color\": \"#2a3f5f\"}, \"error_y\": {\"color\": \"#2a3f5f\"}, \"marker\": {\"line\": {\"color\": \"#E5ECF6\", \"width\": 0.5}}, \"type\": \"bar\"}], \"barpolar\": [{\"marker\": {\"line\": {\"color\": \"#E5ECF6\", \"width\": 0.5}}, \"type\": \"barpolar\"}], \"carpet\": [{\"aaxis\": {\"endlinecolor\": \"#2a3f5f\", \"gridcolor\": \"white\", \"linecolor\": \"white\", \"minorgridcolor\": \"white\", \"startlinecolor\": \"#2a3f5f\"}, \"baxis\": {\"endlinecolor\": \"#2a3f5f\", \"gridcolor\": \"white\", \"linecolor\": \"white\", \"minorgridcolor\": \"white\", \"startlinecolor\": \"#2a3f5f\"}, \"type\": \"carpet\"}], \"choropleth\": [{\"colorbar\": {\"outlinewidth\": 0, \"ticks\": \"\"}, \"type\": \"choropleth\"}], \"contour\": [{\"colorbar\": {\"outlinewidth\": 0, \"ticks\": \"\"}, \"colorscale\": [[0.0, \"#0d0887\"], [0.1111111111111111, \"#46039f\"], [0.2222222222222222, \"#7201a8\"], [0.3333333333333333, \"#9c179e\"], [0.4444444444444444, \"#bd3786\"], [0.5555555555555556, \"#d8576b\"], [0.6666666666666666, \"#ed7953\"], [0.7777777777777778, \"#fb9f3a\"], [0.8888888888888888, \"#fdca26\"], [1.0, \"#f0f921\"]], \"type\": \"contour\"}], \"contourcarpet\": [{\"colorbar\": {\"outlinewidth\": 0, \"ticks\": \"\"}, \"type\": \"contourcarpet\"}], \"heatmap\": [{\"colorbar\": {\"outlinewidth\": 0, \"ticks\": \"\"}, \"colorscale\": [[0.0, \"#0d0887\"], [0.1111111111111111, \"#46039f\"], [0.2222222222222222, \"#7201a8\"], [0.3333333333333333, \"#9c179e\"], [0.4444444444444444, \"#bd3786\"], [0.5555555555555556, \"#d8576b\"], [0.6666666666666666, \"#ed7953\"], [0.7777777777777778, \"#fb9f3a\"], [0.8888888888888888, \"#fdca26\"], [1.0, \"#f0f921\"]], \"type\": \"heatmap\"}], \"heatmapgl\": [{\"colorbar\": {\"outlinewidth\": 0, \"ticks\": \"\"}, \"colorscale\": [[0.0, \"#0d0887\"], [0.1111111111111111, \"#46039f\"], [0.2222222222222222, \"#7201a8\"], [0.3333333333333333, \"#9c179e\"], [0.4444444444444444, \"#bd3786\"], [0.5555555555555556, \"#d8576b\"], [0.6666666666666666, \"#ed7953\"], [0.7777777777777778, \"#fb9f3a\"], [0.8888888888888888, \"#fdca26\"], [1.0, \"#f0f921\"]], \"type\": \"heatmapgl\"}], \"histogram\": [{\"marker\": {\"colorbar\": {\"outlinewidth\": 0, \"ticks\": \"\"}}, \"type\": \"histogram\"}], \"histogram2d\": [{\"colorbar\": {\"outlinewidth\": 0, \"ticks\": \"\"}, \"colorscale\": [[0.0, \"#0d0887\"], [0.1111111111111111, \"#46039f\"], [0.2222222222222222, \"#7201a8\"], [0.3333333333333333, \"#9c179e\"], [0.4444444444444444, \"#bd3786\"], [0.5555555555555556, \"#d8576b\"], [0.6666666666666666, \"#ed7953\"], [0.7777777777777778, \"#fb9f3a\"], [0.8888888888888888, \"#fdca26\"], [1.0, \"#f0f921\"]], \"type\": \"histogram2d\"}], \"histogram2dcontour\": [{\"colorbar\": {\"outlinewidth\": 0, \"ticks\": \"\"}, \"colorscale\": [[0.0, \"#0d0887\"], [0.1111111111111111, \"#46039f\"], [0.2222222222222222, \"#7201a8\"], [0.3333333333333333, \"#9c179e\"], [0.4444444444444444, \"#bd3786\"], [0.5555555555555556, \"#d8576b\"], [0.6666666666666666, \"#ed7953\"], [0.7777777777777778, \"#fb9f3a\"], [0.8888888888888888, \"#fdca26\"], [1.0, \"#f0f921\"]], \"type\": \"histogram2dcontour\"}], \"mesh3d\": [{\"colorbar\": {\"outlinewidth\": 0, \"ticks\": \"\"}, \"type\": \"mesh3d\"}], \"parcoords\": [{\"line\": {\"colorbar\": {\"outlinewidth\": 0, \"ticks\": \"\"}}, \"type\": \"parcoords\"}], \"pie\": [{\"automargin\": true, \"type\": \"pie\"}], \"scatter\": [{\"marker\": {\"colorbar\": {\"outlinewidth\": 0, \"ticks\": \"\"}}, \"type\": \"scatter\"}], \"scatter3d\": [{\"line\": {\"colorbar\": {\"outlinewidth\": 0, \"ticks\": \"\"}}, \"marker\": {\"colorbar\": {\"outlinewidth\": 0, \"ticks\": \"\"}}, \"type\": \"scatter3d\"}], \"scattercarpet\": [{\"marker\": {\"colorbar\": {\"outlinewidth\": 0, \"ticks\": \"\"}}, \"type\": \"scattercarpet\"}], \"scattergeo\": [{\"marker\": {\"colorbar\": {\"outlinewidth\": 0, \"ticks\": \"\"}}, \"type\": \"scattergeo\"}], \"scattergl\": [{\"marker\": {\"colorbar\": {\"outlinewidth\": 0, \"ticks\": \"\"}}, \"type\": \"scattergl\"}], \"scattermapbox\": [{\"marker\": {\"colorbar\": {\"outlinewidth\": 0, \"ticks\": \"\"}}, \"type\": \"scattermapbox\"}], \"scatterpolar\": [{\"marker\": {\"colorbar\": {\"outlinewidth\": 0, \"ticks\": \"\"}}, \"type\": \"scatterpolar\"}], \"scatterpolargl\": [{\"marker\": {\"colorbar\": {\"outlinewidth\": 0, \"ticks\": \"\"}}, \"type\": \"scatterpolargl\"}], \"scatterternary\": [{\"marker\": {\"colorbar\": {\"outlinewidth\": 0, \"ticks\": \"\"}}, \"type\": \"scatterternary\"}], \"surface\": [{\"colorbar\": {\"outlinewidth\": 0, \"ticks\": \"\"}, \"colorscale\": [[0.0, \"#0d0887\"], [0.1111111111111111, \"#46039f\"], [0.2222222222222222, \"#7201a8\"], [0.3333333333333333, \"#9c179e\"], [0.4444444444444444, \"#bd3786\"], [0.5555555555555556, \"#d8576b\"], [0.6666666666666666, \"#ed7953\"], [0.7777777777777778, \"#fb9f3a\"], [0.8888888888888888, \"#fdca26\"], [1.0, \"#f0f921\"]], \"type\": \"surface\"}], \"table\": [{\"cells\": {\"fill\": {\"color\": \"#EBF0F8\"}, \"line\": {\"color\": \"white\"}}, \"header\": {\"fill\": {\"color\": \"#C8D4E3\"}, \"line\": {\"color\": \"white\"}}, \"type\": \"table\"}]}, \"layout\": {\"annotationdefaults\": {\"arrowcolor\": \"#2a3f5f\", \"arrowhead\": 0, \"arrowwidth\": 1}, \"coloraxis\": {\"colorbar\": {\"outlinewidth\": 0, \"ticks\": \"\"}}, \"colorscale\": {\"diverging\": [[0, \"#8e0152\"], [0.1, \"#c51b7d\"], [0.2, \"#de77ae\"], [0.3, \"#f1b6da\"], [0.4, \"#fde0ef\"], [0.5, \"#f7f7f7\"], [0.6, \"#e6f5d0\"], [0.7, \"#b8e186\"], [0.8, \"#7fbc41\"], [0.9, \"#4d9221\"], [1, \"#276419\"]], \"sequential\": [[0.0, \"#0d0887\"], [0.1111111111111111, \"#46039f\"], [0.2222222222222222, \"#7201a8\"], [0.3333333333333333, \"#9c179e\"], [0.4444444444444444, \"#bd3786\"], [0.5555555555555556, \"#d8576b\"], [0.6666666666666666, \"#ed7953\"], [0.7777777777777778, \"#fb9f3a\"], [0.8888888888888888, \"#fdca26\"], [1.0, \"#f0f921\"]], \"sequentialminus\": [[0.0, \"#0d0887\"], [0.1111111111111111, \"#46039f\"], [0.2222222222222222, \"#7201a8\"], [0.3333333333333333, \"#9c179e\"], [0.4444444444444444, \"#bd3786\"], [0.5555555555555556, \"#d8576b\"], [0.6666666666666666, \"#ed7953\"], [0.7777777777777778, \"#fb9f3a\"], [0.8888888888888888, \"#fdca26\"], [1.0, \"#f0f921\"]]}, \"colorway\": [\"#636efa\", \"#EF553B\", \"#00cc96\", \"#ab63fa\", \"#FFA15A\", \"#19d3f3\", \"#FF6692\", \"#B6E880\", \"#FF97FF\", \"#FECB52\"], \"font\": {\"color\": \"#2a3f5f\"}, \"geo\": {\"bgcolor\": \"white\", \"lakecolor\": \"white\", \"landcolor\": \"#E5ECF6\", \"showlakes\": true, \"showland\": true, \"subunitcolor\": \"white\"}, \"hoverlabel\": {\"align\": \"left\"}, \"hovermode\": \"closest\", \"mapbox\": {\"style\": \"light\"}, \"paper_bgcolor\": \"white\", \"plot_bgcolor\": \"#E5ECF6\", \"polar\": {\"angularaxis\": {\"gridcolor\": \"white\", \"linecolor\": \"white\", \"ticks\": \"\"}, \"bgcolor\": \"#E5ECF6\", \"radialaxis\": {\"gridcolor\": \"white\", \"linecolor\": \"white\", \"ticks\": \"\"}}, \"scene\": {\"xaxis\": {\"backgroundcolor\": \"#E5ECF6\", \"gridcolor\": \"white\", \"gridwidth\": 2, \"linecolor\": \"white\", \"showbackground\": true, \"ticks\": \"\", \"zerolinecolor\": \"white\"}, \"yaxis\": {\"backgroundcolor\": \"#E5ECF6\", \"gridcolor\": \"white\", \"gridwidth\": 2, \"linecolor\": \"white\", \"showbackground\": true, \"ticks\": \"\", \"zerolinecolor\": \"white\"}, \"zaxis\": {\"backgroundcolor\": \"#E5ECF6\", \"gridcolor\": \"white\", \"gridwidth\": 2, \"linecolor\": \"white\", \"showbackground\": true, \"ticks\": \"\", \"zerolinecolor\": \"white\"}}, \"shapedefaults\": {\"line\": {\"color\": \"#2a3f5f\"}}, \"ternary\": {\"aaxis\": {\"gridcolor\": \"white\", \"linecolor\": \"white\", \"ticks\": \"\"}, \"baxis\": {\"gridcolor\": \"white\", \"linecolor\": \"white\", \"ticks\": \"\"}, \"bgcolor\": \"#E5ECF6\", \"caxis\": {\"gridcolor\": \"white\", \"linecolor\": \"white\", \"ticks\": \"\"}}, \"title\": {\"x\": 0.05}, \"xaxis\": {\"automargin\": true, \"gridcolor\": \"white\", \"linecolor\": \"white\", \"ticks\": \"\", \"title\": {\"standoff\": 15}, \"zerolinecolor\": \"white\", \"zerolinewidth\": 2}, \"yaxis\": {\"automargin\": true, \"gridcolor\": \"white\", \"linecolor\": \"white\", \"ticks\": \"\", \"title\": {\"standoff\": 15}, \"zerolinecolor\": \"white\", \"zerolinewidth\": 2}}}, \"title\": {\"text\": \"Sales per Product\"}, \"xaxis\": {\"anchor\": \"y\", \"domain\": [0.0, 1.0], \"title\": {\"text\": \"Product_line\"}}, \"yaxis\": {\"anchor\": \"x\", \"domain\": [0.0, 1.0], \"title\": {\"text\": \"Count\"}}},\n",
       "                        {\"responsive\": true}\n",
       "                    ).then(function(){\n",
       "                            \n",
       "var gd = document.getElementById('3046963d-2bfc-4f96-a9c1-6929f2c0b30b');\n",
       "var x = new MutationObserver(function (mutations, observer) {{\n",
       "        var display = window.getComputedStyle(gd).display;\n",
       "        if (!display || display === 'none') {{\n",
       "            console.log([gd, 'removed!']);\n",
       "            Plotly.purge(gd);\n",
       "            observer.disconnect();\n",
       "        }}\n",
       "}});\n",
       "\n",
       "// Listen for the removal of the full notebook cells\n",
       "var notebookContainer = gd.closest('#notebook-container');\n",
       "if (notebookContainer) {{\n",
       "    x.observe(notebookContainer, {childList: true});\n",
       "}}\n",
       "\n",
       "// Listen for the clearing of the current output cell\n",
       "var outputEl = gd.closest('.output');\n",
       "if (outputEl) {{\n",
       "    x.observe(outputEl, {childList: true});\n",
       "}}\n",
       "\n",
       "                        })\n",
       "                };\n",
       "                });\n",
       "            </script>\n",
       "        </div>"
      ]
     },
     "metadata": {},
     "output_type": "display_data"
    },
    {
     "data": {
      "text/plain": [
       "<Figure size 432x288 with 0 Axes>"
      ]
     },
     "metadata": {},
     "output_type": "display_data"
    }
   ],
   "source": [
    "product_avgyearlysales = df.groupby('Product_line')['gross_income'].count().to_dict()\n",
    "df_yearlysales = pd.DataFrame(list(product_avgyearlysales.items()), \n",
    "                              columns = ['Product_line', 'Count'])\n",
    "\n",
    "fig = px.bar(df_yearlysales,\n",
    "             x = 'Product_line',\n",
    "             y = 'Count',\n",
    "             title = 'Sales per Product')\n",
    "plt.savefig('productlinegrossincome.jpg')\n",
    "fig.show();"
   ]
  },
  {
   "cell_type": "markdown",
   "metadata": {
    "id": "gswQwLQjIVaD"
   },
   "source": [
    "When it comes to sales based on Product Line Categories across all branches, Fashion accessories were the most sold at 17.8%(178) followed by Food and beverages at 17.4%(174) then Electronic accessories at 17%(170). Sports and travel items came in at fourth position with 16.6%(166) follwed by Health and lifestyle products at 16%(160) and the product that had it's sales lowest among the other categories was product line under Health and beauty at 15.2% (152).\n",
    "\n",
    "Worth noting is how the distribution of these products fell between 17% as the most sold and 15% as the least sold."
   ]
  },
  {
   "cell_type": "code",
   "execution_count": 33,
   "metadata": {
    "colab": {
     "base_uri": "https://localhost:8080/"
    },
    "id": "fQHYUwtFXq8M",
    "outputId": "05b77af9-c2b6-45a7-9f5e-d960bb40517c"
   },
   "outputs": [
    {
     "data": {
      "text/plain": [
       "Product_line            City     \n",
       "Electronic accessories  Yangon       60\n",
       "                        Mandalay     55\n",
       "                        Naypyitaw    55\n",
       "Fashion accessories     Naypyitaw    65\n",
       "                        Mandalay     62\n",
       "                        Yangon       51\n",
       "Food and beverages      Naypyitaw    66\n",
       "                        Yangon       58\n",
       "                        Mandalay     50\n",
       "Health and beauty       Mandalay     53\n",
       "                        Naypyitaw    52\n",
       "                        Yangon       47\n",
       "Home and lifestyle      Yangon       65\n",
       "                        Mandalay     50\n",
       "                        Naypyitaw    45\n",
       "Sports and travel       Mandalay     62\n",
       "                        Yangon       59\n",
       "                        Naypyitaw    45\n",
       "Name: City, dtype: int64"
      ]
     },
     "execution_count": 33,
     "metadata": {},
     "output_type": "execute_result"
    }
   ],
   "source": [
    "df.groupby('Product_line')['City'].value_counts()"
   ]
  },
  {
   "cell_type": "code",
   "execution_count": 116,
   "metadata": {
    "colab": {
     "base_uri": "https://localhost:8080/",
     "height": 335
    },
    "id": "TgANHaZFY1-6",
    "outputId": "269881b5-5b69-426c-c066-075bf4a178af"
   },
   "outputs": [
    {
     "data": {
      "image/png": "[encoded data removed]",
      "text/plain": [
       "<Figure size 1080x360 with 1 Axes>"
      ]
     },
     "metadata": {
      "needs_background": "light"
     },
     "output_type": "display_data"
    }
   ],
   "source": [
    "plt.figure(figsize=(15,5))\n",
    "sns.countplot(data=df, x=\"Product_line\", hue=\"City\", saturation=True);\n",
    "#plt.savefig('cityproductline.jpg');"
   ]
  },
  {
   "cell_type": "markdown",
   "metadata": {
    "id": "atgc-z9NY2qZ"
   },
   "source": [
    "When it comes to Food and beverages, Fashion accessories (Product lines) the supermarket in Napyitaw has the most sales with Home and lifestyle tieing in Yangon with Fashion accessories sales in Napyitaw.\n",
    "\n",
    "The branch in Mandalay has the most sales when it comes to sports and travel with fashion accessories sales coming second after Napyitaw branch.\n",
    "\n",
    "This plot helps in finding out how the specific product line sells per branch an example is how sports and travel ,home and lifestyle sales are below 50 in Napyitaw compared to other braches while in Yangon branch health and beauty products sell below 50 compared to other branches."
   ]
  },
  {
   "cell_type": "markdown",
   "metadata": {
    "id": "G1FQNirmEyRL"
   },
   "source": [
    "### Payment"
   ]
  },
  {
   "cell_type": "code",
   "execution_count": 35,
   "metadata": {
    "colab": {
     "base_uri": "https://localhost:8080/"
    },
    "id": "S-RBnelOEhoA",
    "outputId": "e0c2ccd3-bbc5-4099-a753-ee53627ccfad"
   },
   "outputs": [
    {
     "data": {
      "text/plain": [
       "Ewallet        345\n",
       "Cash           344\n",
       "Credit card    311\n",
       "Name: Payment, dtype: int64"
      ]
     },
     "execution_count": 35,
     "metadata": {},
     "output_type": "execute_result"
    }
   ],
   "source": [
    "df['Payment'].value_counts()"
   ]
  },
  {
   "cell_type": "code",
   "execution_count": 36,
   "metadata": {
    "colab": {
     "base_uri": "https://localhost:8080/"
    },
    "id": "UbnpFyM1FDt-",
    "outputId": "90cd30f0-df1b-4af1-b447-92feb0e4b4e1"
   },
   "outputs": [
    {
     "data": {
      "text/plain": [
       "{('Male', 'Credit card'): 148,\n",
       " ('Female', 'Ewallet'): 160,\n",
       " ('Female', 'Credit card'): 163,\n",
       " ('Male', 'Cash'): 166,\n",
       " ('Female', 'Cash'): 178,\n",
       " ('Male', 'Ewallet'): 185}"
      ]
     },
     "execution_count": 36,
     "metadata": {},
     "output_type": "execute_result"
    }
   ],
   "source": [
    "df[['Gender', 'Payment']].value_counts(ascending=True).to_dict()"
   ]
  },
  {
   "cell_type": "code",
   "execution_count": 37,
   "metadata": {
    "colab": {
     "base_uri": "https://localhost:8080/",
     "height": 542
    },
    "id": "yRTCbX2bFWUS",
    "outputId": "fb96a6ef-ac0b-4f08-f3cd-42182c0a276e"
   },
   "outputs": [
    {
     "data": {
      "application/vnd.plotly.v1+json": {
       "config": {
        "plotlyServerURL": "https://plot.ly"
       },
       "data": [
        {
         "domain": {
          "x": [
           0,
           1
          ],
          "y": [
           0,
           1
          ]
         },
         "hovertemplate": "Payment=%{label}<br>Gender=%{value}<extra></extra>",
         "labels": [
          [
           "Ewallet",
           "Male"
          ],
          [
           "Cash",
           "Female"
          ],
          [
           "Cash",
           "Male"
          ],
          [
           "Credit card",
           "Female"
          ],
          [
           "Ewallet",
           "Female"
          ],
          [
           "Credit card",
           "Male"
          ]
         ],
         "legendgroup": "",
         "name": "",
         "showlegend": true,
         "textinfo": "percent+label",
         "textposition": "inside",
         "type": "pie",
         "values": [
          185,
          178,
          166,
          163,
          160,
          148
         ]
        }
       ],
       "layout": {
        "legend": {
         "tracegroupgap": 0
        },
        "template": {
         "data": {
          "bar": [
           {
            "error_x": {
             "color": "#2a3f5f"
            },
            "error_y": {
             "color": "#2a3f5f"
            },
            "marker": {
             "line": {
              "color": "#E5ECF6",
              "width": 0.5
             }
            },
            "type": "bar"
           }
          ],
          "barpolar": [
           {
            "marker": {
             "line": {
              "color": "#E5ECF6",
              "width": 0.5
             }
            },
            "type": "barpolar"
           }
          ],
          "carpet": [
           {
            "aaxis": {
             "endlinecolor": "#2a3f5f",
             "gridcolor": "white",
             "linecolor": "white",
             "minorgridcolor": "white",
             "startlinecolor": "#2a3f5f"
            },
            "baxis": {
             "endlinecolor": "#2a3f5f",
             "gridcolor": "white",
             "linecolor": "white",
             "minorgridcolor": "white",
             "startlinecolor": "#2a3f5f"
            },
            "type": "carpet"
           }
          ],
          "choropleth": [
           {
            "colorbar": {
             "outlinewidth": 0,
             "ticks": ""
            },
            "type": "choropleth"
           }
          ],
          "contour": [
           {
            "colorbar": {
             "outlinewidth": 0,
             "ticks": ""
            },
            "colorscale": [
             [
              0,
              "#0d0887"
             ],
             [
              0.1111111111111111,
              "#46039f"
             ],
             [
              0.2222222222222222,
              "#7201a8"
             ],
             [
              0.3333333333333333,
              "#9c179e"
             ],
             [
              0.4444444444444444,
              "#bd3786"
             ],
             [
              0.5555555555555556,
              "#d8576b"
             ],
             [
              0.6666666666666666,
              "#ed7953"
             ],
             [
              0.7777777777777778,
              "#fb9f3a"
             ],
             [
              0.8888888888888888,
              "#fdca26"
             ],
             [
              1,
              "#f0f921"
             ]
            ],
            "type": "contour"
           }
          ],
          "contourcarpet": [
           {
            "colorbar": {
             "outlinewidth": 0,
             "ticks": ""
            },
            "type": "contourcarpet"
           }
          ],
          "heatmap": [
           {
            "colorbar": {
             "outlinewidth": 0,
             "ticks": ""
            },
            "colorscale": [
             [
              0,
              "#0d0887"
             ],
             [
              0.1111111111111111,
              "#46039f"
             ],
             [
              0.2222222222222222,
              "#7201a8"
             ],
             [
              0.3333333333333333,
              "#9c179e"
             ],
             [
              0.4444444444444444,
              "#bd3786"
             ],
             [
              0.5555555555555556,
              "#d8576b"
             ],
             [
              0.6666666666666666,
              "#ed7953"
             ],
             [
              0.7777777777777778,
              "#fb9f3a"
             ],
             [
              0.8888888888888888,
              "#fdca26"
             ],
             [
              1,
              "#f0f921"
             ]
            ],
            "type": "heatmap"
           }
          ],
          "heatmapgl": [
           {
            "colorbar": {
             "outlinewidth": 0,
             "ticks": ""
            },
            "colorscale": [
             [
              0,
              "#0d0887"
             ],
             [
              0.1111111111111111,
              "#46039f"
             ],
             [
              0.2222222222222222,
              "#7201a8"
             ],
             [
              0.3333333333333333,
              "#9c179e"
             ],
             [
              0.4444444444444444,
              "#bd3786"
             ],
             [
              0.5555555555555556,
              "#d8576b"
             ],
             [
              0.6666666666666666,
              "#ed7953"
             ],
             [
              0.7777777777777778,
              "#fb9f3a"
             ],
             [
              0.8888888888888888,
              "#fdca26"
             ],
             [
              1,
              "#f0f921"
             ]
            ],
            "type": "heatmapgl"
           }
          ],
          "histogram": [
           {
            "marker": {
             "colorbar": {
              "outlinewidth": 0,
              "ticks": ""
             }
            },
            "type": "histogram"
           }
          ],
          "histogram2d": [
           {
            "colorbar": {
             "outlinewidth": 0,
             "ticks": ""
            },
            "colorscale": [
             [
              0,
              "#0d0887"
             ],
             [
              0.1111111111111111,
              "#46039f"
             ],
             [
              0.2222222222222222,
              "#7201a8"
             ],
             [
              0.3333333333333333,
              "#9c179e"
             ],
             [
              0.4444444444444444,
              "#bd3786"
             ],
             [
              0.5555555555555556,
              "#d8576b"
             ],
             [
              0.6666666666666666,
              "#ed7953"
             ],
             [
              0.7777777777777778,
              "#fb9f3a"
             ],
             [
              0.8888888888888888,
              "#fdca26"
             ],
             [
              1,
              "#f0f921"
             ]
            ],
            "type": "histogram2d"
           }
          ],
          "histogram2dcontour": [
           {
            "colorbar": {
             "outlinewidth": 0,
             "ticks": ""
            },
            "colorscale": [
             [
              0,
              "#0d0887"
             ],
             [
              0.1111111111111111,
              "#46039f"
             ],
             [
              0.2222222222222222,
              "#7201a8"
             ],
             [
              0.3333333333333333,
              "#9c179e"
             ],
             [
              0.4444444444444444,
              "#bd3786"
             ],
             [
              0.5555555555555556,
              "#d8576b"
             ],
             [
              0.6666666666666666,
              "#ed7953"
             ],
             [
              0.7777777777777778,
              "#fb9f3a"
             ],
             [
              0.8888888888888888,
              "#fdca26"
             ],
             [
              1,
              "#f0f921"
             ]
            ],
            "type": "histogram2dcontour"
           }
          ],
          "mesh3d": [
           {
            "colorbar": {
             "outlinewidth": 0,
             "ticks": ""
            },
            "type": "mesh3d"
           }
          ],
          "parcoords": [
           {
            "line": {
             "colorbar": {
              "outlinewidth": 0,
              "ticks": ""
             }
            },
            "type": "parcoords"
           }
          ],
          "pie": [
           {
            "automargin": true,
            "type": "pie"
           }
          ],
          "scatter": [
           {
            "marker": {
             "colorbar": {
              "outlinewidth": 0,
              "ticks": ""
             }
            },
            "type": "scatter"
           }
          ],
          "scatter3d": [
           {
            "line": {
             "colorbar": {
              "outlinewidth": 0,
              "ticks": ""
             }
            },
            "marker": {
             "colorbar": {
              "outlinewidth": 0,
              "ticks": ""
             }
            },
            "type": "scatter3d"
           }
          ],
          "scattercarpet": [
           {
            "marker": {
             "colorbar": {
              "outlinewidth": 0,
              "ticks": ""
             }
            },
            "type": "scattercarpet"
           }
          ],
          "scattergeo": [
           {
            "marker": {
             "colorbar": {
              "outlinewidth": 0,
              "ticks": ""
             }
            },
            "type": "scattergeo"
           }
          ],
          "scattergl": [
           {
            "marker": {
             "colorbar": {
              "outlinewidth": 0,
              "ticks": ""
             }
            },
            "type": "scattergl"
           }
          ],
          "scattermapbox": [
           {
            "marker": {
             "colorbar": {
              "outlinewidth": 0,
              "ticks": ""
             }
            },
            "type": "scattermapbox"
           }
          ],
          "scatterpolar": [
           {
            "marker": {
             "colorbar": {
              "outlinewidth": 0,
              "ticks": ""
             }
            },
            "type": "scatterpolar"
           }
          ],
          "scatterpolargl": [
           {
            "marker": {
             "colorbar": {
              "outlinewidth": 0,
              "ticks": ""
             }
            },
            "type": "scatterpolargl"
           }
          ],
          "scatterternary": [
           {
            "marker": {
             "colorbar": {
              "outlinewidth": 0,
              "ticks": ""
             }
            },
            "type": "scatterternary"
           }
          ],
          "surface": [
           {
            "colorbar": {
             "outlinewidth": 0,
             "ticks": ""
            },
            "colorscale": [
             [
              0,
              "#0d0887"
             ],
             [
              0.1111111111111111,
              "#46039f"
             ],
             [
              0.2222222222222222,
              "#7201a8"
             ],
             [
              0.3333333333333333,
              "#9c179e"
             ],
             [
              0.4444444444444444,
              "#bd3786"
             ],
             [
              0.5555555555555556,
              "#d8576b"
             ],
             [
              0.6666666666666666,
              "#ed7953"
             ],
             [
              0.7777777777777778,
              "#fb9f3a"
             ],
             [
              0.8888888888888888,
              "#fdca26"
             ],
             [
              1,
              "#f0f921"
             ]
            ],
            "type": "surface"
           }
          ],
          "table": [
           {
            "cells": {
             "fill": {
              "color": "#EBF0F8"
             },
             "line": {
              "color": "white"
             }
            },
            "header": {
             "fill": {
              "color": "#C8D4E3"
             },
             "line": {
              "color": "white"
             }
            },
            "type": "table"
           }
          ]
         },
         "layout": {
          "annotationdefaults": {
           "arrowcolor": "#2a3f5f",
           "arrowhead": 0,
           "arrowwidth": 1
          },
          "coloraxis": {
           "colorbar": {
            "outlinewidth": 0,
            "ticks": ""
           }
          },
          "colorscale": {
           "diverging": [
            [
             0,
             "#8e0152"
            ],
            [
             0.1,
             "#c51b7d"
            ],
            [
             0.2,
             "#de77ae"
            ],
            [
             0.3,
             "#f1b6da"
            ],
            [
             0.4,
             "#fde0ef"
            ],
            [
             0.5,
             "#f7f7f7"
            ],
            [
             0.6,
             "#e6f5d0"
            ],
            [
             0.7,
             "#b8e186"
            ],
            [
             0.8,
             "#7fbc41"
            ],
            [
             0.9,
             "#4d9221"
            ],
            [
             1,
             "#276419"
            ]
           ],
           "sequential": [
            [
             0,
             "#0d0887"
            ],
            [
             0.1111111111111111,
             "#46039f"
            ],
            [
             0.2222222222222222,
             "#7201a8"
            ],
            [
             0.3333333333333333,
             "#9c179e"
            ],
            [
             0.4444444444444444,
             "#bd3786"
            ],
            [
             0.5555555555555556,
             "#d8576b"
            ],
            [
             0.6666666666666666,
             "#ed7953"
            ],
            [
             0.7777777777777778,
             "#fb9f3a"
            ],
            [
             0.8888888888888888,
             "#fdca26"
            ],
            [
             1,
             "#f0f921"
            ]
           ],
           "sequentialminus": [
            [
             0,
             "#0d0887"
            ],
            [
             0.1111111111111111,
             "#46039f"
            ],
            [
             0.2222222222222222,
             "#7201a8"
            ],
            [
             0.3333333333333333,
             "#9c179e"
            ],
            [
             0.4444444444444444,
             "#bd3786"
            ],
            [
             0.5555555555555556,
             "#d8576b"
            ],
            [
             0.6666666666666666,
             "#ed7953"
            ],
            [
             0.7777777777777778,
             "#fb9f3a"
            ],
            [
             0.8888888888888888,
             "#fdca26"
            ],
            [
             1,
             "#f0f921"
            ]
           ]
          },
          "colorway": [
           "#636efa",
           "#EF553B",
           "#00cc96",
           "#ab63fa",
           "#FFA15A",
           "#19d3f3",
           "#FF6692",
           "#B6E880",
           "#FF97FF",
           "#FECB52"
          ],
          "font": {
           "color": "#2a3f5f"
          },
          "geo": {
           "bgcolor": "white",
           "lakecolor": "white",
           "landcolor": "#E5ECF6",
           "showlakes": true,
           "showland": true,
           "subunitcolor": "white"
          },
          "hoverlabel": {
           "align": "left"
          },
          "hovermode": "closest",
          "mapbox": {
           "style": "light"
          },
          "paper_bgcolor": "white",
          "plot_bgcolor": "#E5ECF6",
          "polar": {
           "angularaxis": {
            "gridcolor": "white",
            "linecolor": "white",
            "ticks": ""
           },
           "bgcolor": "#E5ECF6",
           "radialaxis": {
            "gridcolor": "white",
            "linecolor": "white",
            "ticks": ""
           }
          },
          "scene": {
           "xaxis": {
            "backgroundcolor": "#E5ECF6",
            "gridcolor": "white",
            "gridwidth": 2,
            "linecolor": "white",
            "showbackground": true,
            "ticks": "",
            "zerolinecolor": "white"
           },
           "yaxis": {
            "backgroundcolor": "#E5ECF6",
            "gridcolor": "white",
            "gridwidth": 2,
            "linecolor": "white",
            "showbackground": true,
            "ticks": "",
            "zerolinecolor": "white"
           },
           "zaxis": {
            "backgroundcolor": "#E5ECF6",
            "gridcolor": "white",
            "gridwidth": 2,
            "linecolor": "white",
            "showbackground": true,
            "ticks": "",
            "zerolinecolor": "white"
           }
          },
          "shapedefaults": {
           "line": {
            "color": "#2a3f5f"
           }
          },
          "ternary": {
           "aaxis": {
            "gridcolor": "white",
            "linecolor": "white",
            "ticks": ""
           },
           "baxis": {
            "gridcolor": "white",
            "linecolor": "white",
            "ticks": ""
           },
           "bgcolor": "#E5ECF6",
           "caxis": {
            "gridcolor": "white",
            "linecolor": "white",
            "ticks": ""
           }
          },
          "title": {
           "x": 0.05
          },
          "xaxis": {
           "automargin": true,
           "gridcolor": "white",
           "linecolor": "white",
           "ticks": "",
           "title": {
            "standoff": 15
           },
           "zerolinecolor": "white",
           "zerolinewidth": 2
          },
          "yaxis": {
           "automargin": true,
           "gridcolor": "white",
           "linecolor": "white",
           "ticks": "",
           "title": {
            "standoff": 15
           },
           "zerolinecolor": "white",
           "zerolinewidth": 2
          }
         }
        },
        "title": {
         "text": "Customer Payment type by Gender"
        }
       }
      },
      "text/html": [
       "<div>\n",
       "        \n",
       "        \n",
       "            <div id=\"8c999af6-fcd2-46e6-b023-d82bfc0f5226\" class=\"plotly-graph-div\" style=\"height:525px; width:100%;\"></div>\n",
       "            <script type=\"text/javascript\">\n",
       "                require([\"plotly\"], function(Plotly) {\n",
       "                    window.PLOTLYENV=window.PLOTLYENV || {};\n",
       "                    \n",
       "                if (document.getElementById(\"8c999af6-fcd2-46e6-b023-d82bfc0f5226\")) {\n",
       "                    Plotly.newPlot(\n",
       "                        '8c999af6-fcd2-46e6-b023-d82bfc0f5226',\n",
       "                        [{\"domain\": {\"x\": [0.0, 1.0], \"y\": [0.0, 1.0]}, \"hovertemplate\": \"Payment=%{label}<br>Gender=%{value}<extra></extra>\", \"labels\": [[\"Ewallet\", \"Male\"], [\"Cash\", \"Female\"], [\"Cash\", \"Male\"], [\"Credit card\", \"Female\"], [\"Ewallet\", \"Female\"], [\"Credit card\", \"Male\"]], \"legendgroup\": \"\", \"name\": \"\", \"showlegend\": true, \"textinfo\": \"percent+label\", \"textposition\": \"inside\", \"type\": \"pie\", \"values\": [185, 178, 166, 163, 160, 148]}],\n",
       "                        {\"legend\": {\"tracegroupgap\": 0}, \"template\": {\"data\": {\"bar\": [{\"error_x\": {\"color\": \"#2a3f5f\"}, \"error_y\": {\"color\": \"#2a3f5f\"}, \"marker\": {\"line\": {\"color\": \"#E5ECF6\", \"width\": 0.5}}, \"type\": \"bar\"}], \"barpolar\": [{\"marker\": {\"line\": {\"color\": \"#E5ECF6\", \"width\": 0.5}}, \"type\": \"barpolar\"}], \"carpet\": [{\"aaxis\": {\"endlinecolor\": \"#2a3f5f\", \"gridcolor\": \"white\", \"linecolor\": \"white\", \"minorgridcolor\": \"white\", \"startlinecolor\": \"#2a3f5f\"}, \"baxis\": {\"endlinecolor\": \"#2a3f5f\", \"gridcolor\": \"white\", \"linecolor\": \"white\", \"minorgridcolor\": \"white\", \"startlinecolor\": \"#2a3f5f\"}, \"type\": \"carpet\"}], \"choropleth\": [{\"colorbar\": {\"outlinewidth\": 0, \"ticks\": \"\"}, \"type\": \"choropleth\"}], \"contour\": [{\"colorbar\": {\"outlinewidth\": 0, \"ticks\": \"\"}, \"colorscale\": [[0.0, \"#0d0887\"], [0.1111111111111111, \"#46039f\"], [0.2222222222222222, \"#7201a8\"], [0.3333333333333333, \"#9c179e\"], [0.4444444444444444, \"#bd3786\"], [0.5555555555555556, \"#d8576b\"], [0.6666666666666666, \"#ed7953\"], [0.7777777777777778, \"#fb9f3a\"], [0.8888888888888888, \"#fdca26\"], [1.0, \"#f0f921\"]], \"type\": \"contour\"}], \"contourcarpet\": [{\"colorbar\": {\"outlinewidth\": 0, \"ticks\": \"\"}, \"type\": \"contourcarpet\"}], \"heatmap\": [{\"colorbar\": {\"outlinewidth\": 0, \"ticks\": \"\"}, \"colorscale\": [[0.0, \"#0d0887\"], [0.1111111111111111, \"#46039f\"], [0.2222222222222222, \"#7201a8\"], [0.3333333333333333, \"#9c179e\"], [0.4444444444444444, \"#bd3786\"], [0.5555555555555556, \"#d8576b\"], [0.6666666666666666, \"#ed7953\"], [0.7777777777777778, \"#fb9f3a\"], [0.8888888888888888, \"#fdca26\"], [1.0, \"#f0f921\"]], \"type\": \"heatmap\"}], \"heatmapgl\": [{\"colorbar\": {\"outlinewidth\": 0, \"ticks\": \"\"}, \"colorscale\": [[0.0, \"#0d0887\"], [0.1111111111111111, \"#46039f\"], [0.2222222222222222, \"#7201a8\"], [0.3333333333333333, \"#9c179e\"], [0.4444444444444444, \"#bd3786\"], [0.5555555555555556, \"#d8576b\"], [0.6666666666666666, \"#ed7953\"], [0.7777777777777778, \"#fb9f3a\"], [0.8888888888888888, \"#fdca26\"], [1.0, \"#f0f921\"]], \"type\": \"heatmapgl\"}], \"histogram\": [{\"marker\": {\"colorbar\": {\"outlinewidth\": 0, \"ticks\": \"\"}}, \"type\": \"histogram\"}], \"histogram2d\": [{\"colorbar\": {\"outlinewidth\": 0, \"ticks\": \"\"}, \"colorscale\": [[0.0, \"#0d0887\"], [0.1111111111111111, \"#46039f\"], [0.2222222222222222, \"#7201a8\"], [0.3333333333333333, \"#9c179e\"], [0.4444444444444444, \"#bd3786\"], [0.5555555555555556, \"#d8576b\"], [0.6666666666666666, \"#ed7953\"], [0.7777777777777778, \"#fb9f3a\"], [0.8888888888888888, \"#fdca26\"], [1.0, \"#f0f921\"]], \"type\": \"histogram2d\"}], \"histogram2dcontour\": [{\"colorbar\": {\"outlinewidth\": 0, \"ticks\": \"\"}, \"colorscale\": [[0.0, \"#0d0887\"], [0.1111111111111111, \"#46039f\"], [0.2222222222222222, \"#7201a8\"], [0.3333333333333333, \"#9c179e\"], [0.4444444444444444, \"#bd3786\"], [0.5555555555555556, \"#d8576b\"], [0.6666666666666666, \"#ed7953\"], [0.7777777777777778, \"#fb9f3a\"], [0.8888888888888888, \"#fdca26\"], [1.0, \"#f0f921\"]], \"type\": \"histogram2dcontour\"}], \"mesh3d\": [{\"colorbar\": {\"outlinewidth\": 0, \"ticks\": \"\"}, \"type\": \"mesh3d\"}], \"parcoords\": [{\"line\": {\"colorbar\": {\"outlinewidth\": 0, \"ticks\": \"\"}}, \"type\": \"parcoords\"}], \"pie\": [{\"automargin\": true, \"type\": \"pie\"}], \"scatter\": [{\"marker\": {\"colorbar\": {\"outlinewidth\": 0, \"ticks\": \"\"}}, \"type\": \"scatter\"}], \"scatter3d\": [{\"line\": {\"colorbar\": {\"outlinewidth\": 0, \"ticks\": \"\"}}, \"marker\": {\"colorbar\": {\"outlinewidth\": 0, \"ticks\": \"\"}}, \"type\": \"scatter3d\"}], \"scattercarpet\": [{\"marker\": {\"colorbar\": {\"outlinewidth\": 0, \"ticks\": \"\"}}, \"type\": \"scattercarpet\"}], \"scattergeo\": [{\"marker\": {\"colorbar\": {\"outlinewidth\": 0, \"ticks\": \"\"}}, \"type\": \"scattergeo\"}], \"scattergl\": [{\"marker\": {\"colorbar\": {\"outlinewidth\": 0, \"ticks\": \"\"}}, \"type\": \"scattergl\"}], \"scattermapbox\": [{\"marker\": {\"colorbar\": {\"outlinewidth\": 0, \"ticks\": \"\"}}, \"type\": \"scattermapbox\"}], \"scatterpolar\": [{\"marker\": {\"colorbar\": {\"outlinewidth\": 0, \"ticks\": \"\"}}, \"type\": \"scatterpolar\"}], \"scatterpolargl\": [{\"marker\": {\"colorbar\": {\"outlinewidth\": 0, \"ticks\": \"\"}}, \"type\": \"scatterpolargl\"}], \"scatterternary\": [{\"marker\": {\"colorbar\": {\"outlinewidth\": 0, \"ticks\": \"\"}}, \"type\": \"scatterternary\"}], \"surface\": [{\"colorbar\": {\"outlinewidth\": 0, \"ticks\": \"\"}, \"colorscale\": [[0.0, \"#0d0887\"], [0.1111111111111111, \"#46039f\"], [0.2222222222222222, \"#7201a8\"], [0.3333333333333333, \"#9c179e\"], [0.4444444444444444, \"#bd3786\"], [0.5555555555555556, \"#d8576b\"], [0.6666666666666666, \"#ed7953\"], [0.7777777777777778, \"#fb9f3a\"], [0.8888888888888888, \"#fdca26\"], [1.0, \"#f0f921\"]], \"type\": \"surface\"}], \"table\": [{\"cells\": {\"fill\": {\"color\": \"#EBF0F8\"}, \"line\": {\"color\": \"white\"}}, \"header\": {\"fill\": {\"color\": \"#C8D4E3\"}, \"line\": {\"color\": \"white\"}}, \"type\": \"table\"}]}, \"layout\": {\"annotationdefaults\": {\"arrowcolor\": \"#2a3f5f\", \"arrowhead\": 0, \"arrowwidth\": 1}, \"coloraxis\": {\"colorbar\": {\"outlinewidth\": 0, \"ticks\": \"\"}}, \"colorscale\": {\"diverging\": [[0, \"#8e0152\"], [0.1, \"#c51b7d\"], [0.2, \"#de77ae\"], [0.3, \"#f1b6da\"], [0.4, \"#fde0ef\"], [0.5, \"#f7f7f7\"], [0.6, \"#e6f5d0\"], [0.7, \"#b8e186\"], [0.8, \"#7fbc41\"], [0.9, \"#4d9221\"], [1, \"#276419\"]], \"sequential\": [[0.0, \"#0d0887\"], [0.1111111111111111, \"#46039f\"], [0.2222222222222222, \"#7201a8\"], [0.3333333333333333, \"#9c179e\"], [0.4444444444444444, \"#bd3786\"], [0.5555555555555556, \"#d8576b\"], [0.6666666666666666, \"#ed7953\"], [0.7777777777777778, \"#fb9f3a\"], [0.8888888888888888, \"#fdca26\"], [1.0, \"#f0f921\"]], \"sequentialminus\": [[0.0, \"#0d0887\"], [0.1111111111111111, \"#46039f\"], [0.2222222222222222, \"#7201a8\"], [0.3333333333333333, \"#9c179e\"], [0.4444444444444444, \"#bd3786\"], [0.5555555555555556, \"#d8576b\"], [0.6666666666666666, \"#ed7953\"], [0.7777777777777778, \"#fb9f3a\"], [0.8888888888888888, \"#fdca26\"], [1.0, \"#f0f921\"]]}, \"colorway\": [\"#636efa\", \"#EF553B\", \"#00cc96\", \"#ab63fa\", \"#FFA15A\", \"#19d3f3\", \"#FF6692\", \"#B6E880\", \"#FF97FF\", \"#FECB52\"], \"font\": {\"color\": \"#2a3f5f\"}, \"geo\": {\"bgcolor\": \"white\", \"lakecolor\": \"white\", \"landcolor\": \"#E5ECF6\", \"showlakes\": true, \"showland\": true, \"subunitcolor\": \"white\"}, \"hoverlabel\": {\"align\": \"left\"}, \"hovermode\": \"closest\", \"mapbox\": {\"style\": \"light\"}, \"paper_bgcolor\": \"white\", \"plot_bgcolor\": \"#E5ECF6\", \"polar\": {\"angularaxis\": {\"gridcolor\": \"white\", \"linecolor\": \"white\", \"ticks\": \"\"}, \"bgcolor\": \"#E5ECF6\", \"radialaxis\": {\"gridcolor\": \"white\", \"linecolor\": \"white\", \"ticks\": \"\"}}, \"scene\": {\"xaxis\": {\"backgroundcolor\": \"#E5ECF6\", \"gridcolor\": \"white\", \"gridwidth\": 2, \"linecolor\": \"white\", \"showbackground\": true, \"ticks\": \"\", \"zerolinecolor\": \"white\"}, \"yaxis\": {\"backgroundcolor\": \"#E5ECF6\", \"gridcolor\": \"white\", \"gridwidth\": 2, \"linecolor\": \"white\", \"showbackground\": true, \"ticks\": \"\", \"zerolinecolor\": \"white\"}, \"zaxis\": {\"backgroundcolor\": \"#E5ECF6\", \"gridcolor\": \"white\", \"gridwidth\": 2, \"linecolor\": \"white\", \"showbackground\": true, \"ticks\": \"\", \"zerolinecolor\": \"white\"}}, \"shapedefaults\": {\"line\": {\"color\": \"#2a3f5f\"}}, \"ternary\": {\"aaxis\": {\"gridcolor\": \"white\", \"linecolor\": \"white\", \"ticks\": \"\"}, \"baxis\": {\"gridcolor\": \"white\", \"linecolor\": \"white\", \"ticks\": \"\"}, \"bgcolor\": \"#E5ECF6\", \"caxis\": {\"gridcolor\": \"white\", \"linecolor\": \"white\", \"ticks\": \"\"}}, \"title\": {\"x\": 0.05}, \"xaxis\": {\"automargin\": true, \"gridcolor\": \"white\", \"linecolor\": \"white\", \"ticks\": \"\", \"title\": {\"standoff\": 15}, \"zerolinecolor\": \"white\", \"zerolinewidth\": 2}, \"yaxis\": {\"automargin\": true, \"gridcolor\": \"white\", \"linecolor\": \"white\", \"ticks\": \"\", \"title\": {\"standoff\": 15}, \"zerolinecolor\": \"white\", \"zerolinewidth\": 2}}}, \"title\": {\"text\": \"Customer Payment type by Gender\"}},\n",
       "                        {\"responsive\": true}\n",
       "                    ).then(function(){\n",
       "                            \n",
       "var gd = document.getElementById('8c999af6-fcd2-46e6-b023-d82bfc0f5226');\n",
       "var x = new MutationObserver(function (mutations, observer) {{\n",
       "        var display = window.getComputedStyle(gd).display;\n",
       "        if (!display || display === 'none') {{\n",
       "            console.log([gd, 'removed!']);\n",
       "            Plotly.purge(gd);\n",
       "            observer.disconnect();\n",
       "        }}\n",
       "}});\n",
       "\n",
       "// Listen for the removal of the full notebook cells\n",
       "var notebookContainer = gd.closest('#notebook-container');\n",
       "if (notebookContainer) {{\n",
       "    x.observe(notebookContainer, {childList: true});\n",
       "}}\n",
       "\n",
       "// Listen for the clearing of the current output cell\n",
       "var outputEl = gd.closest('.output');\n",
       "if (outputEl) {{\n",
       "    x.observe(outputEl, {childList: true});\n",
       "}}\n",
       "\n",
       "                        })\n",
       "                };\n",
       "                });\n",
       "            </script>\n",
       "        </div>"
      ]
     },
     "metadata": {},
     "output_type": "display_data"
    }
   ],
   "source": [
    "#Payment preference types\n",
    "gender_payment = df[['Payment','Gender']].value_counts().to_dict()\n",
    "df_genderpayment = pd.DataFrame(list(gender_payment.items()),columns=['Payment','Gender'])\n",
    "gender_paymentfig = px.pie(df_genderpayment,values='Gender',names='Payment',title='Customer Payment type by Gender',labels='Payment')\n",
    "gender_paymentfig.update_traces(textposition='inside',textinfo='percent+label')\n",
    "\n",
    "plt.savefig('productlinegrossincome.jpg')\n",
    "gender_paymentfig.show()"
   ]
  },
  {
   "cell_type": "markdown",
   "metadata": {
    "id": "najwLex0GllR"
   },
   "source": [
    "When we compare the payment type usage across the genders we find out that Ewallet use among male customers at 18.5% was the prefered payment type compared to it's female use at 16%."
   ]
  },
  {
   "cell_type": "markdown",
   "metadata": {
    "id": "ypnc8ZLUeWgX"
   },
   "source": [
    "### Checking for Outliers"
   ]
  },
  {
   "cell_type": "code",
   "execution_count": 38,
   "metadata": {
    "id": "Y4BO2T_UdaN8"
   },
   "outputs": [],
   "source": [
    "# df.describe()"
   ]
  },
  {
   "cell_type": "code",
   "execution_count": 39,
   "metadata": {
    "id": "udzqFqYIee1_"
   },
   "outputs": [],
   "source": [
    "# def check_outliers(df):\n",
    "#   num_col = df.select_dtypes(['float64', 'int64']).columns\n",
    "#   nCols = len(num_col)//3+1\n",
    "\n",
    "#   fig,ax = plt.subplots(nCols, 3, figsize = (30, 8*nCols))\n",
    "#   for i, col in enumerate(num_col):\n",
    "#         sns.boxplot(data=df, x=col, ax=ax[i//3][i%3])\n",
    "\n",
    "#   for i in range(len(num_col), 3*nCols):\n",
    "#         fig.delaxes(ax[i//3][i%3])\n",
    "\n",
    "#   plt.show()\n",
    "    \n",
    "# check_outliers(df)"
   ]
  },
  {
   "cell_type": "markdown",
   "metadata": {
    "id": "rB0RKf3yfXQW"
   },
   "source": [
    "From the graphs above, we can see that `Tax 5%`, `cogs`, `Total` and `gross income` have outliers. So now I will remove outlier. Regarding to an attribute, if a value of it is out size 1.5 times IQR from mean, it will be treated as outliers"
   ]
  },
  {
   "cell_type": "code",
   "execution_count": 40,
   "metadata": {
    "id": "eBon9CtDfLDZ"
   },
   "outputs": [],
   "source": [
    "# ##Dont reomove outliers##\n",
    "# def remove_outlier(df, col_name):\n",
    "#     q = df[col_name].quantile([0.25, 0.5, 0.75])\n",
    "#     IQR = q[0.75] - q[0.25]\n",
    "#     lower = q[0.5] - 1.5*IQR\n",
    "#     upper = q[0.5] + 1.5*IQR\n",
    "#     return df[(df[col_name] >= lower) & (df[col_name] <= upper)]\n",
    "\n",
    "# df = remove_outlier(df, 'Tax_5%')\n",
    "# df = remove_outlier(df, 'cogs')\n",
    "# df = remove_outlier(df, 'Total')\n",
    "# df = remove_outlier(df, 'gross_income')\n",
    "\n",
    "# check_outliers(df)"
   ]
  },
  {
   "cell_type": "markdown",
   "metadata": {
    "id": "iD1SMkrlhLvf"
   },
   "source": [
    "### Correlation"
   ]
  },
  {
   "cell_type": "code",
   "execution_count": 118,
   "metadata": {
    "colab": {
     "base_uri": "https://localhost:8080/",
     "height": 705
    },
    "id": "JHW-aLpEf_IY",
    "outputId": "9cdde023-aa7b-448a-f724-9bb2443d61a4"
   },
   "outputs": [
    {
     "data": {
      "image/png": "[encoded data removed]",
      "text/plain": [
       "<Figure size 1080x864 with 2 Axes>"
      ]
     },
     "metadata": {
      "needs_background": "light"
     },
     "output_type": "display_data"
    }
   ],
   "source": [
    "corr = df.corr(method = 'pearson')\n",
    "plt.figure(figsize = (15,12))\n",
    "sns.heatmap(corr, annot=True, cmap='YlGnBu')\n",
    "plt.show();"
   ]
  },
  {
   "cell_type": "markdown",
   "metadata": {
    "id": "UpCp93FZh2p5"
   },
   "source": [
    "From the heatmap above, we can see that the `Total`, `cogs`, `Tax 5%`, `gross income` are perfectly correlated. This is very considerable, so let drop 3 of 4 attributes above (I choose cogs, gross income and Tax 5%)."
   ]
  },
  {
   "cell_type": "code",
   "execution_count": 44,
   "metadata": {
    "colab": {
     "base_uri": "https://localhost:8080/"
    },
    "id": "xQ7CNagjhZCO",
    "outputId": "e957ed42-54e2-4b2d-a6ec-69fa8ffdbb5e"
   },
   "outputs": [],
   "source": [
    "df = df.drop(columns=['cogs','gross_income','Tax_5%'])\n",
    "df.shape"
   ]
  },
  {
   "cell_type": "code",
   "execution_count": 45,
   "metadata": {
    "colab": {
     "base_uri": "https://localhost:8080/",
     "height": 206
    },
    "id": "zDwzSn4Ej3WK",
    "outputId": "16ff4a45-5f56-4706-af4c-ab849529188e"
   },
   "outputs": [
    {
     "data": {
      "text/html": [
       "<div>\n",
       "<style scoped>\n",
       "    .dataframe tbody tr th:only-of-type {\n",
       "        vertical-align: middle;\n",
       "    }\n",
       "\n",
       "    .dataframe tbody tr th {\n",
       "        vertical-align: top;\n",
       "    }\n",
       "\n",
       "    .dataframe thead th {\n",
       "        text-align: right;\n",
       "    }\n",
       "</style>\n",
       "<table border=\"1\" class=\"dataframe\">\n",
       "  <thead>\n",
       "    <tr style=\"text-align: right;\">\n",
       "      <th></th>\n",
       "      <th>Branch</th>\n",
       "      <th>City</th>\n",
       "      <th>Customer_type</th>\n",
       "      <th>Gender</th>\n",
       "      <th>Product_line</th>\n",
       "      <th>Unit_price</th>\n",
       "      <th>Quantity</th>\n",
       "      <th>Tax_5%</th>\n",
       "      <th>Total</th>\n",
       "      <th>Date</th>\n",
       "      <th>Time</th>\n",
       "      <th>Payment</th>\n",
       "      <th>cogs</th>\n",
       "      <th>gross_income</th>\n",
       "      <th>Rating</th>\n",
       "    </tr>\n",
       "  </thead>\n",
       "  <tbody>\n",
       "    <tr>\n",
       "      <th>0</th>\n",
       "      <td>A</td>\n",
       "      <td>Yangon</td>\n",
       "      <td>Member</td>\n",
       "      <td>Female</td>\n",
       "      <td>Health and beauty</td>\n",
       "      <td>74.69</td>\n",
       "      <td>7</td>\n",
       "      <td>26.1415</td>\n",
       "      <td>548.9715</td>\n",
       "      <td>2022-01-05</td>\n",
       "      <td>13:08</td>\n",
       "      <td>Ewallet</td>\n",
       "      <td>522.83</td>\n",
       "      <td>26.1415</td>\n",
       "      <td>9.1</td>\n",
       "    </tr>\n",
       "    <tr>\n",
       "      <th>1</th>\n",
       "      <td>C</td>\n",
       "      <td>Naypyitaw</td>\n",
       "      <td>Normal</td>\n",
       "      <td>Female</td>\n",
       "      <td>Electronic accessories</td>\n",
       "      <td>15.28</td>\n",
       "      <td>5</td>\n",
       "      <td>3.8200</td>\n",
       "      <td>80.2200</td>\n",
       "      <td>2022-03-08</td>\n",
       "      <td>10:29</td>\n",
       "      <td>Cash</td>\n",
       "      <td>76.40</td>\n",
       "      <td>3.8200</td>\n",
       "      <td>9.6</td>\n",
       "    </tr>\n",
       "    <tr>\n",
       "      <th>2</th>\n",
       "      <td>A</td>\n",
       "      <td>Yangon</td>\n",
       "      <td>Normal</td>\n",
       "      <td>Male</td>\n",
       "      <td>Home and lifestyle</td>\n",
       "      <td>46.33</td>\n",
       "      <td>7</td>\n",
       "      <td>16.2155</td>\n",
       "      <td>340.5255</td>\n",
       "      <td>2022-03-03</td>\n",
       "      <td>13:23</td>\n",
       "      <td>Credit card</td>\n",
       "      <td>324.31</td>\n",
       "      <td>16.2155</td>\n",
       "      <td>7.4</td>\n",
       "    </tr>\n",
       "    <tr>\n",
       "      <th>3</th>\n",
       "      <td>A</td>\n",
       "      <td>Yangon</td>\n",
       "      <td>Member</td>\n",
       "      <td>Male</td>\n",
       "      <td>Health and beauty</td>\n",
       "      <td>58.22</td>\n",
       "      <td>8</td>\n",
       "      <td>23.2880</td>\n",
       "      <td>489.0480</td>\n",
       "      <td>2022-01-27</td>\n",
       "      <td>20:33</td>\n",
       "      <td>Ewallet</td>\n",
       "      <td>465.76</td>\n",
       "      <td>23.2880</td>\n",
       "      <td>8.4</td>\n",
       "    </tr>\n",
       "    <tr>\n",
       "      <th>4</th>\n",
       "      <td>A</td>\n",
       "      <td>Yangon</td>\n",
       "      <td>Normal</td>\n",
       "      <td>Male</td>\n",
       "      <td>Sports and travel</td>\n",
       "      <td>86.31</td>\n",
       "      <td>7</td>\n",
       "      <td>30.2085</td>\n",
       "      <td>634.3785</td>\n",
       "      <td>2022-02-08</td>\n",
       "      <td>10:37</td>\n",
       "      <td>Ewallet</td>\n",
       "      <td>604.17</td>\n",
       "      <td>30.2085</td>\n",
       "      <td>5.3</td>\n",
       "    </tr>\n",
       "  </tbody>\n",
       "</table>\n",
       "</div>"
      ],
      "text/plain": [
       "  Branch       City Customer_type  Gender            Product_line  Unit_price  \\\n",
       "0      A     Yangon        Member  Female       Health and beauty       74.69   \n",
       "1      C  Naypyitaw        Normal  Female  Electronic accessories       15.28   \n",
       "2      A     Yangon        Normal    Male      Home and lifestyle       46.33   \n",
       "3      A     Yangon        Member    Male       Health and beauty       58.22   \n",
       "4      A     Yangon        Normal    Male       Sports and travel       86.31   \n",
       "\n",
       "   Quantity   Tax_5%     Total       Date   Time      Payment    cogs  \\\n",
       "0         7  26.1415  548.9715 2022-01-05  13:08      Ewallet  522.83   \n",
       "1         5   3.8200   80.2200 2022-03-08  10:29         Cash   76.40   \n",
       "2         7  16.2155  340.5255 2022-03-03  13:23  Credit card  324.31   \n",
       "3         8  23.2880  489.0480 2022-01-27  20:33      Ewallet  465.76   \n",
       "4         7  30.2085  634.3785 2022-02-08  10:37      Ewallet  604.17   \n",
       "\n",
       "   gross_income  Rating  \n",
       "0       26.1415     9.1  \n",
       "1        3.8200     9.6  \n",
       "2       16.2155     7.4  \n",
       "3       23.2880     8.4  \n",
       "4       30.2085     5.3  "
      ]
     },
     "execution_count": 45,
     "metadata": {},
     "output_type": "execute_result"
    }
   ],
   "source": [
    "df.head()"
   ]
  },
  {
   "cell_type": "code",
   "execution_count": 119,
   "metadata": {
    "colab": {
     "base_uri": "https://localhost:8080/",
     "height": 497
    },
    "id": "_vWupN_1kM4f",
    "outputId": "ca674cb7-8dac-4a21-81a9-1e1817d04626"
   },
   "outputs": [
    {
     "data": {
      "image/png": "[encoded data removed]",
      "text/plain": [
       "<Figure size 720x576 with 1 Axes>"
      ]
     },
     "metadata": {
      "needs_background": "light"
     },
     "output_type": "display_data"
    }
   ],
   "source": [
    "# Relationship of cities and branches\n",
    "plt.figure(figsize=(10,8))\n",
    "sns.scatterplot(data=df, x='City', y='Branch')\n",
    "plt.savefig('city&branches.jpg')\n",
    "plt.show()"
   ]
  },
  {
   "cell_type": "markdown",
   "metadata": {
    "id": "QYEDlkoDnPoz"
   },
   "source": [
    "There is a relationship between `City` and `Branch`. Each branch is located at a specific city. So, we can also remove 1 of the two (I remove City in this case)."
   ]
  },
  {
   "cell_type": "code",
   "execution_count": 47,
   "metadata": {
    "colab": {
     "base_uri": "https://localhost:8080/",
     "height": 206
    },
    "id": "8ZEwfGStnHW4",
    "outputId": "da37c4f6-1895-4298-8db6-741d8c3031d6"
   },
   "outputs": [],
   "source": [
    "df = df.drop(columns=\"City\")\n",
    "df.head()"
   ]
  },
  {
   "cell_type": "markdown",
   "metadata": {
    "id": "xUPEWfniUpZp"
   },
   "source": [
    "## Summary\n",
    "\n",
    "1. From the dataset of a total of 1000 customers we see that there is an equal percentage distribution between it's male and female customers at 50% each. The dataset has an even distribution.\n",
    "2. The most preferred payment type is Ewallet at 34.5% followed by Cash at 34.4% and Credit card at 31.1%. These differences are closely to each other ranging between 30% and 34%.\n",
    "3. Ewallet use among male customers at 18.5% was the preferred payment type compared to it's female use at 16%.\n",
    "4. When it comes to sales based on Product Line Categories across all branches, Fashion accessories were the most sold at 17.8% followed by Food and beverages at 17.4% then Electronic accessories at 17%.Sports and travel items came in at fourth position with 16.6% followed by Health and lifestyle products at 16% and the product that had it's sales lowest among the other categories was product line under Health and beauty at 15.2%.\n",
    "5. The supermarket in Yangon city had the highest gross income followed by the one in Mandalay city and Naypytaw city respectively.This is because is the largest city and Yangon is also a trade and logistics hub. Home to the country's main air and sea ports. Mandalay second largest in the country (after Yangon [Rangoon]) focus of regional communications and trade and transportation routes. Naypyidaw is a fully constructed large city but with very few inhabitants compared to its size.\n",
    "6. There is a relation to high gross income with customer type being a member at 50.1% while a Normal customer at 49.9%.\n",
    "7. Ewallet and Credit card have more Member and Normal customer type contributing above 40 gross income compared to both Member and normal customer type using cash.\n",
    "8. Female customers have the most purchases in product lines of (Fashion accessories, Food and beverage, sports and travel) while the male customers have most purchases in Health and beauty with slight purchase difference in Home and lifestyle, electronic accessories.\n",
    "\n",
    "\n",
    "\n",
    "\n"
   ]
  },
  {
   "cell_type": "markdown",
   "metadata": {
    "id": "Tndgi_TOTQqF"
   },
   "source": [
    "## Binomial Experiments:\n",
    "\n",
    "1. Use a binomial experiment to simulate the number of times sales will be recorded in Branch A in Q2 daily. Repeat the simulation for branches B and C, and aggregate the results.\n",
    "2. Simulate the quantity of products that will be sold in each of the branches in Q2 daily. Note the difference between this and the above objective!"
   ]
  },
  {
   "cell_type": "code",
   "execution_count": 48,
   "metadata": {
    "colab": {
     "base_uri": "https://localhost:8080/",
     "height": 206
    },
    "id": "E7H914iwUD1E",
    "outputId": "cbf5b73d-8dca-4032-d590-2b27056e9b15"
   },
   "outputs": [
    {
     "data": {
      "text/html": [
       "<div>\n",
       "<style scoped>\n",
       "    .dataframe tbody tr th:only-of-type {\n",
       "        vertical-align: middle;\n",
       "    }\n",
       "\n",
       "    .dataframe tbody tr th {\n",
       "        vertical-align: top;\n",
       "    }\n",
       "\n",
       "    .dataframe thead th {\n",
       "        text-align: right;\n",
       "    }\n",
       "</style>\n",
       "<table border=\"1\" class=\"dataframe\">\n",
       "  <thead>\n",
       "    <tr style=\"text-align: right;\">\n",
       "      <th></th>\n",
       "      <th>Branch</th>\n",
       "      <th>City</th>\n",
       "      <th>Customer_type</th>\n",
       "      <th>Gender</th>\n",
       "      <th>Product_line</th>\n",
       "      <th>Unit_price</th>\n",
       "      <th>Quantity</th>\n",
       "      <th>Tax_5%</th>\n",
       "      <th>Total</th>\n",
       "      <th>Date</th>\n",
       "      <th>Time</th>\n",
       "      <th>Payment</th>\n",
       "      <th>cogs</th>\n",
       "      <th>gross_income</th>\n",
       "      <th>Rating</th>\n",
       "    </tr>\n",
       "  </thead>\n",
       "  <tbody>\n",
       "    <tr>\n",
       "      <th>0</th>\n",
       "      <td>A</td>\n",
       "      <td>Yangon</td>\n",
       "      <td>Member</td>\n",
       "      <td>Female</td>\n",
       "      <td>Health and beauty</td>\n",
       "      <td>74.69</td>\n",
       "      <td>7</td>\n",
       "      <td>26.1415</td>\n",
       "      <td>548.9715</td>\n",
       "      <td>2022-01-05</td>\n",
       "      <td>13:08</td>\n",
       "      <td>Ewallet</td>\n",
       "      <td>522.83</td>\n",
       "      <td>26.1415</td>\n",
       "      <td>9.1</td>\n",
       "    </tr>\n",
       "    <tr>\n",
       "      <th>1</th>\n",
       "      <td>C</td>\n",
       "      <td>Naypyitaw</td>\n",
       "      <td>Normal</td>\n",
       "      <td>Female</td>\n",
       "      <td>Electronic accessories</td>\n",
       "      <td>15.28</td>\n",
       "      <td>5</td>\n",
       "      <td>3.8200</td>\n",
       "      <td>80.2200</td>\n",
       "      <td>2022-03-08</td>\n",
       "      <td>10:29</td>\n",
       "      <td>Cash</td>\n",
       "      <td>76.40</td>\n",
       "      <td>3.8200</td>\n",
       "      <td>9.6</td>\n",
       "    </tr>\n",
       "    <tr>\n",
       "      <th>2</th>\n",
       "      <td>A</td>\n",
       "      <td>Yangon</td>\n",
       "      <td>Normal</td>\n",
       "      <td>Male</td>\n",
       "      <td>Home and lifestyle</td>\n",
       "      <td>46.33</td>\n",
       "      <td>7</td>\n",
       "      <td>16.2155</td>\n",
       "      <td>340.5255</td>\n",
       "      <td>2022-03-03</td>\n",
       "      <td>13:23</td>\n",
       "      <td>Credit card</td>\n",
       "      <td>324.31</td>\n",
       "      <td>16.2155</td>\n",
       "      <td>7.4</td>\n",
       "    </tr>\n",
       "    <tr>\n",
       "      <th>3</th>\n",
       "      <td>A</td>\n",
       "      <td>Yangon</td>\n",
       "      <td>Member</td>\n",
       "      <td>Male</td>\n",
       "      <td>Health and beauty</td>\n",
       "      <td>58.22</td>\n",
       "      <td>8</td>\n",
       "      <td>23.2880</td>\n",
       "      <td>489.0480</td>\n",
       "      <td>2022-01-27</td>\n",
       "      <td>20:33</td>\n",
       "      <td>Ewallet</td>\n",
       "      <td>465.76</td>\n",
       "      <td>23.2880</td>\n",
       "      <td>8.4</td>\n",
       "    </tr>\n",
       "    <tr>\n",
       "      <th>4</th>\n",
       "      <td>A</td>\n",
       "      <td>Yangon</td>\n",
       "      <td>Normal</td>\n",
       "      <td>Male</td>\n",
       "      <td>Sports and travel</td>\n",
       "      <td>86.31</td>\n",
       "      <td>7</td>\n",
       "      <td>30.2085</td>\n",
       "      <td>634.3785</td>\n",
       "      <td>2022-02-08</td>\n",
       "      <td>10:37</td>\n",
       "      <td>Ewallet</td>\n",
       "      <td>604.17</td>\n",
       "      <td>30.2085</td>\n",
       "      <td>5.3</td>\n",
       "    </tr>\n",
       "  </tbody>\n",
       "</table>\n",
       "</div>"
      ],
      "text/plain": [
       "  Branch       City Customer_type  Gender            Product_line  Unit_price  \\\n",
       "0      A     Yangon        Member  Female       Health and beauty       74.69   \n",
       "1      C  Naypyitaw        Normal  Female  Electronic accessories       15.28   \n",
       "2      A     Yangon        Normal    Male      Home and lifestyle       46.33   \n",
       "3      A     Yangon        Member    Male       Health and beauty       58.22   \n",
       "4      A     Yangon        Normal    Male       Sports and travel       86.31   \n",
       "\n",
       "   Quantity   Tax_5%     Total       Date   Time      Payment    cogs  \\\n",
       "0         7  26.1415  548.9715 2022-01-05  13:08      Ewallet  522.83   \n",
       "1         5   3.8200   80.2200 2022-03-08  10:29         Cash   76.40   \n",
       "2         7  16.2155  340.5255 2022-03-03  13:23  Credit card  324.31   \n",
       "3         8  23.2880  489.0480 2022-01-27  20:33      Ewallet  465.76   \n",
       "4         7  30.2085  634.3785 2022-02-08  10:37      Ewallet  604.17   \n",
       "\n",
       "   gross_income  Rating  \n",
       "0       26.1415     9.1  \n",
       "1        3.8200     9.6  \n",
       "2       16.2155     7.4  \n",
       "3       23.2880     8.4  \n",
       "4       30.2085     5.3  "
      ]
     },
     "execution_count": 48,
     "metadata": {},
     "output_type": "execute_result"
    }
   ],
   "source": [
    "df.head()"
   ]
  },
  {
   "cell_type": "code",
   "execution_count": 49,
   "metadata": {
    "colab": {
     "base_uri": "https://localhost:8080/"
    },
    "id": "mLDcTIKXJDbz",
    "outputId": "60838d51-e4d6-4134-f0b0-16a51e31367e"
   },
   "outputs": [
    {
     "data": {
      "text/plain": [
       "array([12, 11, 14, 14, 12,  9, 16,  9,  9, 10, 13, 16,  8, 20,  8, 13, 11,\n",
       "       12,  8, 17, 12, 13, 18, 10, 12, 17, 14,  9, 11, 11, 14, 12,  9, 14,\n",
       "       11, 16, 14,  9,  6, 10, 10, 12, 19, 11,  8, 10, 13,  9,  8,  7, 10,\n",
       "        8, 11, 17, 17,  8,  8, 13, 13, 10,  6, 10, 11, 12, 16, 10, 18,  7,\n",
       "        9,  8, 11, 12,  6, 11,  9,  8,  6,  8, 13,  7, 15,  6, 14,  8,  9,\n",
       "        6, 18, 11,  9])"
      ]
     },
     "execution_count": 49,
     "metadata": {},
     "output_type": "execute_result"
    }
   ],
   "source": [
    "# total number of times sales were made in a day\n",
    "time_sales = np.array([len(df[df['Date'] == i]) for i in df['Date'].unique()])\n",
    "time_sales"
   ]
  },
  {
   "cell_type": "markdown",
   "metadata": {
    "id": "YyQnWyJ5Q03u"
   },
   "source": [
    "### Question 1a"
   ]
  },
  {
   "cell_type": "markdown",
   "metadata": {
    "id": "Da0Gxiak0lGG"
   },
   "source": [
    "#### Branch A"
   ]
  },
  {
   "cell_type": "code",
   "execution_count": 50,
   "metadata": {
    "colab": {
     "base_uri": "https://localhost:8080/",
     "height": 423
    },
    "id": "rOtYk0iXUEWC",
    "outputId": "997a9a29-5897-4863-ed89-a328f3443b3a"
   },
   "outputs": [
    {
     "data": {
      "text/html": [
       "<div>\n",
       "<style scoped>\n",
       "    .dataframe tbody tr th:only-of-type {\n",
       "        vertical-align: middle;\n",
       "    }\n",
       "\n",
       "    .dataframe tbody tr th {\n",
       "        vertical-align: top;\n",
       "    }\n",
       "\n",
       "    .dataframe thead th {\n",
       "        text-align: right;\n",
       "    }\n",
       "</style>\n",
       "<table border=\"1\" class=\"dataframe\">\n",
       "  <thead>\n",
       "    <tr style=\"text-align: right;\">\n",
       "      <th></th>\n",
       "      <th>Branch</th>\n",
       "      <th>City</th>\n",
       "      <th>Customer_type</th>\n",
       "      <th>Gender</th>\n",
       "      <th>Product_line</th>\n",
       "      <th>Unit_price</th>\n",
       "      <th>Quantity</th>\n",
       "      <th>Tax_5%</th>\n",
       "      <th>Total</th>\n",
       "      <th>Date</th>\n",
       "      <th>Time</th>\n",
       "      <th>Payment</th>\n",
       "      <th>cogs</th>\n",
       "      <th>gross_income</th>\n",
       "      <th>Rating</th>\n",
       "    </tr>\n",
       "  </thead>\n",
       "  <tbody>\n",
       "    <tr>\n",
       "      <th>0</th>\n",
       "      <td>A</td>\n",
       "      <td>Yangon</td>\n",
       "      <td>Member</td>\n",
       "      <td>Female</td>\n",
       "      <td>Health and beauty</td>\n",
       "      <td>74.69</td>\n",
       "      <td>7</td>\n",
       "      <td>26.1415</td>\n",
       "      <td>548.9715</td>\n",
       "      <td>2022-01-05</td>\n",
       "      <td>13:08</td>\n",
       "      <td>Ewallet</td>\n",
       "      <td>522.83</td>\n",
       "      <td>26.1415</td>\n",
       "      <td>9.1</td>\n",
       "    </tr>\n",
       "    <tr>\n",
       "      <th>2</th>\n",
       "      <td>A</td>\n",
       "      <td>Yangon</td>\n",
       "      <td>Normal</td>\n",
       "      <td>Male</td>\n",
       "      <td>Home and lifestyle</td>\n",
       "      <td>46.33</td>\n",
       "      <td>7</td>\n",
       "      <td>16.2155</td>\n",
       "      <td>340.5255</td>\n",
       "      <td>2022-03-03</td>\n",
       "      <td>13:23</td>\n",
       "      <td>Credit card</td>\n",
       "      <td>324.31</td>\n",
       "      <td>16.2155</td>\n",
       "      <td>7.4</td>\n",
       "    </tr>\n",
       "    <tr>\n",
       "      <th>3</th>\n",
       "      <td>A</td>\n",
       "      <td>Yangon</td>\n",
       "      <td>Member</td>\n",
       "      <td>Male</td>\n",
       "      <td>Health and beauty</td>\n",
       "      <td>58.22</td>\n",
       "      <td>8</td>\n",
       "      <td>23.2880</td>\n",
       "      <td>489.0480</td>\n",
       "      <td>2022-01-27</td>\n",
       "      <td>20:33</td>\n",
       "      <td>Ewallet</td>\n",
       "      <td>465.76</td>\n",
       "      <td>23.2880</td>\n",
       "      <td>8.4</td>\n",
       "    </tr>\n",
       "    <tr>\n",
       "      <th>4</th>\n",
       "      <td>A</td>\n",
       "      <td>Yangon</td>\n",
       "      <td>Normal</td>\n",
       "      <td>Male</td>\n",
       "      <td>Sports and travel</td>\n",
       "      <td>86.31</td>\n",
       "      <td>7</td>\n",
       "      <td>30.2085</td>\n",
       "      <td>634.3785</td>\n",
       "      <td>2022-02-08</td>\n",
       "      <td>10:37</td>\n",
       "      <td>Ewallet</td>\n",
       "      <td>604.17</td>\n",
       "      <td>30.2085</td>\n",
       "      <td>5.3</td>\n",
       "    </tr>\n",
       "    <tr>\n",
       "      <th>6</th>\n",
       "      <td>A</td>\n",
       "      <td>Yangon</td>\n",
       "      <td>Member</td>\n",
       "      <td>Female</td>\n",
       "      <td>Electronic accessories</td>\n",
       "      <td>68.84</td>\n",
       "      <td>6</td>\n",
       "      <td>20.6520</td>\n",
       "      <td>433.6920</td>\n",
       "      <td>2022-02-25</td>\n",
       "      <td>14:36</td>\n",
       "      <td>Ewallet</td>\n",
       "      <td>413.04</td>\n",
       "      <td>20.6520</td>\n",
       "      <td>5.8</td>\n",
       "    </tr>\n",
       "    <tr>\n",
       "      <th>...</th>\n",
       "      <td>...</td>\n",
       "      <td>...</td>\n",
       "      <td>...</td>\n",
       "      <td>...</td>\n",
       "      <td>...</td>\n",
       "      <td>...</td>\n",
       "      <td>...</td>\n",
       "      <td>...</td>\n",
       "      <td>...</td>\n",
       "      <td>...</td>\n",
       "      <td>...</td>\n",
       "      <td>...</td>\n",
       "      <td>...</td>\n",
       "      <td>...</td>\n",
       "      <td>...</td>\n",
       "    </tr>\n",
       "    <tr>\n",
       "      <th>990</th>\n",
       "      <td>A</td>\n",
       "      <td>Yangon</td>\n",
       "      <td>Normal</td>\n",
       "      <td>Female</td>\n",
       "      <td>Food and beverages</td>\n",
       "      <td>56.56</td>\n",
       "      <td>5</td>\n",
       "      <td>14.1400</td>\n",
       "      <td>296.9400</td>\n",
       "      <td>2022-03-22</td>\n",
       "      <td>19:06</td>\n",
       "      <td>Credit card</td>\n",
       "      <td>282.80</td>\n",
       "      <td>14.1400</td>\n",
       "      <td>4.5</td>\n",
       "    </tr>\n",
       "    <tr>\n",
       "      <th>992</th>\n",
       "      <td>A</td>\n",
       "      <td>Yangon</td>\n",
       "      <td>Normal</td>\n",
       "      <td>Male</td>\n",
       "      <td>Electronic accessories</td>\n",
       "      <td>58.03</td>\n",
       "      <td>2</td>\n",
       "      <td>5.8030</td>\n",
       "      <td>121.8630</td>\n",
       "      <td>2022-03-10</td>\n",
       "      <td>20:46</td>\n",
       "      <td>Ewallet</td>\n",
       "      <td>116.06</td>\n",
       "      <td>5.8030</td>\n",
       "      <td>8.8</td>\n",
       "    </tr>\n",
       "    <tr>\n",
       "      <th>997</th>\n",
       "      <td>A</td>\n",
       "      <td>Yangon</td>\n",
       "      <td>Member</td>\n",
       "      <td>Male</td>\n",
       "      <td>Food and beverages</td>\n",
       "      <td>31.84</td>\n",
       "      <td>1</td>\n",
       "      <td>1.5920</td>\n",
       "      <td>33.4320</td>\n",
       "      <td>2022-02-09</td>\n",
       "      <td>13:22</td>\n",
       "      <td>Cash</td>\n",
       "      <td>31.84</td>\n",
       "      <td>1.5920</td>\n",
       "      <td>7.7</td>\n",
       "    </tr>\n",
       "    <tr>\n",
       "      <th>998</th>\n",
       "      <td>A</td>\n",
       "      <td>Yangon</td>\n",
       "      <td>Normal</td>\n",
       "      <td>Male</td>\n",
       "      <td>Home and lifestyle</td>\n",
       "      <td>65.82</td>\n",
       "      <td>1</td>\n",
       "      <td>3.2910</td>\n",
       "      <td>69.1110</td>\n",
       "      <td>2022-02-22</td>\n",
       "      <td>15:33</td>\n",
       "      <td>Cash</td>\n",
       "      <td>65.82</td>\n",
       "      <td>3.2910</td>\n",
       "      <td>4.1</td>\n",
       "    </tr>\n",
       "    <tr>\n",
       "      <th>999</th>\n",
       "      <td>A</td>\n",
       "      <td>Yangon</td>\n",
       "      <td>Member</td>\n",
       "      <td>Female</td>\n",
       "      <td>Fashion accessories</td>\n",
       "      <td>88.34</td>\n",
       "      <td>7</td>\n",
       "      <td>30.9190</td>\n",
       "      <td>649.2990</td>\n",
       "      <td>2022-02-18</td>\n",
       "      <td>13:28</td>\n",
       "      <td>Cash</td>\n",
       "      <td>618.38</td>\n",
       "      <td>30.9190</td>\n",
       "      <td>6.6</td>\n",
       "    </tr>\n",
       "  </tbody>\n",
       "</table>\n",
       "<p>340 rows × 15 columns</p>\n",
       "</div>"
      ],
      "text/plain": [
       "    Branch    City Customer_type  Gender            Product_line  Unit_price  \\\n",
       "0        A  Yangon        Member  Female       Health and beauty       74.69   \n",
       "2        A  Yangon        Normal    Male      Home and lifestyle       46.33   \n",
       "3        A  Yangon        Member    Male       Health and beauty       58.22   \n",
       "4        A  Yangon        Normal    Male       Sports and travel       86.31   \n",
       "6        A  Yangon        Member  Female  Electronic accessories       68.84   \n",
       "..     ...     ...           ...     ...                     ...         ...   \n",
       "990      A  Yangon        Normal  Female      Food and beverages       56.56   \n",
       "992      A  Yangon        Normal    Male  Electronic accessories       58.03   \n",
       "997      A  Yangon        Member    Male      Food and beverages       31.84   \n",
       "998      A  Yangon        Normal    Male      Home and lifestyle       65.82   \n",
       "999      A  Yangon        Member  Female     Fashion accessories       88.34   \n",
       "\n",
       "     Quantity   Tax_5%     Total       Date   Time      Payment    cogs  \\\n",
       "0           7  26.1415  548.9715 2022-01-05  13:08      Ewallet  522.83   \n",
       "2           7  16.2155  340.5255 2022-03-03  13:23  Credit card  324.31   \n",
       "3           8  23.2880  489.0480 2022-01-27  20:33      Ewallet  465.76   \n",
       "4           7  30.2085  634.3785 2022-02-08  10:37      Ewallet  604.17   \n",
       "6           6  20.6520  433.6920 2022-02-25  14:36      Ewallet  413.04   \n",
       "..        ...      ...       ...        ...    ...          ...     ...   \n",
       "990         5  14.1400  296.9400 2022-03-22  19:06  Credit card  282.80   \n",
       "992         2   5.8030  121.8630 2022-03-10  20:46      Ewallet  116.06   \n",
       "997         1   1.5920   33.4320 2022-02-09  13:22         Cash   31.84   \n",
       "998         1   3.2910   69.1110 2022-02-22  15:33         Cash   65.82   \n",
       "999         7  30.9190  649.2990 2022-02-18  13:28         Cash  618.38   \n",
       "\n",
       "     gross_income  Rating  \n",
       "0         26.1415     9.1  \n",
       "2         16.2155     7.4  \n",
       "3         23.2880     8.4  \n",
       "4         30.2085     5.3  \n",
       "6         20.6520     5.8  \n",
       "..            ...     ...  \n",
       "990       14.1400     4.5  \n",
       "992        5.8030     8.8  \n",
       "997        1.5920     7.7  \n",
       "998        3.2910     4.1  \n",
       "999       30.9190     6.6  \n",
       "\n",
       "[340 rows x 15 columns]"
      ]
     },
     "execution_count": 50,
     "metadata": {},
     "output_type": "execute_result"
    }
   ],
   "source": [
    "BranchA_df = df.loc[(df.Branch == 'A')]\n",
    "BranchA_df"
   ]
  },
  {
   "cell_type": "code",
   "execution_count": 51,
   "metadata": {
    "colab": {
     "base_uri": "https://localhost:8080/"
    },
    "id": "7Do_aRnhH_R7",
    "outputId": "63ef921e-b25e-447f-d121-cb00a033d6e4"
   },
   "outputs": [
    {
     "data": {
      "text/plain": [
       "array([5, 4, 5, 6, 3, 4, 6, 2, 3, 3, 2, 6, 3, 5, 2, 5, 5, 5, 5, 2, 3, 7,\n",
       "       3, 7, 6, 5, 2, 3, 6, 4, 4, 9, 3, 5, 4, 6, 5, 3, 2, 5, 4, 2, 5, 4,\n",
       "       3, 3, 5, 5, 2, 2, 4, 1, 3, 3, 7, 1, 2, 3, 6, 3, 3, 6, 2, 5, 8, 2,\n",
       "       4, 3, 4, 1, 3, 5, 2, 4, 1, 3, 4, 2, 2, 2, 6, 1, 3, 6, 2, 2, 4, 5,\n",
       "       4])"
      ]
     },
     "execution_count": 51,
     "metadata": {},
     "output_type": "execute_result"
    }
   ],
   "source": [
    "# total number of times sales that were made in branch A daily\n",
    "BranchA_sales = np.array([len(df[(df['Date'] == j) & (BranchA_df['Branch'] == 'A')]) for j in df['Date'].unique()])\n",
    "BranchA_sales "
   ]
  },
  {
   "cell_type": "code",
   "execution_count": 52,
   "metadata": {
    "colab": {
     "base_uri": "https://localhost:8080/"
    },
    "id": "R3N_JA7mOW_u",
    "outputId": "e25b3ae7-0f76-4f80-eebe-b81f38715577"
   },
   "outputs": [
    {
     "data": {
      "text/plain": [
       "array([ 6,  4,  4,  9,  3,  7,  6,  2,  1,  3,  3,  4,  3,  3,  1,  6,  5,\n",
       "        7,  6,  1,  2,  5,  1,  8,  5,  4,  1,  3,  4,  5,  4, 10,  3,  4,\n",
       "        3,  5,  4,  2,  2,  4,  6,  2,  3,  6,  5,  2,  6,  6,  2,  2,  6,\n",
       "        0,  3,  4,  8,  0,  2,  3,  7,  2,  2,  7,  0,  6, 10,  3,  4,  2,\n",
       "        5,  2,  1,  4,  2,  6,  1,  3,  4,  3,  3,  1,  6,  3,  5,  7,  1,\n",
       "        1,  4,  3,  6])"
      ]
     },
     "execution_count": 52,
     "metadata": {},
     "output_type": "execute_result"
    }
   ],
   "source": [
    "# daily probabilities of success for branch A\n",
    "Prob_A = [i/j for i, j in zip(BranchA_sales, time_sales)]\n",
    "\n",
    "# binomial simulation for Branch A\n",
    "rnd.binomial(time_sales, Prob_A)"
   ]
  },
  {
   "cell_type": "code",
   "execution_count": 53,
   "metadata": {
    "colab": {
     "base_uri": "https://localhost:8080/"
    },
    "id": "NlBNbIiCOW78",
    "outputId": "f56b09eb-afd7-456c-9488-31c208947436"
   },
   "outputs": [
    {
     "data": {
      "text/plain": [
       "array([5, 4, 4, 6, 2, 3, 6, 1, 2, 2, 1, 5, 2, 4, 1, 5, 5, 5, 5, 2, 2, 6,\n",
       "       3, 7, 5, 4, 2, 3, 5, 3, 4, 8, 3, 4, 4, 6, 4, 3, 1, 4, 4, 1, 5, 3,\n",
       "       2, 2, 4, 5, 2, 2, 4, 1, 3, 2, 6, 0, 2, 3, 6, 3, 2, 5, 1, 4, 7, 2,\n",
       "       3, 3, 4, 0, 2, 4, 2, 3, 0, 2, 4, 1, 2, 2, 6, 0, 2, 5, 2, 2, 4, 4,\n",
       "       4])"
      ]
     },
     "execution_count": 53,
     "metadata": {},
     "output_type": "execute_result"
    }
   ],
   "source": [
    "# binomial simulation for Branch A with expectation\n",
    "binomial = [(sum(rnd.binomial(a, b, 1000))/1000).astype(int) for a, b in zip (time_sales, Prob_A)]\n",
    "np.array(binomial)"
   ]
  },
  {
   "cell_type": "code",
   "execution_count": 54,
   "metadata": {
    "colab": {
     "base_uri": "https://localhost:8080/"
    },
    "id": "qqGAWzWYOW5v",
    "outputId": "95cedf17-c51c-43f1-f9ce-78d7517da3a5"
   },
   "outputs": [
    {
     "data": {
      "text/plain": [
       "0.34"
      ]
     },
     "execution_count": 54,
     "metadata": {},
     "output_type": "execute_result"
    }
   ],
   "source": [
    "# probability of success in Branch A wrt total events\n",
    "p_BranchA = len(BranchA_df)/len(df)\n",
    "p_BranchA"
   ]
  },
  {
   "cell_type": "code",
   "execution_count": 55,
   "metadata": {
    "colab": {
     "base_uri": "https://localhost:8080/"
    },
    "id": "3WRPaUUrOW3d",
    "outputId": "253525cf-b225-4d40-a4c2-b52f7b13d84f"
   },
   "outputs": [
    {
     "data": {
      "text/plain": [
       "array([ 5,  7,  2,  5,  1,  3,  2,  1,  2,  2,  3,  7,  4,  9,  1,  7,  6,\n",
       "        4,  4,  3,  0,  7,  6,  8,  5,  3, -1,  1,  4,  2,  1,  9,  4,  5,\n",
       "        7,  4,  2,  4,  3,  7,  2,  1,  3,  4,  4, -1,  5,  6,  1,  0,  1,\n",
       "        0,  5,  3,  9,  1,  0,  2,  4,  2,  3,  7,  1,  7,  9,  3,  5,  3,\n",
       "        4,  0,  3,  1,  2,  3,  0,  3,  5,  3,  2,  2,  4,  2,  0,  7,  2,\n",
       "        0,  4,  4,  3])"
      ]
     },
     "execution_count": 55,
     "metadata": {},
     "output_type": "execute_result"
    }
   ],
   "source": [
    "# possible daily outcomes for branch A in Q2\n",
    "binomial_Q2 = [((sum(rnd.binomial(1000, 0.34, 1000))/1000).astype(int) + rnd.binomial(a, b) - len(BranchA_df)) for a, b in zip (time_sales, Prob_A)]\n",
    "np.array(binomial_Q2)"
   ]
  },
  {
   "cell_type": "markdown",
   "metadata": {
    "id": "Nbrv8hdz0vpP"
   },
   "source": [
    "#### Branch B"
   ]
  },
  {
   "cell_type": "code",
   "execution_count": 56,
   "metadata": {
    "colab": {
     "base_uri": "https://localhost:8080/",
     "height": 0
    },
    "id": "veH0fybhUFiK",
    "outputId": "3e49f49e-c088-4e1c-aa68-cdde21c418fc"
   },
   "outputs": [
    {
     "data": {
      "text/html": [
       "<div>\n",
       "<style scoped>\n",
       "    .dataframe tbody tr th:only-of-type {\n",
       "        vertical-align: middle;\n",
       "    }\n",
       "\n",
       "    .dataframe tbody tr th {\n",
       "        vertical-align: top;\n",
       "    }\n",
       "\n",
       "    .dataframe thead th {\n",
       "        text-align: right;\n",
       "    }\n",
       "</style>\n",
       "<table border=\"1\" class=\"dataframe\">\n",
       "  <thead>\n",
       "    <tr style=\"text-align: right;\">\n",
       "      <th></th>\n",
       "      <th>Branch</th>\n",
       "      <th>City</th>\n",
       "      <th>Customer_type</th>\n",
       "      <th>Gender</th>\n",
       "      <th>Product_line</th>\n",
       "      <th>Unit_price</th>\n",
       "      <th>Quantity</th>\n",
       "      <th>Tax_5%</th>\n",
       "      <th>Total</th>\n",
       "      <th>Date</th>\n",
       "      <th>Time</th>\n",
       "      <th>Payment</th>\n",
       "      <th>cogs</th>\n",
       "      <th>gross_income</th>\n",
       "      <th>Rating</th>\n",
       "    </tr>\n",
       "  </thead>\n",
       "  <tbody>\n",
       "    <tr>\n",
       "      <th>9</th>\n",
       "      <td>B</td>\n",
       "      <td>Mandalay</td>\n",
       "      <td>Member</td>\n",
       "      <td>Female</td>\n",
       "      <td>Food and beverages</td>\n",
       "      <td>54.84</td>\n",
       "      <td>3</td>\n",
       "      <td>8.226</td>\n",
       "      <td>172.746</td>\n",
       "      <td>2022-02-20</td>\n",
       "      <td>13:27</td>\n",
       "      <td>Credit card</td>\n",
       "      <td>164.52</td>\n",
       "      <td>8.226</td>\n",
       "      <td>5.9</td>\n",
       "    </tr>\n",
       "    <tr>\n",
       "      <th>10</th>\n",
       "      <td>B</td>\n",
       "      <td>Mandalay</td>\n",
       "      <td>Member</td>\n",
       "      <td>Female</td>\n",
       "      <td>Fashion accessories</td>\n",
       "      <td>14.48</td>\n",
       "      <td>4</td>\n",
       "      <td>2.896</td>\n",
       "      <td>60.816</td>\n",
       "      <td>2022-02-06</td>\n",
       "      <td>18:07</td>\n",
       "      <td>Ewallet</td>\n",
       "      <td>57.92</td>\n",
       "      <td>2.896</td>\n",
       "      <td>4.5</td>\n",
       "    </tr>\n",
       "    <tr>\n",
       "      <th>11</th>\n",
       "      <td>B</td>\n",
       "      <td>Mandalay</td>\n",
       "      <td>Member</td>\n",
       "      <td>Male</td>\n",
       "      <td>Electronic accessories</td>\n",
       "      <td>25.51</td>\n",
       "      <td>4</td>\n",
       "      <td>5.102</td>\n",
       "      <td>107.142</td>\n",
       "      <td>2022-03-09</td>\n",
       "      <td>17:03</td>\n",
       "      <td>Cash</td>\n",
       "      <td>102.04</td>\n",
       "      <td>5.102</td>\n",
       "      <td>6.8</td>\n",
       "    </tr>\n",
       "    <tr>\n",
       "      <th>15</th>\n",
       "      <td>B</td>\n",
       "      <td>Mandalay</td>\n",
       "      <td>Member</td>\n",
       "      <td>Female</td>\n",
       "      <td>Sports and travel</td>\n",
       "      <td>93.72</td>\n",
       "      <td>6</td>\n",
       "      <td>28.116</td>\n",
       "      <td>590.436</td>\n",
       "      <td>2022-01-15</td>\n",
       "      <td>16:19</td>\n",
       "      <td>Cash</td>\n",
       "      <td>562.32</td>\n",
       "      <td>28.116</td>\n",
       "      <td>4.5</td>\n",
       "    </tr>\n",
       "    <tr>\n",
       "      <th>19</th>\n",
       "      <td>B</td>\n",
       "      <td>Mandalay</td>\n",
       "      <td>Normal</td>\n",
       "      <td>Female</td>\n",
       "      <td>Home and lifestyle</td>\n",
       "      <td>40.30</td>\n",
       "      <td>2</td>\n",
       "      <td>4.030</td>\n",
       "      <td>84.630</td>\n",
       "      <td>2022-03-11</td>\n",
       "      <td>15:30</td>\n",
       "      <td>Ewallet</td>\n",
       "      <td>80.60</td>\n",
       "      <td>4.030</td>\n",
       "      <td>4.4</td>\n",
       "    </tr>\n",
       "    <tr>\n",
       "      <th>...</th>\n",
       "      <td>...</td>\n",
       "      <td>...</td>\n",
       "      <td>...</td>\n",
       "      <td>...</td>\n",
       "      <td>...</td>\n",
       "      <td>...</td>\n",
       "      <td>...</td>\n",
       "      <td>...</td>\n",
       "      <td>...</td>\n",
       "      <td>...</td>\n",
       "      <td>...</td>\n",
       "      <td>...</td>\n",
       "      <td>...</td>\n",
       "      <td>...</td>\n",
       "      <td>...</td>\n",
       "    </tr>\n",
       "    <tr>\n",
       "      <th>987</th>\n",
       "      <td>B</td>\n",
       "      <td>Mandalay</td>\n",
       "      <td>Member</td>\n",
       "      <td>Male</td>\n",
       "      <td>Health and beauty</td>\n",
       "      <td>62.00</td>\n",
       "      <td>8</td>\n",
       "      <td>24.800</td>\n",
       "      <td>520.800</td>\n",
       "      <td>2022-01-03</td>\n",
       "      <td>19:08</td>\n",
       "      <td>Credit card</td>\n",
       "      <td>496.00</td>\n",
       "      <td>24.800</td>\n",
       "      <td>6.2</td>\n",
       "    </tr>\n",
       "    <tr>\n",
       "      <th>989</th>\n",
       "      <td>B</td>\n",
       "      <td>Mandalay</td>\n",
       "      <td>Member</td>\n",
       "      <td>Male</td>\n",
       "      <td>Health and beauty</td>\n",
       "      <td>75.37</td>\n",
       "      <td>8</td>\n",
       "      <td>30.148</td>\n",
       "      <td>633.108</td>\n",
       "      <td>2022-01-28</td>\n",
       "      <td>15:46</td>\n",
       "      <td>Credit card</td>\n",
       "      <td>602.96</td>\n",
       "      <td>30.148</td>\n",
       "      <td>8.4</td>\n",
       "    </tr>\n",
       "    <tr>\n",
       "      <th>991</th>\n",
       "      <td>B</td>\n",
       "      <td>Mandalay</td>\n",
       "      <td>Normal</td>\n",
       "      <td>Female</td>\n",
       "      <td>Sports and travel</td>\n",
       "      <td>76.60</td>\n",
       "      <td>10</td>\n",
       "      <td>38.300</td>\n",
       "      <td>804.300</td>\n",
       "      <td>2022-01-24</td>\n",
       "      <td>18:10</td>\n",
       "      <td>Ewallet</td>\n",
       "      <td>766.00</td>\n",
       "      <td>38.300</td>\n",
       "      <td>6.0</td>\n",
       "    </tr>\n",
       "    <tr>\n",
       "      <th>993</th>\n",
       "      <td>B</td>\n",
       "      <td>Mandalay</td>\n",
       "      <td>Normal</td>\n",
       "      <td>Male</td>\n",
       "      <td>Fashion accessories</td>\n",
       "      <td>17.49</td>\n",
       "      <td>10</td>\n",
       "      <td>8.745</td>\n",
       "      <td>183.645</td>\n",
       "      <td>2022-02-22</td>\n",
       "      <td>18:35</td>\n",
       "      <td>Ewallet</td>\n",
       "      <td>174.90</td>\n",
       "      <td>8.745</td>\n",
       "      <td>6.6</td>\n",
       "    </tr>\n",
       "    <tr>\n",
       "      <th>996</th>\n",
       "      <td>B</td>\n",
       "      <td>Mandalay</td>\n",
       "      <td>Normal</td>\n",
       "      <td>Female</td>\n",
       "      <td>Home and lifestyle</td>\n",
       "      <td>97.38</td>\n",
       "      <td>10</td>\n",
       "      <td>48.690</td>\n",
       "      <td>1022.490</td>\n",
       "      <td>2022-03-02</td>\n",
       "      <td>17:16</td>\n",
       "      <td>Ewallet</td>\n",
       "      <td>973.80</td>\n",
       "      <td>48.690</td>\n",
       "      <td>4.4</td>\n",
       "    </tr>\n",
       "  </tbody>\n",
       "</table>\n",
       "<p>332 rows × 15 columns</p>\n",
       "</div>"
      ],
      "text/plain": [
       "    Branch      City Customer_type  Gender            Product_line  \\\n",
       "9        B  Mandalay        Member  Female      Food and beverages   \n",
       "10       B  Mandalay        Member  Female     Fashion accessories   \n",
       "11       B  Mandalay        Member    Male  Electronic accessories   \n",
       "15       B  Mandalay        Member  Female       Sports and travel   \n",
       "19       B  Mandalay        Normal  Female      Home and lifestyle   \n",
       "..     ...       ...           ...     ...                     ...   \n",
       "987      B  Mandalay        Member    Male       Health and beauty   \n",
       "989      B  Mandalay        Member    Male       Health and beauty   \n",
       "991      B  Mandalay        Normal  Female       Sports and travel   \n",
       "993      B  Mandalay        Normal    Male     Fashion accessories   \n",
       "996      B  Mandalay        Normal  Female      Home and lifestyle   \n",
       "\n",
       "     Unit_price  Quantity  Tax_5%     Total       Date   Time      Payment  \\\n",
       "9         54.84         3   8.226   172.746 2022-02-20  13:27  Credit card   \n",
       "10        14.48         4   2.896    60.816 2022-02-06  18:07      Ewallet   \n",
       "11        25.51         4   5.102   107.142 2022-03-09  17:03         Cash   \n",
       "15        93.72         6  28.116   590.436 2022-01-15  16:19         Cash   \n",
       "19        40.30         2   4.030    84.630 2022-03-11  15:30      Ewallet   \n",
       "..          ...       ...     ...       ...        ...    ...          ...   \n",
       "987       62.00         8  24.800   520.800 2022-01-03  19:08  Credit card   \n",
       "989       75.37         8  30.148   633.108 2022-01-28  15:46  Credit card   \n",
       "991       76.60        10  38.300   804.300 2022-01-24  18:10      Ewallet   \n",
       "993       17.49        10   8.745   183.645 2022-02-22  18:35      Ewallet   \n",
       "996       97.38        10  48.690  1022.490 2022-03-02  17:16      Ewallet   \n",
       "\n",
       "       cogs  gross_income  Rating  \n",
       "9    164.52         8.226     5.9  \n",
       "10    57.92         2.896     4.5  \n",
       "11   102.04         5.102     6.8  \n",
       "15   562.32        28.116     4.5  \n",
       "19    80.60         4.030     4.4  \n",
       "..      ...           ...     ...  \n",
       "987  496.00        24.800     6.2  \n",
       "989  602.96        30.148     8.4  \n",
       "991  766.00        38.300     6.0  \n",
       "993  174.90         8.745     6.6  \n",
       "996  973.80        48.690     4.4  \n",
       "\n",
       "[332 rows x 15 columns]"
      ]
     },
     "execution_count": 56,
     "metadata": {},
     "output_type": "execute_result"
    }
   ],
   "source": [
    "BranchB_df = df.loc[(df.Branch == 'B')]\n",
    "BranchB_df"
   ]
  },
  {
   "cell_type": "code",
   "execution_count": 57,
   "metadata": {
    "colab": {
     "base_uri": "https://localhost:8080/"
    },
    "id": "6IQeuuQYU-4S",
    "outputId": "cb4e9421-fb65-4bdd-b9a9-61acc0966a00"
   },
   "outputs": [
    {
     "data": {
      "text/plain": [
       "array([ 3,  1,  3,  2,  6,  2,  8,  3,  3,  6,  5,  6,  3,  6,  4,  5,  3,\n",
       "        3,  1, 10,  8,  2,  9,  3,  3,  7,  6,  3,  1,  4,  4,  1,  3,  6,\n",
       "        4,  3,  5,  2,  2,  4,  2,  5,  7,  6,  2,  3,  6,  2,  3,  2,  3,\n",
       "        2,  6, 10,  0,  4,  4,  4,  3,  5,  0,  1,  4,  3,  3,  3,  6,  1,\n",
       "        2,  4,  5,  3,  3,  3,  2,  3,  1,  3,  5,  2,  6,  2,  7,  0,  6,\n",
       "        2,  5,  4,  1])"
      ]
     },
     "execution_count": 57,
     "metadata": {},
     "output_type": "execute_result"
    }
   ],
   "source": [
    "# total number of times sales that were made in branch B daily\n",
    "BranchB_sales = np.array([len(df[(df['Date'] == j) & (BranchB_df['Branch'] == 'B')]) for j in df['Date'].unique()])\n",
    "BranchB_sales "
   ]
  },
  {
   "cell_type": "code",
   "execution_count": 58,
   "metadata": {
    "colab": {
     "base_uri": "https://localhost:8080/"
    },
    "id": "P22ulK1zU-0x",
    "outputId": "087c422c-6419-49ad-f4a8-8bfcff0ee2c1"
   },
   "outputs": [
    {
     "data": {
      "text/plain": [
       "array([ 3,  2,  3,  3,  6,  7,  7,  5,  5,  4,  5,  4,  3,  9,  4,  6,  2,\n",
       "        5,  0, 10,  8,  1,  7,  5,  5,  7,  3,  3,  0,  2,  3,  1,  2,  7,\n",
       "        3,  5,  9,  0,  1,  5,  2,  7, 10,  6,  2,  1,  7,  2,  2,  0,  1,\n",
       "        3,  6, 12,  0,  3,  3,  7,  5,  3,  0,  2,  6,  4,  3,  4,  6,  1,\n",
       "        2,  5,  8,  5,  3,  3,  2,  6,  1,  3,  6,  3,  6,  2,  7,  0,  6,\n",
       "        2,  9,  2,  3])"
      ]
     },
     "execution_count": 58,
     "metadata": {},
     "output_type": "execute_result"
    }
   ],
   "source": [
    "# daily probabilities of success for branch B\n",
    "Prob_B = [i/j for i, j in zip(BranchB_sales, time_sales)]\n",
    "\n",
    "# binomial simulation for Branch B\n",
    "rnd.binomial(time_sales, Prob_B)"
   ]
  },
  {
   "cell_type": "code",
   "execution_count": 59,
   "metadata": {
    "colab": {
     "base_uri": "https://localhost:8080/"
    },
    "id": "x5zZIEUBU-yX",
    "outputId": "f645d09a-fb10-442a-81b9-e07b2004a192"
   },
   "outputs": [
    {
     "data": {
      "text/plain": [
       "array([ 2,  1,  2,  1,  6,  1,  8,  2,  3,  5,  4,  6,  2,  5,  3,  5,  3,\n",
       "        3,  1, 10,  7,  1,  8,  3,  3,  7,  5,  3,  1,  4,  4,  1,  2,  5,\n",
       "        4,  3,  5,  1,  1,  3,  2,  4,  7,  5,  2,  3,  5,  2,  3,  1,  2,\n",
       "        1,  6, 10,  0,  3,  3,  4,  2,  5,  0,  0,  3,  3,  3,  3,  6,  1,\n",
       "        1,  3,  5,  3,  2,  3,  1,  2,  0,  2,  5,  1,  6,  2,  7,  0,  6,\n",
       "        2,  4,  3,  0])"
      ]
     },
     "execution_count": 59,
     "metadata": {},
     "output_type": "execute_result"
    }
   ],
   "source": [
    "# binomial simulation for Branch B with expectation\n",
    "binomialB = [(sum(rnd.binomial(a, b, 1000))/1000).astype(int) for a, b in zip (time_sales, Prob_B)]\n",
    "np.array(binomialB)"
   ]
  },
  {
   "cell_type": "code",
   "execution_count": 60,
   "metadata": {
    "colab": {
     "base_uri": "https://localhost:8080/"
    },
    "id": "EzWqBsE0U-tT",
    "outputId": "b884b7f4-8718-4f39-889d-03e42b464f42"
   },
   "outputs": [
    {
     "data": {
      "text/plain": [
       "0.332"
      ]
     },
     "execution_count": 60,
     "metadata": {},
     "output_type": "execute_result"
    }
   ],
   "source": [
    "#probability of success in Branch B wrt total events\n",
    "p_BranchB = len(BranchB_df)/len(df)\n",
    "p_BranchB"
   ]
  },
  {
   "cell_type": "code",
   "execution_count": 61,
   "metadata": {
    "colab": {
     "base_uri": "https://localhost:8080/"
    },
    "id": "XJrrLTjMU-jC",
    "outputId": "49b3226d-70af-4d02-e2bb-e080cb958812"
   },
   "outputs": [
    {
     "data": {
      "text/plain": [
       "array([ 0,  0,  0,  1,  8,  2, 11,  3,  3,  3,  6,  6,  2,  5,  6,  6,  4,\n",
       "        2, -1, 10,  8,  1,  8,  3,  5,  7,  9,  2,  0,  5,  4,  1,  1,  3,\n",
       "        5,  3,  5,  1,  1,  4,  3,  8,  7,  5,  0,  4,  4,  4,  5,  2,  2,\n",
       "        1,  2,  6,  0,  6,  3,  1,  5,  8,  0,  1,  2, -1,  5,  1,  5,  1,\n",
       "        3,  5,  5,  1, -1,  2,  0,  1,  1,  4,  6,  2,  5,  1,  3,  0,  6,\n",
       "        1,  8,  4,  0])"
      ]
     },
     "execution_count": 61,
     "metadata": {},
     "output_type": "execute_result"
    }
   ],
   "source": [
    "#possible daily outcomes for branch B in Q2\n",
    "binomialB_Q2 = [((sum(rnd.binomial(1000, 0.332, 1000))/1000).astype(int) + rnd.binomial(a, b) - len(BranchB_df)) for a, b in zip (time_sales, Prob_B)]\n",
    "np.array(binomialB_Q2)"
   ]
  },
  {
   "cell_type": "markdown",
   "metadata": {
    "id": "Op5Twa2k0912"
   },
   "source": [
    "#### Branch C"
   ]
  },
  {
   "cell_type": "code",
   "execution_count": 62,
   "metadata": {
    "colab": {
     "base_uri": "https://localhost:8080/",
     "height": 423
    },
    "id": "jGilYK9e1LNj",
    "outputId": "0b87eaa2-e592-41b0-be72-a0562d869bd6"
   },
   "outputs": [
    {
     "data": {
      "text/html": [
       "<div>\n",
       "<style scoped>\n",
       "    .dataframe tbody tr th:only-of-type {\n",
       "        vertical-align: middle;\n",
       "    }\n",
       "\n",
       "    .dataframe tbody tr th {\n",
       "        vertical-align: top;\n",
       "    }\n",
       "\n",
       "    .dataframe thead th {\n",
       "        text-align: right;\n",
       "    }\n",
       "</style>\n",
       "<table border=\"1\" class=\"dataframe\">\n",
       "  <thead>\n",
       "    <tr style=\"text-align: right;\">\n",
       "      <th></th>\n",
       "      <th>Branch</th>\n",
       "      <th>City</th>\n",
       "      <th>Customer_type</th>\n",
       "      <th>Gender</th>\n",
       "      <th>Product_line</th>\n",
       "      <th>Unit_price</th>\n",
       "      <th>Quantity</th>\n",
       "      <th>Tax_5%</th>\n",
       "      <th>Total</th>\n",
       "      <th>Date</th>\n",
       "      <th>Time</th>\n",
       "      <th>Payment</th>\n",
       "      <th>cogs</th>\n",
       "      <th>gross_income</th>\n",
       "      <th>Rating</th>\n",
       "    </tr>\n",
       "  </thead>\n",
       "  <tbody>\n",
       "    <tr>\n",
       "      <th>1</th>\n",
       "      <td>C</td>\n",
       "      <td>Naypyitaw</td>\n",
       "      <td>Normal</td>\n",
       "      <td>Female</td>\n",
       "      <td>Electronic accessories</td>\n",
       "      <td>15.28</td>\n",
       "      <td>5</td>\n",
       "      <td>3.8200</td>\n",
       "      <td>80.2200</td>\n",
       "      <td>2022-03-08</td>\n",
       "      <td>10:29</td>\n",
       "      <td>Cash</td>\n",
       "      <td>76.40</td>\n",
       "      <td>3.8200</td>\n",
       "      <td>9.6</td>\n",
       "    </tr>\n",
       "    <tr>\n",
       "      <th>5</th>\n",
       "      <td>C</td>\n",
       "      <td>Naypyitaw</td>\n",
       "      <td>Normal</td>\n",
       "      <td>Male</td>\n",
       "      <td>Electronic accessories</td>\n",
       "      <td>85.39</td>\n",
       "      <td>7</td>\n",
       "      <td>29.8865</td>\n",
       "      <td>627.6165</td>\n",
       "      <td>2022-03-25</td>\n",
       "      <td>18:30</td>\n",
       "      <td>Ewallet</td>\n",
       "      <td>597.73</td>\n",
       "      <td>29.8865</td>\n",
       "      <td>4.1</td>\n",
       "    </tr>\n",
       "    <tr>\n",
       "      <th>7</th>\n",
       "      <td>C</td>\n",
       "      <td>Naypyitaw</td>\n",
       "      <td>Normal</td>\n",
       "      <td>Female</td>\n",
       "      <td>Home and lifestyle</td>\n",
       "      <td>73.56</td>\n",
       "      <td>10</td>\n",
       "      <td>36.7800</td>\n",
       "      <td>772.3800</td>\n",
       "      <td>2022-02-24</td>\n",
       "      <td>11:38</td>\n",
       "      <td>Ewallet</td>\n",
       "      <td>735.60</td>\n",
       "      <td>36.7800</td>\n",
       "      <td>8.0</td>\n",
       "    </tr>\n",
       "    <tr>\n",
       "      <th>20</th>\n",
       "      <td>C</td>\n",
       "      <td>Naypyitaw</td>\n",
       "      <td>Member</td>\n",
       "      <td>Male</td>\n",
       "      <td>Electronic accessories</td>\n",
       "      <td>86.04</td>\n",
       "      <td>5</td>\n",
       "      <td>21.5100</td>\n",
       "      <td>451.7100</td>\n",
       "      <td>2022-02-25</td>\n",
       "      <td>11:24</td>\n",
       "      <td>Ewallet</td>\n",
       "      <td>430.20</td>\n",
       "      <td>21.5100</td>\n",
       "      <td>4.8</td>\n",
       "    </tr>\n",
       "    <tr>\n",
       "      <th>34</th>\n",
       "      <td>C</td>\n",
       "      <td>Naypyitaw</td>\n",
       "      <td>Member</td>\n",
       "      <td>Female</td>\n",
       "      <td>Food and beverages</td>\n",
       "      <td>99.42</td>\n",
       "      <td>4</td>\n",
       "      <td>19.8840</td>\n",
       "      <td>417.5640</td>\n",
       "      <td>2022-02-06</td>\n",
       "      <td>10:42</td>\n",
       "      <td>Ewallet</td>\n",
       "      <td>397.68</td>\n",
       "      <td>19.8840</td>\n",
       "      <td>7.5</td>\n",
       "    </tr>\n",
       "    <tr>\n",
       "      <th>...</th>\n",
       "      <td>...</td>\n",
       "      <td>...</td>\n",
       "      <td>...</td>\n",
       "      <td>...</td>\n",
       "      <td>...</td>\n",
       "      <td>...</td>\n",
       "      <td>...</td>\n",
       "      <td>...</td>\n",
       "      <td>...</td>\n",
       "      <td>...</td>\n",
       "      <td>...</td>\n",
       "      <td>...</td>\n",
       "      <td>...</td>\n",
       "      <td>...</td>\n",
       "      <td>...</td>\n",
       "    </tr>\n",
       "    <tr>\n",
       "      <th>983</th>\n",
       "      <td>C</td>\n",
       "      <td>Naypyitaw</td>\n",
       "      <td>Normal</td>\n",
       "      <td>Male</td>\n",
       "      <td>Health and beauty</td>\n",
       "      <td>99.96</td>\n",
       "      <td>7</td>\n",
       "      <td>34.9860</td>\n",
       "      <td>734.7060</td>\n",
       "      <td>2022-01-23</td>\n",
       "      <td>10:33</td>\n",
       "      <td>Cash</td>\n",
       "      <td>699.72</td>\n",
       "      <td>34.9860</td>\n",
       "      <td>6.1</td>\n",
       "    </tr>\n",
       "    <tr>\n",
       "      <th>984</th>\n",
       "      <td>C</td>\n",
       "      <td>Naypyitaw</td>\n",
       "      <td>Normal</td>\n",
       "      <td>Male</td>\n",
       "      <td>Electronic accessories</td>\n",
       "      <td>96.37</td>\n",
       "      <td>7</td>\n",
       "      <td>33.7295</td>\n",
       "      <td>708.3195</td>\n",
       "      <td>2022-01-09</td>\n",
       "      <td>11:40</td>\n",
       "      <td>Cash</td>\n",
       "      <td>674.59</td>\n",
       "      <td>33.7295</td>\n",
       "      <td>6.0</td>\n",
       "    </tr>\n",
       "    <tr>\n",
       "      <th>988</th>\n",
       "      <td>C</td>\n",
       "      <td>Naypyitaw</td>\n",
       "      <td>Member</td>\n",
       "      <td>Male</td>\n",
       "      <td>Electronic accessories</td>\n",
       "      <td>82.34</td>\n",
       "      <td>10</td>\n",
       "      <td>41.1700</td>\n",
       "      <td>864.5700</td>\n",
       "      <td>2022-03-29</td>\n",
       "      <td>19:12</td>\n",
       "      <td>Ewallet</td>\n",
       "      <td>823.40</td>\n",
       "      <td>41.1700</td>\n",
       "      <td>4.3</td>\n",
       "    </tr>\n",
       "    <tr>\n",
       "      <th>994</th>\n",
       "      <td>C</td>\n",
       "      <td>Naypyitaw</td>\n",
       "      <td>Member</td>\n",
       "      <td>Female</td>\n",
       "      <td>Electronic accessories</td>\n",
       "      <td>60.95</td>\n",
       "      <td>1</td>\n",
       "      <td>3.0475</td>\n",
       "      <td>63.9975</td>\n",
       "      <td>2022-02-18</td>\n",
       "      <td>11:40</td>\n",
       "      <td>Ewallet</td>\n",
       "      <td>60.95</td>\n",
       "      <td>3.0475</td>\n",
       "      <td>5.9</td>\n",
       "    </tr>\n",
       "    <tr>\n",
       "      <th>995</th>\n",
       "      <td>C</td>\n",
       "      <td>Naypyitaw</td>\n",
       "      <td>Normal</td>\n",
       "      <td>Male</td>\n",
       "      <td>Health and beauty</td>\n",
       "      <td>40.35</td>\n",
       "      <td>1</td>\n",
       "      <td>2.0175</td>\n",
       "      <td>42.3675</td>\n",
       "      <td>2022-01-29</td>\n",
       "      <td>13:46</td>\n",
       "      <td>Ewallet</td>\n",
       "      <td>40.35</td>\n",
       "      <td>2.0175</td>\n",
       "      <td>6.2</td>\n",
       "    </tr>\n",
       "  </tbody>\n",
       "</table>\n",
       "<p>328 rows × 15 columns</p>\n",
       "</div>"
      ],
      "text/plain": [
       "    Branch       City Customer_type  Gender            Product_line  \\\n",
       "1        C  Naypyitaw        Normal  Female  Electronic accessories   \n",
       "5        C  Naypyitaw        Normal    Male  Electronic accessories   \n",
       "7        C  Naypyitaw        Normal  Female      Home and lifestyle   \n",
       "20       C  Naypyitaw        Member    Male  Electronic accessories   \n",
       "34       C  Naypyitaw        Member  Female      Food and beverages   \n",
       "..     ...        ...           ...     ...                     ...   \n",
       "983      C  Naypyitaw        Normal    Male       Health and beauty   \n",
       "984      C  Naypyitaw        Normal    Male  Electronic accessories   \n",
       "988      C  Naypyitaw        Member    Male  Electronic accessories   \n",
       "994      C  Naypyitaw        Member  Female  Electronic accessories   \n",
       "995      C  Naypyitaw        Normal    Male       Health and beauty   \n",
       "\n",
       "     Unit_price  Quantity   Tax_5%     Total       Date   Time  Payment  \\\n",
       "1         15.28         5   3.8200   80.2200 2022-03-08  10:29     Cash   \n",
       "5         85.39         7  29.8865  627.6165 2022-03-25  18:30  Ewallet   \n",
       "7         73.56        10  36.7800  772.3800 2022-02-24  11:38  Ewallet   \n",
       "20        86.04         5  21.5100  451.7100 2022-02-25  11:24  Ewallet   \n",
       "34        99.42         4  19.8840  417.5640 2022-02-06  10:42  Ewallet   \n",
       "..          ...       ...      ...       ...        ...    ...      ...   \n",
       "983       99.96         7  34.9860  734.7060 2022-01-23  10:33     Cash   \n",
       "984       96.37         7  33.7295  708.3195 2022-01-09  11:40     Cash   \n",
       "988       82.34        10  41.1700  864.5700 2022-03-29  19:12  Ewallet   \n",
       "994       60.95         1   3.0475   63.9975 2022-02-18  11:40  Ewallet   \n",
       "995       40.35         1   2.0175   42.3675 2022-01-29  13:46  Ewallet   \n",
       "\n",
       "       cogs  gross_income  Rating  \n",
       "1     76.40        3.8200     9.6  \n",
       "5    597.73       29.8865     4.1  \n",
       "7    735.60       36.7800     8.0  \n",
       "20   430.20       21.5100     4.8  \n",
       "34   397.68       19.8840     7.5  \n",
       "..      ...           ...     ...  \n",
       "983  699.72       34.9860     6.1  \n",
       "984  674.59       33.7295     6.0  \n",
       "988  823.40       41.1700     4.3  \n",
       "994   60.95        3.0475     5.9  \n",
       "995   40.35        2.0175     6.2  \n",
       "\n",
       "[328 rows x 15 columns]"
      ]
     },
     "execution_count": 62,
     "metadata": {},
     "output_type": "execute_result"
    }
   ],
   "source": [
    "BranchC_df = df.loc[(df.Branch == 'C')]\n",
    "BranchC_df"
   ]
  },
  {
   "cell_type": "code",
   "execution_count": 63,
   "metadata": {
    "colab": {
     "base_uri": "https://localhost:8080/"
    },
    "id": "nkd_HDx9WsAl",
    "outputId": "d6bda378-121a-4db3-810c-a9ed2ea78a53"
   },
   "outputs": [
    {
     "data": {
      "text/plain": [
       "array([ 4,  6,  6,  6,  3,  3,  2,  4,  3,  1,  6,  4,  2,  9,  2,  3,  3,\n",
       "        4,  2,  5,  1,  4,  6,  0,  3,  5,  6,  3,  4,  3,  6,  2,  3,  3,\n",
       "        3,  7,  4,  4,  2,  1,  4,  5,  7,  1,  3,  4,  2,  2,  3,  3,  3,\n",
       "        5,  2,  4, 10,  3,  2,  6,  4,  2,  3,  3,  5,  4,  5,  5,  8,  3,\n",
       "        3,  3,  3,  4,  1,  4,  6,  2,  1,  3,  6,  3,  3,  3,  4,  2,  1,\n",
       "        2,  9,  2,  4])"
      ]
     },
     "execution_count": 63,
     "metadata": {},
     "output_type": "execute_result"
    }
   ],
   "source": [
    "# total number of times sales that were made in branch C daily\n",
    "BranchC_sales = np.array([len(df[(df['Date'] == j) & (BranchC_df['Branch'] == 'C')]) for j in df['Date'].unique()])\n",
    "BranchC_sales "
   ]
  },
  {
   "cell_type": "code",
   "execution_count": 64,
   "metadata": {
    "colab": {
     "base_uri": "https://localhost:8080/"
    },
    "id": "OUI7Dsl_Wr9f",
    "outputId": "4f849dd9-b55a-4e1c-cf3d-f2b5316dae31"
   },
   "outputs": [
    {
     "data": {
      "text/plain": [
       "array([ 2, 10,  8,  5,  5,  5,  1,  6,  2,  1,  6,  7,  2,  7,  4,  4,  7,\n",
       "        2,  1,  2,  1,  3,  9,  0,  5,  6,  6,  4,  2,  0,  6,  2,  3,  3,\n",
       "        4,  4,  2,  6,  0,  0,  3,  4,  8,  1,  4,  4,  4,  4,  4,  3,  5,\n",
       "        2,  2,  2, 11,  4,  3,  8,  2,  1,  4,  5,  3,  6,  4,  7,  7,  2,\n",
       "        4,  4,  4,  3,  0,  5,  7,  1,  2,  2,  7,  3,  2,  2,  3,  3,  1,\n",
       "        3, 12,  1,  4])"
      ]
     },
     "execution_count": 64,
     "metadata": {},
     "output_type": "execute_result"
    }
   ],
   "source": [
    "# daily probabilities of success for branch C\n",
    "Prob_C = [i/j for i, j in zip(BranchC_sales, time_sales)]\n",
    "\n",
    "# binomial simulation for Branch C\n",
    "rnd.binomial(time_sales, Prob_C)"
   ]
  },
  {
   "cell_type": "code",
   "execution_count": 65,
   "metadata": {
    "colab": {
     "base_uri": "https://localhost:8080/"
    },
    "id": "bzao9i0uWr6s",
    "outputId": "4fb4e23c-facb-48ec-ddbb-d79bfe7a395d"
   },
   "outputs": [
    {
     "data": {
      "text/plain": [
       "array([4, 6, 5, 6, 2, 3, 2, 4, 3, 1, 6, 3, 1, 8, 2, 3, 3, 3, 1, 5, 1, 4,\n",
       "       5, 0, 2, 5, 5, 2, 4, 3, 6, 2, 3, 2, 2, 6, 3, 4, 1, 0, 4, 5, 6, 1,\n",
       "       2, 4, 2, 2, 2, 2, 2, 4, 1, 3, 9, 2, 1, 5, 3, 2, 2, 3, 5, 3, 5, 4,\n",
       "       7, 3, 3, 3, 3, 3, 1, 3, 5, 2, 1, 3, 5, 2, 2, 3, 3, 1, 0, 1, 8, 2,\n",
       "       3])"
      ]
     },
     "execution_count": 65,
     "metadata": {},
     "output_type": "execute_result"
    }
   ],
   "source": [
    "# binomial simulation for Branch C with expectation\n",
    "binomialC = [(sum(rnd.binomial(a, b, 1000))/1000).astype(int) for a, b in zip (time_sales, Prob_C)]\n",
    "np.array(binomialC)"
   ]
  },
  {
   "cell_type": "code",
   "execution_count": 66,
   "metadata": {
    "colab": {
     "base_uri": "https://localhost:8080/"
    },
    "id": "e57uDMihWr4b",
    "outputId": "360321e4-197f-44a7-e8ff-a99cc896199c"
   },
   "outputs": [
    {
     "data": {
      "text/plain": [
       "0.328"
      ]
     },
     "execution_count": 66,
     "metadata": {},
     "output_type": "execute_result"
    }
   ],
   "source": [
    "#probability of success in Branch C wrt total events\n",
    "p_BranchC = len(BranchC_df)/len(df)\n",
    "p_BranchC"
   ]
  },
  {
   "cell_type": "code",
   "execution_count": 67,
   "metadata": {
    "colab": {
     "base_uri": "https://localhost:8080/"
    },
    "id": "VEd4oyyXWr1R",
    "outputId": "9dcfe0bc-56f4-465a-8e55-84e62f1e1b48"
   },
   "outputs": [
    {
     "data": {
      "text/plain": [
       "array([ 1,  8,  5,  4,  4,  3,  3,  5,  3, -1,  5,  4,  1,  8,  1,  4,  2,\n",
       "        1,  0,  4,  2,  3,  5, -1,  1,  3,  2,  3,  2,  5,  5,  1,  1,  3,\n",
       "        2,  8,  6,  2,  2,  1,  3,  7,  6,  0,  7,  0,  2,  0,  2,  4,  6,\n",
       "        4,  1,  1, 11,  7,  0,  3,  3, -1,  2,  0,  4,  5,  3,  2, 10,  2,\n",
       "        3,  3,  5,  1,  0,  6,  6,  0,  0,  2,  5,  1,  3,  2,  7,  2, -1,\n",
       "        1,  8,  2,  3])"
      ]
     },
     "execution_count": 67,
     "metadata": {},
     "output_type": "execute_result"
    }
   ],
   "source": [
    "#possible daily outcomes for branch C in Q2\n",
    "binomialC_Q2 = [((sum(rnd.binomial(1000, 0.328, 1000))/1000).astype(int) + rnd.binomial(a, b) - len(BranchC_df)) for a, b in zip (time_sales, Prob_C)]\n",
    "np.array(binomialC_Q2)"
   ]
  },
  {
   "cell_type": "markdown",
   "metadata": {
    "id": "xK7l1lkWZNkR"
   },
   "source": [
    "#### Aggregating the Results"
   ]
  },
  {
   "cell_type": "code",
   "execution_count": 68,
   "metadata": {
    "colab": {
     "base_uri": "https://localhost:8080/"
    },
    "id": "cLBzbMurfCbC",
    "outputId": "d80e71b1-9f52-48fd-adfe-0d13300c7329"
   },
   "outputs": [
    {
     "name": "stdout",
     "output_type": "stream",
     "text": [
      "['2022-04-01', '2022-04-02', '2022-04-03', '2022-04-04', '2022-04-05', '2022-04-06', '2022-04-07', '2022-04-08', '2022-04-09', '2022-04-10', '2022-04-11', '2022-04-12', '2022-04-13', '2022-04-14', '2022-04-15', '2022-04-16', '2022-04-17', '2022-04-18', '2022-04-19', '2022-04-20', '2022-04-21', '2022-04-22', '2022-04-23', '2022-04-24', '2022-04-25', '2022-04-26', '2022-04-27', '2022-04-28', '2022-04-29', '2022-04-30', '2022-05-01', '2022-05-02', '2022-05-03', '2022-05-04', '2022-05-05', '2022-05-06', '2022-05-07', '2022-05-08', '2022-05-09', '2022-05-10', '2022-05-11', '2022-05-12', '2022-05-13', '2022-05-14', '2022-05-15', '2022-05-16', '2022-05-17', '2022-05-18', '2022-05-19', '2022-05-20', '2022-05-21', '2022-05-22', '2022-05-23', '2022-05-24', '2022-05-25', '2022-05-26', '2022-05-27', '2022-05-28', '2022-05-29', '2022-05-30', '2022-05-31', '2022-06-01', '2022-06-02', '2022-06-03', '2022-06-04', '2022-06-05', '2022-06-06', '2022-06-07', '2022-06-08', '2022-06-09', '2022-06-10', '2022-06-11', '2022-06-12', '2022-06-13', '2022-06-14', '2022-06-15', '2022-06-16', '2022-06-17', '2022-06-18', '2022-06-19', '2022-06-20', '2022-06-21', '2022-06-22', '2022-06-23', '2022-06-24', '2022-06-25', '2022-06-26', '2022-06-27', '2022-06-28', '2022-06-29', '2022-06-30']\n"
     ]
    }
   ],
   "source": [
    "#generate dates for Q2\n",
    "Date = []\n",
    "\n",
    "new_date = pd.date_range(start=\"2022-04-01\", periods=91).to_pydatetime().tolist()\n",
    "\n",
    "for date in new_date:\n",
    "    a = str(date)\n",
    "    Date.append(a.split(' ')[0])\n",
    "print(Date)"
   ]
  },
  {
   "cell_type": "code",
   "execution_count": 69,
   "metadata": {
    "colab": {
     "base_uri": "https://localhost:8080/",
     "height": 423
    },
    "id": "f6E069NIbn4c",
    "outputId": "8fe617b0-c4dc-42ca-a496-4b0fa09910f8"
   },
   "outputs": [
    {
     "data": {
      "text/html": [
       "<div>\n",
       "<style scoped>\n",
       "    .dataframe tbody tr th:only-of-type {\n",
       "        vertical-align: middle;\n",
       "    }\n",
       "\n",
       "    .dataframe tbody tr th {\n",
       "        vertical-align: top;\n",
       "    }\n",
       "\n",
       "    .dataframe thead th {\n",
       "        text-align: right;\n",
       "    }\n",
       "</style>\n",
       "<table border=\"1\" class=\"dataframe\">\n",
       "  <thead>\n",
       "    <tr style=\"text-align: right;\">\n",
       "      <th></th>\n",
       "      <th>Date</th>\n",
       "      <th>Branch A</th>\n",
       "      <th>Branch B</th>\n",
       "      <th>Branch C</th>\n",
       "    </tr>\n",
       "  </thead>\n",
       "  <tbody>\n",
       "    <tr>\n",
       "      <th>0</th>\n",
       "      <td>2022-04-01</td>\n",
       "      <td>5</td>\n",
       "      <td>0</td>\n",
       "      <td>1</td>\n",
       "    </tr>\n",
       "    <tr>\n",
       "      <th>1</th>\n",
       "      <td>2022-04-02</td>\n",
       "      <td>7</td>\n",
       "      <td>0</td>\n",
       "      <td>8</td>\n",
       "    </tr>\n",
       "    <tr>\n",
       "      <th>2</th>\n",
       "      <td>2022-04-03</td>\n",
       "      <td>2</td>\n",
       "      <td>0</td>\n",
       "      <td>5</td>\n",
       "    </tr>\n",
       "    <tr>\n",
       "      <th>3</th>\n",
       "      <td>2022-04-04</td>\n",
       "      <td>5</td>\n",
       "      <td>1</td>\n",
       "      <td>4</td>\n",
       "    </tr>\n",
       "    <tr>\n",
       "      <th>4</th>\n",
       "      <td>2022-04-05</td>\n",
       "      <td>1</td>\n",
       "      <td>8</td>\n",
       "      <td>4</td>\n",
       "    </tr>\n",
       "    <tr>\n",
       "      <th>...</th>\n",
       "      <td>...</td>\n",
       "      <td>...</td>\n",
       "      <td>...</td>\n",
       "      <td>...</td>\n",
       "    </tr>\n",
       "    <tr>\n",
       "      <th>84</th>\n",
       "      <td>2022-06-24</td>\n",
       "      <td>2</td>\n",
       "      <td>6</td>\n",
       "      <td>-1</td>\n",
       "    </tr>\n",
       "    <tr>\n",
       "      <th>85</th>\n",
       "      <td>2022-06-25</td>\n",
       "      <td>0</td>\n",
       "      <td>1</td>\n",
       "      <td>1</td>\n",
       "    </tr>\n",
       "    <tr>\n",
       "      <th>86</th>\n",
       "      <td>2022-06-26</td>\n",
       "      <td>4</td>\n",
       "      <td>8</td>\n",
       "      <td>8</td>\n",
       "    </tr>\n",
       "    <tr>\n",
       "      <th>87</th>\n",
       "      <td>2022-06-27</td>\n",
       "      <td>4</td>\n",
       "      <td>4</td>\n",
       "      <td>2</td>\n",
       "    </tr>\n",
       "    <tr>\n",
       "      <th>88</th>\n",
       "      <td>2022-06-28</td>\n",
       "      <td>3</td>\n",
       "      <td>0</td>\n",
       "      <td>3</td>\n",
       "    </tr>\n",
       "  </tbody>\n",
       "</table>\n",
       "<p>89 rows × 4 columns</p>\n",
       "</div>"
      ],
      "text/plain": [
       "         Date  Branch A  Branch B  Branch C\n",
       "0  2022-04-01         5         0         1\n",
       "1  2022-04-02         7         0         8\n",
       "2  2022-04-03         2         0         5\n",
       "3  2022-04-04         5         1         4\n",
       "4  2022-04-05         1         8         4\n",
       "..        ...       ...       ...       ...\n",
       "84 2022-06-24         2         6        -1\n",
       "85 2022-06-25         0         1         1\n",
       "86 2022-06-26         4         8         8\n",
       "87 2022-06-27         4         4         2\n",
       "88 2022-06-28         3         0         3\n",
       "\n",
       "[89 rows x 4 columns]"
      ]
     },
     "execution_count": 69,
     "metadata": {},
     "output_type": "execute_result"
    }
   ],
   "source": [
    "agg = pd.DataFrame({'Date': pd.to_datetime(Date[:89]), \n",
    "                    'Branch A': binomial_Q2, \n",
    "                    'Branch B': binomialB_Q2, \n",
    "                    'Branch C': binomialC_Q2})\n",
    "\n",
    "agg"
   ]
  },
  {
   "cell_type": "markdown",
   "metadata": {
    "id": "uFdgDdsbRGq_"
   },
   "source": [
    "### Question 1b"
   ]
  },
  {
   "cell_type": "code",
   "execution_count": 70,
   "metadata": {
    "colab": {
     "base_uri": "https://localhost:8080/"
    },
    "id": "vTbRaFIXmlQd",
    "outputId": "978dc159-22a8-4600-f3dd-6fdd2b848002"
   },
   "outputs": [
    {
     "data": {
      "text/plain": [
       "array([ 55,  60,  95,  87,  70,  42,  66,  59,  55,  53,  73,  99,  43,\n",
       "       128,  54,  88,  60,  81,  32, 103,  66,  79,  95,  52,  59,  80,\n",
       "        91,  53,  67,  47,  83,  75,  47,  97,  62,  87,  82,  37,  30,\n",
       "        45,  56,  60, 106,  63,  37,  57,  84,  52,  54,  34,  50,  58,\n",
       "        80,  77,  95,  40,  48,  69,  52,  45,  40,  48,  57,  54,  91,\n",
       "        61,  95,  24,  54,  49,  59,  67,  32,  67,  39,  37,  35,  31,\n",
       "        64,  27,  80,  18,  82,  40,  37,  40, 117,  50,  61], dtype=int64)"
      ]
     },
     "execution_count": 70,
     "metadata": {},
     "output_type": "execute_result"
    }
   ],
   "source": [
    "# total quantity of goods sold daily\n",
    "Quant_sold = [df.Quantity[df['Date'] == i].sum() for i in df['Date'].unique()]\n",
    "np.array(Quant_sold)"
   ]
  },
  {
   "cell_type": "markdown",
   "metadata": {
    "id": "PRO4X1F3RLz1"
   },
   "source": [
    "#### Branch A"
   ]
  },
  {
   "cell_type": "code",
   "execution_count": 71,
   "metadata": {
    "colab": {
     "base_uri": "https://localhost:8080/"
    },
    "id": "KjmBLEUIDMyY",
    "outputId": "dc608fd4-4458-4de4-dece-f75e5daa1347"
   },
   "outputs": [
    {
     "data": {
      "text/plain": [
       "array([27, 22, 24, 29, 18, 18, 22, 12, 15, 17, 11, 39, 13, 28, 13, 33, 26,\n",
       "       37, 24,  5, 21, 39,  9, 34, 26, 21, 15, 22, 34, 26, 29, 57, 17, 38,\n",
       "       23, 30, 37, 14,  9, 22, 24, 11, 23, 26, 12, 22, 39, 25,  7, 12, 25,\n",
       "        5, 29,  9, 36,  4,  7, 20, 25, 16, 16, 35,  6, 13, 56, 12, 14, 14,\n",
       "       23,  7, 21, 24, 15, 23,  3, 19, 25,  5, 15,  9, 37,  3, 13, 31,  3,\n",
       "       14, 21, 24, 25], dtype=int64)"
      ]
     },
     "execution_count": 71,
     "metadata": {},
     "output_type": "execute_result"
    }
   ],
   "source": [
    "# total quantity of goods sold in branch A daily \n",
    "Quant_soldA = [df.Quantity[(df['Date'] == i) & (BranchA_df['Branch'] == 'A')].sum() for i in df['Date'].unique()]\n",
    "np.array(Quant_soldA)"
   ]
  },
  {
   "cell_type": "code",
   "execution_count": 72,
   "metadata": {
    "colab": {
     "base_uri": "https://localhost:8080/"
    },
    "id": "NODP-cKmDM13",
    "outputId": "cb0dc584-7aad-433d-ba83-5496e7fcc8c2"
   },
   "outputs": [
    {
     "data": {
      "text/plain": [
       "array([26, 21, 23, 28, 18, 18, 21, 12, 15, 17, 11, 39, 12, 27, 13, 33, 25,\n",
       "       37, 23,  4, 21, 39,  8, 34, 26, 20, 15, 21, 34, 26, 28, 57, 17, 37,\n",
       "       22, 30, 36, 13,  8, 21, 24, 11, 23, 26, 11, 22, 39, 25,  7, 11, 25,\n",
       "        4, 29,  9, 36,  3,  6, 19, 24, 15, 15, 34,  5, 13, 56, 11, 14, 14,\n",
       "       23,  7, 21, 24, 14, 23,  3, 19, 24,  5, 15,  9, 36,  3, 13, 30,  3,\n",
       "       13, 20, 24, 24])"
      ]
     },
     "execution_count": 72,
     "metadata": {},
     "output_type": "execute_result"
    }
   ],
   "source": [
    "# daily probabilities of success for branch A\n",
    "Prob_A = [i/j for i, j in zip(Quant_soldA, Quant_sold)]\n",
    "\n",
    "# binomial simulation for Branch A\n",
    "binomial_A = [(sum(rnd.binomial(a, b, 1000))/1000).astype(int) for a, b in zip (Quant_sold, Prob_A)]\n",
    "np.array(binomial_A)"
   ]
  },
  {
   "cell_type": "code",
   "execution_count": 73,
   "metadata": {
    "colab": {
     "base_uri": "https://localhost:8080/"
    },
    "id": "3uiYcJfknM4M",
    "outputId": "31173a59-54fd-41f9-84e8-71accf6cfb81"
   },
   "outputs": [
    {
     "data": {
      "text/plain": [
       "1859"
      ]
     },
     "execution_count": 73,
     "metadata": {},
     "output_type": "execute_result"
    }
   ],
   "source": [
    "# total quantity of goods sold in Branch A for Q1\n",
    "total_QuantA = BranchA_df['Quantity'].sum()\n",
    "total_QuantA"
   ]
  },
  {
   "cell_type": "code",
   "execution_count": 74,
   "metadata": {
    "colab": {
     "base_uri": "https://localhost:8080/"
    },
    "id": "5bnJzygWnM1E",
    "outputId": "b4042a53-41ee-4b2c-8cb2-2bba96594fb6"
   },
   "outputs": [
    {
     "data": {
      "text/plain": [
       "0.33738656987295823"
      ]
     },
     "execution_count": 74,
     "metadata": {},
     "output_type": "execute_result"
    }
   ],
   "source": [
    "# probability of total goods sold in Branch A wrt total goods sold\n",
    "p_QuantA = total_QuantA/df['Quantity'].sum()\n",
    "p_QuantA"
   ]
  },
  {
   "cell_type": "code",
   "execution_count": 75,
   "metadata": {
    "colab": {
     "base_uri": "https://localhost:8080/"
    },
    "id": "Te0IFs9_nMy8",
    "outputId": "e4980455-ec90-43e7-fb5b-e7dfbc007d1e"
   },
   "outputs": [
    {
     "data": {
      "text/plain": [
       "array([26, 24, 28, 36, 20, 18, 18, 13, 18, 10,  8, 37, 12, 25, 12, 34, 27,\n",
       "       27, 26,  4, 19, 43,  6, 34, 24, 20,  9, 18, 32, 23, 26, 55, 17, 38,\n",
       "       22, 28, 30, 14,  9, 23, 21, 11, 20, 30,  5, 23, 38, 27, 10, 10, 25,\n",
       "        4, 28,  9, 31,  6,  5, 13, 22, 22, 18, 38,  6, 14, 50,  6, 20, 15,\n",
       "       24,  5, 20, 29, 16, 21,  2, 23, 23,  3, 14, 14, 37,  3, 15, 31,  2,\n",
       "       11, 10, 19, 31], dtype=int64)"
      ]
     },
     "execution_count": 75,
     "metadata": {},
     "output_type": "execute_result"
    }
   ],
   "source": [
    "# possible outcomes of sold goods for branch A in Q2\n",
    "binomial_AQ2 = [(rnd.binomial(5510, 0.3374, 50000).mean().astype(int) + rnd.binomial(a, b) - total_QuantA) for a, b in zip (Quant_sold, Prob_A)]\n",
    "np.array(binomial_AQ2)"
   ]
  },
  {
   "cell_type": "markdown",
   "metadata": {
    "id": "sO5AvtTARO96"
   },
   "source": [
    "#### Branch B"
   ]
  },
  {
   "cell_type": "code",
   "execution_count": 76,
   "metadata": {
    "colab": {
     "base_uri": "https://localhost:8080/"
    },
    "id": "SL-8fn_mnMww",
    "outputId": "0bb41670-bdbc-4fdd-b8ae-05d5ed078edb"
   },
   "outputs": [
    {
     "data": {
      "text/plain": [
       "array([11,  5, 26, 14, 30,  6, 38, 16, 19, 35, 39, 39, 19, 48, 27, 33, 14,\n",
       "       24,  1, 59, 37, 14, 52, 18, 11, 28, 45, 17,  4, 12, 31,  9, 15, 43,\n",
       "       20, 19, 19,  7, 11, 14,  5, 24, 44, 36, 11, 16, 41, 13, 22, 11, 10,\n",
       "       11, 34, 49,  0, 24, 31, 16, 13, 16,  0,  3, 22, 20, 17, 12, 37,  2,\n",
       "       14, 24, 28, 20,  8, 19, 12, 15,  4, 15, 18,  6, 22,  7, 38,  0, 25,\n",
       "       15, 38, 16,  7], dtype=int64)"
      ]
     },
     "execution_count": 76,
     "metadata": {},
     "output_type": "execute_result"
    }
   ],
   "source": [
    "# total quantity of goods sold in branch B daily \n",
    "Quant_soldB = [df.Quantity[(df['Date'] == i) & (BranchB_df['Branch'] == 'B')].sum() for i in df['Date'].unique()]\n",
    "np.array(Quant_soldB)"
   ]
  },
  {
   "cell_type": "code",
   "execution_count": 77,
   "metadata": {
    "colab": {
     "base_uri": "https://localhost:8080/"
    },
    "id": "WPxeBMZfnMu1",
    "outputId": "7f9c3d37-ae40-4e6f-9003-09926edd7621"
   },
   "outputs": [
    {
     "data": {
      "text/plain": [
       "array([10,  4, 26, 13, 30,  6, 37, 16, 18, 34, 39, 38, 19, 48, 27, 32, 14,\n",
       "       24,  0, 59, 36, 13, 51, 18, 10, 27, 44, 16,  3, 12, 31,  9, 15, 42,\n",
       "       20, 18, 19,  6, 11, 14,  5, 23, 43, 35, 10, 16, 41, 13, 21, 10, 10,\n",
       "       11, 33, 49,  0, 23, 31, 16, 12, 15,  0,  2, 21, 19, 17, 12, 36,  2,\n",
       "       13, 23, 27, 19,  8, 19, 11, 15,  4, 15, 17,  6, 22,  6, 38,  0, 25,\n",
       "       14, 38, 16,  6])"
      ]
     },
     "execution_count": 77,
     "metadata": {},
     "output_type": "execute_result"
    }
   ],
   "source": [
    "# daily probabilities of success for branch B\n",
    "Prob_B = [i/j for i, j in zip(Quant_soldB, Quant_sold)]\n",
    "\n",
    "# binomial simulation for Branch B\n",
    "binomial_B = [(sum(rnd.binomial(a, b, 1000))/1000).astype(int) for a, b in zip (Quant_sold, Prob_B)]\n",
    "np.array(binomial_B)"
   ]
  },
  {
   "cell_type": "code",
   "execution_count": 78,
   "metadata": {
    "colab": {
     "base_uri": "https://localhost:8080/"
    },
    "id": "MHxDqqFlDMv8",
    "outputId": "3992bcc8-bf8e-4371-a211-9830d86c138c"
   },
   "outputs": [
    {
     "data": {
      "text/plain": [
       "1820"
      ]
     },
     "execution_count": 78,
     "metadata": {},
     "output_type": "execute_result"
    }
   ],
   "source": [
    "# total quantity of goods sold in Branch B for Q1\n",
    "total_QuantB = BranchB_df['Quantity'].sum()\n",
    "total_QuantB"
   ]
  },
  {
   "cell_type": "code",
   "execution_count": 79,
   "metadata": {
    "colab": {
     "base_uri": "https://localhost:8080/"
    },
    "id": "xd7ab44YvSIF",
    "outputId": "8494e121-65e5-440c-8342-499054a2ac43"
   },
   "outputs": [
    {
     "data": {
      "text/plain": [
       "0.33030852994555354"
      ]
     },
     "execution_count": 79,
     "metadata": {},
     "output_type": "execute_result"
    }
   ],
   "source": [
    "# probability of total goods sold in Branch B wrt total goods sold\n",
    "p_QuantB = total_QuantB/df['Quantity'].sum()\n",
    "p_QuantB"
   ]
  },
  {
   "cell_type": "code",
   "execution_count": 80,
   "metadata": {
    "colab": {
     "base_uri": "https://localhost:8080/"
    },
    "id": "-k6ebpewvR_U",
    "outputId": "e9be1fcc-7559-4b86-b359-ddbf965d3423"
   },
   "outputs": [
    {
     "data": {
      "text/plain": [
       "array([10,  3, 19,  9, 19, 11, 39, 15, 17, 40, 29, 38, 21, 45, 31, 31, 20,\n",
       "       24, -1, 54, 41,  5, 52, 21,  8, 24, 42, 14,  2,  8, 32, 10, 15, 50,\n",
       "       16,  8, 14,  5,  6, 16,  3, 32, 47, 39,  7, 10, 44, 13, 19, 17, 12,\n",
       "       11, 42, 45, -1, 23, 31, 16, 11, 11, -1,  3, 18, 16, 14,  9, 42,  1,\n",
       "        8, 23, 26, 19, 11, 21, 13, 17,  2, 19, 18,  7, 34,  5, 37,  0, 21,\n",
       "       13, 42, 16,  4], dtype=int64)"
      ]
     },
     "execution_count": 80,
     "metadata": {},
     "output_type": "execute_result"
    }
   ],
   "source": [
    "# possible outcomes of sold goods for branch B in Q2\n",
    "binomial_BQ2 = [(rnd.binomial(5510, 0.33030853, 100000).mean().astype(int) + rnd.binomial(a, b) - total_QuantB) for a, b in zip (Quant_sold, Prob_B)]\n",
    "np.array(binomial_BQ2)"
   ]
  },
  {
   "cell_type": "markdown",
   "metadata": {
    "id": "fT8lNKBlRSXK"
   },
   "source": [
    "#### Branch C"
   ]
  },
  {
   "cell_type": "code",
   "execution_count": 81,
   "metadata": {
    "colab": {
     "base_uri": "https://localhost:8080/"
    },
    "id": "YDQy3WjJDMt1",
    "outputId": "d4fb87cd-dc49-4841-8068-ba0263ad71b9"
   },
   "outputs": [
    {
     "data": {
      "text/plain": [
       "array([17, 33, 45, 44, 22, 18,  6, 31, 21,  1, 23, 21, 11, 52, 14, 22, 20,\n",
       "       20,  7, 39,  8, 26, 34,  0, 22, 31, 31, 14, 29,  9, 23,  9, 15, 16,\n",
       "       19, 38, 26, 16, 10,  9, 27, 25, 39,  1, 14, 19,  4, 14, 25, 11, 15,\n",
       "       42, 17, 19, 59, 12, 10, 33, 14, 13, 24, 10, 29, 21, 18, 37, 44,  8,\n",
       "       17, 18, 10, 23,  9, 25, 24,  3,  6, 11, 31, 12, 21,  8, 31,  9,  9,\n",
       "       11, 58, 10, 29], dtype=int64)"
      ]
     },
     "execution_count": 81,
     "metadata": {},
     "output_type": "execute_result"
    }
   ],
   "source": [
    "# total quantity of goods sold in branch C daily \n",
    "Quant_soldC = [df.Quantity[(df['Date'] == i) & (BranchC_df['Branch'] == 'C')].sum() for i in df['Date'].unique()]\n",
    "np.array(Quant_soldC)"
   ]
  },
  {
   "cell_type": "code",
   "execution_count": 82,
   "metadata": {
    "colab": {
     "base_uri": "https://localhost:8080/"
    },
    "id": "hTJMbFNNRRo9",
    "outputId": "609cf609-6486-4c77-fc3c-62903e4f0c22"
   },
   "outputs": [
    {
     "data": {
      "text/plain": [
       "array([16, 32, 44, 44, 22, 17,  6, 31, 20,  0, 22, 21, 10, 52, 14, 21, 19,\n",
       "       19,  6, 39,  7, 26, 33,  0, 21, 31, 31, 13, 28,  8, 23,  8, 15, 16,\n",
       "       18, 38, 26, 15,  9,  8, 27, 24, 39,  0, 13, 19,  3, 14, 25, 10, 15,\n",
       "       41, 16, 18, 58, 12,  9, 33, 13, 13, 24, 10, 29, 20, 17, 36, 43,  7,\n",
       "       16, 18, 10, 22,  9, 24, 23,  3,  6, 10, 31, 11, 21,  8, 31,  9,  8,\n",
       "       10, 57,  9, 29])"
      ]
     },
     "execution_count": 82,
     "metadata": {},
     "output_type": "execute_result"
    }
   ],
   "source": [
    "# daily probabilities of success for branch C\n",
    "Prob_C = [i/j for i, j in zip(Quant_soldC, Quant_sold)]\n",
    "\n",
    "# binomial simulation for Branch C\n",
    "binomial_C = [(sum(rnd.binomial(a, b, 1000))/1000).astype(int) for a, b in zip (Quant_sold, Prob_C)]\n",
    "np.array(binomial_C)"
   ]
  },
  {
   "cell_type": "code",
   "execution_count": 83,
   "metadata": {
    "colab": {
     "base_uri": "https://localhost:8080/"
    },
    "id": "DVzzRb6FwcNc",
    "outputId": "4a99ed8c-25da-4c45-8742-584bc9b005c1"
   },
   "outputs": [
    {
     "data": {
      "text/plain": [
       "1831"
      ]
     },
     "execution_count": 83,
     "metadata": {},
     "output_type": "execute_result"
    }
   ],
   "source": [
    "# total quantity of goods sold in Branch C for Q1\n",
    "total_QuantC = BranchC_df['Quantity'].sum()\n",
    "total_QuantC"
   ]
  },
  {
   "cell_type": "code",
   "execution_count": 84,
   "metadata": {
    "colab": {
     "base_uri": "https://localhost:8080/"
    },
    "id": "bJpWrp9Zwb3k",
    "outputId": "c46fab1f-760e-4731-9142-c6ce8a794a89"
   },
   "outputs": [
    {
     "data": {
      "text/plain": [
       "0.3323049001814882"
      ]
     },
     "execution_count": 84,
     "metadata": {},
     "output_type": "execute_result"
    }
   ],
   "source": [
    "# probability of total goods sold in Branch C wrt total goods sold\n",
    "p_QuantC = total_QuantC/df['Quantity'].sum()\n",
    "p_QuantC"
   ]
  },
  {
   "cell_type": "code",
   "execution_count": 85,
   "metadata": {
    "colab": {
     "base_uri": "https://localhost:8080/"
    },
    "id": "m3pGfm_fwboI",
    "outputId": "474e5ade-08ab-4180-a490-022b6475edfc"
   },
   "outputs": [
    {
     "data": {
      "text/plain": [
       "array([16, 38, 51, 45, 19, 21,  9, 31, 13,  1, 21, 27,  9, 48, 14, 23, 18,\n",
       "       18,  4, 43,  5, 35, 31,  0, 22, 29, 24, 12, 33, 11, 24,  9, 13, 15,\n",
       "       16, 33, 25, 14,  5, 11, 22, 30, 46,  0, 10, 16,  0, 15, 34, 13, 15,\n",
       "       33, 21, 20, 61, 15, 12, 27, 13,  9, 23, 12, 22, 16, 18, 37, 52, 10,\n",
       "       16, 23, 14, 23, 11, 30, 29,  1,  7, 10, 32, 12, 24,  9, 30,  8, 12,\n",
       "       10, 54, 11, 28], dtype=int64)"
      ]
     },
     "execution_count": 85,
     "metadata": {},
     "output_type": "execute_result"
    }
   ],
   "source": [
    "# possible outcomes of sold goods for branch C in Q2\n",
    "binomial_CQ2 = [(rnd.binomial(5510, 0.3323049, 50000).mean().astype(int) + rnd.binomial(a, b) - total_QuantC) for a, b in zip (Quant_sold, Prob_C)]\n",
    "np.array(binomial_CQ2)"
   ]
  },
  {
   "cell_type": "markdown",
   "metadata": {
    "id": "lyvXwHVDxg3d"
   },
   "source": [
    "#### Aggregating the Results"
   ]
  },
  {
   "cell_type": "code",
   "execution_count": 86,
   "metadata": {
    "colab": {
     "base_uri": "https://localhost:8080/",
     "height": 423
    },
    "id": "a6hRX3BbwbB2",
    "outputId": "3ebb7081-45f7-4bf7-9d0a-d9d153d1afde"
   },
   "outputs": [
    {
     "data": {
      "text/html": [
       "<div>\n",
       "<style scoped>\n",
       "    .dataframe tbody tr th:only-of-type {\n",
       "        vertical-align: middle;\n",
       "    }\n",
       "\n",
       "    .dataframe tbody tr th {\n",
       "        vertical-align: top;\n",
       "    }\n",
       "\n",
       "    .dataframe thead th {\n",
       "        text-align: right;\n",
       "    }\n",
       "</style>\n",
       "<table border=\"1\" class=\"dataframe\">\n",
       "  <thead>\n",
       "    <tr style=\"text-align: right;\">\n",
       "      <th></th>\n",
       "      <th>Date</th>\n",
       "      <th>Branch A</th>\n",
       "      <th>Branch B</th>\n",
       "      <th>Branch C</th>\n",
       "    </tr>\n",
       "  </thead>\n",
       "  <tbody>\n",
       "    <tr>\n",
       "      <th>0</th>\n",
       "      <td>2022-04-01</td>\n",
       "      <td>26</td>\n",
       "      <td>10</td>\n",
       "      <td>16</td>\n",
       "    </tr>\n",
       "    <tr>\n",
       "      <th>1</th>\n",
       "      <td>2022-04-02</td>\n",
       "      <td>24</td>\n",
       "      <td>3</td>\n",
       "      <td>38</td>\n",
       "    </tr>\n",
       "    <tr>\n",
       "      <th>2</th>\n",
       "      <td>2022-04-03</td>\n",
       "      <td>28</td>\n",
       "      <td>19</td>\n",
       "      <td>51</td>\n",
       "    </tr>\n",
       "    <tr>\n",
       "      <th>3</th>\n",
       "      <td>2022-04-04</td>\n",
       "      <td>36</td>\n",
       "      <td>9</td>\n",
       "      <td>45</td>\n",
       "    </tr>\n",
       "    <tr>\n",
       "      <th>4</th>\n",
       "      <td>2022-04-05</td>\n",
       "      <td>20</td>\n",
       "      <td>19</td>\n",
       "      <td>19</td>\n",
       "    </tr>\n",
       "    <tr>\n",
       "      <th>...</th>\n",
       "      <td>...</td>\n",
       "      <td>...</td>\n",
       "      <td>...</td>\n",
       "      <td>...</td>\n",
       "    </tr>\n",
       "    <tr>\n",
       "      <th>84</th>\n",
       "      <td>2022-06-24</td>\n",
       "      <td>2</td>\n",
       "      <td>21</td>\n",
       "      <td>12</td>\n",
       "    </tr>\n",
       "    <tr>\n",
       "      <th>85</th>\n",
       "      <td>2022-06-25</td>\n",
       "      <td>11</td>\n",
       "      <td>13</td>\n",
       "      <td>10</td>\n",
       "    </tr>\n",
       "    <tr>\n",
       "      <th>86</th>\n",
       "      <td>2022-06-26</td>\n",
       "      <td>10</td>\n",
       "      <td>42</td>\n",
       "      <td>54</td>\n",
       "    </tr>\n",
       "    <tr>\n",
       "      <th>87</th>\n",
       "      <td>2022-06-27</td>\n",
       "      <td>19</td>\n",
       "      <td>16</td>\n",
       "      <td>11</td>\n",
       "    </tr>\n",
       "    <tr>\n",
       "      <th>88</th>\n",
       "      <td>2022-06-28</td>\n",
       "      <td>31</td>\n",
       "      <td>4</td>\n",
       "      <td>28</td>\n",
       "    </tr>\n",
       "  </tbody>\n",
       "</table>\n",
       "<p>89 rows × 4 columns</p>\n",
       "</div>"
      ],
      "text/plain": [
       "         Date  Branch A  Branch B  Branch C\n",
       "0  2022-04-01        26        10        16\n",
       "1  2022-04-02        24         3        38\n",
       "2  2022-04-03        28        19        51\n",
       "3  2022-04-04        36         9        45\n",
       "4  2022-04-05        20        19        19\n",
       "..        ...       ...       ...       ...\n",
       "84 2022-06-24         2        21        12\n",
       "85 2022-06-25        11        13        10\n",
       "86 2022-06-26        10        42        54\n",
       "87 2022-06-27        19        16        11\n",
       "88 2022-06-28        31         4        28\n",
       "\n",
       "[89 rows x 4 columns]"
      ]
     },
     "execution_count": 86,
     "metadata": {},
     "output_type": "execute_result"
    }
   ],
   "source": [
    "agg = pd.DataFrame({'Date': pd.to_datetime(Date[:89]), \n",
    "                    'Branch A': binomial_AQ2, \n",
    "                    'Branch B': binomial_BQ2, \n",
    "                    'Branch C': binomial_CQ2})\n",
    "agg"
   ]
  },
  {
   "cell_type": "markdown",
   "metadata": {
    "id": "qykYikklTlnC"
   },
   "source": [
    "## Multinomial Simulation & Classification:\n",
    "\n",
    "1. Run a simple multinomial simulation to predict quantity of sales aggregated by branch and classify the branch where the maximum sales would occur daily in Q2. Repeat the steps for predictions based on product line.\n",
    "2. Set up & implement a multinomial Naive Bayes algorithm to predict the branch where each aggregated sale predicted by a binomial simulation will be made daily. Implement the algorithm to classify the product line for each sale batch daily."
   ]
  },
  {
   "cell_type": "markdown",
   "metadata": {
    "id": "jigvPztx0kFY"
   },
   "source": [
    "### Question 2a"
   ]
  },
  {
   "cell_type": "code",
   "execution_count": 87,
   "metadata": {
    "colab": {
     "base_uri": "https://localhost:8080/"
    },
    "id": "om5rtRgC0zb1",
    "outputId": "d4551d01-17cc-4d80-95b7-76f7bd7b1b58"
   },
   "outputs": [
    {
     "data": {
      "text/plain": [
       "5510"
      ]
     },
     "execution_count": 87,
     "metadata": {},
     "output_type": "execute_result"
    }
   ],
   "source": [
    "# Total quantity of products sold throughout entire sales history\n",
    "qty_e = df['Quantity'].sum()\n",
    "qty_e"
   ]
  },
  {
   "cell_type": "code",
   "execution_count": 88,
   "metadata": {
    "colab": {
     "base_uri": "https://localhost:8080/"
    },
    "id": "fTq4GbGR0zMU",
    "outputId": "80ba6c45-6138-4c1d-d3ac-29d90fe5187f"
   },
   "outputs": [
    {
     "name": "stdout",
     "output_type": "stream",
     "text": [
      "qA:  1859\n",
      "qB:  1820\n",
      "qC:  1831\n"
     ]
    }
   ],
   "source": [
    "# Total quantities sold in each branch throughout history: qA, qB, qC\n",
    "\n",
    "total_QuantA = BranchA_df['Quantity'].sum()\n",
    "total_QuantB = BranchB_df['Quantity'].sum()\n",
    "total_QuantC = BranchC_df['Quantity'].sum()\n",
    "\n",
    "print('qA: ',total_QuantA)\n",
    "print('qB: ',total_QuantB)\n",
    "print('qC: ',total_QuantC)"
   ]
  },
  {
   "cell_type": "code",
   "execution_count": 89,
   "metadata": {
    "colab": {
     "base_uri": "https://localhost:8080/"
    },
    "id": "JZAk8sEp_RLv",
    "outputId": "dc78dbf9-24af-41f7-f289-03916d95fa09"
   },
   "outputs": [
    {
     "data": {
      "text/plain": [
       "array([1859, 1820, 1831], dtype=int64)"
      ]
     },
     "execution_count": 89,
     "metadata": {},
     "output_type": "execute_result"
    }
   ],
   "source": [
    "n_ABC = np.array([total_QuantA, total_QuantB, total_QuantC])\n",
    "n_ABC"
   ]
  },
  {
   "cell_type": "code",
   "execution_count": 90,
   "metadata": {
    "colab": {
     "base_uri": "https://localhost:8080/"
    },
    "id": "p0vWXmaC0y4N",
    "outputId": "26a149e1-cb16-4a7c-86b5-2abc17ad06a9"
   },
   "outputs": [
    {
     "name": "stdout",
     "output_type": "stream",
     "text": [
      "pA: 0.33738656987295823\n",
      "pB: 0.33030852994555354\n",
      "pC: 0.3323049001814882\n"
     ]
    }
   ],
   "source": [
    "# Probability of success for each branch throughout history: pA, pB, pC\n",
    "\n",
    "p_A = total_QuantA/df['Quantity'].sum()\n",
    "p_B = total_QuantB/df['Quantity'].sum()\n",
    "p_C = total_QuantC/df['Quantity'].sum()\n",
    "\n",
    "print('pA:',p_A)\n",
    "print('pB:',p_B)\n",
    "print('pC:',p_C)"
   ]
  },
  {
   "cell_type": "code",
   "execution_count": 91,
   "metadata": {
    "colab": {
     "base_uri": "https://localhost:8080/"
    },
    "id": "jepbZx8M9MGH",
    "outputId": "6db3da28-3934-4f00-872f-645f7d3b3e53"
   },
   "outputs": [
    {
     "data": {
      "text/plain": [
       "array([0.33738657, 0.33030853, 0.3323049 ])"
      ]
     },
     "execution_count": 91,
     "metadata": {},
     "output_type": "execute_result"
    }
   ],
   "source": [
    "p_ABC = np.array([p_A, p_B, p_C])\n",
    "p_ABC"
   ]
  },
  {
   "cell_type": "code",
   "execution_count": 92,
   "metadata": {
    "colab": {
     "base_uri": "https://localhost:8080/"
    },
    "id": "EhfaErRT1xGr",
    "outputId": "af39ee1b-1232-49c6-cfd4-f5fad0784f5f"
   },
   "outputs": [
    {
     "data": {
      "text/plain": [
       "array([ 55,  60,  95,  87,  70,  42,  66,  59,  55,  53,  73,  99,  43,\n",
       "       128,  54,  88,  60,  81,  32, 103,  66,  79,  95,  52,  59,  80,\n",
       "        91,  53,  67,  47,  83,  75,  47,  97,  62,  87,  82,  37,  30,\n",
       "        45,  56,  60, 106,  63,  37,  57,  84,  52,  54,  34,  50,  58,\n",
       "        80,  77,  95,  40,  48,  69,  52,  45,  40,  48,  57,  54,  91,\n",
       "        61,  95,  24,  54,  49,  59,  67,  32,  67,  39,  37,  35,  31,\n",
       "        64,  27,  80,  18,  82,  40,  37,  40, 117,  50,  61], dtype=int64)"
      ]
     },
     "execution_count": 92,
     "metadata": {},
     "output_type": "execute_result"
    }
   ],
   "source": [
    "# Array of total quantities of products sold each day\n",
    "Quant_sold = [df.Quantity[df['Date'] == i].sum() for i in df['Date'].unique()]\n",
    "total_quant = np.array(Quant_sold)\n",
    "total_quant"
   ]
  },
  {
   "cell_type": "code",
   "execution_count": 93,
   "metadata": {
    "colab": {
     "base_uri": "https://localhost:8080/"
    },
    "id": "y7JqNjr81w_j",
    "outputId": "c7f73a7b-9567-456e-f755-01a4c2e63494"
   },
   "outputs": [
    {
     "data": {
      "text/plain": [
       "array([0.49090909, 0.36666667, 0.25263158, 0.33333333, 0.25714286,\n",
       "       0.42857143, 0.33333333, 0.20338983, 0.27272727, 0.32075472,\n",
       "       0.15068493, 0.39393939, 0.30232558, 0.21875   , 0.24074074,\n",
       "       0.375     , 0.43333333, 0.45679012, 0.75      , 0.04854369,\n",
       "       0.31818182, 0.49367089, 0.09473684, 0.65384615, 0.44067797,\n",
       "       0.2625    , 0.16483516, 0.41509434, 0.50746269, 0.55319149,\n",
       "       0.34939759, 0.76      , 0.36170213, 0.39175258, 0.37096774,\n",
       "       0.34482759, 0.45121951, 0.37837838, 0.3       , 0.48888889,\n",
       "       0.42857143, 0.18333333, 0.21698113, 0.41269841, 0.32432432,\n",
       "       0.38596491, 0.46428571, 0.48076923, 0.12962963, 0.35294118,\n",
       "       0.5       , 0.0862069 , 0.3625    , 0.11688312, 0.37894737,\n",
       "       0.1       , 0.14583333, 0.28985507, 0.48076923, 0.35555556,\n",
       "       0.4       , 0.72916667, 0.10526316, 0.24074074, 0.61538462,\n",
       "       0.19672131, 0.14736842, 0.58333333, 0.42592593, 0.14285714,\n",
       "       0.3559322 , 0.35820896, 0.46875   , 0.34328358, 0.07692308,\n",
       "       0.51351351, 0.71428571, 0.16129032, 0.234375  , 0.33333333,\n",
       "       0.4625    , 0.16666667, 0.15853659, 0.775     , 0.08108108,\n",
       "       0.35      , 0.17948718, 0.48      , 0.40983607])"
      ]
     },
     "execution_count": 93,
     "metadata": {},
     "output_type": "execute_result"
    }
   ],
   "source": [
    "# Arrays of daily probabilities of success for each branch, A, B, C\n",
    "\n",
    "# for branch A\n",
    "Prob_A = [i/j for i, j in zip(Quant_soldA, Quant_sold)]\n",
    "arrayA = np.array(Prob_A)\n",
    "arrayA"
   ]
  },
  {
   "cell_type": "code",
   "execution_count": 94,
   "metadata": {
    "colab": {
     "base_uri": "https://localhost:8080/"
    },
    "id": "ZjMDf1mR0y1Y",
    "outputId": "b512ccd6-eb60-46b6-88b0-897e52cb8f96"
   },
   "outputs": [
    {
     "data": {
      "text/plain": [
       "array([0.2       , 0.08333333, 0.27368421, 0.16091954, 0.42857143,\n",
       "       0.14285714, 0.57575758, 0.27118644, 0.34545455, 0.66037736,\n",
       "       0.53424658, 0.39393939, 0.44186047, 0.375     , 0.5       ,\n",
       "       0.375     , 0.23333333, 0.2962963 , 0.03125   , 0.57281553,\n",
       "       0.56060606, 0.17721519, 0.54736842, 0.34615385, 0.18644068,\n",
       "       0.35      , 0.49450549, 0.32075472, 0.05970149, 0.25531915,\n",
       "       0.37349398, 0.12      , 0.31914894, 0.44329897, 0.32258065,\n",
       "       0.2183908 , 0.23170732, 0.18918919, 0.36666667, 0.31111111,\n",
       "       0.08928571, 0.4       , 0.41509434, 0.57142857, 0.2972973 ,\n",
       "       0.28070175, 0.48809524, 0.25      , 0.40740741, 0.32352941,\n",
       "       0.2       , 0.18965517, 0.425     , 0.63636364, 0.        ,\n",
       "       0.6       , 0.64583333, 0.23188406, 0.25      , 0.35555556,\n",
       "       0.        , 0.0625    , 0.38596491, 0.37037037, 0.18681319,\n",
       "       0.19672131, 0.38947368, 0.08333333, 0.25925926, 0.48979592,\n",
       "       0.47457627, 0.29850746, 0.25      , 0.28358209, 0.30769231,\n",
       "       0.40540541, 0.11428571, 0.48387097, 0.28125   , 0.22222222,\n",
       "       0.275     , 0.38888889, 0.46341463, 0.        , 0.67567568,\n",
       "       0.375     , 0.32478632, 0.32      , 0.1147541 ])"
      ]
     },
     "execution_count": 94,
     "metadata": {},
     "output_type": "execute_result"
    }
   ],
   "source": [
    "# for branch B\n",
    "Prob_B = [i/j for i, j in zip(Quant_soldB, Quant_sold)]\n",
    "arrayB = np.array(Prob_B)\n",
    "arrayB"
   ]
  },
  {
   "cell_type": "code",
   "execution_count": 95,
   "metadata": {
    "colab": {
     "base_uri": "https://localhost:8080/"
    },
    "id": "ZH0_-HHn0yy0",
    "outputId": "400deba8-9b0f-46a0-ace6-504670c83c17"
   },
   "outputs": [
    {
     "data": {
      "text/plain": [
       "array([0.30909091, 0.55      , 0.47368421, 0.50574713, 0.31428571,\n",
       "       0.42857143, 0.09090909, 0.52542373, 0.38181818, 0.01886792,\n",
       "       0.31506849, 0.21212121, 0.25581395, 0.40625   , 0.25925926,\n",
       "       0.25      , 0.33333333, 0.24691358, 0.21875   , 0.37864078,\n",
       "       0.12121212, 0.32911392, 0.35789474, 0.        , 0.37288136,\n",
       "       0.3875    , 0.34065934, 0.26415094, 0.43283582, 0.19148936,\n",
       "       0.27710843, 0.12      , 0.31914894, 0.16494845, 0.30645161,\n",
       "       0.43678161, 0.31707317, 0.43243243, 0.33333333, 0.2       ,\n",
       "       0.48214286, 0.41666667, 0.36792453, 0.01587302, 0.37837838,\n",
       "       0.33333333, 0.04761905, 0.26923077, 0.46296296, 0.32352941,\n",
       "       0.3       , 0.72413793, 0.2125    , 0.24675325, 0.62105263,\n",
       "       0.3       , 0.20833333, 0.47826087, 0.26923077, 0.28888889,\n",
       "       0.6       , 0.20833333, 0.50877193, 0.38888889, 0.1978022 ,\n",
       "       0.60655738, 0.46315789, 0.33333333, 0.31481481, 0.36734694,\n",
       "       0.16949153, 0.34328358, 0.28125   , 0.37313433, 0.61538462,\n",
       "       0.08108108, 0.17142857, 0.35483871, 0.484375  , 0.44444444,\n",
       "       0.2625    , 0.44444444, 0.37804878, 0.225     , 0.24324324,\n",
       "       0.275     , 0.4957265 , 0.2       , 0.47540984])"
      ]
     },
     "execution_count": 95,
     "metadata": {},
     "output_type": "execute_result"
    }
   ],
   "source": [
    "# for branch C\n",
    "Prob_C = [i/j for i, j in zip(Quant_soldC, Quant_sold)]\n",
    "arrayC = np.array(Prob_C)\n",
    "arrayC"
   ]
  },
  {
   "cell_type": "code",
   "execution_count": 96,
   "metadata": {
    "colab": {
     "base_uri": "https://localhost:8080/"
    },
    "id": "8RDn5hzf0ywR",
    "outputId": "f6482780-c770-4a16-9050-1b39bcae4196"
   },
   "outputs": [],
   "source": [
    "# P = PA × PB × PC\n",
    "res = list(zip(Prob_A, Prob_B, Prob_C))\n",
    "prob_ABC = np.array(res)"
   ]
  },
  {
   "cell_type": "code",
   "execution_count": 97,
   "metadata": {
    "colab": {
     "base_uri": "https://localhost:8080/"
    },
    "id": "z2U0zUuEDxYR",
    "outputId": "7549acad-e9af-46b2-e4cc-f73e73a2128f"
   },
   "outputs": [
    {
     "data": {
      "text/plain": [
       "[array([29.,  9., 17.]),\n",
       " array([22.,  6., 32.]),\n",
       " array([21., 35., 39.]),\n",
       " array([34., 13., 40.]),\n",
       " array([18., 37., 15.]),\n",
       " array([19.,  7., 16.]),\n",
       " array([24., 36.,  6.]),\n",
       " array([19., 15., 25.]),\n",
       " array([19., 19., 17.]),\n",
       " array([18., 35.,  0.]),\n",
       " array([12., 40., 21.]),\n",
       " array([40., 35., 24.]),\n",
       " array([15., 21.,  7.]),\n",
       " array([27., 46., 55.]),\n",
       " array([ 8., 31., 15.]),\n",
       " array([35., 34., 19.]),\n",
       " array([22., 19., 19.]),\n",
       " array([33., 25., 23.]),\n",
       " array([24.,  1.,  7.]),\n",
       " array([ 6., 56., 41.]),\n",
       " array([21., 33., 12.]),\n",
       " array([35., 11., 33.]),\n",
       " array([11., 44., 40.]),\n",
       " array([34., 18.,  0.]),\n",
       " array([26., 10., 23.]),\n",
       " array([21., 31., 28.]),\n",
       " array([16., 42., 33.]),\n",
       " array([17., 16., 20.]),\n",
       " array([32.,  3., 32.]),\n",
       " array([26., 16.,  5.]),\n",
       " array([28., 32., 23.]),\n",
       " array([56., 13.,  6.]),\n",
       " array([ 8., 18., 21.]),\n",
       " array([42., 39., 16.]),\n",
       " array([16., 27., 19.]),\n",
       " array([30., 19., 38.]),\n",
       " array([33., 19., 30.]),\n",
       " array([17.,  4., 16.]),\n",
       " array([ 5., 15., 10.]),\n",
       " array([20., 16.,  9.]),\n",
       " array([24.,  3., 29.]),\n",
       " array([14., 32., 14.]),\n",
       " array([28., 44., 34.]),\n",
       " array([31., 31.,  1.]),\n",
       " array([12.,  7., 18.]),\n",
       " array([21., 20., 16.]),\n",
       " array([42., 39.,  3.]),\n",
       " array([31.,  9., 12.]),\n",
       " array([ 5., 22., 27.]),\n",
       " array([10., 14., 10.]),\n",
       " array([27.,  7., 16.]),\n",
       " array([ 7., 15., 36.]),\n",
       " array([28., 31., 21.]),\n",
       " array([ 7., 51., 19.]),\n",
       " array([34.,  0., 61.]),\n",
       " array([ 4., 19., 17.]),\n",
       " array([ 7., 25., 16.]),\n",
       " array([20., 15., 34.]),\n",
       " array([26., 17.,  9.]),\n",
       " array([14., 19., 12.]),\n",
       " array([17.,  0., 23.]),\n",
       " array([35.,  6.,  7.]),\n",
       " array([ 7., 22., 28.]),\n",
       " array([ 9., 19., 26.]),\n",
       " array([60., 18., 13.]),\n",
       " array([16., 11., 34.]),\n",
       " array([14., 34., 47.]),\n",
       " array([17.,  1.,  6.]),\n",
       " array([22., 14., 18.]),\n",
       " array([ 7., 20., 22.]),\n",
       " array([22., 27., 10.]),\n",
       " array([31., 13., 23.]),\n",
       " array([17.,  8.,  7.]),\n",
       " array([18., 20., 29.]),\n",
       " array([ 1., 17., 21.]),\n",
       " array([22., 13.,  2.]),\n",
       " array([29.,  3.,  3.]),\n",
       " array([ 5., 21.,  5.]),\n",
       " array([14., 22., 28.]),\n",
       " array([ 4.,  6., 17.]),\n",
       " array([35., 21., 24.]),\n",
       " array([4., 6., 8.]),\n",
       " array([14., 27., 41.]),\n",
       " array([29.,  0., 11.]),\n",
       " array([ 4., 21., 12.]),\n",
       " array([14., 15., 11.]),\n",
       " array([28., 38., 51.]),\n",
       " array([27., 11., 12.]),\n",
       " array([25.,  6., 30.])]"
      ]
     },
     "execution_count": 97,
     "metadata": {},
     "output_type": "execute_result"
    }
   ],
   "source": [
    "# multi_sims = [((sum(rnd.multinomial(5510, p_ABC, 6000))/6000) + rnd.multinomial(a, b).astype(int) - n_ABC) for a, b in zip (total_quant, zip(Prob_A, Prob_B, Prob_C))]\n",
    "# multi_sims\n",
    "\n",
    "multi_sim = [(rnd.multinomial(5510, p_ABC, 50000).mean(axis=0).round() + rnd.multinomial(a, b).astype(int) - n_ABC) for a, b in zip (total_quant, zip(Prob_A, Prob_B, Prob_C))]\n",
    "multi_sim"
   ]
  },
  {
   "cell_type": "code",
   "execution_count": 98,
   "metadata": {},
   "outputs": [
    {
     "name": "stdout",
     "output_type": "stream",
     "text": [
      "29.0\n",
      "32.0\n",
      "39.0\n",
      "40.0\n",
      "37.0\n",
      "19.0\n",
      "36.0\n",
      "25.0\n",
      "19.0\n",
      "35.0\n",
      "40.0\n",
      "40.0\n",
      "21.0\n",
      "55.0\n",
      "31.0\n",
      "35.0\n",
      "22.0\n",
      "33.0\n",
      "24.0\n",
      "56.0\n",
      "33.0\n",
      "35.0\n",
      "44.0\n",
      "34.0\n",
      "26.0\n",
      "31.0\n",
      "42.0\n",
      "20.0\n",
      "32.0\n",
      "26.0\n",
      "32.0\n",
      "56.0\n",
      "21.0\n",
      "42.0\n",
      "27.0\n",
      "38.0\n",
      "33.0\n",
      "17.0\n",
      "15.0\n",
      "20.0\n",
      "29.0\n",
      "32.0\n",
      "44.0\n",
      "31.0\n",
      "18.0\n",
      "21.0\n",
      "42.0\n",
      "31.0\n",
      "27.0\n",
      "14.0\n",
      "27.0\n",
      "36.0\n",
      "31.0\n",
      "51.0\n",
      "61.0\n",
      "19.0\n",
      "25.0\n",
      "34.0\n",
      "26.0\n",
      "19.0\n",
      "23.0\n",
      "35.0\n",
      "28.0\n",
      "26.0\n",
      "60.0\n",
      "34.0\n",
      "47.0\n",
      "17.0\n",
      "22.0\n",
      "22.0\n",
      "27.0\n",
      "31.0\n",
      "17.0\n",
      "29.0\n",
      "21.0\n",
      "22.0\n",
      "29.0\n",
      "21.0\n",
      "28.0\n",
      "17.0\n",
      "35.0\n",
      "8.0\n",
      "41.0\n",
      "29.0\n",
      "21.0\n",
      "15.0\n",
      "51.0\n",
      "27.0\n",
      "30.0\n"
     ]
    }
   ],
   "source": [
    "for i in multi_sim:\n",
    "    print(max(i))"
   ]
  },
  {
   "cell_type": "code",
   "execution_count": 99,
   "metadata": {},
   "outputs": [
    {
     "data": {
      "text/plain": [
       "['Branch A',\n",
       " 'Branch C',\n",
       " 'Branch C',\n",
       " 'Branch C',\n",
       " 'Branch B',\n",
       " 'Branch A',\n",
       " 'Branch B',\n",
       " 'Branch C',\n",
       " 'Branch A',\n",
       " 'Branch B',\n",
       " 'Branch B',\n",
       " 'Branch A',\n",
       " 'Branch B',\n",
       " 'Branch C',\n",
       " 'Branch B',\n",
       " 'Branch A',\n",
       " 'Branch A',\n",
       " 'Branch A',\n",
       " 'Branch A',\n",
       " 'Branch B',\n",
       " 'Branch B',\n",
       " 'Branch A',\n",
       " 'Branch B',\n",
       " 'Branch A',\n",
       " 'Branch A',\n",
       " 'Branch B',\n",
       " 'Branch B',\n",
       " 'Branch C',\n",
       " 'Branch A',\n",
       " 'Branch A',\n",
       " 'Branch B',\n",
       " 'Branch A',\n",
       " 'Branch C',\n",
       " 'Branch A',\n",
       " 'Branch B',\n",
       " 'Branch C',\n",
       " 'Branch A',\n",
       " 'Branch A',\n",
       " 'Branch B',\n",
       " 'Branch A',\n",
       " 'Branch C',\n",
       " 'Branch B',\n",
       " 'Branch B',\n",
       " 'Branch A',\n",
       " 'Branch C',\n",
       " 'Branch A',\n",
       " 'Branch A',\n",
       " 'Branch A',\n",
       " 'Branch C',\n",
       " 'Branch B',\n",
       " 'Branch A',\n",
       " 'Branch C',\n",
       " 'Branch B',\n",
       " 'Branch B',\n",
       " 'Branch C',\n",
       " 'Branch B',\n",
       " 'Branch B',\n",
       " 'Branch C',\n",
       " 'Branch A',\n",
       " 'Branch B',\n",
       " 'Branch C',\n",
       " 'Branch A',\n",
       " 'Branch C',\n",
       " 'Branch C',\n",
       " 'Branch A',\n",
       " 'Branch C',\n",
       " 'Branch C',\n",
       " 'Branch A',\n",
       " 'Branch A',\n",
       " 'Branch C',\n",
       " 'Branch B',\n",
       " 'Branch A',\n",
       " 'Branch A',\n",
       " 'Branch C',\n",
       " 'Branch C',\n",
       " 'Branch A',\n",
       " 'Branch A',\n",
       " 'Branch B',\n",
       " 'Branch C',\n",
       " 'Branch C',\n",
       " 'Branch A',\n",
       " 'Branch C',\n",
       " 'Branch C',\n",
       " 'Branch A',\n",
       " 'Branch B',\n",
       " 'Branch B',\n",
       " 'Branch C',\n",
       " 'Branch A',\n",
       " 'Branch C']"
      ]
     },
     "execution_count": 99,
     "metadata": {},
     "output_type": "execute_result"
    }
   ],
   "source": [
    "branch = ['Branch A', 'Branch B', 'Branch C']\n",
    "# max_branchindex = []\n",
    "# for i in multi_sim:\n",
    "#     a = branch[i.argmax(axis=0)]\n",
    "#     max_branchindex.append(a)\n",
    "\n",
    "max_branchindex = [branch[i.argmax(axis=0)] for i in multi_sim]\n",
    "max_branchindex"
   ]
  },
  {
   "cell_type": "markdown",
   "metadata": {
    "id": "JJVGLuBn0sb6"
   },
   "source": [
    "### Question 2b\n",
    "Set up & implement a multinomial Naive Bayes algorithm to predict the branch where each aggregated sale predicted by a binomial simulation will be made daily. Implement the algorithm to classify the product line for each sale batch daily."
   ]
  },
  {
   "cell_type": "code",
   "execution_count": 100,
   "metadata": {},
   "outputs": [
    {
     "data": {
      "text/html": [
       "<div>\n",
       "<style scoped>\n",
       "    .dataframe tbody tr th:only-of-type {\n",
       "        vertical-align: middle;\n",
       "    }\n",
       "\n",
       "    .dataframe tbody tr th {\n",
       "        vertical-align: top;\n",
       "    }\n",
       "\n",
       "    .dataframe thead th {\n",
       "        text-align: right;\n",
       "    }\n",
       "</style>\n",
       "<table border=\"1\" class=\"dataframe\">\n",
       "  <thead>\n",
       "    <tr style=\"text-align: right;\">\n",
       "      <th></th>\n",
       "      <th>Date</th>\n",
       "      <th>Branch A</th>\n",
       "      <th>Branch B</th>\n",
       "      <th>Branch C</th>\n",
       "    </tr>\n",
       "  </thead>\n",
       "  <tbody>\n",
       "    <tr>\n",
       "      <th>0</th>\n",
       "      <td>2022-04-01</td>\n",
       "      <td>26</td>\n",
       "      <td>10</td>\n",
       "      <td>16</td>\n",
       "    </tr>\n",
       "    <tr>\n",
       "      <th>1</th>\n",
       "      <td>2022-04-02</td>\n",
       "      <td>24</td>\n",
       "      <td>3</td>\n",
       "      <td>38</td>\n",
       "    </tr>\n",
       "    <tr>\n",
       "      <th>2</th>\n",
       "      <td>2022-04-03</td>\n",
       "      <td>28</td>\n",
       "      <td>19</td>\n",
       "      <td>51</td>\n",
       "    </tr>\n",
       "    <tr>\n",
       "      <th>3</th>\n",
       "      <td>2022-04-04</td>\n",
       "      <td>36</td>\n",
       "      <td>9</td>\n",
       "      <td>45</td>\n",
       "    </tr>\n",
       "    <tr>\n",
       "      <th>4</th>\n",
       "      <td>2022-04-05</td>\n",
       "      <td>20</td>\n",
       "      <td>19</td>\n",
       "      <td>19</td>\n",
       "    </tr>\n",
       "    <tr>\n",
       "      <th>...</th>\n",
       "      <td>...</td>\n",
       "      <td>...</td>\n",
       "      <td>...</td>\n",
       "      <td>...</td>\n",
       "    </tr>\n",
       "    <tr>\n",
       "      <th>84</th>\n",
       "      <td>2022-06-24</td>\n",
       "      <td>2</td>\n",
       "      <td>21</td>\n",
       "      <td>12</td>\n",
       "    </tr>\n",
       "    <tr>\n",
       "      <th>85</th>\n",
       "      <td>2022-06-25</td>\n",
       "      <td>11</td>\n",
       "      <td>13</td>\n",
       "      <td>10</td>\n",
       "    </tr>\n",
       "    <tr>\n",
       "      <th>86</th>\n",
       "      <td>2022-06-26</td>\n",
       "      <td>10</td>\n",
       "      <td>42</td>\n",
       "      <td>54</td>\n",
       "    </tr>\n",
       "    <tr>\n",
       "      <th>87</th>\n",
       "      <td>2022-06-27</td>\n",
       "      <td>19</td>\n",
       "      <td>16</td>\n",
       "      <td>11</td>\n",
       "    </tr>\n",
       "    <tr>\n",
       "      <th>88</th>\n",
       "      <td>2022-06-28</td>\n",
       "      <td>31</td>\n",
       "      <td>4</td>\n",
       "      <td>28</td>\n",
       "    </tr>\n",
       "  </tbody>\n",
       "</table>\n",
       "<p>89 rows × 4 columns</p>\n",
       "</div>"
      ],
      "text/plain": [
       "         Date  Branch A  Branch B  Branch C\n",
       "0  2022-04-01        26        10        16\n",
       "1  2022-04-02        24         3        38\n",
       "2  2022-04-03        28        19        51\n",
       "3  2022-04-04        36         9        45\n",
       "4  2022-04-05        20        19        19\n",
       "..        ...       ...       ...       ...\n",
       "84 2022-06-24         2        21        12\n",
       "85 2022-06-25        11        13        10\n",
       "86 2022-06-26        10        42        54\n",
       "87 2022-06-27        19        16        11\n",
       "88 2022-06-28        31         4        28\n",
       "\n",
       "[89 rows x 4 columns]"
      ]
     },
     "execution_count": 100,
     "metadata": {},
     "output_type": "execute_result"
    }
   ],
   "source": [
    "agg"
   ]
  },
  {
   "cell_type": "code",
   "execution_count": 101,
   "metadata": {},
   "outputs": [],
   "source": [
    "# output = []\n",
    "# for i in range(89):\n",
    "#     output.append(Date[i] + \": \" + str(binomial_AQ2[i]))\n",
    "#     output.append(Date[i] + \": \" + str(binomial_BQ2[i]))\n",
    "#     output.append(Date[i] + \": \" + str(binomial_CQ2[i]))\n",
    "    \n",
    "# aggregate = pd.DataFrame(output, columns = ['Aggregate'])\n",
    "# aggregate"
   ]
  },
  {
   "cell_type": "code",
   "execution_count": 102,
   "metadata": {},
   "outputs": [
    {
     "data": {
      "text/html": [
       "<div>\n",
       "<style scoped>\n",
       "    .dataframe tbody tr th:only-of-type {\n",
       "        vertical-align: middle;\n",
       "    }\n",
       "\n",
       "    .dataframe tbody tr th {\n",
       "        vertical-align: top;\n",
       "    }\n",
       "\n",
       "    .dataframe thead th {\n",
       "        text-align: right;\n",
       "    }\n",
       "</style>\n",
       "<table border=\"1\" class=\"dataframe\">\n",
       "  <thead>\n",
       "    <tr style=\"text-align: right;\">\n",
       "      <th></th>\n",
       "      <th>Date</th>\n",
       "      <th>Binomial</th>\n",
       "    </tr>\n",
       "  </thead>\n",
       "  <tbody>\n",
       "    <tr>\n",
       "      <th>0</th>\n",
       "      <td>2022-04-01</td>\n",
       "      <td>26</td>\n",
       "    </tr>\n",
       "    <tr>\n",
       "      <th>1</th>\n",
       "      <td>2022-04-01</td>\n",
       "      <td>10</td>\n",
       "    </tr>\n",
       "    <tr>\n",
       "      <th>2</th>\n",
       "      <td>2022-04-01</td>\n",
       "      <td>16</td>\n",
       "    </tr>\n",
       "    <tr>\n",
       "      <th>3</th>\n",
       "      <td>2022-04-02</td>\n",
       "      <td>24</td>\n",
       "    </tr>\n",
       "    <tr>\n",
       "      <th>4</th>\n",
       "      <td>2022-04-02</td>\n",
       "      <td>3</td>\n",
       "    </tr>\n",
       "    <tr>\n",
       "      <th>...</th>\n",
       "      <td>...</td>\n",
       "      <td>...</td>\n",
       "    </tr>\n",
       "    <tr>\n",
       "      <th>262</th>\n",
       "      <td>2022-06-27</td>\n",
       "      <td>16</td>\n",
       "    </tr>\n",
       "    <tr>\n",
       "      <th>263</th>\n",
       "      <td>2022-06-27</td>\n",
       "      <td>11</td>\n",
       "    </tr>\n",
       "    <tr>\n",
       "      <th>264</th>\n",
       "      <td>2022-06-28</td>\n",
       "      <td>31</td>\n",
       "    </tr>\n",
       "    <tr>\n",
       "      <th>265</th>\n",
       "      <td>2022-06-28</td>\n",
       "      <td>4</td>\n",
       "    </tr>\n",
       "    <tr>\n",
       "      <th>266</th>\n",
       "      <td>2022-06-28</td>\n",
       "      <td>28</td>\n",
       "    </tr>\n",
       "  </tbody>\n",
       "</table>\n",
       "<p>267 rows × 2 columns</p>\n",
       "</div>"
      ],
      "text/plain": [
       "           Date  Binomial\n",
       "0    2022-04-01        26\n",
       "1    2022-04-01        10\n",
       "2    2022-04-01        16\n",
       "3    2022-04-02        24\n",
       "4    2022-04-02         3\n",
       "..          ...       ...\n",
       "262  2022-06-27        16\n",
       "263  2022-06-27        11\n",
       "264  2022-06-28        31\n",
       "265  2022-06-28         4\n",
       "266  2022-06-28        28\n",
       "\n",
       "[267 rows x 2 columns]"
      ]
     },
     "execution_count": 102,
     "metadata": {},
     "output_type": "execute_result"
    }
   ],
   "source": [
    "dates = []\n",
    "binom = []\n",
    "for i in range(89):\n",
    "    dates.append(Date[i])\n",
    "    dates.append(Date[i])\n",
    "    dates.append(Date[i])\n",
    "    binom.append(binomial_AQ2[i])\n",
    "    binom.append(binomial_BQ2[i])\n",
    "    binom.append(binomial_CQ2[i])\n",
    "\n",
    "aggregate = pd.DataFrame({'Date': dates, \n",
    "                        'Binomial': binom})\n",
    "aggregate"
   ]
  },
  {
   "cell_type": "code",
   "execution_count": 103,
   "metadata": {},
   "outputs": [],
   "source": [
    "# aggregate['Binomial'].replace(to_replace=[0, -1], value=[9, 3], inplace=True"
   ]
  },
  {
   "cell_type": "code",
   "execution_count": 104,
   "metadata": {
    "id": "Q_q0809r0xgp"
   },
   "outputs": [],
   "source": [
    "# binos_sim = [(rnd.binomial(5510, aggregate['Binomial'], 50000).mean() + rnd.binomial(a, b).astype(int) - n_ABC) for a, b in zip (total_quant, zip(Prob_A, Prob_B, Prob_C))]\n",
    "# binos_sim"
   ]
  },
  {
   "cell_type": "code",
   "execution_count": null,
   "metadata": {},
   "outputs": [],
   "source": []
  },
  {
   "cell_type": "code",
   "execution_count": null,
   "metadata": {},
   "outputs": [],
   "source": []
  },
  {
   "cell_type": "code",
   "execution_count": null,
   "metadata": {},
   "outputs": [],
   "source": []
  },
  {
   "cell_type": "code",
   "execution_count": null,
   "metadata": {},
   "outputs": [],
   "source": []
  },
  {
   "cell_type": "code",
   "execution_count": null,
   "metadata": {},
   "outputs": [],
   "source": []
  },
  {
   "cell_type": "code",
   "execution_count": null,
   "metadata": {},
   "outputs": [],
   "source": []
  },
  {
   "cell_type": "code",
   "execution_count": null,
   "metadata": {},
   "outputs": [],
   "source": []
  },
  {
   "cell_type": "markdown",
   "metadata": {
    "id": "mWBDVPFxTxhU"
   },
   "source": [
    "## Poisson Processes: \n",
    "\n",
    "Use the Poisson process to predict the quantity of products that will be sold each day across each of the branches in Q2. Run a different simulation to estimate the waiting times between each sale, from day to day."
   ]
  },
  {
   "cell_type": "code",
   "execution_count": null,
   "metadata": {
    "id": "I_yT47XLUIy_"
   },
   "outputs": [],
   "source": []
  },
  {
   "cell_type": "code",
   "execution_count": null,
   "metadata": {
    "id": "KEjyV6bvUJOo"
   },
   "outputs": [],
   "source": []
  },
  {
   "cell_type": "code",
   "execution_count": null,
   "metadata": {
    "id": "a3zAoaP-UJnp"
   },
   "outputs": [],
   "source": []
  },
  {
   "cell_type": "code",
   "execution_count": null,
   "metadata": {
    "id": "X1pHkL2ZUKAu"
   },
   "outputs": [],
   "source": []
  },
  {
   "cell_type": "markdown",
   "metadata": {
    "id": "ss2mP9PdT9eO"
   },
   "source": [
    "##  Robust Bayesian Inference:\n",
    "Combine the results from the multinomial and Poisson processes in the Q2\n",
    "simulation for all 3 branches, and use Bayesian inference to predict the product line for each sale that will be made in Q2 given the branches."
   ]
  },
  {
   "cell_type": "code",
   "execution_count": null,
   "metadata": {
    "id": "Teq2vv33qVq8"
   },
   "outputs": [],
   "source": []
  },
  {
   "cell_type": "code",
   "execution_count": null,
   "metadata": {
    "id": "iMoL8k6yUNfZ"
   },
   "outputs": [],
   "source": []
  },
  {
   "cell_type": "code",
   "execution_count": null,
   "metadata": {
    "id": "SNtYLsbIUNb1"
   },
   "outputs": [],
   "source": []
  },
  {
   "cell_type": "code",
   "execution_count": null,
   "metadata": {
    "id": "5-6EkOpIUNXG"
   },
   "outputs": [],
   "source": []
  },
  {
   "cell_type": "code",
   "execution_count": null,
   "metadata": {
    "id": "lXAxABL6UNO3"
   },
   "outputs": [],
   "source": []
  },
  {
   "cell_type": "code",
   "execution_count": null,
   "metadata": {
    "id": "yoadsOevUNLW"
   },
   "outputs": [],
   "source": []
  }
 ],
 "metadata": {
  "accelerator": "GPU",
  "colab": {
   "collapsed_sections": [],
   "name": "Copy of Probabilistic Sales Forecasting.ipynb",
   "provenance": [],
   "toc_visible": true
  },
  "kernelspec": {
   "display_name": "Python 3 (ipykernel)",
   "language": "python",
   "name": "python3"
  },
  "language_info": {
   "codemirror_mode": {
    "name": "ipython",
    "version": 3
   },
   "file_extension": ".py",
   "mimetype": "text/x-python",
   "name": "python",
   "nbconvert_exporter": "python",
   "pygments_lexer": "ipython3",
   "version": "3.8.8"
  }
 },
 "nbformat": 4,
 "nbformat_minor": 4
}
